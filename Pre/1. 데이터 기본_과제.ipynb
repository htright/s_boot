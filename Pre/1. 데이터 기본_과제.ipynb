{
 "cells": [
  {
   "cell_type": "code",
   "execution_count": 1,
   "id": "dd090515",
   "metadata": {},
   "outputs": [],
   "source": [
    "#과제(1)\n",
    "#  x = 5.0, y = 3 을 입력하고, 결과창으로\n",
    "# \"x + y = 8.0 입니다\" 를 출력"
   ]
  },
  {
   "cell_type": "code",
   "execution_count": 2,
   "id": "eee7f735",
   "metadata": {},
   "outputs": [],
   "source": [
    "x=5.0\n",
    "y=3"
   ]
  },
  {
   "cell_type": "code",
   "execution_count": 11,
   "id": "2265aabe",
   "metadata": {},
   "outputs": [
    {
     "name": "stdout",
     "output_type": "stream",
     "text": [
      " x + y = 8.0 입니다.\n"
     ]
    }
   ],
   "source": [
    "print(\"\"\" x + y = {} 입니다.\"\"\".format(x+y))"
   ]
  },
  {
   "cell_type": "code",
   "execution_count": null,
   "id": "b99e27f9",
   "metadata": {},
   "outputs": [],
   "source": [
    "#과제(2)\n",
    "# x = \"than3k\"\n",
    "# y = \"yo97u\"\n",
    "# x와 y를 위와 같이 선언한 후에, \"thank you\"를 출력해본다."
   ]
  },
  {
   "cell_type": "code",
   "execution_count": 12,
   "id": "c89d02c3",
   "metadata": {},
   "outputs": [],
   "source": [
    "x = \"than3k\"\n",
    "y = \"yo97u\""
   ]
  },
  {
   "cell_type": "code",
   "execution_count": 13,
   "id": "22e676d1",
   "metadata": {},
   "outputs": [
    {
     "name": "stdout",
     "output_type": "stream",
     "text": [
      "thank you\n"
     ]
    }
   ],
   "source": [
    "print(x.replace(\"3\",\"\") + \" \" + y.replace(\"97\",\"\"))"
   ]
  }
 ],
 "metadata": {
  "kernelspec": {
   "display_name": "Python 3 (ipykernel)",
   "language": "python",
   "name": "python3"
  },
  "language_info": {
   "codemirror_mode": {
    "name": "ipython",
    "version": 3
   },
   "file_extension": ".py",
   "mimetype": "text/x-python",
   "name": "python",
   "nbconvert_exporter": "python",
   "pygments_lexer": "ipython3",
   "version": "3.9.7"
  }
 },
 "nbformat": 4,
 "nbformat_minor": 5
}
