{
 "cells": [
  {
   "cell_type": "markdown",
   "metadata": {},
   "source": [
    "## Histogram"
   ]
  },
  {
   "cell_type": "code",
   "execution_count": 1,
   "metadata": {},
   "outputs": [],
   "source": [
    "import numpy as np\n",
    "import pandas as pd\n",
    "from urllib.request import urlopen\n",
    "import json\n",
    "import plotly.io as pio\n",
    "import plotly.express as px\n",
    "import plotly.graph_objects as go\n",
    "import plotly.figure_factory as ff\n",
    "from plotly.subplots import make_subplots\n",
    "from plotly.validators.scatter.marker import SymbolValidator"
   ]
  },
  {
   "cell_type": "code",
   "execution_count": 2,
   "metadata": {},
   "outputs": [
    {
     "data": {
      "text/html": [
       "<div>\n",
       "<style scoped>\n",
       "    .dataframe tbody tr th:only-of-type {\n",
       "        vertical-align: middle;\n",
       "    }\n",
       "\n",
       "    .dataframe tbody tr th {\n",
       "        vertical-align: top;\n",
       "    }\n",
       "\n",
       "    .dataframe thead th {\n",
       "        text-align: right;\n",
       "    }\n",
       "</style>\n",
       "<table border=\"1\" class=\"dataframe\">\n",
       "  <thead>\n",
       "    <tr style=\"text-align: right;\">\n",
       "      <th></th>\n",
       "      <th>total_bill</th>\n",
       "      <th>tip</th>\n",
       "      <th>sex</th>\n",
       "      <th>smoker</th>\n",
       "      <th>day</th>\n",
       "      <th>time</th>\n",
       "      <th>size</th>\n",
       "    </tr>\n",
       "  </thead>\n",
       "  <tbody>\n",
       "    <tr>\n",
       "      <th>0</th>\n",
       "      <td>16.99</td>\n",
       "      <td>1.01</td>\n",
       "      <td>Female</td>\n",
       "      <td>No</td>\n",
       "      <td>Sun</td>\n",
       "      <td>Dinner</td>\n",
       "      <td>2</td>\n",
       "    </tr>\n",
       "    <tr>\n",
       "      <th>1</th>\n",
       "      <td>10.34</td>\n",
       "      <td>1.66</td>\n",
       "      <td>Male</td>\n",
       "      <td>No</td>\n",
       "      <td>Sun</td>\n",
       "      <td>Dinner</td>\n",
       "      <td>3</td>\n",
       "    </tr>\n",
       "    <tr>\n",
       "      <th>2</th>\n",
       "      <td>21.01</td>\n",
       "      <td>3.50</td>\n",
       "      <td>Male</td>\n",
       "      <td>No</td>\n",
       "      <td>Sun</td>\n",
       "      <td>Dinner</td>\n",
       "      <td>3</td>\n",
       "    </tr>\n",
       "    <tr>\n",
       "      <th>3</th>\n",
       "      <td>23.68</td>\n",
       "      <td>3.31</td>\n",
       "      <td>Male</td>\n",
       "      <td>No</td>\n",
       "      <td>Sun</td>\n",
       "      <td>Dinner</td>\n",
       "      <td>2</td>\n",
       "    </tr>\n",
       "    <tr>\n",
       "      <th>4</th>\n",
       "      <td>24.59</td>\n",
       "      <td>3.61</td>\n",
       "      <td>Female</td>\n",
       "      <td>No</td>\n",
       "      <td>Sun</td>\n",
       "      <td>Dinner</td>\n",
       "      <td>4</td>\n",
       "    </tr>\n",
       "  </tbody>\n",
       "</table>\n",
       "</div>"
      ],
      "text/plain": [
       "   total_bill   tip     sex smoker  day    time  size\n",
       "0       16.99  1.01  Female     No  Sun  Dinner     2\n",
       "1       10.34  1.66    Male     No  Sun  Dinner     3\n",
       "2       21.01  3.50    Male     No  Sun  Dinner     3\n",
       "3       23.68  3.31    Male     No  Sun  Dinner     2\n",
       "4       24.59  3.61  Female     No  Sun  Dinner     4"
      ]
     },
     "execution_count": 2,
     "metadata": {},
     "output_type": "execute_result"
    }
   ],
   "source": [
    "tips = px.data.tips()\n",
    "tips.head()"
   ]
  },
  {
   "cell_type": "code",
   "execution_count": 5,
   "metadata": {},
   "outputs": [
    {
     "data": {
      "application/vnd.plotly.v1+json": {
       "config": {
        "plotlyServerURL": "https://plot.ly"
       },
       "data": [
        {
         "alignmentgroup": "True",
         "bingroup": "x",
         "hovertemplate": "total_bill=%{x}<br>count=%{y}<extra></extra>",
         "legendgroup": "",
         "marker": {
          "color": "#636efa"
         },
         "name": "",
         "offsetgroup": "",
         "orientation": "v",
         "showlegend": false,
         "type": "histogram",
         "x": [
          16.99,
          10.34,
          21.01,
          23.68,
          24.59,
          25.29,
          8.77,
          26.88,
          15.04,
          14.78,
          10.27,
          35.26,
          15.42,
          18.43,
          14.83,
          21.58,
          10.33,
          16.29,
          16.97,
          20.65,
          17.92,
          20.29,
          15.77,
          39.42,
          19.82,
          17.81,
          13.37,
          12.69,
          21.7,
          19.65,
          9.55,
          18.35,
          15.06,
          20.69,
          17.78,
          24.06,
          16.31,
          16.93,
          18.69,
          31.27,
          16.04,
          17.46,
          13.94,
          9.68,
          30.4,
          18.29,
          22.23,
          32.4,
          28.55,
          18.04,
          12.54,
          10.29,
          34.81,
          9.94,
          25.56,
          19.49,
          38.01,
          26.41,
          11.24,
          48.27,
          20.29,
          13.81,
          11.02,
          18.29,
          17.59,
          20.08,
          16.45,
          3.07,
          20.23,
          15.01,
          12.02,
          17.07,
          26.86,
          25.28,
          14.73,
          10.51,
          17.92,
          27.2,
          22.76,
          17.29,
          19.44,
          16.66,
          10.07,
          32.68,
          15.98,
          34.83,
          13.03,
          18.28,
          24.71,
          21.16,
          28.97,
          22.49,
          5.75,
          16.32,
          22.75,
          40.17,
          27.28,
          12.03,
          21.01,
          12.46,
          11.35,
          15.38,
          44.3,
          22.42,
          20.92,
          15.36,
          20.49,
          25.21,
          18.24,
          14.31,
          14,
          7.25,
          38.07,
          23.95,
          25.71,
          17.31,
          29.93,
          10.65,
          12.43,
          24.08,
          11.69,
          13.42,
          14.26,
          15.95,
          12.48,
          29.8,
          8.52,
          14.52,
          11.38,
          22.82,
          19.08,
          20.27,
          11.17,
          12.26,
          18.26,
          8.51,
          10.33,
          14.15,
          16,
          13.16,
          17.47,
          34.3,
          41.19,
          27.05,
          16.43,
          8.35,
          18.64,
          11.87,
          9.78,
          7.51,
          14.07,
          13.13,
          17.26,
          24.55,
          19.77,
          29.85,
          48.17,
          25,
          13.39,
          16.49,
          21.5,
          12.66,
          16.21,
          13.81,
          17.51,
          24.52,
          20.76,
          31.71,
          10.59,
          10.63,
          50.81,
          15.81,
          7.25,
          31.85,
          16.82,
          32.9,
          17.89,
          14.48,
          9.6,
          34.63,
          34.65,
          23.33,
          45.35,
          23.17,
          40.55,
          20.69,
          20.9,
          30.46,
          18.15,
          23.1,
          15.69,
          19.81,
          28.44,
          15.48,
          16.58,
          7.56,
          10.34,
          43.11,
          13,
          13.51,
          18.71,
          12.74,
          13,
          16.4,
          20.53,
          16.47,
          26.59,
          38.73,
          24.27,
          12.76,
          30.06,
          25.89,
          48.33,
          13.27,
          28.17,
          12.9,
          28.15,
          11.59,
          7.74,
          30.14,
          12.16,
          13.42,
          8.58,
          15.98,
          13.42,
          16.27,
          10.09,
          20.45,
          13.28,
          22.12,
          24.01,
          15.69,
          11.61,
          10.77,
          15.53,
          10.07,
          12.6,
          32.83,
          35.83,
          29.03,
          27.18,
          22.67,
          17.82,
          18.78
         ],
         "xaxis": "x",
         "yaxis": "y"
        }
       ],
       "layout": {
        "barmode": "relative",
        "legend": {
         "tracegroupgap": 0
        },
        "margin": {
         "t": 60
        },
        "template": {
         "data": {
          "bar": [
           {
            "error_x": {
             "color": "#2a3f5f"
            },
            "error_y": {
             "color": "#2a3f5f"
            },
            "marker": {
             "line": {
              "color": "#E5ECF6",
              "width": 0.5
             }
            },
            "type": "bar"
           }
          ],
          "barpolar": [
           {
            "marker": {
             "line": {
              "color": "#E5ECF6",
              "width": 0.5
             }
            },
            "type": "barpolar"
           }
          ],
          "carpet": [
           {
            "aaxis": {
             "endlinecolor": "#2a3f5f",
             "gridcolor": "white",
             "linecolor": "white",
             "minorgridcolor": "white",
             "startlinecolor": "#2a3f5f"
            },
            "baxis": {
             "endlinecolor": "#2a3f5f",
             "gridcolor": "white",
             "linecolor": "white",
             "minorgridcolor": "white",
             "startlinecolor": "#2a3f5f"
            },
            "type": "carpet"
           }
          ],
          "choropleth": [
           {
            "colorbar": {
             "outlinewidth": 0,
             "ticks": ""
            },
            "type": "choropleth"
           }
          ],
          "contour": [
           {
            "colorbar": {
             "outlinewidth": 0,
             "ticks": ""
            },
            "colorscale": [
             [
              0,
              "#0d0887"
             ],
             [
              0.1111111111111111,
              "#46039f"
             ],
             [
              0.2222222222222222,
              "#7201a8"
             ],
             [
              0.3333333333333333,
              "#9c179e"
             ],
             [
              0.4444444444444444,
              "#bd3786"
             ],
             [
              0.5555555555555556,
              "#d8576b"
             ],
             [
              0.6666666666666666,
              "#ed7953"
             ],
             [
              0.7777777777777778,
              "#fb9f3a"
             ],
             [
              0.8888888888888888,
              "#fdca26"
             ],
             [
              1,
              "#f0f921"
             ]
            ],
            "type": "contour"
           }
          ],
          "contourcarpet": [
           {
            "colorbar": {
             "outlinewidth": 0,
             "ticks": ""
            },
            "type": "contourcarpet"
           }
          ],
          "heatmap": [
           {
            "colorbar": {
             "outlinewidth": 0,
             "ticks": ""
            },
            "colorscale": [
             [
              0,
              "#0d0887"
             ],
             [
              0.1111111111111111,
              "#46039f"
             ],
             [
              0.2222222222222222,
              "#7201a8"
             ],
             [
              0.3333333333333333,
              "#9c179e"
             ],
             [
              0.4444444444444444,
              "#bd3786"
             ],
             [
              0.5555555555555556,
              "#d8576b"
             ],
             [
              0.6666666666666666,
              "#ed7953"
             ],
             [
              0.7777777777777778,
              "#fb9f3a"
             ],
             [
              0.8888888888888888,
              "#fdca26"
             ],
             [
              1,
              "#f0f921"
             ]
            ],
            "type": "heatmap"
           }
          ],
          "heatmapgl": [
           {
            "colorbar": {
             "outlinewidth": 0,
             "ticks": ""
            },
            "colorscale": [
             [
              0,
              "#0d0887"
             ],
             [
              0.1111111111111111,
              "#46039f"
             ],
             [
              0.2222222222222222,
              "#7201a8"
             ],
             [
              0.3333333333333333,
              "#9c179e"
             ],
             [
              0.4444444444444444,
              "#bd3786"
             ],
             [
              0.5555555555555556,
              "#d8576b"
             ],
             [
              0.6666666666666666,
              "#ed7953"
             ],
             [
              0.7777777777777778,
              "#fb9f3a"
             ],
             [
              0.8888888888888888,
              "#fdca26"
             ],
             [
              1,
              "#f0f921"
             ]
            ],
            "type": "heatmapgl"
           }
          ],
          "histogram": [
           {
            "marker": {
             "colorbar": {
              "outlinewidth": 0,
              "ticks": ""
             }
            },
            "type": "histogram"
           }
          ],
          "histogram2d": [
           {
            "colorbar": {
             "outlinewidth": 0,
             "ticks": ""
            },
            "colorscale": [
             [
              0,
              "#0d0887"
             ],
             [
              0.1111111111111111,
              "#46039f"
             ],
             [
              0.2222222222222222,
              "#7201a8"
             ],
             [
              0.3333333333333333,
              "#9c179e"
             ],
             [
              0.4444444444444444,
              "#bd3786"
             ],
             [
              0.5555555555555556,
              "#d8576b"
             ],
             [
              0.6666666666666666,
              "#ed7953"
             ],
             [
              0.7777777777777778,
              "#fb9f3a"
             ],
             [
              0.8888888888888888,
              "#fdca26"
             ],
             [
              1,
              "#f0f921"
             ]
            ],
            "type": "histogram2d"
           }
          ],
          "histogram2dcontour": [
           {
            "colorbar": {
             "outlinewidth": 0,
             "ticks": ""
            },
            "colorscale": [
             [
              0,
              "#0d0887"
             ],
             [
              0.1111111111111111,
              "#46039f"
             ],
             [
              0.2222222222222222,
              "#7201a8"
             ],
             [
              0.3333333333333333,
              "#9c179e"
             ],
             [
              0.4444444444444444,
              "#bd3786"
             ],
             [
              0.5555555555555556,
              "#d8576b"
             ],
             [
              0.6666666666666666,
              "#ed7953"
             ],
             [
              0.7777777777777778,
              "#fb9f3a"
             ],
             [
              0.8888888888888888,
              "#fdca26"
             ],
             [
              1,
              "#f0f921"
             ]
            ],
            "type": "histogram2dcontour"
           }
          ],
          "mesh3d": [
           {
            "colorbar": {
             "outlinewidth": 0,
             "ticks": ""
            },
            "type": "mesh3d"
           }
          ],
          "parcoords": [
           {
            "line": {
             "colorbar": {
              "outlinewidth": 0,
              "ticks": ""
             }
            },
            "type": "parcoords"
           }
          ],
          "pie": [
           {
            "automargin": true,
            "type": "pie"
           }
          ],
          "scatter": [
           {
            "marker": {
             "colorbar": {
              "outlinewidth": 0,
              "ticks": ""
             }
            },
            "type": "scatter"
           }
          ],
          "scatter3d": [
           {
            "line": {
             "colorbar": {
              "outlinewidth": 0,
              "ticks": ""
             }
            },
            "marker": {
             "colorbar": {
              "outlinewidth": 0,
              "ticks": ""
             }
            },
            "type": "scatter3d"
           }
          ],
          "scattercarpet": [
           {
            "marker": {
             "colorbar": {
              "outlinewidth": 0,
              "ticks": ""
             }
            },
            "type": "scattercarpet"
           }
          ],
          "scattergeo": [
           {
            "marker": {
             "colorbar": {
              "outlinewidth": 0,
              "ticks": ""
             }
            },
            "type": "scattergeo"
           }
          ],
          "scattergl": [
           {
            "marker": {
             "colorbar": {
              "outlinewidth": 0,
              "ticks": ""
             }
            },
            "type": "scattergl"
           }
          ],
          "scattermapbox": [
           {
            "marker": {
             "colorbar": {
              "outlinewidth": 0,
              "ticks": ""
             }
            },
            "type": "scattermapbox"
           }
          ],
          "scatterpolar": [
           {
            "marker": {
             "colorbar": {
              "outlinewidth": 0,
              "ticks": ""
             }
            },
            "type": "scatterpolar"
           }
          ],
          "scatterpolargl": [
           {
            "marker": {
             "colorbar": {
              "outlinewidth": 0,
              "ticks": ""
             }
            },
            "type": "scatterpolargl"
           }
          ],
          "scatterternary": [
           {
            "marker": {
             "colorbar": {
              "outlinewidth": 0,
              "ticks": ""
             }
            },
            "type": "scatterternary"
           }
          ],
          "surface": [
           {
            "colorbar": {
             "outlinewidth": 0,
             "ticks": ""
            },
            "colorscale": [
             [
              0,
              "#0d0887"
             ],
             [
              0.1111111111111111,
              "#46039f"
             ],
             [
              0.2222222222222222,
              "#7201a8"
             ],
             [
              0.3333333333333333,
              "#9c179e"
             ],
             [
              0.4444444444444444,
              "#bd3786"
             ],
             [
              0.5555555555555556,
              "#d8576b"
             ],
             [
              0.6666666666666666,
              "#ed7953"
             ],
             [
              0.7777777777777778,
              "#fb9f3a"
             ],
             [
              0.8888888888888888,
              "#fdca26"
             ],
             [
              1,
              "#f0f921"
             ]
            ],
            "type": "surface"
           }
          ],
          "table": [
           {
            "cells": {
             "fill": {
              "color": "#EBF0F8"
             },
             "line": {
              "color": "white"
             }
            },
            "header": {
             "fill": {
              "color": "#C8D4E3"
             },
             "line": {
              "color": "white"
             }
            },
            "type": "table"
           }
          ]
         },
         "layout": {
          "annotationdefaults": {
           "arrowcolor": "#2a3f5f",
           "arrowhead": 0,
           "arrowwidth": 1
          },
          "autotypenumbers": "strict",
          "coloraxis": {
           "colorbar": {
            "outlinewidth": 0,
            "ticks": ""
           }
          },
          "colorscale": {
           "diverging": [
            [
             0,
             "#8e0152"
            ],
            [
             0.1,
             "#c51b7d"
            ],
            [
             0.2,
             "#de77ae"
            ],
            [
             0.3,
             "#f1b6da"
            ],
            [
             0.4,
             "#fde0ef"
            ],
            [
             0.5,
             "#f7f7f7"
            ],
            [
             0.6,
             "#e6f5d0"
            ],
            [
             0.7,
             "#b8e186"
            ],
            [
             0.8,
             "#7fbc41"
            ],
            [
             0.9,
             "#4d9221"
            ],
            [
             1,
             "#276419"
            ]
           ],
           "sequential": [
            [
             0,
             "#0d0887"
            ],
            [
             0.1111111111111111,
             "#46039f"
            ],
            [
             0.2222222222222222,
             "#7201a8"
            ],
            [
             0.3333333333333333,
             "#9c179e"
            ],
            [
             0.4444444444444444,
             "#bd3786"
            ],
            [
             0.5555555555555556,
             "#d8576b"
            ],
            [
             0.6666666666666666,
             "#ed7953"
            ],
            [
             0.7777777777777778,
             "#fb9f3a"
            ],
            [
             0.8888888888888888,
             "#fdca26"
            ],
            [
             1,
             "#f0f921"
            ]
           ],
           "sequentialminus": [
            [
             0,
             "#0d0887"
            ],
            [
             0.1111111111111111,
             "#46039f"
            ],
            [
             0.2222222222222222,
             "#7201a8"
            ],
            [
             0.3333333333333333,
             "#9c179e"
            ],
            [
             0.4444444444444444,
             "#bd3786"
            ],
            [
             0.5555555555555556,
             "#d8576b"
            ],
            [
             0.6666666666666666,
             "#ed7953"
            ],
            [
             0.7777777777777778,
             "#fb9f3a"
            ],
            [
             0.8888888888888888,
             "#fdca26"
            ],
            [
             1,
             "#f0f921"
            ]
           ]
          },
          "colorway": [
           "#636efa",
           "#EF553B",
           "#00cc96",
           "#ab63fa",
           "#FFA15A",
           "#19d3f3",
           "#FF6692",
           "#B6E880",
           "#FF97FF",
           "#FECB52"
          ],
          "font": {
           "color": "#2a3f5f"
          },
          "geo": {
           "bgcolor": "white",
           "lakecolor": "white",
           "landcolor": "#E5ECF6",
           "showlakes": true,
           "showland": true,
           "subunitcolor": "white"
          },
          "hoverlabel": {
           "align": "left"
          },
          "hovermode": "closest",
          "mapbox": {
           "style": "light"
          },
          "paper_bgcolor": "white",
          "plot_bgcolor": "#E5ECF6",
          "polar": {
           "angularaxis": {
            "gridcolor": "white",
            "linecolor": "white",
            "ticks": ""
           },
           "bgcolor": "#E5ECF6",
           "radialaxis": {
            "gridcolor": "white",
            "linecolor": "white",
            "ticks": ""
           }
          },
          "scene": {
           "xaxis": {
            "backgroundcolor": "#E5ECF6",
            "gridcolor": "white",
            "gridwidth": 2,
            "linecolor": "white",
            "showbackground": true,
            "ticks": "",
            "zerolinecolor": "white"
           },
           "yaxis": {
            "backgroundcolor": "#E5ECF6",
            "gridcolor": "white",
            "gridwidth": 2,
            "linecolor": "white",
            "showbackground": true,
            "ticks": "",
            "zerolinecolor": "white"
           },
           "zaxis": {
            "backgroundcolor": "#E5ECF6",
            "gridcolor": "white",
            "gridwidth": 2,
            "linecolor": "white",
            "showbackground": true,
            "ticks": "",
            "zerolinecolor": "white"
           }
          },
          "shapedefaults": {
           "line": {
            "color": "#2a3f5f"
           }
          },
          "ternary": {
           "aaxis": {
            "gridcolor": "white",
            "linecolor": "white",
            "ticks": ""
           },
           "baxis": {
            "gridcolor": "white",
            "linecolor": "white",
            "ticks": ""
           },
           "bgcolor": "#E5ECF6",
           "caxis": {
            "gridcolor": "white",
            "linecolor": "white",
            "ticks": ""
           }
          },
          "title": {
           "x": 0.05
          },
          "xaxis": {
           "automargin": true,
           "gridcolor": "white",
           "linecolor": "white",
           "ticks": "",
           "title": {
            "standoff": 15
           },
           "zerolinecolor": "white",
           "zerolinewidth": 2
          },
          "yaxis": {
           "automargin": true,
           "gridcolor": "white",
           "linecolor": "white",
           "ticks": "",
           "title": {
            "standoff": 15
           },
           "zerolinecolor": "white",
           "zerolinewidth": 2
          }
         }
        },
        "xaxis": {
         "anchor": "y",
         "domain": [
          0,
          1
         ],
         "title": {
          "text": "total_bill"
         }
        },
        "yaxis": {
         "anchor": "x",
         "domain": [
          0,
          1
         ],
         "title": {
          "text": "count"
         }
        }
       }
      },
      "text/html": [
       "<div>                            <div id=\"b2c202b3-58ed-45d4-b423-f96d311c8bb4\" class=\"plotly-graph-div\" style=\"height:525px; width:100%;\"></div>            <script type=\"text/javascript\">                require([\"plotly\"], function(Plotly) {                    window.PLOTLYENV=window.PLOTLYENV || {};                                    if (document.getElementById(\"b2c202b3-58ed-45d4-b423-f96d311c8bb4\")) {                    Plotly.newPlot(                        \"b2c202b3-58ed-45d4-b423-f96d311c8bb4\",                        [{\"alignmentgroup\": \"True\", \"bingroup\": \"x\", \"hovertemplate\": \"total_bill=%{x}<br>count=%{y}<extra></extra>\", \"legendgroup\": \"\", \"marker\": {\"color\": \"#636efa\"}, \"name\": \"\", \"offsetgroup\": \"\", \"orientation\": \"v\", \"showlegend\": false, \"type\": \"histogram\", \"x\": [16.99, 10.34, 21.01, 23.68, 24.59, 25.29, 8.77, 26.88, 15.04, 14.78, 10.27, 35.26, 15.42, 18.43, 14.83, 21.58, 10.33, 16.29, 16.97, 20.65, 17.92, 20.29, 15.77, 39.42, 19.82, 17.81, 13.37, 12.69, 21.7, 19.65, 9.55, 18.35, 15.06, 20.69, 17.78, 24.06, 16.31, 16.93, 18.69, 31.27, 16.04, 17.46, 13.94, 9.68, 30.4, 18.29, 22.23, 32.4, 28.55, 18.04, 12.54, 10.29, 34.81, 9.94, 25.56, 19.49, 38.01, 26.41, 11.24, 48.27, 20.29, 13.81, 11.02, 18.29, 17.59, 20.08, 16.45, 3.07, 20.23, 15.01, 12.02, 17.07, 26.86, 25.28, 14.73, 10.51, 17.92, 27.2, 22.76, 17.29, 19.44, 16.66, 10.07, 32.68, 15.98, 34.83, 13.03, 18.28, 24.71, 21.16, 28.97, 22.49, 5.75, 16.32, 22.75, 40.17, 27.28, 12.03, 21.01, 12.46, 11.35, 15.38, 44.3, 22.42, 20.92, 15.36, 20.49, 25.21, 18.24, 14.31, 14.0, 7.25, 38.07, 23.95, 25.71, 17.31, 29.93, 10.65, 12.43, 24.08, 11.69, 13.42, 14.26, 15.95, 12.48, 29.8, 8.52, 14.52, 11.38, 22.82, 19.08, 20.27, 11.17, 12.26, 18.26, 8.51, 10.33, 14.15, 16.0, 13.16, 17.47, 34.3, 41.19, 27.05, 16.43, 8.35, 18.64, 11.87, 9.78, 7.51, 14.07, 13.13, 17.26, 24.55, 19.77, 29.85, 48.17, 25.0, 13.39, 16.49, 21.5, 12.66, 16.21, 13.81, 17.51, 24.52, 20.76, 31.71, 10.59, 10.63, 50.81, 15.81, 7.25, 31.85, 16.82, 32.9, 17.89, 14.48, 9.6, 34.63, 34.65, 23.33, 45.35, 23.17, 40.55, 20.69, 20.9, 30.46, 18.15, 23.1, 15.69, 19.81, 28.44, 15.48, 16.58, 7.56, 10.34, 43.11, 13.0, 13.51, 18.71, 12.74, 13.0, 16.4, 20.53, 16.47, 26.59, 38.73, 24.27, 12.76, 30.06, 25.89, 48.33, 13.27, 28.17, 12.9, 28.15, 11.59, 7.74, 30.14, 12.16, 13.42, 8.58, 15.98, 13.42, 16.27, 10.09, 20.45, 13.28, 22.12, 24.01, 15.69, 11.61, 10.77, 15.53, 10.07, 12.6, 32.83, 35.83, 29.03, 27.18, 22.67, 17.82, 18.78], \"xaxis\": \"x\", \"yaxis\": \"y\"}],                        {\"barmode\": \"relative\", \"legend\": {\"tracegroupgap\": 0}, \"margin\": {\"t\": 60}, \"template\": {\"data\": {\"bar\": [{\"error_x\": {\"color\": \"#2a3f5f\"}, \"error_y\": {\"color\": \"#2a3f5f\"}, \"marker\": {\"line\": {\"color\": \"#E5ECF6\", \"width\": 0.5}}, \"type\": \"bar\"}], \"barpolar\": [{\"marker\": {\"line\": {\"color\": \"#E5ECF6\", \"width\": 0.5}}, \"type\": \"barpolar\"}], \"carpet\": [{\"aaxis\": {\"endlinecolor\": \"#2a3f5f\", \"gridcolor\": \"white\", \"linecolor\": \"white\", \"minorgridcolor\": \"white\", \"startlinecolor\": \"#2a3f5f\"}, \"baxis\": {\"endlinecolor\": \"#2a3f5f\", \"gridcolor\": \"white\", \"linecolor\": \"white\", \"minorgridcolor\": \"white\", \"startlinecolor\": \"#2a3f5f\"}, \"type\": \"carpet\"}], \"choropleth\": [{\"colorbar\": {\"outlinewidth\": 0, \"ticks\": \"\"}, \"type\": \"choropleth\"}], \"contour\": [{\"colorbar\": {\"outlinewidth\": 0, \"ticks\": \"\"}, \"colorscale\": [[0.0, \"#0d0887\"], [0.1111111111111111, \"#46039f\"], [0.2222222222222222, \"#7201a8\"], [0.3333333333333333, \"#9c179e\"], [0.4444444444444444, \"#bd3786\"], [0.5555555555555556, \"#d8576b\"], [0.6666666666666666, \"#ed7953\"], [0.7777777777777778, \"#fb9f3a\"], [0.8888888888888888, \"#fdca26\"], [1.0, \"#f0f921\"]], \"type\": \"contour\"}], \"contourcarpet\": [{\"colorbar\": {\"outlinewidth\": 0, \"ticks\": \"\"}, \"type\": \"contourcarpet\"}], \"heatmap\": [{\"colorbar\": {\"outlinewidth\": 0, \"ticks\": \"\"}, \"colorscale\": [[0.0, \"#0d0887\"], [0.1111111111111111, \"#46039f\"], [0.2222222222222222, \"#7201a8\"], [0.3333333333333333, \"#9c179e\"], [0.4444444444444444, \"#bd3786\"], [0.5555555555555556, \"#d8576b\"], [0.6666666666666666, \"#ed7953\"], [0.7777777777777778, \"#fb9f3a\"], [0.8888888888888888, \"#fdca26\"], [1.0, \"#f0f921\"]], \"type\": \"heatmap\"}], \"heatmapgl\": [{\"colorbar\": {\"outlinewidth\": 0, \"ticks\": \"\"}, \"colorscale\": [[0.0, \"#0d0887\"], [0.1111111111111111, \"#46039f\"], [0.2222222222222222, \"#7201a8\"], [0.3333333333333333, \"#9c179e\"], [0.4444444444444444, \"#bd3786\"], [0.5555555555555556, \"#d8576b\"], [0.6666666666666666, \"#ed7953\"], [0.7777777777777778, \"#fb9f3a\"], [0.8888888888888888, \"#fdca26\"], [1.0, \"#f0f921\"]], \"type\": \"heatmapgl\"}], \"histogram\": [{\"marker\": {\"colorbar\": {\"outlinewidth\": 0, \"ticks\": \"\"}}, \"type\": \"histogram\"}], \"histogram2d\": [{\"colorbar\": {\"outlinewidth\": 0, \"ticks\": \"\"}, \"colorscale\": [[0.0, \"#0d0887\"], [0.1111111111111111, \"#46039f\"], [0.2222222222222222, \"#7201a8\"], [0.3333333333333333, \"#9c179e\"], [0.4444444444444444, \"#bd3786\"], [0.5555555555555556, \"#d8576b\"], [0.6666666666666666, \"#ed7953\"], [0.7777777777777778, \"#fb9f3a\"], [0.8888888888888888, \"#fdca26\"], [1.0, \"#f0f921\"]], \"type\": \"histogram2d\"}], \"histogram2dcontour\": [{\"colorbar\": {\"outlinewidth\": 0, \"ticks\": \"\"}, \"colorscale\": [[0.0, \"#0d0887\"], [0.1111111111111111, \"#46039f\"], [0.2222222222222222, \"#7201a8\"], [0.3333333333333333, \"#9c179e\"], [0.4444444444444444, \"#bd3786\"], [0.5555555555555556, \"#d8576b\"], [0.6666666666666666, \"#ed7953\"], [0.7777777777777778, \"#fb9f3a\"], [0.8888888888888888, \"#fdca26\"], [1.0, \"#f0f921\"]], \"type\": \"histogram2dcontour\"}], \"mesh3d\": [{\"colorbar\": {\"outlinewidth\": 0, \"ticks\": \"\"}, \"type\": \"mesh3d\"}], \"parcoords\": [{\"line\": {\"colorbar\": {\"outlinewidth\": 0, \"ticks\": \"\"}}, \"type\": \"parcoords\"}], \"pie\": [{\"automargin\": true, \"type\": \"pie\"}], \"scatter\": [{\"marker\": {\"colorbar\": {\"outlinewidth\": 0, \"ticks\": \"\"}}, \"type\": \"scatter\"}], \"scatter3d\": [{\"line\": {\"colorbar\": {\"outlinewidth\": 0, \"ticks\": \"\"}}, \"marker\": {\"colorbar\": {\"outlinewidth\": 0, \"ticks\": \"\"}}, \"type\": \"scatter3d\"}], \"scattercarpet\": [{\"marker\": {\"colorbar\": {\"outlinewidth\": 0, \"ticks\": \"\"}}, \"type\": \"scattercarpet\"}], \"scattergeo\": [{\"marker\": {\"colorbar\": {\"outlinewidth\": 0, \"ticks\": \"\"}}, \"type\": \"scattergeo\"}], \"scattergl\": [{\"marker\": {\"colorbar\": {\"outlinewidth\": 0, \"ticks\": \"\"}}, \"type\": \"scattergl\"}], \"scattermapbox\": [{\"marker\": {\"colorbar\": {\"outlinewidth\": 0, \"ticks\": \"\"}}, \"type\": \"scattermapbox\"}], \"scatterpolar\": [{\"marker\": {\"colorbar\": {\"outlinewidth\": 0, \"ticks\": \"\"}}, \"type\": \"scatterpolar\"}], \"scatterpolargl\": [{\"marker\": {\"colorbar\": {\"outlinewidth\": 0, \"ticks\": \"\"}}, \"type\": \"scatterpolargl\"}], \"scatterternary\": [{\"marker\": {\"colorbar\": {\"outlinewidth\": 0, \"ticks\": \"\"}}, \"type\": \"scatterternary\"}], \"surface\": [{\"colorbar\": {\"outlinewidth\": 0, \"ticks\": \"\"}, \"colorscale\": [[0.0, \"#0d0887\"], [0.1111111111111111, \"#46039f\"], [0.2222222222222222, \"#7201a8\"], [0.3333333333333333, \"#9c179e\"], [0.4444444444444444, \"#bd3786\"], [0.5555555555555556, \"#d8576b\"], [0.6666666666666666, \"#ed7953\"], [0.7777777777777778, \"#fb9f3a\"], [0.8888888888888888, \"#fdca26\"], [1.0, \"#f0f921\"]], \"type\": \"surface\"}], \"table\": [{\"cells\": {\"fill\": {\"color\": \"#EBF0F8\"}, \"line\": {\"color\": \"white\"}}, \"header\": {\"fill\": {\"color\": \"#C8D4E3\"}, \"line\": {\"color\": \"white\"}}, \"type\": \"table\"}]}, \"layout\": {\"annotationdefaults\": {\"arrowcolor\": \"#2a3f5f\", \"arrowhead\": 0, \"arrowwidth\": 1}, \"autotypenumbers\": \"strict\", \"coloraxis\": {\"colorbar\": {\"outlinewidth\": 0, \"ticks\": \"\"}}, \"colorscale\": {\"diverging\": [[0, \"#8e0152\"], [0.1, \"#c51b7d\"], [0.2, \"#de77ae\"], [0.3, \"#f1b6da\"], [0.4, \"#fde0ef\"], [0.5, \"#f7f7f7\"], [0.6, \"#e6f5d0\"], [0.7, \"#b8e186\"], [0.8, \"#7fbc41\"], [0.9, \"#4d9221\"], [1, \"#276419\"]], \"sequential\": [[0.0, \"#0d0887\"], [0.1111111111111111, \"#46039f\"], [0.2222222222222222, \"#7201a8\"], [0.3333333333333333, \"#9c179e\"], [0.4444444444444444, \"#bd3786\"], [0.5555555555555556, \"#d8576b\"], [0.6666666666666666, \"#ed7953\"], [0.7777777777777778, \"#fb9f3a\"], [0.8888888888888888, \"#fdca26\"], [1.0, \"#f0f921\"]], \"sequentialminus\": [[0.0, \"#0d0887\"], [0.1111111111111111, \"#46039f\"], [0.2222222222222222, \"#7201a8\"], [0.3333333333333333, \"#9c179e\"], [0.4444444444444444, \"#bd3786\"], [0.5555555555555556, \"#d8576b\"], [0.6666666666666666, \"#ed7953\"], [0.7777777777777778, \"#fb9f3a\"], [0.8888888888888888, \"#fdca26\"], [1.0, \"#f0f921\"]]}, \"colorway\": [\"#636efa\", \"#EF553B\", \"#00cc96\", \"#ab63fa\", \"#FFA15A\", \"#19d3f3\", \"#FF6692\", \"#B6E880\", \"#FF97FF\", \"#FECB52\"], \"font\": {\"color\": \"#2a3f5f\"}, \"geo\": {\"bgcolor\": \"white\", \"lakecolor\": \"white\", \"landcolor\": \"#E5ECF6\", \"showlakes\": true, \"showland\": true, \"subunitcolor\": \"white\"}, \"hoverlabel\": {\"align\": \"left\"}, \"hovermode\": \"closest\", \"mapbox\": {\"style\": \"light\"}, \"paper_bgcolor\": \"white\", \"plot_bgcolor\": \"#E5ECF6\", \"polar\": {\"angularaxis\": {\"gridcolor\": \"white\", \"linecolor\": \"white\", \"ticks\": \"\"}, \"bgcolor\": \"#E5ECF6\", \"radialaxis\": {\"gridcolor\": \"white\", \"linecolor\": \"white\", \"ticks\": \"\"}}, \"scene\": {\"xaxis\": {\"backgroundcolor\": \"#E5ECF6\", \"gridcolor\": \"white\", \"gridwidth\": 2, \"linecolor\": \"white\", \"showbackground\": true, \"ticks\": \"\", \"zerolinecolor\": \"white\"}, \"yaxis\": {\"backgroundcolor\": \"#E5ECF6\", \"gridcolor\": \"white\", \"gridwidth\": 2, \"linecolor\": \"white\", \"showbackground\": true, \"ticks\": \"\", \"zerolinecolor\": \"white\"}, \"zaxis\": {\"backgroundcolor\": \"#E5ECF6\", \"gridcolor\": \"white\", \"gridwidth\": 2, \"linecolor\": \"white\", \"showbackground\": true, \"ticks\": \"\", \"zerolinecolor\": \"white\"}}, \"shapedefaults\": {\"line\": {\"color\": \"#2a3f5f\"}}, \"ternary\": {\"aaxis\": {\"gridcolor\": \"white\", \"linecolor\": \"white\", \"ticks\": \"\"}, \"baxis\": {\"gridcolor\": \"white\", \"linecolor\": \"white\", \"ticks\": \"\"}, \"bgcolor\": \"#E5ECF6\", \"caxis\": {\"gridcolor\": \"white\", \"linecolor\": \"white\", \"ticks\": \"\"}}, \"title\": {\"x\": 0.05}, \"xaxis\": {\"automargin\": true, \"gridcolor\": \"white\", \"linecolor\": \"white\", \"ticks\": \"\", \"title\": {\"standoff\": 15}, \"zerolinecolor\": \"white\", \"zerolinewidth\": 2}, \"yaxis\": {\"automargin\": true, \"gridcolor\": \"white\", \"linecolor\": \"white\", \"ticks\": \"\", \"title\": {\"standoff\": 15}, \"zerolinecolor\": \"white\", \"zerolinewidth\": 2}}}, \"xaxis\": {\"anchor\": \"y\", \"domain\": [0.0, 1.0], \"title\": {\"text\": \"total_bill\"}}, \"yaxis\": {\"anchor\": \"x\", \"domain\": [0.0, 1.0], \"title\": {\"text\": \"count\"}}},                        {\"responsive\": true}                    ).then(function(){\n",
       "                            \n",
       "var gd = document.getElementById('b2c202b3-58ed-45d4-b423-f96d311c8bb4');\n",
       "var x = new MutationObserver(function (mutations, observer) {{\n",
       "        var display = window.getComputedStyle(gd).display;\n",
       "        if (!display || display === 'none') {{\n",
       "            console.log([gd, 'removed!']);\n",
       "            Plotly.purge(gd);\n",
       "            observer.disconnect();\n",
       "        }}\n",
       "}});\n",
       "\n",
       "// Listen for the removal of the full notebook cells\n",
       "var notebookContainer = gd.closest('#notebook-container');\n",
       "if (notebookContainer) {{\n",
       "    x.observe(notebookContainer, {childList: true});\n",
       "}}\n",
       "\n",
       "// Listen for the clearing of the current output cell\n",
       "var outputEl = gd.closest('.output');\n",
       "if (outputEl) {{\n",
       "    x.observe(outputEl, {childList: true});\n",
       "}}\n",
       "\n",
       "                        })                };                });            </script>        </div>"
      ]
     },
     "metadata": {},
     "output_type": "display_data"
    }
   ],
   "source": [
    "fig = px.histogram(tips, x='total_bill')\n",
    "fig.show()"
   ]
  },
  {
   "cell_type": "code",
   "execution_count": 7,
   "metadata": {},
   "outputs": [
    {
     "data": {
      "application/vnd.plotly.v1+json": {
       "config": {
        "plotlyServerURL": "https://plot.ly"
       },
       "data": [
        {
         "alignmentgroup": "True",
         "bingroup": "x",
         "hovertemplate": "total_bill=%{x}<br>count=%{y}<extra></extra>",
         "legendgroup": "",
         "marker": {
          "color": "#636efa"
         },
         "name": "",
         "nbinsx": 10,
         "offsetgroup": "",
         "orientation": "v",
         "showlegend": false,
         "type": "histogram",
         "x": [
          16.99,
          10.34,
          21.01,
          23.68,
          24.59,
          25.29,
          8.77,
          26.88,
          15.04,
          14.78,
          10.27,
          35.26,
          15.42,
          18.43,
          14.83,
          21.58,
          10.33,
          16.29,
          16.97,
          20.65,
          17.92,
          20.29,
          15.77,
          39.42,
          19.82,
          17.81,
          13.37,
          12.69,
          21.7,
          19.65,
          9.55,
          18.35,
          15.06,
          20.69,
          17.78,
          24.06,
          16.31,
          16.93,
          18.69,
          31.27,
          16.04,
          17.46,
          13.94,
          9.68,
          30.4,
          18.29,
          22.23,
          32.4,
          28.55,
          18.04,
          12.54,
          10.29,
          34.81,
          9.94,
          25.56,
          19.49,
          38.01,
          26.41,
          11.24,
          48.27,
          20.29,
          13.81,
          11.02,
          18.29,
          17.59,
          20.08,
          16.45,
          3.07,
          20.23,
          15.01,
          12.02,
          17.07,
          26.86,
          25.28,
          14.73,
          10.51,
          17.92,
          27.2,
          22.76,
          17.29,
          19.44,
          16.66,
          10.07,
          32.68,
          15.98,
          34.83,
          13.03,
          18.28,
          24.71,
          21.16,
          28.97,
          22.49,
          5.75,
          16.32,
          22.75,
          40.17,
          27.28,
          12.03,
          21.01,
          12.46,
          11.35,
          15.38,
          44.3,
          22.42,
          20.92,
          15.36,
          20.49,
          25.21,
          18.24,
          14.31,
          14,
          7.25,
          38.07,
          23.95,
          25.71,
          17.31,
          29.93,
          10.65,
          12.43,
          24.08,
          11.69,
          13.42,
          14.26,
          15.95,
          12.48,
          29.8,
          8.52,
          14.52,
          11.38,
          22.82,
          19.08,
          20.27,
          11.17,
          12.26,
          18.26,
          8.51,
          10.33,
          14.15,
          16,
          13.16,
          17.47,
          34.3,
          41.19,
          27.05,
          16.43,
          8.35,
          18.64,
          11.87,
          9.78,
          7.51,
          14.07,
          13.13,
          17.26,
          24.55,
          19.77,
          29.85,
          48.17,
          25,
          13.39,
          16.49,
          21.5,
          12.66,
          16.21,
          13.81,
          17.51,
          24.52,
          20.76,
          31.71,
          10.59,
          10.63,
          50.81,
          15.81,
          7.25,
          31.85,
          16.82,
          32.9,
          17.89,
          14.48,
          9.6,
          34.63,
          34.65,
          23.33,
          45.35,
          23.17,
          40.55,
          20.69,
          20.9,
          30.46,
          18.15,
          23.1,
          15.69,
          19.81,
          28.44,
          15.48,
          16.58,
          7.56,
          10.34,
          43.11,
          13,
          13.51,
          18.71,
          12.74,
          13,
          16.4,
          20.53,
          16.47,
          26.59,
          38.73,
          24.27,
          12.76,
          30.06,
          25.89,
          48.33,
          13.27,
          28.17,
          12.9,
          28.15,
          11.59,
          7.74,
          30.14,
          12.16,
          13.42,
          8.58,
          15.98,
          13.42,
          16.27,
          10.09,
          20.45,
          13.28,
          22.12,
          24.01,
          15.69,
          11.61,
          10.77,
          15.53,
          10.07,
          12.6,
          32.83,
          35.83,
          29.03,
          27.18,
          22.67,
          17.82,
          18.78
         ],
         "xaxis": "x",
         "yaxis": "y"
        }
       ],
       "layout": {
        "barmode": "relative",
        "legend": {
         "tracegroupgap": 0
        },
        "margin": {
         "t": 60
        },
        "template": {
         "data": {
          "bar": [
           {
            "error_x": {
             "color": "#2a3f5f"
            },
            "error_y": {
             "color": "#2a3f5f"
            },
            "marker": {
             "line": {
              "color": "#E5ECF6",
              "width": 0.5
             }
            },
            "type": "bar"
           }
          ],
          "barpolar": [
           {
            "marker": {
             "line": {
              "color": "#E5ECF6",
              "width": 0.5
             }
            },
            "type": "barpolar"
           }
          ],
          "carpet": [
           {
            "aaxis": {
             "endlinecolor": "#2a3f5f",
             "gridcolor": "white",
             "linecolor": "white",
             "minorgridcolor": "white",
             "startlinecolor": "#2a3f5f"
            },
            "baxis": {
             "endlinecolor": "#2a3f5f",
             "gridcolor": "white",
             "linecolor": "white",
             "minorgridcolor": "white",
             "startlinecolor": "#2a3f5f"
            },
            "type": "carpet"
           }
          ],
          "choropleth": [
           {
            "colorbar": {
             "outlinewidth": 0,
             "ticks": ""
            },
            "type": "choropleth"
           }
          ],
          "contour": [
           {
            "colorbar": {
             "outlinewidth": 0,
             "ticks": ""
            },
            "colorscale": [
             [
              0,
              "#0d0887"
             ],
             [
              0.1111111111111111,
              "#46039f"
             ],
             [
              0.2222222222222222,
              "#7201a8"
             ],
             [
              0.3333333333333333,
              "#9c179e"
             ],
             [
              0.4444444444444444,
              "#bd3786"
             ],
             [
              0.5555555555555556,
              "#d8576b"
             ],
             [
              0.6666666666666666,
              "#ed7953"
             ],
             [
              0.7777777777777778,
              "#fb9f3a"
             ],
             [
              0.8888888888888888,
              "#fdca26"
             ],
             [
              1,
              "#f0f921"
             ]
            ],
            "type": "contour"
           }
          ],
          "contourcarpet": [
           {
            "colorbar": {
             "outlinewidth": 0,
             "ticks": ""
            },
            "type": "contourcarpet"
           }
          ],
          "heatmap": [
           {
            "colorbar": {
             "outlinewidth": 0,
             "ticks": ""
            },
            "colorscale": [
             [
              0,
              "#0d0887"
             ],
             [
              0.1111111111111111,
              "#46039f"
             ],
             [
              0.2222222222222222,
              "#7201a8"
             ],
             [
              0.3333333333333333,
              "#9c179e"
             ],
             [
              0.4444444444444444,
              "#bd3786"
             ],
             [
              0.5555555555555556,
              "#d8576b"
             ],
             [
              0.6666666666666666,
              "#ed7953"
             ],
             [
              0.7777777777777778,
              "#fb9f3a"
             ],
             [
              0.8888888888888888,
              "#fdca26"
             ],
             [
              1,
              "#f0f921"
             ]
            ],
            "type": "heatmap"
           }
          ],
          "heatmapgl": [
           {
            "colorbar": {
             "outlinewidth": 0,
             "ticks": ""
            },
            "colorscale": [
             [
              0,
              "#0d0887"
             ],
             [
              0.1111111111111111,
              "#46039f"
             ],
             [
              0.2222222222222222,
              "#7201a8"
             ],
             [
              0.3333333333333333,
              "#9c179e"
             ],
             [
              0.4444444444444444,
              "#bd3786"
             ],
             [
              0.5555555555555556,
              "#d8576b"
             ],
             [
              0.6666666666666666,
              "#ed7953"
             ],
             [
              0.7777777777777778,
              "#fb9f3a"
             ],
             [
              0.8888888888888888,
              "#fdca26"
             ],
             [
              1,
              "#f0f921"
             ]
            ],
            "type": "heatmapgl"
           }
          ],
          "histogram": [
           {
            "marker": {
             "colorbar": {
              "outlinewidth": 0,
              "ticks": ""
             }
            },
            "type": "histogram"
           }
          ],
          "histogram2d": [
           {
            "colorbar": {
             "outlinewidth": 0,
             "ticks": ""
            },
            "colorscale": [
             [
              0,
              "#0d0887"
             ],
             [
              0.1111111111111111,
              "#46039f"
             ],
             [
              0.2222222222222222,
              "#7201a8"
             ],
             [
              0.3333333333333333,
              "#9c179e"
             ],
             [
              0.4444444444444444,
              "#bd3786"
             ],
             [
              0.5555555555555556,
              "#d8576b"
             ],
             [
              0.6666666666666666,
              "#ed7953"
             ],
             [
              0.7777777777777778,
              "#fb9f3a"
             ],
             [
              0.8888888888888888,
              "#fdca26"
             ],
             [
              1,
              "#f0f921"
             ]
            ],
            "type": "histogram2d"
           }
          ],
          "histogram2dcontour": [
           {
            "colorbar": {
             "outlinewidth": 0,
             "ticks": ""
            },
            "colorscale": [
             [
              0,
              "#0d0887"
             ],
             [
              0.1111111111111111,
              "#46039f"
             ],
             [
              0.2222222222222222,
              "#7201a8"
             ],
             [
              0.3333333333333333,
              "#9c179e"
             ],
             [
              0.4444444444444444,
              "#bd3786"
             ],
             [
              0.5555555555555556,
              "#d8576b"
             ],
             [
              0.6666666666666666,
              "#ed7953"
             ],
             [
              0.7777777777777778,
              "#fb9f3a"
             ],
             [
              0.8888888888888888,
              "#fdca26"
             ],
             [
              1,
              "#f0f921"
             ]
            ],
            "type": "histogram2dcontour"
           }
          ],
          "mesh3d": [
           {
            "colorbar": {
             "outlinewidth": 0,
             "ticks": ""
            },
            "type": "mesh3d"
           }
          ],
          "parcoords": [
           {
            "line": {
             "colorbar": {
              "outlinewidth": 0,
              "ticks": ""
             }
            },
            "type": "parcoords"
           }
          ],
          "pie": [
           {
            "automargin": true,
            "type": "pie"
           }
          ],
          "scatter": [
           {
            "marker": {
             "colorbar": {
              "outlinewidth": 0,
              "ticks": ""
             }
            },
            "type": "scatter"
           }
          ],
          "scatter3d": [
           {
            "line": {
             "colorbar": {
              "outlinewidth": 0,
              "ticks": ""
             }
            },
            "marker": {
             "colorbar": {
              "outlinewidth": 0,
              "ticks": ""
             }
            },
            "type": "scatter3d"
           }
          ],
          "scattercarpet": [
           {
            "marker": {
             "colorbar": {
              "outlinewidth": 0,
              "ticks": ""
             }
            },
            "type": "scattercarpet"
           }
          ],
          "scattergeo": [
           {
            "marker": {
             "colorbar": {
              "outlinewidth": 0,
              "ticks": ""
             }
            },
            "type": "scattergeo"
           }
          ],
          "scattergl": [
           {
            "marker": {
             "colorbar": {
              "outlinewidth": 0,
              "ticks": ""
             }
            },
            "type": "scattergl"
           }
          ],
          "scattermapbox": [
           {
            "marker": {
             "colorbar": {
              "outlinewidth": 0,
              "ticks": ""
             }
            },
            "type": "scattermapbox"
           }
          ],
          "scatterpolar": [
           {
            "marker": {
             "colorbar": {
              "outlinewidth": 0,
              "ticks": ""
             }
            },
            "type": "scatterpolar"
           }
          ],
          "scatterpolargl": [
           {
            "marker": {
             "colorbar": {
              "outlinewidth": 0,
              "ticks": ""
             }
            },
            "type": "scatterpolargl"
           }
          ],
          "scatterternary": [
           {
            "marker": {
             "colorbar": {
              "outlinewidth": 0,
              "ticks": ""
             }
            },
            "type": "scatterternary"
           }
          ],
          "surface": [
           {
            "colorbar": {
             "outlinewidth": 0,
             "ticks": ""
            },
            "colorscale": [
             [
              0,
              "#0d0887"
             ],
             [
              0.1111111111111111,
              "#46039f"
             ],
             [
              0.2222222222222222,
              "#7201a8"
             ],
             [
              0.3333333333333333,
              "#9c179e"
             ],
             [
              0.4444444444444444,
              "#bd3786"
             ],
             [
              0.5555555555555556,
              "#d8576b"
             ],
             [
              0.6666666666666666,
              "#ed7953"
             ],
             [
              0.7777777777777778,
              "#fb9f3a"
             ],
             [
              0.8888888888888888,
              "#fdca26"
             ],
             [
              1,
              "#f0f921"
             ]
            ],
            "type": "surface"
           }
          ],
          "table": [
           {
            "cells": {
             "fill": {
              "color": "#EBF0F8"
             },
             "line": {
              "color": "white"
             }
            },
            "header": {
             "fill": {
              "color": "#C8D4E3"
             },
             "line": {
              "color": "white"
             }
            },
            "type": "table"
           }
          ]
         },
         "layout": {
          "annotationdefaults": {
           "arrowcolor": "#2a3f5f",
           "arrowhead": 0,
           "arrowwidth": 1
          },
          "autotypenumbers": "strict",
          "coloraxis": {
           "colorbar": {
            "outlinewidth": 0,
            "ticks": ""
           }
          },
          "colorscale": {
           "diverging": [
            [
             0,
             "#8e0152"
            ],
            [
             0.1,
             "#c51b7d"
            ],
            [
             0.2,
             "#de77ae"
            ],
            [
             0.3,
             "#f1b6da"
            ],
            [
             0.4,
             "#fde0ef"
            ],
            [
             0.5,
             "#f7f7f7"
            ],
            [
             0.6,
             "#e6f5d0"
            ],
            [
             0.7,
             "#b8e186"
            ],
            [
             0.8,
             "#7fbc41"
            ],
            [
             0.9,
             "#4d9221"
            ],
            [
             1,
             "#276419"
            ]
           ],
           "sequential": [
            [
             0,
             "#0d0887"
            ],
            [
             0.1111111111111111,
             "#46039f"
            ],
            [
             0.2222222222222222,
             "#7201a8"
            ],
            [
             0.3333333333333333,
             "#9c179e"
            ],
            [
             0.4444444444444444,
             "#bd3786"
            ],
            [
             0.5555555555555556,
             "#d8576b"
            ],
            [
             0.6666666666666666,
             "#ed7953"
            ],
            [
             0.7777777777777778,
             "#fb9f3a"
            ],
            [
             0.8888888888888888,
             "#fdca26"
            ],
            [
             1,
             "#f0f921"
            ]
           ],
           "sequentialminus": [
            [
             0,
             "#0d0887"
            ],
            [
             0.1111111111111111,
             "#46039f"
            ],
            [
             0.2222222222222222,
             "#7201a8"
            ],
            [
             0.3333333333333333,
             "#9c179e"
            ],
            [
             0.4444444444444444,
             "#bd3786"
            ],
            [
             0.5555555555555556,
             "#d8576b"
            ],
            [
             0.6666666666666666,
             "#ed7953"
            ],
            [
             0.7777777777777778,
             "#fb9f3a"
            ],
            [
             0.8888888888888888,
             "#fdca26"
            ],
            [
             1,
             "#f0f921"
            ]
           ]
          },
          "colorway": [
           "#636efa",
           "#EF553B",
           "#00cc96",
           "#ab63fa",
           "#FFA15A",
           "#19d3f3",
           "#FF6692",
           "#B6E880",
           "#FF97FF",
           "#FECB52"
          ],
          "font": {
           "color": "#2a3f5f"
          },
          "geo": {
           "bgcolor": "white",
           "lakecolor": "white",
           "landcolor": "#E5ECF6",
           "showlakes": true,
           "showland": true,
           "subunitcolor": "white"
          },
          "hoverlabel": {
           "align": "left"
          },
          "hovermode": "closest",
          "mapbox": {
           "style": "light"
          },
          "paper_bgcolor": "white",
          "plot_bgcolor": "#E5ECF6",
          "polar": {
           "angularaxis": {
            "gridcolor": "white",
            "linecolor": "white",
            "ticks": ""
           },
           "bgcolor": "#E5ECF6",
           "radialaxis": {
            "gridcolor": "white",
            "linecolor": "white",
            "ticks": ""
           }
          },
          "scene": {
           "xaxis": {
            "backgroundcolor": "#E5ECF6",
            "gridcolor": "white",
            "gridwidth": 2,
            "linecolor": "white",
            "showbackground": true,
            "ticks": "",
            "zerolinecolor": "white"
           },
           "yaxis": {
            "backgroundcolor": "#E5ECF6",
            "gridcolor": "white",
            "gridwidth": 2,
            "linecolor": "white",
            "showbackground": true,
            "ticks": "",
            "zerolinecolor": "white"
           },
           "zaxis": {
            "backgroundcolor": "#E5ECF6",
            "gridcolor": "white",
            "gridwidth": 2,
            "linecolor": "white",
            "showbackground": true,
            "ticks": "",
            "zerolinecolor": "white"
           }
          },
          "shapedefaults": {
           "line": {
            "color": "#2a3f5f"
           }
          },
          "ternary": {
           "aaxis": {
            "gridcolor": "white",
            "linecolor": "white",
            "ticks": ""
           },
           "baxis": {
            "gridcolor": "white",
            "linecolor": "white",
            "ticks": ""
           },
           "bgcolor": "#E5ECF6",
           "caxis": {
            "gridcolor": "white",
            "linecolor": "white",
            "ticks": ""
           }
          },
          "title": {
           "x": 0.05
          },
          "xaxis": {
           "automargin": true,
           "gridcolor": "white",
           "linecolor": "white",
           "ticks": "",
           "title": {
            "standoff": 15
           },
           "zerolinecolor": "white",
           "zerolinewidth": 2
          },
          "yaxis": {
           "automargin": true,
           "gridcolor": "white",
           "linecolor": "white",
           "ticks": "",
           "title": {
            "standoff": 15
           },
           "zerolinecolor": "white",
           "zerolinewidth": 2
          }
         }
        },
        "xaxis": {
         "anchor": "y",
         "domain": [
          0,
          1
         ],
         "title": {
          "text": "total_bill"
         }
        },
        "yaxis": {
         "anchor": "x",
         "domain": [
          0,
          1
         ],
         "title": {
          "text": "count"
         }
        }
       }
      },
      "text/html": [
       "<div>                            <div id=\"9eefba09-099a-42e8-86c9-34c5c4850e3b\" class=\"plotly-graph-div\" style=\"height:525px; width:100%;\"></div>            <script type=\"text/javascript\">                require([\"plotly\"], function(Plotly) {                    window.PLOTLYENV=window.PLOTLYENV || {};                                    if (document.getElementById(\"9eefba09-099a-42e8-86c9-34c5c4850e3b\")) {                    Plotly.newPlot(                        \"9eefba09-099a-42e8-86c9-34c5c4850e3b\",                        [{\"alignmentgroup\": \"True\", \"bingroup\": \"x\", \"hovertemplate\": \"total_bill=%{x}<br>count=%{y}<extra></extra>\", \"legendgroup\": \"\", \"marker\": {\"color\": \"#636efa\"}, \"name\": \"\", \"nbinsx\": 10, \"offsetgroup\": \"\", \"orientation\": \"v\", \"showlegend\": false, \"type\": \"histogram\", \"x\": [16.99, 10.34, 21.01, 23.68, 24.59, 25.29, 8.77, 26.88, 15.04, 14.78, 10.27, 35.26, 15.42, 18.43, 14.83, 21.58, 10.33, 16.29, 16.97, 20.65, 17.92, 20.29, 15.77, 39.42, 19.82, 17.81, 13.37, 12.69, 21.7, 19.65, 9.55, 18.35, 15.06, 20.69, 17.78, 24.06, 16.31, 16.93, 18.69, 31.27, 16.04, 17.46, 13.94, 9.68, 30.4, 18.29, 22.23, 32.4, 28.55, 18.04, 12.54, 10.29, 34.81, 9.94, 25.56, 19.49, 38.01, 26.41, 11.24, 48.27, 20.29, 13.81, 11.02, 18.29, 17.59, 20.08, 16.45, 3.07, 20.23, 15.01, 12.02, 17.07, 26.86, 25.28, 14.73, 10.51, 17.92, 27.2, 22.76, 17.29, 19.44, 16.66, 10.07, 32.68, 15.98, 34.83, 13.03, 18.28, 24.71, 21.16, 28.97, 22.49, 5.75, 16.32, 22.75, 40.17, 27.28, 12.03, 21.01, 12.46, 11.35, 15.38, 44.3, 22.42, 20.92, 15.36, 20.49, 25.21, 18.24, 14.31, 14.0, 7.25, 38.07, 23.95, 25.71, 17.31, 29.93, 10.65, 12.43, 24.08, 11.69, 13.42, 14.26, 15.95, 12.48, 29.8, 8.52, 14.52, 11.38, 22.82, 19.08, 20.27, 11.17, 12.26, 18.26, 8.51, 10.33, 14.15, 16.0, 13.16, 17.47, 34.3, 41.19, 27.05, 16.43, 8.35, 18.64, 11.87, 9.78, 7.51, 14.07, 13.13, 17.26, 24.55, 19.77, 29.85, 48.17, 25.0, 13.39, 16.49, 21.5, 12.66, 16.21, 13.81, 17.51, 24.52, 20.76, 31.71, 10.59, 10.63, 50.81, 15.81, 7.25, 31.85, 16.82, 32.9, 17.89, 14.48, 9.6, 34.63, 34.65, 23.33, 45.35, 23.17, 40.55, 20.69, 20.9, 30.46, 18.15, 23.1, 15.69, 19.81, 28.44, 15.48, 16.58, 7.56, 10.34, 43.11, 13.0, 13.51, 18.71, 12.74, 13.0, 16.4, 20.53, 16.47, 26.59, 38.73, 24.27, 12.76, 30.06, 25.89, 48.33, 13.27, 28.17, 12.9, 28.15, 11.59, 7.74, 30.14, 12.16, 13.42, 8.58, 15.98, 13.42, 16.27, 10.09, 20.45, 13.28, 22.12, 24.01, 15.69, 11.61, 10.77, 15.53, 10.07, 12.6, 32.83, 35.83, 29.03, 27.18, 22.67, 17.82, 18.78], \"xaxis\": \"x\", \"yaxis\": \"y\"}],                        {\"barmode\": \"relative\", \"legend\": {\"tracegroupgap\": 0}, \"margin\": {\"t\": 60}, \"template\": {\"data\": {\"bar\": [{\"error_x\": {\"color\": \"#2a3f5f\"}, \"error_y\": {\"color\": \"#2a3f5f\"}, \"marker\": {\"line\": {\"color\": \"#E5ECF6\", \"width\": 0.5}}, \"type\": \"bar\"}], \"barpolar\": [{\"marker\": {\"line\": {\"color\": \"#E5ECF6\", \"width\": 0.5}}, \"type\": \"barpolar\"}], \"carpet\": [{\"aaxis\": {\"endlinecolor\": \"#2a3f5f\", \"gridcolor\": \"white\", \"linecolor\": \"white\", \"minorgridcolor\": \"white\", \"startlinecolor\": \"#2a3f5f\"}, \"baxis\": {\"endlinecolor\": \"#2a3f5f\", \"gridcolor\": \"white\", \"linecolor\": \"white\", \"minorgridcolor\": \"white\", \"startlinecolor\": \"#2a3f5f\"}, \"type\": \"carpet\"}], \"choropleth\": [{\"colorbar\": {\"outlinewidth\": 0, \"ticks\": \"\"}, \"type\": \"choropleth\"}], \"contour\": [{\"colorbar\": {\"outlinewidth\": 0, \"ticks\": \"\"}, \"colorscale\": [[0.0, \"#0d0887\"], [0.1111111111111111, \"#46039f\"], [0.2222222222222222, \"#7201a8\"], [0.3333333333333333, \"#9c179e\"], [0.4444444444444444, \"#bd3786\"], [0.5555555555555556, \"#d8576b\"], [0.6666666666666666, \"#ed7953\"], [0.7777777777777778, \"#fb9f3a\"], [0.8888888888888888, \"#fdca26\"], [1.0, \"#f0f921\"]], \"type\": \"contour\"}], \"contourcarpet\": [{\"colorbar\": {\"outlinewidth\": 0, \"ticks\": \"\"}, \"type\": \"contourcarpet\"}], \"heatmap\": [{\"colorbar\": {\"outlinewidth\": 0, \"ticks\": \"\"}, \"colorscale\": [[0.0, \"#0d0887\"], [0.1111111111111111, \"#46039f\"], [0.2222222222222222, \"#7201a8\"], [0.3333333333333333, \"#9c179e\"], [0.4444444444444444, \"#bd3786\"], [0.5555555555555556, \"#d8576b\"], [0.6666666666666666, \"#ed7953\"], [0.7777777777777778, \"#fb9f3a\"], [0.8888888888888888, \"#fdca26\"], [1.0, \"#f0f921\"]], \"type\": \"heatmap\"}], \"heatmapgl\": [{\"colorbar\": {\"outlinewidth\": 0, \"ticks\": \"\"}, \"colorscale\": [[0.0, \"#0d0887\"], [0.1111111111111111, \"#46039f\"], [0.2222222222222222, \"#7201a8\"], [0.3333333333333333, \"#9c179e\"], [0.4444444444444444, \"#bd3786\"], [0.5555555555555556, \"#d8576b\"], [0.6666666666666666, \"#ed7953\"], [0.7777777777777778, \"#fb9f3a\"], [0.8888888888888888, \"#fdca26\"], [1.0, \"#f0f921\"]], \"type\": \"heatmapgl\"}], \"histogram\": [{\"marker\": {\"colorbar\": {\"outlinewidth\": 0, \"ticks\": \"\"}}, \"type\": \"histogram\"}], \"histogram2d\": [{\"colorbar\": {\"outlinewidth\": 0, \"ticks\": \"\"}, \"colorscale\": [[0.0, \"#0d0887\"], [0.1111111111111111, \"#46039f\"], [0.2222222222222222, \"#7201a8\"], [0.3333333333333333, \"#9c179e\"], [0.4444444444444444, \"#bd3786\"], [0.5555555555555556, \"#d8576b\"], [0.6666666666666666, \"#ed7953\"], [0.7777777777777778, \"#fb9f3a\"], [0.8888888888888888, \"#fdca26\"], [1.0, \"#f0f921\"]], \"type\": \"histogram2d\"}], \"histogram2dcontour\": [{\"colorbar\": {\"outlinewidth\": 0, \"ticks\": \"\"}, \"colorscale\": [[0.0, \"#0d0887\"], [0.1111111111111111, \"#46039f\"], [0.2222222222222222, \"#7201a8\"], [0.3333333333333333, \"#9c179e\"], [0.4444444444444444, \"#bd3786\"], [0.5555555555555556, \"#d8576b\"], [0.6666666666666666, \"#ed7953\"], [0.7777777777777778, \"#fb9f3a\"], [0.8888888888888888, \"#fdca26\"], [1.0, \"#f0f921\"]], \"type\": \"histogram2dcontour\"}], \"mesh3d\": [{\"colorbar\": {\"outlinewidth\": 0, \"ticks\": \"\"}, \"type\": \"mesh3d\"}], \"parcoords\": [{\"line\": {\"colorbar\": {\"outlinewidth\": 0, \"ticks\": \"\"}}, \"type\": \"parcoords\"}], \"pie\": [{\"automargin\": true, \"type\": \"pie\"}], \"scatter\": [{\"marker\": {\"colorbar\": {\"outlinewidth\": 0, \"ticks\": \"\"}}, \"type\": \"scatter\"}], \"scatter3d\": [{\"line\": {\"colorbar\": {\"outlinewidth\": 0, \"ticks\": \"\"}}, \"marker\": {\"colorbar\": {\"outlinewidth\": 0, \"ticks\": \"\"}}, \"type\": \"scatter3d\"}], \"scattercarpet\": [{\"marker\": {\"colorbar\": {\"outlinewidth\": 0, \"ticks\": \"\"}}, \"type\": \"scattercarpet\"}], \"scattergeo\": [{\"marker\": {\"colorbar\": {\"outlinewidth\": 0, \"ticks\": \"\"}}, \"type\": \"scattergeo\"}], \"scattergl\": [{\"marker\": {\"colorbar\": {\"outlinewidth\": 0, \"ticks\": \"\"}}, \"type\": \"scattergl\"}], \"scattermapbox\": [{\"marker\": {\"colorbar\": {\"outlinewidth\": 0, \"ticks\": \"\"}}, \"type\": \"scattermapbox\"}], \"scatterpolar\": [{\"marker\": {\"colorbar\": {\"outlinewidth\": 0, \"ticks\": \"\"}}, \"type\": \"scatterpolar\"}], \"scatterpolargl\": [{\"marker\": {\"colorbar\": {\"outlinewidth\": 0, \"ticks\": \"\"}}, \"type\": \"scatterpolargl\"}], \"scatterternary\": [{\"marker\": {\"colorbar\": {\"outlinewidth\": 0, \"ticks\": \"\"}}, \"type\": \"scatterternary\"}], \"surface\": [{\"colorbar\": {\"outlinewidth\": 0, \"ticks\": \"\"}, \"colorscale\": [[0.0, \"#0d0887\"], [0.1111111111111111, \"#46039f\"], [0.2222222222222222, \"#7201a8\"], [0.3333333333333333, \"#9c179e\"], [0.4444444444444444, \"#bd3786\"], [0.5555555555555556, \"#d8576b\"], [0.6666666666666666, \"#ed7953\"], [0.7777777777777778, \"#fb9f3a\"], [0.8888888888888888, \"#fdca26\"], [1.0, \"#f0f921\"]], \"type\": \"surface\"}], \"table\": [{\"cells\": {\"fill\": {\"color\": \"#EBF0F8\"}, \"line\": {\"color\": \"white\"}}, \"header\": {\"fill\": {\"color\": \"#C8D4E3\"}, \"line\": {\"color\": \"white\"}}, \"type\": \"table\"}]}, \"layout\": {\"annotationdefaults\": {\"arrowcolor\": \"#2a3f5f\", \"arrowhead\": 0, \"arrowwidth\": 1}, \"autotypenumbers\": \"strict\", \"coloraxis\": {\"colorbar\": {\"outlinewidth\": 0, \"ticks\": \"\"}}, \"colorscale\": {\"diverging\": [[0, \"#8e0152\"], [0.1, \"#c51b7d\"], [0.2, \"#de77ae\"], [0.3, \"#f1b6da\"], [0.4, \"#fde0ef\"], [0.5, \"#f7f7f7\"], [0.6, \"#e6f5d0\"], [0.7, \"#b8e186\"], [0.8, \"#7fbc41\"], [0.9, \"#4d9221\"], [1, \"#276419\"]], \"sequential\": [[0.0, \"#0d0887\"], [0.1111111111111111, \"#46039f\"], [0.2222222222222222, \"#7201a8\"], [0.3333333333333333, \"#9c179e\"], [0.4444444444444444, \"#bd3786\"], [0.5555555555555556, \"#d8576b\"], [0.6666666666666666, \"#ed7953\"], [0.7777777777777778, \"#fb9f3a\"], [0.8888888888888888, \"#fdca26\"], [1.0, \"#f0f921\"]], \"sequentialminus\": [[0.0, \"#0d0887\"], [0.1111111111111111, \"#46039f\"], [0.2222222222222222, \"#7201a8\"], [0.3333333333333333, \"#9c179e\"], [0.4444444444444444, \"#bd3786\"], [0.5555555555555556, \"#d8576b\"], [0.6666666666666666, \"#ed7953\"], [0.7777777777777778, \"#fb9f3a\"], [0.8888888888888888, \"#fdca26\"], [1.0, \"#f0f921\"]]}, \"colorway\": [\"#636efa\", \"#EF553B\", \"#00cc96\", \"#ab63fa\", \"#FFA15A\", \"#19d3f3\", \"#FF6692\", \"#B6E880\", \"#FF97FF\", \"#FECB52\"], \"font\": {\"color\": \"#2a3f5f\"}, \"geo\": {\"bgcolor\": \"white\", \"lakecolor\": \"white\", \"landcolor\": \"#E5ECF6\", \"showlakes\": true, \"showland\": true, \"subunitcolor\": \"white\"}, \"hoverlabel\": {\"align\": \"left\"}, \"hovermode\": \"closest\", \"mapbox\": {\"style\": \"light\"}, \"paper_bgcolor\": \"white\", \"plot_bgcolor\": \"#E5ECF6\", \"polar\": {\"angularaxis\": {\"gridcolor\": \"white\", \"linecolor\": \"white\", \"ticks\": \"\"}, \"bgcolor\": \"#E5ECF6\", \"radialaxis\": {\"gridcolor\": \"white\", \"linecolor\": \"white\", \"ticks\": \"\"}}, \"scene\": {\"xaxis\": {\"backgroundcolor\": \"#E5ECF6\", \"gridcolor\": \"white\", \"gridwidth\": 2, \"linecolor\": \"white\", \"showbackground\": true, \"ticks\": \"\", \"zerolinecolor\": \"white\"}, \"yaxis\": {\"backgroundcolor\": \"#E5ECF6\", \"gridcolor\": \"white\", \"gridwidth\": 2, \"linecolor\": \"white\", \"showbackground\": true, \"ticks\": \"\", \"zerolinecolor\": \"white\"}, \"zaxis\": {\"backgroundcolor\": \"#E5ECF6\", \"gridcolor\": \"white\", \"gridwidth\": 2, \"linecolor\": \"white\", \"showbackground\": true, \"ticks\": \"\", \"zerolinecolor\": \"white\"}}, \"shapedefaults\": {\"line\": {\"color\": \"#2a3f5f\"}}, \"ternary\": {\"aaxis\": {\"gridcolor\": \"white\", \"linecolor\": \"white\", \"ticks\": \"\"}, \"baxis\": {\"gridcolor\": \"white\", \"linecolor\": \"white\", \"ticks\": \"\"}, \"bgcolor\": \"#E5ECF6\", \"caxis\": {\"gridcolor\": \"white\", \"linecolor\": \"white\", \"ticks\": \"\"}}, \"title\": {\"x\": 0.05}, \"xaxis\": {\"automargin\": true, \"gridcolor\": \"white\", \"linecolor\": \"white\", \"ticks\": \"\", \"title\": {\"standoff\": 15}, \"zerolinecolor\": \"white\", \"zerolinewidth\": 2}, \"yaxis\": {\"automargin\": true, \"gridcolor\": \"white\", \"linecolor\": \"white\", \"ticks\": \"\", \"title\": {\"standoff\": 15}, \"zerolinecolor\": \"white\", \"zerolinewidth\": 2}}}, \"xaxis\": {\"anchor\": \"y\", \"domain\": [0.0, 1.0], \"title\": {\"text\": \"total_bill\"}}, \"yaxis\": {\"anchor\": \"x\", \"domain\": [0.0, 1.0], \"title\": {\"text\": \"count\"}}},                        {\"responsive\": true}                    ).then(function(){\n",
       "                            \n",
       "var gd = document.getElementById('9eefba09-099a-42e8-86c9-34c5c4850e3b');\n",
       "var x = new MutationObserver(function (mutations, observer) {{\n",
       "        var display = window.getComputedStyle(gd).display;\n",
       "        if (!display || display === 'none') {{\n",
       "            console.log([gd, 'removed!']);\n",
       "            Plotly.purge(gd);\n",
       "            observer.disconnect();\n",
       "        }}\n",
       "}});\n",
       "\n",
       "// Listen for the removal of the full notebook cells\n",
       "var notebookContainer = gd.closest('#notebook-container');\n",
       "if (notebookContainer) {{\n",
       "    x.observe(notebookContainer, {childList: true});\n",
       "}}\n",
       "\n",
       "// Listen for the clearing of the current output cell\n",
       "var outputEl = gd.closest('.output');\n",
       "if (outputEl) {{\n",
       "    x.observe(outputEl, {childList: true});\n",
       "}}\n",
       "\n",
       "                        })                };                });            </script>        </div>"
      ]
     },
     "metadata": {},
     "output_type": "display_data"
    }
   ],
   "source": [
    "fig = px.histogram(tips, x='total_bill', nbins=10)  # 박스를 몇개로 나눌 것인가\n",
    "fig.show()"
   ]
  },
  {
   "cell_type": "code",
   "execution_count": 9,
   "metadata": {},
   "outputs": [
    {
     "data": {
      "application/vnd.plotly.v1+json": {
       "config": {
        "plotlyServerURL": "https://plot.ly"
       },
       "data": [
        {
         "alignmentgroup": "True",
         "bingroup": "x",
         "histnorm": "probability density",
         "hovertemplate": "total_bill=%{x}<br>count=%{y}<extra></extra>",
         "legendgroup": "",
         "marker": {
          "color": "#636efa"
         },
         "name": "",
         "offsetgroup": "",
         "orientation": "v",
         "showlegend": false,
         "type": "histogram",
         "x": [
          16.99,
          10.34,
          21.01,
          23.68,
          24.59,
          25.29,
          8.77,
          26.88,
          15.04,
          14.78,
          10.27,
          35.26,
          15.42,
          18.43,
          14.83,
          21.58,
          10.33,
          16.29,
          16.97,
          20.65,
          17.92,
          20.29,
          15.77,
          39.42,
          19.82,
          17.81,
          13.37,
          12.69,
          21.7,
          19.65,
          9.55,
          18.35,
          15.06,
          20.69,
          17.78,
          24.06,
          16.31,
          16.93,
          18.69,
          31.27,
          16.04,
          17.46,
          13.94,
          9.68,
          30.4,
          18.29,
          22.23,
          32.4,
          28.55,
          18.04,
          12.54,
          10.29,
          34.81,
          9.94,
          25.56,
          19.49,
          38.01,
          26.41,
          11.24,
          48.27,
          20.29,
          13.81,
          11.02,
          18.29,
          17.59,
          20.08,
          16.45,
          3.07,
          20.23,
          15.01,
          12.02,
          17.07,
          26.86,
          25.28,
          14.73,
          10.51,
          17.92,
          27.2,
          22.76,
          17.29,
          19.44,
          16.66,
          10.07,
          32.68,
          15.98,
          34.83,
          13.03,
          18.28,
          24.71,
          21.16,
          28.97,
          22.49,
          5.75,
          16.32,
          22.75,
          40.17,
          27.28,
          12.03,
          21.01,
          12.46,
          11.35,
          15.38,
          44.3,
          22.42,
          20.92,
          15.36,
          20.49,
          25.21,
          18.24,
          14.31,
          14,
          7.25,
          38.07,
          23.95,
          25.71,
          17.31,
          29.93,
          10.65,
          12.43,
          24.08,
          11.69,
          13.42,
          14.26,
          15.95,
          12.48,
          29.8,
          8.52,
          14.52,
          11.38,
          22.82,
          19.08,
          20.27,
          11.17,
          12.26,
          18.26,
          8.51,
          10.33,
          14.15,
          16,
          13.16,
          17.47,
          34.3,
          41.19,
          27.05,
          16.43,
          8.35,
          18.64,
          11.87,
          9.78,
          7.51,
          14.07,
          13.13,
          17.26,
          24.55,
          19.77,
          29.85,
          48.17,
          25,
          13.39,
          16.49,
          21.5,
          12.66,
          16.21,
          13.81,
          17.51,
          24.52,
          20.76,
          31.71,
          10.59,
          10.63,
          50.81,
          15.81,
          7.25,
          31.85,
          16.82,
          32.9,
          17.89,
          14.48,
          9.6,
          34.63,
          34.65,
          23.33,
          45.35,
          23.17,
          40.55,
          20.69,
          20.9,
          30.46,
          18.15,
          23.1,
          15.69,
          19.81,
          28.44,
          15.48,
          16.58,
          7.56,
          10.34,
          43.11,
          13,
          13.51,
          18.71,
          12.74,
          13,
          16.4,
          20.53,
          16.47,
          26.59,
          38.73,
          24.27,
          12.76,
          30.06,
          25.89,
          48.33,
          13.27,
          28.17,
          12.9,
          28.15,
          11.59,
          7.74,
          30.14,
          12.16,
          13.42,
          8.58,
          15.98,
          13.42,
          16.27,
          10.09,
          20.45,
          13.28,
          22.12,
          24.01,
          15.69,
          11.61,
          10.77,
          15.53,
          10.07,
          12.6,
          32.83,
          35.83,
          29.03,
          27.18,
          22.67,
          17.82,
          18.78
         ],
         "xaxis": "x",
         "yaxis": "y"
        }
       ],
       "layout": {
        "barmode": "relative",
        "legend": {
         "tracegroupgap": 0
        },
        "margin": {
         "t": 60
        },
        "template": {
         "data": {
          "bar": [
           {
            "error_x": {
             "color": "#2a3f5f"
            },
            "error_y": {
             "color": "#2a3f5f"
            },
            "marker": {
             "line": {
              "color": "#E5ECF6",
              "width": 0.5
             }
            },
            "type": "bar"
           }
          ],
          "barpolar": [
           {
            "marker": {
             "line": {
              "color": "#E5ECF6",
              "width": 0.5
             }
            },
            "type": "barpolar"
           }
          ],
          "carpet": [
           {
            "aaxis": {
             "endlinecolor": "#2a3f5f",
             "gridcolor": "white",
             "linecolor": "white",
             "minorgridcolor": "white",
             "startlinecolor": "#2a3f5f"
            },
            "baxis": {
             "endlinecolor": "#2a3f5f",
             "gridcolor": "white",
             "linecolor": "white",
             "minorgridcolor": "white",
             "startlinecolor": "#2a3f5f"
            },
            "type": "carpet"
           }
          ],
          "choropleth": [
           {
            "colorbar": {
             "outlinewidth": 0,
             "ticks": ""
            },
            "type": "choropleth"
           }
          ],
          "contour": [
           {
            "colorbar": {
             "outlinewidth": 0,
             "ticks": ""
            },
            "colorscale": [
             [
              0,
              "#0d0887"
             ],
             [
              0.1111111111111111,
              "#46039f"
             ],
             [
              0.2222222222222222,
              "#7201a8"
             ],
             [
              0.3333333333333333,
              "#9c179e"
             ],
             [
              0.4444444444444444,
              "#bd3786"
             ],
             [
              0.5555555555555556,
              "#d8576b"
             ],
             [
              0.6666666666666666,
              "#ed7953"
             ],
             [
              0.7777777777777778,
              "#fb9f3a"
             ],
             [
              0.8888888888888888,
              "#fdca26"
             ],
             [
              1,
              "#f0f921"
             ]
            ],
            "type": "contour"
           }
          ],
          "contourcarpet": [
           {
            "colorbar": {
             "outlinewidth": 0,
             "ticks": ""
            },
            "type": "contourcarpet"
           }
          ],
          "heatmap": [
           {
            "colorbar": {
             "outlinewidth": 0,
             "ticks": ""
            },
            "colorscale": [
             [
              0,
              "#0d0887"
             ],
             [
              0.1111111111111111,
              "#46039f"
             ],
             [
              0.2222222222222222,
              "#7201a8"
             ],
             [
              0.3333333333333333,
              "#9c179e"
             ],
             [
              0.4444444444444444,
              "#bd3786"
             ],
             [
              0.5555555555555556,
              "#d8576b"
             ],
             [
              0.6666666666666666,
              "#ed7953"
             ],
             [
              0.7777777777777778,
              "#fb9f3a"
             ],
             [
              0.8888888888888888,
              "#fdca26"
             ],
             [
              1,
              "#f0f921"
             ]
            ],
            "type": "heatmap"
           }
          ],
          "heatmapgl": [
           {
            "colorbar": {
             "outlinewidth": 0,
             "ticks": ""
            },
            "colorscale": [
             [
              0,
              "#0d0887"
             ],
             [
              0.1111111111111111,
              "#46039f"
             ],
             [
              0.2222222222222222,
              "#7201a8"
             ],
             [
              0.3333333333333333,
              "#9c179e"
             ],
             [
              0.4444444444444444,
              "#bd3786"
             ],
             [
              0.5555555555555556,
              "#d8576b"
             ],
             [
              0.6666666666666666,
              "#ed7953"
             ],
             [
              0.7777777777777778,
              "#fb9f3a"
             ],
             [
              0.8888888888888888,
              "#fdca26"
             ],
             [
              1,
              "#f0f921"
             ]
            ],
            "type": "heatmapgl"
           }
          ],
          "histogram": [
           {
            "marker": {
             "colorbar": {
              "outlinewidth": 0,
              "ticks": ""
             }
            },
            "type": "histogram"
           }
          ],
          "histogram2d": [
           {
            "colorbar": {
             "outlinewidth": 0,
             "ticks": ""
            },
            "colorscale": [
             [
              0,
              "#0d0887"
             ],
             [
              0.1111111111111111,
              "#46039f"
             ],
             [
              0.2222222222222222,
              "#7201a8"
             ],
             [
              0.3333333333333333,
              "#9c179e"
             ],
             [
              0.4444444444444444,
              "#bd3786"
             ],
             [
              0.5555555555555556,
              "#d8576b"
             ],
             [
              0.6666666666666666,
              "#ed7953"
             ],
             [
              0.7777777777777778,
              "#fb9f3a"
             ],
             [
              0.8888888888888888,
              "#fdca26"
             ],
             [
              1,
              "#f0f921"
             ]
            ],
            "type": "histogram2d"
           }
          ],
          "histogram2dcontour": [
           {
            "colorbar": {
             "outlinewidth": 0,
             "ticks": ""
            },
            "colorscale": [
             [
              0,
              "#0d0887"
             ],
             [
              0.1111111111111111,
              "#46039f"
             ],
             [
              0.2222222222222222,
              "#7201a8"
             ],
             [
              0.3333333333333333,
              "#9c179e"
             ],
             [
              0.4444444444444444,
              "#bd3786"
             ],
             [
              0.5555555555555556,
              "#d8576b"
             ],
             [
              0.6666666666666666,
              "#ed7953"
             ],
             [
              0.7777777777777778,
              "#fb9f3a"
             ],
             [
              0.8888888888888888,
              "#fdca26"
             ],
             [
              1,
              "#f0f921"
             ]
            ],
            "type": "histogram2dcontour"
           }
          ],
          "mesh3d": [
           {
            "colorbar": {
             "outlinewidth": 0,
             "ticks": ""
            },
            "type": "mesh3d"
           }
          ],
          "parcoords": [
           {
            "line": {
             "colorbar": {
              "outlinewidth": 0,
              "ticks": ""
             }
            },
            "type": "parcoords"
           }
          ],
          "pie": [
           {
            "automargin": true,
            "type": "pie"
           }
          ],
          "scatter": [
           {
            "marker": {
             "colorbar": {
              "outlinewidth": 0,
              "ticks": ""
             }
            },
            "type": "scatter"
           }
          ],
          "scatter3d": [
           {
            "line": {
             "colorbar": {
              "outlinewidth": 0,
              "ticks": ""
             }
            },
            "marker": {
             "colorbar": {
              "outlinewidth": 0,
              "ticks": ""
             }
            },
            "type": "scatter3d"
           }
          ],
          "scattercarpet": [
           {
            "marker": {
             "colorbar": {
              "outlinewidth": 0,
              "ticks": ""
             }
            },
            "type": "scattercarpet"
           }
          ],
          "scattergeo": [
           {
            "marker": {
             "colorbar": {
              "outlinewidth": 0,
              "ticks": ""
             }
            },
            "type": "scattergeo"
           }
          ],
          "scattergl": [
           {
            "marker": {
             "colorbar": {
              "outlinewidth": 0,
              "ticks": ""
             }
            },
            "type": "scattergl"
           }
          ],
          "scattermapbox": [
           {
            "marker": {
             "colorbar": {
              "outlinewidth": 0,
              "ticks": ""
             }
            },
            "type": "scattermapbox"
           }
          ],
          "scatterpolar": [
           {
            "marker": {
             "colorbar": {
              "outlinewidth": 0,
              "ticks": ""
             }
            },
            "type": "scatterpolar"
           }
          ],
          "scatterpolargl": [
           {
            "marker": {
             "colorbar": {
              "outlinewidth": 0,
              "ticks": ""
             }
            },
            "type": "scatterpolargl"
           }
          ],
          "scatterternary": [
           {
            "marker": {
             "colorbar": {
              "outlinewidth": 0,
              "ticks": ""
             }
            },
            "type": "scatterternary"
           }
          ],
          "surface": [
           {
            "colorbar": {
             "outlinewidth": 0,
             "ticks": ""
            },
            "colorscale": [
             [
              0,
              "#0d0887"
             ],
             [
              0.1111111111111111,
              "#46039f"
             ],
             [
              0.2222222222222222,
              "#7201a8"
             ],
             [
              0.3333333333333333,
              "#9c179e"
             ],
             [
              0.4444444444444444,
              "#bd3786"
             ],
             [
              0.5555555555555556,
              "#d8576b"
             ],
             [
              0.6666666666666666,
              "#ed7953"
             ],
             [
              0.7777777777777778,
              "#fb9f3a"
             ],
             [
              0.8888888888888888,
              "#fdca26"
             ],
             [
              1,
              "#f0f921"
             ]
            ],
            "type": "surface"
           }
          ],
          "table": [
           {
            "cells": {
             "fill": {
              "color": "#EBF0F8"
             },
             "line": {
              "color": "white"
             }
            },
            "header": {
             "fill": {
              "color": "#C8D4E3"
             },
             "line": {
              "color": "white"
             }
            },
            "type": "table"
           }
          ]
         },
         "layout": {
          "annotationdefaults": {
           "arrowcolor": "#2a3f5f",
           "arrowhead": 0,
           "arrowwidth": 1
          },
          "autotypenumbers": "strict",
          "coloraxis": {
           "colorbar": {
            "outlinewidth": 0,
            "ticks": ""
           }
          },
          "colorscale": {
           "diverging": [
            [
             0,
             "#8e0152"
            ],
            [
             0.1,
             "#c51b7d"
            ],
            [
             0.2,
             "#de77ae"
            ],
            [
             0.3,
             "#f1b6da"
            ],
            [
             0.4,
             "#fde0ef"
            ],
            [
             0.5,
             "#f7f7f7"
            ],
            [
             0.6,
             "#e6f5d0"
            ],
            [
             0.7,
             "#b8e186"
            ],
            [
             0.8,
             "#7fbc41"
            ],
            [
             0.9,
             "#4d9221"
            ],
            [
             1,
             "#276419"
            ]
           ],
           "sequential": [
            [
             0,
             "#0d0887"
            ],
            [
             0.1111111111111111,
             "#46039f"
            ],
            [
             0.2222222222222222,
             "#7201a8"
            ],
            [
             0.3333333333333333,
             "#9c179e"
            ],
            [
             0.4444444444444444,
             "#bd3786"
            ],
            [
             0.5555555555555556,
             "#d8576b"
            ],
            [
             0.6666666666666666,
             "#ed7953"
            ],
            [
             0.7777777777777778,
             "#fb9f3a"
            ],
            [
             0.8888888888888888,
             "#fdca26"
            ],
            [
             1,
             "#f0f921"
            ]
           ],
           "sequentialminus": [
            [
             0,
             "#0d0887"
            ],
            [
             0.1111111111111111,
             "#46039f"
            ],
            [
             0.2222222222222222,
             "#7201a8"
            ],
            [
             0.3333333333333333,
             "#9c179e"
            ],
            [
             0.4444444444444444,
             "#bd3786"
            ],
            [
             0.5555555555555556,
             "#d8576b"
            ],
            [
             0.6666666666666666,
             "#ed7953"
            ],
            [
             0.7777777777777778,
             "#fb9f3a"
            ],
            [
             0.8888888888888888,
             "#fdca26"
            ],
            [
             1,
             "#f0f921"
            ]
           ]
          },
          "colorway": [
           "#636efa",
           "#EF553B",
           "#00cc96",
           "#ab63fa",
           "#FFA15A",
           "#19d3f3",
           "#FF6692",
           "#B6E880",
           "#FF97FF",
           "#FECB52"
          ],
          "font": {
           "color": "#2a3f5f"
          },
          "geo": {
           "bgcolor": "white",
           "lakecolor": "white",
           "landcolor": "#E5ECF6",
           "showlakes": true,
           "showland": true,
           "subunitcolor": "white"
          },
          "hoverlabel": {
           "align": "left"
          },
          "hovermode": "closest",
          "mapbox": {
           "style": "light"
          },
          "paper_bgcolor": "white",
          "plot_bgcolor": "#E5ECF6",
          "polar": {
           "angularaxis": {
            "gridcolor": "white",
            "linecolor": "white",
            "ticks": ""
           },
           "bgcolor": "#E5ECF6",
           "radialaxis": {
            "gridcolor": "white",
            "linecolor": "white",
            "ticks": ""
           }
          },
          "scene": {
           "xaxis": {
            "backgroundcolor": "#E5ECF6",
            "gridcolor": "white",
            "gridwidth": 2,
            "linecolor": "white",
            "showbackground": true,
            "ticks": "",
            "zerolinecolor": "white"
           },
           "yaxis": {
            "backgroundcolor": "#E5ECF6",
            "gridcolor": "white",
            "gridwidth": 2,
            "linecolor": "white",
            "showbackground": true,
            "ticks": "",
            "zerolinecolor": "white"
           },
           "zaxis": {
            "backgroundcolor": "#E5ECF6",
            "gridcolor": "white",
            "gridwidth": 2,
            "linecolor": "white",
            "showbackground": true,
            "ticks": "",
            "zerolinecolor": "white"
           }
          },
          "shapedefaults": {
           "line": {
            "color": "#2a3f5f"
           }
          },
          "ternary": {
           "aaxis": {
            "gridcolor": "white",
            "linecolor": "white",
            "ticks": ""
           },
           "baxis": {
            "gridcolor": "white",
            "linecolor": "white",
            "ticks": ""
           },
           "bgcolor": "#E5ECF6",
           "caxis": {
            "gridcolor": "white",
            "linecolor": "white",
            "ticks": ""
           }
          },
          "title": {
           "x": 0.05
          },
          "xaxis": {
           "automargin": true,
           "gridcolor": "white",
           "linecolor": "white",
           "ticks": "",
           "title": {
            "standoff": 15
           },
           "zerolinecolor": "white",
           "zerolinewidth": 2
          },
          "yaxis": {
           "automargin": true,
           "gridcolor": "white",
           "linecolor": "white",
           "ticks": "",
           "title": {
            "standoff": 15
           },
           "zerolinecolor": "white",
           "zerolinewidth": 2
          }
         }
        },
        "xaxis": {
         "anchor": "y",
         "domain": [
          0,
          1
         ],
         "title": {
          "text": "total_bill"
         }
        },
        "yaxis": {
         "anchor": "x",
         "domain": [
          0,
          1
         ],
         "title": {
          "text": "count"
         }
        }
       }
      },
      "text/html": [
       "<div>                            <div id=\"b2072f5e-8560-43a4-a732-528c9e10cbc8\" class=\"plotly-graph-div\" style=\"height:525px; width:100%;\"></div>            <script type=\"text/javascript\">                require([\"plotly\"], function(Plotly) {                    window.PLOTLYENV=window.PLOTLYENV || {};                                    if (document.getElementById(\"b2072f5e-8560-43a4-a732-528c9e10cbc8\")) {                    Plotly.newPlot(                        \"b2072f5e-8560-43a4-a732-528c9e10cbc8\",                        [{\"alignmentgroup\": \"True\", \"bingroup\": \"x\", \"histnorm\": \"probability density\", \"hovertemplate\": \"total_bill=%{x}<br>count=%{y}<extra></extra>\", \"legendgroup\": \"\", \"marker\": {\"color\": \"#636efa\"}, \"name\": \"\", \"offsetgroup\": \"\", \"orientation\": \"v\", \"showlegend\": false, \"type\": \"histogram\", \"x\": [16.99, 10.34, 21.01, 23.68, 24.59, 25.29, 8.77, 26.88, 15.04, 14.78, 10.27, 35.26, 15.42, 18.43, 14.83, 21.58, 10.33, 16.29, 16.97, 20.65, 17.92, 20.29, 15.77, 39.42, 19.82, 17.81, 13.37, 12.69, 21.7, 19.65, 9.55, 18.35, 15.06, 20.69, 17.78, 24.06, 16.31, 16.93, 18.69, 31.27, 16.04, 17.46, 13.94, 9.68, 30.4, 18.29, 22.23, 32.4, 28.55, 18.04, 12.54, 10.29, 34.81, 9.94, 25.56, 19.49, 38.01, 26.41, 11.24, 48.27, 20.29, 13.81, 11.02, 18.29, 17.59, 20.08, 16.45, 3.07, 20.23, 15.01, 12.02, 17.07, 26.86, 25.28, 14.73, 10.51, 17.92, 27.2, 22.76, 17.29, 19.44, 16.66, 10.07, 32.68, 15.98, 34.83, 13.03, 18.28, 24.71, 21.16, 28.97, 22.49, 5.75, 16.32, 22.75, 40.17, 27.28, 12.03, 21.01, 12.46, 11.35, 15.38, 44.3, 22.42, 20.92, 15.36, 20.49, 25.21, 18.24, 14.31, 14.0, 7.25, 38.07, 23.95, 25.71, 17.31, 29.93, 10.65, 12.43, 24.08, 11.69, 13.42, 14.26, 15.95, 12.48, 29.8, 8.52, 14.52, 11.38, 22.82, 19.08, 20.27, 11.17, 12.26, 18.26, 8.51, 10.33, 14.15, 16.0, 13.16, 17.47, 34.3, 41.19, 27.05, 16.43, 8.35, 18.64, 11.87, 9.78, 7.51, 14.07, 13.13, 17.26, 24.55, 19.77, 29.85, 48.17, 25.0, 13.39, 16.49, 21.5, 12.66, 16.21, 13.81, 17.51, 24.52, 20.76, 31.71, 10.59, 10.63, 50.81, 15.81, 7.25, 31.85, 16.82, 32.9, 17.89, 14.48, 9.6, 34.63, 34.65, 23.33, 45.35, 23.17, 40.55, 20.69, 20.9, 30.46, 18.15, 23.1, 15.69, 19.81, 28.44, 15.48, 16.58, 7.56, 10.34, 43.11, 13.0, 13.51, 18.71, 12.74, 13.0, 16.4, 20.53, 16.47, 26.59, 38.73, 24.27, 12.76, 30.06, 25.89, 48.33, 13.27, 28.17, 12.9, 28.15, 11.59, 7.74, 30.14, 12.16, 13.42, 8.58, 15.98, 13.42, 16.27, 10.09, 20.45, 13.28, 22.12, 24.01, 15.69, 11.61, 10.77, 15.53, 10.07, 12.6, 32.83, 35.83, 29.03, 27.18, 22.67, 17.82, 18.78], \"xaxis\": \"x\", \"yaxis\": \"y\"}],                        {\"barmode\": \"relative\", \"legend\": {\"tracegroupgap\": 0}, \"margin\": {\"t\": 60}, \"template\": {\"data\": {\"bar\": [{\"error_x\": {\"color\": \"#2a3f5f\"}, \"error_y\": {\"color\": \"#2a3f5f\"}, \"marker\": {\"line\": {\"color\": \"#E5ECF6\", \"width\": 0.5}}, \"type\": \"bar\"}], \"barpolar\": [{\"marker\": {\"line\": {\"color\": \"#E5ECF6\", \"width\": 0.5}}, \"type\": \"barpolar\"}], \"carpet\": [{\"aaxis\": {\"endlinecolor\": \"#2a3f5f\", \"gridcolor\": \"white\", \"linecolor\": \"white\", \"minorgridcolor\": \"white\", \"startlinecolor\": \"#2a3f5f\"}, \"baxis\": {\"endlinecolor\": \"#2a3f5f\", \"gridcolor\": \"white\", \"linecolor\": \"white\", \"minorgridcolor\": \"white\", \"startlinecolor\": \"#2a3f5f\"}, \"type\": \"carpet\"}], \"choropleth\": [{\"colorbar\": {\"outlinewidth\": 0, \"ticks\": \"\"}, \"type\": \"choropleth\"}], \"contour\": [{\"colorbar\": {\"outlinewidth\": 0, \"ticks\": \"\"}, \"colorscale\": [[0.0, \"#0d0887\"], [0.1111111111111111, \"#46039f\"], [0.2222222222222222, \"#7201a8\"], [0.3333333333333333, \"#9c179e\"], [0.4444444444444444, \"#bd3786\"], [0.5555555555555556, \"#d8576b\"], [0.6666666666666666, \"#ed7953\"], [0.7777777777777778, \"#fb9f3a\"], [0.8888888888888888, \"#fdca26\"], [1.0, \"#f0f921\"]], \"type\": \"contour\"}], \"contourcarpet\": [{\"colorbar\": {\"outlinewidth\": 0, \"ticks\": \"\"}, \"type\": \"contourcarpet\"}], \"heatmap\": [{\"colorbar\": {\"outlinewidth\": 0, \"ticks\": \"\"}, \"colorscale\": [[0.0, \"#0d0887\"], [0.1111111111111111, \"#46039f\"], [0.2222222222222222, \"#7201a8\"], [0.3333333333333333, \"#9c179e\"], [0.4444444444444444, \"#bd3786\"], [0.5555555555555556, \"#d8576b\"], [0.6666666666666666, \"#ed7953\"], [0.7777777777777778, \"#fb9f3a\"], [0.8888888888888888, \"#fdca26\"], [1.0, \"#f0f921\"]], \"type\": \"heatmap\"}], \"heatmapgl\": [{\"colorbar\": {\"outlinewidth\": 0, \"ticks\": \"\"}, \"colorscale\": [[0.0, \"#0d0887\"], [0.1111111111111111, \"#46039f\"], [0.2222222222222222, \"#7201a8\"], [0.3333333333333333, \"#9c179e\"], [0.4444444444444444, \"#bd3786\"], [0.5555555555555556, \"#d8576b\"], [0.6666666666666666, \"#ed7953\"], [0.7777777777777778, \"#fb9f3a\"], [0.8888888888888888, \"#fdca26\"], [1.0, \"#f0f921\"]], \"type\": \"heatmapgl\"}], \"histogram\": [{\"marker\": {\"colorbar\": {\"outlinewidth\": 0, \"ticks\": \"\"}}, \"type\": \"histogram\"}], \"histogram2d\": [{\"colorbar\": {\"outlinewidth\": 0, \"ticks\": \"\"}, \"colorscale\": [[0.0, \"#0d0887\"], [0.1111111111111111, \"#46039f\"], [0.2222222222222222, \"#7201a8\"], [0.3333333333333333, \"#9c179e\"], [0.4444444444444444, \"#bd3786\"], [0.5555555555555556, \"#d8576b\"], [0.6666666666666666, \"#ed7953\"], [0.7777777777777778, \"#fb9f3a\"], [0.8888888888888888, \"#fdca26\"], [1.0, \"#f0f921\"]], \"type\": \"histogram2d\"}], \"histogram2dcontour\": [{\"colorbar\": {\"outlinewidth\": 0, \"ticks\": \"\"}, \"colorscale\": [[0.0, \"#0d0887\"], [0.1111111111111111, \"#46039f\"], [0.2222222222222222, \"#7201a8\"], [0.3333333333333333, \"#9c179e\"], [0.4444444444444444, \"#bd3786\"], [0.5555555555555556, \"#d8576b\"], [0.6666666666666666, \"#ed7953\"], [0.7777777777777778, \"#fb9f3a\"], [0.8888888888888888, \"#fdca26\"], [1.0, \"#f0f921\"]], \"type\": \"histogram2dcontour\"}], \"mesh3d\": [{\"colorbar\": {\"outlinewidth\": 0, \"ticks\": \"\"}, \"type\": \"mesh3d\"}], \"parcoords\": [{\"line\": {\"colorbar\": {\"outlinewidth\": 0, \"ticks\": \"\"}}, \"type\": \"parcoords\"}], \"pie\": [{\"automargin\": true, \"type\": \"pie\"}], \"scatter\": [{\"marker\": {\"colorbar\": {\"outlinewidth\": 0, \"ticks\": \"\"}}, \"type\": \"scatter\"}], \"scatter3d\": [{\"line\": {\"colorbar\": {\"outlinewidth\": 0, \"ticks\": \"\"}}, \"marker\": {\"colorbar\": {\"outlinewidth\": 0, \"ticks\": \"\"}}, \"type\": \"scatter3d\"}], \"scattercarpet\": [{\"marker\": {\"colorbar\": {\"outlinewidth\": 0, \"ticks\": \"\"}}, \"type\": \"scattercarpet\"}], \"scattergeo\": [{\"marker\": {\"colorbar\": {\"outlinewidth\": 0, \"ticks\": \"\"}}, \"type\": \"scattergeo\"}], \"scattergl\": [{\"marker\": {\"colorbar\": {\"outlinewidth\": 0, \"ticks\": \"\"}}, \"type\": \"scattergl\"}], \"scattermapbox\": [{\"marker\": {\"colorbar\": {\"outlinewidth\": 0, \"ticks\": \"\"}}, \"type\": \"scattermapbox\"}], \"scatterpolar\": [{\"marker\": {\"colorbar\": {\"outlinewidth\": 0, \"ticks\": \"\"}}, \"type\": \"scatterpolar\"}], \"scatterpolargl\": [{\"marker\": {\"colorbar\": {\"outlinewidth\": 0, \"ticks\": \"\"}}, \"type\": \"scatterpolargl\"}], \"scatterternary\": [{\"marker\": {\"colorbar\": {\"outlinewidth\": 0, \"ticks\": \"\"}}, \"type\": \"scatterternary\"}], \"surface\": [{\"colorbar\": {\"outlinewidth\": 0, \"ticks\": \"\"}, \"colorscale\": [[0.0, \"#0d0887\"], [0.1111111111111111, \"#46039f\"], [0.2222222222222222, \"#7201a8\"], [0.3333333333333333, \"#9c179e\"], [0.4444444444444444, \"#bd3786\"], [0.5555555555555556, \"#d8576b\"], [0.6666666666666666, \"#ed7953\"], [0.7777777777777778, \"#fb9f3a\"], [0.8888888888888888, \"#fdca26\"], [1.0, \"#f0f921\"]], \"type\": \"surface\"}], \"table\": [{\"cells\": {\"fill\": {\"color\": \"#EBF0F8\"}, \"line\": {\"color\": \"white\"}}, \"header\": {\"fill\": {\"color\": \"#C8D4E3\"}, \"line\": {\"color\": \"white\"}}, \"type\": \"table\"}]}, \"layout\": {\"annotationdefaults\": {\"arrowcolor\": \"#2a3f5f\", \"arrowhead\": 0, \"arrowwidth\": 1}, \"autotypenumbers\": \"strict\", \"coloraxis\": {\"colorbar\": {\"outlinewidth\": 0, \"ticks\": \"\"}}, \"colorscale\": {\"diverging\": [[0, \"#8e0152\"], [0.1, \"#c51b7d\"], [0.2, \"#de77ae\"], [0.3, \"#f1b6da\"], [0.4, \"#fde0ef\"], [0.5, \"#f7f7f7\"], [0.6, \"#e6f5d0\"], [0.7, \"#b8e186\"], [0.8, \"#7fbc41\"], [0.9, \"#4d9221\"], [1, \"#276419\"]], \"sequential\": [[0.0, \"#0d0887\"], [0.1111111111111111, \"#46039f\"], [0.2222222222222222, \"#7201a8\"], [0.3333333333333333, \"#9c179e\"], [0.4444444444444444, \"#bd3786\"], [0.5555555555555556, \"#d8576b\"], [0.6666666666666666, \"#ed7953\"], [0.7777777777777778, \"#fb9f3a\"], [0.8888888888888888, \"#fdca26\"], [1.0, \"#f0f921\"]], \"sequentialminus\": [[0.0, \"#0d0887\"], [0.1111111111111111, \"#46039f\"], [0.2222222222222222, \"#7201a8\"], [0.3333333333333333, \"#9c179e\"], [0.4444444444444444, \"#bd3786\"], [0.5555555555555556, \"#d8576b\"], [0.6666666666666666, \"#ed7953\"], [0.7777777777777778, \"#fb9f3a\"], [0.8888888888888888, \"#fdca26\"], [1.0, \"#f0f921\"]]}, \"colorway\": [\"#636efa\", \"#EF553B\", \"#00cc96\", \"#ab63fa\", \"#FFA15A\", \"#19d3f3\", \"#FF6692\", \"#B6E880\", \"#FF97FF\", \"#FECB52\"], \"font\": {\"color\": \"#2a3f5f\"}, \"geo\": {\"bgcolor\": \"white\", \"lakecolor\": \"white\", \"landcolor\": \"#E5ECF6\", \"showlakes\": true, \"showland\": true, \"subunitcolor\": \"white\"}, \"hoverlabel\": {\"align\": \"left\"}, \"hovermode\": \"closest\", \"mapbox\": {\"style\": \"light\"}, \"paper_bgcolor\": \"white\", \"plot_bgcolor\": \"#E5ECF6\", \"polar\": {\"angularaxis\": {\"gridcolor\": \"white\", \"linecolor\": \"white\", \"ticks\": \"\"}, \"bgcolor\": \"#E5ECF6\", \"radialaxis\": {\"gridcolor\": \"white\", \"linecolor\": \"white\", \"ticks\": \"\"}}, \"scene\": {\"xaxis\": {\"backgroundcolor\": \"#E5ECF6\", \"gridcolor\": \"white\", \"gridwidth\": 2, \"linecolor\": \"white\", \"showbackground\": true, \"ticks\": \"\", \"zerolinecolor\": \"white\"}, \"yaxis\": {\"backgroundcolor\": \"#E5ECF6\", \"gridcolor\": \"white\", \"gridwidth\": 2, \"linecolor\": \"white\", \"showbackground\": true, \"ticks\": \"\", \"zerolinecolor\": \"white\"}, \"zaxis\": {\"backgroundcolor\": \"#E5ECF6\", \"gridcolor\": \"white\", \"gridwidth\": 2, \"linecolor\": \"white\", \"showbackground\": true, \"ticks\": \"\", \"zerolinecolor\": \"white\"}}, \"shapedefaults\": {\"line\": {\"color\": \"#2a3f5f\"}}, \"ternary\": {\"aaxis\": {\"gridcolor\": \"white\", \"linecolor\": \"white\", \"ticks\": \"\"}, \"baxis\": {\"gridcolor\": \"white\", \"linecolor\": \"white\", \"ticks\": \"\"}, \"bgcolor\": \"#E5ECF6\", \"caxis\": {\"gridcolor\": \"white\", \"linecolor\": \"white\", \"ticks\": \"\"}}, \"title\": {\"x\": 0.05}, \"xaxis\": {\"automargin\": true, \"gridcolor\": \"white\", \"linecolor\": \"white\", \"ticks\": \"\", \"title\": {\"standoff\": 15}, \"zerolinecolor\": \"white\", \"zerolinewidth\": 2}, \"yaxis\": {\"automargin\": true, \"gridcolor\": \"white\", \"linecolor\": \"white\", \"ticks\": \"\", \"title\": {\"standoff\": 15}, \"zerolinecolor\": \"white\", \"zerolinewidth\": 2}}}, \"xaxis\": {\"anchor\": \"y\", \"domain\": [0.0, 1.0], \"title\": {\"text\": \"total_bill\"}}, \"yaxis\": {\"anchor\": \"x\", \"domain\": [0.0, 1.0], \"title\": {\"text\": \"count\"}}},                        {\"responsive\": true}                    ).then(function(){\n",
       "                            \n",
       "var gd = document.getElementById('b2072f5e-8560-43a4-a732-528c9e10cbc8');\n",
       "var x = new MutationObserver(function (mutations, observer) {{\n",
       "        var display = window.getComputedStyle(gd).display;\n",
       "        if (!display || display === 'none') {{\n",
       "            console.log([gd, 'removed!']);\n",
       "            Plotly.purge(gd);\n",
       "            observer.disconnect();\n",
       "        }}\n",
       "}});\n",
       "\n",
       "// Listen for the removal of the full notebook cells\n",
       "var notebookContainer = gd.closest('#notebook-container');\n",
       "if (notebookContainer) {{\n",
       "    x.observe(notebookContainer, {childList: true});\n",
       "}}\n",
       "\n",
       "// Listen for the clearing of the current output cell\n",
       "var outputEl = gd.closest('.output');\n",
       "if (outputEl) {{\n",
       "    x.observe(outputEl, {childList: true});\n",
       "}}\n",
       "\n",
       "                        })                };                });            </script>        </div>"
      ]
     },
     "metadata": {},
     "output_type": "display_data"
    }
   ],
   "source": [
    "fig = px.histogram(tips, x='total_bill', histnorm='probability density')\n",
    "fig.show()"
   ]
  },
  {
   "cell_type": "code",
   "execution_count": 15,
   "metadata": {},
   "outputs": [
    {
     "data": {
      "application/vnd.plotly.v1+json": {
       "config": {
        "plotlyServerURL": "https://plot.ly"
       },
       "data": [
        {
         "alignmentgroup": "True",
         "bingroup": "x",
         "hovertemplate": "TOTAL BILL=%{x}<br>count=%{y}<extra></extra>",
         "legendgroup": "",
         "marker": {
          "color": "deepskyblue",
          "opacity": 0.7
         },
         "name": "",
         "offsetgroup": "",
         "orientation": "v",
         "showlegend": false,
         "type": "histogram",
         "x": [
          16.99,
          10.34,
          21.01,
          23.68,
          24.59,
          25.29,
          8.77,
          26.88,
          15.04,
          14.78,
          10.27,
          35.26,
          15.42,
          18.43,
          14.83,
          21.58,
          10.33,
          16.29,
          16.97,
          20.65,
          17.92,
          20.29,
          15.77,
          39.42,
          19.82,
          17.81,
          13.37,
          12.69,
          21.7,
          19.65,
          9.55,
          18.35,
          15.06,
          20.69,
          17.78,
          24.06,
          16.31,
          16.93,
          18.69,
          31.27,
          16.04,
          17.46,
          13.94,
          9.68,
          30.4,
          18.29,
          22.23,
          32.4,
          28.55,
          18.04,
          12.54,
          10.29,
          34.81,
          9.94,
          25.56,
          19.49,
          38.01,
          26.41,
          11.24,
          48.27,
          20.29,
          13.81,
          11.02,
          18.29,
          17.59,
          20.08,
          16.45,
          3.07,
          20.23,
          15.01,
          12.02,
          17.07,
          26.86,
          25.28,
          14.73,
          10.51,
          17.92,
          27.2,
          22.76,
          17.29,
          19.44,
          16.66,
          10.07,
          32.68,
          15.98,
          34.83,
          13.03,
          18.28,
          24.71,
          21.16,
          28.97,
          22.49,
          5.75,
          16.32,
          22.75,
          40.17,
          27.28,
          12.03,
          21.01,
          12.46,
          11.35,
          15.38,
          44.3,
          22.42,
          20.92,
          15.36,
          20.49,
          25.21,
          18.24,
          14.31,
          14,
          7.25,
          38.07,
          23.95,
          25.71,
          17.31,
          29.93,
          10.65,
          12.43,
          24.08,
          11.69,
          13.42,
          14.26,
          15.95,
          12.48,
          29.8,
          8.52,
          14.52,
          11.38,
          22.82,
          19.08,
          20.27,
          11.17,
          12.26,
          18.26,
          8.51,
          10.33,
          14.15,
          16,
          13.16,
          17.47,
          34.3,
          41.19,
          27.05,
          16.43,
          8.35,
          18.64,
          11.87,
          9.78,
          7.51,
          14.07,
          13.13,
          17.26,
          24.55,
          19.77,
          29.85,
          48.17,
          25,
          13.39,
          16.49,
          21.5,
          12.66,
          16.21,
          13.81,
          17.51,
          24.52,
          20.76,
          31.71,
          10.59,
          10.63,
          50.81,
          15.81,
          7.25,
          31.85,
          16.82,
          32.9,
          17.89,
          14.48,
          9.6,
          34.63,
          34.65,
          23.33,
          45.35,
          23.17,
          40.55,
          20.69,
          20.9,
          30.46,
          18.15,
          23.1,
          15.69,
          19.81,
          28.44,
          15.48,
          16.58,
          7.56,
          10.34,
          43.11,
          13,
          13.51,
          18.71,
          12.74,
          13,
          16.4,
          20.53,
          16.47,
          26.59,
          38.73,
          24.27,
          12.76,
          30.06,
          25.89,
          48.33,
          13.27,
          28.17,
          12.9,
          28.15,
          11.59,
          7.74,
          30.14,
          12.16,
          13.42,
          8.58,
          15.98,
          13.42,
          16.27,
          10.09,
          20.45,
          13.28,
          22.12,
          24.01,
          15.69,
          11.61,
          10.77,
          15.53,
          10.07,
          12.6,
          32.83,
          35.83,
          29.03,
          27.18,
          22.67,
          17.82,
          18.78
         ],
         "xaxis": "x",
         "yaxis": "y"
        }
       ],
       "layout": {
        "barmode": "relative",
        "legend": {
         "tracegroupgap": 0
        },
        "margin": {
         "t": 60
        },
        "template": {
         "data": {
          "bar": [
           {
            "error_x": {
             "color": "#2a3f5f"
            },
            "error_y": {
             "color": "#2a3f5f"
            },
            "marker": {
             "line": {
              "color": "#E5ECF6",
              "width": 0.5
             }
            },
            "type": "bar"
           }
          ],
          "barpolar": [
           {
            "marker": {
             "line": {
              "color": "#E5ECF6",
              "width": 0.5
             }
            },
            "type": "barpolar"
           }
          ],
          "carpet": [
           {
            "aaxis": {
             "endlinecolor": "#2a3f5f",
             "gridcolor": "white",
             "linecolor": "white",
             "minorgridcolor": "white",
             "startlinecolor": "#2a3f5f"
            },
            "baxis": {
             "endlinecolor": "#2a3f5f",
             "gridcolor": "white",
             "linecolor": "white",
             "minorgridcolor": "white",
             "startlinecolor": "#2a3f5f"
            },
            "type": "carpet"
           }
          ],
          "choropleth": [
           {
            "colorbar": {
             "outlinewidth": 0,
             "ticks": ""
            },
            "type": "choropleth"
           }
          ],
          "contour": [
           {
            "colorbar": {
             "outlinewidth": 0,
             "ticks": ""
            },
            "colorscale": [
             [
              0,
              "#0d0887"
             ],
             [
              0.1111111111111111,
              "#46039f"
             ],
             [
              0.2222222222222222,
              "#7201a8"
             ],
             [
              0.3333333333333333,
              "#9c179e"
             ],
             [
              0.4444444444444444,
              "#bd3786"
             ],
             [
              0.5555555555555556,
              "#d8576b"
             ],
             [
              0.6666666666666666,
              "#ed7953"
             ],
             [
              0.7777777777777778,
              "#fb9f3a"
             ],
             [
              0.8888888888888888,
              "#fdca26"
             ],
             [
              1,
              "#f0f921"
             ]
            ],
            "type": "contour"
           }
          ],
          "contourcarpet": [
           {
            "colorbar": {
             "outlinewidth": 0,
             "ticks": ""
            },
            "type": "contourcarpet"
           }
          ],
          "heatmap": [
           {
            "colorbar": {
             "outlinewidth": 0,
             "ticks": ""
            },
            "colorscale": [
             [
              0,
              "#0d0887"
             ],
             [
              0.1111111111111111,
              "#46039f"
             ],
             [
              0.2222222222222222,
              "#7201a8"
             ],
             [
              0.3333333333333333,
              "#9c179e"
             ],
             [
              0.4444444444444444,
              "#bd3786"
             ],
             [
              0.5555555555555556,
              "#d8576b"
             ],
             [
              0.6666666666666666,
              "#ed7953"
             ],
             [
              0.7777777777777778,
              "#fb9f3a"
             ],
             [
              0.8888888888888888,
              "#fdca26"
             ],
             [
              1,
              "#f0f921"
             ]
            ],
            "type": "heatmap"
           }
          ],
          "heatmapgl": [
           {
            "colorbar": {
             "outlinewidth": 0,
             "ticks": ""
            },
            "colorscale": [
             [
              0,
              "#0d0887"
             ],
             [
              0.1111111111111111,
              "#46039f"
             ],
             [
              0.2222222222222222,
              "#7201a8"
             ],
             [
              0.3333333333333333,
              "#9c179e"
             ],
             [
              0.4444444444444444,
              "#bd3786"
             ],
             [
              0.5555555555555556,
              "#d8576b"
             ],
             [
              0.6666666666666666,
              "#ed7953"
             ],
             [
              0.7777777777777778,
              "#fb9f3a"
             ],
             [
              0.8888888888888888,
              "#fdca26"
             ],
             [
              1,
              "#f0f921"
             ]
            ],
            "type": "heatmapgl"
           }
          ],
          "histogram": [
           {
            "marker": {
             "colorbar": {
              "outlinewidth": 0,
              "ticks": ""
             }
            },
            "type": "histogram"
           }
          ],
          "histogram2d": [
           {
            "colorbar": {
             "outlinewidth": 0,
             "ticks": ""
            },
            "colorscale": [
             [
              0,
              "#0d0887"
             ],
             [
              0.1111111111111111,
              "#46039f"
             ],
             [
              0.2222222222222222,
              "#7201a8"
             ],
             [
              0.3333333333333333,
              "#9c179e"
             ],
             [
              0.4444444444444444,
              "#bd3786"
             ],
             [
              0.5555555555555556,
              "#d8576b"
             ],
             [
              0.6666666666666666,
              "#ed7953"
             ],
             [
              0.7777777777777778,
              "#fb9f3a"
             ],
             [
              0.8888888888888888,
              "#fdca26"
             ],
             [
              1,
              "#f0f921"
             ]
            ],
            "type": "histogram2d"
           }
          ],
          "histogram2dcontour": [
           {
            "colorbar": {
             "outlinewidth": 0,
             "ticks": ""
            },
            "colorscale": [
             [
              0,
              "#0d0887"
             ],
             [
              0.1111111111111111,
              "#46039f"
             ],
             [
              0.2222222222222222,
              "#7201a8"
             ],
             [
              0.3333333333333333,
              "#9c179e"
             ],
             [
              0.4444444444444444,
              "#bd3786"
             ],
             [
              0.5555555555555556,
              "#d8576b"
             ],
             [
              0.6666666666666666,
              "#ed7953"
             ],
             [
              0.7777777777777778,
              "#fb9f3a"
             ],
             [
              0.8888888888888888,
              "#fdca26"
             ],
             [
              1,
              "#f0f921"
             ]
            ],
            "type": "histogram2dcontour"
           }
          ],
          "mesh3d": [
           {
            "colorbar": {
             "outlinewidth": 0,
             "ticks": ""
            },
            "type": "mesh3d"
           }
          ],
          "parcoords": [
           {
            "line": {
             "colorbar": {
              "outlinewidth": 0,
              "ticks": ""
             }
            },
            "type": "parcoords"
           }
          ],
          "pie": [
           {
            "automargin": true,
            "type": "pie"
           }
          ],
          "scatter": [
           {
            "marker": {
             "colorbar": {
              "outlinewidth": 0,
              "ticks": ""
             }
            },
            "type": "scatter"
           }
          ],
          "scatter3d": [
           {
            "line": {
             "colorbar": {
              "outlinewidth": 0,
              "ticks": ""
             }
            },
            "marker": {
             "colorbar": {
              "outlinewidth": 0,
              "ticks": ""
             }
            },
            "type": "scatter3d"
           }
          ],
          "scattercarpet": [
           {
            "marker": {
             "colorbar": {
              "outlinewidth": 0,
              "ticks": ""
             }
            },
            "type": "scattercarpet"
           }
          ],
          "scattergeo": [
           {
            "marker": {
             "colorbar": {
              "outlinewidth": 0,
              "ticks": ""
             }
            },
            "type": "scattergeo"
           }
          ],
          "scattergl": [
           {
            "marker": {
             "colorbar": {
              "outlinewidth": 0,
              "ticks": ""
             }
            },
            "type": "scattergl"
           }
          ],
          "scattermapbox": [
           {
            "marker": {
             "colorbar": {
              "outlinewidth": 0,
              "ticks": ""
             }
            },
            "type": "scattermapbox"
           }
          ],
          "scatterpolar": [
           {
            "marker": {
             "colorbar": {
              "outlinewidth": 0,
              "ticks": ""
             }
            },
            "type": "scatterpolar"
           }
          ],
          "scatterpolargl": [
           {
            "marker": {
             "colorbar": {
              "outlinewidth": 0,
              "ticks": ""
             }
            },
            "type": "scatterpolargl"
           }
          ],
          "scatterternary": [
           {
            "marker": {
             "colorbar": {
              "outlinewidth": 0,
              "ticks": ""
             }
            },
            "type": "scatterternary"
           }
          ],
          "surface": [
           {
            "colorbar": {
             "outlinewidth": 0,
             "ticks": ""
            },
            "colorscale": [
             [
              0,
              "#0d0887"
             ],
             [
              0.1111111111111111,
              "#46039f"
             ],
             [
              0.2222222222222222,
              "#7201a8"
             ],
             [
              0.3333333333333333,
              "#9c179e"
             ],
             [
              0.4444444444444444,
              "#bd3786"
             ],
             [
              0.5555555555555556,
              "#d8576b"
             ],
             [
              0.6666666666666666,
              "#ed7953"
             ],
             [
              0.7777777777777778,
              "#fb9f3a"
             ],
             [
              0.8888888888888888,
              "#fdca26"
             ],
             [
              1,
              "#f0f921"
             ]
            ],
            "type": "surface"
           }
          ],
          "table": [
           {
            "cells": {
             "fill": {
              "color": "#EBF0F8"
             },
             "line": {
              "color": "white"
             }
            },
            "header": {
             "fill": {
              "color": "#C8D4E3"
             },
             "line": {
              "color": "white"
             }
            },
            "type": "table"
           }
          ]
         },
         "layout": {
          "annotationdefaults": {
           "arrowcolor": "#2a3f5f",
           "arrowhead": 0,
           "arrowwidth": 1
          },
          "autotypenumbers": "strict",
          "coloraxis": {
           "colorbar": {
            "outlinewidth": 0,
            "ticks": ""
           }
          },
          "colorscale": {
           "diverging": [
            [
             0,
             "#8e0152"
            ],
            [
             0.1,
             "#c51b7d"
            ],
            [
             0.2,
             "#de77ae"
            ],
            [
             0.3,
             "#f1b6da"
            ],
            [
             0.4,
             "#fde0ef"
            ],
            [
             0.5,
             "#f7f7f7"
            ],
            [
             0.6,
             "#e6f5d0"
            ],
            [
             0.7,
             "#b8e186"
            ],
            [
             0.8,
             "#7fbc41"
            ],
            [
             0.9,
             "#4d9221"
            ],
            [
             1,
             "#276419"
            ]
           ],
           "sequential": [
            [
             0,
             "#0d0887"
            ],
            [
             0.1111111111111111,
             "#46039f"
            ],
            [
             0.2222222222222222,
             "#7201a8"
            ],
            [
             0.3333333333333333,
             "#9c179e"
            ],
            [
             0.4444444444444444,
             "#bd3786"
            ],
            [
             0.5555555555555556,
             "#d8576b"
            ],
            [
             0.6666666666666666,
             "#ed7953"
            ],
            [
             0.7777777777777778,
             "#fb9f3a"
            ],
            [
             0.8888888888888888,
             "#fdca26"
            ],
            [
             1,
             "#f0f921"
            ]
           ],
           "sequentialminus": [
            [
             0,
             "#0d0887"
            ],
            [
             0.1111111111111111,
             "#46039f"
            ],
            [
             0.2222222222222222,
             "#7201a8"
            ],
            [
             0.3333333333333333,
             "#9c179e"
            ],
            [
             0.4444444444444444,
             "#bd3786"
            ],
            [
             0.5555555555555556,
             "#d8576b"
            ],
            [
             0.6666666666666666,
             "#ed7953"
            ],
            [
             0.7777777777777778,
             "#fb9f3a"
            ],
            [
             0.8888888888888888,
             "#fdca26"
            ],
            [
             1,
             "#f0f921"
            ]
           ]
          },
          "colorway": [
           "#636efa",
           "#EF553B",
           "#00cc96",
           "#ab63fa",
           "#FFA15A",
           "#19d3f3",
           "#FF6692",
           "#B6E880",
           "#FF97FF",
           "#FECB52"
          ],
          "font": {
           "color": "#2a3f5f"
          },
          "geo": {
           "bgcolor": "white",
           "lakecolor": "white",
           "landcolor": "#E5ECF6",
           "showlakes": true,
           "showland": true,
           "subunitcolor": "white"
          },
          "hoverlabel": {
           "align": "left"
          },
          "hovermode": "closest",
          "mapbox": {
           "style": "light"
          },
          "paper_bgcolor": "white",
          "plot_bgcolor": "#E5ECF6",
          "polar": {
           "angularaxis": {
            "gridcolor": "white",
            "linecolor": "white",
            "ticks": ""
           },
           "bgcolor": "#E5ECF6",
           "radialaxis": {
            "gridcolor": "white",
            "linecolor": "white",
            "ticks": ""
           }
          },
          "scene": {
           "xaxis": {
            "backgroundcolor": "#E5ECF6",
            "gridcolor": "white",
            "gridwidth": 2,
            "linecolor": "white",
            "showbackground": true,
            "ticks": "",
            "zerolinecolor": "white"
           },
           "yaxis": {
            "backgroundcolor": "#E5ECF6",
            "gridcolor": "white",
            "gridwidth": 2,
            "linecolor": "white",
            "showbackground": true,
            "ticks": "",
            "zerolinecolor": "white"
           },
           "zaxis": {
            "backgroundcolor": "#E5ECF6",
            "gridcolor": "white",
            "gridwidth": 2,
            "linecolor": "white",
            "showbackground": true,
            "ticks": "",
            "zerolinecolor": "white"
           }
          },
          "shapedefaults": {
           "line": {
            "color": "#2a3f5f"
           }
          },
          "ternary": {
           "aaxis": {
            "gridcolor": "white",
            "linecolor": "white",
            "ticks": ""
           },
           "baxis": {
            "gridcolor": "white",
            "linecolor": "white",
            "ticks": ""
           },
           "bgcolor": "#E5ECF6",
           "caxis": {
            "gridcolor": "white",
            "linecolor": "white",
            "ticks": ""
           }
          },
          "title": {
           "x": 0.05
          },
          "xaxis": {
           "automargin": true,
           "gridcolor": "white",
           "linecolor": "white",
           "ticks": "",
           "title": {
            "standoff": 15
           },
           "zerolinecolor": "white",
           "zerolinewidth": 2
          },
          "yaxis": {
           "automargin": true,
           "gridcolor": "white",
           "linecolor": "white",
           "ticks": "",
           "title": {
            "standoff": 15
           },
           "zerolinecolor": "white",
           "zerolinewidth": 2
          }
         }
        },
        "xaxis": {
         "anchor": "y",
         "domain": [
          0,
          1
         ],
         "title": {
          "text": "TOTAL BILL"
         }
        },
        "yaxis": {
         "anchor": "x",
         "domain": [
          0,
          1
         ],
         "title": {
          "text": "count"
         },
         "type": "log"
        }
       }
      },
      "text/html": [
       "<div>                            <div id=\"5c54b7e8-e2bf-4a78-a8f9-aa22c2a3c99e\" class=\"plotly-graph-div\" style=\"height:525px; width:100%;\"></div>            <script type=\"text/javascript\">                require([\"plotly\"], function(Plotly) {                    window.PLOTLYENV=window.PLOTLYENV || {};                                    if (document.getElementById(\"5c54b7e8-e2bf-4a78-a8f9-aa22c2a3c99e\")) {                    Plotly.newPlot(                        \"5c54b7e8-e2bf-4a78-a8f9-aa22c2a3c99e\",                        [{\"alignmentgroup\": \"True\", \"bingroup\": \"x\", \"hovertemplate\": \"TOTAL BILL=%{x}<br>count=%{y}<extra></extra>\", \"legendgroup\": \"\", \"marker\": {\"color\": \"deepskyblue\", \"opacity\": 0.7}, \"name\": \"\", \"offsetgroup\": \"\", \"orientation\": \"v\", \"showlegend\": false, \"type\": \"histogram\", \"x\": [16.99, 10.34, 21.01, 23.68, 24.59, 25.29, 8.77, 26.88, 15.04, 14.78, 10.27, 35.26, 15.42, 18.43, 14.83, 21.58, 10.33, 16.29, 16.97, 20.65, 17.92, 20.29, 15.77, 39.42, 19.82, 17.81, 13.37, 12.69, 21.7, 19.65, 9.55, 18.35, 15.06, 20.69, 17.78, 24.06, 16.31, 16.93, 18.69, 31.27, 16.04, 17.46, 13.94, 9.68, 30.4, 18.29, 22.23, 32.4, 28.55, 18.04, 12.54, 10.29, 34.81, 9.94, 25.56, 19.49, 38.01, 26.41, 11.24, 48.27, 20.29, 13.81, 11.02, 18.29, 17.59, 20.08, 16.45, 3.07, 20.23, 15.01, 12.02, 17.07, 26.86, 25.28, 14.73, 10.51, 17.92, 27.2, 22.76, 17.29, 19.44, 16.66, 10.07, 32.68, 15.98, 34.83, 13.03, 18.28, 24.71, 21.16, 28.97, 22.49, 5.75, 16.32, 22.75, 40.17, 27.28, 12.03, 21.01, 12.46, 11.35, 15.38, 44.3, 22.42, 20.92, 15.36, 20.49, 25.21, 18.24, 14.31, 14.0, 7.25, 38.07, 23.95, 25.71, 17.31, 29.93, 10.65, 12.43, 24.08, 11.69, 13.42, 14.26, 15.95, 12.48, 29.8, 8.52, 14.52, 11.38, 22.82, 19.08, 20.27, 11.17, 12.26, 18.26, 8.51, 10.33, 14.15, 16.0, 13.16, 17.47, 34.3, 41.19, 27.05, 16.43, 8.35, 18.64, 11.87, 9.78, 7.51, 14.07, 13.13, 17.26, 24.55, 19.77, 29.85, 48.17, 25.0, 13.39, 16.49, 21.5, 12.66, 16.21, 13.81, 17.51, 24.52, 20.76, 31.71, 10.59, 10.63, 50.81, 15.81, 7.25, 31.85, 16.82, 32.9, 17.89, 14.48, 9.6, 34.63, 34.65, 23.33, 45.35, 23.17, 40.55, 20.69, 20.9, 30.46, 18.15, 23.1, 15.69, 19.81, 28.44, 15.48, 16.58, 7.56, 10.34, 43.11, 13.0, 13.51, 18.71, 12.74, 13.0, 16.4, 20.53, 16.47, 26.59, 38.73, 24.27, 12.76, 30.06, 25.89, 48.33, 13.27, 28.17, 12.9, 28.15, 11.59, 7.74, 30.14, 12.16, 13.42, 8.58, 15.98, 13.42, 16.27, 10.09, 20.45, 13.28, 22.12, 24.01, 15.69, 11.61, 10.77, 15.53, 10.07, 12.6, 32.83, 35.83, 29.03, 27.18, 22.67, 17.82, 18.78], \"xaxis\": \"x\", \"yaxis\": \"y\"}],                        {\"barmode\": \"relative\", \"legend\": {\"tracegroupgap\": 0}, \"margin\": {\"t\": 60}, \"template\": {\"data\": {\"bar\": [{\"error_x\": {\"color\": \"#2a3f5f\"}, \"error_y\": {\"color\": \"#2a3f5f\"}, \"marker\": {\"line\": {\"color\": \"#E5ECF6\", \"width\": 0.5}}, \"type\": \"bar\"}], \"barpolar\": [{\"marker\": {\"line\": {\"color\": \"#E5ECF6\", \"width\": 0.5}}, \"type\": \"barpolar\"}], \"carpet\": [{\"aaxis\": {\"endlinecolor\": \"#2a3f5f\", \"gridcolor\": \"white\", \"linecolor\": \"white\", \"minorgridcolor\": \"white\", \"startlinecolor\": \"#2a3f5f\"}, \"baxis\": {\"endlinecolor\": \"#2a3f5f\", \"gridcolor\": \"white\", \"linecolor\": \"white\", \"minorgridcolor\": \"white\", \"startlinecolor\": \"#2a3f5f\"}, \"type\": \"carpet\"}], \"choropleth\": [{\"colorbar\": {\"outlinewidth\": 0, \"ticks\": \"\"}, \"type\": \"choropleth\"}], \"contour\": [{\"colorbar\": {\"outlinewidth\": 0, \"ticks\": \"\"}, \"colorscale\": [[0.0, \"#0d0887\"], [0.1111111111111111, \"#46039f\"], [0.2222222222222222, \"#7201a8\"], [0.3333333333333333, \"#9c179e\"], [0.4444444444444444, \"#bd3786\"], [0.5555555555555556, \"#d8576b\"], [0.6666666666666666, \"#ed7953\"], [0.7777777777777778, \"#fb9f3a\"], [0.8888888888888888, \"#fdca26\"], [1.0, \"#f0f921\"]], \"type\": \"contour\"}], \"contourcarpet\": [{\"colorbar\": {\"outlinewidth\": 0, \"ticks\": \"\"}, \"type\": \"contourcarpet\"}], \"heatmap\": [{\"colorbar\": {\"outlinewidth\": 0, \"ticks\": \"\"}, \"colorscale\": [[0.0, \"#0d0887\"], [0.1111111111111111, \"#46039f\"], [0.2222222222222222, \"#7201a8\"], [0.3333333333333333, \"#9c179e\"], [0.4444444444444444, \"#bd3786\"], [0.5555555555555556, \"#d8576b\"], [0.6666666666666666, \"#ed7953\"], [0.7777777777777778, \"#fb9f3a\"], [0.8888888888888888, \"#fdca26\"], [1.0, \"#f0f921\"]], \"type\": \"heatmap\"}], \"heatmapgl\": [{\"colorbar\": {\"outlinewidth\": 0, \"ticks\": \"\"}, \"colorscale\": [[0.0, \"#0d0887\"], [0.1111111111111111, \"#46039f\"], [0.2222222222222222, \"#7201a8\"], [0.3333333333333333, \"#9c179e\"], [0.4444444444444444, \"#bd3786\"], [0.5555555555555556, \"#d8576b\"], [0.6666666666666666, \"#ed7953\"], [0.7777777777777778, \"#fb9f3a\"], [0.8888888888888888, \"#fdca26\"], [1.0, \"#f0f921\"]], \"type\": \"heatmapgl\"}], \"histogram\": [{\"marker\": {\"colorbar\": {\"outlinewidth\": 0, \"ticks\": \"\"}}, \"type\": \"histogram\"}], \"histogram2d\": [{\"colorbar\": {\"outlinewidth\": 0, \"ticks\": \"\"}, \"colorscale\": [[0.0, \"#0d0887\"], [0.1111111111111111, \"#46039f\"], [0.2222222222222222, \"#7201a8\"], [0.3333333333333333, \"#9c179e\"], [0.4444444444444444, \"#bd3786\"], [0.5555555555555556, \"#d8576b\"], [0.6666666666666666, \"#ed7953\"], [0.7777777777777778, \"#fb9f3a\"], [0.8888888888888888, \"#fdca26\"], [1.0, \"#f0f921\"]], \"type\": \"histogram2d\"}], \"histogram2dcontour\": [{\"colorbar\": {\"outlinewidth\": 0, \"ticks\": \"\"}, \"colorscale\": [[0.0, \"#0d0887\"], [0.1111111111111111, \"#46039f\"], [0.2222222222222222, \"#7201a8\"], [0.3333333333333333, \"#9c179e\"], [0.4444444444444444, \"#bd3786\"], [0.5555555555555556, \"#d8576b\"], [0.6666666666666666, \"#ed7953\"], [0.7777777777777778, \"#fb9f3a\"], [0.8888888888888888, \"#fdca26\"], [1.0, \"#f0f921\"]], \"type\": \"histogram2dcontour\"}], \"mesh3d\": [{\"colorbar\": {\"outlinewidth\": 0, \"ticks\": \"\"}, \"type\": \"mesh3d\"}], \"parcoords\": [{\"line\": {\"colorbar\": {\"outlinewidth\": 0, \"ticks\": \"\"}}, \"type\": \"parcoords\"}], \"pie\": [{\"automargin\": true, \"type\": \"pie\"}], \"scatter\": [{\"marker\": {\"colorbar\": {\"outlinewidth\": 0, \"ticks\": \"\"}}, \"type\": \"scatter\"}], \"scatter3d\": [{\"line\": {\"colorbar\": {\"outlinewidth\": 0, \"ticks\": \"\"}}, \"marker\": {\"colorbar\": {\"outlinewidth\": 0, \"ticks\": \"\"}}, \"type\": \"scatter3d\"}], \"scattercarpet\": [{\"marker\": {\"colorbar\": {\"outlinewidth\": 0, \"ticks\": \"\"}}, \"type\": \"scattercarpet\"}], \"scattergeo\": [{\"marker\": {\"colorbar\": {\"outlinewidth\": 0, \"ticks\": \"\"}}, \"type\": \"scattergeo\"}], \"scattergl\": [{\"marker\": {\"colorbar\": {\"outlinewidth\": 0, \"ticks\": \"\"}}, \"type\": \"scattergl\"}], \"scattermapbox\": [{\"marker\": {\"colorbar\": {\"outlinewidth\": 0, \"ticks\": \"\"}}, \"type\": \"scattermapbox\"}], \"scatterpolar\": [{\"marker\": {\"colorbar\": {\"outlinewidth\": 0, \"ticks\": \"\"}}, \"type\": \"scatterpolar\"}], \"scatterpolargl\": [{\"marker\": {\"colorbar\": {\"outlinewidth\": 0, \"ticks\": \"\"}}, \"type\": \"scatterpolargl\"}], \"scatterternary\": [{\"marker\": {\"colorbar\": {\"outlinewidth\": 0, \"ticks\": \"\"}}, \"type\": \"scatterternary\"}], \"surface\": [{\"colorbar\": {\"outlinewidth\": 0, \"ticks\": \"\"}, \"colorscale\": [[0.0, \"#0d0887\"], [0.1111111111111111, \"#46039f\"], [0.2222222222222222, \"#7201a8\"], [0.3333333333333333, \"#9c179e\"], [0.4444444444444444, \"#bd3786\"], [0.5555555555555556, \"#d8576b\"], [0.6666666666666666, \"#ed7953\"], [0.7777777777777778, \"#fb9f3a\"], [0.8888888888888888, \"#fdca26\"], [1.0, \"#f0f921\"]], \"type\": \"surface\"}], \"table\": [{\"cells\": {\"fill\": {\"color\": \"#EBF0F8\"}, \"line\": {\"color\": \"white\"}}, \"header\": {\"fill\": {\"color\": \"#C8D4E3\"}, \"line\": {\"color\": \"white\"}}, \"type\": \"table\"}]}, \"layout\": {\"annotationdefaults\": {\"arrowcolor\": \"#2a3f5f\", \"arrowhead\": 0, \"arrowwidth\": 1}, \"autotypenumbers\": \"strict\", \"coloraxis\": {\"colorbar\": {\"outlinewidth\": 0, \"ticks\": \"\"}}, \"colorscale\": {\"diverging\": [[0, \"#8e0152\"], [0.1, \"#c51b7d\"], [0.2, \"#de77ae\"], [0.3, \"#f1b6da\"], [0.4, \"#fde0ef\"], [0.5, \"#f7f7f7\"], [0.6, \"#e6f5d0\"], [0.7, \"#b8e186\"], [0.8, \"#7fbc41\"], [0.9, \"#4d9221\"], [1, \"#276419\"]], \"sequential\": [[0.0, \"#0d0887\"], [0.1111111111111111, \"#46039f\"], [0.2222222222222222, \"#7201a8\"], [0.3333333333333333, \"#9c179e\"], [0.4444444444444444, \"#bd3786\"], [0.5555555555555556, \"#d8576b\"], [0.6666666666666666, \"#ed7953\"], [0.7777777777777778, \"#fb9f3a\"], [0.8888888888888888, \"#fdca26\"], [1.0, \"#f0f921\"]], \"sequentialminus\": [[0.0, \"#0d0887\"], [0.1111111111111111, \"#46039f\"], [0.2222222222222222, \"#7201a8\"], [0.3333333333333333, \"#9c179e\"], [0.4444444444444444, \"#bd3786\"], [0.5555555555555556, \"#d8576b\"], [0.6666666666666666, \"#ed7953\"], [0.7777777777777778, \"#fb9f3a\"], [0.8888888888888888, \"#fdca26\"], [1.0, \"#f0f921\"]]}, \"colorway\": [\"#636efa\", \"#EF553B\", \"#00cc96\", \"#ab63fa\", \"#FFA15A\", \"#19d3f3\", \"#FF6692\", \"#B6E880\", \"#FF97FF\", \"#FECB52\"], \"font\": {\"color\": \"#2a3f5f\"}, \"geo\": {\"bgcolor\": \"white\", \"lakecolor\": \"white\", \"landcolor\": \"#E5ECF6\", \"showlakes\": true, \"showland\": true, \"subunitcolor\": \"white\"}, \"hoverlabel\": {\"align\": \"left\"}, \"hovermode\": \"closest\", \"mapbox\": {\"style\": \"light\"}, \"paper_bgcolor\": \"white\", \"plot_bgcolor\": \"#E5ECF6\", \"polar\": {\"angularaxis\": {\"gridcolor\": \"white\", \"linecolor\": \"white\", \"ticks\": \"\"}, \"bgcolor\": \"#E5ECF6\", \"radialaxis\": {\"gridcolor\": \"white\", \"linecolor\": \"white\", \"ticks\": \"\"}}, \"scene\": {\"xaxis\": {\"backgroundcolor\": \"#E5ECF6\", \"gridcolor\": \"white\", \"gridwidth\": 2, \"linecolor\": \"white\", \"showbackground\": true, \"ticks\": \"\", \"zerolinecolor\": \"white\"}, \"yaxis\": {\"backgroundcolor\": \"#E5ECF6\", \"gridcolor\": \"white\", \"gridwidth\": 2, \"linecolor\": \"white\", \"showbackground\": true, \"ticks\": \"\", \"zerolinecolor\": \"white\"}, \"zaxis\": {\"backgroundcolor\": \"#E5ECF6\", \"gridcolor\": \"white\", \"gridwidth\": 2, \"linecolor\": \"white\", \"showbackground\": true, \"ticks\": \"\", \"zerolinecolor\": \"white\"}}, \"shapedefaults\": {\"line\": {\"color\": \"#2a3f5f\"}}, \"ternary\": {\"aaxis\": {\"gridcolor\": \"white\", \"linecolor\": \"white\", \"ticks\": \"\"}, \"baxis\": {\"gridcolor\": \"white\", \"linecolor\": \"white\", \"ticks\": \"\"}, \"bgcolor\": \"#E5ECF6\", \"caxis\": {\"gridcolor\": \"white\", \"linecolor\": \"white\", \"ticks\": \"\"}}, \"title\": {\"x\": 0.05}, \"xaxis\": {\"automargin\": true, \"gridcolor\": \"white\", \"linecolor\": \"white\", \"ticks\": \"\", \"title\": {\"standoff\": 15}, \"zerolinecolor\": \"white\", \"zerolinewidth\": 2}, \"yaxis\": {\"automargin\": true, \"gridcolor\": \"white\", \"linecolor\": \"white\", \"ticks\": \"\", \"title\": {\"standoff\": 15}, \"zerolinecolor\": \"white\", \"zerolinewidth\": 2}}}, \"xaxis\": {\"anchor\": \"y\", \"domain\": [0.0, 1.0], \"title\": {\"text\": \"TOTAL BILL\"}}, \"yaxis\": {\"anchor\": \"x\", \"domain\": [0.0, 1.0], \"title\": {\"text\": \"count\"}, \"type\": \"log\"}},                        {\"responsive\": true}                    ).then(function(){\n",
       "                            \n",
       "var gd = document.getElementById('5c54b7e8-e2bf-4a78-a8f9-aa22c2a3c99e');\n",
       "var x = new MutationObserver(function (mutations, observer) {{\n",
       "        var display = window.getComputedStyle(gd).display;\n",
       "        if (!display || display === 'none') {{\n",
       "            console.log([gd, 'removed!']);\n",
       "            Plotly.purge(gd);\n",
       "            observer.disconnect();\n",
       "        }}\n",
       "}});\n",
       "\n",
       "// Listen for the removal of the full notebook cells\n",
       "var notebookContainer = gd.closest('#notebook-container');\n",
       "if (notebookContainer) {{\n",
       "    x.observe(notebookContainer, {childList: true});\n",
       "}}\n",
       "\n",
       "// Listen for the clearing of the current output cell\n",
       "var outputEl = gd.closest('.output');\n",
       "if (outputEl) {{\n",
       "    x.observe(outputEl, {childList: true});\n",
       "}}\n",
       "\n",
       "                        })                };                });            </script>        </div>"
      ]
     },
     "metadata": {},
     "output_type": "display_data"
    }
   ],
   "source": [
    "fig = px.histogram(tips, x='total_bill',\n",
    "                  labels={'total_bill':'TOTAL BILL'},\n",
    "                  opacity = 0.7,\n",
    "                  log_y=True,\n",
    "                  color_discrete_sequence=['deepskyblue'])\n",
    "fig.show()"
   ]
  },
  {
   "cell_type": "code",
   "execution_count": 16,
   "metadata": {},
   "outputs": [
    {
     "data": {
      "application/vnd.plotly.v1+json": {
       "config": {
        "plotlyServerURL": "https://plot.ly"
       },
       "data": [
        {
         "alignmentgroup": "True",
         "bingroup": "x",
         "hovertemplate": "sex=Female<br>total_bill=%{x}<br>count=%{y}<extra></extra>",
         "legendgroup": "Female",
         "marker": {
          "color": "crimson"
         },
         "name": "Female",
         "offsetgroup": "Female",
         "orientation": "v",
         "showlegend": true,
         "type": "histogram",
         "x": [
          16.99,
          24.59,
          35.26,
          14.83,
          10.33,
          16.97,
          20.29,
          15.77,
          19.65,
          15.06,
          20.69,
          16.93,
          10.29,
          34.81,
          26.41,
          16.45,
          3.07,
          17.07,
          26.86,
          25.28,
          14.73,
          10.07,
          34.83,
          5.75,
          16.32,
          22.75,
          11.35,
          15.38,
          44.3,
          22.42,
          20.92,
          14.31,
          7.25,
          25.71,
          17.31,
          10.65,
          12.43,
          24.08,
          13.42,
          12.48,
          29.8,
          14.52,
          11.38,
          20.27,
          11.17,
          12.26,
          18.26,
          8.51,
          10.33,
          14.15,
          13.16,
          17.47,
          27.05,
          16.43,
          8.35,
          18.64,
          11.87,
          29.85,
          25,
          13.39,
          16.21,
          17.51,
          10.59,
          10.63,
          9.6,
          20.9,
          18.15,
          19.81,
          43.11,
          13,
          12.74,
          13,
          16.4,
          16.47,
          12.76,
          13.27,
          28.17,
          12.9,
          30.14,
          13.42,
          15.98,
          16.27,
          10.09,
          22.12,
          35.83,
          27.18,
          18.78
         ],
         "xaxis": "x",
         "yaxis": "y"
        },
        {
         "alignmentgroup": "True",
         "bingroup": "x",
         "hovertemplate": "sex=Male<br>total_bill=%{x}<br>count=%{y}<extra></extra>",
         "legendgroup": "Male",
         "marker": {
          "color": "deepskyblue"
         },
         "name": "Male",
         "offsetgroup": "Male",
         "orientation": "v",
         "showlegend": true,
         "type": "histogram",
         "x": [
          10.34,
          21.01,
          23.68,
          25.29,
          8.77,
          26.88,
          15.04,
          14.78,
          10.27,
          15.42,
          18.43,
          21.58,
          16.29,
          20.65,
          17.92,
          39.42,
          19.82,
          17.81,
          13.37,
          12.69,
          21.7,
          9.55,
          18.35,
          17.78,
          24.06,
          16.31,
          18.69,
          31.27,
          16.04,
          17.46,
          13.94,
          9.68,
          30.4,
          18.29,
          22.23,
          32.4,
          28.55,
          18.04,
          12.54,
          9.94,
          25.56,
          19.49,
          38.01,
          11.24,
          48.27,
          20.29,
          13.81,
          11.02,
          18.29,
          17.59,
          20.08,
          20.23,
          15.01,
          12.02,
          10.51,
          17.92,
          27.2,
          22.76,
          17.29,
          19.44,
          16.66,
          32.68,
          15.98,
          13.03,
          18.28,
          24.71,
          21.16,
          28.97,
          22.49,
          40.17,
          27.28,
          12.03,
          21.01,
          12.46,
          15.36,
          20.49,
          25.21,
          18.24,
          14,
          38.07,
          23.95,
          29.93,
          11.69,
          14.26,
          15.95,
          8.52,
          22.82,
          19.08,
          16,
          34.3,
          41.19,
          9.78,
          7.51,
          14.07,
          13.13,
          17.26,
          24.55,
          19.77,
          48.17,
          16.49,
          21.5,
          12.66,
          13.81,
          24.52,
          20.76,
          31.71,
          50.81,
          15.81,
          7.25,
          31.85,
          16.82,
          32.9,
          17.89,
          14.48,
          34.63,
          34.65,
          23.33,
          45.35,
          23.17,
          40.55,
          20.69,
          30.46,
          23.1,
          15.69,
          28.44,
          15.48,
          16.58,
          7.56,
          10.34,
          13.51,
          18.71,
          20.53,
          26.59,
          38.73,
          24.27,
          30.06,
          25.89,
          48.33,
          28.15,
          11.59,
          7.74,
          12.16,
          8.58,
          13.42,
          20.45,
          13.28,
          24.01,
          15.69,
          11.61,
          10.77,
          15.53,
          10.07,
          12.6,
          32.83,
          29.03,
          22.67,
          17.82
         ],
         "xaxis": "x",
         "yaxis": "y"
        }
       ],
       "layout": {
        "barmode": "relative",
        "legend": {
         "title": {
          "text": "sex"
         },
         "tracegroupgap": 0
        },
        "margin": {
         "t": 60
        },
        "template": {
         "data": {
          "bar": [
           {
            "error_x": {
             "color": "#2a3f5f"
            },
            "error_y": {
             "color": "#2a3f5f"
            },
            "marker": {
             "line": {
              "color": "#E5ECF6",
              "width": 0.5
             }
            },
            "type": "bar"
           }
          ],
          "barpolar": [
           {
            "marker": {
             "line": {
              "color": "#E5ECF6",
              "width": 0.5
             }
            },
            "type": "barpolar"
           }
          ],
          "carpet": [
           {
            "aaxis": {
             "endlinecolor": "#2a3f5f",
             "gridcolor": "white",
             "linecolor": "white",
             "minorgridcolor": "white",
             "startlinecolor": "#2a3f5f"
            },
            "baxis": {
             "endlinecolor": "#2a3f5f",
             "gridcolor": "white",
             "linecolor": "white",
             "minorgridcolor": "white",
             "startlinecolor": "#2a3f5f"
            },
            "type": "carpet"
           }
          ],
          "choropleth": [
           {
            "colorbar": {
             "outlinewidth": 0,
             "ticks": ""
            },
            "type": "choropleth"
           }
          ],
          "contour": [
           {
            "colorbar": {
             "outlinewidth": 0,
             "ticks": ""
            },
            "colorscale": [
             [
              0,
              "#0d0887"
             ],
             [
              0.1111111111111111,
              "#46039f"
             ],
             [
              0.2222222222222222,
              "#7201a8"
             ],
             [
              0.3333333333333333,
              "#9c179e"
             ],
             [
              0.4444444444444444,
              "#bd3786"
             ],
             [
              0.5555555555555556,
              "#d8576b"
             ],
             [
              0.6666666666666666,
              "#ed7953"
             ],
             [
              0.7777777777777778,
              "#fb9f3a"
             ],
             [
              0.8888888888888888,
              "#fdca26"
             ],
             [
              1,
              "#f0f921"
             ]
            ],
            "type": "contour"
           }
          ],
          "contourcarpet": [
           {
            "colorbar": {
             "outlinewidth": 0,
             "ticks": ""
            },
            "type": "contourcarpet"
           }
          ],
          "heatmap": [
           {
            "colorbar": {
             "outlinewidth": 0,
             "ticks": ""
            },
            "colorscale": [
             [
              0,
              "#0d0887"
             ],
             [
              0.1111111111111111,
              "#46039f"
             ],
             [
              0.2222222222222222,
              "#7201a8"
             ],
             [
              0.3333333333333333,
              "#9c179e"
             ],
             [
              0.4444444444444444,
              "#bd3786"
             ],
             [
              0.5555555555555556,
              "#d8576b"
             ],
             [
              0.6666666666666666,
              "#ed7953"
             ],
             [
              0.7777777777777778,
              "#fb9f3a"
             ],
             [
              0.8888888888888888,
              "#fdca26"
             ],
             [
              1,
              "#f0f921"
             ]
            ],
            "type": "heatmap"
           }
          ],
          "heatmapgl": [
           {
            "colorbar": {
             "outlinewidth": 0,
             "ticks": ""
            },
            "colorscale": [
             [
              0,
              "#0d0887"
             ],
             [
              0.1111111111111111,
              "#46039f"
             ],
             [
              0.2222222222222222,
              "#7201a8"
             ],
             [
              0.3333333333333333,
              "#9c179e"
             ],
             [
              0.4444444444444444,
              "#bd3786"
             ],
             [
              0.5555555555555556,
              "#d8576b"
             ],
             [
              0.6666666666666666,
              "#ed7953"
             ],
             [
              0.7777777777777778,
              "#fb9f3a"
             ],
             [
              0.8888888888888888,
              "#fdca26"
             ],
             [
              1,
              "#f0f921"
             ]
            ],
            "type": "heatmapgl"
           }
          ],
          "histogram": [
           {
            "marker": {
             "colorbar": {
              "outlinewidth": 0,
              "ticks": ""
             }
            },
            "type": "histogram"
           }
          ],
          "histogram2d": [
           {
            "colorbar": {
             "outlinewidth": 0,
             "ticks": ""
            },
            "colorscale": [
             [
              0,
              "#0d0887"
             ],
             [
              0.1111111111111111,
              "#46039f"
             ],
             [
              0.2222222222222222,
              "#7201a8"
             ],
             [
              0.3333333333333333,
              "#9c179e"
             ],
             [
              0.4444444444444444,
              "#bd3786"
             ],
             [
              0.5555555555555556,
              "#d8576b"
             ],
             [
              0.6666666666666666,
              "#ed7953"
             ],
             [
              0.7777777777777778,
              "#fb9f3a"
             ],
             [
              0.8888888888888888,
              "#fdca26"
             ],
             [
              1,
              "#f0f921"
             ]
            ],
            "type": "histogram2d"
           }
          ],
          "histogram2dcontour": [
           {
            "colorbar": {
             "outlinewidth": 0,
             "ticks": ""
            },
            "colorscale": [
             [
              0,
              "#0d0887"
             ],
             [
              0.1111111111111111,
              "#46039f"
             ],
             [
              0.2222222222222222,
              "#7201a8"
             ],
             [
              0.3333333333333333,
              "#9c179e"
             ],
             [
              0.4444444444444444,
              "#bd3786"
             ],
             [
              0.5555555555555556,
              "#d8576b"
             ],
             [
              0.6666666666666666,
              "#ed7953"
             ],
             [
              0.7777777777777778,
              "#fb9f3a"
             ],
             [
              0.8888888888888888,
              "#fdca26"
             ],
             [
              1,
              "#f0f921"
             ]
            ],
            "type": "histogram2dcontour"
           }
          ],
          "mesh3d": [
           {
            "colorbar": {
             "outlinewidth": 0,
             "ticks": ""
            },
            "type": "mesh3d"
           }
          ],
          "parcoords": [
           {
            "line": {
             "colorbar": {
              "outlinewidth": 0,
              "ticks": ""
             }
            },
            "type": "parcoords"
           }
          ],
          "pie": [
           {
            "automargin": true,
            "type": "pie"
           }
          ],
          "scatter": [
           {
            "marker": {
             "colorbar": {
              "outlinewidth": 0,
              "ticks": ""
             }
            },
            "type": "scatter"
           }
          ],
          "scatter3d": [
           {
            "line": {
             "colorbar": {
              "outlinewidth": 0,
              "ticks": ""
             }
            },
            "marker": {
             "colorbar": {
              "outlinewidth": 0,
              "ticks": ""
             }
            },
            "type": "scatter3d"
           }
          ],
          "scattercarpet": [
           {
            "marker": {
             "colorbar": {
              "outlinewidth": 0,
              "ticks": ""
             }
            },
            "type": "scattercarpet"
           }
          ],
          "scattergeo": [
           {
            "marker": {
             "colorbar": {
              "outlinewidth": 0,
              "ticks": ""
             }
            },
            "type": "scattergeo"
           }
          ],
          "scattergl": [
           {
            "marker": {
             "colorbar": {
              "outlinewidth": 0,
              "ticks": ""
             }
            },
            "type": "scattergl"
           }
          ],
          "scattermapbox": [
           {
            "marker": {
             "colorbar": {
              "outlinewidth": 0,
              "ticks": ""
             }
            },
            "type": "scattermapbox"
           }
          ],
          "scatterpolar": [
           {
            "marker": {
             "colorbar": {
              "outlinewidth": 0,
              "ticks": ""
             }
            },
            "type": "scatterpolar"
           }
          ],
          "scatterpolargl": [
           {
            "marker": {
             "colorbar": {
              "outlinewidth": 0,
              "ticks": ""
             }
            },
            "type": "scatterpolargl"
           }
          ],
          "scatterternary": [
           {
            "marker": {
             "colorbar": {
              "outlinewidth": 0,
              "ticks": ""
             }
            },
            "type": "scatterternary"
           }
          ],
          "surface": [
           {
            "colorbar": {
             "outlinewidth": 0,
             "ticks": ""
            },
            "colorscale": [
             [
              0,
              "#0d0887"
             ],
             [
              0.1111111111111111,
              "#46039f"
             ],
             [
              0.2222222222222222,
              "#7201a8"
             ],
             [
              0.3333333333333333,
              "#9c179e"
             ],
             [
              0.4444444444444444,
              "#bd3786"
             ],
             [
              0.5555555555555556,
              "#d8576b"
             ],
             [
              0.6666666666666666,
              "#ed7953"
             ],
             [
              0.7777777777777778,
              "#fb9f3a"
             ],
             [
              0.8888888888888888,
              "#fdca26"
             ],
             [
              1,
              "#f0f921"
             ]
            ],
            "type": "surface"
           }
          ],
          "table": [
           {
            "cells": {
             "fill": {
              "color": "#EBF0F8"
             },
             "line": {
              "color": "white"
             }
            },
            "header": {
             "fill": {
              "color": "#C8D4E3"
             },
             "line": {
              "color": "white"
             }
            },
            "type": "table"
           }
          ]
         },
         "layout": {
          "annotationdefaults": {
           "arrowcolor": "#2a3f5f",
           "arrowhead": 0,
           "arrowwidth": 1
          },
          "autotypenumbers": "strict",
          "coloraxis": {
           "colorbar": {
            "outlinewidth": 0,
            "ticks": ""
           }
          },
          "colorscale": {
           "diverging": [
            [
             0,
             "#8e0152"
            ],
            [
             0.1,
             "#c51b7d"
            ],
            [
             0.2,
             "#de77ae"
            ],
            [
             0.3,
             "#f1b6da"
            ],
            [
             0.4,
             "#fde0ef"
            ],
            [
             0.5,
             "#f7f7f7"
            ],
            [
             0.6,
             "#e6f5d0"
            ],
            [
             0.7,
             "#b8e186"
            ],
            [
             0.8,
             "#7fbc41"
            ],
            [
             0.9,
             "#4d9221"
            ],
            [
             1,
             "#276419"
            ]
           ],
           "sequential": [
            [
             0,
             "#0d0887"
            ],
            [
             0.1111111111111111,
             "#46039f"
            ],
            [
             0.2222222222222222,
             "#7201a8"
            ],
            [
             0.3333333333333333,
             "#9c179e"
            ],
            [
             0.4444444444444444,
             "#bd3786"
            ],
            [
             0.5555555555555556,
             "#d8576b"
            ],
            [
             0.6666666666666666,
             "#ed7953"
            ],
            [
             0.7777777777777778,
             "#fb9f3a"
            ],
            [
             0.8888888888888888,
             "#fdca26"
            ],
            [
             1,
             "#f0f921"
            ]
           ],
           "sequentialminus": [
            [
             0,
             "#0d0887"
            ],
            [
             0.1111111111111111,
             "#46039f"
            ],
            [
             0.2222222222222222,
             "#7201a8"
            ],
            [
             0.3333333333333333,
             "#9c179e"
            ],
            [
             0.4444444444444444,
             "#bd3786"
            ],
            [
             0.5555555555555556,
             "#d8576b"
            ],
            [
             0.6666666666666666,
             "#ed7953"
            ],
            [
             0.7777777777777778,
             "#fb9f3a"
            ],
            [
             0.8888888888888888,
             "#fdca26"
            ],
            [
             1,
             "#f0f921"
            ]
           ]
          },
          "colorway": [
           "#636efa",
           "#EF553B",
           "#00cc96",
           "#ab63fa",
           "#FFA15A",
           "#19d3f3",
           "#FF6692",
           "#B6E880",
           "#FF97FF",
           "#FECB52"
          ],
          "font": {
           "color": "#2a3f5f"
          },
          "geo": {
           "bgcolor": "white",
           "lakecolor": "white",
           "landcolor": "#E5ECF6",
           "showlakes": true,
           "showland": true,
           "subunitcolor": "white"
          },
          "hoverlabel": {
           "align": "left"
          },
          "hovermode": "closest",
          "mapbox": {
           "style": "light"
          },
          "paper_bgcolor": "white",
          "plot_bgcolor": "#E5ECF6",
          "polar": {
           "angularaxis": {
            "gridcolor": "white",
            "linecolor": "white",
            "ticks": ""
           },
           "bgcolor": "#E5ECF6",
           "radialaxis": {
            "gridcolor": "white",
            "linecolor": "white",
            "ticks": ""
           }
          },
          "scene": {
           "xaxis": {
            "backgroundcolor": "#E5ECF6",
            "gridcolor": "white",
            "gridwidth": 2,
            "linecolor": "white",
            "showbackground": true,
            "ticks": "",
            "zerolinecolor": "white"
           },
           "yaxis": {
            "backgroundcolor": "#E5ECF6",
            "gridcolor": "white",
            "gridwidth": 2,
            "linecolor": "white",
            "showbackground": true,
            "ticks": "",
            "zerolinecolor": "white"
           },
           "zaxis": {
            "backgroundcolor": "#E5ECF6",
            "gridcolor": "white",
            "gridwidth": 2,
            "linecolor": "white",
            "showbackground": true,
            "ticks": "",
            "zerolinecolor": "white"
           }
          },
          "shapedefaults": {
           "line": {
            "color": "#2a3f5f"
           }
          },
          "ternary": {
           "aaxis": {
            "gridcolor": "white",
            "linecolor": "white",
            "ticks": ""
           },
           "baxis": {
            "gridcolor": "white",
            "linecolor": "white",
            "ticks": ""
           },
           "bgcolor": "#E5ECF6",
           "caxis": {
            "gridcolor": "white",
            "linecolor": "white",
            "ticks": ""
           }
          },
          "title": {
           "x": 0.05
          },
          "xaxis": {
           "automargin": true,
           "gridcolor": "white",
           "linecolor": "white",
           "ticks": "",
           "title": {
            "standoff": 15
           },
           "zerolinecolor": "white",
           "zerolinewidth": 2
          },
          "yaxis": {
           "automargin": true,
           "gridcolor": "white",
           "linecolor": "white",
           "ticks": "",
           "title": {
            "standoff": 15
           },
           "zerolinecolor": "white",
           "zerolinewidth": 2
          }
         }
        },
        "xaxis": {
         "anchor": "y",
         "domain": [
          0,
          1
         ],
         "title": {
          "text": "total_bill"
         }
        },
        "yaxis": {
         "anchor": "x",
         "domain": [
          0,
          1
         ],
         "title": {
          "text": "count"
         }
        }
       }
      },
      "text/html": [
       "<div>                            <div id=\"4fd720b1-30a3-4158-9e42-35e23038fea0\" class=\"plotly-graph-div\" style=\"height:525px; width:100%;\"></div>            <script type=\"text/javascript\">                require([\"plotly\"], function(Plotly) {                    window.PLOTLYENV=window.PLOTLYENV || {};                                    if (document.getElementById(\"4fd720b1-30a3-4158-9e42-35e23038fea0\")) {                    Plotly.newPlot(                        \"4fd720b1-30a3-4158-9e42-35e23038fea0\",                        [{\"alignmentgroup\": \"True\", \"bingroup\": \"x\", \"hovertemplate\": \"sex=Female<br>total_bill=%{x}<br>count=%{y}<extra></extra>\", \"legendgroup\": \"Female\", \"marker\": {\"color\": \"crimson\"}, \"name\": \"Female\", \"offsetgroup\": \"Female\", \"orientation\": \"v\", \"showlegend\": true, \"type\": \"histogram\", \"x\": [16.99, 24.59, 35.26, 14.83, 10.33, 16.97, 20.29, 15.77, 19.65, 15.06, 20.69, 16.93, 10.29, 34.81, 26.41, 16.45, 3.07, 17.07, 26.86, 25.28, 14.73, 10.07, 34.83, 5.75, 16.32, 22.75, 11.35, 15.38, 44.3, 22.42, 20.92, 14.31, 7.25, 25.71, 17.31, 10.65, 12.43, 24.08, 13.42, 12.48, 29.8, 14.52, 11.38, 20.27, 11.17, 12.26, 18.26, 8.51, 10.33, 14.15, 13.16, 17.47, 27.05, 16.43, 8.35, 18.64, 11.87, 29.85, 25.0, 13.39, 16.21, 17.51, 10.59, 10.63, 9.6, 20.9, 18.15, 19.81, 43.11, 13.0, 12.74, 13.0, 16.4, 16.47, 12.76, 13.27, 28.17, 12.9, 30.14, 13.42, 15.98, 16.27, 10.09, 22.12, 35.83, 27.18, 18.78], \"xaxis\": \"x\", \"yaxis\": \"y\"}, {\"alignmentgroup\": \"True\", \"bingroup\": \"x\", \"hovertemplate\": \"sex=Male<br>total_bill=%{x}<br>count=%{y}<extra></extra>\", \"legendgroup\": \"Male\", \"marker\": {\"color\": \"deepskyblue\"}, \"name\": \"Male\", \"offsetgroup\": \"Male\", \"orientation\": \"v\", \"showlegend\": true, \"type\": \"histogram\", \"x\": [10.34, 21.01, 23.68, 25.29, 8.77, 26.88, 15.04, 14.78, 10.27, 15.42, 18.43, 21.58, 16.29, 20.65, 17.92, 39.42, 19.82, 17.81, 13.37, 12.69, 21.7, 9.55, 18.35, 17.78, 24.06, 16.31, 18.69, 31.27, 16.04, 17.46, 13.94, 9.68, 30.4, 18.29, 22.23, 32.4, 28.55, 18.04, 12.54, 9.94, 25.56, 19.49, 38.01, 11.24, 48.27, 20.29, 13.81, 11.02, 18.29, 17.59, 20.08, 20.23, 15.01, 12.02, 10.51, 17.92, 27.2, 22.76, 17.29, 19.44, 16.66, 32.68, 15.98, 13.03, 18.28, 24.71, 21.16, 28.97, 22.49, 40.17, 27.28, 12.03, 21.01, 12.46, 15.36, 20.49, 25.21, 18.24, 14.0, 38.07, 23.95, 29.93, 11.69, 14.26, 15.95, 8.52, 22.82, 19.08, 16.0, 34.3, 41.19, 9.78, 7.51, 14.07, 13.13, 17.26, 24.55, 19.77, 48.17, 16.49, 21.5, 12.66, 13.81, 24.52, 20.76, 31.71, 50.81, 15.81, 7.25, 31.85, 16.82, 32.9, 17.89, 14.48, 34.63, 34.65, 23.33, 45.35, 23.17, 40.55, 20.69, 30.46, 23.1, 15.69, 28.44, 15.48, 16.58, 7.56, 10.34, 13.51, 18.71, 20.53, 26.59, 38.73, 24.27, 30.06, 25.89, 48.33, 28.15, 11.59, 7.74, 12.16, 8.58, 13.42, 20.45, 13.28, 24.01, 15.69, 11.61, 10.77, 15.53, 10.07, 12.6, 32.83, 29.03, 22.67, 17.82], \"xaxis\": \"x\", \"yaxis\": \"y\"}],                        {\"barmode\": \"relative\", \"legend\": {\"title\": {\"text\": \"sex\"}, \"tracegroupgap\": 0}, \"margin\": {\"t\": 60}, \"template\": {\"data\": {\"bar\": [{\"error_x\": {\"color\": \"#2a3f5f\"}, \"error_y\": {\"color\": \"#2a3f5f\"}, \"marker\": {\"line\": {\"color\": \"#E5ECF6\", \"width\": 0.5}}, \"type\": \"bar\"}], \"barpolar\": [{\"marker\": {\"line\": {\"color\": \"#E5ECF6\", \"width\": 0.5}}, \"type\": \"barpolar\"}], \"carpet\": [{\"aaxis\": {\"endlinecolor\": \"#2a3f5f\", \"gridcolor\": \"white\", \"linecolor\": \"white\", \"minorgridcolor\": \"white\", \"startlinecolor\": \"#2a3f5f\"}, \"baxis\": {\"endlinecolor\": \"#2a3f5f\", \"gridcolor\": \"white\", \"linecolor\": \"white\", \"minorgridcolor\": \"white\", \"startlinecolor\": \"#2a3f5f\"}, \"type\": \"carpet\"}], \"choropleth\": [{\"colorbar\": {\"outlinewidth\": 0, \"ticks\": \"\"}, \"type\": \"choropleth\"}], \"contour\": [{\"colorbar\": {\"outlinewidth\": 0, \"ticks\": \"\"}, \"colorscale\": [[0.0, \"#0d0887\"], [0.1111111111111111, \"#46039f\"], [0.2222222222222222, \"#7201a8\"], [0.3333333333333333, \"#9c179e\"], [0.4444444444444444, \"#bd3786\"], [0.5555555555555556, \"#d8576b\"], [0.6666666666666666, \"#ed7953\"], [0.7777777777777778, \"#fb9f3a\"], [0.8888888888888888, \"#fdca26\"], [1.0, \"#f0f921\"]], \"type\": \"contour\"}], \"contourcarpet\": [{\"colorbar\": {\"outlinewidth\": 0, \"ticks\": \"\"}, \"type\": \"contourcarpet\"}], \"heatmap\": [{\"colorbar\": {\"outlinewidth\": 0, \"ticks\": \"\"}, \"colorscale\": [[0.0, \"#0d0887\"], [0.1111111111111111, \"#46039f\"], [0.2222222222222222, \"#7201a8\"], [0.3333333333333333, \"#9c179e\"], [0.4444444444444444, \"#bd3786\"], [0.5555555555555556, \"#d8576b\"], [0.6666666666666666, \"#ed7953\"], [0.7777777777777778, \"#fb9f3a\"], [0.8888888888888888, \"#fdca26\"], [1.0, \"#f0f921\"]], \"type\": \"heatmap\"}], \"heatmapgl\": [{\"colorbar\": {\"outlinewidth\": 0, \"ticks\": \"\"}, \"colorscale\": [[0.0, \"#0d0887\"], [0.1111111111111111, \"#46039f\"], [0.2222222222222222, \"#7201a8\"], [0.3333333333333333, \"#9c179e\"], [0.4444444444444444, \"#bd3786\"], [0.5555555555555556, \"#d8576b\"], [0.6666666666666666, \"#ed7953\"], [0.7777777777777778, \"#fb9f3a\"], [0.8888888888888888, \"#fdca26\"], [1.0, \"#f0f921\"]], \"type\": \"heatmapgl\"}], \"histogram\": [{\"marker\": {\"colorbar\": {\"outlinewidth\": 0, \"ticks\": \"\"}}, \"type\": \"histogram\"}], \"histogram2d\": [{\"colorbar\": {\"outlinewidth\": 0, \"ticks\": \"\"}, \"colorscale\": [[0.0, \"#0d0887\"], [0.1111111111111111, \"#46039f\"], [0.2222222222222222, \"#7201a8\"], [0.3333333333333333, \"#9c179e\"], [0.4444444444444444, \"#bd3786\"], [0.5555555555555556, \"#d8576b\"], [0.6666666666666666, \"#ed7953\"], [0.7777777777777778, \"#fb9f3a\"], [0.8888888888888888, \"#fdca26\"], [1.0, \"#f0f921\"]], \"type\": \"histogram2d\"}], \"histogram2dcontour\": [{\"colorbar\": {\"outlinewidth\": 0, \"ticks\": \"\"}, \"colorscale\": [[0.0, \"#0d0887\"], [0.1111111111111111, \"#46039f\"], [0.2222222222222222, \"#7201a8\"], [0.3333333333333333, \"#9c179e\"], [0.4444444444444444, \"#bd3786\"], [0.5555555555555556, \"#d8576b\"], [0.6666666666666666, \"#ed7953\"], [0.7777777777777778, \"#fb9f3a\"], [0.8888888888888888, \"#fdca26\"], [1.0, \"#f0f921\"]], \"type\": \"histogram2dcontour\"}], \"mesh3d\": [{\"colorbar\": {\"outlinewidth\": 0, \"ticks\": \"\"}, \"type\": \"mesh3d\"}], \"parcoords\": [{\"line\": {\"colorbar\": {\"outlinewidth\": 0, \"ticks\": \"\"}}, \"type\": \"parcoords\"}], \"pie\": [{\"automargin\": true, \"type\": \"pie\"}], \"scatter\": [{\"marker\": {\"colorbar\": {\"outlinewidth\": 0, \"ticks\": \"\"}}, \"type\": \"scatter\"}], \"scatter3d\": [{\"line\": {\"colorbar\": {\"outlinewidth\": 0, \"ticks\": \"\"}}, \"marker\": {\"colorbar\": {\"outlinewidth\": 0, \"ticks\": \"\"}}, \"type\": \"scatter3d\"}], \"scattercarpet\": [{\"marker\": {\"colorbar\": {\"outlinewidth\": 0, \"ticks\": \"\"}}, \"type\": \"scattercarpet\"}], \"scattergeo\": [{\"marker\": {\"colorbar\": {\"outlinewidth\": 0, \"ticks\": \"\"}}, \"type\": \"scattergeo\"}], \"scattergl\": [{\"marker\": {\"colorbar\": {\"outlinewidth\": 0, \"ticks\": \"\"}}, \"type\": \"scattergl\"}], \"scattermapbox\": [{\"marker\": {\"colorbar\": {\"outlinewidth\": 0, \"ticks\": \"\"}}, \"type\": \"scattermapbox\"}], \"scatterpolar\": [{\"marker\": {\"colorbar\": {\"outlinewidth\": 0, \"ticks\": \"\"}}, \"type\": \"scatterpolar\"}], \"scatterpolargl\": [{\"marker\": {\"colorbar\": {\"outlinewidth\": 0, \"ticks\": \"\"}}, \"type\": \"scatterpolargl\"}], \"scatterternary\": [{\"marker\": {\"colorbar\": {\"outlinewidth\": 0, \"ticks\": \"\"}}, \"type\": \"scatterternary\"}], \"surface\": [{\"colorbar\": {\"outlinewidth\": 0, \"ticks\": \"\"}, \"colorscale\": [[0.0, \"#0d0887\"], [0.1111111111111111, \"#46039f\"], [0.2222222222222222, \"#7201a8\"], [0.3333333333333333, \"#9c179e\"], [0.4444444444444444, \"#bd3786\"], [0.5555555555555556, \"#d8576b\"], [0.6666666666666666, \"#ed7953\"], [0.7777777777777778, \"#fb9f3a\"], [0.8888888888888888, \"#fdca26\"], [1.0, \"#f0f921\"]], \"type\": \"surface\"}], \"table\": [{\"cells\": {\"fill\": {\"color\": \"#EBF0F8\"}, \"line\": {\"color\": \"white\"}}, \"header\": {\"fill\": {\"color\": \"#C8D4E3\"}, \"line\": {\"color\": \"white\"}}, \"type\": \"table\"}]}, \"layout\": {\"annotationdefaults\": {\"arrowcolor\": \"#2a3f5f\", \"arrowhead\": 0, \"arrowwidth\": 1}, \"autotypenumbers\": \"strict\", \"coloraxis\": {\"colorbar\": {\"outlinewidth\": 0, \"ticks\": \"\"}}, \"colorscale\": {\"diverging\": [[0, \"#8e0152\"], [0.1, \"#c51b7d\"], [0.2, \"#de77ae\"], [0.3, \"#f1b6da\"], [0.4, \"#fde0ef\"], [0.5, \"#f7f7f7\"], [0.6, \"#e6f5d0\"], [0.7, \"#b8e186\"], [0.8, \"#7fbc41\"], [0.9, \"#4d9221\"], [1, \"#276419\"]], \"sequential\": [[0.0, \"#0d0887\"], [0.1111111111111111, \"#46039f\"], [0.2222222222222222, \"#7201a8\"], [0.3333333333333333, \"#9c179e\"], [0.4444444444444444, \"#bd3786\"], [0.5555555555555556, \"#d8576b\"], [0.6666666666666666, \"#ed7953\"], [0.7777777777777778, \"#fb9f3a\"], [0.8888888888888888, \"#fdca26\"], [1.0, \"#f0f921\"]], \"sequentialminus\": [[0.0, \"#0d0887\"], [0.1111111111111111, \"#46039f\"], [0.2222222222222222, \"#7201a8\"], [0.3333333333333333, \"#9c179e\"], [0.4444444444444444, \"#bd3786\"], [0.5555555555555556, \"#d8576b\"], [0.6666666666666666, \"#ed7953\"], [0.7777777777777778, \"#fb9f3a\"], [0.8888888888888888, \"#fdca26\"], [1.0, \"#f0f921\"]]}, \"colorway\": [\"#636efa\", \"#EF553B\", \"#00cc96\", \"#ab63fa\", \"#FFA15A\", \"#19d3f3\", \"#FF6692\", \"#B6E880\", \"#FF97FF\", \"#FECB52\"], \"font\": {\"color\": \"#2a3f5f\"}, \"geo\": {\"bgcolor\": \"white\", \"lakecolor\": \"white\", \"landcolor\": \"#E5ECF6\", \"showlakes\": true, \"showland\": true, \"subunitcolor\": \"white\"}, \"hoverlabel\": {\"align\": \"left\"}, \"hovermode\": \"closest\", \"mapbox\": {\"style\": \"light\"}, \"paper_bgcolor\": \"white\", \"plot_bgcolor\": \"#E5ECF6\", \"polar\": {\"angularaxis\": {\"gridcolor\": \"white\", \"linecolor\": \"white\", \"ticks\": \"\"}, \"bgcolor\": \"#E5ECF6\", \"radialaxis\": {\"gridcolor\": \"white\", \"linecolor\": \"white\", \"ticks\": \"\"}}, \"scene\": {\"xaxis\": {\"backgroundcolor\": \"#E5ECF6\", \"gridcolor\": \"white\", \"gridwidth\": 2, \"linecolor\": \"white\", \"showbackground\": true, \"ticks\": \"\", \"zerolinecolor\": \"white\"}, \"yaxis\": {\"backgroundcolor\": \"#E5ECF6\", \"gridcolor\": \"white\", \"gridwidth\": 2, \"linecolor\": \"white\", \"showbackground\": true, \"ticks\": \"\", \"zerolinecolor\": \"white\"}, \"zaxis\": {\"backgroundcolor\": \"#E5ECF6\", \"gridcolor\": \"white\", \"gridwidth\": 2, \"linecolor\": \"white\", \"showbackground\": true, \"ticks\": \"\", \"zerolinecolor\": \"white\"}}, \"shapedefaults\": {\"line\": {\"color\": \"#2a3f5f\"}}, \"ternary\": {\"aaxis\": {\"gridcolor\": \"white\", \"linecolor\": \"white\", \"ticks\": \"\"}, \"baxis\": {\"gridcolor\": \"white\", \"linecolor\": \"white\", \"ticks\": \"\"}, \"bgcolor\": \"#E5ECF6\", \"caxis\": {\"gridcolor\": \"white\", \"linecolor\": \"white\", \"ticks\": \"\"}}, \"title\": {\"x\": 0.05}, \"xaxis\": {\"automargin\": true, \"gridcolor\": \"white\", \"linecolor\": \"white\", \"ticks\": \"\", \"title\": {\"standoff\": 15}, \"zerolinecolor\": \"white\", \"zerolinewidth\": 2}, \"yaxis\": {\"automargin\": true, \"gridcolor\": \"white\", \"linecolor\": \"white\", \"ticks\": \"\", \"title\": {\"standoff\": 15}, \"zerolinecolor\": \"white\", \"zerolinewidth\": 2}}}, \"xaxis\": {\"anchor\": \"y\", \"domain\": [0.0, 1.0], \"title\": {\"text\": \"total_bill\"}}, \"yaxis\": {\"anchor\": \"x\", \"domain\": [0.0, 1.0], \"title\": {\"text\": \"count\"}}},                        {\"responsive\": true}                    ).then(function(){\n",
       "                            \n",
       "var gd = document.getElementById('4fd720b1-30a3-4158-9e42-35e23038fea0');\n",
       "var x = new MutationObserver(function (mutations, observer) {{\n",
       "        var display = window.getComputedStyle(gd).display;\n",
       "        if (!display || display === 'none') {{\n",
       "            console.log([gd, 'removed!']);\n",
       "            Plotly.purge(gd);\n",
       "            observer.disconnect();\n",
       "        }}\n",
       "}});\n",
       "\n",
       "// Listen for the removal of the full notebook cells\n",
       "var notebookContainer = gd.closest('#notebook-container');\n",
       "if (notebookContainer) {{\n",
       "    x.observe(notebookContainer, {childList: true});\n",
       "}}\n",
       "\n",
       "// Listen for the clearing of the current output cell\n",
       "var outputEl = gd.closest('.output');\n",
       "if (outputEl) {{\n",
       "    x.observe(outputEl, {childList: true});\n",
       "}}\n",
       "\n",
       "                        })                };                });            </script>        </div>"
      ]
     },
     "metadata": {},
     "output_type": "display_data"
    }
   ],
   "source": [
    "fig = px.histogram(tips, x='total_bill',\n",
    "                   color='sex',                  \n",
    "                  color_discrete_sequence=['crimson','deepskyblue'])\n",
    "fig.show()"
   ]
  },
  {
   "cell_type": "code",
   "execution_count": 20,
   "metadata": {},
   "outputs": [
    {
     "data": {
      "application/vnd.plotly.v1+json": {
       "config": {
        "plotlyServerURL": "https://plot.ly"
       },
       "data": [
        {
         "alignmentgroup": "True",
         "bingroup": "x",
         "histfunc": "avg",
         "hovertemplate": "total_bill=%{x}<br>avg of tip=%{y}<extra></extra>",
         "legendgroup": "",
         "marker": {
          "color": "#636efa"
         },
         "name": "",
         "offsetgroup": "",
         "orientation": "v",
         "showlegend": false,
         "type": "histogram",
         "x": [
          16.99,
          10.34,
          21.01,
          23.68,
          24.59,
          25.29,
          8.77,
          26.88,
          15.04,
          14.78,
          10.27,
          35.26,
          15.42,
          18.43,
          14.83,
          21.58,
          10.33,
          16.29,
          16.97,
          20.65,
          17.92,
          20.29,
          15.77,
          39.42,
          19.82,
          17.81,
          13.37,
          12.69,
          21.7,
          19.65,
          9.55,
          18.35,
          15.06,
          20.69,
          17.78,
          24.06,
          16.31,
          16.93,
          18.69,
          31.27,
          16.04,
          17.46,
          13.94,
          9.68,
          30.4,
          18.29,
          22.23,
          32.4,
          28.55,
          18.04,
          12.54,
          10.29,
          34.81,
          9.94,
          25.56,
          19.49,
          38.01,
          26.41,
          11.24,
          48.27,
          20.29,
          13.81,
          11.02,
          18.29,
          17.59,
          20.08,
          16.45,
          3.07,
          20.23,
          15.01,
          12.02,
          17.07,
          26.86,
          25.28,
          14.73,
          10.51,
          17.92,
          27.2,
          22.76,
          17.29,
          19.44,
          16.66,
          10.07,
          32.68,
          15.98,
          34.83,
          13.03,
          18.28,
          24.71,
          21.16,
          28.97,
          22.49,
          5.75,
          16.32,
          22.75,
          40.17,
          27.28,
          12.03,
          21.01,
          12.46,
          11.35,
          15.38,
          44.3,
          22.42,
          20.92,
          15.36,
          20.49,
          25.21,
          18.24,
          14.31,
          14,
          7.25,
          38.07,
          23.95,
          25.71,
          17.31,
          29.93,
          10.65,
          12.43,
          24.08,
          11.69,
          13.42,
          14.26,
          15.95,
          12.48,
          29.8,
          8.52,
          14.52,
          11.38,
          22.82,
          19.08,
          20.27,
          11.17,
          12.26,
          18.26,
          8.51,
          10.33,
          14.15,
          16,
          13.16,
          17.47,
          34.3,
          41.19,
          27.05,
          16.43,
          8.35,
          18.64,
          11.87,
          9.78,
          7.51,
          14.07,
          13.13,
          17.26,
          24.55,
          19.77,
          29.85,
          48.17,
          25,
          13.39,
          16.49,
          21.5,
          12.66,
          16.21,
          13.81,
          17.51,
          24.52,
          20.76,
          31.71,
          10.59,
          10.63,
          50.81,
          15.81,
          7.25,
          31.85,
          16.82,
          32.9,
          17.89,
          14.48,
          9.6,
          34.63,
          34.65,
          23.33,
          45.35,
          23.17,
          40.55,
          20.69,
          20.9,
          30.46,
          18.15,
          23.1,
          15.69,
          19.81,
          28.44,
          15.48,
          16.58,
          7.56,
          10.34,
          43.11,
          13,
          13.51,
          18.71,
          12.74,
          13,
          16.4,
          20.53,
          16.47,
          26.59,
          38.73,
          24.27,
          12.76,
          30.06,
          25.89,
          48.33,
          13.27,
          28.17,
          12.9,
          28.15,
          11.59,
          7.74,
          30.14,
          12.16,
          13.42,
          8.58,
          15.98,
          13.42,
          16.27,
          10.09,
          20.45,
          13.28,
          22.12,
          24.01,
          15.69,
          11.61,
          10.77,
          15.53,
          10.07,
          12.6,
          32.83,
          35.83,
          29.03,
          27.18,
          22.67,
          17.82,
          18.78
         ],
         "xaxis": "x",
         "y": [
          1.01,
          1.66,
          3.5,
          3.31,
          3.61,
          4.71,
          2,
          3.12,
          1.96,
          3.23,
          1.71,
          5,
          1.57,
          3,
          3.02,
          3.92,
          1.67,
          3.71,
          3.5,
          3.35,
          4.08,
          2.75,
          2.23,
          7.58,
          3.18,
          2.34,
          2,
          2,
          4.3,
          3,
          1.45,
          2.5,
          3,
          2.45,
          3.27,
          3.6,
          2,
          3.07,
          2.31,
          5,
          2.24,
          2.54,
          3.06,
          1.32,
          5.6,
          3,
          5,
          6,
          2.05,
          3,
          2.5,
          2.6,
          5.2,
          1.56,
          4.34,
          3.51,
          3,
          1.5,
          1.76,
          6.73,
          3.21,
          2,
          1.98,
          3.76,
          2.64,
          3.15,
          2.47,
          1,
          2.01,
          2.09,
          1.97,
          3,
          3.14,
          5,
          2.2,
          1.25,
          3.08,
          4,
          3,
          2.71,
          3,
          3.4,
          1.83,
          5,
          2.03,
          5.17,
          2,
          4,
          5.85,
          3,
          3,
          3.5,
          1,
          4.3,
          3.25,
          4.73,
          4,
          1.5,
          3,
          1.5,
          2.5,
          3,
          2.5,
          3.48,
          4.08,
          1.64,
          4.06,
          4.29,
          3.76,
          4,
          3,
          1,
          4,
          2.55,
          4,
          3.5,
          5.07,
          1.5,
          1.8,
          2.92,
          2.31,
          1.68,
          2.5,
          2,
          2.52,
          4.2,
          1.48,
          2,
          2,
          2.18,
          1.5,
          2.83,
          1.5,
          2,
          3.25,
          1.25,
          2,
          2,
          2,
          2.75,
          3.5,
          6.7,
          5,
          5,
          2.3,
          1.5,
          1.36,
          1.63,
          1.73,
          2,
          2.5,
          2,
          2.74,
          2,
          2,
          5.14,
          5,
          3.75,
          2.61,
          2,
          3.5,
          2.5,
          2,
          2,
          3,
          3.48,
          2.24,
          4.5,
          1.61,
          2,
          10,
          3.16,
          5.15,
          3.18,
          4,
          3.11,
          2,
          2,
          4,
          3.55,
          3.68,
          5.65,
          3.5,
          6.5,
          3,
          5,
          3.5,
          2,
          3.5,
          4,
          1.5,
          4.19,
          2.56,
          2.02,
          4,
          1.44,
          2,
          5,
          2,
          2,
          4,
          2.01,
          2,
          2.5,
          4,
          3.23,
          3.41,
          3,
          2.03,
          2.23,
          2,
          5.16,
          9,
          2.5,
          6.5,
          1.1,
          3,
          1.5,
          1.44,
          3.09,
          2.2,
          3.48,
          1.92,
          3,
          1.58,
          2.5,
          2,
          3,
          2.72,
          2.88,
          2,
          3,
          3.39,
          1.47,
          3,
          1.25,
          1,
          1.17,
          4.67,
          5.92,
          2,
          2,
          1.75,
          3
         ],
         "yaxis": "y"
        }
       ],
       "layout": {
        "barmode": "relative",
        "legend": {
         "tracegroupgap": 0
        },
        "margin": {
         "t": 60
        },
        "template": {
         "data": {
          "bar": [
           {
            "error_x": {
             "color": "#2a3f5f"
            },
            "error_y": {
             "color": "#2a3f5f"
            },
            "marker": {
             "line": {
              "color": "#E5ECF6",
              "width": 0.5
             }
            },
            "type": "bar"
           }
          ],
          "barpolar": [
           {
            "marker": {
             "line": {
              "color": "#E5ECF6",
              "width": 0.5
             }
            },
            "type": "barpolar"
           }
          ],
          "carpet": [
           {
            "aaxis": {
             "endlinecolor": "#2a3f5f",
             "gridcolor": "white",
             "linecolor": "white",
             "minorgridcolor": "white",
             "startlinecolor": "#2a3f5f"
            },
            "baxis": {
             "endlinecolor": "#2a3f5f",
             "gridcolor": "white",
             "linecolor": "white",
             "minorgridcolor": "white",
             "startlinecolor": "#2a3f5f"
            },
            "type": "carpet"
           }
          ],
          "choropleth": [
           {
            "colorbar": {
             "outlinewidth": 0,
             "ticks": ""
            },
            "type": "choropleth"
           }
          ],
          "contour": [
           {
            "colorbar": {
             "outlinewidth": 0,
             "ticks": ""
            },
            "colorscale": [
             [
              0,
              "#0d0887"
             ],
             [
              0.1111111111111111,
              "#46039f"
             ],
             [
              0.2222222222222222,
              "#7201a8"
             ],
             [
              0.3333333333333333,
              "#9c179e"
             ],
             [
              0.4444444444444444,
              "#bd3786"
             ],
             [
              0.5555555555555556,
              "#d8576b"
             ],
             [
              0.6666666666666666,
              "#ed7953"
             ],
             [
              0.7777777777777778,
              "#fb9f3a"
             ],
             [
              0.8888888888888888,
              "#fdca26"
             ],
             [
              1,
              "#f0f921"
             ]
            ],
            "type": "contour"
           }
          ],
          "contourcarpet": [
           {
            "colorbar": {
             "outlinewidth": 0,
             "ticks": ""
            },
            "type": "contourcarpet"
           }
          ],
          "heatmap": [
           {
            "colorbar": {
             "outlinewidth": 0,
             "ticks": ""
            },
            "colorscale": [
             [
              0,
              "#0d0887"
             ],
             [
              0.1111111111111111,
              "#46039f"
             ],
             [
              0.2222222222222222,
              "#7201a8"
             ],
             [
              0.3333333333333333,
              "#9c179e"
             ],
             [
              0.4444444444444444,
              "#bd3786"
             ],
             [
              0.5555555555555556,
              "#d8576b"
             ],
             [
              0.6666666666666666,
              "#ed7953"
             ],
             [
              0.7777777777777778,
              "#fb9f3a"
             ],
             [
              0.8888888888888888,
              "#fdca26"
             ],
             [
              1,
              "#f0f921"
             ]
            ],
            "type": "heatmap"
           }
          ],
          "heatmapgl": [
           {
            "colorbar": {
             "outlinewidth": 0,
             "ticks": ""
            },
            "colorscale": [
             [
              0,
              "#0d0887"
             ],
             [
              0.1111111111111111,
              "#46039f"
             ],
             [
              0.2222222222222222,
              "#7201a8"
             ],
             [
              0.3333333333333333,
              "#9c179e"
             ],
             [
              0.4444444444444444,
              "#bd3786"
             ],
             [
              0.5555555555555556,
              "#d8576b"
             ],
             [
              0.6666666666666666,
              "#ed7953"
             ],
             [
              0.7777777777777778,
              "#fb9f3a"
             ],
             [
              0.8888888888888888,
              "#fdca26"
             ],
             [
              1,
              "#f0f921"
             ]
            ],
            "type": "heatmapgl"
           }
          ],
          "histogram": [
           {
            "marker": {
             "colorbar": {
              "outlinewidth": 0,
              "ticks": ""
             }
            },
            "type": "histogram"
           }
          ],
          "histogram2d": [
           {
            "colorbar": {
             "outlinewidth": 0,
             "ticks": ""
            },
            "colorscale": [
             [
              0,
              "#0d0887"
             ],
             [
              0.1111111111111111,
              "#46039f"
             ],
             [
              0.2222222222222222,
              "#7201a8"
             ],
             [
              0.3333333333333333,
              "#9c179e"
             ],
             [
              0.4444444444444444,
              "#bd3786"
             ],
             [
              0.5555555555555556,
              "#d8576b"
             ],
             [
              0.6666666666666666,
              "#ed7953"
             ],
             [
              0.7777777777777778,
              "#fb9f3a"
             ],
             [
              0.8888888888888888,
              "#fdca26"
             ],
             [
              1,
              "#f0f921"
             ]
            ],
            "type": "histogram2d"
           }
          ],
          "histogram2dcontour": [
           {
            "colorbar": {
             "outlinewidth": 0,
             "ticks": ""
            },
            "colorscale": [
             [
              0,
              "#0d0887"
             ],
             [
              0.1111111111111111,
              "#46039f"
             ],
             [
              0.2222222222222222,
              "#7201a8"
             ],
             [
              0.3333333333333333,
              "#9c179e"
             ],
             [
              0.4444444444444444,
              "#bd3786"
             ],
             [
              0.5555555555555556,
              "#d8576b"
             ],
             [
              0.6666666666666666,
              "#ed7953"
             ],
             [
              0.7777777777777778,
              "#fb9f3a"
             ],
             [
              0.8888888888888888,
              "#fdca26"
             ],
             [
              1,
              "#f0f921"
             ]
            ],
            "type": "histogram2dcontour"
           }
          ],
          "mesh3d": [
           {
            "colorbar": {
             "outlinewidth": 0,
             "ticks": ""
            },
            "type": "mesh3d"
           }
          ],
          "parcoords": [
           {
            "line": {
             "colorbar": {
              "outlinewidth": 0,
              "ticks": ""
             }
            },
            "type": "parcoords"
           }
          ],
          "pie": [
           {
            "automargin": true,
            "type": "pie"
           }
          ],
          "scatter": [
           {
            "marker": {
             "colorbar": {
              "outlinewidth": 0,
              "ticks": ""
             }
            },
            "type": "scatter"
           }
          ],
          "scatter3d": [
           {
            "line": {
             "colorbar": {
              "outlinewidth": 0,
              "ticks": ""
             }
            },
            "marker": {
             "colorbar": {
              "outlinewidth": 0,
              "ticks": ""
             }
            },
            "type": "scatter3d"
           }
          ],
          "scattercarpet": [
           {
            "marker": {
             "colorbar": {
              "outlinewidth": 0,
              "ticks": ""
             }
            },
            "type": "scattercarpet"
           }
          ],
          "scattergeo": [
           {
            "marker": {
             "colorbar": {
              "outlinewidth": 0,
              "ticks": ""
             }
            },
            "type": "scattergeo"
           }
          ],
          "scattergl": [
           {
            "marker": {
             "colorbar": {
              "outlinewidth": 0,
              "ticks": ""
             }
            },
            "type": "scattergl"
           }
          ],
          "scattermapbox": [
           {
            "marker": {
             "colorbar": {
              "outlinewidth": 0,
              "ticks": ""
             }
            },
            "type": "scattermapbox"
           }
          ],
          "scatterpolar": [
           {
            "marker": {
             "colorbar": {
              "outlinewidth": 0,
              "ticks": ""
             }
            },
            "type": "scatterpolar"
           }
          ],
          "scatterpolargl": [
           {
            "marker": {
             "colorbar": {
              "outlinewidth": 0,
              "ticks": ""
             }
            },
            "type": "scatterpolargl"
           }
          ],
          "scatterternary": [
           {
            "marker": {
             "colorbar": {
              "outlinewidth": 0,
              "ticks": ""
             }
            },
            "type": "scatterternary"
           }
          ],
          "surface": [
           {
            "colorbar": {
             "outlinewidth": 0,
             "ticks": ""
            },
            "colorscale": [
             [
              0,
              "#0d0887"
             ],
             [
              0.1111111111111111,
              "#46039f"
             ],
             [
              0.2222222222222222,
              "#7201a8"
             ],
             [
              0.3333333333333333,
              "#9c179e"
             ],
             [
              0.4444444444444444,
              "#bd3786"
             ],
             [
              0.5555555555555556,
              "#d8576b"
             ],
             [
              0.6666666666666666,
              "#ed7953"
             ],
             [
              0.7777777777777778,
              "#fb9f3a"
             ],
             [
              0.8888888888888888,
              "#fdca26"
             ],
             [
              1,
              "#f0f921"
             ]
            ],
            "type": "surface"
           }
          ],
          "table": [
           {
            "cells": {
             "fill": {
              "color": "#EBF0F8"
             },
             "line": {
              "color": "white"
             }
            },
            "header": {
             "fill": {
              "color": "#C8D4E3"
             },
             "line": {
              "color": "white"
             }
            },
            "type": "table"
           }
          ]
         },
         "layout": {
          "annotationdefaults": {
           "arrowcolor": "#2a3f5f",
           "arrowhead": 0,
           "arrowwidth": 1
          },
          "autotypenumbers": "strict",
          "coloraxis": {
           "colorbar": {
            "outlinewidth": 0,
            "ticks": ""
           }
          },
          "colorscale": {
           "diverging": [
            [
             0,
             "#8e0152"
            ],
            [
             0.1,
             "#c51b7d"
            ],
            [
             0.2,
             "#de77ae"
            ],
            [
             0.3,
             "#f1b6da"
            ],
            [
             0.4,
             "#fde0ef"
            ],
            [
             0.5,
             "#f7f7f7"
            ],
            [
             0.6,
             "#e6f5d0"
            ],
            [
             0.7,
             "#b8e186"
            ],
            [
             0.8,
             "#7fbc41"
            ],
            [
             0.9,
             "#4d9221"
            ],
            [
             1,
             "#276419"
            ]
           ],
           "sequential": [
            [
             0,
             "#0d0887"
            ],
            [
             0.1111111111111111,
             "#46039f"
            ],
            [
             0.2222222222222222,
             "#7201a8"
            ],
            [
             0.3333333333333333,
             "#9c179e"
            ],
            [
             0.4444444444444444,
             "#bd3786"
            ],
            [
             0.5555555555555556,
             "#d8576b"
            ],
            [
             0.6666666666666666,
             "#ed7953"
            ],
            [
             0.7777777777777778,
             "#fb9f3a"
            ],
            [
             0.8888888888888888,
             "#fdca26"
            ],
            [
             1,
             "#f0f921"
            ]
           ],
           "sequentialminus": [
            [
             0,
             "#0d0887"
            ],
            [
             0.1111111111111111,
             "#46039f"
            ],
            [
             0.2222222222222222,
             "#7201a8"
            ],
            [
             0.3333333333333333,
             "#9c179e"
            ],
            [
             0.4444444444444444,
             "#bd3786"
            ],
            [
             0.5555555555555556,
             "#d8576b"
            ],
            [
             0.6666666666666666,
             "#ed7953"
            ],
            [
             0.7777777777777778,
             "#fb9f3a"
            ],
            [
             0.8888888888888888,
             "#fdca26"
            ],
            [
             1,
             "#f0f921"
            ]
           ]
          },
          "colorway": [
           "#636efa",
           "#EF553B",
           "#00cc96",
           "#ab63fa",
           "#FFA15A",
           "#19d3f3",
           "#FF6692",
           "#B6E880",
           "#FF97FF",
           "#FECB52"
          ],
          "font": {
           "color": "#2a3f5f"
          },
          "geo": {
           "bgcolor": "white",
           "lakecolor": "white",
           "landcolor": "#E5ECF6",
           "showlakes": true,
           "showland": true,
           "subunitcolor": "white"
          },
          "hoverlabel": {
           "align": "left"
          },
          "hovermode": "closest",
          "mapbox": {
           "style": "light"
          },
          "paper_bgcolor": "white",
          "plot_bgcolor": "#E5ECF6",
          "polar": {
           "angularaxis": {
            "gridcolor": "white",
            "linecolor": "white",
            "ticks": ""
           },
           "bgcolor": "#E5ECF6",
           "radialaxis": {
            "gridcolor": "white",
            "linecolor": "white",
            "ticks": ""
           }
          },
          "scene": {
           "xaxis": {
            "backgroundcolor": "#E5ECF6",
            "gridcolor": "white",
            "gridwidth": 2,
            "linecolor": "white",
            "showbackground": true,
            "ticks": "",
            "zerolinecolor": "white"
           },
           "yaxis": {
            "backgroundcolor": "#E5ECF6",
            "gridcolor": "white",
            "gridwidth": 2,
            "linecolor": "white",
            "showbackground": true,
            "ticks": "",
            "zerolinecolor": "white"
           },
           "zaxis": {
            "backgroundcolor": "#E5ECF6",
            "gridcolor": "white",
            "gridwidth": 2,
            "linecolor": "white",
            "showbackground": true,
            "ticks": "",
            "zerolinecolor": "white"
           }
          },
          "shapedefaults": {
           "line": {
            "color": "#2a3f5f"
           }
          },
          "ternary": {
           "aaxis": {
            "gridcolor": "white",
            "linecolor": "white",
            "ticks": ""
           },
           "baxis": {
            "gridcolor": "white",
            "linecolor": "white",
            "ticks": ""
           },
           "bgcolor": "#E5ECF6",
           "caxis": {
            "gridcolor": "white",
            "linecolor": "white",
            "ticks": ""
           }
          },
          "title": {
           "x": 0.05
          },
          "xaxis": {
           "automargin": true,
           "gridcolor": "white",
           "linecolor": "white",
           "ticks": "",
           "title": {
            "standoff": 15
           },
           "zerolinecolor": "white",
           "zerolinewidth": 2
          },
          "yaxis": {
           "automargin": true,
           "gridcolor": "white",
           "linecolor": "white",
           "ticks": "",
           "title": {
            "standoff": 15
           },
           "zerolinecolor": "white",
           "zerolinewidth": 2
          }
         }
        },
        "xaxis": {
         "anchor": "y",
         "domain": [
          0,
          1
         ],
         "title": {
          "text": "total_bill"
         }
        },
        "yaxis": {
         "anchor": "x",
         "domain": [
          0,
          1
         ],
         "title": {
          "text": "avg of tip"
         }
        }
       }
      },
      "text/html": [
       "<div>                            <div id=\"d7d0c694-3ff7-4b19-8677-95fef6600d13\" class=\"plotly-graph-div\" style=\"height:525px; width:100%;\"></div>            <script type=\"text/javascript\">                require([\"plotly\"], function(Plotly) {                    window.PLOTLYENV=window.PLOTLYENV || {};                                    if (document.getElementById(\"d7d0c694-3ff7-4b19-8677-95fef6600d13\")) {                    Plotly.newPlot(                        \"d7d0c694-3ff7-4b19-8677-95fef6600d13\",                        [{\"alignmentgroup\": \"True\", \"bingroup\": \"x\", \"histfunc\": \"avg\", \"hovertemplate\": \"total_bill=%{x}<br>avg of tip=%{y}<extra></extra>\", \"legendgroup\": \"\", \"marker\": {\"color\": \"#636efa\"}, \"name\": \"\", \"offsetgroup\": \"\", \"orientation\": \"v\", \"showlegend\": false, \"type\": \"histogram\", \"x\": [16.99, 10.34, 21.01, 23.68, 24.59, 25.29, 8.77, 26.88, 15.04, 14.78, 10.27, 35.26, 15.42, 18.43, 14.83, 21.58, 10.33, 16.29, 16.97, 20.65, 17.92, 20.29, 15.77, 39.42, 19.82, 17.81, 13.37, 12.69, 21.7, 19.65, 9.55, 18.35, 15.06, 20.69, 17.78, 24.06, 16.31, 16.93, 18.69, 31.27, 16.04, 17.46, 13.94, 9.68, 30.4, 18.29, 22.23, 32.4, 28.55, 18.04, 12.54, 10.29, 34.81, 9.94, 25.56, 19.49, 38.01, 26.41, 11.24, 48.27, 20.29, 13.81, 11.02, 18.29, 17.59, 20.08, 16.45, 3.07, 20.23, 15.01, 12.02, 17.07, 26.86, 25.28, 14.73, 10.51, 17.92, 27.2, 22.76, 17.29, 19.44, 16.66, 10.07, 32.68, 15.98, 34.83, 13.03, 18.28, 24.71, 21.16, 28.97, 22.49, 5.75, 16.32, 22.75, 40.17, 27.28, 12.03, 21.01, 12.46, 11.35, 15.38, 44.3, 22.42, 20.92, 15.36, 20.49, 25.21, 18.24, 14.31, 14.0, 7.25, 38.07, 23.95, 25.71, 17.31, 29.93, 10.65, 12.43, 24.08, 11.69, 13.42, 14.26, 15.95, 12.48, 29.8, 8.52, 14.52, 11.38, 22.82, 19.08, 20.27, 11.17, 12.26, 18.26, 8.51, 10.33, 14.15, 16.0, 13.16, 17.47, 34.3, 41.19, 27.05, 16.43, 8.35, 18.64, 11.87, 9.78, 7.51, 14.07, 13.13, 17.26, 24.55, 19.77, 29.85, 48.17, 25.0, 13.39, 16.49, 21.5, 12.66, 16.21, 13.81, 17.51, 24.52, 20.76, 31.71, 10.59, 10.63, 50.81, 15.81, 7.25, 31.85, 16.82, 32.9, 17.89, 14.48, 9.6, 34.63, 34.65, 23.33, 45.35, 23.17, 40.55, 20.69, 20.9, 30.46, 18.15, 23.1, 15.69, 19.81, 28.44, 15.48, 16.58, 7.56, 10.34, 43.11, 13.0, 13.51, 18.71, 12.74, 13.0, 16.4, 20.53, 16.47, 26.59, 38.73, 24.27, 12.76, 30.06, 25.89, 48.33, 13.27, 28.17, 12.9, 28.15, 11.59, 7.74, 30.14, 12.16, 13.42, 8.58, 15.98, 13.42, 16.27, 10.09, 20.45, 13.28, 22.12, 24.01, 15.69, 11.61, 10.77, 15.53, 10.07, 12.6, 32.83, 35.83, 29.03, 27.18, 22.67, 17.82, 18.78], \"xaxis\": \"x\", \"y\": [1.01, 1.66, 3.5, 3.31, 3.61, 4.71, 2.0, 3.12, 1.96, 3.23, 1.71, 5.0, 1.57, 3.0, 3.02, 3.92, 1.67, 3.71, 3.5, 3.35, 4.08, 2.75, 2.23, 7.58, 3.18, 2.34, 2.0, 2.0, 4.3, 3.0, 1.45, 2.5, 3.0, 2.45, 3.27, 3.6, 2.0, 3.07, 2.31, 5.0, 2.24, 2.54, 3.06, 1.32, 5.6, 3.0, 5.0, 6.0, 2.05, 3.0, 2.5, 2.6, 5.2, 1.56, 4.34, 3.51, 3.0, 1.5, 1.76, 6.73, 3.21, 2.0, 1.98, 3.76, 2.64, 3.15, 2.47, 1.0, 2.01, 2.09, 1.97, 3.0, 3.14, 5.0, 2.2, 1.25, 3.08, 4.0, 3.0, 2.71, 3.0, 3.4, 1.83, 5.0, 2.03, 5.17, 2.0, 4.0, 5.85, 3.0, 3.0, 3.5, 1.0, 4.3, 3.25, 4.73, 4.0, 1.5, 3.0, 1.5, 2.5, 3.0, 2.5, 3.48, 4.08, 1.64, 4.06, 4.29, 3.76, 4.0, 3.0, 1.0, 4.0, 2.55, 4.0, 3.5, 5.07, 1.5, 1.8, 2.92, 2.31, 1.68, 2.5, 2.0, 2.52, 4.2, 1.48, 2.0, 2.0, 2.18, 1.5, 2.83, 1.5, 2.0, 3.25, 1.25, 2.0, 2.0, 2.0, 2.75, 3.5, 6.7, 5.0, 5.0, 2.3, 1.5, 1.36, 1.63, 1.73, 2.0, 2.5, 2.0, 2.74, 2.0, 2.0, 5.14, 5.0, 3.75, 2.61, 2.0, 3.5, 2.5, 2.0, 2.0, 3.0, 3.48, 2.24, 4.5, 1.61, 2.0, 10.0, 3.16, 5.15, 3.18, 4.0, 3.11, 2.0, 2.0, 4.0, 3.55, 3.68, 5.65, 3.5, 6.5, 3.0, 5.0, 3.5, 2.0, 3.5, 4.0, 1.5, 4.19, 2.56, 2.02, 4.0, 1.44, 2.0, 5.0, 2.0, 2.0, 4.0, 2.01, 2.0, 2.5, 4.0, 3.23, 3.41, 3.0, 2.03, 2.23, 2.0, 5.16, 9.0, 2.5, 6.5, 1.1, 3.0, 1.5, 1.44, 3.09, 2.2, 3.48, 1.92, 3.0, 1.58, 2.5, 2.0, 3.0, 2.72, 2.88, 2.0, 3.0, 3.39, 1.47, 3.0, 1.25, 1.0, 1.17, 4.67, 5.92, 2.0, 2.0, 1.75, 3.0], \"yaxis\": \"y\"}],                        {\"barmode\": \"relative\", \"legend\": {\"tracegroupgap\": 0}, \"margin\": {\"t\": 60}, \"template\": {\"data\": {\"bar\": [{\"error_x\": {\"color\": \"#2a3f5f\"}, \"error_y\": {\"color\": \"#2a3f5f\"}, \"marker\": {\"line\": {\"color\": \"#E5ECF6\", \"width\": 0.5}}, \"type\": \"bar\"}], \"barpolar\": [{\"marker\": {\"line\": {\"color\": \"#E5ECF6\", \"width\": 0.5}}, \"type\": \"barpolar\"}], \"carpet\": [{\"aaxis\": {\"endlinecolor\": \"#2a3f5f\", \"gridcolor\": \"white\", \"linecolor\": \"white\", \"minorgridcolor\": \"white\", \"startlinecolor\": \"#2a3f5f\"}, \"baxis\": {\"endlinecolor\": \"#2a3f5f\", \"gridcolor\": \"white\", \"linecolor\": \"white\", \"minorgridcolor\": \"white\", \"startlinecolor\": \"#2a3f5f\"}, \"type\": \"carpet\"}], \"choropleth\": [{\"colorbar\": {\"outlinewidth\": 0, \"ticks\": \"\"}, \"type\": \"choropleth\"}], \"contour\": [{\"colorbar\": {\"outlinewidth\": 0, \"ticks\": \"\"}, \"colorscale\": [[0.0, \"#0d0887\"], [0.1111111111111111, \"#46039f\"], [0.2222222222222222, \"#7201a8\"], [0.3333333333333333, \"#9c179e\"], [0.4444444444444444, \"#bd3786\"], [0.5555555555555556, \"#d8576b\"], [0.6666666666666666, \"#ed7953\"], [0.7777777777777778, \"#fb9f3a\"], [0.8888888888888888, \"#fdca26\"], [1.0, \"#f0f921\"]], \"type\": \"contour\"}], \"contourcarpet\": [{\"colorbar\": {\"outlinewidth\": 0, \"ticks\": \"\"}, \"type\": \"contourcarpet\"}], \"heatmap\": [{\"colorbar\": {\"outlinewidth\": 0, \"ticks\": \"\"}, \"colorscale\": [[0.0, \"#0d0887\"], [0.1111111111111111, \"#46039f\"], [0.2222222222222222, \"#7201a8\"], [0.3333333333333333, \"#9c179e\"], [0.4444444444444444, \"#bd3786\"], [0.5555555555555556, \"#d8576b\"], [0.6666666666666666, \"#ed7953\"], [0.7777777777777778, \"#fb9f3a\"], [0.8888888888888888, \"#fdca26\"], [1.0, \"#f0f921\"]], \"type\": \"heatmap\"}], \"heatmapgl\": [{\"colorbar\": {\"outlinewidth\": 0, \"ticks\": \"\"}, \"colorscale\": [[0.0, \"#0d0887\"], [0.1111111111111111, \"#46039f\"], [0.2222222222222222, \"#7201a8\"], [0.3333333333333333, \"#9c179e\"], [0.4444444444444444, \"#bd3786\"], [0.5555555555555556, \"#d8576b\"], [0.6666666666666666, \"#ed7953\"], [0.7777777777777778, \"#fb9f3a\"], [0.8888888888888888, \"#fdca26\"], [1.0, \"#f0f921\"]], \"type\": \"heatmapgl\"}], \"histogram\": [{\"marker\": {\"colorbar\": {\"outlinewidth\": 0, \"ticks\": \"\"}}, \"type\": \"histogram\"}], \"histogram2d\": [{\"colorbar\": {\"outlinewidth\": 0, \"ticks\": \"\"}, \"colorscale\": [[0.0, \"#0d0887\"], [0.1111111111111111, \"#46039f\"], [0.2222222222222222, \"#7201a8\"], [0.3333333333333333, \"#9c179e\"], [0.4444444444444444, \"#bd3786\"], [0.5555555555555556, \"#d8576b\"], [0.6666666666666666, \"#ed7953\"], [0.7777777777777778, \"#fb9f3a\"], [0.8888888888888888, \"#fdca26\"], [1.0, \"#f0f921\"]], \"type\": \"histogram2d\"}], \"histogram2dcontour\": [{\"colorbar\": {\"outlinewidth\": 0, \"ticks\": \"\"}, \"colorscale\": [[0.0, \"#0d0887\"], [0.1111111111111111, \"#46039f\"], [0.2222222222222222, \"#7201a8\"], [0.3333333333333333, \"#9c179e\"], [0.4444444444444444, \"#bd3786\"], [0.5555555555555556, \"#d8576b\"], [0.6666666666666666, \"#ed7953\"], [0.7777777777777778, \"#fb9f3a\"], [0.8888888888888888, \"#fdca26\"], [1.0, \"#f0f921\"]], \"type\": \"histogram2dcontour\"}], \"mesh3d\": [{\"colorbar\": {\"outlinewidth\": 0, \"ticks\": \"\"}, \"type\": \"mesh3d\"}], \"parcoords\": [{\"line\": {\"colorbar\": {\"outlinewidth\": 0, \"ticks\": \"\"}}, \"type\": \"parcoords\"}], \"pie\": [{\"automargin\": true, \"type\": \"pie\"}], \"scatter\": [{\"marker\": {\"colorbar\": {\"outlinewidth\": 0, \"ticks\": \"\"}}, \"type\": \"scatter\"}], \"scatter3d\": [{\"line\": {\"colorbar\": {\"outlinewidth\": 0, \"ticks\": \"\"}}, \"marker\": {\"colorbar\": {\"outlinewidth\": 0, \"ticks\": \"\"}}, \"type\": \"scatter3d\"}], \"scattercarpet\": [{\"marker\": {\"colorbar\": {\"outlinewidth\": 0, \"ticks\": \"\"}}, \"type\": \"scattercarpet\"}], \"scattergeo\": [{\"marker\": {\"colorbar\": {\"outlinewidth\": 0, \"ticks\": \"\"}}, \"type\": \"scattergeo\"}], \"scattergl\": [{\"marker\": {\"colorbar\": {\"outlinewidth\": 0, \"ticks\": \"\"}}, \"type\": \"scattergl\"}], \"scattermapbox\": [{\"marker\": {\"colorbar\": {\"outlinewidth\": 0, \"ticks\": \"\"}}, \"type\": \"scattermapbox\"}], \"scatterpolar\": [{\"marker\": {\"colorbar\": {\"outlinewidth\": 0, \"ticks\": \"\"}}, \"type\": \"scatterpolar\"}], \"scatterpolargl\": [{\"marker\": {\"colorbar\": {\"outlinewidth\": 0, \"ticks\": \"\"}}, \"type\": \"scatterpolargl\"}], \"scatterternary\": [{\"marker\": {\"colorbar\": {\"outlinewidth\": 0, \"ticks\": \"\"}}, \"type\": \"scatterternary\"}], \"surface\": [{\"colorbar\": {\"outlinewidth\": 0, \"ticks\": \"\"}, \"colorscale\": [[0.0, \"#0d0887\"], [0.1111111111111111, \"#46039f\"], [0.2222222222222222, \"#7201a8\"], [0.3333333333333333, \"#9c179e\"], [0.4444444444444444, \"#bd3786\"], [0.5555555555555556, \"#d8576b\"], [0.6666666666666666, \"#ed7953\"], [0.7777777777777778, \"#fb9f3a\"], [0.8888888888888888, \"#fdca26\"], [1.0, \"#f0f921\"]], \"type\": \"surface\"}], \"table\": [{\"cells\": {\"fill\": {\"color\": \"#EBF0F8\"}, \"line\": {\"color\": \"white\"}}, \"header\": {\"fill\": {\"color\": \"#C8D4E3\"}, \"line\": {\"color\": \"white\"}}, \"type\": \"table\"}]}, \"layout\": {\"annotationdefaults\": {\"arrowcolor\": \"#2a3f5f\", \"arrowhead\": 0, \"arrowwidth\": 1}, \"autotypenumbers\": \"strict\", \"coloraxis\": {\"colorbar\": {\"outlinewidth\": 0, \"ticks\": \"\"}}, \"colorscale\": {\"diverging\": [[0, \"#8e0152\"], [0.1, \"#c51b7d\"], [0.2, \"#de77ae\"], [0.3, \"#f1b6da\"], [0.4, \"#fde0ef\"], [0.5, \"#f7f7f7\"], [0.6, \"#e6f5d0\"], [0.7, \"#b8e186\"], [0.8, \"#7fbc41\"], [0.9, \"#4d9221\"], [1, \"#276419\"]], \"sequential\": [[0.0, \"#0d0887\"], [0.1111111111111111, \"#46039f\"], [0.2222222222222222, \"#7201a8\"], [0.3333333333333333, \"#9c179e\"], [0.4444444444444444, \"#bd3786\"], [0.5555555555555556, \"#d8576b\"], [0.6666666666666666, \"#ed7953\"], [0.7777777777777778, \"#fb9f3a\"], [0.8888888888888888, \"#fdca26\"], [1.0, \"#f0f921\"]], \"sequentialminus\": [[0.0, \"#0d0887\"], [0.1111111111111111, \"#46039f\"], [0.2222222222222222, \"#7201a8\"], [0.3333333333333333, \"#9c179e\"], [0.4444444444444444, \"#bd3786\"], [0.5555555555555556, \"#d8576b\"], [0.6666666666666666, \"#ed7953\"], [0.7777777777777778, \"#fb9f3a\"], [0.8888888888888888, \"#fdca26\"], [1.0, \"#f0f921\"]]}, \"colorway\": [\"#636efa\", \"#EF553B\", \"#00cc96\", \"#ab63fa\", \"#FFA15A\", \"#19d3f3\", \"#FF6692\", \"#B6E880\", \"#FF97FF\", \"#FECB52\"], \"font\": {\"color\": \"#2a3f5f\"}, \"geo\": {\"bgcolor\": \"white\", \"lakecolor\": \"white\", \"landcolor\": \"#E5ECF6\", \"showlakes\": true, \"showland\": true, \"subunitcolor\": \"white\"}, \"hoverlabel\": {\"align\": \"left\"}, \"hovermode\": \"closest\", \"mapbox\": {\"style\": \"light\"}, \"paper_bgcolor\": \"white\", \"plot_bgcolor\": \"#E5ECF6\", \"polar\": {\"angularaxis\": {\"gridcolor\": \"white\", \"linecolor\": \"white\", \"ticks\": \"\"}, \"bgcolor\": \"#E5ECF6\", \"radialaxis\": {\"gridcolor\": \"white\", \"linecolor\": \"white\", \"ticks\": \"\"}}, \"scene\": {\"xaxis\": {\"backgroundcolor\": \"#E5ECF6\", \"gridcolor\": \"white\", \"gridwidth\": 2, \"linecolor\": \"white\", \"showbackground\": true, \"ticks\": \"\", \"zerolinecolor\": \"white\"}, \"yaxis\": {\"backgroundcolor\": \"#E5ECF6\", \"gridcolor\": \"white\", \"gridwidth\": 2, \"linecolor\": \"white\", \"showbackground\": true, \"ticks\": \"\", \"zerolinecolor\": \"white\"}, \"zaxis\": {\"backgroundcolor\": \"#E5ECF6\", \"gridcolor\": \"white\", \"gridwidth\": 2, \"linecolor\": \"white\", \"showbackground\": true, \"ticks\": \"\", \"zerolinecolor\": \"white\"}}, \"shapedefaults\": {\"line\": {\"color\": \"#2a3f5f\"}}, \"ternary\": {\"aaxis\": {\"gridcolor\": \"white\", \"linecolor\": \"white\", \"ticks\": \"\"}, \"baxis\": {\"gridcolor\": \"white\", \"linecolor\": \"white\", \"ticks\": \"\"}, \"bgcolor\": \"#E5ECF6\", \"caxis\": {\"gridcolor\": \"white\", \"linecolor\": \"white\", \"ticks\": \"\"}}, \"title\": {\"x\": 0.05}, \"xaxis\": {\"automargin\": true, \"gridcolor\": \"white\", \"linecolor\": \"white\", \"ticks\": \"\", \"title\": {\"standoff\": 15}, \"zerolinecolor\": \"white\", \"zerolinewidth\": 2}, \"yaxis\": {\"automargin\": true, \"gridcolor\": \"white\", \"linecolor\": \"white\", \"ticks\": \"\", \"title\": {\"standoff\": 15}, \"zerolinecolor\": \"white\", \"zerolinewidth\": 2}}}, \"xaxis\": {\"anchor\": \"y\", \"domain\": [0.0, 1.0], \"title\": {\"text\": \"total_bill\"}}, \"yaxis\": {\"anchor\": \"x\", \"domain\": [0.0, 1.0], \"title\": {\"text\": \"avg of tip\"}}},                        {\"responsive\": true}                    ).then(function(){\n",
       "                            \n",
       "var gd = document.getElementById('d7d0c694-3ff7-4b19-8677-95fef6600d13');\n",
       "var x = new MutationObserver(function (mutations, observer) {{\n",
       "        var display = window.getComputedStyle(gd).display;\n",
       "        if (!display || display === 'none') {{\n",
       "            console.log([gd, 'removed!']);\n",
       "            Plotly.purge(gd);\n",
       "            observer.disconnect();\n",
       "        }}\n",
       "}});\n",
       "\n",
       "// Listen for the removal of the full notebook cells\n",
       "var notebookContainer = gd.closest('#notebook-container');\n",
       "if (notebookContainer) {{\n",
       "    x.observe(notebookContainer, {childList: true});\n",
       "}}\n",
       "\n",
       "// Listen for the clearing of the current output cell\n",
       "var outputEl = gd.closest('.output');\n",
       "if (outputEl) {{\n",
       "    x.observe(outputEl, {childList: true});\n",
       "}}\n",
       "\n",
       "                        })                };                });            </script>        </div>"
      ]
     },
     "metadata": {},
     "output_type": "display_data"
    }
   ],
   "source": [
    "fig = px.histogram(tips, x='total_bill',\n",
    "                  y='tip',\n",
    "                  histfunc='avg')\n",
    "fig.show()"
   ]
  },
  {
   "cell_type": "code",
   "execution_count": 23,
   "metadata": {},
   "outputs": [
    {
     "data": {
      "application/vnd.plotly.v1+json": {
       "config": {
        "plotlyServerURL": "https://plot.ly"
       },
       "data": [
        {
         "alignmentgroup": "True",
         "bingroup": "x",
         "hovertemplate": "sex=Female<br>total_bill=%{x}<br>count=%{y}<extra></extra>",
         "legendgroup": "Female",
         "marker": {
          "color": "#636efa"
         },
         "name": "Female",
         "offsetgroup": "Female",
         "orientation": "v",
         "showlegend": true,
         "type": "histogram",
         "x": [
          16.99,
          24.59,
          35.26,
          14.83,
          10.33,
          16.97,
          20.29,
          15.77,
          19.65,
          15.06,
          20.69,
          16.93,
          10.29,
          34.81,
          26.41,
          16.45,
          3.07,
          17.07,
          26.86,
          25.28,
          14.73,
          10.07,
          34.83,
          5.75,
          16.32,
          22.75,
          11.35,
          15.38,
          44.3,
          22.42,
          20.92,
          14.31,
          7.25,
          25.71,
          17.31,
          10.65,
          12.43,
          24.08,
          13.42,
          12.48,
          29.8,
          14.52,
          11.38,
          20.27,
          11.17,
          12.26,
          18.26,
          8.51,
          10.33,
          14.15,
          13.16,
          17.47,
          27.05,
          16.43,
          8.35,
          18.64,
          11.87,
          29.85,
          25,
          13.39,
          16.21,
          17.51,
          10.59,
          10.63,
          9.6,
          20.9,
          18.15,
          19.81,
          43.11,
          13,
          12.74,
          13,
          16.4,
          16.47,
          12.76,
          13.27,
          28.17,
          12.9,
          30.14,
          13.42,
          15.98,
          16.27,
          10.09,
          22.12,
          35.83,
          27.18,
          18.78
         ],
         "xaxis": "x",
         "yaxis": "y"
        },
        {
         "alignmentgroup": "True",
         "customdata": [
          [
           16.99,
           1.01,
           "Female",
           "No",
           "Sun",
           "Dinner",
           2
          ],
          [
           24.59,
           3.61,
           "Female",
           "No",
           "Sun",
           "Dinner",
           4
          ],
          [
           35.26,
           5,
           "Female",
           "No",
           "Sun",
           "Dinner",
           4
          ],
          [
           14.83,
           3.02,
           "Female",
           "No",
           "Sun",
           "Dinner",
           2
          ],
          [
           10.33,
           1.67,
           "Female",
           "No",
           "Sun",
           "Dinner",
           3
          ],
          [
           16.97,
           3.5,
           "Female",
           "No",
           "Sun",
           "Dinner",
           3
          ],
          [
           20.29,
           2.75,
           "Female",
           "No",
           "Sat",
           "Dinner",
           2
          ],
          [
           15.77,
           2.23,
           "Female",
           "No",
           "Sat",
           "Dinner",
           2
          ],
          [
           19.65,
           3,
           "Female",
           "No",
           "Sat",
           "Dinner",
           2
          ],
          [
           15.06,
           3,
           "Female",
           "No",
           "Sat",
           "Dinner",
           2
          ],
          [
           20.69,
           2.45,
           "Female",
           "No",
           "Sat",
           "Dinner",
           4
          ],
          [
           16.93,
           3.07,
           "Female",
           "No",
           "Sat",
           "Dinner",
           3
          ],
          [
           10.29,
           2.6,
           "Female",
           "No",
           "Sun",
           "Dinner",
           2
          ],
          [
           34.81,
           5.2,
           "Female",
           "No",
           "Sun",
           "Dinner",
           4
          ],
          [
           26.41,
           1.5,
           "Female",
           "No",
           "Sat",
           "Dinner",
           2
          ],
          [
           16.45,
           2.47,
           "Female",
           "No",
           "Sat",
           "Dinner",
           2
          ],
          [
           3.07,
           1,
           "Female",
           "Yes",
           "Sat",
           "Dinner",
           1
          ],
          [
           17.07,
           3,
           "Female",
           "No",
           "Sat",
           "Dinner",
           3
          ],
          [
           26.86,
           3.14,
           "Female",
           "Yes",
           "Sat",
           "Dinner",
           2
          ],
          [
           25.28,
           5,
           "Female",
           "Yes",
           "Sat",
           "Dinner",
           2
          ],
          [
           14.73,
           2.2,
           "Female",
           "No",
           "Sat",
           "Dinner",
           2
          ],
          [
           10.07,
           1.83,
           "Female",
           "No",
           "Thur",
           "Lunch",
           1
          ],
          [
           34.83,
           5.17,
           "Female",
           "No",
           "Thur",
           "Lunch",
           4
          ],
          [
           5.75,
           1,
           "Female",
           "Yes",
           "Fri",
           "Dinner",
           2
          ],
          [
           16.32,
           4.3,
           "Female",
           "Yes",
           "Fri",
           "Dinner",
           2
          ],
          [
           22.75,
           3.25,
           "Female",
           "No",
           "Fri",
           "Dinner",
           2
          ],
          [
           11.35,
           2.5,
           "Female",
           "Yes",
           "Fri",
           "Dinner",
           2
          ],
          [
           15.38,
           3,
           "Female",
           "Yes",
           "Fri",
           "Dinner",
           2
          ],
          [
           44.3,
           2.5,
           "Female",
           "Yes",
           "Sat",
           "Dinner",
           3
          ],
          [
           22.42,
           3.48,
           "Female",
           "Yes",
           "Sat",
           "Dinner",
           2
          ],
          [
           20.92,
           4.08,
           "Female",
           "No",
           "Sat",
           "Dinner",
           2
          ],
          [
           14.31,
           4,
           "Female",
           "Yes",
           "Sat",
           "Dinner",
           2
          ],
          [
           7.25,
           1,
           "Female",
           "No",
           "Sat",
           "Dinner",
           1
          ],
          [
           25.71,
           4,
           "Female",
           "No",
           "Sun",
           "Dinner",
           3
          ],
          [
           17.31,
           3.5,
           "Female",
           "No",
           "Sun",
           "Dinner",
           2
          ],
          [
           10.65,
           1.5,
           "Female",
           "No",
           "Thur",
           "Lunch",
           2
          ],
          [
           12.43,
           1.8,
           "Female",
           "No",
           "Thur",
           "Lunch",
           2
          ],
          [
           24.08,
           2.92,
           "Female",
           "No",
           "Thur",
           "Lunch",
           4
          ],
          [
           13.42,
           1.68,
           "Female",
           "No",
           "Thur",
           "Lunch",
           2
          ],
          [
           12.48,
           2.52,
           "Female",
           "No",
           "Thur",
           "Lunch",
           2
          ],
          [
           29.8,
           4.2,
           "Female",
           "No",
           "Thur",
           "Lunch",
           6
          ],
          [
           14.52,
           2,
           "Female",
           "No",
           "Thur",
           "Lunch",
           2
          ],
          [
           11.38,
           2,
           "Female",
           "No",
           "Thur",
           "Lunch",
           2
          ],
          [
           20.27,
           2.83,
           "Female",
           "No",
           "Thur",
           "Lunch",
           2
          ],
          [
           11.17,
           1.5,
           "Female",
           "No",
           "Thur",
           "Lunch",
           2
          ],
          [
           12.26,
           2,
           "Female",
           "No",
           "Thur",
           "Lunch",
           2
          ],
          [
           18.26,
           3.25,
           "Female",
           "No",
           "Thur",
           "Lunch",
           2
          ],
          [
           8.51,
           1.25,
           "Female",
           "No",
           "Thur",
           "Lunch",
           2
          ],
          [
           10.33,
           2,
           "Female",
           "No",
           "Thur",
           "Lunch",
           2
          ],
          [
           14.15,
           2,
           "Female",
           "No",
           "Thur",
           "Lunch",
           2
          ],
          [
           13.16,
           2.75,
           "Female",
           "No",
           "Thur",
           "Lunch",
           2
          ],
          [
           17.47,
           3.5,
           "Female",
           "No",
           "Thur",
           "Lunch",
           2
          ],
          [
           27.05,
           5,
           "Female",
           "No",
           "Thur",
           "Lunch",
           6
          ],
          [
           16.43,
           2.3,
           "Female",
           "No",
           "Thur",
           "Lunch",
           2
          ],
          [
           8.35,
           1.5,
           "Female",
           "No",
           "Thur",
           "Lunch",
           2
          ],
          [
           18.64,
           1.36,
           "Female",
           "No",
           "Thur",
           "Lunch",
           3
          ],
          [
           11.87,
           1.63,
           "Female",
           "No",
           "Thur",
           "Lunch",
           2
          ],
          [
           29.85,
           5.14,
           "Female",
           "No",
           "Sun",
           "Dinner",
           5
          ],
          [
           25,
           3.75,
           "Female",
           "No",
           "Sun",
           "Dinner",
           4
          ],
          [
           13.39,
           2.61,
           "Female",
           "No",
           "Sun",
           "Dinner",
           2
          ],
          [
           16.21,
           2,
           "Female",
           "No",
           "Sun",
           "Dinner",
           3
          ],
          [
           17.51,
           3,
           "Female",
           "Yes",
           "Sun",
           "Dinner",
           2
          ],
          [
           10.59,
           1.61,
           "Female",
           "Yes",
           "Sat",
           "Dinner",
           2
          ],
          [
           10.63,
           2,
           "Female",
           "Yes",
           "Sat",
           "Dinner",
           2
          ],
          [
           9.6,
           4,
           "Female",
           "Yes",
           "Sun",
           "Dinner",
           2
          ],
          [
           20.9,
           3.5,
           "Female",
           "Yes",
           "Sun",
           "Dinner",
           3
          ],
          [
           18.15,
           3.5,
           "Female",
           "Yes",
           "Sun",
           "Dinner",
           3
          ],
          [
           19.81,
           4.19,
           "Female",
           "Yes",
           "Thur",
           "Lunch",
           2
          ],
          [
           43.11,
           5,
           "Female",
           "Yes",
           "Thur",
           "Lunch",
           4
          ],
          [
           13,
           2,
           "Female",
           "Yes",
           "Thur",
           "Lunch",
           2
          ],
          [
           12.74,
           2.01,
           "Female",
           "Yes",
           "Thur",
           "Lunch",
           2
          ],
          [
           13,
           2,
           "Female",
           "Yes",
           "Thur",
           "Lunch",
           2
          ],
          [
           16.4,
           2.5,
           "Female",
           "Yes",
           "Thur",
           "Lunch",
           2
          ],
          [
           16.47,
           3.23,
           "Female",
           "Yes",
           "Thur",
           "Lunch",
           3
          ],
          [
           12.76,
           2.23,
           "Female",
           "Yes",
           "Sat",
           "Dinner",
           2
          ],
          [
           13.27,
           2.5,
           "Female",
           "Yes",
           "Sat",
           "Dinner",
           2
          ],
          [
           28.17,
           6.5,
           "Female",
           "Yes",
           "Sat",
           "Dinner",
           3
          ],
          [
           12.9,
           1.1,
           "Female",
           "Yes",
           "Sat",
           "Dinner",
           2
          ],
          [
           30.14,
           3.09,
           "Female",
           "Yes",
           "Sat",
           "Dinner",
           4
          ],
          [
           13.42,
           3.48,
           "Female",
           "Yes",
           "Fri",
           "Lunch",
           2
          ],
          [
           15.98,
           3,
           "Female",
           "No",
           "Fri",
           "Lunch",
           3
          ],
          [
           16.27,
           2.5,
           "Female",
           "Yes",
           "Fri",
           "Lunch",
           2
          ],
          [
           10.09,
           2,
           "Female",
           "Yes",
           "Fri",
           "Lunch",
           2
          ],
          [
           22.12,
           2.88,
           "Female",
           "Yes",
           "Sat",
           "Dinner",
           2
          ],
          [
           35.83,
           4.67,
           "Female",
           "No",
           "Sat",
           "Dinner",
           3
          ],
          [
           27.18,
           2,
           "Female",
           "Yes",
           "Sat",
           "Dinner",
           2
          ],
          [
           18.78,
           3,
           "Female",
           "No",
           "Thur",
           "Dinner",
           2
          ]
         ],
         "hovertemplate": "sex=%{customdata[2]}<br>total_bill=%{customdata[0]}<br>tip=%{customdata[1]}<br>smoker=%{customdata[3]}<br>day=%{customdata[4]}<br>time=%{customdata[5]}<br>size=%{customdata[6]}<extra></extra>",
         "legendgroup": "Female",
         "marker": {
          "color": "#636efa"
         },
         "name": "Female",
         "notched": true,
         "offsetgroup": "Female",
         "showlegend": false,
         "type": "box",
         "x": [
          16.99,
          24.59,
          35.26,
          14.83,
          10.33,
          16.97,
          20.29,
          15.77,
          19.65,
          15.06,
          20.69,
          16.93,
          10.29,
          34.81,
          26.41,
          16.45,
          3.07,
          17.07,
          26.86,
          25.28,
          14.73,
          10.07,
          34.83,
          5.75,
          16.32,
          22.75,
          11.35,
          15.38,
          44.3,
          22.42,
          20.92,
          14.31,
          7.25,
          25.71,
          17.31,
          10.65,
          12.43,
          24.08,
          13.42,
          12.48,
          29.8,
          14.52,
          11.38,
          20.27,
          11.17,
          12.26,
          18.26,
          8.51,
          10.33,
          14.15,
          13.16,
          17.47,
          27.05,
          16.43,
          8.35,
          18.64,
          11.87,
          29.85,
          25,
          13.39,
          16.21,
          17.51,
          10.59,
          10.63,
          9.6,
          20.9,
          18.15,
          19.81,
          43.11,
          13,
          12.74,
          13,
          16.4,
          16.47,
          12.76,
          13.27,
          28.17,
          12.9,
          30.14,
          13.42,
          15.98,
          16.27,
          10.09,
          22.12,
          35.83,
          27.18,
          18.78
         ],
         "xaxis": "x2",
         "yaxis": "y2"
        },
        {
         "alignmentgroup": "True",
         "bingroup": "x",
         "hovertemplate": "sex=Male<br>total_bill=%{x}<br>count=%{y}<extra></extra>",
         "legendgroup": "Male",
         "marker": {
          "color": "#EF553B"
         },
         "name": "Male",
         "offsetgroup": "Male",
         "orientation": "v",
         "showlegend": true,
         "type": "histogram",
         "x": [
          10.34,
          21.01,
          23.68,
          25.29,
          8.77,
          26.88,
          15.04,
          14.78,
          10.27,
          15.42,
          18.43,
          21.58,
          16.29,
          20.65,
          17.92,
          39.42,
          19.82,
          17.81,
          13.37,
          12.69,
          21.7,
          9.55,
          18.35,
          17.78,
          24.06,
          16.31,
          18.69,
          31.27,
          16.04,
          17.46,
          13.94,
          9.68,
          30.4,
          18.29,
          22.23,
          32.4,
          28.55,
          18.04,
          12.54,
          9.94,
          25.56,
          19.49,
          38.01,
          11.24,
          48.27,
          20.29,
          13.81,
          11.02,
          18.29,
          17.59,
          20.08,
          20.23,
          15.01,
          12.02,
          10.51,
          17.92,
          27.2,
          22.76,
          17.29,
          19.44,
          16.66,
          32.68,
          15.98,
          13.03,
          18.28,
          24.71,
          21.16,
          28.97,
          22.49,
          40.17,
          27.28,
          12.03,
          21.01,
          12.46,
          15.36,
          20.49,
          25.21,
          18.24,
          14,
          38.07,
          23.95,
          29.93,
          11.69,
          14.26,
          15.95,
          8.52,
          22.82,
          19.08,
          16,
          34.3,
          41.19,
          9.78,
          7.51,
          14.07,
          13.13,
          17.26,
          24.55,
          19.77,
          48.17,
          16.49,
          21.5,
          12.66,
          13.81,
          24.52,
          20.76,
          31.71,
          50.81,
          15.81,
          7.25,
          31.85,
          16.82,
          32.9,
          17.89,
          14.48,
          34.63,
          34.65,
          23.33,
          45.35,
          23.17,
          40.55,
          20.69,
          30.46,
          23.1,
          15.69,
          28.44,
          15.48,
          16.58,
          7.56,
          10.34,
          13.51,
          18.71,
          20.53,
          26.59,
          38.73,
          24.27,
          30.06,
          25.89,
          48.33,
          28.15,
          11.59,
          7.74,
          12.16,
          8.58,
          13.42,
          20.45,
          13.28,
          24.01,
          15.69,
          11.61,
          10.77,
          15.53,
          10.07,
          12.6,
          32.83,
          29.03,
          22.67,
          17.82
         ],
         "xaxis": "x",
         "yaxis": "y"
        },
        {
         "alignmentgroup": "True",
         "customdata": [
          [
           10.34,
           1.66,
           "Male",
           "No",
           "Sun",
           "Dinner",
           3
          ],
          [
           21.01,
           3.5,
           "Male",
           "No",
           "Sun",
           "Dinner",
           3
          ],
          [
           23.68,
           3.31,
           "Male",
           "No",
           "Sun",
           "Dinner",
           2
          ],
          [
           25.29,
           4.71,
           "Male",
           "No",
           "Sun",
           "Dinner",
           4
          ],
          [
           8.77,
           2,
           "Male",
           "No",
           "Sun",
           "Dinner",
           2
          ],
          [
           26.88,
           3.12,
           "Male",
           "No",
           "Sun",
           "Dinner",
           4
          ],
          [
           15.04,
           1.96,
           "Male",
           "No",
           "Sun",
           "Dinner",
           2
          ],
          [
           14.78,
           3.23,
           "Male",
           "No",
           "Sun",
           "Dinner",
           2
          ],
          [
           10.27,
           1.71,
           "Male",
           "No",
           "Sun",
           "Dinner",
           2
          ],
          [
           15.42,
           1.57,
           "Male",
           "No",
           "Sun",
           "Dinner",
           2
          ],
          [
           18.43,
           3,
           "Male",
           "No",
           "Sun",
           "Dinner",
           4
          ],
          [
           21.58,
           3.92,
           "Male",
           "No",
           "Sun",
           "Dinner",
           2
          ],
          [
           16.29,
           3.71,
           "Male",
           "No",
           "Sun",
           "Dinner",
           3
          ],
          [
           20.65,
           3.35,
           "Male",
           "No",
           "Sat",
           "Dinner",
           3
          ],
          [
           17.92,
           4.08,
           "Male",
           "No",
           "Sat",
           "Dinner",
           2
          ],
          [
           39.42,
           7.58,
           "Male",
           "No",
           "Sat",
           "Dinner",
           4
          ],
          [
           19.82,
           3.18,
           "Male",
           "No",
           "Sat",
           "Dinner",
           2
          ],
          [
           17.81,
           2.34,
           "Male",
           "No",
           "Sat",
           "Dinner",
           4
          ],
          [
           13.37,
           2,
           "Male",
           "No",
           "Sat",
           "Dinner",
           2
          ],
          [
           12.69,
           2,
           "Male",
           "No",
           "Sat",
           "Dinner",
           2
          ],
          [
           21.7,
           4.3,
           "Male",
           "No",
           "Sat",
           "Dinner",
           2
          ],
          [
           9.55,
           1.45,
           "Male",
           "No",
           "Sat",
           "Dinner",
           2
          ],
          [
           18.35,
           2.5,
           "Male",
           "No",
           "Sat",
           "Dinner",
           4
          ],
          [
           17.78,
           3.27,
           "Male",
           "No",
           "Sat",
           "Dinner",
           2
          ],
          [
           24.06,
           3.6,
           "Male",
           "No",
           "Sat",
           "Dinner",
           3
          ],
          [
           16.31,
           2,
           "Male",
           "No",
           "Sat",
           "Dinner",
           3
          ],
          [
           18.69,
           2.31,
           "Male",
           "No",
           "Sat",
           "Dinner",
           3
          ],
          [
           31.27,
           5,
           "Male",
           "No",
           "Sat",
           "Dinner",
           3
          ],
          [
           16.04,
           2.24,
           "Male",
           "No",
           "Sat",
           "Dinner",
           3
          ],
          [
           17.46,
           2.54,
           "Male",
           "No",
           "Sun",
           "Dinner",
           2
          ],
          [
           13.94,
           3.06,
           "Male",
           "No",
           "Sun",
           "Dinner",
           2
          ],
          [
           9.68,
           1.32,
           "Male",
           "No",
           "Sun",
           "Dinner",
           2
          ],
          [
           30.4,
           5.6,
           "Male",
           "No",
           "Sun",
           "Dinner",
           4
          ],
          [
           18.29,
           3,
           "Male",
           "No",
           "Sun",
           "Dinner",
           2
          ],
          [
           22.23,
           5,
           "Male",
           "No",
           "Sun",
           "Dinner",
           2
          ],
          [
           32.4,
           6,
           "Male",
           "No",
           "Sun",
           "Dinner",
           4
          ],
          [
           28.55,
           2.05,
           "Male",
           "No",
           "Sun",
           "Dinner",
           3
          ],
          [
           18.04,
           3,
           "Male",
           "No",
           "Sun",
           "Dinner",
           2
          ],
          [
           12.54,
           2.5,
           "Male",
           "No",
           "Sun",
           "Dinner",
           2
          ],
          [
           9.94,
           1.56,
           "Male",
           "No",
           "Sun",
           "Dinner",
           2
          ],
          [
           25.56,
           4.34,
           "Male",
           "No",
           "Sun",
           "Dinner",
           4
          ],
          [
           19.49,
           3.51,
           "Male",
           "No",
           "Sun",
           "Dinner",
           2
          ],
          [
           38.01,
           3,
           "Male",
           "Yes",
           "Sat",
           "Dinner",
           4
          ],
          [
           11.24,
           1.76,
           "Male",
           "Yes",
           "Sat",
           "Dinner",
           2
          ],
          [
           48.27,
           6.73,
           "Male",
           "No",
           "Sat",
           "Dinner",
           4
          ],
          [
           20.29,
           3.21,
           "Male",
           "Yes",
           "Sat",
           "Dinner",
           2
          ],
          [
           13.81,
           2,
           "Male",
           "Yes",
           "Sat",
           "Dinner",
           2
          ],
          [
           11.02,
           1.98,
           "Male",
           "Yes",
           "Sat",
           "Dinner",
           2
          ],
          [
           18.29,
           3.76,
           "Male",
           "Yes",
           "Sat",
           "Dinner",
           4
          ],
          [
           17.59,
           2.64,
           "Male",
           "No",
           "Sat",
           "Dinner",
           3
          ],
          [
           20.08,
           3.15,
           "Male",
           "No",
           "Sat",
           "Dinner",
           3
          ],
          [
           20.23,
           2.01,
           "Male",
           "No",
           "Sat",
           "Dinner",
           2
          ],
          [
           15.01,
           2.09,
           "Male",
           "Yes",
           "Sat",
           "Dinner",
           2
          ],
          [
           12.02,
           1.97,
           "Male",
           "No",
           "Sat",
           "Dinner",
           2
          ],
          [
           10.51,
           1.25,
           "Male",
           "No",
           "Sat",
           "Dinner",
           2
          ],
          [
           17.92,
           3.08,
           "Male",
           "Yes",
           "Sat",
           "Dinner",
           2
          ],
          [
           27.2,
           4,
           "Male",
           "No",
           "Thur",
           "Lunch",
           4
          ],
          [
           22.76,
           3,
           "Male",
           "No",
           "Thur",
           "Lunch",
           2
          ],
          [
           17.29,
           2.71,
           "Male",
           "No",
           "Thur",
           "Lunch",
           2
          ],
          [
           19.44,
           3,
           "Male",
           "Yes",
           "Thur",
           "Lunch",
           2
          ],
          [
           16.66,
           3.4,
           "Male",
           "No",
           "Thur",
           "Lunch",
           2
          ],
          [
           32.68,
           5,
           "Male",
           "Yes",
           "Thur",
           "Lunch",
           2
          ],
          [
           15.98,
           2.03,
           "Male",
           "No",
           "Thur",
           "Lunch",
           2
          ],
          [
           13.03,
           2,
           "Male",
           "No",
           "Thur",
           "Lunch",
           2
          ],
          [
           18.28,
           4,
           "Male",
           "No",
           "Thur",
           "Lunch",
           2
          ],
          [
           24.71,
           5.85,
           "Male",
           "No",
           "Thur",
           "Lunch",
           2
          ],
          [
           21.16,
           3,
           "Male",
           "No",
           "Thur",
           "Lunch",
           2
          ],
          [
           28.97,
           3,
           "Male",
           "Yes",
           "Fri",
           "Dinner",
           2
          ],
          [
           22.49,
           3.5,
           "Male",
           "No",
           "Fri",
           "Dinner",
           2
          ],
          [
           40.17,
           4.73,
           "Male",
           "Yes",
           "Fri",
           "Dinner",
           4
          ],
          [
           27.28,
           4,
           "Male",
           "Yes",
           "Fri",
           "Dinner",
           2
          ],
          [
           12.03,
           1.5,
           "Male",
           "Yes",
           "Fri",
           "Dinner",
           2
          ],
          [
           21.01,
           3,
           "Male",
           "Yes",
           "Fri",
           "Dinner",
           2
          ],
          [
           12.46,
           1.5,
           "Male",
           "No",
           "Fri",
           "Dinner",
           2
          ],
          [
           15.36,
           1.64,
           "Male",
           "Yes",
           "Sat",
           "Dinner",
           2
          ],
          [
           20.49,
           4.06,
           "Male",
           "Yes",
           "Sat",
           "Dinner",
           2
          ],
          [
           25.21,
           4.29,
           "Male",
           "Yes",
           "Sat",
           "Dinner",
           2
          ],
          [
           18.24,
           3.76,
           "Male",
           "No",
           "Sat",
           "Dinner",
           2
          ],
          [
           14,
           3,
           "Male",
           "No",
           "Sat",
           "Dinner",
           2
          ],
          [
           38.07,
           4,
           "Male",
           "No",
           "Sun",
           "Dinner",
           3
          ],
          [
           23.95,
           2.55,
           "Male",
           "No",
           "Sun",
           "Dinner",
           2
          ],
          [
           29.93,
           5.07,
           "Male",
           "No",
           "Sun",
           "Dinner",
           4
          ],
          [
           11.69,
           2.31,
           "Male",
           "No",
           "Thur",
           "Lunch",
           2
          ],
          [
           14.26,
           2.5,
           "Male",
           "No",
           "Thur",
           "Lunch",
           2
          ],
          [
           15.95,
           2,
           "Male",
           "No",
           "Thur",
           "Lunch",
           2
          ],
          [
           8.52,
           1.48,
           "Male",
           "No",
           "Thur",
           "Lunch",
           2
          ],
          [
           22.82,
           2.18,
           "Male",
           "No",
           "Thur",
           "Lunch",
           3
          ],
          [
           19.08,
           1.5,
           "Male",
           "No",
           "Thur",
           "Lunch",
           2
          ],
          [
           16,
           2,
           "Male",
           "Yes",
           "Thur",
           "Lunch",
           2
          ],
          [
           34.3,
           6.7,
           "Male",
           "No",
           "Thur",
           "Lunch",
           6
          ],
          [
           41.19,
           5,
           "Male",
           "No",
           "Thur",
           "Lunch",
           5
          ],
          [
           9.78,
           1.73,
           "Male",
           "No",
           "Thur",
           "Lunch",
           2
          ],
          [
           7.51,
           2,
           "Male",
           "No",
           "Thur",
           "Lunch",
           2
          ],
          [
           14.07,
           2.5,
           "Male",
           "No",
           "Sun",
           "Dinner",
           2
          ],
          [
           13.13,
           2,
           "Male",
           "No",
           "Sun",
           "Dinner",
           2
          ],
          [
           17.26,
           2.74,
           "Male",
           "No",
           "Sun",
           "Dinner",
           3
          ],
          [
           24.55,
           2,
           "Male",
           "No",
           "Sun",
           "Dinner",
           4
          ],
          [
           19.77,
           2,
           "Male",
           "No",
           "Sun",
           "Dinner",
           4
          ],
          [
           48.17,
           5,
           "Male",
           "No",
           "Sun",
           "Dinner",
           6
          ],
          [
           16.49,
           2,
           "Male",
           "No",
           "Sun",
           "Dinner",
           4
          ],
          [
           21.5,
           3.5,
           "Male",
           "No",
           "Sun",
           "Dinner",
           4
          ],
          [
           12.66,
           2.5,
           "Male",
           "No",
           "Sun",
           "Dinner",
           2
          ],
          [
           13.81,
           2,
           "Male",
           "No",
           "Sun",
           "Dinner",
           2
          ],
          [
           24.52,
           3.48,
           "Male",
           "No",
           "Sun",
           "Dinner",
           3
          ],
          [
           20.76,
           2.24,
           "Male",
           "No",
           "Sun",
           "Dinner",
           2
          ],
          [
           31.71,
           4.5,
           "Male",
           "No",
           "Sun",
           "Dinner",
           4
          ],
          [
           50.81,
           10,
           "Male",
           "Yes",
           "Sat",
           "Dinner",
           3
          ],
          [
           15.81,
           3.16,
           "Male",
           "Yes",
           "Sat",
           "Dinner",
           2
          ],
          [
           7.25,
           5.15,
           "Male",
           "Yes",
           "Sun",
           "Dinner",
           2
          ],
          [
           31.85,
           3.18,
           "Male",
           "Yes",
           "Sun",
           "Dinner",
           2
          ],
          [
           16.82,
           4,
           "Male",
           "Yes",
           "Sun",
           "Dinner",
           2
          ],
          [
           32.9,
           3.11,
           "Male",
           "Yes",
           "Sun",
           "Dinner",
           2
          ],
          [
           17.89,
           2,
           "Male",
           "Yes",
           "Sun",
           "Dinner",
           2
          ],
          [
           14.48,
           2,
           "Male",
           "Yes",
           "Sun",
           "Dinner",
           2
          ],
          [
           34.63,
           3.55,
           "Male",
           "Yes",
           "Sun",
           "Dinner",
           2
          ],
          [
           34.65,
           3.68,
           "Male",
           "Yes",
           "Sun",
           "Dinner",
           4
          ],
          [
           23.33,
           5.65,
           "Male",
           "Yes",
           "Sun",
           "Dinner",
           2
          ],
          [
           45.35,
           3.5,
           "Male",
           "Yes",
           "Sun",
           "Dinner",
           3
          ],
          [
           23.17,
           6.5,
           "Male",
           "Yes",
           "Sun",
           "Dinner",
           4
          ],
          [
           40.55,
           3,
           "Male",
           "Yes",
           "Sun",
           "Dinner",
           2
          ],
          [
           20.69,
           5,
           "Male",
           "No",
           "Sun",
           "Dinner",
           5
          ],
          [
           30.46,
           2,
           "Male",
           "Yes",
           "Sun",
           "Dinner",
           5
          ],
          [
           23.1,
           4,
           "Male",
           "Yes",
           "Sun",
           "Dinner",
           3
          ],
          [
           15.69,
           1.5,
           "Male",
           "Yes",
           "Sun",
           "Dinner",
           2
          ],
          [
           28.44,
           2.56,
           "Male",
           "Yes",
           "Thur",
           "Lunch",
           2
          ],
          [
           15.48,
           2.02,
           "Male",
           "Yes",
           "Thur",
           "Lunch",
           2
          ],
          [
           16.58,
           4,
           "Male",
           "Yes",
           "Thur",
           "Lunch",
           2
          ],
          [
           7.56,
           1.44,
           "Male",
           "No",
           "Thur",
           "Lunch",
           2
          ],
          [
           10.34,
           2,
           "Male",
           "Yes",
           "Thur",
           "Lunch",
           2
          ],
          [
           13.51,
           2,
           "Male",
           "Yes",
           "Thur",
           "Lunch",
           2
          ],
          [
           18.71,
           4,
           "Male",
           "Yes",
           "Thur",
           "Lunch",
           3
          ],
          [
           20.53,
           4,
           "Male",
           "Yes",
           "Thur",
           "Lunch",
           4
          ],
          [
           26.59,
           3.41,
           "Male",
           "Yes",
           "Sat",
           "Dinner",
           3
          ],
          [
           38.73,
           3,
           "Male",
           "Yes",
           "Sat",
           "Dinner",
           4
          ],
          [
           24.27,
           2.03,
           "Male",
           "Yes",
           "Sat",
           "Dinner",
           2
          ],
          [
           30.06,
           2,
           "Male",
           "Yes",
           "Sat",
           "Dinner",
           3
          ],
          [
           25.89,
           5.16,
           "Male",
           "Yes",
           "Sat",
           "Dinner",
           4
          ],
          [
           48.33,
           9,
           "Male",
           "No",
           "Sat",
           "Dinner",
           4
          ],
          [
           28.15,
           3,
           "Male",
           "Yes",
           "Sat",
           "Dinner",
           5
          ],
          [
           11.59,
           1.5,
           "Male",
           "Yes",
           "Sat",
           "Dinner",
           2
          ],
          [
           7.74,
           1.44,
           "Male",
           "Yes",
           "Sat",
           "Dinner",
           2
          ],
          [
           12.16,
           2.2,
           "Male",
           "Yes",
           "Fri",
           "Lunch",
           2
          ],
          [
           8.58,
           1.92,
           "Male",
           "Yes",
           "Fri",
           "Lunch",
           1
          ],
          [
           13.42,
           1.58,
           "Male",
           "Yes",
           "Fri",
           "Lunch",
           2
          ],
          [
           20.45,
           3,
           "Male",
           "No",
           "Sat",
           "Dinner",
           4
          ],
          [
           13.28,
           2.72,
           "Male",
           "No",
           "Sat",
           "Dinner",
           2
          ],
          [
           24.01,
           2,
           "Male",
           "Yes",
           "Sat",
           "Dinner",
           4
          ],
          [
           15.69,
           3,
           "Male",
           "Yes",
           "Sat",
           "Dinner",
           3
          ],
          [
           11.61,
           3.39,
           "Male",
           "No",
           "Sat",
           "Dinner",
           2
          ],
          [
           10.77,
           1.47,
           "Male",
           "No",
           "Sat",
           "Dinner",
           2
          ],
          [
           15.53,
           3,
           "Male",
           "Yes",
           "Sat",
           "Dinner",
           2
          ],
          [
           10.07,
           1.25,
           "Male",
           "No",
           "Sat",
           "Dinner",
           2
          ],
          [
           12.6,
           1,
           "Male",
           "Yes",
           "Sat",
           "Dinner",
           2
          ],
          [
           32.83,
           1.17,
           "Male",
           "Yes",
           "Sat",
           "Dinner",
           2
          ],
          [
           29.03,
           5.92,
           "Male",
           "No",
           "Sat",
           "Dinner",
           3
          ],
          [
           22.67,
           2,
           "Male",
           "Yes",
           "Sat",
           "Dinner",
           2
          ],
          [
           17.82,
           1.75,
           "Male",
           "No",
           "Sat",
           "Dinner",
           2
          ]
         ],
         "hovertemplate": "sex=%{customdata[2]}<br>total_bill=%{customdata[0]}<br>tip=%{customdata[1]}<br>smoker=%{customdata[3]}<br>day=%{customdata[4]}<br>time=%{customdata[5]}<br>size=%{customdata[6]}<extra></extra>",
         "legendgroup": "Male",
         "marker": {
          "color": "#EF553B"
         },
         "name": "Male",
         "notched": true,
         "offsetgroup": "Male",
         "showlegend": false,
         "type": "box",
         "x": [
          10.34,
          21.01,
          23.68,
          25.29,
          8.77,
          26.88,
          15.04,
          14.78,
          10.27,
          15.42,
          18.43,
          21.58,
          16.29,
          20.65,
          17.92,
          39.42,
          19.82,
          17.81,
          13.37,
          12.69,
          21.7,
          9.55,
          18.35,
          17.78,
          24.06,
          16.31,
          18.69,
          31.27,
          16.04,
          17.46,
          13.94,
          9.68,
          30.4,
          18.29,
          22.23,
          32.4,
          28.55,
          18.04,
          12.54,
          9.94,
          25.56,
          19.49,
          38.01,
          11.24,
          48.27,
          20.29,
          13.81,
          11.02,
          18.29,
          17.59,
          20.08,
          20.23,
          15.01,
          12.02,
          10.51,
          17.92,
          27.2,
          22.76,
          17.29,
          19.44,
          16.66,
          32.68,
          15.98,
          13.03,
          18.28,
          24.71,
          21.16,
          28.97,
          22.49,
          40.17,
          27.28,
          12.03,
          21.01,
          12.46,
          15.36,
          20.49,
          25.21,
          18.24,
          14,
          38.07,
          23.95,
          29.93,
          11.69,
          14.26,
          15.95,
          8.52,
          22.82,
          19.08,
          16,
          34.3,
          41.19,
          9.78,
          7.51,
          14.07,
          13.13,
          17.26,
          24.55,
          19.77,
          48.17,
          16.49,
          21.5,
          12.66,
          13.81,
          24.52,
          20.76,
          31.71,
          50.81,
          15.81,
          7.25,
          31.85,
          16.82,
          32.9,
          17.89,
          14.48,
          34.63,
          34.65,
          23.33,
          45.35,
          23.17,
          40.55,
          20.69,
          30.46,
          23.1,
          15.69,
          28.44,
          15.48,
          16.58,
          7.56,
          10.34,
          13.51,
          18.71,
          20.53,
          26.59,
          38.73,
          24.27,
          30.06,
          25.89,
          48.33,
          28.15,
          11.59,
          7.74,
          12.16,
          8.58,
          13.42,
          20.45,
          13.28,
          24.01,
          15.69,
          11.61,
          10.77,
          15.53,
          10.07,
          12.6,
          32.83,
          29.03,
          22.67,
          17.82
         ],
         "xaxis": "x2",
         "yaxis": "y2"
        }
       ],
       "layout": {
        "barmode": "relative",
        "legend": {
         "title": {
          "text": "sex"
         },
         "tracegroupgap": 0
        },
        "margin": {
         "t": 60
        },
        "template": {
         "data": {
          "bar": [
           {
            "error_x": {
             "color": "#2a3f5f"
            },
            "error_y": {
             "color": "#2a3f5f"
            },
            "marker": {
             "line": {
              "color": "#E5ECF6",
              "width": 0.5
             }
            },
            "type": "bar"
           }
          ],
          "barpolar": [
           {
            "marker": {
             "line": {
              "color": "#E5ECF6",
              "width": 0.5
             }
            },
            "type": "barpolar"
           }
          ],
          "carpet": [
           {
            "aaxis": {
             "endlinecolor": "#2a3f5f",
             "gridcolor": "white",
             "linecolor": "white",
             "minorgridcolor": "white",
             "startlinecolor": "#2a3f5f"
            },
            "baxis": {
             "endlinecolor": "#2a3f5f",
             "gridcolor": "white",
             "linecolor": "white",
             "minorgridcolor": "white",
             "startlinecolor": "#2a3f5f"
            },
            "type": "carpet"
           }
          ],
          "choropleth": [
           {
            "colorbar": {
             "outlinewidth": 0,
             "ticks": ""
            },
            "type": "choropleth"
           }
          ],
          "contour": [
           {
            "colorbar": {
             "outlinewidth": 0,
             "ticks": ""
            },
            "colorscale": [
             [
              0,
              "#0d0887"
             ],
             [
              0.1111111111111111,
              "#46039f"
             ],
             [
              0.2222222222222222,
              "#7201a8"
             ],
             [
              0.3333333333333333,
              "#9c179e"
             ],
             [
              0.4444444444444444,
              "#bd3786"
             ],
             [
              0.5555555555555556,
              "#d8576b"
             ],
             [
              0.6666666666666666,
              "#ed7953"
             ],
             [
              0.7777777777777778,
              "#fb9f3a"
             ],
             [
              0.8888888888888888,
              "#fdca26"
             ],
             [
              1,
              "#f0f921"
             ]
            ],
            "type": "contour"
           }
          ],
          "contourcarpet": [
           {
            "colorbar": {
             "outlinewidth": 0,
             "ticks": ""
            },
            "type": "contourcarpet"
           }
          ],
          "heatmap": [
           {
            "colorbar": {
             "outlinewidth": 0,
             "ticks": ""
            },
            "colorscale": [
             [
              0,
              "#0d0887"
             ],
             [
              0.1111111111111111,
              "#46039f"
             ],
             [
              0.2222222222222222,
              "#7201a8"
             ],
             [
              0.3333333333333333,
              "#9c179e"
             ],
             [
              0.4444444444444444,
              "#bd3786"
             ],
             [
              0.5555555555555556,
              "#d8576b"
             ],
             [
              0.6666666666666666,
              "#ed7953"
             ],
             [
              0.7777777777777778,
              "#fb9f3a"
             ],
             [
              0.8888888888888888,
              "#fdca26"
             ],
             [
              1,
              "#f0f921"
             ]
            ],
            "type": "heatmap"
           }
          ],
          "heatmapgl": [
           {
            "colorbar": {
             "outlinewidth": 0,
             "ticks": ""
            },
            "colorscale": [
             [
              0,
              "#0d0887"
             ],
             [
              0.1111111111111111,
              "#46039f"
             ],
             [
              0.2222222222222222,
              "#7201a8"
             ],
             [
              0.3333333333333333,
              "#9c179e"
             ],
             [
              0.4444444444444444,
              "#bd3786"
             ],
             [
              0.5555555555555556,
              "#d8576b"
             ],
             [
              0.6666666666666666,
              "#ed7953"
             ],
             [
              0.7777777777777778,
              "#fb9f3a"
             ],
             [
              0.8888888888888888,
              "#fdca26"
             ],
             [
              1,
              "#f0f921"
             ]
            ],
            "type": "heatmapgl"
           }
          ],
          "histogram": [
           {
            "marker": {
             "colorbar": {
              "outlinewidth": 0,
              "ticks": ""
             }
            },
            "type": "histogram"
           }
          ],
          "histogram2d": [
           {
            "colorbar": {
             "outlinewidth": 0,
             "ticks": ""
            },
            "colorscale": [
             [
              0,
              "#0d0887"
             ],
             [
              0.1111111111111111,
              "#46039f"
             ],
             [
              0.2222222222222222,
              "#7201a8"
             ],
             [
              0.3333333333333333,
              "#9c179e"
             ],
             [
              0.4444444444444444,
              "#bd3786"
             ],
             [
              0.5555555555555556,
              "#d8576b"
             ],
             [
              0.6666666666666666,
              "#ed7953"
             ],
             [
              0.7777777777777778,
              "#fb9f3a"
             ],
             [
              0.8888888888888888,
              "#fdca26"
             ],
             [
              1,
              "#f0f921"
             ]
            ],
            "type": "histogram2d"
           }
          ],
          "histogram2dcontour": [
           {
            "colorbar": {
             "outlinewidth": 0,
             "ticks": ""
            },
            "colorscale": [
             [
              0,
              "#0d0887"
             ],
             [
              0.1111111111111111,
              "#46039f"
             ],
             [
              0.2222222222222222,
              "#7201a8"
             ],
             [
              0.3333333333333333,
              "#9c179e"
             ],
             [
              0.4444444444444444,
              "#bd3786"
             ],
             [
              0.5555555555555556,
              "#d8576b"
             ],
             [
              0.6666666666666666,
              "#ed7953"
             ],
             [
              0.7777777777777778,
              "#fb9f3a"
             ],
             [
              0.8888888888888888,
              "#fdca26"
             ],
             [
              1,
              "#f0f921"
             ]
            ],
            "type": "histogram2dcontour"
           }
          ],
          "mesh3d": [
           {
            "colorbar": {
             "outlinewidth": 0,
             "ticks": ""
            },
            "type": "mesh3d"
           }
          ],
          "parcoords": [
           {
            "line": {
             "colorbar": {
              "outlinewidth": 0,
              "ticks": ""
             }
            },
            "type": "parcoords"
           }
          ],
          "pie": [
           {
            "automargin": true,
            "type": "pie"
           }
          ],
          "scatter": [
           {
            "marker": {
             "colorbar": {
              "outlinewidth": 0,
              "ticks": ""
             }
            },
            "type": "scatter"
           }
          ],
          "scatter3d": [
           {
            "line": {
             "colorbar": {
              "outlinewidth": 0,
              "ticks": ""
             }
            },
            "marker": {
             "colorbar": {
              "outlinewidth": 0,
              "ticks": ""
             }
            },
            "type": "scatter3d"
           }
          ],
          "scattercarpet": [
           {
            "marker": {
             "colorbar": {
              "outlinewidth": 0,
              "ticks": ""
             }
            },
            "type": "scattercarpet"
           }
          ],
          "scattergeo": [
           {
            "marker": {
             "colorbar": {
              "outlinewidth": 0,
              "ticks": ""
             }
            },
            "type": "scattergeo"
           }
          ],
          "scattergl": [
           {
            "marker": {
             "colorbar": {
              "outlinewidth": 0,
              "ticks": ""
             }
            },
            "type": "scattergl"
           }
          ],
          "scattermapbox": [
           {
            "marker": {
             "colorbar": {
              "outlinewidth": 0,
              "ticks": ""
             }
            },
            "type": "scattermapbox"
           }
          ],
          "scatterpolar": [
           {
            "marker": {
             "colorbar": {
              "outlinewidth": 0,
              "ticks": ""
             }
            },
            "type": "scatterpolar"
           }
          ],
          "scatterpolargl": [
           {
            "marker": {
             "colorbar": {
              "outlinewidth": 0,
              "ticks": ""
             }
            },
            "type": "scatterpolargl"
           }
          ],
          "scatterternary": [
           {
            "marker": {
             "colorbar": {
              "outlinewidth": 0,
              "ticks": ""
             }
            },
            "type": "scatterternary"
           }
          ],
          "surface": [
           {
            "colorbar": {
             "outlinewidth": 0,
             "ticks": ""
            },
            "colorscale": [
             [
              0,
              "#0d0887"
             ],
             [
              0.1111111111111111,
              "#46039f"
             ],
             [
              0.2222222222222222,
              "#7201a8"
             ],
             [
              0.3333333333333333,
              "#9c179e"
             ],
             [
              0.4444444444444444,
              "#bd3786"
             ],
             [
              0.5555555555555556,
              "#d8576b"
             ],
             [
              0.6666666666666666,
              "#ed7953"
             ],
             [
              0.7777777777777778,
              "#fb9f3a"
             ],
             [
              0.8888888888888888,
              "#fdca26"
             ],
             [
              1,
              "#f0f921"
             ]
            ],
            "type": "surface"
           }
          ],
          "table": [
           {
            "cells": {
             "fill": {
              "color": "#EBF0F8"
             },
             "line": {
              "color": "white"
             }
            },
            "header": {
             "fill": {
              "color": "#C8D4E3"
             },
             "line": {
              "color": "white"
             }
            },
            "type": "table"
           }
          ]
         },
         "layout": {
          "annotationdefaults": {
           "arrowcolor": "#2a3f5f",
           "arrowhead": 0,
           "arrowwidth": 1
          },
          "autotypenumbers": "strict",
          "coloraxis": {
           "colorbar": {
            "outlinewidth": 0,
            "ticks": ""
           }
          },
          "colorscale": {
           "diverging": [
            [
             0,
             "#8e0152"
            ],
            [
             0.1,
             "#c51b7d"
            ],
            [
             0.2,
             "#de77ae"
            ],
            [
             0.3,
             "#f1b6da"
            ],
            [
             0.4,
             "#fde0ef"
            ],
            [
             0.5,
             "#f7f7f7"
            ],
            [
             0.6,
             "#e6f5d0"
            ],
            [
             0.7,
             "#b8e186"
            ],
            [
             0.8,
             "#7fbc41"
            ],
            [
             0.9,
             "#4d9221"
            ],
            [
             1,
             "#276419"
            ]
           ],
           "sequential": [
            [
             0,
             "#0d0887"
            ],
            [
             0.1111111111111111,
             "#46039f"
            ],
            [
             0.2222222222222222,
             "#7201a8"
            ],
            [
             0.3333333333333333,
             "#9c179e"
            ],
            [
             0.4444444444444444,
             "#bd3786"
            ],
            [
             0.5555555555555556,
             "#d8576b"
            ],
            [
             0.6666666666666666,
             "#ed7953"
            ],
            [
             0.7777777777777778,
             "#fb9f3a"
            ],
            [
             0.8888888888888888,
             "#fdca26"
            ],
            [
             1,
             "#f0f921"
            ]
           ],
           "sequentialminus": [
            [
             0,
             "#0d0887"
            ],
            [
             0.1111111111111111,
             "#46039f"
            ],
            [
             0.2222222222222222,
             "#7201a8"
            ],
            [
             0.3333333333333333,
             "#9c179e"
            ],
            [
             0.4444444444444444,
             "#bd3786"
            ],
            [
             0.5555555555555556,
             "#d8576b"
            ],
            [
             0.6666666666666666,
             "#ed7953"
            ],
            [
             0.7777777777777778,
             "#fb9f3a"
            ],
            [
             0.8888888888888888,
             "#fdca26"
            ],
            [
             1,
             "#f0f921"
            ]
           ]
          },
          "colorway": [
           "#636efa",
           "#EF553B",
           "#00cc96",
           "#ab63fa",
           "#FFA15A",
           "#19d3f3",
           "#FF6692",
           "#B6E880",
           "#FF97FF",
           "#FECB52"
          ],
          "font": {
           "color": "#2a3f5f"
          },
          "geo": {
           "bgcolor": "white",
           "lakecolor": "white",
           "landcolor": "#E5ECF6",
           "showlakes": true,
           "showland": true,
           "subunitcolor": "white"
          },
          "hoverlabel": {
           "align": "left"
          },
          "hovermode": "closest",
          "mapbox": {
           "style": "light"
          },
          "paper_bgcolor": "white",
          "plot_bgcolor": "#E5ECF6",
          "polar": {
           "angularaxis": {
            "gridcolor": "white",
            "linecolor": "white",
            "ticks": ""
           },
           "bgcolor": "#E5ECF6",
           "radialaxis": {
            "gridcolor": "white",
            "linecolor": "white",
            "ticks": ""
           }
          },
          "scene": {
           "xaxis": {
            "backgroundcolor": "#E5ECF6",
            "gridcolor": "white",
            "gridwidth": 2,
            "linecolor": "white",
            "showbackground": true,
            "ticks": "",
            "zerolinecolor": "white"
           },
           "yaxis": {
            "backgroundcolor": "#E5ECF6",
            "gridcolor": "white",
            "gridwidth": 2,
            "linecolor": "white",
            "showbackground": true,
            "ticks": "",
            "zerolinecolor": "white"
           },
           "zaxis": {
            "backgroundcolor": "#E5ECF6",
            "gridcolor": "white",
            "gridwidth": 2,
            "linecolor": "white",
            "showbackground": true,
            "ticks": "",
            "zerolinecolor": "white"
           }
          },
          "shapedefaults": {
           "line": {
            "color": "#2a3f5f"
           }
          },
          "ternary": {
           "aaxis": {
            "gridcolor": "white",
            "linecolor": "white",
            "ticks": ""
           },
           "baxis": {
            "gridcolor": "white",
            "linecolor": "white",
            "ticks": ""
           },
           "bgcolor": "#E5ECF6",
           "caxis": {
            "gridcolor": "white",
            "linecolor": "white",
            "ticks": ""
           }
          },
          "title": {
           "x": 0.05
          },
          "xaxis": {
           "automargin": true,
           "gridcolor": "white",
           "linecolor": "white",
           "ticks": "",
           "title": {
            "standoff": 15
           },
           "zerolinecolor": "white",
           "zerolinewidth": 2
          },
          "yaxis": {
           "automargin": true,
           "gridcolor": "white",
           "linecolor": "white",
           "ticks": "",
           "title": {
            "standoff": 15
           },
           "zerolinecolor": "white",
           "zerolinewidth": 2
          }
         }
        },
        "xaxis": {
         "anchor": "y",
         "domain": [
          0,
          1
         ],
         "title": {
          "text": "total_bill"
         }
        },
        "xaxis2": {
         "anchor": "y2",
         "domain": [
          0,
          1
         ],
         "matches": "x",
         "showgrid": true,
         "showticklabels": false
        },
        "yaxis": {
         "anchor": "x",
         "domain": [
          0,
          0.7326
         ],
         "title": {
          "text": "count"
         }
        },
        "yaxis2": {
         "anchor": "x2",
         "domain": [
          0.7426,
          1
         ],
         "matches": "y2",
         "showgrid": false,
         "showline": false,
         "showticklabels": false,
         "ticks": ""
        }
       }
      },
      "text/html": [
       "<div>                            <div id=\"4c572a62-d091-4f6c-8326-77700f817a4c\" class=\"plotly-graph-div\" style=\"height:525px; width:100%;\"></div>            <script type=\"text/javascript\">                require([\"plotly\"], function(Plotly) {                    window.PLOTLYENV=window.PLOTLYENV || {};                                    if (document.getElementById(\"4c572a62-d091-4f6c-8326-77700f817a4c\")) {                    Plotly.newPlot(                        \"4c572a62-d091-4f6c-8326-77700f817a4c\",                        [{\"alignmentgroup\": \"True\", \"bingroup\": \"x\", \"hovertemplate\": \"sex=Female<br>total_bill=%{x}<br>count=%{y}<extra></extra>\", \"legendgroup\": \"Female\", \"marker\": {\"color\": \"#636efa\"}, \"name\": \"Female\", \"offsetgroup\": \"Female\", \"orientation\": \"v\", \"showlegend\": true, \"type\": \"histogram\", \"x\": [16.99, 24.59, 35.26, 14.83, 10.33, 16.97, 20.29, 15.77, 19.65, 15.06, 20.69, 16.93, 10.29, 34.81, 26.41, 16.45, 3.07, 17.07, 26.86, 25.28, 14.73, 10.07, 34.83, 5.75, 16.32, 22.75, 11.35, 15.38, 44.3, 22.42, 20.92, 14.31, 7.25, 25.71, 17.31, 10.65, 12.43, 24.08, 13.42, 12.48, 29.8, 14.52, 11.38, 20.27, 11.17, 12.26, 18.26, 8.51, 10.33, 14.15, 13.16, 17.47, 27.05, 16.43, 8.35, 18.64, 11.87, 29.85, 25.0, 13.39, 16.21, 17.51, 10.59, 10.63, 9.6, 20.9, 18.15, 19.81, 43.11, 13.0, 12.74, 13.0, 16.4, 16.47, 12.76, 13.27, 28.17, 12.9, 30.14, 13.42, 15.98, 16.27, 10.09, 22.12, 35.83, 27.18, 18.78], \"xaxis\": \"x\", \"yaxis\": \"y\"}, {\"alignmentgroup\": \"True\", \"customdata\": [[16.99, 1.01, \"Female\", \"No\", \"Sun\", \"Dinner\", 2], [24.59, 3.61, \"Female\", \"No\", \"Sun\", \"Dinner\", 4], [35.26, 5.0, \"Female\", \"No\", \"Sun\", \"Dinner\", 4], [14.83, 3.02, \"Female\", \"No\", \"Sun\", \"Dinner\", 2], [10.33, 1.67, \"Female\", \"No\", \"Sun\", \"Dinner\", 3], [16.97, 3.5, \"Female\", \"No\", \"Sun\", \"Dinner\", 3], [20.29, 2.75, \"Female\", \"No\", \"Sat\", \"Dinner\", 2], [15.77, 2.23, \"Female\", \"No\", \"Sat\", \"Dinner\", 2], [19.65, 3.0, \"Female\", \"No\", \"Sat\", \"Dinner\", 2], [15.06, 3.0, \"Female\", \"No\", \"Sat\", \"Dinner\", 2], [20.69, 2.45, \"Female\", \"No\", \"Sat\", \"Dinner\", 4], [16.93, 3.07, \"Female\", \"No\", \"Sat\", \"Dinner\", 3], [10.29, 2.6, \"Female\", \"No\", \"Sun\", \"Dinner\", 2], [34.81, 5.2, \"Female\", \"No\", \"Sun\", \"Dinner\", 4], [26.41, 1.5, \"Female\", \"No\", \"Sat\", \"Dinner\", 2], [16.45, 2.47, \"Female\", \"No\", \"Sat\", \"Dinner\", 2], [3.07, 1.0, \"Female\", \"Yes\", \"Sat\", \"Dinner\", 1], [17.07, 3.0, \"Female\", \"No\", \"Sat\", \"Dinner\", 3], [26.86, 3.14, \"Female\", \"Yes\", \"Sat\", \"Dinner\", 2], [25.28, 5.0, \"Female\", \"Yes\", \"Sat\", \"Dinner\", 2], [14.73, 2.2, \"Female\", \"No\", \"Sat\", \"Dinner\", 2], [10.07, 1.83, \"Female\", \"No\", \"Thur\", \"Lunch\", 1], [34.83, 5.17, \"Female\", \"No\", \"Thur\", \"Lunch\", 4], [5.75, 1.0, \"Female\", \"Yes\", \"Fri\", \"Dinner\", 2], [16.32, 4.3, \"Female\", \"Yes\", \"Fri\", \"Dinner\", 2], [22.75, 3.25, \"Female\", \"No\", \"Fri\", \"Dinner\", 2], [11.35, 2.5, \"Female\", \"Yes\", \"Fri\", \"Dinner\", 2], [15.38, 3.0, \"Female\", \"Yes\", \"Fri\", \"Dinner\", 2], [44.3, 2.5, \"Female\", \"Yes\", \"Sat\", \"Dinner\", 3], [22.42, 3.48, \"Female\", \"Yes\", \"Sat\", \"Dinner\", 2], [20.92, 4.08, \"Female\", \"No\", \"Sat\", \"Dinner\", 2], [14.31, 4.0, \"Female\", \"Yes\", \"Sat\", \"Dinner\", 2], [7.25, 1.0, \"Female\", \"No\", \"Sat\", \"Dinner\", 1], [25.71, 4.0, \"Female\", \"No\", \"Sun\", \"Dinner\", 3], [17.31, 3.5, \"Female\", \"No\", \"Sun\", \"Dinner\", 2], [10.65, 1.5, \"Female\", \"No\", \"Thur\", \"Lunch\", 2], [12.43, 1.8, \"Female\", \"No\", \"Thur\", \"Lunch\", 2], [24.08, 2.92, \"Female\", \"No\", \"Thur\", \"Lunch\", 4], [13.42, 1.68, \"Female\", \"No\", \"Thur\", \"Lunch\", 2], [12.48, 2.52, \"Female\", \"No\", \"Thur\", \"Lunch\", 2], [29.8, 4.2, \"Female\", \"No\", \"Thur\", \"Lunch\", 6], [14.52, 2.0, \"Female\", \"No\", \"Thur\", \"Lunch\", 2], [11.38, 2.0, \"Female\", \"No\", \"Thur\", \"Lunch\", 2], [20.27, 2.83, \"Female\", \"No\", \"Thur\", \"Lunch\", 2], [11.17, 1.5, \"Female\", \"No\", \"Thur\", \"Lunch\", 2], [12.26, 2.0, \"Female\", \"No\", \"Thur\", \"Lunch\", 2], [18.26, 3.25, \"Female\", \"No\", \"Thur\", \"Lunch\", 2], [8.51, 1.25, \"Female\", \"No\", \"Thur\", \"Lunch\", 2], [10.33, 2.0, \"Female\", \"No\", \"Thur\", \"Lunch\", 2], [14.15, 2.0, \"Female\", \"No\", \"Thur\", \"Lunch\", 2], [13.16, 2.75, \"Female\", \"No\", \"Thur\", \"Lunch\", 2], [17.47, 3.5, \"Female\", \"No\", \"Thur\", \"Lunch\", 2], [27.05, 5.0, \"Female\", \"No\", \"Thur\", \"Lunch\", 6], [16.43, 2.3, \"Female\", \"No\", \"Thur\", \"Lunch\", 2], [8.35, 1.5, \"Female\", \"No\", \"Thur\", \"Lunch\", 2], [18.64, 1.36, \"Female\", \"No\", \"Thur\", \"Lunch\", 3], [11.87, 1.63, \"Female\", \"No\", \"Thur\", \"Lunch\", 2], [29.85, 5.14, \"Female\", \"No\", \"Sun\", \"Dinner\", 5], [25.0, 3.75, \"Female\", \"No\", \"Sun\", \"Dinner\", 4], [13.39, 2.61, \"Female\", \"No\", \"Sun\", \"Dinner\", 2], [16.21, 2.0, \"Female\", \"No\", \"Sun\", \"Dinner\", 3], [17.51, 3.0, \"Female\", \"Yes\", \"Sun\", \"Dinner\", 2], [10.59, 1.61, \"Female\", \"Yes\", \"Sat\", \"Dinner\", 2], [10.63, 2.0, \"Female\", \"Yes\", \"Sat\", \"Dinner\", 2], [9.6, 4.0, \"Female\", \"Yes\", \"Sun\", \"Dinner\", 2], [20.9, 3.5, \"Female\", \"Yes\", \"Sun\", \"Dinner\", 3], [18.15, 3.5, \"Female\", \"Yes\", \"Sun\", \"Dinner\", 3], [19.81, 4.19, \"Female\", \"Yes\", \"Thur\", \"Lunch\", 2], [43.11, 5.0, \"Female\", \"Yes\", \"Thur\", \"Lunch\", 4], [13.0, 2.0, \"Female\", \"Yes\", \"Thur\", \"Lunch\", 2], [12.74, 2.01, \"Female\", \"Yes\", \"Thur\", \"Lunch\", 2], [13.0, 2.0, \"Female\", \"Yes\", \"Thur\", \"Lunch\", 2], [16.4, 2.5, \"Female\", \"Yes\", \"Thur\", \"Lunch\", 2], [16.47, 3.23, \"Female\", \"Yes\", \"Thur\", \"Lunch\", 3], [12.76, 2.23, \"Female\", \"Yes\", \"Sat\", \"Dinner\", 2], [13.27, 2.5, \"Female\", \"Yes\", \"Sat\", \"Dinner\", 2], [28.17, 6.5, \"Female\", \"Yes\", \"Sat\", \"Dinner\", 3], [12.9, 1.1, \"Female\", \"Yes\", \"Sat\", \"Dinner\", 2], [30.14, 3.09, \"Female\", \"Yes\", \"Sat\", \"Dinner\", 4], [13.42, 3.48, \"Female\", \"Yes\", \"Fri\", \"Lunch\", 2], [15.98, 3.0, \"Female\", \"No\", \"Fri\", \"Lunch\", 3], [16.27, 2.5, \"Female\", \"Yes\", \"Fri\", \"Lunch\", 2], [10.09, 2.0, \"Female\", \"Yes\", \"Fri\", \"Lunch\", 2], [22.12, 2.88, \"Female\", \"Yes\", \"Sat\", \"Dinner\", 2], [35.83, 4.67, \"Female\", \"No\", \"Sat\", \"Dinner\", 3], [27.18, 2.0, \"Female\", \"Yes\", \"Sat\", \"Dinner\", 2], [18.78, 3.0, \"Female\", \"No\", \"Thur\", \"Dinner\", 2]], \"hovertemplate\": \"sex=%{customdata[2]}<br>total_bill=%{customdata[0]}<br>tip=%{customdata[1]}<br>smoker=%{customdata[3]}<br>day=%{customdata[4]}<br>time=%{customdata[5]}<br>size=%{customdata[6]}<extra></extra>\", \"legendgroup\": \"Female\", \"marker\": {\"color\": \"#636efa\"}, \"name\": \"Female\", \"notched\": true, \"offsetgroup\": \"Female\", \"showlegend\": false, \"type\": \"box\", \"x\": [16.99, 24.59, 35.26, 14.83, 10.33, 16.97, 20.29, 15.77, 19.65, 15.06, 20.69, 16.93, 10.29, 34.81, 26.41, 16.45, 3.07, 17.07, 26.86, 25.28, 14.73, 10.07, 34.83, 5.75, 16.32, 22.75, 11.35, 15.38, 44.3, 22.42, 20.92, 14.31, 7.25, 25.71, 17.31, 10.65, 12.43, 24.08, 13.42, 12.48, 29.8, 14.52, 11.38, 20.27, 11.17, 12.26, 18.26, 8.51, 10.33, 14.15, 13.16, 17.47, 27.05, 16.43, 8.35, 18.64, 11.87, 29.85, 25.0, 13.39, 16.21, 17.51, 10.59, 10.63, 9.6, 20.9, 18.15, 19.81, 43.11, 13.0, 12.74, 13.0, 16.4, 16.47, 12.76, 13.27, 28.17, 12.9, 30.14, 13.42, 15.98, 16.27, 10.09, 22.12, 35.83, 27.18, 18.78], \"xaxis\": \"x2\", \"yaxis\": \"y2\"}, {\"alignmentgroup\": \"True\", \"bingroup\": \"x\", \"hovertemplate\": \"sex=Male<br>total_bill=%{x}<br>count=%{y}<extra></extra>\", \"legendgroup\": \"Male\", \"marker\": {\"color\": \"#EF553B\"}, \"name\": \"Male\", \"offsetgroup\": \"Male\", \"orientation\": \"v\", \"showlegend\": true, \"type\": \"histogram\", \"x\": [10.34, 21.01, 23.68, 25.29, 8.77, 26.88, 15.04, 14.78, 10.27, 15.42, 18.43, 21.58, 16.29, 20.65, 17.92, 39.42, 19.82, 17.81, 13.37, 12.69, 21.7, 9.55, 18.35, 17.78, 24.06, 16.31, 18.69, 31.27, 16.04, 17.46, 13.94, 9.68, 30.4, 18.29, 22.23, 32.4, 28.55, 18.04, 12.54, 9.94, 25.56, 19.49, 38.01, 11.24, 48.27, 20.29, 13.81, 11.02, 18.29, 17.59, 20.08, 20.23, 15.01, 12.02, 10.51, 17.92, 27.2, 22.76, 17.29, 19.44, 16.66, 32.68, 15.98, 13.03, 18.28, 24.71, 21.16, 28.97, 22.49, 40.17, 27.28, 12.03, 21.01, 12.46, 15.36, 20.49, 25.21, 18.24, 14.0, 38.07, 23.95, 29.93, 11.69, 14.26, 15.95, 8.52, 22.82, 19.08, 16.0, 34.3, 41.19, 9.78, 7.51, 14.07, 13.13, 17.26, 24.55, 19.77, 48.17, 16.49, 21.5, 12.66, 13.81, 24.52, 20.76, 31.71, 50.81, 15.81, 7.25, 31.85, 16.82, 32.9, 17.89, 14.48, 34.63, 34.65, 23.33, 45.35, 23.17, 40.55, 20.69, 30.46, 23.1, 15.69, 28.44, 15.48, 16.58, 7.56, 10.34, 13.51, 18.71, 20.53, 26.59, 38.73, 24.27, 30.06, 25.89, 48.33, 28.15, 11.59, 7.74, 12.16, 8.58, 13.42, 20.45, 13.28, 24.01, 15.69, 11.61, 10.77, 15.53, 10.07, 12.6, 32.83, 29.03, 22.67, 17.82], \"xaxis\": \"x\", \"yaxis\": \"y\"}, {\"alignmentgroup\": \"True\", \"customdata\": [[10.34, 1.66, \"Male\", \"No\", \"Sun\", \"Dinner\", 3], [21.01, 3.5, \"Male\", \"No\", \"Sun\", \"Dinner\", 3], [23.68, 3.31, \"Male\", \"No\", \"Sun\", \"Dinner\", 2], [25.29, 4.71, \"Male\", \"No\", \"Sun\", \"Dinner\", 4], [8.77, 2.0, \"Male\", \"No\", \"Sun\", \"Dinner\", 2], [26.88, 3.12, \"Male\", \"No\", \"Sun\", \"Dinner\", 4], [15.04, 1.96, \"Male\", \"No\", \"Sun\", \"Dinner\", 2], [14.78, 3.23, \"Male\", \"No\", \"Sun\", \"Dinner\", 2], [10.27, 1.71, \"Male\", \"No\", \"Sun\", \"Dinner\", 2], [15.42, 1.57, \"Male\", \"No\", \"Sun\", \"Dinner\", 2], [18.43, 3.0, \"Male\", \"No\", \"Sun\", \"Dinner\", 4], [21.58, 3.92, \"Male\", \"No\", \"Sun\", \"Dinner\", 2], [16.29, 3.71, \"Male\", \"No\", \"Sun\", \"Dinner\", 3], [20.65, 3.35, \"Male\", \"No\", \"Sat\", \"Dinner\", 3], [17.92, 4.08, \"Male\", \"No\", \"Sat\", \"Dinner\", 2], [39.42, 7.58, \"Male\", \"No\", \"Sat\", \"Dinner\", 4], [19.82, 3.18, \"Male\", \"No\", \"Sat\", \"Dinner\", 2], [17.81, 2.34, \"Male\", \"No\", \"Sat\", \"Dinner\", 4], [13.37, 2.0, \"Male\", \"No\", \"Sat\", \"Dinner\", 2], [12.69, 2.0, \"Male\", \"No\", \"Sat\", \"Dinner\", 2], [21.7, 4.3, \"Male\", \"No\", \"Sat\", \"Dinner\", 2], [9.55, 1.45, \"Male\", \"No\", \"Sat\", \"Dinner\", 2], [18.35, 2.5, \"Male\", \"No\", \"Sat\", \"Dinner\", 4], [17.78, 3.27, \"Male\", \"No\", \"Sat\", \"Dinner\", 2], [24.06, 3.6, \"Male\", \"No\", \"Sat\", \"Dinner\", 3], [16.31, 2.0, \"Male\", \"No\", \"Sat\", \"Dinner\", 3], [18.69, 2.31, \"Male\", \"No\", \"Sat\", \"Dinner\", 3], [31.27, 5.0, \"Male\", \"No\", \"Sat\", \"Dinner\", 3], [16.04, 2.24, \"Male\", \"No\", \"Sat\", \"Dinner\", 3], [17.46, 2.54, \"Male\", \"No\", \"Sun\", \"Dinner\", 2], [13.94, 3.06, \"Male\", \"No\", \"Sun\", \"Dinner\", 2], [9.68, 1.32, \"Male\", \"No\", \"Sun\", \"Dinner\", 2], [30.4, 5.6, \"Male\", \"No\", \"Sun\", \"Dinner\", 4], [18.29, 3.0, \"Male\", \"No\", \"Sun\", \"Dinner\", 2], [22.23, 5.0, \"Male\", \"No\", \"Sun\", \"Dinner\", 2], [32.4, 6.0, \"Male\", \"No\", \"Sun\", \"Dinner\", 4], [28.55, 2.05, \"Male\", \"No\", \"Sun\", \"Dinner\", 3], [18.04, 3.0, \"Male\", \"No\", \"Sun\", \"Dinner\", 2], [12.54, 2.5, \"Male\", \"No\", \"Sun\", \"Dinner\", 2], [9.94, 1.56, \"Male\", \"No\", \"Sun\", \"Dinner\", 2], [25.56, 4.34, \"Male\", \"No\", \"Sun\", \"Dinner\", 4], [19.49, 3.51, \"Male\", \"No\", \"Sun\", \"Dinner\", 2], [38.01, 3.0, \"Male\", \"Yes\", \"Sat\", \"Dinner\", 4], [11.24, 1.76, \"Male\", \"Yes\", \"Sat\", \"Dinner\", 2], [48.27, 6.73, \"Male\", \"No\", \"Sat\", \"Dinner\", 4], [20.29, 3.21, \"Male\", \"Yes\", \"Sat\", \"Dinner\", 2], [13.81, 2.0, \"Male\", \"Yes\", \"Sat\", \"Dinner\", 2], [11.02, 1.98, \"Male\", \"Yes\", \"Sat\", \"Dinner\", 2], [18.29, 3.76, \"Male\", \"Yes\", \"Sat\", \"Dinner\", 4], [17.59, 2.64, \"Male\", \"No\", \"Sat\", \"Dinner\", 3], [20.08, 3.15, \"Male\", \"No\", \"Sat\", \"Dinner\", 3], [20.23, 2.01, \"Male\", \"No\", \"Sat\", \"Dinner\", 2], [15.01, 2.09, \"Male\", \"Yes\", \"Sat\", \"Dinner\", 2], [12.02, 1.97, \"Male\", \"No\", \"Sat\", \"Dinner\", 2], [10.51, 1.25, \"Male\", \"No\", \"Sat\", \"Dinner\", 2], [17.92, 3.08, \"Male\", \"Yes\", \"Sat\", \"Dinner\", 2], [27.2, 4.0, \"Male\", \"No\", \"Thur\", \"Lunch\", 4], [22.76, 3.0, \"Male\", \"No\", \"Thur\", \"Lunch\", 2], [17.29, 2.71, \"Male\", \"No\", \"Thur\", \"Lunch\", 2], [19.44, 3.0, \"Male\", \"Yes\", \"Thur\", \"Lunch\", 2], [16.66, 3.4, \"Male\", \"No\", \"Thur\", \"Lunch\", 2], [32.68, 5.0, \"Male\", \"Yes\", \"Thur\", \"Lunch\", 2], [15.98, 2.03, \"Male\", \"No\", \"Thur\", \"Lunch\", 2], [13.03, 2.0, \"Male\", \"No\", \"Thur\", \"Lunch\", 2], [18.28, 4.0, \"Male\", \"No\", \"Thur\", \"Lunch\", 2], [24.71, 5.85, \"Male\", \"No\", \"Thur\", \"Lunch\", 2], [21.16, 3.0, \"Male\", \"No\", \"Thur\", \"Lunch\", 2], [28.97, 3.0, \"Male\", \"Yes\", \"Fri\", \"Dinner\", 2], [22.49, 3.5, \"Male\", \"No\", \"Fri\", \"Dinner\", 2], [40.17, 4.73, \"Male\", \"Yes\", \"Fri\", \"Dinner\", 4], [27.28, 4.0, \"Male\", \"Yes\", \"Fri\", \"Dinner\", 2], [12.03, 1.5, \"Male\", \"Yes\", \"Fri\", \"Dinner\", 2], [21.01, 3.0, \"Male\", \"Yes\", \"Fri\", \"Dinner\", 2], [12.46, 1.5, \"Male\", \"No\", \"Fri\", \"Dinner\", 2], [15.36, 1.64, \"Male\", \"Yes\", \"Sat\", \"Dinner\", 2], [20.49, 4.06, \"Male\", \"Yes\", \"Sat\", \"Dinner\", 2], [25.21, 4.29, \"Male\", \"Yes\", \"Sat\", \"Dinner\", 2], [18.24, 3.76, \"Male\", \"No\", \"Sat\", \"Dinner\", 2], [14.0, 3.0, \"Male\", \"No\", \"Sat\", \"Dinner\", 2], [38.07, 4.0, \"Male\", \"No\", \"Sun\", \"Dinner\", 3], [23.95, 2.55, \"Male\", \"No\", \"Sun\", \"Dinner\", 2], [29.93, 5.07, \"Male\", \"No\", \"Sun\", \"Dinner\", 4], [11.69, 2.31, \"Male\", \"No\", \"Thur\", \"Lunch\", 2], [14.26, 2.5, \"Male\", \"No\", \"Thur\", \"Lunch\", 2], [15.95, 2.0, \"Male\", \"No\", \"Thur\", \"Lunch\", 2], [8.52, 1.48, \"Male\", \"No\", \"Thur\", \"Lunch\", 2], [22.82, 2.18, \"Male\", \"No\", \"Thur\", \"Lunch\", 3], [19.08, 1.5, \"Male\", \"No\", \"Thur\", \"Lunch\", 2], [16.0, 2.0, \"Male\", \"Yes\", \"Thur\", \"Lunch\", 2], [34.3, 6.7, \"Male\", \"No\", \"Thur\", \"Lunch\", 6], [41.19, 5.0, \"Male\", \"No\", \"Thur\", \"Lunch\", 5], [9.78, 1.73, \"Male\", \"No\", \"Thur\", \"Lunch\", 2], [7.51, 2.0, \"Male\", \"No\", \"Thur\", \"Lunch\", 2], [14.07, 2.5, \"Male\", \"No\", \"Sun\", \"Dinner\", 2], [13.13, 2.0, \"Male\", \"No\", \"Sun\", \"Dinner\", 2], [17.26, 2.74, \"Male\", \"No\", \"Sun\", \"Dinner\", 3], [24.55, 2.0, \"Male\", \"No\", \"Sun\", \"Dinner\", 4], [19.77, 2.0, \"Male\", \"No\", \"Sun\", \"Dinner\", 4], [48.17, 5.0, \"Male\", \"No\", \"Sun\", \"Dinner\", 6], [16.49, 2.0, \"Male\", \"No\", \"Sun\", \"Dinner\", 4], [21.5, 3.5, \"Male\", \"No\", \"Sun\", \"Dinner\", 4], [12.66, 2.5, \"Male\", \"No\", \"Sun\", \"Dinner\", 2], [13.81, 2.0, \"Male\", \"No\", \"Sun\", \"Dinner\", 2], [24.52, 3.48, \"Male\", \"No\", \"Sun\", \"Dinner\", 3], [20.76, 2.24, \"Male\", \"No\", \"Sun\", \"Dinner\", 2], [31.71, 4.5, \"Male\", \"No\", \"Sun\", \"Dinner\", 4], [50.81, 10.0, \"Male\", \"Yes\", \"Sat\", \"Dinner\", 3], [15.81, 3.16, \"Male\", \"Yes\", \"Sat\", \"Dinner\", 2], [7.25, 5.15, \"Male\", \"Yes\", \"Sun\", \"Dinner\", 2], [31.85, 3.18, \"Male\", \"Yes\", \"Sun\", \"Dinner\", 2], [16.82, 4.0, \"Male\", \"Yes\", \"Sun\", \"Dinner\", 2], [32.9, 3.11, \"Male\", \"Yes\", \"Sun\", \"Dinner\", 2], [17.89, 2.0, \"Male\", \"Yes\", \"Sun\", \"Dinner\", 2], [14.48, 2.0, \"Male\", \"Yes\", \"Sun\", \"Dinner\", 2], [34.63, 3.55, \"Male\", \"Yes\", \"Sun\", \"Dinner\", 2], [34.65, 3.68, \"Male\", \"Yes\", \"Sun\", \"Dinner\", 4], [23.33, 5.65, \"Male\", \"Yes\", \"Sun\", \"Dinner\", 2], [45.35, 3.5, \"Male\", \"Yes\", \"Sun\", \"Dinner\", 3], [23.17, 6.5, \"Male\", \"Yes\", \"Sun\", \"Dinner\", 4], [40.55, 3.0, \"Male\", \"Yes\", \"Sun\", \"Dinner\", 2], [20.69, 5.0, \"Male\", \"No\", \"Sun\", \"Dinner\", 5], [30.46, 2.0, \"Male\", \"Yes\", \"Sun\", \"Dinner\", 5], [23.1, 4.0, \"Male\", \"Yes\", \"Sun\", \"Dinner\", 3], [15.69, 1.5, \"Male\", \"Yes\", \"Sun\", \"Dinner\", 2], [28.44, 2.56, \"Male\", \"Yes\", \"Thur\", \"Lunch\", 2], [15.48, 2.02, \"Male\", \"Yes\", \"Thur\", \"Lunch\", 2], [16.58, 4.0, \"Male\", \"Yes\", \"Thur\", \"Lunch\", 2], [7.56, 1.44, \"Male\", \"No\", \"Thur\", \"Lunch\", 2], [10.34, 2.0, \"Male\", \"Yes\", \"Thur\", \"Lunch\", 2], [13.51, 2.0, \"Male\", \"Yes\", \"Thur\", \"Lunch\", 2], [18.71, 4.0, \"Male\", \"Yes\", \"Thur\", \"Lunch\", 3], [20.53, 4.0, \"Male\", \"Yes\", \"Thur\", \"Lunch\", 4], [26.59, 3.41, \"Male\", \"Yes\", \"Sat\", \"Dinner\", 3], [38.73, 3.0, \"Male\", \"Yes\", \"Sat\", \"Dinner\", 4], [24.27, 2.03, \"Male\", \"Yes\", \"Sat\", \"Dinner\", 2], [30.06, 2.0, \"Male\", \"Yes\", \"Sat\", \"Dinner\", 3], [25.89, 5.16, \"Male\", \"Yes\", \"Sat\", \"Dinner\", 4], [48.33, 9.0, \"Male\", \"No\", \"Sat\", \"Dinner\", 4], [28.15, 3.0, \"Male\", \"Yes\", \"Sat\", \"Dinner\", 5], [11.59, 1.5, \"Male\", \"Yes\", \"Sat\", \"Dinner\", 2], [7.74, 1.44, \"Male\", \"Yes\", \"Sat\", \"Dinner\", 2], [12.16, 2.2, \"Male\", \"Yes\", \"Fri\", \"Lunch\", 2], [8.58, 1.92, \"Male\", \"Yes\", \"Fri\", \"Lunch\", 1], [13.42, 1.58, \"Male\", \"Yes\", \"Fri\", \"Lunch\", 2], [20.45, 3.0, \"Male\", \"No\", \"Sat\", \"Dinner\", 4], [13.28, 2.72, \"Male\", \"No\", \"Sat\", \"Dinner\", 2], [24.01, 2.0, \"Male\", \"Yes\", \"Sat\", \"Dinner\", 4], [15.69, 3.0, \"Male\", \"Yes\", \"Sat\", \"Dinner\", 3], [11.61, 3.39, \"Male\", \"No\", \"Sat\", \"Dinner\", 2], [10.77, 1.47, \"Male\", \"No\", \"Sat\", \"Dinner\", 2], [15.53, 3.0, \"Male\", \"Yes\", \"Sat\", \"Dinner\", 2], [10.07, 1.25, \"Male\", \"No\", \"Sat\", \"Dinner\", 2], [12.6, 1.0, \"Male\", \"Yes\", \"Sat\", \"Dinner\", 2], [32.83, 1.17, \"Male\", \"Yes\", \"Sat\", \"Dinner\", 2], [29.03, 5.92, \"Male\", \"No\", \"Sat\", \"Dinner\", 3], [22.67, 2.0, \"Male\", \"Yes\", \"Sat\", \"Dinner\", 2], [17.82, 1.75, \"Male\", \"No\", \"Sat\", \"Dinner\", 2]], \"hovertemplate\": \"sex=%{customdata[2]}<br>total_bill=%{customdata[0]}<br>tip=%{customdata[1]}<br>smoker=%{customdata[3]}<br>day=%{customdata[4]}<br>time=%{customdata[5]}<br>size=%{customdata[6]}<extra></extra>\", \"legendgroup\": \"Male\", \"marker\": {\"color\": \"#EF553B\"}, \"name\": \"Male\", \"notched\": true, \"offsetgroup\": \"Male\", \"showlegend\": false, \"type\": \"box\", \"x\": [10.34, 21.01, 23.68, 25.29, 8.77, 26.88, 15.04, 14.78, 10.27, 15.42, 18.43, 21.58, 16.29, 20.65, 17.92, 39.42, 19.82, 17.81, 13.37, 12.69, 21.7, 9.55, 18.35, 17.78, 24.06, 16.31, 18.69, 31.27, 16.04, 17.46, 13.94, 9.68, 30.4, 18.29, 22.23, 32.4, 28.55, 18.04, 12.54, 9.94, 25.56, 19.49, 38.01, 11.24, 48.27, 20.29, 13.81, 11.02, 18.29, 17.59, 20.08, 20.23, 15.01, 12.02, 10.51, 17.92, 27.2, 22.76, 17.29, 19.44, 16.66, 32.68, 15.98, 13.03, 18.28, 24.71, 21.16, 28.97, 22.49, 40.17, 27.28, 12.03, 21.01, 12.46, 15.36, 20.49, 25.21, 18.24, 14.0, 38.07, 23.95, 29.93, 11.69, 14.26, 15.95, 8.52, 22.82, 19.08, 16.0, 34.3, 41.19, 9.78, 7.51, 14.07, 13.13, 17.26, 24.55, 19.77, 48.17, 16.49, 21.5, 12.66, 13.81, 24.52, 20.76, 31.71, 50.81, 15.81, 7.25, 31.85, 16.82, 32.9, 17.89, 14.48, 34.63, 34.65, 23.33, 45.35, 23.17, 40.55, 20.69, 30.46, 23.1, 15.69, 28.44, 15.48, 16.58, 7.56, 10.34, 13.51, 18.71, 20.53, 26.59, 38.73, 24.27, 30.06, 25.89, 48.33, 28.15, 11.59, 7.74, 12.16, 8.58, 13.42, 20.45, 13.28, 24.01, 15.69, 11.61, 10.77, 15.53, 10.07, 12.6, 32.83, 29.03, 22.67, 17.82], \"xaxis\": \"x2\", \"yaxis\": \"y2\"}],                        {\"barmode\": \"relative\", \"legend\": {\"title\": {\"text\": \"sex\"}, \"tracegroupgap\": 0}, \"margin\": {\"t\": 60}, \"template\": {\"data\": {\"bar\": [{\"error_x\": {\"color\": \"#2a3f5f\"}, \"error_y\": {\"color\": \"#2a3f5f\"}, \"marker\": {\"line\": {\"color\": \"#E5ECF6\", \"width\": 0.5}}, \"type\": \"bar\"}], \"barpolar\": [{\"marker\": {\"line\": {\"color\": \"#E5ECF6\", \"width\": 0.5}}, \"type\": \"barpolar\"}], \"carpet\": [{\"aaxis\": {\"endlinecolor\": \"#2a3f5f\", \"gridcolor\": \"white\", \"linecolor\": \"white\", \"minorgridcolor\": \"white\", \"startlinecolor\": \"#2a3f5f\"}, \"baxis\": {\"endlinecolor\": \"#2a3f5f\", \"gridcolor\": \"white\", \"linecolor\": \"white\", \"minorgridcolor\": \"white\", \"startlinecolor\": \"#2a3f5f\"}, \"type\": \"carpet\"}], \"choropleth\": [{\"colorbar\": {\"outlinewidth\": 0, \"ticks\": \"\"}, \"type\": \"choropleth\"}], \"contour\": [{\"colorbar\": {\"outlinewidth\": 0, \"ticks\": \"\"}, \"colorscale\": [[0.0, \"#0d0887\"], [0.1111111111111111, \"#46039f\"], [0.2222222222222222, \"#7201a8\"], [0.3333333333333333, \"#9c179e\"], [0.4444444444444444, \"#bd3786\"], [0.5555555555555556, \"#d8576b\"], [0.6666666666666666, \"#ed7953\"], [0.7777777777777778, \"#fb9f3a\"], [0.8888888888888888, \"#fdca26\"], [1.0, \"#f0f921\"]], \"type\": \"contour\"}], \"contourcarpet\": [{\"colorbar\": {\"outlinewidth\": 0, \"ticks\": \"\"}, \"type\": \"contourcarpet\"}], \"heatmap\": [{\"colorbar\": {\"outlinewidth\": 0, \"ticks\": \"\"}, \"colorscale\": [[0.0, \"#0d0887\"], [0.1111111111111111, \"#46039f\"], [0.2222222222222222, \"#7201a8\"], [0.3333333333333333, \"#9c179e\"], [0.4444444444444444, \"#bd3786\"], [0.5555555555555556, \"#d8576b\"], [0.6666666666666666, \"#ed7953\"], [0.7777777777777778, \"#fb9f3a\"], [0.8888888888888888, \"#fdca26\"], [1.0, \"#f0f921\"]], \"type\": \"heatmap\"}], \"heatmapgl\": [{\"colorbar\": {\"outlinewidth\": 0, \"ticks\": \"\"}, \"colorscale\": [[0.0, \"#0d0887\"], [0.1111111111111111, \"#46039f\"], [0.2222222222222222, \"#7201a8\"], [0.3333333333333333, \"#9c179e\"], [0.4444444444444444, \"#bd3786\"], [0.5555555555555556, \"#d8576b\"], [0.6666666666666666, \"#ed7953\"], [0.7777777777777778, \"#fb9f3a\"], [0.8888888888888888, \"#fdca26\"], [1.0, \"#f0f921\"]], \"type\": \"heatmapgl\"}], \"histogram\": [{\"marker\": {\"colorbar\": {\"outlinewidth\": 0, \"ticks\": \"\"}}, \"type\": \"histogram\"}], \"histogram2d\": [{\"colorbar\": {\"outlinewidth\": 0, \"ticks\": \"\"}, \"colorscale\": [[0.0, \"#0d0887\"], [0.1111111111111111, \"#46039f\"], [0.2222222222222222, \"#7201a8\"], [0.3333333333333333, \"#9c179e\"], [0.4444444444444444, \"#bd3786\"], [0.5555555555555556, \"#d8576b\"], [0.6666666666666666, \"#ed7953\"], [0.7777777777777778, \"#fb9f3a\"], [0.8888888888888888, \"#fdca26\"], [1.0, \"#f0f921\"]], \"type\": \"histogram2d\"}], \"histogram2dcontour\": [{\"colorbar\": {\"outlinewidth\": 0, \"ticks\": \"\"}, \"colorscale\": [[0.0, \"#0d0887\"], [0.1111111111111111, \"#46039f\"], [0.2222222222222222, \"#7201a8\"], [0.3333333333333333, \"#9c179e\"], [0.4444444444444444, \"#bd3786\"], [0.5555555555555556, \"#d8576b\"], [0.6666666666666666, \"#ed7953\"], [0.7777777777777778, \"#fb9f3a\"], [0.8888888888888888, \"#fdca26\"], [1.0, \"#f0f921\"]], \"type\": \"histogram2dcontour\"}], \"mesh3d\": [{\"colorbar\": {\"outlinewidth\": 0, \"ticks\": \"\"}, \"type\": \"mesh3d\"}], \"parcoords\": [{\"line\": {\"colorbar\": {\"outlinewidth\": 0, \"ticks\": \"\"}}, \"type\": \"parcoords\"}], \"pie\": [{\"automargin\": true, \"type\": \"pie\"}], \"scatter\": [{\"marker\": {\"colorbar\": {\"outlinewidth\": 0, \"ticks\": \"\"}}, \"type\": \"scatter\"}], \"scatter3d\": [{\"line\": {\"colorbar\": {\"outlinewidth\": 0, \"ticks\": \"\"}}, \"marker\": {\"colorbar\": {\"outlinewidth\": 0, \"ticks\": \"\"}}, \"type\": \"scatter3d\"}], \"scattercarpet\": [{\"marker\": {\"colorbar\": {\"outlinewidth\": 0, \"ticks\": \"\"}}, \"type\": \"scattercarpet\"}], \"scattergeo\": [{\"marker\": {\"colorbar\": {\"outlinewidth\": 0, \"ticks\": \"\"}}, \"type\": \"scattergeo\"}], \"scattergl\": [{\"marker\": {\"colorbar\": {\"outlinewidth\": 0, \"ticks\": \"\"}}, \"type\": \"scattergl\"}], \"scattermapbox\": [{\"marker\": {\"colorbar\": {\"outlinewidth\": 0, \"ticks\": \"\"}}, \"type\": \"scattermapbox\"}], \"scatterpolar\": [{\"marker\": {\"colorbar\": {\"outlinewidth\": 0, \"ticks\": \"\"}}, \"type\": \"scatterpolar\"}], \"scatterpolargl\": [{\"marker\": {\"colorbar\": {\"outlinewidth\": 0, \"ticks\": \"\"}}, \"type\": \"scatterpolargl\"}], \"scatterternary\": [{\"marker\": {\"colorbar\": {\"outlinewidth\": 0, \"ticks\": \"\"}}, \"type\": \"scatterternary\"}], \"surface\": [{\"colorbar\": {\"outlinewidth\": 0, \"ticks\": \"\"}, \"colorscale\": [[0.0, \"#0d0887\"], [0.1111111111111111, \"#46039f\"], [0.2222222222222222, \"#7201a8\"], [0.3333333333333333, \"#9c179e\"], [0.4444444444444444, \"#bd3786\"], [0.5555555555555556, \"#d8576b\"], [0.6666666666666666, \"#ed7953\"], [0.7777777777777778, \"#fb9f3a\"], [0.8888888888888888, \"#fdca26\"], [1.0, \"#f0f921\"]], \"type\": \"surface\"}], \"table\": [{\"cells\": {\"fill\": {\"color\": \"#EBF0F8\"}, \"line\": {\"color\": \"white\"}}, \"header\": {\"fill\": {\"color\": \"#C8D4E3\"}, \"line\": {\"color\": \"white\"}}, \"type\": \"table\"}]}, \"layout\": {\"annotationdefaults\": {\"arrowcolor\": \"#2a3f5f\", \"arrowhead\": 0, \"arrowwidth\": 1}, \"autotypenumbers\": \"strict\", \"coloraxis\": {\"colorbar\": {\"outlinewidth\": 0, \"ticks\": \"\"}}, \"colorscale\": {\"diverging\": [[0, \"#8e0152\"], [0.1, \"#c51b7d\"], [0.2, \"#de77ae\"], [0.3, \"#f1b6da\"], [0.4, \"#fde0ef\"], [0.5, \"#f7f7f7\"], [0.6, \"#e6f5d0\"], [0.7, \"#b8e186\"], [0.8, \"#7fbc41\"], [0.9, \"#4d9221\"], [1, \"#276419\"]], \"sequential\": [[0.0, \"#0d0887\"], [0.1111111111111111, \"#46039f\"], [0.2222222222222222, \"#7201a8\"], [0.3333333333333333, \"#9c179e\"], [0.4444444444444444, \"#bd3786\"], [0.5555555555555556, \"#d8576b\"], [0.6666666666666666, \"#ed7953\"], [0.7777777777777778, \"#fb9f3a\"], [0.8888888888888888, \"#fdca26\"], [1.0, \"#f0f921\"]], \"sequentialminus\": [[0.0, \"#0d0887\"], [0.1111111111111111, \"#46039f\"], [0.2222222222222222, \"#7201a8\"], [0.3333333333333333, \"#9c179e\"], [0.4444444444444444, \"#bd3786\"], [0.5555555555555556, \"#d8576b\"], [0.6666666666666666, \"#ed7953\"], [0.7777777777777778, \"#fb9f3a\"], [0.8888888888888888, \"#fdca26\"], [1.0, \"#f0f921\"]]}, \"colorway\": [\"#636efa\", \"#EF553B\", \"#00cc96\", \"#ab63fa\", \"#FFA15A\", \"#19d3f3\", \"#FF6692\", \"#B6E880\", \"#FF97FF\", \"#FECB52\"], \"font\": {\"color\": \"#2a3f5f\"}, \"geo\": {\"bgcolor\": \"white\", \"lakecolor\": \"white\", \"landcolor\": \"#E5ECF6\", \"showlakes\": true, \"showland\": true, \"subunitcolor\": \"white\"}, \"hoverlabel\": {\"align\": \"left\"}, \"hovermode\": \"closest\", \"mapbox\": {\"style\": \"light\"}, \"paper_bgcolor\": \"white\", \"plot_bgcolor\": \"#E5ECF6\", \"polar\": {\"angularaxis\": {\"gridcolor\": \"white\", \"linecolor\": \"white\", \"ticks\": \"\"}, \"bgcolor\": \"#E5ECF6\", \"radialaxis\": {\"gridcolor\": \"white\", \"linecolor\": \"white\", \"ticks\": \"\"}}, \"scene\": {\"xaxis\": {\"backgroundcolor\": \"#E5ECF6\", \"gridcolor\": \"white\", \"gridwidth\": 2, \"linecolor\": \"white\", \"showbackground\": true, \"ticks\": \"\", \"zerolinecolor\": \"white\"}, \"yaxis\": {\"backgroundcolor\": \"#E5ECF6\", \"gridcolor\": \"white\", \"gridwidth\": 2, \"linecolor\": \"white\", \"showbackground\": true, \"ticks\": \"\", \"zerolinecolor\": \"white\"}, \"zaxis\": {\"backgroundcolor\": \"#E5ECF6\", \"gridcolor\": \"white\", \"gridwidth\": 2, \"linecolor\": \"white\", \"showbackground\": true, \"ticks\": \"\", \"zerolinecolor\": \"white\"}}, \"shapedefaults\": {\"line\": {\"color\": \"#2a3f5f\"}}, \"ternary\": {\"aaxis\": {\"gridcolor\": \"white\", \"linecolor\": \"white\", \"ticks\": \"\"}, \"baxis\": {\"gridcolor\": \"white\", \"linecolor\": \"white\", \"ticks\": \"\"}, \"bgcolor\": \"#E5ECF6\", \"caxis\": {\"gridcolor\": \"white\", \"linecolor\": \"white\", \"ticks\": \"\"}}, \"title\": {\"x\": 0.05}, \"xaxis\": {\"automargin\": true, \"gridcolor\": \"white\", \"linecolor\": \"white\", \"ticks\": \"\", \"title\": {\"standoff\": 15}, \"zerolinecolor\": \"white\", \"zerolinewidth\": 2}, \"yaxis\": {\"automargin\": true, \"gridcolor\": \"white\", \"linecolor\": \"white\", \"ticks\": \"\", \"title\": {\"standoff\": 15}, \"zerolinecolor\": \"white\", \"zerolinewidth\": 2}}}, \"xaxis\": {\"anchor\": \"y\", \"domain\": [0.0, 1.0], \"title\": {\"text\": \"total_bill\"}}, \"xaxis2\": {\"anchor\": \"y2\", \"domain\": [0.0, 1.0], \"matches\": \"x\", \"showgrid\": true, \"showticklabels\": false}, \"yaxis\": {\"anchor\": \"x\", \"domain\": [0.0, 0.7326], \"title\": {\"text\": \"count\"}}, \"yaxis2\": {\"anchor\": \"x2\", \"domain\": [0.7426, 1.0], \"matches\": \"y2\", \"showgrid\": false, \"showline\": false, \"showticklabels\": false, \"ticks\": \"\"}},                        {\"responsive\": true}                    ).then(function(){\n",
       "                            \n",
       "var gd = document.getElementById('4c572a62-d091-4f6c-8326-77700f817a4c');\n",
       "var x = new MutationObserver(function (mutations, observer) {{\n",
       "        var display = window.getComputedStyle(gd).display;\n",
       "        if (!display || display === 'none') {{\n",
       "            console.log([gd, 'removed!']);\n",
       "            Plotly.purge(gd);\n",
       "            observer.disconnect();\n",
       "        }}\n",
       "}});\n",
       "\n",
       "// Listen for the removal of the full notebook cells\n",
       "var notebookContainer = gd.closest('#notebook-container');\n",
       "if (notebookContainer) {{\n",
       "    x.observe(notebookContainer, {childList: true});\n",
       "}}\n",
       "\n",
       "// Listen for the clearing of the current output cell\n",
       "var outputEl = gd.closest('.output');\n",
       "if (outputEl) {{\n",
       "    x.observe(outputEl, {childList: true});\n",
       "}}\n",
       "\n",
       "                        })                };                });            </script>        </div>"
      ]
     },
     "metadata": {},
     "output_type": "display_data"
    }
   ],
   "source": [
    "fig = px.histogram(tips, x='total_bill',\n",
    "                  color='sex',\n",
    "#                   marginal='rug',\n",
    "                  marginal='box',\n",
    "#                   marginal='violin',\n",
    "                  hover_data=tips.columns)\n",
    "fig.show()"
   ]
  },
  {
   "cell_type": "code",
   "execution_count": 25,
   "metadata": {},
   "outputs": [
    {
     "data": {
      "text/html": [
       "<div>\n",
       "<style scoped>\n",
       "    .dataframe tbody tr th:only-of-type {\n",
       "        vertical-align: middle;\n",
       "    }\n",
       "\n",
       "    .dataframe tbody tr th {\n",
       "        vertical-align: top;\n",
       "    }\n",
       "\n",
       "    .dataframe thead th {\n",
       "        text-align: right;\n",
       "    }\n",
       "</style>\n",
       "<table border=\"1\" class=\"dataframe\">\n",
       "  <thead>\n",
       "    <tr style=\"text-align: right;\">\n",
       "      <th></th>\n",
       "      <th>country</th>\n",
       "      <th>continent</th>\n",
       "      <th>year</th>\n",
       "      <th>lifeExp</th>\n",
       "      <th>pop</th>\n",
       "      <th>gdpPercap</th>\n",
       "      <th>iso_alpha</th>\n",
       "      <th>iso_num</th>\n",
       "    </tr>\n",
       "  </thead>\n",
       "  <tbody>\n",
       "    <tr>\n",
       "      <th>11</th>\n",
       "      <td>Afghanistan</td>\n",
       "      <td>Asia</td>\n",
       "      <td>2007</td>\n",
       "      <td>43.828</td>\n",
       "      <td>31889923</td>\n",
       "      <td>974.580338</td>\n",
       "      <td>AFG</td>\n",
       "      <td>4</td>\n",
       "    </tr>\n",
       "    <tr>\n",
       "      <th>23</th>\n",
       "      <td>Albania</td>\n",
       "      <td>Europe</td>\n",
       "      <td>2007</td>\n",
       "      <td>76.423</td>\n",
       "      <td>3600523</td>\n",
       "      <td>5937.029526</td>\n",
       "      <td>ALB</td>\n",
       "      <td>8</td>\n",
       "    </tr>\n",
       "    <tr>\n",
       "      <th>35</th>\n",
       "      <td>Algeria</td>\n",
       "      <td>Africa</td>\n",
       "      <td>2007</td>\n",
       "      <td>72.301</td>\n",
       "      <td>33333216</td>\n",
       "      <td>6223.367465</td>\n",
       "      <td>DZA</td>\n",
       "      <td>12</td>\n",
       "    </tr>\n",
       "    <tr>\n",
       "      <th>47</th>\n",
       "      <td>Angola</td>\n",
       "      <td>Africa</td>\n",
       "      <td>2007</td>\n",
       "      <td>42.731</td>\n",
       "      <td>12420476</td>\n",
       "      <td>4797.231267</td>\n",
       "      <td>AGO</td>\n",
       "      <td>24</td>\n",
       "    </tr>\n",
       "    <tr>\n",
       "      <th>59</th>\n",
       "      <td>Argentina</td>\n",
       "      <td>Americas</td>\n",
       "      <td>2007</td>\n",
       "      <td>75.320</td>\n",
       "      <td>40301927</td>\n",
       "      <td>12779.379640</td>\n",
       "      <td>ARG</td>\n",
       "      <td>32</td>\n",
       "    </tr>\n",
       "  </tbody>\n",
       "</table>\n",
       "</div>"
      ],
      "text/plain": [
       "        country continent  year  lifeExp       pop     gdpPercap iso_alpha  \\\n",
       "11  Afghanistan      Asia  2007   43.828  31889923    974.580338       AFG   \n",
       "23      Albania    Europe  2007   76.423   3600523   5937.029526       ALB   \n",
       "35      Algeria    Africa  2007   72.301  33333216   6223.367465       DZA   \n",
       "47       Angola    Africa  2007   42.731  12420476   4797.231267       AGO   \n",
       "59    Argentina  Americas  2007   75.320  40301927  12779.379640       ARG   \n",
       "\n",
       "    iso_num  \n",
       "11        4  \n",
       "23        8  \n",
       "35       12  \n",
       "47       24  \n",
       "59       32  "
      ]
     },
     "execution_count": 25,
     "metadata": {},
     "output_type": "execute_result"
    }
   ],
   "source": [
    "gapminder = px.data.gapminder()\n",
    "gapminder_2007 = gapminder.query('year == 2007')\n",
    "gapminder_2007.head()"
   ]
  },
  {
   "cell_type": "code",
   "execution_count": 30,
   "metadata": {},
   "outputs": [
    {
     "data": {
      "application/vnd.plotly.v1+json": {
       "config": {
        "plotlyServerURL": "https://plot.ly"
       },
       "data": [
        {
         "alignmentgroup": "True",
         "bingroup": "x",
         "hovertemplate": "continent=Asia<br>lifeExp=%{x}<br>count=%{y}<extra></extra>",
         "legendgroup": "Asia",
         "marker": {
          "color": "#636efa"
         },
         "name": "Asia",
         "offsetgroup": "Asia",
         "orientation": "v",
         "showlegend": true,
         "type": "histogram",
         "x": [
          43.828,
          75.635,
          64.062,
          59.723,
          72.961,
          82.208,
          64.69800000000001,
          70.65,
          70.964,
          59.545,
          80.745,
          82.603,
          72.535,
          67.297,
          78.623,
          77.58800000000001,
          71.993,
          74.241,
          66.803,
          62.068999999999996,
          63.785,
          75.64,
          65.483,
          71.688,
          72.777,
          79.972,
          72.396,
          74.143,
          78.4,
          70.616,
          74.249,
          73.422,
          62.698
         ],
         "xaxis": "x",
         "yaxis": "y"
        },
        {
         "alignmentgroup": "True",
         "boxpoints": "all",
         "customdata": [
          [
           "Afghanistan",
           974.5803384
          ],
          [
           "Bahrain",
           29796.048339999998
          ],
          [
           "Bangladesh",
           1391.253792
          ],
          [
           "Cambodia",
           1713.7786859999999
          ],
          [
           "China",
           4959.1148539999995
          ],
          [
           "Hong Kong, China",
           39724.97867
          ],
          [
           "India",
           2452.210407
          ],
          [
           "Indonesia",
           3540.6515640000002
          ],
          [
           "Iran",
           11605.71449
          ],
          [
           "Iraq",
           4471.061906
          ],
          [
           "Israel",
           25523.2771
          ],
          [
           "Japan",
           31656.06806
          ],
          [
           "Jordan",
           4519.461171
          ],
          [
           "Korea, Dem. Rep.",
           1593.06548
          ],
          [
           "Korea, Rep.",
           23348.139730000003
          ],
          [
           "Kuwait",
           47306.98978
          ],
          [
           "Lebanon",
           10461.05868
          ],
          [
           "Malaysia",
           12451.6558
          ],
          [
           "Mongolia",
           3095.7722710000003
          ],
          [
           "Myanmar",
           944
          ],
          [
           "Nepal",
           1091.359778
          ],
          [
           "Oman",
           22316.19287
          ],
          [
           "Pakistan",
           2605.94758
          ],
          [
           "Philippines",
           3190.481016
          ],
          [
           "Saudi Arabia",
           21654.83194
          ],
          [
           "Singapore",
           47143.179639999995
          ],
          [
           "Sri Lanka",
           3970.0954070000003
          ],
          [
           "Syria",
           4184.548089
          ],
          [
           "Taiwan",
           28718.27684
          ],
          [
           "Thailand",
           7458.3963269999995
          ],
          [
           "Vietnam",
           2441.576404
          ],
          [
           "West Bank and Gaza",
           3025.349798
          ],
          [
           "Yemen, Rep.",
           2280.769906
          ]
         ],
         "fillcolor": "rgba(255,255,255,0)",
         "hoveron": "points",
         "hovertemplate": "<b>%{hovertext}</b><br><br>continent=Asia<br>lifeExp=%{x}<br>country=%{customdata[0]}<br>gdpPercap=%{customdata[1]}<extra></extra>",
         "hovertext": [
          "Afghanistan",
          "Bahrain",
          "Bangladesh",
          "Cambodia",
          "China",
          "Hong Kong, China",
          "India",
          "Indonesia",
          "Iran",
          "Iraq",
          "Israel",
          "Japan",
          "Jordan",
          "Korea, Dem. Rep.",
          "Korea, Rep.",
          "Kuwait",
          "Lebanon",
          "Malaysia",
          "Mongolia",
          "Myanmar",
          "Nepal",
          "Oman",
          "Pakistan",
          "Philippines",
          "Saudi Arabia",
          "Singapore",
          "Sri Lanka",
          "Syria",
          "Taiwan",
          "Thailand",
          "Vietnam",
          "West Bank and Gaza",
          "Yemen, Rep."
         ],
         "jitter": 0,
         "legendgroup": "Asia",
         "line": {
          "color": "rgba(255,255,255,0)"
         },
         "marker": {
          "color": "#636efa",
          "symbol": "line-ns-open"
         },
         "name": "Asia",
         "offsetgroup": "Asia",
         "showlegend": false,
         "type": "box",
         "x": [
          43.828,
          75.635,
          64.062,
          59.723,
          72.961,
          82.208,
          64.69800000000001,
          70.65,
          70.964,
          59.545,
          80.745,
          82.603,
          72.535,
          67.297,
          78.623,
          77.58800000000001,
          71.993,
          74.241,
          66.803,
          62.068999999999996,
          63.785,
          75.64,
          65.483,
          71.688,
          72.777,
          79.972,
          72.396,
          74.143,
          78.4,
          70.616,
          74.249,
          73.422,
          62.698
         ],
         "xaxis": "x2",
         "yaxis": "y2"
        },
        {
         "alignmentgroup": "True",
         "bingroup": "x",
         "hovertemplate": "continent=Europe<br>lifeExp=%{x}<br>count=%{y}<extra></extra>",
         "legendgroup": "Europe",
         "marker": {
          "color": "#EF553B"
         },
         "name": "Europe",
         "offsetgroup": "Europe",
         "orientation": "v",
         "showlegend": true,
         "type": "histogram",
         "x": [
          76.423,
          79.829,
          79.441,
          74.852,
          73.005,
          75.748,
          76.486,
          78.332,
          79.313,
          80.657,
          79.406,
          79.483,
          73.33800000000001,
          81.757,
          78.885,
          80.546,
          74.543,
          79.762,
          80.196,
          75.563,
          78.098,
          72.476,
          74.002,
          74.663,
          77.926,
          80.941,
          80.884,
          81.70100000000001,
          71.777,
          79.425
         ],
         "xaxis": "x",
         "yaxis": "y"
        },
        {
         "alignmentgroup": "True",
         "boxpoints": "all",
         "customdata": [
          [
           "Albania",
           5937.029525999999
          ],
          [
           "Austria",
           36126.4927
          ],
          [
           "Belgium",
           33692.60508
          ],
          [
           "Bosnia and Herzegovina",
           7446.298803
          ],
          [
           "Bulgaria",
           10680.79282
          ],
          [
           "Croatia",
           14619.222719999998
          ],
          [
           "Czech Republic",
           22833.30851
          ],
          [
           "Denmark",
           35278.41874
          ],
          [
           "Finland",
           33207.0844
          ],
          [
           "France",
           30470.0167
          ],
          [
           "Germany",
           32170.37442
          ],
          [
           "Greece",
           27538.41188
          ],
          [
           "Hungary",
           18008.94444
          ],
          [
           "Iceland",
           36180.789189999996
          ],
          [
           "Ireland",
           40675.99635
          ],
          [
           "Italy",
           28569.7197
          ],
          [
           "Montenegro",
           9253.896111
          ],
          [
           "Netherlands",
           36797.93332
          ],
          [
           "Norway",
           49357.19017
          ],
          [
           "Poland",
           15389.924680000002
          ],
          [
           "Portugal",
           20509.64777
          ],
          [
           "Romania",
           10808.47561
          ],
          [
           "Serbia",
           9786.534714
          ],
          [
           "Slovak Republic",
           18678.31435
          ],
          [
           "Slovenia",
           25768.25759
          ],
          [
           "Spain",
           28821.0637
          ],
          [
           "Sweden",
           33859.74835
          ],
          [
           "Switzerland",
           37506.419069999996
          ],
          [
           "Turkey",
           8458.276384
          ],
          [
           "United Kingdom",
           33203.26128
          ]
         ],
         "fillcolor": "rgba(255,255,255,0)",
         "hoveron": "points",
         "hovertemplate": "<b>%{hovertext}</b><br><br>continent=Europe<br>lifeExp=%{x}<br>country=%{customdata[0]}<br>gdpPercap=%{customdata[1]}<extra></extra>",
         "hovertext": [
          "Albania",
          "Austria",
          "Belgium",
          "Bosnia and Herzegovina",
          "Bulgaria",
          "Croatia",
          "Czech Republic",
          "Denmark",
          "Finland",
          "France",
          "Germany",
          "Greece",
          "Hungary",
          "Iceland",
          "Ireland",
          "Italy",
          "Montenegro",
          "Netherlands",
          "Norway",
          "Poland",
          "Portugal",
          "Romania",
          "Serbia",
          "Slovak Republic",
          "Slovenia",
          "Spain",
          "Sweden",
          "Switzerland",
          "Turkey",
          "United Kingdom"
         ],
         "jitter": 0,
         "legendgroup": "Europe",
         "line": {
          "color": "rgba(255,255,255,0)"
         },
         "marker": {
          "color": "#EF553B",
          "symbol": "line-ns-open"
         },
         "name": "Europe",
         "offsetgroup": "Europe",
         "showlegend": false,
         "type": "box",
         "x": [
          76.423,
          79.829,
          79.441,
          74.852,
          73.005,
          75.748,
          76.486,
          78.332,
          79.313,
          80.657,
          79.406,
          79.483,
          73.33800000000001,
          81.757,
          78.885,
          80.546,
          74.543,
          79.762,
          80.196,
          75.563,
          78.098,
          72.476,
          74.002,
          74.663,
          77.926,
          80.941,
          80.884,
          81.70100000000001,
          71.777,
          79.425
         ],
         "xaxis": "x2",
         "yaxis": "y2"
        },
        {
         "alignmentgroup": "True",
         "bingroup": "x",
         "hovertemplate": "continent=Africa<br>lifeExp=%{x}<br>count=%{y}<extra></extra>",
         "legendgroup": "Africa",
         "marker": {
          "color": "#00cc96"
         },
         "name": "Africa",
         "offsetgroup": "Africa",
         "orientation": "v",
         "showlegend": true,
         "type": "histogram",
         "x": [
          72.301,
          42.731,
          56.728,
          50.728,
          52.295,
          49.58,
          50.43,
          44.74100000000001,
          50.651,
          65.152,
          46.461999999999996,
          55.321999999999996,
          48.328,
          54.791000000000004,
          71.33800000000001,
          51.57899999999999,
          58.04,
          52.946999999999996,
          56.735,
          59.448,
          60.022,
          56.007,
          46.388000000000005,
          54.11,
          42.592,
          45.678000000000004,
          73.952,
          59.443000000000005,
          48.303000000000004,
          54.467,
          64.164,
          72.801,
          71.164,
          42.082,
          52.906000000000006,
          56.867,
          46.858999999999995,
          76.442,
          46.242,
          65.528,
          63.062,
          42.568000000000005,
          48.159,
          49.339,
          58.556000000000004,
          39.613,
          52.516999999999996,
          58.42,
          73.923,
          51.542,
          42.38399999999999,
          43.486999999999995
         ],
         "xaxis": "x",
         "yaxis": "y"
        },
        {
         "alignmentgroup": "True",
         "boxpoints": "all",
         "customdata": [
          [
           "Algeria",
           6223.367465
          ],
          [
           "Angola",
           4797.231267
          ],
          [
           "Benin",
           1441.284873
          ],
          [
           "Botswana",
           12569.851770000001
          ],
          [
           "Burkina Faso",
           1217.032994
          ],
          [
           "Burundi",
           430.07069160000003
          ],
          [
           "Cameroon",
           2042.0952399999999
          ],
          [
           "Central African Republic",
           706.016537
          ],
          [
           "Chad",
           1704.0637239999999
          ],
          [
           "Comoros",
           986.1478792000001
          ],
          [
           "Congo, Dem. Rep.",
           277.55185869999997
          ],
          [
           "Congo, Rep.",
           3632.557798
          ],
          [
           "Cote d'Ivoire",
           1544.750112
          ],
          [
           "Djibouti",
           2082.4815670000003
          ],
          [
           "Egypt",
           5581.180998
          ],
          [
           "Equatorial Guinea",
           12154.08975
          ],
          [
           "Eritrea",
           641.3695236000001
          ],
          [
           "Ethiopia",
           690.8055759
          ],
          [
           "Gabon",
           13206.48452
          ],
          [
           "Gambia",
           752.7497265
          ],
          [
           "Ghana",
           1327.60891
          ],
          [
           "Guinea",
           942.6542111
          ],
          [
           "Guinea-Bissau",
           579.2317429999999
          ],
          [
           "Kenya",
           1463.249282
          ],
          [
           "Lesotho",
           1569.331442
          ],
          [
           "Liberia",
           414.5073415
          ],
          [
           "Libya",
           12057.49928
          ],
          [
           "Madagascar",
           1044.770126
          ],
          [
           "Malawi",
           759.3499101
          ],
          [
           "Mali",
           1042.581557
          ],
          [
           "Mauritania",
           1803.1514960000002
          ],
          [
           "Mauritius",
           10956.99112
          ],
          [
           "Morocco",
           3820.17523
          ],
          [
           "Mozambique",
           823.6856205
          ],
          [
           "Namibia",
           4811.060429
          ],
          [
           "Niger",
           619.6768923999999
          ],
          [
           "Nigeria",
           2013.9773050000001
          ],
          [
           "Reunion",
           7670.122558
          ],
          [
           "Rwanda",
           863.0884639000001
          ],
          [
           "Sao Tome and Principe",
           1598.435089
          ],
          [
           "Senegal",
           1712.4721359999999
          ],
          [
           "Sierra Leone",
           862.5407561000001
          ],
          [
           "Somalia",
           926.1410683
          ],
          [
           "South Africa",
           9269.657808
          ],
          [
           "Sudan",
           2602.394995
          ],
          [
           "Swaziland",
           4513.480643
          ],
          [
           "Tanzania",
           1107.482182
          ],
          [
           "Togo",
           882.9699437999999
          ],
          [
           "Tunisia",
           7092.923025
          ],
          [
           "Uganda",
           1056.3801210000001
          ],
          [
           "Zambia",
           1271.211593
          ],
          [
           "Zimbabwe",
           469.70929810000007
          ]
         ],
         "fillcolor": "rgba(255,255,255,0)",
         "hoveron": "points",
         "hovertemplate": "<b>%{hovertext}</b><br><br>continent=Africa<br>lifeExp=%{x}<br>country=%{customdata[0]}<br>gdpPercap=%{customdata[1]}<extra></extra>",
         "hovertext": [
          "Algeria",
          "Angola",
          "Benin",
          "Botswana",
          "Burkina Faso",
          "Burundi",
          "Cameroon",
          "Central African Republic",
          "Chad",
          "Comoros",
          "Congo, Dem. Rep.",
          "Congo, Rep.",
          "Cote d'Ivoire",
          "Djibouti",
          "Egypt",
          "Equatorial Guinea",
          "Eritrea",
          "Ethiopia",
          "Gabon",
          "Gambia",
          "Ghana",
          "Guinea",
          "Guinea-Bissau",
          "Kenya",
          "Lesotho",
          "Liberia",
          "Libya",
          "Madagascar",
          "Malawi",
          "Mali",
          "Mauritania",
          "Mauritius",
          "Morocco",
          "Mozambique",
          "Namibia",
          "Niger",
          "Nigeria",
          "Reunion",
          "Rwanda",
          "Sao Tome and Principe",
          "Senegal",
          "Sierra Leone",
          "Somalia",
          "South Africa",
          "Sudan",
          "Swaziland",
          "Tanzania",
          "Togo",
          "Tunisia",
          "Uganda",
          "Zambia",
          "Zimbabwe"
         ],
         "jitter": 0,
         "legendgroup": "Africa",
         "line": {
          "color": "rgba(255,255,255,0)"
         },
         "marker": {
          "color": "#00cc96",
          "symbol": "line-ns-open"
         },
         "name": "Africa",
         "offsetgroup": "Africa",
         "showlegend": false,
         "type": "box",
         "x": [
          72.301,
          42.731,
          56.728,
          50.728,
          52.295,
          49.58,
          50.43,
          44.74100000000001,
          50.651,
          65.152,
          46.461999999999996,
          55.321999999999996,
          48.328,
          54.791000000000004,
          71.33800000000001,
          51.57899999999999,
          58.04,
          52.946999999999996,
          56.735,
          59.448,
          60.022,
          56.007,
          46.388000000000005,
          54.11,
          42.592,
          45.678000000000004,
          73.952,
          59.443000000000005,
          48.303000000000004,
          54.467,
          64.164,
          72.801,
          71.164,
          42.082,
          52.906000000000006,
          56.867,
          46.858999999999995,
          76.442,
          46.242,
          65.528,
          63.062,
          42.568000000000005,
          48.159,
          49.339,
          58.556000000000004,
          39.613,
          52.516999999999996,
          58.42,
          73.923,
          51.542,
          42.38399999999999,
          43.486999999999995
         ],
         "xaxis": "x2",
         "yaxis": "y2"
        },
        {
         "alignmentgroup": "True",
         "bingroup": "x",
         "hovertemplate": "continent=Americas<br>lifeExp=%{x}<br>count=%{y}<extra></extra>",
         "legendgroup": "Americas",
         "marker": {
          "color": "#ab63fa"
         },
         "name": "Americas",
         "offsetgroup": "Americas",
         "orientation": "v",
         "showlegend": true,
         "type": "histogram",
         "x": [
          75.32,
          65.554,
          72.39,
          80.653,
          78.553,
          72.889,
          78.782,
          78.273,
          72.235,
          74.994,
          71.878,
          70.259,
          60.916000000000004,
          70.19800000000001,
          72.567,
          76.195,
          72.899,
          75.53699999999999,
          71.752,
          71.421,
          78.74600000000001,
          69.819,
          78.242,
          76.384,
          73.747
         ],
         "xaxis": "x",
         "yaxis": "y"
        },
        {
         "alignmentgroup": "True",
         "boxpoints": "all",
         "customdata": [
          [
           "Argentina",
           12779.379640000001
          ],
          [
           "Bolivia",
           3822.1370840000004
          ],
          [
           "Brazil",
           9065.800825
          ],
          [
           "Canada",
           36319.235010000004
          ],
          [
           "Chile",
           13171.63885
          ],
          [
           "Colombia",
           7006.580419
          ],
          [
           "Costa Rica",
           9645.06142
          ],
          [
           "Cuba",
           8948.102923
          ],
          [
           "Dominican Republic",
           6025.374752000001
          ],
          [
           "Ecuador",
           6873.262326000001
          ],
          [
           "El Salvador",
           5728.353514
          ],
          [
           "Guatemala",
           5186.050003
          ],
          [
           "Haiti",
           1201.637154
          ],
          [
           "Honduras",
           3548.3308460000003
          ],
          [
           "Jamaica",
           7320.880262000001
          ],
          [
           "Mexico",
           11977.57496
          ],
          [
           "Nicaragua",
           2749.320965
          ],
          [
           "Panama",
           9809.185636
          ],
          [
           "Paraguay",
           4172.838464
          ],
          [
           "Peru",
           7408.905561
          ],
          [
           "Puerto Rico",
           19328.70901
          ],
          [
           "Trinidad and Tobago",
           18008.50924
          ],
          [
           "United States",
           42951.65309
          ],
          [
           "Uruguay",
           10611.46299
          ],
          [
           "Venezuela",
           11415.805690000001
          ]
         ],
         "fillcolor": "rgba(255,255,255,0)",
         "hoveron": "points",
         "hovertemplate": "<b>%{hovertext}</b><br><br>continent=Americas<br>lifeExp=%{x}<br>country=%{customdata[0]}<br>gdpPercap=%{customdata[1]}<extra></extra>",
         "hovertext": [
          "Argentina",
          "Bolivia",
          "Brazil",
          "Canada",
          "Chile",
          "Colombia",
          "Costa Rica",
          "Cuba",
          "Dominican Republic",
          "Ecuador",
          "El Salvador",
          "Guatemala",
          "Haiti",
          "Honduras",
          "Jamaica",
          "Mexico",
          "Nicaragua",
          "Panama",
          "Paraguay",
          "Peru",
          "Puerto Rico",
          "Trinidad and Tobago",
          "United States",
          "Uruguay",
          "Venezuela"
         ],
         "jitter": 0,
         "legendgroup": "Americas",
         "line": {
          "color": "rgba(255,255,255,0)"
         },
         "marker": {
          "color": "#ab63fa",
          "symbol": "line-ns-open"
         },
         "name": "Americas",
         "offsetgroup": "Americas",
         "showlegend": false,
         "type": "box",
         "x": [
          75.32,
          65.554,
          72.39,
          80.653,
          78.553,
          72.889,
          78.782,
          78.273,
          72.235,
          74.994,
          71.878,
          70.259,
          60.916000000000004,
          70.19800000000001,
          72.567,
          76.195,
          72.899,
          75.53699999999999,
          71.752,
          71.421,
          78.74600000000001,
          69.819,
          78.242,
          76.384,
          73.747
         ],
         "xaxis": "x2",
         "yaxis": "y2"
        },
        {
         "alignmentgroup": "True",
         "bingroup": "x",
         "hovertemplate": "continent=Oceania<br>lifeExp=%{x}<br>count=%{y}<extra></extra>",
         "legendgroup": "Oceania",
         "marker": {
          "color": "#FFA15A"
         },
         "name": "Oceania",
         "offsetgroup": "Oceania",
         "orientation": "v",
         "showlegend": true,
         "type": "histogram",
         "x": [
          81.235,
          80.204
         ],
         "xaxis": "x",
         "yaxis": "y"
        },
        {
         "alignmentgroup": "True",
         "boxpoints": "all",
         "customdata": [
          [
           "Australia",
           34435.367439999995
          ],
          [
           "New Zealand",
           25185.00911
          ]
         ],
         "fillcolor": "rgba(255,255,255,0)",
         "hoveron": "points",
         "hovertemplate": "<b>%{hovertext}</b><br><br>continent=Oceania<br>lifeExp=%{x}<br>country=%{customdata[0]}<br>gdpPercap=%{customdata[1]}<extra></extra>",
         "hovertext": [
          "Australia",
          "New Zealand"
         ],
         "jitter": 0,
         "legendgroup": "Oceania",
         "line": {
          "color": "rgba(255,255,255,0)"
         },
         "marker": {
          "color": "#FFA15A",
          "symbol": "line-ns-open"
         },
         "name": "Oceania",
         "offsetgroup": "Oceania",
         "showlegend": false,
         "type": "box",
         "x": [
          81.235,
          80.204
         ],
         "xaxis": "x2",
         "yaxis": "y2"
        }
       ],
       "layout": {
        "barmode": "relative",
        "legend": {
         "title": {
          "text": "continent"
         },
         "tracegroupgap": 0
        },
        "margin": {
         "t": 60
        },
        "template": {
         "data": {
          "bar": [
           {
            "error_x": {
             "color": "#2a3f5f"
            },
            "error_y": {
             "color": "#2a3f5f"
            },
            "marker": {
             "line": {
              "color": "#E5ECF6",
              "width": 0.5
             }
            },
            "type": "bar"
           }
          ],
          "barpolar": [
           {
            "marker": {
             "line": {
              "color": "#E5ECF6",
              "width": 0.5
             }
            },
            "type": "barpolar"
           }
          ],
          "carpet": [
           {
            "aaxis": {
             "endlinecolor": "#2a3f5f",
             "gridcolor": "white",
             "linecolor": "white",
             "minorgridcolor": "white",
             "startlinecolor": "#2a3f5f"
            },
            "baxis": {
             "endlinecolor": "#2a3f5f",
             "gridcolor": "white",
             "linecolor": "white",
             "minorgridcolor": "white",
             "startlinecolor": "#2a3f5f"
            },
            "type": "carpet"
           }
          ],
          "choropleth": [
           {
            "colorbar": {
             "outlinewidth": 0,
             "ticks": ""
            },
            "type": "choropleth"
           }
          ],
          "contour": [
           {
            "colorbar": {
             "outlinewidth": 0,
             "ticks": ""
            },
            "colorscale": [
             [
              0,
              "#0d0887"
             ],
             [
              0.1111111111111111,
              "#46039f"
             ],
             [
              0.2222222222222222,
              "#7201a8"
             ],
             [
              0.3333333333333333,
              "#9c179e"
             ],
             [
              0.4444444444444444,
              "#bd3786"
             ],
             [
              0.5555555555555556,
              "#d8576b"
             ],
             [
              0.6666666666666666,
              "#ed7953"
             ],
             [
              0.7777777777777778,
              "#fb9f3a"
             ],
             [
              0.8888888888888888,
              "#fdca26"
             ],
             [
              1,
              "#f0f921"
             ]
            ],
            "type": "contour"
           }
          ],
          "contourcarpet": [
           {
            "colorbar": {
             "outlinewidth": 0,
             "ticks": ""
            },
            "type": "contourcarpet"
           }
          ],
          "heatmap": [
           {
            "colorbar": {
             "outlinewidth": 0,
             "ticks": ""
            },
            "colorscale": [
             [
              0,
              "#0d0887"
             ],
             [
              0.1111111111111111,
              "#46039f"
             ],
             [
              0.2222222222222222,
              "#7201a8"
             ],
             [
              0.3333333333333333,
              "#9c179e"
             ],
             [
              0.4444444444444444,
              "#bd3786"
             ],
             [
              0.5555555555555556,
              "#d8576b"
             ],
             [
              0.6666666666666666,
              "#ed7953"
             ],
             [
              0.7777777777777778,
              "#fb9f3a"
             ],
             [
              0.8888888888888888,
              "#fdca26"
             ],
             [
              1,
              "#f0f921"
             ]
            ],
            "type": "heatmap"
           }
          ],
          "heatmapgl": [
           {
            "colorbar": {
             "outlinewidth": 0,
             "ticks": ""
            },
            "colorscale": [
             [
              0,
              "#0d0887"
             ],
             [
              0.1111111111111111,
              "#46039f"
             ],
             [
              0.2222222222222222,
              "#7201a8"
             ],
             [
              0.3333333333333333,
              "#9c179e"
             ],
             [
              0.4444444444444444,
              "#bd3786"
             ],
             [
              0.5555555555555556,
              "#d8576b"
             ],
             [
              0.6666666666666666,
              "#ed7953"
             ],
             [
              0.7777777777777778,
              "#fb9f3a"
             ],
             [
              0.8888888888888888,
              "#fdca26"
             ],
             [
              1,
              "#f0f921"
             ]
            ],
            "type": "heatmapgl"
           }
          ],
          "histogram": [
           {
            "marker": {
             "colorbar": {
              "outlinewidth": 0,
              "ticks": ""
             }
            },
            "type": "histogram"
           }
          ],
          "histogram2d": [
           {
            "colorbar": {
             "outlinewidth": 0,
             "ticks": ""
            },
            "colorscale": [
             [
              0,
              "#0d0887"
             ],
             [
              0.1111111111111111,
              "#46039f"
             ],
             [
              0.2222222222222222,
              "#7201a8"
             ],
             [
              0.3333333333333333,
              "#9c179e"
             ],
             [
              0.4444444444444444,
              "#bd3786"
             ],
             [
              0.5555555555555556,
              "#d8576b"
             ],
             [
              0.6666666666666666,
              "#ed7953"
             ],
             [
              0.7777777777777778,
              "#fb9f3a"
             ],
             [
              0.8888888888888888,
              "#fdca26"
             ],
             [
              1,
              "#f0f921"
             ]
            ],
            "type": "histogram2d"
           }
          ],
          "histogram2dcontour": [
           {
            "colorbar": {
             "outlinewidth": 0,
             "ticks": ""
            },
            "colorscale": [
             [
              0,
              "#0d0887"
             ],
             [
              0.1111111111111111,
              "#46039f"
             ],
             [
              0.2222222222222222,
              "#7201a8"
             ],
             [
              0.3333333333333333,
              "#9c179e"
             ],
             [
              0.4444444444444444,
              "#bd3786"
             ],
             [
              0.5555555555555556,
              "#d8576b"
             ],
             [
              0.6666666666666666,
              "#ed7953"
             ],
             [
              0.7777777777777778,
              "#fb9f3a"
             ],
             [
              0.8888888888888888,
              "#fdca26"
             ],
             [
              1,
              "#f0f921"
             ]
            ],
            "type": "histogram2dcontour"
           }
          ],
          "mesh3d": [
           {
            "colorbar": {
             "outlinewidth": 0,
             "ticks": ""
            },
            "type": "mesh3d"
           }
          ],
          "parcoords": [
           {
            "line": {
             "colorbar": {
              "outlinewidth": 0,
              "ticks": ""
             }
            },
            "type": "parcoords"
           }
          ],
          "pie": [
           {
            "automargin": true,
            "type": "pie"
           }
          ],
          "scatter": [
           {
            "marker": {
             "colorbar": {
              "outlinewidth": 0,
              "ticks": ""
             }
            },
            "type": "scatter"
           }
          ],
          "scatter3d": [
           {
            "line": {
             "colorbar": {
              "outlinewidth": 0,
              "ticks": ""
             }
            },
            "marker": {
             "colorbar": {
              "outlinewidth": 0,
              "ticks": ""
             }
            },
            "type": "scatter3d"
           }
          ],
          "scattercarpet": [
           {
            "marker": {
             "colorbar": {
              "outlinewidth": 0,
              "ticks": ""
             }
            },
            "type": "scattercarpet"
           }
          ],
          "scattergeo": [
           {
            "marker": {
             "colorbar": {
              "outlinewidth": 0,
              "ticks": ""
             }
            },
            "type": "scattergeo"
           }
          ],
          "scattergl": [
           {
            "marker": {
             "colorbar": {
              "outlinewidth": 0,
              "ticks": ""
             }
            },
            "type": "scattergl"
           }
          ],
          "scattermapbox": [
           {
            "marker": {
             "colorbar": {
              "outlinewidth": 0,
              "ticks": ""
             }
            },
            "type": "scattermapbox"
           }
          ],
          "scatterpolar": [
           {
            "marker": {
             "colorbar": {
              "outlinewidth": 0,
              "ticks": ""
             }
            },
            "type": "scatterpolar"
           }
          ],
          "scatterpolargl": [
           {
            "marker": {
             "colorbar": {
              "outlinewidth": 0,
              "ticks": ""
             }
            },
            "type": "scatterpolargl"
           }
          ],
          "scatterternary": [
           {
            "marker": {
             "colorbar": {
              "outlinewidth": 0,
              "ticks": ""
             }
            },
            "type": "scatterternary"
           }
          ],
          "surface": [
           {
            "colorbar": {
             "outlinewidth": 0,
             "ticks": ""
            },
            "colorscale": [
             [
              0,
              "#0d0887"
             ],
             [
              0.1111111111111111,
              "#46039f"
             ],
             [
              0.2222222222222222,
              "#7201a8"
             ],
             [
              0.3333333333333333,
              "#9c179e"
             ],
             [
              0.4444444444444444,
              "#bd3786"
             ],
             [
              0.5555555555555556,
              "#d8576b"
             ],
             [
              0.6666666666666666,
              "#ed7953"
             ],
             [
              0.7777777777777778,
              "#fb9f3a"
             ],
             [
              0.8888888888888888,
              "#fdca26"
             ],
             [
              1,
              "#f0f921"
             ]
            ],
            "type": "surface"
           }
          ],
          "table": [
           {
            "cells": {
             "fill": {
              "color": "#EBF0F8"
             },
             "line": {
              "color": "white"
             }
            },
            "header": {
             "fill": {
              "color": "#C8D4E3"
             },
             "line": {
              "color": "white"
             }
            },
            "type": "table"
           }
          ]
         },
         "layout": {
          "annotationdefaults": {
           "arrowcolor": "#2a3f5f",
           "arrowhead": 0,
           "arrowwidth": 1
          },
          "autotypenumbers": "strict",
          "coloraxis": {
           "colorbar": {
            "outlinewidth": 0,
            "ticks": ""
           }
          },
          "colorscale": {
           "diverging": [
            [
             0,
             "#8e0152"
            ],
            [
             0.1,
             "#c51b7d"
            ],
            [
             0.2,
             "#de77ae"
            ],
            [
             0.3,
             "#f1b6da"
            ],
            [
             0.4,
             "#fde0ef"
            ],
            [
             0.5,
             "#f7f7f7"
            ],
            [
             0.6,
             "#e6f5d0"
            ],
            [
             0.7,
             "#b8e186"
            ],
            [
             0.8,
             "#7fbc41"
            ],
            [
             0.9,
             "#4d9221"
            ],
            [
             1,
             "#276419"
            ]
           ],
           "sequential": [
            [
             0,
             "#0d0887"
            ],
            [
             0.1111111111111111,
             "#46039f"
            ],
            [
             0.2222222222222222,
             "#7201a8"
            ],
            [
             0.3333333333333333,
             "#9c179e"
            ],
            [
             0.4444444444444444,
             "#bd3786"
            ],
            [
             0.5555555555555556,
             "#d8576b"
            ],
            [
             0.6666666666666666,
             "#ed7953"
            ],
            [
             0.7777777777777778,
             "#fb9f3a"
            ],
            [
             0.8888888888888888,
             "#fdca26"
            ],
            [
             1,
             "#f0f921"
            ]
           ],
           "sequentialminus": [
            [
             0,
             "#0d0887"
            ],
            [
             0.1111111111111111,
             "#46039f"
            ],
            [
             0.2222222222222222,
             "#7201a8"
            ],
            [
             0.3333333333333333,
             "#9c179e"
            ],
            [
             0.4444444444444444,
             "#bd3786"
            ],
            [
             0.5555555555555556,
             "#d8576b"
            ],
            [
             0.6666666666666666,
             "#ed7953"
            ],
            [
             0.7777777777777778,
             "#fb9f3a"
            ],
            [
             0.8888888888888888,
             "#fdca26"
            ],
            [
             1,
             "#f0f921"
            ]
           ]
          },
          "colorway": [
           "#636efa",
           "#EF553B",
           "#00cc96",
           "#ab63fa",
           "#FFA15A",
           "#19d3f3",
           "#FF6692",
           "#B6E880",
           "#FF97FF",
           "#FECB52"
          ],
          "font": {
           "color": "#2a3f5f"
          },
          "geo": {
           "bgcolor": "white",
           "lakecolor": "white",
           "landcolor": "#E5ECF6",
           "showlakes": true,
           "showland": true,
           "subunitcolor": "white"
          },
          "hoverlabel": {
           "align": "left"
          },
          "hovermode": "closest",
          "mapbox": {
           "style": "light"
          },
          "paper_bgcolor": "white",
          "plot_bgcolor": "#E5ECF6",
          "polar": {
           "angularaxis": {
            "gridcolor": "white",
            "linecolor": "white",
            "ticks": ""
           },
           "bgcolor": "#E5ECF6",
           "radialaxis": {
            "gridcolor": "white",
            "linecolor": "white",
            "ticks": ""
           }
          },
          "scene": {
           "xaxis": {
            "backgroundcolor": "#E5ECF6",
            "gridcolor": "white",
            "gridwidth": 2,
            "linecolor": "white",
            "showbackground": true,
            "ticks": "",
            "zerolinecolor": "white"
           },
           "yaxis": {
            "backgroundcolor": "#E5ECF6",
            "gridcolor": "white",
            "gridwidth": 2,
            "linecolor": "white",
            "showbackground": true,
            "ticks": "",
            "zerolinecolor": "white"
           },
           "zaxis": {
            "backgroundcolor": "#E5ECF6",
            "gridcolor": "white",
            "gridwidth": 2,
            "linecolor": "white",
            "showbackground": true,
            "ticks": "",
            "zerolinecolor": "white"
           }
          },
          "shapedefaults": {
           "line": {
            "color": "#2a3f5f"
           }
          },
          "ternary": {
           "aaxis": {
            "gridcolor": "white",
            "linecolor": "white",
            "ticks": ""
           },
           "baxis": {
            "gridcolor": "white",
            "linecolor": "white",
            "ticks": ""
           },
           "bgcolor": "#E5ECF6",
           "caxis": {
            "gridcolor": "white",
            "linecolor": "white",
            "ticks": ""
           }
          },
          "title": {
           "x": 0.05
          },
          "xaxis": {
           "automargin": true,
           "gridcolor": "white",
           "linecolor": "white",
           "ticks": "",
           "title": {
            "standoff": 15
           },
           "zerolinecolor": "white",
           "zerolinewidth": 2
          },
          "yaxis": {
           "automargin": true,
           "gridcolor": "white",
           "linecolor": "white",
           "ticks": "",
           "title": {
            "standoff": 15
           },
           "zerolinecolor": "white",
           "zerolinewidth": 2
          }
         }
        },
        "xaxis": {
         "anchor": "y",
         "domain": [
          0,
          1
         ],
         "title": {
          "text": "lifeExp"
         }
        },
        "xaxis2": {
         "anchor": "y2",
         "domain": [
          0,
          1
         ],
         "matches": "x",
         "showgrid": true,
         "showticklabels": false
        },
        "yaxis": {
         "anchor": "x",
         "domain": [
          0,
          0.7326
         ],
         "title": {
          "text": "count"
         }
        },
        "yaxis2": {
         "anchor": "x2",
         "domain": [
          0.7426,
          1
         ],
         "matches": "y2",
         "showgrid": false,
         "showline": false,
         "showticklabels": false,
         "ticks": ""
        }
       }
      },
      "text/html": [
       "<div>                            <div id=\"e6f17163-324b-48dc-8bed-b624ec6205aa\" class=\"plotly-graph-div\" style=\"height:525px; width:100%;\"></div>            <script type=\"text/javascript\">                require([\"plotly\"], function(Plotly) {                    window.PLOTLYENV=window.PLOTLYENV || {};                                    if (document.getElementById(\"e6f17163-324b-48dc-8bed-b624ec6205aa\")) {                    Plotly.newPlot(                        \"e6f17163-324b-48dc-8bed-b624ec6205aa\",                        [{\"alignmentgroup\": \"True\", \"bingroup\": \"x\", \"hovertemplate\": \"continent=Asia<br>lifeExp=%{x}<br>count=%{y}<extra></extra>\", \"legendgroup\": \"Asia\", \"marker\": {\"color\": \"#636efa\"}, \"name\": \"Asia\", \"offsetgroup\": \"Asia\", \"orientation\": \"v\", \"showlegend\": true, \"type\": \"histogram\", \"x\": [43.828, 75.635, 64.062, 59.723, 72.961, 82.208, 64.69800000000001, 70.65, 70.964, 59.545, 80.745, 82.603, 72.535, 67.297, 78.623, 77.58800000000001, 71.993, 74.241, 66.803, 62.068999999999996, 63.785, 75.64, 65.483, 71.688, 72.777, 79.972, 72.396, 74.143, 78.4, 70.616, 74.249, 73.422, 62.698], \"xaxis\": \"x\", \"yaxis\": \"y\"}, {\"alignmentgroup\": \"True\", \"boxpoints\": \"all\", \"customdata\": [[\"Afghanistan\", 974.5803384], [\"Bahrain\", 29796.048339999998], [\"Bangladesh\", 1391.253792], [\"Cambodia\", 1713.7786859999999], [\"China\", 4959.1148539999995], [\"Hong Kong, China\", 39724.97867], [\"India\", 2452.210407], [\"Indonesia\", 3540.6515640000002], [\"Iran\", 11605.71449], [\"Iraq\", 4471.061906], [\"Israel\", 25523.2771], [\"Japan\", 31656.06806], [\"Jordan\", 4519.461171], [\"Korea, Dem. Rep.\", 1593.06548], [\"Korea, Rep.\", 23348.139730000003], [\"Kuwait\", 47306.98978], [\"Lebanon\", 10461.05868], [\"Malaysia\", 12451.6558], [\"Mongolia\", 3095.7722710000003], [\"Myanmar\", 944.0], [\"Nepal\", 1091.359778], [\"Oman\", 22316.19287], [\"Pakistan\", 2605.94758], [\"Philippines\", 3190.481016], [\"Saudi Arabia\", 21654.83194], [\"Singapore\", 47143.179639999995], [\"Sri Lanka\", 3970.0954070000003], [\"Syria\", 4184.548089], [\"Taiwan\", 28718.27684], [\"Thailand\", 7458.3963269999995], [\"Vietnam\", 2441.576404], [\"West Bank and Gaza\", 3025.349798], [\"Yemen, Rep.\", 2280.769906]], \"fillcolor\": \"rgba(255,255,255,0)\", \"hoveron\": \"points\", \"hovertemplate\": \"<b>%{hovertext}</b><br><br>continent=Asia<br>lifeExp=%{x}<br>country=%{customdata[0]}<br>gdpPercap=%{customdata[1]}<extra></extra>\", \"hovertext\": [\"Afghanistan\", \"Bahrain\", \"Bangladesh\", \"Cambodia\", \"China\", \"Hong Kong, China\", \"India\", \"Indonesia\", \"Iran\", \"Iraq\", \"Israel\", \"Japan\", \"Jordan\", \"Korea, Dem. Rep.\", \"Korea, Rep.\", \"Kuwait\", \"Lebanon\", \"Malaysia\", \"Mongolia\", \"Myanmar\", \"Nepal\", \"Oman\", \"Pakistan\", \"Philippines\", \"Saudi Arabia\", \"Singapore\", \"Sri Lanka\", \"Syria\", \"Taiwan\", \"Thailand\", \"Vietnam\", \"West Bank and Gaza\", \"Yemen, Rep.\"], \"jitter\": 0, \"legendgroup\": \"Asia\", \"line\": {\"color\": \"rgba(255,255,255,0)\"}, \"marker\": {\"color\": \"#636efa\", \"symbol\": \"line-ns-open\"}, \"name\": \"Asia\", \"offsetgroup\": \"Asia\", \"showlegend\": false, \"type\": \"box\", \"x\": [43.828, 75.635, 64.062, 59.723, 72.961, 82.208, 64.69800000000001, 70.65, 70.964, 59.545, 80.745, 82.603, 72.535, 67.297, 78.623, 77.58800000000001, 71.993, 74.241, 66.803, 62.068999999999996, 63.785, 75.64, 65.483, 71.688, 72.777, 79.972, 72.396, 74.143, 78.4, 70.616, 74.249, 73.422, 62.698], \"xaxis\": \"x2\", \"yaxis\": \"y2\"}, {\"alignmentgroup\": \"True\", \"bingroup\": \"x\", \"hovertemplate\": \"continent=Europe<br>lifeExp=%{x}<br>count=%{y}<extra></extra>\", \"legendgroup\": \"Europe\", \"marker\": {\"color\": \"#EF553B\"}, \"name\": \"Europe\", \"offsetgroup\": \"Europe\", \"orientation\": \"v\", \"showlegend\": true, \"type\": \"histogram\", \"x\": [76.423, 79.829, 79.441, 74.852, 73.005, 75.748, 76.486, 78.332, 79.313, 80.657, 79.406, 79.483, 73.33800000000001, 81.757, 78.885, 80.546, 74.543, 79.762, 80.196, 75.563, 78.098, 72.476, 74.002, 74.663, 77.926, 80.941, 80.884, 81.70100000000001, 71.777, 79.425], \"xaxis\": \"x\", \"yaxis\": \"y\"}, {\"alignmentgroup\": \"True\", \"boxpoints\": \"all\", \"customdata\": [[\"Albania\", 5937.029525999999], [\"Austria\", 36126.4927], [\"Belgium\", 33692.60508], [\"Bosnia and Herzegovina\", 7446.298803], [\"Bulgaria\", 10680.79282], [\"Croatia\", 14619.222719999998], [\"Czech Republic\", 22833.30851], [\"Denmark\", 35278.41874], [\"Finland\", 33207.0844], [\"France\", 30470.0167], [\"Germany\", 32170.37442], [\"Greece\", 27538.41188], [\"Hungary\", 18008.94444], [\"Iceland\", 36180.789189999996], [\"Ireland\", 40675.99635], [\"Italy\", 28569.7197], [\"Montenegro\", 9253.896111], [\"Netherlands\", 36797.93332], [\"Norway\", 49357.19017], [\"Poland\", 15389.924680000002], [\"Portugal\", 20509.64777], [\"Romania\", 10808.47561], [\"Serbia\", 9786.534714], [\"Slovak Republic\", 18678.31435], [\"Slovenia\", 25768.25759], [\"Spain\", 28821.0637], [\"Sweden\", 33859.74835], [\"Switzerland\", 37506.419069999996], [\"Turkey\", 8458.276384], [\"United Kingdom\", 33203.26128]], \"fillcolor\": \"rgba(255,255,255,0)\", \"hoveron\": \"points\", \"hovertemplate\": \"<b>%{hovertext}</b><br><br>continent=Europe<br>lifeExp=%{x}<br>country=%{customdata[0]}<br>gdpPercap=%{customdata[1]}<extra></extra>\", \"hovertext\": [\"Albania\", \"Austria\", \"Belgium\", \"Bosnia and Herzegovina\", \"Bulgaria\", \"Croatia\", \"Czech Republic\", \"Denmark\", \"Finland\", \"France\", \"Germany\", \"Greece\", \"Hungary\", \"Iceland\", \"Ireland\", \"Italy\", \"Montenegro\", \"Netherlands\", \"Norway\", \"Poland\", \"Portugal\", \"Romania\", \"Serbia\", \"Slovak Republic\", \"Slovenia\", \"Spain\", \"Sweden\", \"Switzerland\", \"Turkey\", \"United Kingdom\"], \"jitter\": 0, \"legendgroup\": \"Europe\", \"line\": {\"color\": \"rgba(255,255,255,0)\"}, \"marker\": {\"color\": \"#EF553B\", \"symbol\": \"line-ns-open\"}, \"name\": \"Europe\", \"offsetgroup\": \"Europe\", \"showlegend\": false, \"type\": \"box\", \"x\": [76.423, 79.829, 79.441, 74.852, 73.005, 75.748, 76.486, 78.332, 79.313, 80.657, 79.406, 79.483, 73.33800000000001, 81.757, 78.885, 80.546, 74.543, 79.762, 80.196, 75.563, 78.098, 72.476, 74.002, 74.663, 77.926, 80.941, 80.884, 81.70100000000001, 71.777, 79.425], \"xaxis\": \"x2\", \"yaxis\": \"y2\"}, {\"alignmentgroup\": \"True\", \"bingroup\": \"x\", \"hovertemplate\": \"continent=Africa<br>lifeExp=%{x}<br>count=%{y}<extra></extra>\", \"legendgroup\": \"Africa\", \"marker\": {\"color\": \"#00cc96\"}, \"name\": \"Africa\", \"offsetgroup\": \"Africa\", \"orientation\": \"v\", \"showlegend\": true, \"type\": \"histogram\", \"x\": [72.301, 42.731, 56.728, 50.728, 52.295, 49.58, 50.43, 44.74100000000001, 50.651, 65.152, 46.461999999999996, 55.321999999999996, 48.328, 54.791000000000004, 71.33800000000001, 51.57899999999999, 58.04, 52.946999999999996, 56.735, 59.448, 60.022, 56.007, 46.388000000000005, 54.11, 42.592, 45.678000000000004, 73.952, 59.443000000000005, 48.303000000000004, 54.467, 64.164, 72.801, 71.164, 42.082, 52.906000000000006, 56.867, 46.858999999999995, 76.442, 46.242, 65.528, 63.062, 42.568000000000005, 48.159, 49.339, 58.556000000000004, 39.613, 52.516999999999996, 58.42, 73.923, 51.542, 42.38399999999999, 43.486999999999995], \"xaxis\": \"x\", \"yaxis\": \"y\"}, {\"alignmentgroup\": \"True\", \"boxpoints\": \"all\", \"customdata\": [[\"Algeria\", 6223.367465], [\"Angola\", 4797.231267], [\"Benin\", 1441.284873], [\"Botswana\", 12569.851770000001], [\"Burkina Faso\", 1217.032994], [\"Burundi\", 430.07069160000003], [\"Cameroon\", 2042.0952399999999], [\"Central African Republic\", 706.016537], [\"Chad\", 1704.0637239999999], [\"Comoros\", 986.1478792000001], [\"Congo, Dem. Rep.\", 277.55185869999997], [\"Congo, Rep.\", 3632.557798], [\"Cote d'Ivoire\", 1544.750112], [\"Djibouti\", 2082.4815670000003], [\"Egypt\", 5581.180998], [\"Equatorial Guinea\", 12154.08975], [\"Eritrea\", 641.3695236000001], [\"Ethiopia\", 690.8055759], [\"Gabon\", 13206.48452], [\"Gambia\", 752.7497265], [\"Ghana\", 1327.60891], [\"Guinea\", 942.6542111], [\"Guinea-Bissau\", 579.2317429999999], [\"Kenya\", 1463.249282], [\"Lesotho\", 1569.331442], [\"Liberia\", 414.5073415], [\"Libya\", 12057.49928], [\"Madagascar\", 1044.770126], [\"Malawi\", 759.3499101], [\"Mali\", 1042.581557], [\"Mauritania\", 1803.1514960000002], [\"Mauritius\", 10956.99112], [\"Morocco\", 3820.17523], [\"Mozambique\", 823.6856205], [\"Namibia\", 4811.060429], [\"Niger\", 619.6768923999999], [\"Nigeria\", 2013.9773050000001], [\"Reunion\", 7670.122558], [\"Rwanda\", 863.0884639000001], [\"Sao Tome and Principe\", 1598.435089], [\"Senegal\", 1712.4721359999999], [\"Sierra Leone\", 862.5407561000001], [\"Somalia\", 926.1410683], [\"South Africa\", 9269.657808], [\"Sudan\", 2602.394995], [\"Swaziland\", 4513.480643], [\"Tanzania\", 1107.482182], [\"Togo\", 882.9699437999999], [\"Tunisia\", 7092.923025], [\"Uganda\", 1056.3801210000001], [\"Zambia\", 1271.211593], [\"Zimbabwe\", 469.70929810000007]], \"fillcolor\": \"rgba(255,255,255,0)\", \"hoveron\": \"points\", \"hovertemplate\": \"<b>%{hovertext}</b><br><br>continent=Africa<br>lifeExp=%{x}<br>country=%{customdata[0]}<br>gdpPercap=%{customdata[1]}<extra></extra>\", \"hovertext\": [\"Algeria\", \"Angola\", \"Benin\", \"Botswana\", \"Burkina Faso\", \"Burundi\", \"Cameroon\", \"Central African Republic\", \"Chad\", \"Comoros\", \"Congo, Dem. Rep.\", \"Congo, Rep.\", \"Cote d'Ivoire\", \"Djibouti\", \"Egypt\", \"Equatorial Guinea\", \"Eritrea\", \"Ethiopia\", \"Gabon\", \"Gambia\", \"Ghana\", \"Guinea\", \"Guinea-Bissau\", \"Kenya\", \"Lesotho\", \"Liberia\", \"Libya\", \"Madagascar\", \"Malawi\", \"Mali\", \"Mauritania\", \"Mauritius\", \"Morocco\", \"Mozambique\", \"Namibia\", \"Niger\", \"Nigeria\", \"Reunion\", \"Rwanda\", \"Sao Tome and Principe\", \"Senegal\", \"Sierra Leone\", \"Somalia\", \"South Africa\", \"Sudan\", \"Swaziland\", \"Tanzania\", \"Togo\", \"Tunisia\", \"Uganda\", \"Zambia\", \"Zimbabwe\"], \"jitter\": 0, \"legendgroup\": \"Africa\", \"line\": {\"color\": \"rgba(255,255,255,0)\"}, \"marker\": {\"color\": \"#00cc96\", \"symbol\": \"line-ns-open\"}, \"name\": \"Africa\", \"offsetgroup\": \"Africa\", \"showlegend\": false, \"type\": \"box\", \"x\": [72.301, 42.731, 56.728, 50.728, 52.295, 49.58, 50.43, 44.74100000000001, 50.651, 65.152, 46.461999999999996, 55.321999999999996, 48.328, 54.791000000000004, 71.33800000000001, 51.57899999999999, 58.04, 52.946999999999996, 56.735, 59.448, 60.022, 56.007, 46.388000000000005, 54.11, 42.592, 45.678000000000004, 73.952, 59.443000000000005, 48.303000000000004, 54.467, 64.164, 72.801, 71.164, 42.082, 52.906000000000006, 56.867, 46.858999999999995, 76.442, 46.242, 65.528, 63.062, 42.568000000000005, 48.159, 49.339, 58.556000000000004, 39.613, 52.516999999999996, 58.42, 73.923, 51.542, 42.38399999999999, 43.486999999999995], \"xaxis\": \"x2\", \"yaxis\": \"y2\"}, {\"alignmentgroup\": \"True\", \"bingroup\": \"x\", \"hovertemplate\": \"continent=Americas<br>lifeExp=%{x}<br>count=%{y}<extra></extra>\", \"legendgroup\": \"Americas\", \"marker\": {\"color\": \"#ab63fa\"}, \"name\": \"Americas\", \"offsetgroup\": \"Americas\", \"orientation\": \"v\", \"showlegend\": true, \"type\": \"histogram\", \"x\": [75.32, 65.554, 72.39, 80.653, 78.553, 72.889, 78.782, 78.273, 72.235, 74.994, 71.878, 70.259, 60.916000000000004, 70.19800000000001, 72.567, 76.195, 72.899, 75.53699999999999, 71.752, 71.421, 78.74600000000001, 69.819, 78.242, 76.384, 73.747], \"xaxis\": \"x\", \"yaxis\": \"y\"}, {\"alignmentgroup\": \"True\", \"boxpoints\": \"all\", \"customdata\": [[\"Argentina\", 12779.379640000001], [\"Bolivia\", 3822.1370840000004], [\"Brazil\", 9065.800825], [\"Canada\", 36319.235010000004], [\"Chile\", 13171.63885], [\"Colombia\", 7006.580419], [\"Costa Rica\", 9645.06142], [\"Cuba\", 8948.102923], [\"Dominican Republic\", 6025.374752000001], [\"Ecuador\", 6873.262326000001], [\"El Salvador\", 5728.353514], [\"Guatemala\", 5186.050003], [\"Haiti\", 1201.637154], [\"Honduras\", 3548.3308460000003], [\"Jamaica\", 7320.880262000001], [\"Mexico\", 11977.57496], [\"Nicaragua\", 2749.320965], [\"Panama\", 9809.185636], [\"Paraguay\", 4172.838464], [\"Peru\", 7408.905561], [\"Puerto Rico\", 19328.70901], [\"Trinidad and Tobago\", 18008.50924], [\"United States\", 42951.65309], [\"Uruguay\", 10611.46299], [\"Venezuela\", 11415.805690000001]], \"fillcolor\": \"rgba(255,255,255,0)\", \"hoveron\": \"points\", \"hovertemplate\": \"<b>%{hovertext}</b><br><br>continent=Americas<br>lifeExp=%{x}<br>country=%{customdata[0]}<br>gdpPercap=%{customdata[1]}<extra></extra>\", \"hovertext\": [\"Argentina\", \"Bolivia\", \"Brazil\", \"Canada\", \"Chile\", \"Colombia\", \"Costa Rica\", \"Cuba\", \"Dominican Republic\", \"Ecuador\", \"El Salvador\", \"Guatemala\", \"Haiti\", \"Honduras\", \"Jamaica\", \"Mexico\", \"Nicaragua\", \"Panama\", \"Paraguay\", \"Peru\", \"Puerto Rico\", \"Trinidad and Tobago\", \"United States\", \"Uruguay\", \"Venezuela\"], \"jitter\": 0, \"legendgroup\": \"Americas\", \"line\": {\"color\": \"rgba(255,255,255,0)\"}, \"marker\": {\"color\": \"#ab63fa\", \"symbol\": \"line-ns-open\"}, \"name\": \"Americas\", \"offsetgroup\": \"Americas\", \"showlegend\": false, \"type\": \"box\", \"x\": [75.32, 65.554, 72.39, 80.653, 78.553, 72.889, 78.782, 78.273, 72.235, 74.994, 71.878, 70.259, 60.916000000000004, 70.19800000000001, 72.567, 76.195, 72.899, 75.53699999999999, 71.752, 71.421, 78.74600000000001, 69.819, 78.242, 76.384, 73.747], \"xaxis\": \"x2\", \"yaxis\": \"y2\"}, {\"alignmentgroup\": \"True\", \"bingroup\": \"x\", \"hovertemplate\": \"continent=Oceania<br>lifeExp=%{x}<br>count=%{y}<extra></extra>\", \"legendgroup\": \"Oceania\", \"marker\": {\"color\": \"#FFA15A\"}, \"name\": \"Oceania\", \"offsetgroup\": \"Oceania\", \"orientation\": \"v\", \"showlegend\": true, \"type\": \"histogram\", \"x\": [81.235, 80.204], \"xaxis\": \"x\", \"yaxis\": \"y\"}, {\"alignmentgroup\": \"True\", \"boxpoints\": \"all\", \"customdata\": [[\"Australia\", 34435.367439999995], [\"New Zealand\", 25185.00911]], \"fillcolor\": \"rgba(255,255,255,0)\", \"hoveron\": \"points\", \"hovertemplate\": \"<b>%{hovertext}</b><br><br>continent=Oceania<br>lifeExp=%{x}<br>country=%{customdata[0]}<br>gdpPercap=%{customdata[1]}<extra></extra>\", \"hovertext\": [\"Australia\", \"New Zealand\"], \"jitter\": 0, \"legendgroup\": \"Oceania\", \"line\": {\"color\": \"rgba(255,255,255,0)\"}, \"marker\": {\"color\": \"#FFA15A\", \"symbol\": \"line-ns-open\"}, \"name\": \"Oceania\", \"offsetgroup\": \"Oceania\", \"showlegend\": false, \"type\": \"box\", \"x\": [81.235, 80.204], \"xaxis\": \"x2\", \"yaxis\": \"y2\"}],                        {\"barmode\": \"relative\", \"legend\": {\"title\": {\"text\": \"continent\"}, \"tracegroupgap\": 0}, \"margin\": {\"t\": 60}, \"template\": {\"data\": {\"bar\": [{\"error_x\": {\"color\": \"#2a3f5f\"}, \"error_y\": {\"color\": \"#2a3f5f\"}, \"marker\": {\"line\": {\"color\": \"#E5ECF6\", \"width\": 0.5}}, \"type\": \"bar\"}], \"barpolar\": [{\"marker\": {\"line\": {\"color\": \"#E5ECF6\", \"width\": 0.5}}, \"type\": \"barpolar\"}], \"carpet\": [{\"aaxis\": {\"endlinecolor\": \"#2a3f5f\", \"gridcolor\": \"white\", \"linecolor\": \"white\", \"minorgridcolor\": \"white\", \"startlinecolor\": \"#2a3f5f\"}, \"baxis\": {\"endlinecolor\": \"#2a3f5f\", \"gridcolor\": \"white\", \"linecolor\": \"white\", \"minorgridcolor\": \"white\", \"startlinecolor\": \"#2a3f5f\"}, \"type\": \"carpet\"}], \"choropleth\": [{\"colorbar\": {\"outlinewidth\": 0, \"ticks\": \"\"}, \"type\": \"choropleth\"}], \"contour\": [{\"colorbar\": {\"outlinewidth\": 0, \"ticks\": \"\"}, \"colorscale\": [[0.0, \"#0d0887\"], [0.1111111111111111, \"#46039f\"], [0.2222222222222222, \"#7201a8\"], [0.3333333333333333, \"#9c179e\"], [0.4444444444444444, \"#bd3786\"], [0.5555555555555556, \"#d8576b\"], [0.6666666666666666, \"#ed7953\"], [0.7777777777777778, \"#fb9f3a\"], [0.8888888888888888, \"#fdca26\"], [1.0, \"#f0f921\"]], \"type\": \"contour\"}], \"contourcarpet\": [{\"colorbar\": {\"outlinewidth\": 0, \"ticks\": \"\"}, \"type\": \"contourcarpet\"}], \"heatmap\": [{\"colorbar\": {\"outlinewidth\": 0, \"ticks\": \"\"}, \"colorscale\": [[0.0, \"#0d0887\"], [0.1111111111111111, \"#46039f\"], [0.2222222222222222, \"#7201a8\"], [0.3333333333333333, \"#9c179e\"], [0.4444444444444444, \"#bd3786\"], [0.5555555555555556, \"#d8576b\"], [0.6666666666666666, \"#ed7953\"], [0.7777777777777778, \"#fb9f3a\"], [0.8888888888888888, \"#fdca26\"], [1.0, \"#f0f921\"]], \"type\": \"heatmap\"}], \"heatmapgl\": [{\"colorbar\": {\"outlinewidth\": 0, \"ticks\": \"\"}, \"colorscale\": [[0.0, \"#0d0887\"], [0.1111111111111111, \"#46039f\"], [0.2222222222222222, \"#7201a8\"], [0.3333333333333333, \"#9c179e\"], [0.4444444444444444, \"#bd3786\"], [0.5555555555555556, \"#d8576b\"], [0.6666666666666666, \"#ed7953\"], [0.7777777777777778, \"#fb9f3a\"], [0.8888888888888888, \"#fdca26\"], [1.0, \"#f0f921\"]], \"type\": \"heatmapgl\"}], \"histogram\": [{\"marker\": {\"colorbar\": {\"outlinewidth\": 0, \"ticks\": \"\"}}, \"type\": \"histogram\"}], \"histogram2d\": [{\"colorbar\": {\"outlinewidth\": 0, \"ticks\": \"\"}, \"colorscale\": [[0.0, \"#0d0887\"], [0.1111111111111111, \"#46039f\"], [0.2222222222222222, \"#7201a8\"], [0.3333333333333333, \"#9c179e\"], [0.4444444444444444, \"#bd3786\"], [0.5555555555555556, \"#d8576b\"], [0.6666666666666666, \"#ed7953\"], [0.7777777777777778, \"#fb9f3a\"], [0.8888888888888888, \"#fdca26\"], [1.0, \"#f0f921\"]], \"type\": \"histogram2d\"}], \"histogram2dcontour\": [{\"colorbar\": {\"outlinewidth\": 0, \"ticks\": \"\"}, \"colorscale\": [[0.0, \"#0d0887\"], [0.1111111111111111, \"#46039f\"], [0.2222222222222222, \"#7201a8\"], [0.3333333333333333, \"#9c179e\"], [0.4444444444444444, \"#bd3786\"], [0.5555555555555556, \"#d8576b\"], [0.6666666666666666, \"#ed7953\"], [0.7777777777777778, \"#fb9f3a\"], [0.8888888888888888, \"#fdca26\"], [1.0, \"#f0f921\"]], \"type\": \"histogram2dcontour\"}], \"mesh3d\": [{\"colorbar\": {\"outlinewidth\": 0, \"ticks\": \"\"}, \"type\": \"mesh3d\"}], \"parcoords\": [{\"line\": {\"colorbar\": {\"outlinewidth\": 0, \"ticks\": \"\"}}, \"type\": \"parcoords\"}], \"pie\": [{\"automargin\": true, \"type\": \"pie\"}], \"scatter\": [{\"marker\": {\"colorbar\": {\"outlinewidth\": 0, \"ticks\": \"\"}}, \"type\": \"scatter\"}], \"scatter3d\": [{\"line\": {\"colorbar\": {\"outlinewidth\": 0, \"ticks\": \"\"}}, \"marker\": {\"colorbar\": {\"outlinewidth\": 0, \"ticks\": \"\"}}, \"type\": \"scatter3d\"}], \"scattercarpet\": [{\"marker\": {\"colorbar\": {\"outlinewidth\": 0, \"ticks\": \"\"}}, \"type\": \"scattercarpet\"}], \"scattergeo\": [{\"marker\": {\"colorbar\": {\"outlinewidth\": 0, \"ticks\": \"\"}}, \"type\": \"scattergeo\"}], \"scattergl\": [{\"marker\": {\"colorbar\": {\"outlinewidth\": 0, \"ticks\": \"\"}}, \"type\": \"scattergl\"}], \"scattermapbox\": [{\"marker\": {\"colorbar\": {\"outlinewidth\": 0, \"ticks\": \"\"}}, \"type\": \"scattermapbox\"}], \"scatterpolar\": [{\"marker\": {\"colorbar\": {\"outlinewidth\": 0, \"ticks\": \"\"}}, \"type\": \"scatterpolar\"}], \"scatterpolargl\": [{\"marker\": {\"colorbar\": {\"outlinewidth\": 0, \"ticks\": \"\"}}, \"type\": \"scatterpolargl\"}], \"scatterternary\": [{\"marker\": {\"colorbar\": {\"outlinewidth\": 0, \"ticks\": \"\"}}, \"type\": \"scatterternary\"}], \"surface\": [{\"colorbar\": {\"outlinewidth\": 0, \"ticks\": \"\"}, \"colorscale\": [[0.0, \"#0d0887\"], [0.1111111111111111, \"#46039f\"], [0.2222222222222222, \"#7201a8\"], [0.3333333333333333, \"#9c179e\"], [0.4444444444444444, \"#bd3786\"], [0.5555555555555556, \"#d8576b\"], [0.6666666666666666, \"#ed7953\"], [0.7777777777777778, \"#fb9f3a\"], [0.8888888888888888, \"#fdca26\"], [1.0, \"#f0f921\"]], \"type\": \"surface\"}], \"table\": [{\"cells\": {\"fill\": {\"color\": \"#EBF0F8\"}, \"line\": {\"color\": \"white\"}}, \"header\": {\"fill\": {\"color\": \"#C8D4E3\"}, \"line\": {\"color\": \"white\"}}, \"type\": \"table\"}]}, \"layout\": {\"annotationdefaults\": {\"arrowcolor\": \"#2a3f5f\", \"arrowhead\": 0, \"arrowwidth\": 1}, \"autotypenumbers\": \"strict\", \"coloraxis\": {\"colorbar\": {\"outlinewidth\": 0, \"ticks\": \"\"}}, \"colorscale\": {\"diverging\": [[0, \"#8e0152\"], [0.1, \"#c51b7d\"], [0.2, \"#de77ae\"], [0.3, \"#f1b6da\"], [0.4, \"#fde0ef\"], [0.5, \"#f7f7f7\"], [0.6, \"#e6f5d0\"], [0.7, \"#b8e186\"], [0.8, \"#7fbc41\"], [0.9, \"#4d9221\"], [1, \"#276419\"]], \"sequential\": [[0.0, \"#0d0887\"], [0.1111111111111111, \"#46039f\"], [0.2222222222222222, \"#7201a8\"], [0.3333333333333333, \"#9c179e\"], [0.4444444444444444, \"#bd3786\"], [0.5555555555555556, \"#d8576b\"], [0.6666666666666666, \"#ed7953\"], [0.7777777777777778, \"#fb9f3a\"], [0.8888888888888888, \"#fdca26\"], [1.0, \"#f0f921\"]], \"sequentialminus\": [[0.0, \"#0d0887\"], [0.1111111111111111, \"#46039f\"], [0.2222222222222222, \"#7201a8\"], [0.3333333333333333, \"#9c179e\"], [0.4444444444444444, \"#bd3786\"], [0.5555555555555556, \"#d8576b\"], [0.6666666666666666, \"#ed7953\"], [0.7777777777777778, \"#fb9f3a\"], [0.8888888888888888, \"#fdca26\"], [1.0, \"#f0f921\"]]}, \"colorway\": [\"#636efa\", \"#EF553B\", \"#00cc96\", \"#ab63fa\", \"#FFA15A\", \"#19d3f3\", \"#FF6692\", \"#B6E880\", \"#FF97FF\", \"#FECB52\"], \"font\": {\"color\": \"#2a3f5f\"}, \"geo\": {\"bgcolor\": \"white\", \"lakecolor\": \"white\", \"landcolor\": \"#E5ECF6\", \"showlakes\": true, \"showland\": true, \"subunitcolor\": \"white\"}, \"hoverlabel\": {\"align\": \"left\"}, \"hovermode\": \"closest\", \"mapbox\": {\"style\": \"light\"}, \"paper_bgcolor\": \"white\", \"plot_bgcolor\": \"#E5ECF6\", \"polar\": {\"angularaxis\": {\"gridcolor\": \"white\", \"linecolor\": \"white\", \"ticks\": \"\"}, \"bgcolor\": \"#E5ECF6\", \"radialaxis\": {\"gridcolor\": \"white\", \"linecolor\": \"white\", \"ticks\": \"\"}}, \"scene\": {\"xaxis\": {\"backgroundcolor\": \"#E5ECF6\", \"gridcolor\": \"white\", \"gridwidth\": 2, \"linecolor\": \"white\", \"showbackground\": true, \"ticks\": \"\", \"zerolinecolor\": \"white\"}, \"yaxis\": {\"backgroundcolor\": \"#E5ECF6\", \"gridcolor\": \"white\", \"gridwidth\": 2, \"linecolor\": \"white\", \"showbackground\": true, \"ticks\": \"\", \"zerolinecolor\": \"white\"}, \"zaxis\": {\"backgroundcolor\": \"#E5ECF6\", \"gridcolor\": \"white\", \"gridwidth\": 2, \"linecolor\": \"white\", \"showbackground\": true, \"ticks\": \"\", \"zerolinecolor\": \"white\"}}, \"shapedefaults\": {\"line\": {\"color\": \"#2a3f5f\"}}, \"ternary\": {\"aaxis\": {\"gridcolor\": \"white\", \"linecolor\": \"white\", \"ticks\": \"\"}, \"baxis\": {\"gridcolor\": \"white\", \"linecolor\": \"white\", \"ticks\": \"\"}, \"bgcolor\": \"#E5ECF6\", \"caxis\": {\"gridcolor\": \"white\", \"linecolor\": \"white\", \"ticks\": \"\"}}, \"title\": {\"x\": 0.05}, \"xaxis\": {\"automargin\": true, \"gridcolor\": \"white\", \"linecolor\": \"white\", \"ticks\": \"\", \"title\": {\"standoff\": 15}, \"zerolinecolor\": \"white\", \"zerolinewidth\": 2}, \"yaxis\": {\"automargin\": true, \"gridcolor\": \"white\", \"linecolor\": \"white\", \"ticks\": \"\", \"title\": {\"standoff\": 15}, \"zerolinecolor\": \"white\", \"zerolinewidth\": 2}}}, \"xaxis\": {\"anchor\": \"y\", \"domain\": [0.0, 1.0], \"title\": {\"text\": \"lifeExp\"}}, \"xaxis2\": {\"anchor\": \"y2\", \"domain\": [0.0, 1.0], \"matches\": \"x\", \"showgrid\": true, \"showticklabels\": false}, \"yaxis\": {\"anchor\": \"x\", \"domain\": [0.0, 0.7326], \"title\": {\"text\": \"count\"}}, \"yaxis2\": {\"anchor\": \"x2\", \"domain\": [0.7426, 1.0], \"matches\": \"y2\", \"showgrid\": false, \"showline\": false, \"showticklabels\": false, \"ticks\": \"\"}},                        {\"responsive\": true}                    ).then(function(){\n",
       "                            \n",
       "var gd = document.getElementById('e6f17163-324b-48dc-8bed-b624ec6205aa');\n",
       "var x = new MutationObserver(function (mutations, observer) {{\n",
       "        var display = window.getComputedStyle(gd).display;\n",
       "        if (!display || display === 'none') {{\n",
       "            console.log([gd, 'removed!']);\n",
       "            Plotly.purge(gd);\n",
       "            observer.disconnect();\n",
       "        }}\n",
       "}});\n",
       "\n",
       "// Listen for the removal of the full notebook cells\n",
       "var notebookContainer = gd.closest('#notebook-container');\n",
       "if (notebookContainer) {{\n",
       "    x.observe(notebookContainer, {childList: true});\n",
       "}}\n",
       "\n",
       "// Listen for the clearing of the current output cell\n",
       "var outputEl = gd.closest('.output');\n",
       "if (outputEl) {{\n",
       "    x.observe(outputEl, {childList: true});\n",
       "}}\n",
       "\n",
       "                        })                };                });            </script>        </div>"
      ]
     },
     "metadata": {},
     "output_type": "display_data"
    }
   ],
   "source": [
    "fig = px.histogram(gapminder_2007,\n",
    "                  x='lifeExp', \n",
    "                  color='continent',\n",
    "                  marginal='rug',\n",
    "                  hover_data=['country', 'gdpPercap'],   # 호버시 내용으로 표기\n",
    "                  hover_name='country')   # 호버시 상단에 크게 표기\n",
    "fig.show()"
   ]
  },
  {
   "cell_type": "code",
   "execution_count": 34,
   "metadata": {},
   "outputs": [
    {
     "data": {
      "application/vnd.plotly.v1+json": {
       "config": {
        "plotlyServerURL": "https://plot.ly"
       },
       "data": [
        {
         "type": "histogram",
         "y": [
          1.5021289893478322,
          -1.059199652744403,
          0.31997325424580353,
          -0.32978588467614955,
          -1.4645016709559184,
          0.02883120758749333,
          -1.426946844846475,
          -1.1117091383907187,
          -0.5716457951228607,
          -1.5613224363084688,
          1.4990965167973476,
          0.7314765512210063,
          1.2548414603414764,
          -1.2244653859641499,
          1.0390116079614846,
          0.716671997195782,
          0.6051695715363308,
          0.3903113569419058,
          -0.18786506341695686,
          -0.3599583386194665,
          -0.7662354600218223,
          -0.049206400189944176,
          0.8135555024138388,
          -0.6098289644275122,
          0.08444665281342748,
          -1.2093283135045185,
          -1.8502557688196273,
          -1.4164874112618848,
          0.33042517482978306,
          -1.2202807587435966,
          0.29947918812231,
          -0.6514896687781966,
          -0.20600262269744402,
          -0.7410974573096305,
          0.43238615716347967,
          0.7085900691345993,
          0.3905698150092641,
          -0.11149655551840061,
          0.6922794065435754,
          1.4697347949785171,
          -0.7415102469153871,
          0.9114783848792226,
          -1.5765109915999316,
          1.7116784378034842,
          1.8101339546194006,
          0.5677532510842707,
          -1.7176644448434315,
          -1.7632534961431534,
          2.444208874034179,
          0.7170070720155792,
          1.273132205330445,
          -1.5228236337525074,
          -1.0160452573151644,
          -0.6488910074078712,
          0.7386053699375824,
          0.061141508448234134,
          -0.7963519730982503,
          -0.03116401614713951,
          1.6230423031526242,
          0.6847918101863796,
          1.2701990835759218,
          1.1480711891100084,
          -0.5032679369897123,
          0.5022732321402964,
          -0.27007989671160176,
          -0.4807460885929295,
          0.15325262705834627,
          -0.4502694370871768,
          -0.04106363669727018,
          1.0895686704479663,
          0.17714570338519284,
          0.3523692764574894,
          -0.3252164275842335,
          -0.32996358529842384,
          0.7715581038401148,
          1.723540149403298,
          0.3037430855252358,
          -0.5766112607455836,
          0.8996696250591039,
          -0.6846403502292839,
          -0.15723329163814379,
          0.4263799447252442,
          1.7349333109363303,
          0.8248952238265382,
          0.1673740378068681,
          0.4927392725436982,
          0.6361695862260389,
          0.21028052244126905,
          0.7057487643163716,
          -0.78661818332039,
          -0.6902234825953316,
          0.16131291458938044,
          1.3009044699558179,
          -1.9621408691343867,
          -1.0878374493021798,
          0.2184402114170138,
          0.21905736583275576,
          0.18689827543173035,
          -0.34164621556207686,
          1.8346074784536175,
          -1.142896934436882,
          -1.2546348502519762,
          1.3718004850351906,
          0.13114158696982645,
          2.3202149971822226,
          0.3126599445273562,
          -0.677494775667542,
          1.257612035963275,
          -1.0666366810829584,
          -0.2553029937143613,
          -0.2596782690475347,
          0.6539476464290083,
          -0.1554776480633042,
          0.31906552536774424,
          1.517745049204739,
          1.322001004090181,
          1.4212224748525164,
          -0.17482227658511174,
          0.9882872358936022,
          0.28176979843436284,
          -0.8363401406586781,
          0.12429045010819594,
          -1.6454740470564015,
          1.4570498502232196,
          0.287560682680855,
          0.9950629114799453,
          0.46547601818155204,
          0.7998843487135368,
          1.035537599064508,
          -0.3240751922809409,
          -0.7677847084202855,
          -0.9373048801686147,
          1.3824092231112446,
          -0.8148557432494206,
          1.5992370015629092,
          -0.2600242275630079,
          0.25378321154834993,
          -1.135877323212676,
          -1.8216916881757879,
          0.874168233776021,
          -0.7476083426921988,
          -0.6742176792345443,
          -0.14972166707630302,
          -2.2251655445213827,
          1.1779021124556812,
          -0.7538295585107871,
          -1.0387975819695394,
          -0.6379244631160053,
          -1.587363289408435,
          -0.8221609383090855,
          -1.4182558667058471,
          0.35093212783970895,
          -0.882670301713037,
          0.41550742305523186,
          -0.6080634882783589,
          -0.30442657644042037,
          -0.22015215476613495,
          0.12164916226527127,
          -1.3189011411726164,
          -0.2747949569797028,
          0.1981788549870232,
          -1.336415482733976,
          -1.8382949649023426,
          -0.43475957999802467,
          0.208753624478902,
          0.3099653814085142,
          2.0295144614797604,
          -0.5961753933946257,
          -1.3405036411612192,
          0.8978711911295412,
          -0.8591308788668677,
          0.3685708830063434,
          1.116441477567114,
          -1.957290981387525,
          0.9496714695413868,
          -0.1874341701482032,
          -1.6472622325734116,
          -1.122358667714211,
          0.03402554098236614,
          0.8703214455127078,
          0.6736280098040952,
          -2.034987393519708,
          -1.0351813988511633,
          -0.9627907670986587,
          -0.19453194204435223,
          -0.40693262562784394,
          -0.5063941999788276,
          -0.27650414254075945,
          0.9338831770395875,
          -0.6871860947087295,
          -1.1855512033896383,
          -1.0377163869629282,
          0.1882814498898542,
          -0.15209739837699982,
          -1.0081014120932292,
          0.7708531926332157,
          -0.04727523684021473,
          -0.9687057482870508,
          -0.2211789467033451,
          -1.4986745995788056,
          -0.2753362999759735,
          0.48254802738025593,
          -2.2015199684089093,
          -0.3594400203106213,
          0.6561920001891111,
          -2.1204759254999748,
          -0.27300077772179177,
          0.4768926153410434,
          0.4903823506182563,
          0.5891597495712022,
          -0.1924115595217352,
          0.8668014981984782,
          -0.2676073056550562,
          1.3070360641813987,
          0.7428517864551237,
          -1.4874271062825317,
          -0.7159766128345804,
          -0.38558118803942926,
          0.4711116610440658,
          0.6762418683858368,
          0.012283802924333443,
          1.9062457395649173,
          1.579303597914779,
          -0.6696222449108382,
          1.415171859253285,
          -0.27429013844746125,
          0.30619434639500537,
          1.5758156735416724,
          1.0015744394540165,
          -0.6155700407966622,
          -0.84718357381833,
          -0.9906898312044687,
          -1.8471769933406643,
          -0.04858186607787438,
          1.2882977713009327,
          1.1095560259768398,
          0.13716151087018938,
          0.691782622590409,
          0.4603543984393595,
          -0.6171055221367145,
          -0.8089543796466129,
          1.7930729973497352,
          -0.8317672284469994,
          0.04386057230397909,
          -0.5894269665390367,
          -1.5269638920994548,
          1.1794876666946954,
          0.5671734744916506,
          -0.010304995646034246,
          -0.8636441028185856,
          -0.7064147238225404,
          -0.2564078906318661,
          -2.300218228781343,
          0.7880136294793482,
          0.16800504305446076,
          0.9163603718119717,
          -0.18714228375128222,
          0.954755849259399,
          -0.2999872184308273,
          0.5218337908446107,
          1.0886209259078137,
          0.7636183460177485,
          0.5175387117394138,
          1.7035219421542576,
          -0.4401098734424397,
          -0.9292125827048318,
          -0.6441815130235636,
          0.12919666789900122,
          0.14816888254866087,
          0.8798295230581332,
          -0.5822164480262332,
          2.909560434964677,
          1.119861448544783,
          0.28499187162353484,
          1.583809335431103,
          -1.7710245955904542,
          0.350094335484942,
          0.26155431566948356,
          -0.5598724493552053,
          -1.1041418183938312,
          -1.1533519583392462,
          -0.1234958390168707,
          0.9514101887296466,
          0.541272310126746,
          -0.5329241082960734,
          0.13780600076392696,
          -0.3472825930614212,
          0.8999093387872037,
          1.436626046155373,
          0.04180277616767836,
          0.95041462133683,
          -0.026116305025974864,
          -0.29465162301419634,
          0.5917243759599781,
          -0.5936453151496887,
          0.9320169312530913,
          -0.5250723851683818,
          -0.6006279371200963,
          1.3913099397383726,
          0.8138371927687182,
          -0.9937435866421751,
          -1.0964978072064848,
          2.75851350984733,
          -1.7868078969288803,
          -0.44031819528217286,
          0.26283797813093673,
          -2.3681038482485137,
          -0.31519368431399897,
          -0.27462259260251515,
          0.4820835104498137,
          0.5094467778770767,
          0.7640966290067829,
          0.5934777873594205,
          0.9744757825769292,
          0.6883965389359362,
          0.9915198414751856,
          0.5383852503366259,
          -0.6001860462445187,
          -1.93589994799137,
          -1.311004276206627,
          0.04198476841778101,
          -0.24766349975885515,
          0.8316901278133463,
          0.5875706398549524,
          1.8453286738198307,
          1.0192340567490712,
          0.6215444544770277,
          0.059262592947617355,
          -0.015024688850040978,
          0.8510524151388587,
          1.2796759482382858,
          -0.05427979524548438,
          0.22367260900224278,
          1.4264187616847595,
          -0.41712554716693157,
          0.47915367101159506,
          0.3697411720340973,
          0.9641971797644391,
          0.07475023610498523,
          -0.2860567650310444,
          0.5748297587386161,
          -0.03491002488877004,
          -0.1742973428780873,
          -0.41753505214405184,
          -1.138453320845957,
          -0.47035914982912136,
          -0.42796062277442737,
          0.7372995421798596,
          -1.2162410926536869,
          0.0865115163934689,
          -0.12949681624344933,
          0.7242457423252401,
          1.0874531180543432,
          0.8228361145070713,
          -0.2982015516828492,
          -1.8584769007834212,
          -1.1965220231532117,
          1.9415682770713731,
          -0.08715538733714626,
          0.5360090225053622,
          -0.6055108182478871,
          1.118443569913583,
          0.2102960286469497,
          -1.2226760014435238,
          0.7427396550713794,
          -0.43367012628590007,
          0.02350314671876663,
          0.049217516194858375,
          -0.5915418133339888,
          0.6638085103860579,
          -2.85174863669507,
          0.26635785997936057,
          0.08374991065866658,
          -1.7774383930021007,
          -0.38927405781455415,
          -0.8236797325795879,
          1.629149847356434,
          0.41475104979521477,
          -1.2315037641530302,
          1.28933402857368,
          0.6515238582388203,
          1.2216913849589406,
          1.2707892161470493,
          0.06884427006699019,
          -0.7302238205353893,
          -0.2962424669912613,
          0.29069228710668554,
          1.3809880048582155,
          1.0011712200900797,
          -0.580168893461566,
          3.2538142476693728,
          0.41191977033880334,
          -0.07135268801897855,
          -0.9869768919806229,
          1.1250883392139337,
          0.009747399481926487,
          -0.5540583116929,
          -0.6997778920145045,
          0.2070340623336604,
          -0.47354795270794875,
          0.17302931078596712,
          0.9784580838376689,
          -1.049382778487985,
          0.41935314271378166,
          0.6537769685344482,
          -1.3846594696714511,
          -0.5233773896817177,
          0.06473454431182883,
          -1.3682724068921057,
          0.8863106671873119,
          0.5312569543562993,
          -1.1567096030408284,
          0.3007299235661584,
          -0.24935057884598563,
          -1.5517795473296236,
          -1.79316635583038,
          1.1487455651626364,
          0.6136188886385245,
          -2.221560329837118,
          -0.13661526268498927,
          -0.5107661890404661,
          -0.3233196741312134,
          -0.2737486631843226,
          -1.3237060090802968,
          -1.394405749338846,
          -0.5734940880270547,
          0.01637094002857318,
          0.8880916362300166,
          -0.781520912518503,
          1.6804181402655194,
          -0.7807850681266741,
          1.3216645797991462,
          0.8393472891584751,
          -0.02907234569324294,
          -1.6410366082016765,
          0.8992063173798661,
          -0.39192597864321327,
          1.7166360497353692,
          -1.6163833785295059,
          0.5137821300869094,
          -0.9114867930901823,
          -0.9916765890854862,
          0.3733876104464376,
          1.437605129948763,
          -1.4917781676260444,
          0.062067884833267375,
          2.648239231499085,
          -0.35898199845599826,
          -0.5922804431938737,
          -0.5989328095730057,
          -0.1326702077740435,
          -0.2696621324556088,
          0.6243996595819515,
          -1.2472818776817312,
          -1.373095330260627,
          -0.5093396124125434,
          -0.7570441004477484,
          -0.6598901668472477,
          0.2897144951880299,
          -0.30379661191572227,
          -1.244846223748705,
          -0.1997491866386773,
          1.1730477127956134,
          -0.09515802101216235,
          -0.03985106253217632,
          0.14211483317297288,
          1.9864527838539525,
          0.9982434744562748,
          -1.091478146883315,
          -0.33531390837897396,
          -0.24134662253498262,
          1.3831428478906873,
          0.559702827490353,
          -2.8221412300159447,
          0.7206612438221357,
          0.9158457007171954,
          1.0738771304290018,
          0.5230869552648575,
          -0.1352669133970217,
          -0.04859072331185465,
          -0.34498808722400626,
          0.21547780455233023,
          0.9441507126215385,
          -0.34238131348458944,
          -0.8170590481028557,
          0.026326910958883242,
          -0.2381526404683893,
          -0.42985620120802637,
          -0.2695861757827699,
          -0.8056268420772951,
          -0.536972278734871,
          -0.6190756665906183,
          -0.26718186351905393,
          0.953254980297575,
          0.2265657011920715,
          -0.9344711426618102,
          -1.2446355786516556,
          0.691688952454754,
          0.2339902322287137,
          -0.8402244913914235,
          1.0935110946632203,
          -2.036287131468898,
          -0.4780472503924995,
          1.4132623763832004,
          -0.14397706833500212,
          -0.20206360621020938,
          2.180711454916476,
          0.1439588504588319,
          -0.14481310328379207,
          -1.7933331508630224,
          -0.37198330623680315,
          0.23057162882376359,
          -0.6446580920437355,
          0.026228450747691416,
          1.0590231776763037,
          -0.5354975299781194,
          -1.8686889366763226,
          -1.1034274078378736,
          -0.5292636180710656,
          -1.0849725370051853,
          -0.6869800579358554,
          0.21579680053130917,
          0.2619786874613776,
          -0.9932907860962596,
          -1.7046089871955665,
          -0.46349422016930214,
          0.43630041575637185,
          0.024535405087064952,
          1.131675417261963,
          -0.8922637901155243,
          -1.0046851366335867,
          0.2491765483664206,
          1.7171222288973067,
          -0.23103189937253507,
          -0.5685312000578258,
          -1.6270736161007646,
          -0.4397963435744309,
          0.86997763432989,
          0.10482774001674837,
          -1.4885966066606215,
          0.12522759151903567,
          -0.6370461697121301,
          1.533693062690628,
          -0.31853988291168356,
          -0.775643414322156,
          0.4355467420178406,
          0.2221361012603057,
          0.31785651195872355,
          0.4883427587054368,
          -0.537015624484905,
          0.5209878515289085,
          -0.15838380848579459,
          1.133855140751237,
          -1.2497810042416972,
          0.001783722231667049,
          -1.2758030191236238,
          0.606604140968632,
          -0.974268937648095,
          -0.4781906483396613,
          -0.9859196790756963,
          0.08270684640427232,
          -2.2544554129802745,
          1.0317719689048013,
          -0.42677147340077703,
          1.0332501846218978,
          0.6477194624238307,
          -1.305763556726823,
          1.1427856790615831,
          -0.17373086049490158,
          -0.05199746238639224,
          0.23966844562702044,
          1.7666407303132428,
          -1.445309145279229,
          -0.5658293538559481,
          -2.437610686584877,
          1.0432921865497267,
          1.686135248086547,
          -0.9284190127617882,
          0.09889062827677184,
          -1.1860696002711317,
          0.835914215754627,
          0.047182050841962066,
          0.5214262968568336,
          0.7186811016033321,
          0.9393541784714711,
          0.30011537317663395,
          0.5598031400318355,
          -0.09932898168779507,
          -0.6945860328052943,
          -0.9399059608069898,
          0.28461110229860304,
          -0.5258708115779195,
          0.9070014291927619,
          -0.5177477164232033,
          1.0587966747702262,
          1.2045868712526606,
          1.4441719898359788,
          -0.3011595121687758,
          0.05837761063861857,
          -1.8693750947502787,
          -0.9284469664698934,
          -0.47436396403963516,
          2.0553594116158105,
          0.8473933102965568,
          1.3745048787830936,
          -1.8797237840019887,
          -0.49779972979350573,
          2.487591807577839,
          -2.595027327512131,
          -2.060986216162626,
          -0.9595466948804667,
          1.4712333090871834,
          1.2113768814809716,
          -1.9666603268609524,
          -1.3059626071642398,
          -1.1148705050873846,
          1.474986921736552,
          1.1144081442809592,
          -0.9018765960451078,
          2.3251529727737785,
          -0.765112803976172,
          -1.750677315080059,
          -0.5900213571754771,
          2.5659230881324397,
          -0.15249141739508743,
          -1.5153478452651512,
          -1.254172445841417,
          -0.3233654612814721,
          -0.1289856791757295,
          1.2063283489077317,
          -1.966013116653709,
          1.9497984087519464,
          0.1598441007622442,
          0.5993226964159193,
          0.9903965048833597,
          0.6510192163837674,
          -0.8126036188847942,
          0.14374324698378677,
          -0.14074711743938587,
          0.3006692830381138,
          1.2129782374587816,
          -0.3234938037244992,
          -0.4492832787441867,
          -0.08811393978800293,
          -1.3526175486979326,
          -0.3299012098186807,
          0.3100679054471927,
          0.17011684648358494,
          0.11378432280734166,
          0.287311796971747,
          -0.2642207830652781,
          -0.4219959016485756,
          0.857985463092515,
          -0.04831701737372805,
          0.9147957280317837,
          0.7055001311479838,
          1.3553319308389455,
          -0.6503862012767406,
          -1.2424018645665622,
          -0.9332213837410017,
          0.6455564033993924,
          -1.0711697616244042,
          1.1917731050440863,
          -1.2443016381656762,
          -0.4773207100955934,
          -0.018969427419223445,
          -0.3295074695204678,
          0.9490567596368511,
          0.4506611648104142,
          -0.2918350064039181,
          1.254913655265694,
          -0.9517594095448193,
          1.117997101153166,
          -0.20176988255035072,
          0.6527576868788644,
          1.5855005749259081,
          0.16303035288021456,
          0.11441167706983933,
          -0.0331247619478757,
          -0.7617045966551864,
          -0.4904156393395434,
          -1.2839300691593218,
          1.3814472049500304,
          -1.0267568510337624,
          1.4096230057952084,
          -0.6864263256239314,
          -0.6956188369480443,
          -0.29146734860925705,
          0.32685880168925113,
          0.14351332705915348,
          0.9892100705236635,
          -0.09214813547082057,
          -0.9313314803680877,
          -0.8196333822332807,
          -0.07188172022878468,
          0.10840149697568043,
          -0.9579985986419426,
          -0.07066813610494618,
          0.8203852596336765,
          -0.27006076591301725,
          -1.4122484422868402,
          0.9054193533444587,
          -0.5197526747375719,
          1.5665130109899135,
          -1.0454948323861781,
          0.5315300368509621,
          -0.10789104490200564,
          -0.8607356764069182,
          -0.6979861489547559,
          0.6013746645785197,
          -2.827973267812081,
          -0.6477766591930953,
          -1.5037431913676997,
          2.3504972638550843,
          1.0253076883297416,
          -0.40898960360986003,
          0.9052873481855983,
          -1.1591854559589112,
          -2.302463255192225,
          -0.9733947093503494,
          1.0256402834141327,
          -0.04466313636746344,
          0.28207332496982046,
          -1.2990116152013007,
          -0.5398191107507355,
          1.220026055842713,
          1.3376573973799992,
          -0.6894215904788272,
          1.357231807074262,
          1.5423914434161974,
          0.14920798400490026,
          -0.09857226918818583,
          0.0673650136299946,
          -0.7583440677875856,
          -2.0454776292937447,
          -1.2467681221200106,
          2.2870214411356278,
          0.5213537318727972,
          -2.4187127623189144,
          -1.1515561940697088,
          0.35749461956832024,
          -0.9185273494243718,
          1.5907944248517272,
          0.6742594471726809,
          -0.5346520447086673,
          0.20828366154494748,
          0.02352779740159095,
          0.6943366525722168,
          -0.9969935216750534,
          0.16762612468216975,
          0.2146149731930791,
          -0.4360149972971897,
          2.5698072409802895,
          0.49304066137368985,
          -1.8304646055509632,
          -0.2227702406116695,
          -0.8142218696152842,
          -0.4672068728782985,
          -1.1365427927499216,
          0.16283669877430834,
          -0.09478920439399814,
          0.43091168648811656,
          -1.4601525267863986,
          2.300736523680512,
          0.8165088430675164,
          -1.211019998603822,
          -0.2751160472354493,
          0.9360492017348196,
          0.8498234642753296,
          -1.3726960553077259,
          -0.9265995445794881,
          1.0334400313970324,
          1.8497080604005718,
          0.5636108380617126,
          -1.8889103706051709,
          -1.288761339502481,
          -0.7032361653823347,
          -0.2383075959638248,
          -0.02799612321846254,
          -0.46126564735186687,
          -0.908903364990559,
          -0.5693171876838816,
          1.407111705495196,
          0.30602007212445465,
          -0.13504521937310235,
          -2.976966704952768,
          0.716057295155421,
          1.3984633751020157,
          1.2198241337263125,
          -0.2614255956832928,
          0.9915396813013844,
          -0.3612090713747597,
          -1.0927402010218776,
          0.4587523020368689,
          1.3134912255260873,
          -1.2296370421697405,
          1.4237350601888117,
          1.2615758092052274,
          -0.48614444797934747,
          -1.4152330628354708,
          -1.395710063181666,
          -0.08574100733102184,
          0.35338496842402,
          -0.7114846486981308,
          -0.25006150312457426,
          0.6652556630067356,
          0.8766257814729362,
          1.6985680783197539,
          1.4271045616414575,
          -0.7350482563795846,
          -0.5644613418297564,
          -1.023555145327693,
          -0.7443135893435917,
          -1.0788788951450674,
          0.6555182669301743,
          0.7682265812806699,
          0.42114496807323426,
          0.854851066824526,
          -0.44198091065927986,
          -0.5719322070210404,
          0.32861850436661794,
          -0.18642933209661156,
          -0.9440201323693006,
          -1.3099003125158777,
          -1.0386719752691551,
          0.7345563622279936,
          0.26543070474920205,
          -0.15141229889417396,
          0.4843875224062056,
          1.8437571735525176,
          -0.4787679659464661,
          -1.1869309372862884,
          -0.09919394268927115,
          0.3808707873541212,
          -0.9655271434910351,
          -1.4069046449695535,
          1.2427449490653302,
          0.1644203914663697,
          0.057643067757283284,
          -0.24366007921031924,
          -0.39042789559083346,
          1.3814936333797645,
          -1.2667195394768613,
          0.9320439689944859,
          -0.3742525242911971,
          -0.8005637444186294,
          0.28394433481604336,
          0.6600876879695918,
          -0.46810360071803125,
          -0.8371335261011205,
          0.9786675145826758,
          0.13105678210075128,
          -1.8235079030102608,
          1.4272284569721778,
          -1.167787845496081,
          -0.12491508090905322,
          0.5068906779380433,
          1.119404569203891,
          -0.22325022796880356,
          0.29299115511500284,
          0.833618657892974,
          1.738273263778887,
          0.5890646434312196,
          0.12186625751408148,
          -0.04512820235133296,
          0.2833449183943774,
          0.5910941435484027,
          -1.5596195511943933,
          -0.6223537220474639,
          0.3456234781440005,
          -0.8743568131285864,
          0.48729833838052794,
          0.11947778274409196,
          -2.0985447442131804,
          -0.6077404705679262,
          1.6469310428835031,
          -1.1442263257196916,
          1.8378010257104227,
          -0.3579017444825467,
          0.0843818951305173,
          1.1646235857308818,
          -1.8693474168952695,
          -0.6767415798865545,
          -0.2176902759165132,
          -0.9295743311146114,
          -1.5488548694929993,
          0.6731847323108501,
          1.019753949915324,
          -0.5725802642844803,
          -0.16181384538272353,
          1.3109598605661437,
          -0.24256105961172555,
          -0.21636951687656472,
          0.5789190967651554,
          0.3958527706053003,
          1.3129213917701335,
          0.33967173633642744,
          -0.3506426742072704,
          -0.1879940705785426,
          0.3321219476345065,
          1.9270021872577767,
          -0.9854913286106758,
          -0.3421150021732234,
          0.04177669471081285,
          -0.46366475890440906,
          0.1853013383049614,
          -1.3375010803953762,
          0.7096513639871468,
          0.6791688571890213,
          -2.8070192386866943,
          0.31628140014506856,
          -0.20497239424688599,
          0.9937401311760667,
          1.3241154825918187,
          -0.6496768493964024,
          -0.9969813918619218,
          -0.40774770414368516,
          1.329172504785207,
          2.0378309132462737,
          -1.3023487080405398,
          0.05850286582305139,
          0.2514589316096712,
          0.2116794235681815,
          1.9996328294122188,
          -0.3226206354610555,
          1.5469541828083082,
          -0.31431817246283655,
          2.077007878525209,
          -1.0507400725859937,
          0.5773245511016961,
          -0.26970652189284366,
          -0.5732400764928061,
          -1.1501854354796153,
          -1.1884292015140814,
          0.05557059341222003,
          -0.10296814202471692,
          -1.440703464875384,
          0.7610078776026946,
          0.20072653944076604,
          -1.7036462609945617,
          -0.11060127756981916,
          -0.31180511154967333,
          -0.6278532354197673,
          -0.4961179215925752,
          -0.677180798591124,
          1.9411911675071358,
          -0.6579011844884989,
          0.012272921965145735,
          0.021254260025430766,
          1.3637767430949845,
          -1.0496569288282636,
          -0.3882054197884751,
          0.39706956115582315,
          0.42484379292924274,
          0.19160327012579786,
          -0.7548889757444099,
          -0.36461802935976884,
          -0.7247737626372062,
          -1.1916386039088418,
          0.1186235098833896,
          -0.6428014922384256,
          -2.135118965386395,
          1.981401793420281,
          1.3938751661187565,
          0.577350604311492,
          -0.21861419054143608,
          -0.23260410787967578,
          -0.8903628163004573,
          -0.1200089864316995,
          0.30668441097036453,
          -0.1861217239575631,
          0.6569575253526122,
          -0.012249428900077278,
          -1.2710653331961232,
          -0.6729349058183114,
          -0.42368615101234186,
          -0.9029050434419273,
          0.594469584209697,
          1.3505332036605844,
          0.31224753662113164,
          -2.478857027389184,
          0.32514575425862585,
          -0.032629406372310966,
          0.2871518512149309,
          -0.9640071784433651,
          0.8160657551672192,
          -0.4610508188332664,
          1.023297451914024,
          0.09206139981434207,
          0.5387601918883183,
          -0.06573862296205507,
          0.659681650113712,
          -0.38646998710801733,
          -0.14480388567911348,
          -2.0652823652316123,
          1.358930817055192,
          -0.10330791074311278,
          -0.012572729056718107,
          1.3089134456113212,
          -0.5552055128373453
         ]
        }
       ],
       "layout": {
        "template": {
         "data": {
          "bar": [
           {
            "error_x": {
             "color": "#2a3f5f"
            },
            "error_y": {
             "color": "#2a3f5f"
            },
            "marker": {
             "line": {
              "color": "#E5ECF6",
              "width": 0.5
             }
            },
            "type": "bar"
           }
          ],
          "barpolar": [
           {
            "marker": {
             "line": {
              "color": "#E5ECF6",
              "width": 0.5
             }
            },
            "type": "barpolar"
           }
          ],
          "carpet": [
           {
            "aaxis": {
             "endlinecolor": "#2a3f5f",
             "gridcolor": "white",
             "linecolor": "white",
             "minorgridcolor": "white",
             "startlinecolor": "#2a3f5f"
            },
            "baxis": {
             "endlinecolor": "#2a3f5f",
             "gridcolor": "white",
             "linecolor": "white",
             "minorgridcolor": "white",
             "startlinecolor": "#2a3f5f"
            },
            "type": "carpet"
           }
          ],
          "choropleth": [
           {
            "colorbar": {
             "outlinewidth": 0,
             "ticks": ""
            },
            "type": "choropleth"
           }
          ],
          "contour": [
           {
            "colorbar": {
             "outlinewidth": 0,
             "ticks": ""
            },
            "colorscale": [
             [
              0,
              "#0d0887"
             ],
             [
              0.1111111111111111,
              "#46039f"
             ],
             [
              0.2222222222222222,
              "#7201a8"
             ],
             [
              0.3333333333333333,
              "#9c179e"
             ],
             [
              0.4444444444444444,
              "#bd3786"
             ],
             [
              0.5555555555555556,
              "#d8576b"
             ],
             [
              0.6666666666666666,
              "#ed7953"
             ],
             [
              0.7777777777777778,
              "#fb9f3a"
             ],
             [
              0.8888888888888888,
              "#fdca26"
             ],
             [
              1,
              "#f0f921"
             ]
            ],
            "type": "contour"
           }
          ],
          "contourcarpet": [
           {
            "colorbar": {
             "outlinewidth": 0,
             "ticks": ""
            },
            "type": "contourcarpet"
           }
          ],
          "heatmap": [
           {
            "colorbar": {
             "outlinewidth": 0,
             "ticks": ""
            },
            "colorscale": [
             [
              0,
              "#0d0887"
             ],
             [
              0.1111111111111111,
              "#46039f"
             ],
             [
              0.2222222222222222,
              "#7201a8"
             ],
             [
              0.3333333333333333,
              "#9c179e"
             ],
             [
              0.4444444444444444,
              "#bd3786"
             ],
             [
              0.5555555555555556,
              "#d8576b"
             ],
             [
              0.6666666666666666,
              "#ed7953"
             ],
             [
              0.7777777777777778,
              "#fb9f3a"
             ],
             [
              0.8888888888888888,
              "#fdca26"
             ],
             [
              1,
              "#f0f921"
             ]
            ],
            "type": "heatmap"
           }
          ],
          "heatmapgl": [
           {
            "colorbar": {
             "outlinewidth": 0,
             "ticks": ""
            },
            "colorscale": [
             [
              0,
              "#0d0887"
             ],
             [
              0.1111111111111111,
              "#46039f"
             ],
             [
              0.2222222222222222,
              "#7201a8"
             ],
             [
              0.3333333333333333,
              "#9c179e"
             ],
             [
              0.4444444444444444,
              "#bd3786"
             ],
             [
              0.5555555555555556,
              "#d8576b"
             ],
             [
              0.6666666666666666,
              "#ed7953"
             ],
             [
              0.7777777777777778,
              "#fb9f3a"
             ],
             [
              0.8888888888888888,
              "#fdca26"
             ],
             [
              1,
              "#f0f921"
             ]
            ],
            "type": "heatmapgl"
           }
          ],
          "histogram": [
           {
            "marker": {
             "colorbar": {
              "outlinewidth": 0,
              "ticks": ""
             }
            },
            "type": "histogram"
           }
          ],
          "histogram2d": [
           {
            "colorbar": {
             "outlinewidth": 0,
             "ticks": ""
            },
            "colorscale": [
             [
              0,
              "#0d0887"
             ],
             [
              0.1111111111111111,
              "#46039f"
             ],
             [
              0.2222222222222222,
              "#7201a8"
             ],
             [
              0.3333333333333333,
              "#9c179e"
             ],
             [
              0.4444444444444444,
              "#bd3786"
             ],
             [
              0.5555555555555556,
              "#d8576b"
             ],
             [
              0.6666666666666666,
              "#ed7953"
             ],
             [
              0.7777777777777778,
              "#fb9f3a"
             ],
             [
              0.8888888888888888,
              "#fdca26"
             ],
             [
              1,
              "#f0f921"
             ]
            ],
            "type": "histogram2d"
           }
          ],
          "histogram2dcontour": [
           {
            "colorbar": {
             "outlinewidth": 0,
             "ticks": ""
            },
            "colorscale": [
             [
              0,
              "#0d0887"
             ],
             [
              0.1111111111111111,
              "#46039f"
             ],
             [
              0.2222222222222222,
              "#7201a8"
             ],
             [
              0.3333333333333333,
              "#9c179e"
             ],
             [
              0.4444444444444444,
              "#bd3786"
             ],
             [
              0.5555555555555556,
              "#d8576b"
             ],
             [
              0.6666666666666666,
              "#ed7953"
             ],
             [
              0.7777777777777778,
              "#fb9f3a"
             ],
             [
              0.8888888888888888,
              "#fdca26"
             ],
             [
              1,
              "#f0f921"
             ]
            ],
            "type": "histogram2dcontour"
           }
          ],
          "mesh3d": [
           {
            "colorbar": {
             "outlinewidth": 0,
             "ticks": ""
            },
            "type": "mesh3d"
           }
          ],
          "parcoords": [
           {
            "line": {
             "colorbar": {
              "outlinewidth": 0,
              "ticks": ""
             }
            },
            "type": "parcoords"
           }
          ],
          "pie": [
           {
            "automargin": true,
            "type": "pie"
           }
          ],
          "scatter": [
           {
            "marker": {
             "colorbar": {
              "outlinewidth": 0,
              "ticks": ""
             }
            },
            "type": "scatter"
           }
          ],
          "scatter3d": [
           {
            "line": {
             "colorbar": {
              "outlinewidth": 0,
              "ticks": ""
             }
            },
            "marker": {
             "colorbar": {
              "outlinewidth": 0,
              "ticks": ""
             }
            },
            "type": "scatter3d"
           }
          ],
          "scattercarpet": [
           {
            "marker": {
             "colorbar": {
              "outlinewidth": 0,
              "ticks": ""
             }
            },
            "type": "scattercarpet"
           }
          ],
          "scattergeo": [
           {
            "marker": {
             "colorbar": {
              "outlinewidth": 0,
              "ticks": ""
             }
            },
            "type": "scattergeo"
           }
          ],
          "scattergl": [
           {
            "marker": {
             "colorbar": {
              "outlinewidth": 0,
              "ticks": ""
             }
            },
            "type": "scattergl"
           }
          ],
          "scattermapbox": [
           {
            "marker": {
             "colorbar": {
              "outlinewidth": 0,
              "ticks": ""
             }
            },
            "type": "scattermapbox"
           }
          ],
          "scatterpolar": [
           {
            "marker": {
             "colorbar": {
              "outlinewidth": 0,
              "ticks": ""
             }
            },
            "type": "scatterpolar"
           }
          ],
          "scatterpolargl": [
           {
            "marker": {
             "colorbar": {
              "outlinewidth": 0,
              "ticks": ""
             }
            },
            "type": "scatterpolargl"
           }
          ],
          "scatterternary": [
           {
            "marker": {
             "colorbar": {
              "outlinewidth": 0,
              "ticks": ""
             }
            },
            "type": "scatterternary"
           }
          ],
          "surface": [
           {
            "colorbar": {
             "outlinewidth": 0,
             "ticks": ""
            },
            "colorscale": [
             [
              0,
              "#0d0887"
             ],
             [
              0.1111111111111111,
              "#46039f"
             ],
             [
              0.2222222222222222,
              "#7201a8"
             ],
             [
              0.3333333333333333,
              "#9c179e"
             ],
             [
              0.4444444444444444,
              "#bd3786"
             ],
             [
              0.5555555555555556,
              "#d8576b"
             ],
             [
              0.6666666666666666,
              "#ed7953"
             ],
             [
              0.7777777777777778,
              "#fb9f3a"
             ],
             [
              0.8888888888888888,
              "#fdca26"
             ],
             [
              1,
              "#f0f921"
             ]
            ],
            "type": "surface"
           }
          ],
          "table": [
           {
            "cells": {
             "fill": {
              "color": "#EBF0F8"
             },
             "line": {
              "color": "white"
             }
            },
            "header": {
             "fill": {
              "color": "#C8D4E3"
             },
             "line": {
              "color": "white"
             }
            },
            "type": "table"
           }
          ]
         },
         "layout": {
          "annotationdefaults": {
           "arrowcolor": "#2a3f5f",
           "arrowhead": 0,
           "arrowwidth": 1
          },
          "autotypenumbers": "strict",
          "coloraxis": {
           "colorbar": {
            "outlinewidth": 0,
            "ticks": ""
           }
          },
          "colorscale": {
           "diverging": [
            [
             0,
             "#8e0152"
            ],
            [
             0.1,
             "#c51b7d"
            ],
            [
             0.2,
             "#de77ae"
            ],
            [
             0.3,
             "#f1b6da"
            ],
            [
             0.4,
             "#fde0ef"
            ],
            [
             0.5,
             "#f7f7f7"
            ],
            [
             0.6,
             "#e6f5d0"
            ],
            [
             0.7,
             "#b8e186"
            ],
            [
             0.8,
             "#7fbc41"
            ],
            [
             0.9,
             "#4d9221"
            ],
            [
             1,
             "#276419"
            ]
           ],
           "sequential": [
            [
             0,
             "#0d0887"
            ],
            [
             0.1111111111111111,
             "#46039f"
            ],
            [
             0.2222222222222222,
             "#7201a8"
            ],
            [
             0.3333333333333333,
             "#9c179e"
            ],
            [
             0.4444444444444444,
             "#bd3786"
            ],
            [
             0.5555555555555556,
             "#d8576b"
            ],
            [
             0.6666666666666666,
             "#ed7953"
            ],
            [
             0.7777777777777778,
             "#fb9f3a"
            ],
            [
             0.8888888888888888,
             "#fdca26"
            ],
            [
             1,
             "#f0f921"
            ]
           ],
           "sequentialminus": [
            [
             0,
             "#0d0887"
            ],
            [
             0.1111111111111111,
             "#46039f"
            ],
            [
             0.2222222222222222,
             "#7201a8"
            ],
            [
             0.3333333333333333,
             "#9c179e"
            ],
            [
             0.4444444444444444,
             "#bd3786"
            ],
            [
             0.5555555555555556,
             "#d8576b"
            ],
            [
             0.6666666666666666,
             "#ed7953"
            ],
            [
             0.7777777777777778,
             "#fb9f3a"
            ],
            [
             0.8888888888888888,
             "#fdca26"
            ],
            [
             1,
             "#f0f921"
            ]
           ]
          },
          "colorway": [
           "#636efa",
           "#EF553B",
           "#00cc96",
           "#ab63fa",
           "#FFA15A",
           "#19d3f3",
           "#FF6692",
           "#B6E880",
           "#FF97FF",
           "#FECB52"
          ],
          "font": {
           "color": "#2a3f5f"
          },
          "geo": {
           "bgcolor": "white",
           "lakecolor": "white",
           "landcolor": "#E5ECF6",
           "showlakes": true,
           "showland": true,
           "subunitcolor": "white"
          },
          "hoverlabel": {
           "align": "left"
          },
          "hovermode": "closest",
          "mapbox": {
           "style": "light"
          },
          "paper_bgcolor": "white",
          "plot_bgcolor": "#E5ECF6",
          "polar": {
           "angularaxis": {
            "gridcolor": "white",
            "linecolor": "white",
            "ticks": ""
           },
           "bgcolor": "#E5ECF6",
           "radialaxis": {
            "gridcolor": "white",
            "linecolor": "white",
            "ticks": ""
           }
          },
          "scene": {
           "xaxis": {
            "backgroundcolor": "#E5ECF6",
            "gridcolor": "white",
            "gridwidth": 2,
            "linecolor": "white",
            "showbackground": true,
            "ticks": "",
            "zerolinecolor": "white"
           },
           "yaxis": {
            "backgroundcolor": "#E5ECF6",
            "gridcolor": "white",
            "gridwidth": 2,
            "linecolor": "white",
            "showbackground": true,
            "ticks": "",
            "zerolinecolor": "white"
           },
           "zaxis": {
            "backgroundcolor": "#E5ECF6",
            "gridcolor": "white",
            "gridwidth": 2,
            "linecolor": "white",
            "showbackground": true,
            "ticks": "",
            "zerolinecolor": "white"
           }
          },
          "shapedefaults": {
           "line": {
            "color": "#2a3f5f"
           }
          },
          "ternary": {
           "aaxis": {
            "gridcolor": "white",
            "linecolor": "white",
            "ticks": ""
           },
           "baxis": {
            "gridcolor": "white",
            "linecolor": "white",
            "ticks": ""
           },
           "bgcolor": "#E5ECF6",
           "caxis": {
            "gridcolor": "white",
            "linecolor": "white",
            "ticks": ""
           }
          },
          "title": {
           "x": 0.05
          },
          "xaxis": {
           "automargin": true,
           "gridcolor": "white",
           "linecolor": "white",
           "ticks": "",
           "title": {
            "standoff": 15
           },
           "zerolinecolor": "white",
           "zerolinewidth": 2
          },
          "yaxis": {
           "automargin": true,
           "gridcolor": "white",
           "linecolor": "white",
           "ticks": "",
           "title": {
            "standoff": 15
           },
           "zerolinecolor": "white",
           "zerolinewidth": 2
          }
         }
        }
       }
      },
      "text/html": [
       "<div>                            <div id=\"5cf77f03-89b6-4eca-894a-aa6d418bd18b\" class=\"plotly-graph-div\" style=\"height:525px; width:100%;\"></div>            <script type=\"text/javascript\">                require([\"plotly\"], function(Plotly) {                    window.PLOTLYENV=window.PLOTLYENV || {};                                    if (document.getElementById(\"5cf77f03-89b6-4eca-894a-aa6d418bd18b\")) {                    Plotly.newPlot(                        \"5cf77f03-89b6-4eca-894a-aa6d418bd18b\",                        [{\"type\": \"histogram\", \"y\": [1.5021289893478322, -1.059199652744403, 0.31997325424580353, -0.32978588467614955, -1.4645016709559184, 0.02883120758749333, -1.426946844846475, -1.1117091383907187, -0.5716457951228607, -1.5613224363084688, 1.4990965167973476, 0.7314765512210063, 1.2548414603414764, -1.2244653859641499, 1.0390116079614846, 0.716671997195782, 0.6051695715363308, 0.3903113569419058, -0.18786506341695686, -0.3599583386194665, -0.7662354600218223, -0.049206400189944176, 0.8135555024138388, -0.6098289644275122, 0.08444665281342748, -1.2093283135045185, -1.8502557688196273, -1.4164874112618848, 0.33042517482978306, -1.2202807587435966, 0.29947918812231, -0.6514896687781966, -0.20600262269744402, -0.7410974573096305, 0.43238615716347967, 0.7085900691345993, 0.3905698150092641, -0.11149655551840061, 0.6922794065435754, 1.4697347949785171, -0.7415102469153871, 0.9114783848792226, -1.5765109915999316, 1.7116784378034842, 1.8101339546194006, 0.5677532510842707, -1.7176644448434315, -1.7632534961431534, 2.444208874034179, 0.7170070720155792, 1.273132205330445, -1.5228236337525074, -1.0160452573151644, -0.6488910074078712, 0.7386053699375824, 0.061141508448234134, -0.7963519730982503, -0.03116401614713951, 1.6230423031526242, 0.6847918101863796, 1.2701990835759218, 1.1480711891100084, -0.5032679369897123, 0.5022732321402964, -0.27007989671160176, -0.4807460885929295, 0.15325262705834627, -0.4502694370871768, -0.04106363669727018, 1.0895686704479663, 0.17714570338519284, 0.3523692764574894, -0.3252164275842335, -0.32996358529842384, 0.7715581038401148, 1.723540149403298, 0.3037430855252358, -0.5766112607455836, 0.8996696250591039, -0.6846403502292839, -0.15723329163814379, 0.4263799447252442, 1.7349333109363303, 0.8248952238265382, 0.1673740378068681, 0.4927392725436982, 0.6361695862260389, 0.21028052244126905, 0.7057487643163716, -0.78661818332039, -0.6902234825953316, 0.16131291458938044, 1.3009044699558179, -1.9621408691343867, -1.0878374493021798, 0.2184402114170138, 0.21905736583275576, 0.18689827543173035, -0.34164621556207686, 1.8346074784536175, -1.142896934436882, -1.2546348502519762, 1.3718004850351906, 0.13114158696982645, 2.3202149971822226, 0.3126599445273562, -0.677494775667542, 1.257612035963275, -1.0666366810829584, -0.2553029937143613, -0.2596782690475347, 0.6539476464290083, -0.1554776480633042, 0.31906552536774424, 1.517745049204739, 1.322001004090181, 1.4212224748525164, -0.17482227658511174, 0.9882872358936022, 0.28176979843436284, -0.8363401406586781, 0.12429045010819594, -1.6454740470564015, 1.4570498502232196, 0.287560682680855, 0.9950629114799453, 0.46547601818155204, 0.7998843487135368, 1.035537599064508, -0.3240751922809409, -0.7677847084202855, -0.9373048801686147, 1.3824092231112446, -0.8148557432494206, 1.5992370015629092, -0.2600242275630079, 0.25378321154834993, -1.135877323212676, -1.8216916881757879, 0.874168233776021, -0.7476083426921988, -0.6742176792345443, -0.14972166707630302, -2.2251655445213827, 1.1779021124556812, -0.7538295585107871, -1.0387975819695394, -0.6379244631160053, -1.587363289408435, -0.8221609383090855, -1.4182558667058471, 0.35093212783970895, -0.882670301713037, 0.41550742305523186, -0.6080634882783589, -0.30442657644042037, -0.22015215476613495, 0.12164916226527127, -1.3189011411726164, -0.2747949569797028, 0.1981788549870232, -1.336415482733976, -1.8382949649023426, -0.43475957999802467, 0.208753624478902, 0.3099653814085142, 2.0295144614797604, -0.5961753933946257, -1.3405036411612192, 0.8978711911295412, -0.8591308788668677, 0.3685708830063434, 1.116441477567114, -1.957290981387525, 0.9496714695413868, -0.1874341701482032, -1.6472622325734116, -1.122358667714211, 0.03402554098236614, 0.8703214455127078, 0.6736280098040952, -2.034987393519708, -1.0351813988511633, -0.9627907670986587, -0.19453194204435223, -0.40693262562784394, -0.5063941999788276, -0.27650414254075945, 0.9338831770395875, -0.6871860947087295, -1.1855512033896383, -1.0377163869629282, 0.1882814498898542, -0.15209739837699982, -1.0081014120932292, 0.7708531926332157, -0.04727523684021473, -0.9687057482870508, -0.2211789467033451, -1.4986745995788056, -0.2753362999759735, 0.48254802738025593, -2.2015199684089093, -0.3594400203106213, 0.6561920001891111, -2.1204759254999748, -0.27300077772179177, 0.4768926153410434, 0.4903823506182563, 0.5891597495712022, -0.1924115595217352, 0.8668014981984782, -0.2676073056550562, 1.3070360641813987, 0.7428517864551237, -1.4874271062825317, -0.7159766128345804, -0.38558118803942926, 0.4711116610440658, 0.6762418683858368, 0.012283802924333443, 1.9062457395649173, 1.579303597914779, -0.6696222449108382, 1.415171859253285, -0.27429013844746125, 0.30619434639500537, 1.5758156735416724, 1.0015744394540165, -0.6155700407966622, -0.84718357381833, -0.9906898312044687, -1.8471769933406643, -0.04858186607787438, 1.2882977713009327, 1.1095560259768398, 0.13716151087018938, 0.691782622590409, 0.4603543984393595, -0.6171055221367145, -0.8089543796466129, 1.7930729973497352, -0.8317672284469994, 0.04386057230397909, -0.5894269665390367, -1.5269638920994548, 1.1794876666946954, 0.5671734744916506, -0.010304995646034246, -0.8636441028185856, -0.7064147238225404, -0.2564078906318661, -2.300218228781343, 0.7880136294793482, 0.16800504305446076, 0.9163603718119717, -0.18714228375128222, 0.954755849259399, -0.2999872184308273, 0.5218337908446107, 1.0886209259078137, 0.7636183460177485, 0.5175387117394138, 1.7035219421542576, -0.4401098734424397, -0.9292125827048318, -0.6441815130235636, 0.12919666789900122, 0.14816888254866087, 0.8798295230581332, -0.5822164480262332, 2.909560434964677, 1.119861448544783, 0.28499187162353484, 1.583809335431103, -1.7710245955904542, 0.350094335484942, 0.26155431566948356, -0.5598724493552053, -1.1041418183938312, -1.1533519583392462, -0.1234958390168707, 0.9514101887296466, 0.541272310126746, -0.5329241082960734, 0.13780600076392696, -0.3472825930614212, 0.8999093387872037, 1.436626046155373, 0.04180277616767836, 0.95041462133683, -0.026116305025974864, -0.29465162301419634, 0.5917243759599781, -0.5936453151496887, 0.9320169312530913, -0.5250723851683818, -0.6006279371200963, 1.3913099397383726, 0.8138371927687182, -0.9937435866421751, -1.0964978072064848, 2.75851350984733, -1.7868078969288803, -0.44031819528217286, 0.26283797813093673, -2.3681038482485137, -0.31519368431399897, -0.27462259260251515, 0.4820835104498137, 0.5094467778770767, 0.7640966290067829, 0.5934777873594205, 0.9744757825769292, 0.6883965389359362, 0.9915198414751856, 0.5383852503366259, -0.6001860462445187, -1.93589994799137, -1.311004276206627, 0.04198476841778101, -0.24766349975885515, 0.8316901278133463, 0.5875706398549524, 1.8453286738198307, 1.0192340567490712, 0.6215444544770277, 0.059262592947617355, -0.015024688850040978, 0.8510524151388587, 1.2796759482382858, -0.05427979524548438, 0.22367260900224278, 1.4264187616847595, -0.41712554716693157, 0.47915367101159506, 0.3697411720340973, 0.9641971797644391, 0.07475023610498523, -0.2860567650310444, 0.5748297587386161, -0.03491002488877004, -0.1742973428780873, -0.41753505214405184, -1.138453320845957, -0.47035914982912136, -0.42796062277442737, 0.7372995421798596, -1.2162410926536869, 0.0865115163934689, -0.12949681624344933, 0.7242457423252401, 1.0874531180543432, 0.8228361145070713, -0.2982015516828492, -1.8584769007834212, -1.1965220231532117, 1.9415682770713731, -0.08715538733714626, 0.5360090225053622, -0.6055108182478871, 1.118443569913583, 0.2102960286469497, -1.2226760014435238, 0.7427396550713794, -0.43367012628590007, 0.02350314671876663, 0.049217516194858375, -0.5915418133339888, 0.6638085103860579, -2.85174863669507, 0.26635785997936057, 0.08374991065866658, -1.7774383930021007, -0.38927405781455415, -0.8236797325795879, 1.629149847356434, 0.41475104979521477, -1.2315037641530302, 1.28933402857368, 0.6515238582388203, 1.2216913849589406, 1.2707892161470493, 0.06884427006699019, -0.7302238205353893, -0.2962424669912613, 0.29069228710668554, 1.3809880048582155, 1.0011712200900797, -0.580168893461566, 3.2538142476693728, 0.41191977033880334, -0.07135268801897855, -0.9869768919806229, 1.1250883392139337, 0.009747399481926487, -0.5540583116929, -0.6997778920145045, 0.2070340623336604, -0.47354795270794875, 0.17302931078596712, 0.9784580838376689, -1.049382778487985, 0.41935314271378166, 0.6537769685344482, -1.3846594696714511, -0.5233773896817177, 0.06473454431182883, -1.3682724068921057, 0.8863106671873119, 0.5312569543562993, -1.1567096030408284, 0.3007299235661584, -0.24935057884598563, -1.5517795473296236, -1.79316635583038, 1.1487455651626364, 0.6136188886385245, -2.221560329837118, -0.13661526268498927, -0.5107661890404661, -0.3233196741312134, -0.2737486631843226, -1.3237060090802968, -1.394405749338846, -0.5734940880270547, 0.01637094002857318, 0.8880916362300166, -0.781520912518503, 1.6804181402655194, -0.7807850681266741, 1.3216645797991462, 0.8393472891584751, -0.02907234569324294, -1.6410366082016765, 0.8992063173798661, -0.39192597864321327, 1.7166360497353692, -1.6163833785295059, 0.5137821300869094, -0.9114867930901823, -0.9916765890854862, 0.3733876104464376, 1.437605129948763, -1.4917781676260444, 0.062067884833267375, 2.648239231499085, -0.35898199845599826, -0.5922804431938737, -0.5989328095730057, -0.1326702077740435, -0.2696621324556088, 0.6243996595819515, -1.2472818776817312, -1.373095330260627, -0.5093396124125434, -0.7570441004477484, -0.6598901668472477, 0.2897144951880299, -0.30379661191572227, -1.244846223748705, -0.1997491866386773, 1.1730477127956134, -0.09515802101216235, -0.03985106253217632, 0.14211483317297288, 1.9864527838539525, 0.9982434744562748, -1.091478146883315, -0.33531390837897396, -0.24134662253498262, 1.3831428478906873, 0.559702827490353, -2.8221412300159447, 0.7206612438221357, 0.9158457007171954, 1.0738771304290018, 0.5230869552648575, -0.1352669133970217, -0.04859072331185465, -0.34498808722400626, 0.21547780455233023, 0.9441507126215385, -0.34238131348458944, -0.8170590481028557, 0.026326910958883242, -0.2381526404683893, -0.42985620120802637, -0.2695861757827699, -0.8056268420772951, -0.536972278734871, -0.6190756665906183, -0.26718186351905393, 0.953254980297575, 0.2265657011920715, -0.9344711426618102, -1.2446355786516556, 0.691688952454754, 0.2339902322287137, -0.8402244913914235, 1.0935110946632203, -2.036287131468898, -0.4780472503924995, 1.4132623763832004, -0.14397706833500212, -0.20206360621020938, 2.180711454916476, 0.1439588504588319, -0.14481310328379207, -1.7933331508630224, -0.37198330623680315, 0.23057162882376359, -0.6446580920437355, 0.026228450747691416, 1.0590231776763037, -0.5354975299781194, -1.8686889366763226, -1.1034274078378736, -0.5292636180710656, -1.0849725370051853, -0.6869800579358554, 0.21579680053130917, 0.2619786874613776, -0.9932907860962596, -1.7046089871955665, -0.46349422016930214, 0.43630041575637185, 0.024535405087064952, 1.131675417261963, -0.8922637901155243, -1.0046851366335867, 0.2491765483664206, 1.7171222288973067, -0.23103189937253507, -0.5685312000578258, -1.6270736161007646, -0.4397963435744309, 0.86997763432989, 0.10482774001674837, -1.4885966066606215, 0.12522759151903567, -0.6370461697121301, 1.533693062690628, -0.31853988291168356, -0.775643414322156, 0.4355467420178406, 0.2221361012603057, 0.31785651195872355, 0.4883427587054368, -0.537015624484905, 0.5209878515289085, -0.15838380848579459, 1.133855140751237, -1.2497810042416972, 0.001783722231667049, -1.2758030191236238, 0.606604140968632, -0.974268937648095, -0.4781906483396613, -0.9859196790756963, 0.08270684640427232, -2.2544554129802745, 1.0317719689048013, -0.42677147340077703, 1.0332501846218978, 0.6477194624238307, -1.305763556726823, 1.1427856790615831, -0.17373086049490158, -0.05199746238639224, 0.23966844562702044, 1.7666407303132428, -1.445309145279229, -0.5658293538559481, -2.437610686584877, 1.0432921865497267, 1.686135248086547, -0.9284190127617882, 0.09889062827677184, -1.1860696002711317, 0.835914215754627, 0.047182050841962066, 0.5214262968568336, 0.7186811016033321, 0.9393541784714711, 0.30011537317663395, 0.5598031400318355, -0.09932898168779507, -0.6945860328052943, -0.9399059608069898, 0.28461110229860304, -0.5258708115779195, 0.9070014291927619, -0.5177477164232033, 1.0587966747702262, 1.2045868712526606, 1.4441719898359788, -0.3011595121687758, 0.05837761063861857, -1.8693750947502787, -0.9284469664698934, -0.47436396403963516, 2.0553594116158105, 0.8473933102965568, 1.3745048787830936, -1.8797237840019887, -0.49779972979350573, 2.487591807577839, -2.595027327512131, -2.060986216162626, -0.9595466948804667, 1.4712333090871834, 1.2113768814809716, -1.9666603268609524, -1.3059626071642398, -1.1148705050873846, 1.474986921736552, 1.1144081442809592, -0.9018765960451078, 2.3251529727737785, -0.765112803976172, -1.750677315080059, -0.5900213571754771, 2.5659230881324397, -0.15249141739508743, -1.5153478452651512, -1.254172445841417, -0.3233654612814721, -0.1289856791757295, 1.2063283489077317, -1.966013116653709, 1.9497984087519464, 0.1598441007622442, 0.5993226964159193, 0.9903965048833597, 0.6510192163837674, -0.8126036188847942, 0.14374324698378677, -0.14074711743938587, 0.3006692830381138, 1.2129782374587816, -0.3234938037244992, -0.4492832787441867, -0.08811393978800293, -1.3526175486979326, -0.3299012098186807, 0.3100679054471927, 0.17011684648358494, 0.11378432280734166, 0.287311796971747, -0.2642207830652781, -0.4219959016485756, 0.857985463092515, -0.04831701737372805, 0.9147957280317837, 0.7055001311479838, 1.3553319308389455, -0.6503862012767406, -1.2424018645665622, -0.9332213837410017, 0.6455564033993924, -1.0711697616244042, 1.1917731050440863, -1.2443016381656762, -0.4773207100955934, -0.018969427419223445, -0.3295074695204678, 0.9490567596368511, 0.4506611648104142, -0.2918350064039181, 1.254913655265694, -0.9517594095448193, 1.117997101153166, -0.20176988255035072, 0.6527576868788644, 1.5855005749259081, 0.16303035288021456, 0.11441167706983933, -0.0331247619478757, -0.7617045966551864, -0.4904156393395434, -1.2839300691593218, 1.3814472049500304, -1.0267568510337624, 1.4096230057952084, -0.6864263256239314, -0.6956188369480443, -0.29146734860925705, 0.32685880168925113, 0.14351332705915348, 0.9892100705236635, -0.09214813547082057, -0.9313314803680877, -0.8196333822332807, -0.07188172022878468, 0.10840149697568043, -0.9579985986419426, -0.07066813610494618, 0.8203852596336765, -0.27006076591301725, -1.4122484422868402, 0.9054193533444587, -0.5197526747375719, 1.5665130109899135, -1.0454948323861781, 0.5315300368509621, -0.10789104490200564, -0.8607356764069182, -0.6979861489547559, 0.6013746645785197, -2.827973267812081, -0.6477766591930953, -1.5037431913676997, 2.3504972638550843, 1.0253076883297416, -0.40898960360986003, 0.9052873481855983, -1.1591854559589112, -2.302463255192225, -0.9733947093503494, 1.0256402834141327, -0.04466313636746344, 0.28207332496982046, -1.2990116152013007, -0.5398191107507355, 1.220026055842713, 1.3376573973799992, -0.6894215904788272, 1.357231807074262, 1.5423914434161974, 0.14920798400490026, -0.09857226918818583, 0.0673650136299946, -0.7583440677875856, -2.0454776292937447, -1.2467681221200106, 2.2870214411356278, 0.5213537318727972, -2.4187127623189144, -1.1515561940697088, 0.35749461956832024, -0.9185273494243718, 1.5907944248517272, 0.6742594471726809, -0.5346520447086673, 0.20828366154494748, 0.02352779740159095, 0.6943366525722168, -0.9969935216750534, 0.16762612468216975, 0.2146149731930791, -0.4360149972971897, 2.5698072409802895, 0.49304066137368985, -1.8304646055509632, -0.2227702406116695, -0.8142218696152842, -0.4672068728782985, -1.1365427927499216, 0.16283669877430834, -0.09478920439399814, 0.43091168648811656, -1.4601525267863986, 2.300736523680512, 0.8165088430675164, -1.211019998603822, -0.2751160472354493, 0.9360492017348196, 0.8498234642753296, -1.3726960553077259, -0.9265995445794881, 1.0334400313970324, 1.8497080604005718, 0.5636108380617126, -1.8889103706051709, -1.288761339502481, -0.7032361653823347, -0.2383075959638248, -0.02799612321846254, -0.46126564735186687, -0.908903364990559, -0.5693171876838816, 1.407111705495196, 0.30602007212445465, -0.13504521937310235, -2.976966704952768, 0.716057295155421, 1.3984633751020157, 1.2198241337263125, -0.2614255956832928, 0.9915396813013844, -0.3612090713747597, -1.0927402010218776, 0.4587523020368689, 1.3134912255260873, -1.2296370421697405, 1.4237350601888117, 1.2615758092052274, -0.48614444797934747, -1.4152330628354708, -1.395710063181666, -0.08574100733102184, 0.35338496842402, -0.7114846486981308, -0.25006150312457426, 0.6652556630067356, 0.8766257814729362, 1.6985680783197539, 1.4271045616414575, -0.7350482563795846, -0.5644613418297564, -1.023555145327693, -0.7443135893435917, -1.0788788951450674, 0.6555182669301743, 0.7682265812806699, 0.42114496807323426, 0.854851066824526, -0.44198091065927986, -0.5719322070210404, 0.32861850436661794, -0.18642933209661156, -0.9440201323693006, -1.3099003125158777, -1.0386719752691551, 0.7345563622279936, 0.26543070474920205, -0.15141229889417396, 0.4843875224062056, 1.8437571735525176, -0.4787679659464661, -1.1869309372862884, -0.09919394268927115, 0.3808707873541212, -0.9655271434910351, -1.4069046449695535, 1.2427449490653302, 0.1644203914663697, 0.057643067757283284, -0.24366007921031924, -0.39042789559083346, 1.3814936333797645, -1.2667195394768613, 0.9320439689944859, -0.3742525242911971, -0.8005637444186294, 0.28394433481604336, 0.6600876879695918, -0.46810360071803125, -0.8371335261011205, 0.9786675145826758, 0.13105678210075128, -1.8235079030102608, 1.4272284569721778, -1.167787845496081, -0.12491508090905322, 0.5068906779380433, 1.119404569203891, -0.22325022796880356, 0.29299115511500284, 0.833618657892974, 1.738273263778887, 0.5890646434312196, 0.12186625751408148, -0.04512820235133296, 0.2833449183943774, 0.5910941435484027, -1.5596195511943933, -0.6223537220474639, 0.3456234781440005, -0.8743568131285864, 0.48729833838052794, 0.11947778274409196, -2.0985447442131804, -0.6077404705679262, 1.6469310428835031, -1.1442263257196916, 1.8378010257104227, -0.3579017444825467, 0.0843818951305173, 1.1646235857308818, -1.8693474168952695, -0.6767415798865545, -0.2176902759165132, -0.9295743311146114, -1.5488548694929993, 0.6731847323108501, 1.019753949915324, -0.5725802642844803, -0.16181384538272353, 1.3109598605661437, -0.24256105961172555, -0.21636951687656472, 0.5789190967651554, 0.3958527706053003, 1.3129213917701335, 0.33967173633642744, -0.3506426742072704, -0.1879940705785426, 0.3321219476345065, 1.9270021872577767, -0.9854913286106758, -0.3421150021732234, 0.04177669471081285, -0.46366475890440906, 0.1853013383049614, -1.3375010803953762, 0.7096513639871468, 0.6791688571890213, -2.8070192386866943, 0.31628140014506856, -0.20497239424688599, 0.9937401311760667, 1.3241154825918187, -0.6496768493964024, -0.9969813918619218, -0.40774770414368516, 1.329172504785207, 2.0378309132462737, -1.3023487080405398, 0.05850286582305139, 0.2514589316096712, 0.2116794235681815, 1.9996328294122188, -0.3226206354610555, 1.5469541828083082, -0.31431817246283655, 2.077007878525209, -1.0507400725859937, 0.5773245511016961, -0.26970652189284366, -0.5732400764928061, -1.1501854354796153, -1.1884292015140814, 0.05557059341222003, -0.10296814202471692, -1.440703464875384, 0.7610078776026946, 0.20072653944076604, -1.7036462609945617, -0.11060127756981916, -0.31180511154967333, -0.6278532354197673, -0.4961179215925752, -0.677180798591124, 1.9411911675071358, -0.6579011844884989, 0.012272921965145735, 0.021254260025430766, 1.3637767430949845, -1.0496569288282636, -0.3882054197884751, 0.39706956115582315, 0.42484379292924274, 0.19160327012579786, -0.7548889757444099, -0.36461802935976884, -0.7247737626372062, -1.1916386039088418, 0.1186235098833896, -0.6428014922384256, -2.135118965386395, 1.981401793420281, 1.3938751661187565, 0.577350604311492, -0.21861419054143608, -0.23260410787967578, -0.8903628163004573, -0.1200089864316995, 0.30668441097036453, -0.1861217239575631, 0.6569575253526122, -0.012249428900077278, -1.2710653331961232, -0.6729349058183114, -0.42368615101234186, -0.9029050434419273, 0.594469584209697, 1.3505332036605844, 0.31224753662113164, -2.478857027389184, 0.32514575425862585, -0.032629406372310966, 0.2871518512149309, -0.9640071784433651, 0.8160657551672192, -0.4610508188332664, 1.023297451914024, 0.09206139981434207, 0.5387601918883183, -0.06573862296205507, 0.659681650113712, -0.38646998710801733, -0.14480388567911348, -2.0652823652316123, 1.358930817055192, -0.10330791074311278, -0.012572729056718107, 1.3089134456113212, -0.5552055128373453]}],                        {\"template\": {\"data\": {\"bar\": [{\"error_x\": {\"color\": \"#2a3f5f\"}, \"error_y\": {\"color\": \"#2a3f5f\"}, \"marker\": {\"line\": {\"color\": \"#E5ECF6\", \"width\": 0.5}}, \"type\": \"bar\"}], \"barpolar\": [{\"marker\": {\"line\": {\"color\": \"#E5ECF6\", \"width\": 0.5}}, \"type\": \"barpolar\"}], \"carpet\": [{\"aaxis\": {\"endlinecolor\": \"#2a3f5f\", \"gridcolor\": \"white\", \"linecolor\": \"white\", \"minorgridcolor\": \"white\", \"startlinecolor\": \"#2a3f5f\"}, \"baxis\": {\"endlinecolor\": \"#2a3f5f\", \"gridcolor\": \"white\", \"linecolor\": \"white\", \"minorgridcolor\": \"white\", \"startlinecolor\": \"#2a3f5f\"}, \"type\": \"carpet\"}], \"choropleth\": [{\"colorbar\": {\"outlinewidth\": 0, \"ticks\": \"\"}, \"type\": \"choropleth\"}], \"contour\": [{\"colorbar\": {\"outlinewidth\": 0, \"ticks\": \"\"}, \"colorscale\": [[0.0, \"#0d0887\"], [0.1111111111111111, \"#46039f\"], [0.2222222222222222, \"#7201a8\"], [0.3333333333333333, \"#9c179e\"], [0.4444444444444444, \"#bd3786\"], [0.5555555555555556, \"#d8576b\"], [0.6666666666666666, \"#ed7953\"], [0.7777777777777778, \"#fb9f3a\"], [0.8888888888888888, \"#fdca26\"], [1.0, \"#f0f921\"]], \"type\": \"contour\"}], \"contourcarpet\": [{\"colorbar\": {\"outlinewidth\": 0, \"ticks\": \"\"}, \"type\": \"contourcarpet\"}], \"heatmap\": [{\"colorbar\": {\"outlinewidth\": 0, \"ticks\": \"\"}, \"colorscale\": [[0.0, \"#0d0887\"], [0.1111111111111111, \"#46039f\"], [0.2222222222222222, \"#7201a8\"], [0.3333333333333333, \"#9c179e\"], [0.4444444444444444, \"#bd3786\"], [0.5555555555555556, \"#d8576b\"], [0.6666666666666666, \"#ed7953\"], [0.7777777777777778, \"#fb9f3a\"], [0.8888888888888888, \"#fdca26\"], [1.0, \"#f0f921\"]], \"type\": \"heatmap\"}], \"heatmapgl\": [{\"colorbar\": {\"outlinewidth\": 0, \"ticks\": \"\"}, \"colorscale\": [[0.0, \"#0d0887\"], [0.1111111111111111, \"#46039f\"], [0.2222222222222222, \"#7201a8\"], [0.3333333333333333, \"#9c179e\"], [0.4444444444444444, \"#bd3786\"], [0.5555555555555556, \"#d8576b\"], [0.6666666666666666, \"#ed7953\"], [0.7777777777777778, \"#fb9f3a\"], [0.8888888888888888, \"#fdca26\"], [1.0, \"#f0f921\"]], \"type\": \"heatmapgl\"}], \"histogram\": [{\"marker\": {\"colorbar\": {\"outlinewidth\": 0, \"ticks\": \"\"}}, \"type\": \"histogram\"}], \"histogram2d\": [{\"colorbar\": {\"outlinewidth\": 0, \"ticks\": \"\"}, \"colorscale\": [[0.0, \"#0d0887\"], [0.1111111111111111, \"#46039f\"], [0.2222222222222222, \"#7201a8\"], [0.3333333333333333, \"#9c179e\"], [0.4444444444444444, \"#bd3786\"], [0.5555555555555556, \"#d8576b\"], [0.6666666666666666, \"#ed7953\"], [0.7777777777777778, \"#fb9f3a\"], [0.8888888888888888, \"#fdca26\"], [1.0, \"#f0f921\"]], \"type\": \"histogram2d\"}], \"histogram2dcontour\": [{\"colorbar\": {\"outlinewidth\": 0, \"ticks\": \"\"}, \"colorscale\": [[0.0, \"#0d0887\"], [0.1111111111111111, \"#46039f\"], [0.2222222222222222, \"#7201a8\"], [0.3333333333333333, \"#9c179e\"], [0.4444444444444444, \"#bd3786\"], [0.5555555555555556, \"#d8576b\"], [0.6666666666666666, \"#ed7953\"], [0.7777777777777778, \"#fb9f3a\"], [0.8888888888888888, \"#fdca26\"], [1.0, \"#f0f921\"]], \"type\": \"histogram2dcontour\"}], \"mesh3d\": [{\"colorbar\": {\"outlinewidth\": 0, \"ticks\": \"\"}, \"type\": \"mesh3d\"}], \"parcoords\": [{\"line\": {\"colorbar\": {\"outlinewidth\": 0, \"ticks\": \"\"}}, \"type\": \"parcoords\"}], \"pie\": [{\"automargin\": true, \"type\": \"pie\"}], \"scatter\": [{\"marker\": {\"colorbar\": {\"outlinewidth\": 0, \"ticks\": \"\"}}, \"type\": \"scatter\"}], \"scatter3d\": [{\"line\": {\"colorbar\": {\"outlinewidth\": 0, \"ticks\": \"\"}}, \"marker\": {\"colorbar\": {\"outlinewidth\": 0, \"ticks\": \"\"}}, \"type\": \"scatter3d\"}], \"scattercarpet\": [{\"marker\": {\"colorbar\": {\"outlinewidth\": 0, \"ticks\": \"\"}}, \"type\": \"scattercarpet\"}], \"scattergeo\": [{\"marker\": {\"colorbar\": {\"outlinewidth\": 0, \"ticks\": \"\"}}, \"type\": \"scattergeo\"}], \"scattergl\": [{\"marker\": {\"colorbar\": {\"outlinewidth\": 0, \"ticks\": \"\"}}, \"type\": \"scattergl\"}], \"scattermapbox\": [{\"marker\": {\"colorbar\": {\"outlinewidth\": 0, \"ticks\": \"\"}}, \"type\": \"scattermapbox\"}], \"scatterpolar\": [{\"marker\": {\"colorbar\": {\"outlinewidth\": 0, \"ticks\": \"\"}}, \"type\": \"scatterpolar\"}], \"scatterpolargl\": [{\"marker\": {\"colorbar\": {\"outlinewidth\": 0, \"ticks\": \"\"}}, \"type\": \"scatterpolargl\"}], \"scatterternary\": [{\"marker\": {\"colorbar\": {\"outlinewidth\": 0, \"ticks\": \"\"}}, \"type\": \"scatterternary\"}], \"surface\": [{\"colorbar\": {\"outlinewidth\": 0, \"ticks\": \"\"}, \"colorscale\": [[0.0, \"#0d0887\"], [0.1111111111111111, \"#46039f\"], [0.2222222222222222, \"#7201a8\"], [0.3333333333333333, \"#9c179e\"], [0.4444444444444444, \"#bd3786\"], [0.5555555555555556, \"#d8576b\"], [0.6666666666666666, \"#ed7953\"], [0.7777777777777778, \"#fb9f3a\"], [0.8888888888888888, \"#fdca26\"], [1.0, \"#f0f921\"]], \"type\": \"surface\"}], \"table\": [{\"cells\": {\"fill\": {\"color\": \"#EBF0F8\"}, \"line\": {\"color\": \"white\"}}, \"header\": {\"fill\": {\"color\": \"#C8D4E3\"}, \"line\": {\"color\": \"white\"}}, \"type\": \"table\"}]}, \"layout\": {\"annotationdefaults\": {\"arrowcolor\": \"#2a3f5f\", \"arrowhead\": 0, \"arrowwidth\": 1}, \"autotypenumbers\": \"strict\", \"coloraxis\": {\"colorbar\": {\"outlinewidth\": 0, \"ticks\": \"\"}}, \"colorscale\": {\"diverging\": [[0, \"#8e0152\"], [0.1, \"#c51b7d\"], [0.2, \"#de77ae\"], [0.3, \"#f1b6da\"], [0.4, \"#fde0ef\"], [0.5, \"#f7f7f7\"], [0.6, \"#e6f5d0\"], [0.7, \"#b8e186\"], [0.8, \"#7fbc41\"], [0.9, \"#4d9221\"], [1, \"#276419\"]], \"sequential\": [[0.0, \"#0d0887\"], [0.1111111111111111, \"#46039f\"], [0.2222222222222222, \"#7201a8\"], [0.3333333333333333, \"#9c179e\"], [0.4444444444444444, \"#bd3786\"], [0.5555555555555556, \"#d8576b\"], [0.6666666666666666, \"#ed7953\"], [0.7777777777777778, \"#fb9f3a\"], [0.8888888888888888, \"#fdca26\"], [1.0, \"#f0f921\"]], \"sequentialminus\": [[0.0, \"#0d0887\"], [0.1111111111111111, \"#46039f\"], [0.2222222222222222, \"#7201a8\"], [0.3333333333333333, \"#9c179e\"], [0.4444444444444444, \"#bd3786\"], [0.5555555555555556, \"#d8576b\"], [0.6666666666666666, \"#ed7953\"], [0.7777777777777778, \"#fb9f3a\"], [0.8888888888888888, \"#fdca26\"], [1.0, \"#f0f921\"]]}, \"colorway\": [\"#636efa\", \"#EF553B\", \"#00cc96\", \"#ab63fa\", \"#FFA15A\", \"#19d3f3\", \"#FF6692\", \"#B6E880\", \"#FF97FF\", \"#FECB52\"], \"font\": {\"color\": \"#2a3f5f\"}, \"geo\": {\"bgcolor\": \"white\", \"lakecolor\": \"white\", \"landcolor\": \"#E5ECF6\", \"showlakes\": true, \"showland\": true, \"subunitcolor\": \"white\"}, \"hoverlabel\": {\"align\": \"left\"}, \"hovermode\": \"closest\", \"mapbox\": {\"style\": \"light\"}, \"paper_bgcolor\": \"white\", \"plot_bgcolor\": \"#E5ECF6\", \"polar\": {\"angularaxis\": {\"gridcolor\": \"white\", \"linecolor\": \"white\", \"ticks\": \"\"}, \"bgcolor\": \"#E5ECF6\", \"radialaxis\": {\"gridcolor\": \"white\", \"linecolor\": \"white\", \"ticks\": \"\"}}, \"scene\": {\"xaxis\": {\"backgroundcolor\": \"#E5ECF6\", \"gridcolor\": \"white\", \"gridwidth\": 2, \"linecolor\": \"white\", \"showbackground\": true, \"ticks\": \"\", \"zerolinecolor\": \"white\"}, \"yaxis\": {\"backgroundcolor\": \"#E5ECF6\", \"gridcolor\": \"white\", \"gridwidth\": 2, \"linecolor\": \"white\", \"showbackground\": true, \"ticks\": \"\", \"zerolinecolor\": \"white\"}, \"zaxis\": {\"backgroundcolor\": \"#E5ECF6\", \"gridcolor\": \"white\", \"gridwidth\": 2, \"linecolor\": \"white\", \"showbackground\": true, \"ticks\": \"\", \"zerolinecolor\": \"white\"}}, \"shapedefaults\": {\"line\": {\"color\": \"#2a3f5f\"}}, \"ternary\": {\"aaxis\": {\"gridcolor\": \"white\", \"linecolor\": \"white\", \"ticks\": \"\"}, \"baxis\": {\"gridcolor\": \"white\", \"linecolor\": \"white\", \"ticks\": \"\"}, \"bgcolor\": \"#E5ECF6\", \"caxis\": {\"gridcolor\": \"white\", \"linecolor\": \"white\", \"ticks\": \"\"}}, \"title\": {\"x\": 0.05}, \"xaxis\": {\"automargin\": true, \"gridcolor\": \"white\", \"linecolor\": \"white\", \"ticks\": \"\", \"title\": {\"standoff\": 15}, \"zerolinecolor\": \"white\", \"zerolinewidth\": 2}, \"yaxis\": {\"automargin\": true, \"gridcolor\": \"white\", \"linecolor\": \"white\", \"ticks\": \"\", \"title\": {\"standoff\": 15}, \"zerolinecolor\": \"white\", \"zerolinewidth\": 2}}}},                        {\"responsive\": true}                    ).then(function(){\n",
       "                            \n",
       "var gd = document.getElementById('5cf77f03-89b6-4eca-894a-aa6d418bd18b');\n",
       "var x = new MutationObserver(function (mutations, observer) {{\n",
       "        var display = window.getComputedStyle(gd).display;\n",
       "        if (!display || display === 'none') {{\n",
       "            console.log([gd, 'removed!']);\n",
       "            Plotly.purge(gd);\n",
       "            observer.disconnect();\n",
       "        }}\n",
       "}});\n",
       "\n",
       "// Listen for the removal of the full notebook cells\n",
       "var notebookContainer = gd.closest('#notebook-container');\n",
       "if (notebookContainer) {{\n",
       "    x.observe(notebookContainer, {childList: true});\n",
       "}}\n",
       "\n",
       "// Listen for the clearing of the current output cell\n",
       "var outputEl = gd.closest('.output');\n",
       "if (outputEl) {{\n",
       "    x.observe(outputEl, {childList: true});\n",
       "}}\n",
       "\n",
       "                        })                };                });            </script>        </div>"
      ]
     },
     "metadata": {},
     "output_type": "display_data"
    }
   ],
   "source": [
    "n1 = np.random.randn(1000)\n",
    "n2 = np.random.randn(1000) + 1\n",
    "\n",
    "fig =go.Figure(data=[go.Histogram(y=n1)])  # y값을 주면 횡방향 히스토그램\n",
    "fig.show()"
   ]
  },
  {
   "cell_type": "code",
   "execution_count": 37,
   "metadata": {},
   "outputs": [
    {
     "data": {
      "application/vnd.plotly.v1+json": {
       "config": {
        "plotlyServerURL": "https://plot.ly"
       },
       "data": [
        {
         "opacity": 0.7,
         "type": "histogram",
         "x": [
          -0.7891103629960696,
          0.4392883121801303,
          -0.12341232665365605,
          1.399706364230258,
          0.07971238864941288,
          0.7460366842412218,
          -0.16796312239073127,
          -1.7020732044612332,
          0.9660469156799064,
          -2.3360519642174506,
          1.2203421890235158,
          -0.541643667624581,
          0.25663017256382237,
          0.07824817640315225,
          0.6867841592607603,
          0.3509539230746732,
          -0.25716954039893963,
          -2.0862746622871478,
          -1.002874550841574,
          0.2077816858060616,
          -1.4761464062284175,
          2.0145363102366654,
          0.8987052594399683,
          -1.995448097544827,
          -1.0294610063458358,
          -1.4862848093134218,
          -1.5249020864124823,
          0.11422908920111355,
          -1.2272653508406823,
          -0.38412474317847667,
          -0.17579003816350167,
          1.2114764972610867,
          0.31928697495955893,
          -0.3337434992050138,
          0.3843477047115922,
          -0.9666096588626455,
          1.0961730215633403,
          0.6258876410747944,
          1.259511869824021,
          1.3356399382532398,
          -0.282400771290257,
          -1.531552470301801,
          -0.5286678384266205,
          0.8472694282101141,
          -0.7048940113856235,
          0.6878113764714856,
          -0.6421468624644155,
          -0.6992281951599183,
          -0.18639545956111708,
          1.3160947310261009,
          -0.8017886692338421,
          2.4469903290118746,
          -0.014929244790863024,
          -1.56825019154523,
          -1.0459231474690651,
          0.6765001678711375,
          0.2881050297056718,
          1.023979626791551,
          0.7916358956095556,
          -0.23817812727314902,
          -0.7088822094087888,
          -1.3785775273006404,
          -0.7670751782156743,
          0.6070879387647808,
          -1.3982816377544556,
          -0.7179602899693694,
          -0.4314397056987802,
          1.586230016137475,
          0.7992415653837364,
          1.2407934974321515,
          -0.38699724933183993,
          0.6264106086678193,
          -0.6102751788405836,
          -0.5290601831483144,
          -0.9788990280087841,
          -0.8256450850661905,
          0.7184935598284833,
          0.8406146820428947,
          0.013305679828860557,
          -1.4616957424657127,
          -2.3191481069715616,
          -0.01733876521941055,
          -0.5165825368196768,
          -0.6277184835122459,
          0.6571645080047006,
          0.1764901327544813,
          -0.23190271723310185,
          -0.8824729520207582,
          -0.2390517235852872,
          0.9767159186581568,
          0.4185107775514049,
          -0.5109686882629787,
          -0.03170099534551514,
          -2.045349328521401,
          0.4452769027108404,
          -1.05938017905248,
          -1.1248692004940342,
          1.0802584052373094,
          1.5597927938972544,
          0.8856374138259402,
          -0.7607761281503707,
          -0.9684572216386659,
          0.47534280974106125,
          0.0938383933946659,
          -0.6092878266131495,
          0.9459797956690232,
          -0.07616402813847455,
          -0.2207398254781704,
          -0.39403409505766335,
          -0.09690008404554898,
          -0.42332912326950417,
          0.0764893310053557,
          2.04740454725217,
          0.2224311508567293,
          1.0160776867553571,
          1.1092623908475432,
          -0.8200974612627477,
          1.2311001599147247,
          -1.2294077770423713,
          0.9645775866987466,
          -2.1150820498085317,
          0.3140592994206873,
          -0.9652557670105418,
          -0.6396738956985996,
          0.5131344453673972,
          -0.7375997933860239,
          -0.6391616714891928,
          -0.6366984401433077,
          -0.9319063182906663,
          2.060914991365186,
          -1.0870057762369936,
          1.8062881364424994,
          0.7055848474714637,
          -0.6670872041374131,
          -2.7103289656437846,
          0.4816317112964683,
          -1.040361034049533,
          0.052871673026631254,
          0.30001085432366087,
          0.021419183693954666,
          0.3806518846902657,
          1.5168331247166955,
          0.550543753161996,
          -0.09909750734946536,
          1.2189227446618633,
          -0.48246899429789075,
          1.3085851524394632,
          0.6128315857821321,
          0.2597926670992964,
          1.0424582943673586,
          1.76100862397411,
          -1.186397659777341,
          -1.818383215582627,
          -0.06381329927081854,
          -1.429898926317344,
          -0.3649592488416388,
          -0.6425204312285401,
          1.2130918423811023,
          -1.6460426301806146,
          1.19468121385942,
          -1.0595584090568055,
          0.5632411990327506,
          0.3276592686511246,
          0.5481431903114737,
          0.354197977438906,
          -0.31450176975593286,
          0.7072909738305232,
          1.6036571994958733,
          0.40367304938873133,
          1.0235378105245325,
          0.5278875024983678,
          2.8778658083365753,
          0.33965208457801555,
          1.0721599921245537,
          -0.34737854272164487,
          0.9046971620898467,
          0.20885399801451965,
          -1.1073401894914405,
          0.9035960643905722,
          0.2427374958419916,
          1.608720517074609,
          -0.16706540401253242,
          1.4168576999872733,
          -0.1092037944785287,
          -1.1376362199895613,
          0.5502445978286915,
          -0.9609123012075378,
          1.1773614206806011,
          1.0754256109726423,
          0.35667277190989954,
          -1.2092269604189663,
          0.7328384409366434,
          -0.46101657556908365,
          -0.6005115775950458,
          1.8287138397326748,
          -1.5000609979201895,
          1.676947066751253,
          0.6284085754419653,
          0.2076411593018547,
          -2.0652996921657056,
          -0.7066651435164714,
          0.09469303700848855,
          -1.637887651042072,
          -1.9684060134659416,
          0.784411393296966,
          -0.20863974199874244,
          -0.21423680244010404,
          -0.1655493275034791,
          0.5564214568280561,
          -0.5519284795627183,
          2.573375534078787,
          0.8368775988477685,
          -0.15039864581999407,
          -0.609275414954401,
          -0.08187069783926439,
          -0.6658063311075545,
          -1.0871968419316618,
          -0.9239172208789858,
          1.927996479236861,
          -0.25830658236170073,
          -1.930071042026452,
          1.4438447545365878,
          0.40421384786463527,
          0.32061267068161425,
          -0.9689113790470923,
          1.3151702372428669,
          0.3158245556736372,
          2.2169745107100844,
          0.8942148078193976,
          -0.19894957373101538,
          -1.7157318343620045,
          0.540770739940476,
          0.05143328837530449,
          -0.07405067815438053,
          0.21701031484917685,
          -0.16926985224485683,
          1.485549500154804,
          0.2092120770899081,
          -1.1712904052261977,
          -1.6664957661731525,
          -0.5321256314713604,
          -1.9694840809174012,
          -0.9046560350361558,
          -0.2932975895781273,
          1.0312042509752968,
          -0.7357514196594486,
          -0.3027996352872088,
          -1.6063299375877438,
          0.1484138635790669,
          1.4741163085166173,
          -0.9659971664861371,
          -0.7703032370912586,
          -0.6288592936296307,
          -0.5562335596490249,
          -0.6236833158734179,
          -1.6560547558438194,
          0.3737566703502586,
          -0.11384408452953178,
          -0.5103032440094517,
          -0.34935652625608316,
          -1.7580117789649234,
          -1.4371456660754303,
          0.6981893792696113,
          0.5333715358868952,
          -1.4918687640316914,
          -0.5639151964450678,
          -0.41109540681711126,
          2.011778462497534,
          0.8843453969000026,
          -0.47340248448139205,
          -0.07523252960464309,
          -0.27923627817647556,
          0.5367533326334594,
          -0.1720860235614414,
          0.09969063445561023,
          0.5790758927171786,
          1.3135714352833445,
          1.3050439445631583,
          0.10761097277362602,
          -1.8183950600269219,
          0.8016825111338023,
          0.3679481121198729,
          -0.6300191623762338,
          0.1717894887511952,
          -0.4830435618654921,
          -1.1041204054546492,
          -1.0844662360962238,
          -0.22893211980922595,
          0.4532676472331273,
          0.9758268045084764,
          0.6960285649513696,
          0.5335429941862376,
          -0.1777732645877681,
          -0.0786162830152834,
          -0.37359206329801137,
          0.8501037541752497,
          -0.9964902246372846,
          0.30762578672207364,
          -0.6750850382454715,
          0.1271269047662608,
          -0.05668148496988878,
          0.9067617270643996,
          1.6017653868686461,
          -1.222821849383938,
          -0.8529221296236179,
          0.37642081640343644,
          -0.13155532086767485,
          -0.5466471844941877,
          1.3944698423054245,
          -1.307782072400621,
          -1.299158571064296,
          -0.9158181845398302,
          0.8047303280032303,
          0.43424635638533293,
          -0.5677793890533461,
          1.388045067573147,
          0.5405754920083394,
          0.3141346595974057,
          1.7010911156501776,
          0.6214498486795137,
          0.5950102935406715,
          0.6481634696821507,
          -0.2151205602059648,
          0.8538769345954962,
          -1.0384876981356093,
          1.8247599727798818,
          1.6413766907679965,
          -0.7803197614090781,
          -0.9938210927684255,
          -0.21456597376818706,
          -1.1023972376714202,
          0.547370983221858,
          -0.2566970691500609,
          -0.15597712168153993,
          0.3191600029824454,
          -1.6003825927697843,
          -0.15275032983949263,
          -0.7553647763269274,
          0.49595188248622907,
          -1.4650658325341828,
          -0.3092094509708521,
          -0.6803364725418929,
          -0.7675688312637162,
          0.48078137276166305,
          -1.0444648551737012,
          0.30810630458304766,
          -0.9327324622950949,
          0.4473570444154652,
          -0.371016727796744,
          -1.781161461884634,
          0.1789583000035152,
          -0.5904321244449485,
          1.7870574589202206,
          1.620458718133708,
          -0.49363593312658505,
          1.1905338118256625,
          0.13212872898160125,
          0.8104091596997683,
          -0.6979360074078825,
          -1.3349225173872343,
          -0.5241519922558091,
          -0.2366048738325731,
          -0.5342987842031804,
          -1.504635051681067,
          -0.0808853312839353,
          -0.5413259415252115,
          1.160478653275254,
          -0.2915042001125657,
          0.457642839943025,
          1.1730523599741707,
          -1.5618044092569288,
          -0.2907745121059548,
          -1.0637665224575337,
          1.3574988901534624,
          -0.2719124496573654,
          -0.6793234220310131,
          -1.1046341160401127,
          0.8280516016546476,
          -0.6336423654356178,
          1.0338242095884058,
          1.45722510755892,
          -0.5907358064889706,
          -1.1467067267758466,
          -1.2137748904368793,
          1.3766596379022376,
          1.3323631384702712,
          -0.09440820817675892,
          0.0012035638695695645,
          0.18460147178577915,
          0.44538157941267403,
          -1.313852124759585,
          -0.6682299010813524,
          -1.1029406274443134,
          1.7057649561881936,
          -1.8163334254525438,
          0.7962561932567594,
          -0.9506555320705261,
          -0.05563915588561841,
          0.7377658435712812,
          -0.2574647435913676,
          -0.04829513048966261,
          -1.474175885046682,
          1.7317715326770118,
          0.17769907682029665,
          2.2724932666563875,
          1.321734000035415,
          -0.8918155448382148,
          1.4214837278388346,
          1.3202766184817993,
          0.6016366535227906,
          1.1111008737149346,
          -0.29103869931090276,
          -1.3581134765997034,
          -0.6566478434614322,
          0.6008709171977238,
          -0.22344389350029475,
          0.34636678835780266,
          1.6348751781128026,
          0.14282775697907638,
          0.2536027824638864,
          0.9933310137383315,
          0.6487351168048036,
          -0.09967208130767095,
          0.3660879684123718,
          0.5850625193804073,
          0.5168958978128629,
          0.4545975901610176,
          -0.03583978615957343,
          -0.042885431419513974,
          -0.30565339810942826,
          -1.0266824970563817,
          -0.03558692434626185,
          0.13492911268805224,
          0.7350444990051529,
          -0.7570425939683583,
          0.2666641103168503,
          1.7991423436771052,
          -0.1872589652632625,
          -0.02079288685995904,
          0.29263054320961185,
          1.157460680765734,
          -0.08654262037171309,
          0.7368967715284155,
          0.5878028342890983,
          -0.7584475136051798,
          0.24796621381703798,
          -0.49484784504746726,
          1.8242947839482124,
          -0.28102439207681135,
          0.6191221634989782,
          -1.1282194189927912,
          -1.0018438839138948,
          1.545883489124157,
          -0.3693805745071721,
          0.9130328320241352,
          0.7765323760200288,
          -0.5278342802970114,
          1.1570636359751676,
          1.0530568683669779,
          0.31453556283432826,
          0.9251783995511179,
          1.2371762692806678,
          1.0018987045204804,
          0.7448727213749791,
          0.07683352511537737,
          -0.4211416964549543,
          -0.4526631180017299,
          -0.2722871538060052,
          0.19202221384041498,
          0.10225996371882952,
          -0.9206199896427071,
          -0.34235700066637115,
          0.40399905836307315,
          0.5049486450184839,
          -0.624868709537779,
          0.584889920458225,
          -0.9679472160134867,
          0.8199274967780543,
          0.15891740672645996,
          -1.535582412654867,
          -0.8193299628173967,
          0.31015743310705673,
          -1.840507384210733,
          -0.44242361489550674,
          1.0761652977720495,
          0.42799593277436976,
          -0.2265777344222464,
          1.2907780913478224,
          0.21963177977843418,
          1.5851126363228074,
          -1.1179846650675676,
          -0.5128469339773813,
          0.3917201209538022,
          1.3970749919379417,
          1.59900020045538,
          0.3313339524831611,
          -1.713941031827113,
          -1.8319580064872156,
          -1.089190189980081,
          1.020186010709625,
          -0.9298410139529482,
          0.16145017847193255,
          -1.246890108625425,
          0.4133240290093876,
          -2.58822824202139,
          2.1046080592159195,
          -0.6239784606116421,
          -0.474751934353206,
          2.2034832126290476,
          1.562485724589791,
          0.5260795574365325,
          0.6755902038883502,
          -1.7274186250259764,
          -1.3661321945904448,
          0.2460508865240898,
          0.9573625568230638,
          -2.7742720319527066,
          -1.6226718037219565,
          0.6275712493823793,
          -0.2281982405683631,
          -0.37101065969796915,
          -0.4820982317366221,
          -0.024907105280885633,
          0.10812233347321594,
          1.0084352535129086,
          1.2371942898443051,
          -0.4340441154653726,
          -2.184341984048465,
          1.1079595931287989,
          -0.15929557791739518,
          -0.24397716857720392,
          1.4801228428375732,
          -1.2132040833536515,
          0.5026065509984978,
          0.24714369608206518,
          0.5374366129117948,
          0.2849009009673784,
          -0.7835849453697223,
          1.0252543551433149,
          -0.2821666217000606,
          0.6625793914943783,
          0.4006657224926754,
          0.15732948010646827,
          -0.48371238651601006,
          0.6201126279802907,
          -0.7751991757913034,
          -0.8861744768645313,
          1.0648517695995317,
          -0.8204163258342643,
          1.661354973568525,
          -0.5457499900625067,
          -0.6848631682906363,
          -0.30832058780469024,
          0.20416768657019196,
          0.28846384274513637,
          0.9992917690623976,
          0.1672966720319236,
          -2.4635749668598015,
          1.104481958995484,
          0.027218174152554613,
          0.7614825306387971,
          1.8337911557782367,
          1.4335170892268474,
          -0.7941732004510733,
          1.3198924455385743,
          -0.8650403209337557,
          -0.24803300831752234,
          -0.0992713576614316,
          -1.2394181746970527,
          -0.2326327557729219,
          -0.3023015288220477,
          -0.06309388339178526,
          0.840579497309825,
          -0.3557612223627611,
          -0.6198518138867735,
          0.9629679427161703,
          -1.2061769848377943,
          1.7571783607896423,
          0.5959741671591116,
          -0.575778366290037,
          -0.07437569824347437,
          -0.1635206360567391,
          0.013112796430109156,
          1.3265220361648666,
          1.124454757190278,
          0.9403795655150669,
          0.116053790183913,
          -0.15659506884209076,
          0.9421411954953799,
          -0.5972306179066995,
          -1.086636309980705,
          -0.055861071834720194,
          0.8095102948357812,
          0.4368522642577593,
          0.3355429109535068,
          1.585168579321498,
          1.141220242012734,
          -0.12312323306274305,
          -0.39774026085385916,
          1.844760524811499,
          1.6758610120416606,
          0.023260462541341533,
          0.014349278437839048,
          -1.0464552158349492,
          -0.439368948609209,
          0.2062249055780496,
          -0.2515696696682221,
          -0.06579247260541125,
          1.4288827231236139,
          -0.5060890638415632,
          -0.36887235985675854,
          -0.7014055734906929,
          -1.4655221909915268,
          0.2023880101585983,
          0.8720699443065423,
          -0.8591141559539982,
          -0.7377181383816791,
          0.6112781497767641,
          -0.8144607245927848,
          0.5850041096927351,
          0.4844152475374349,
          0.5258410178929152,
          0.5979357306664108,
          -0.42266227895582004,
          1.4699041972881723,
          -0.5132940452232319,
          -0.6968511988446668,
          -0.6293987612223115,
          0.12644270580197942,
          1.2540748840995577,
          0.3273441048580045,
          0.3096788246944168,
          0.19379539746095112,
          1.193745689938057,
          1.545541862272756,
          0.2961798555445038,
          -1.5588998183830194,
          -1.0548460333882337,
          0.15260362182393225,
          -0.22500064540507073,
          2.212204306941177,
          2.433894473786306,
          0.23565196110567205,
          -0.9861376398675479,
          -0.3498182962853154,
          -0.9045795750449128,
          1.3623923338627273,
          -1.9213510443969348,
          -0.567060344947012,
          -1.7514636877441148,
          1.7517718029481275,
          -0.220473481530445,
          0.5525893868308689,
          -1.3119533399817547,
          0.553793017152568,
          1.1317307747490097,
          0.08673640864480552,
          0.6701788741441351,
          0.7734650775739657,
          -0.9295004588739797,
          -0.036992024207484764,
          -0.9188238435282023,
          0.4856586130144943,
          1.3596528060136546,
          0.4587804052722235,
          -1.0820145670433337,
          -0.42987505568242895,
          0.9590059384147961,
          -0.6486946382792204,
          3.2839791122689346,
          -0.8319443015759557,
          -1.343138708664875,
          0.04413091175227758,
          -0.6871025489697004,
          1.1052395507023545,
          -0.4800889374831424,
          -0.8343690348369076,
          0.7042746184028864,
          0.14098244756028816,
          -0.8121673598023719,
          -1.5463536488403147,
          -0.7092629077101598,
          0.3171145880987089,
          1.189758454148264,
          -0.4000718463936285,
          0.9538533453159647,
          1.1396012788549104,
          1.2135068086230174,
          1.6174637802739011,
          -1.1475308871787042,
          0.3009330271052359,
          -1.3638796432145874,
          1.3211236653848988,
          -0.17278154660904624,
          1.878618744367189,
          0.6792572206067042,
          -0.6453086591772953,
          0.525695386310616,
          -0.9797740196741509,
          0.5241505439490747,
          -0.2211435939384009,
          0.7244528657287634,
          -0.14922195319674283,
          -1.096044807641259,
          1.5181263988982407,
          0.35094466884180203,
          0.10277341197730601,
          -0.6467836398728098,
          -0.05833473230589806,
          -1.0400559715833142,
          -1.545067256331692,
          0.7553275974525376,
          -0.13689044315980628,
          -0.2298190584124536,
          -0.0067321577966741935,
          1.5015717394659926,
          0.19258222223935523,
          0.6451694035677665,
          0.6716652532762355,
          -0.9354379807485945,
          0.6714416420942686,
          -2.2444621343348494,
          0.055261491205160405,
          -0.2501041373099951,
          1.4916523078977204,
          -0.39131744742422364,
          0.9237386825875472,
          0.15728483607472626,
          -1.4080245851911866,
          -0.789020322198557,
          -0.2829320910741472,
          0.3891578082155316,
          2.359090379768272,
          0.030295080249416538,
          -0.32263924690569584,
          0.5494491679413397,
          -0.42771342834760173,
          0.7873160995882486,
          -0.20622829167171794,
          -0.49764366335362054,
          -0.772422469875496,
          0.4172390260060783,
          0.50211319796512,
          0.9523701941967315,
          -0.532743658459606,
          0.5182610678340993,
          0.9785937241451497,
          -0.9840269921186454,
          -0.8586928872735822,
          -0.6676891069197417,
          0.9283850737144588,
          -0.2501875409814494,
          0.8799184737969522,
          0.07297770703030587,
          0.7688536252356983,
          0.2666042748183799,
          1.2976786572437422,
          0.07117746505982998,
          1.651031175788471,
          -0.8081755101847368,
          2.3653336666722535,
          0.0707371176925476,
          0.08440482567314851,
          1.977564118110316,
          0.28201373333865143,
          0.7818738201591461,
          0.9192900064630813,
          -0.5289721208721168,
          1.612503235638572,
          1.6056451313768936,
          -0.15120264108299397,
          2.049880888331842,
          -0.4807641589698848,
          0.7103578300081883,
          -0.7641035302310971,
          1.6424384169781396,
          -1.3300163916142929,
          1.5096627010360135,
          -0.3231067033422779,
          -0.32691659718704624,
          0.2526997618214835,
          -0.9167637669605143,
          0.008262996657301621,
          -0.04752627877073254,
          -0.2640898868282342,
          -0.36221308590389784,
          -0.14427518728896743,
          -1.4374465988449538,
          -0.4633224838282674,
          0.20102739580612572,
          2.1047743003263557,
          -1.8574853788731995,
          0.33370349784402203,
          0.6110235024661352,
          -0.43663370861572054,
          -1.077013662836157,
          0.08600035743886146,
          0.21064748185855156,
          -0.7934086530745814,
          -1.5692186000885942,
          -0.49637934543413603,
          0.05335704857245706,
          -1.1545807650730688,
          0.38163428591294807,
          -0.6321914360228429,
          0.03361193983268136,
          2.6038376248964865,
          -1.0062802062667742,
          2.1667938140740657,
          0.3181100809807022,
          -1.7914885503380256,
          0.501966555316368,
          0.5114619405793407,
          0.36849535520550136,
          0.2527961387333797,
          1.7051452877009796,
          -0.5168745041903936,
          -0.5850791215416379,
          0.5159122687213681,
          -0.8808753352109383,
          0.12016581311035664,
          -0.3032421016092293,
          -1.3904895893100275,
          0.7275151626418297,
          0.5415701843464776,
          -1.4070567075178453,
          -0.7811428242911398,
          -0.25226373253005435,
          0.36341504124509166,
          -1.7203805526731024,
          1.272215382699913,
          -0.3758224023270005,
          -1.246649707832119,
          0.9117098016001333,
          -0.5900839646995039,
          -0.9759577128671153,
          1.0044741628927438,
          0.2786145060630449,
          0.795552557840561,
          0.28042726597000617,
          -0.8538451954188897,
          -0.38084286679891294,
          -0.009668961121583806,
          -0.9073233238338411,
          0.5660539159395553,
          0.3275842401154036,
          1.82188440579538,
          -1.098294289502234,
          -0.01734247081116016,
          -0.6006280663504682,
          1.177241765668944,
          -1.9262028312745134,
          -1.2971139485950867,
          1.5130163654390107,
          -0.7894803790019308,
          -0.9455924268994667,
          0.5581464508908993,
          -1.1030094996626432,
          -1.0976023026175323,
          -1.2313085801313313,
          1.870157384747665,
          0.7627991012641583,
          0.8298868545940515,
          -0.7576939732664872,
          -0.0727006213124928,
          0.4045107167227934,
          0.5319993869493941,
          1.932586708200992,
          1.7263765146483634,
          -0.21901171152739746,
          -1.0947078313002037,
          -0.1705530024068218,
          -1.6042755783151188,
          -0.10603009715338277,
          1.3862454750202549,
          -0.8394562807724701,
          0.12642104796481876,
          -0.8499786328979939,
          0.6733537784553724,
          -0.8119571473282053,
          -0.8013591816351593,
          -0.7311766182401427,
          -0.5471629498727516,
          -1.4412093298070816,
          0.8170812344937487,
          1.3616606727766392,
          1.0964032598175188,
          1.0219570051930995,
          0.5841677292360404,
          0.6313635511702055,
          -0.3255208122637948,
          -0.0908229896554031,
          1.637195835552511,
          -0.6835022463337564,
          -1.171990536088198,
          -1.5404098016425458,
          1.624212952108576,
          -0.6391959298398904,
          -1.0793581305953537,
          0.500892048507623,
          0.5358395266433982,
          0.07127328946266907,
          -1.0257145128064735,
          0.6417215267045914,
          -1.7204268450441655,
          -1.1031767562618864,
          1.3550973840499663,
          -0.0902741008461172,
          -0.15011581832055063,
          1.5213939717183071,
          0.45960157470390944,
          -1.8673677120255139,
          0.8992291524588,
          2.5597825542242387,
          0.20328834927954623,
          -1.4891058064665461,
          -0.6901234372769365,
          -1.3156102861476446,
          -1.7978490497187511,
          -0.47776448434022645,
          0.23619180096764716,
          -1.013588973771817,
          -0.33054625137182386,
          0.8319983489260597,
          -0.6090313281381025,
          -0.8341849674866416,
          -0.9984222369840429,
          0.3810303228702651,
          0.8944213503856355,
          -0.70810284365524,
          0.27017233655469813,
          -1.33288208479271,
          -1.1198765163083808,
          1.4045148929538556,
          0.3107845928486711,
          2.125040375109173,
          -0.02969849578151618,
          0.40756763779529864,
          -0.2408050713605244,
          0.58973119199164,
          -0.9615593714860339,
          -0.9617028426132274,
          -0.8909743219467917,
          0.16764475125694478,
          0.6931464195371893,
          0.712872383542604,
          -1.6254143684771667,
          1.7144326552195541,
          0.26330601037392926,
          1.468118259400773,
          0.36129276259426435,
          0.45619542212038144,
          -0.3897264199754003,
          -0.22488289451407134,
          -0.5907690741655176,
          1.2537076719301705,
          -0.33001060052510045,
          0.24674814847477985,
          -1.0936957424664095,
          1.5007666830190207,
          -1.7130741886856922,
          -0.22043836442396406,
          -0.9982247648760303,
          1.0928690375823815,
          -0.8589622989844383,
          -1.4435491926653583,
          1.0627948871677368,
          -1.6347988112063343,
          0.963754608013721,
          -1.2458102092316328,
          0.19578920241980152,
          0.5182255492383334,
          -0.43477034716615076,
          -0.9431735272254678,
          -0.5402216101800775,
          1.9093582980340698,
          0.3366892987281284,
          -0.16061384194277933,
          0.15680034452380207,
          0.7505297850060197,
          0.38590277402758516,
          -1.0327119146523105,
          0.16006807679811294,
          0.398000488948144,
          0.5174066228822678,
          -0.3628747272675474,
          -2.4813774515332137,
          1.306816382385876,
          0.8658978505484259,
          0.6201493257332649,
          -0.6684204008963243,
          2.500383797136062,
          -1.7326894670097395,
          0.8254412709301878,
          1.497978067707935,
          2.00941820869649,
          -1.8622282662683645,
          0.856966887202928,
          -0.47492539905463366,
          -0.0895703814362178
         ]
        },
        {
         "opacity": 0.7,
         "type": "histogram",
         "x": [
          1.4054972676462092,
          -0.04693304330703629,
          0.9332067599548101,
          0.5640928391794314,
          1.1467917408206603,
          0.5285033995005131,
          1.8083492163990718,
          -1.0484952326919803,
          -0.38301427416263256,
          1.588966515243226,
          0.7559868773910203,
          1.8890955092116557,
          -0.9490131457206312,
          0.934157692781804,
          1.257938606177147,
          2.045931344661252,
          0.8868880768705476,
          2.574429620283917,
          0.37885745215126043,
          0.5024006690645038,
          -0.20761816890304163,
          1.3830225979937603,
          -0.03811067617506736,
          1.5962954284636535,
          1.6474788706107901,
          1.4456669512869726,
          -0.12442474088264444,
          0.8156953907240178,
          3.2087571233154493,
          1.307645272811233,
          3.5228301563511484,
          0.6161112531344328,
          0.14032251886639469,
          -0.22764071798219043,
          2.934922448633833,
          0.083333864746854,
          1.279557610836619,
          0.9665844139284564,
          0.9766448203616183,
          -0.36658237836712715,
          1.2629426607216547,
          0.25012570406954615,
          2.180151693618547,
          0.07901742689718982,
          1.9666293157021915,
          -1.1955214873854123,
          0.09327094889806442,
          0.9246546891037521,
          1.1461971604233427,
          -0.10108484987218902,
          -0.9279493678607729,
          1.7583704206720308,
          2.5961226908755277,
          2.421093093944511,
          1.0478823059885218,
          1.8706217418104814,
          2.149691260324518,
          0.5189874811207185,
          -0.20423648595811583,
          -0.16930877478870854,
          1.8536910094294714,
          3.0109865970486758,
          0.13585707746328946,
          1.5915485252423802,
          0.6359651345606216,
          0.6929648312501063,
          0.22132027448095015,
          1.6339905431708504,
          0.6547010855081767,
          0.9239706208358067,
          0.4718721468979924,
          0.7592467098696926,
          1.4428053756332944,
          1.6417641255875712,
          -0.5347286700109222,
          1.9693401690195511,
          -0.3322822692769327,
          0.8937337510967591,
          1.9064653645465,
          0.45756623811619224,
          -0.15417400483715227,
          0.7059356114957007,
          1.2199771929226426,
          1.3106880840061874,
          1.7080553915584764,
          4.043117821975914,
          -0.00246628835046403,
          0.9093700770053421,
          1.2831837656131866,
          2.001055498599154,
          2.4853919947199,
          1.9622494770436758,
          -0.13316679911341445,
          -0.3430805005147173,
          1.135483317710945,
          1.4365305587506645,
          -0.41109095569790033,
          1.7479125972101608,
          0.2518510060419612,
          2.523024207820879,
          1.1166352443577274,
          -0.08811247905909658,
          0.5964671202345171,
          1.8755206430982039,
          2.045727395550105,
          -1.8096880893652023,
          -0.6307348955543528,
          1.4921797227209193,
          0.6671660984613733,
          -0.3016111727893811,
          2.0990804666000633,
          0.5629765342896857,
          -0.6551493810606337,
          0.14099407852086976,
          0.278316237718625,
          0.012941617832422758,
          -0.2276562435949805,
          1.492655696445636,
          -0.000470379309813973,
          2.2942483734519072,
          -0.10993291501144387,
          1.0345468058000138,
          0.598448560295398,
          -0.8417763462377523,
          -0.31182949550028805,
          -1.2203755072513798,
          0.38532233216009315,
          1.0614479931878382,
          0.8608741109230894,
          1.7038148045242072,
          1.029404612171736,
          1.497497661008353,
          2.6511060955402463,
          1.8745630439768424,
          1.4443202895863596,
          1.9150879993413257,
          -0.26473207062157367,
          0.8302436225740664,
          0.19842409768261426,
          -0.8880520651883599,
          0.35714080988823793,
          1.6605237282916527,
          1.8302766409948374,
          0.02431970211438883,
          -0.39962535596451043,
          1.4024536797775249,
          1.344189205855018,
          0.5950819113463317,
          2.148095172295785,
          1.0431525434462223,
          2.3980973664997602,
          1.1746646886790495,
          1.1251293231724249,
          2.3563929353318986,
          -0.5918401232182089,
          1.5118660439234592,
          1.4085050363750735,
          0.9922443321324109,
          2.243845815102951,
          1.1085837915963002,
          3.82293866726469,
          0.28744175643022185,
          3.2290920090081676,
          0.9287061033873529,
          2.310381934087842,
          0.5966125786054794,
          0.3804674456853121,
          2.2425631517971247,
          1.8922313584740733,
          1.3549556139502026,
          1.5543734444879835,
          1.5609407639865862,
          2.2052142836092825,
          1.7782733768397652,
          2.929682527132979,
          2.7660176058772366,
          1.4430007825621685,
          0.07556497879146085,
          1.6295026277805338,
          1.4910315128477307,
          0.9544223401801253,
          1.655019493910659,
          1.0103335706702923,
          -1.2005876888845504,
          2.8054686131582707,
          0.7448194764682581,
          2.271703379369987,
          1.1947409903687252,
          1.6427016962120082,
          2.7433995731809317,
          0.0582752930466659,
          2.4578204873417357,
          1.3294410511703225,
          0.6261779661261244,
          0.5306586696735545,
          1.6639504523704478,
          1.8754953489907438,
          1.8170458213492409,
          -0.6915394421509218,
          1.8959913953707823,
          1.8841935795088403,
          2.0919858699576257,
          -0.6099471075849681,
          0.12634767437186312,
          2.4168545095076857,
          2.048090254906726,
          0.648157328213528,
          1.8123291064687121,
          0.6776543472615977,
          0.6949526701833344,
          1.319313155528548,
          0.907152598878381,
          1.8509574638674595,
          1.0294496844182413,
          0.38542945994089717,
          0.5412015644864144,
          0.834189852943979,
          2.030337409487378,
          -0.026194133261051578,
          -0.3137584875208139,
          1.7566822992850617,
          0.2841829383303285,
          2.4663555182202774,
          -0.24172038737901902,
          2.6144082874804146,
          0.2558966580308967,
          2.103015946166628,
          2.1350540398278497,
          -0.5083502836391764,
          1.2489759929894322,
          1.166741202716945,
          0.04618196485770465,
          0.4523298752827537,
          2.4951063359898673,
          3.2362106756438145,
          1.0732229532523818,
          1.84736907710773,
          -0.49366867328999375,
          0.7723863539718565,
          -0.311705316505543,
          1.0911937070411795,
          0.4264708051714171,
          1.6137584842929948,
          -1.3792074298468053,
          3.2754970340055727,
          3.2698287629057226,
          -0.5661834025356709,
          2.1034102211105576,
          -1.0288272807065484,
          0.6341425329189629,
          0.8536190791452849,
          2.4544218036757597,
          0.7384479952355367,
          0.17810219652042303,
          1.621364542567681,
          1.0116763263566069,
          0.14262229758863665,
          0.914550911011211,
          1.1315029236587553,
          1.0202215830708892,
          1.4065913805735828,
          2.632732045893782,
          0.9799764281442698,
          1.8977770199716932,
          0.8797458584866318,
          1.397367073834687,
          0.5731454503326925,
          2.8441636835763626,
          0.3308847960572383,
          -0.02576050583638012,
          1.391111787541178,
          0.09798683794513563,
          0.7257897507519332,
          0.0072146075719977665,
          0.13803618482644886,
          0.7617602211488284,
          0.9175204749197952,
          1.4047048109293698,
          2.1676654187282853,
          1.5373755501019326,
          1.7067893862093202,
          0.2518406810522875,
          0.8789849242240697,
          1.2354469559096313,
          1.5305501396508419,
          2.793462057509233,
          0.42278711049243245,
          -0.279528191217725,
          0.5524009167319743,
          2.885189457900676,
          0.0934233068704049,
          1.0075238145326655,
          1.813753112182111,
          1.0137491124085396,
          1.9378644318236695,
          0.890597381726698,
          -1.4867057015372382,
          0.6201366014431747,
          1.1182865163950542,
          2.2919752526469157,
          2.4751607718367783,
          1.31853174735582,
          2.0547455917358386,
          0.3631846871419997,
          0.5558642430193075,
          -0.7589885024442258,
          1.6182723704313253,
          2.4930370846561516,
          -1.132516338630333,
          0.1100544455614495,
          -0.01869258813919994,
          0.5662052195732871,
          -0.08613276630436362,
          -1.821496600974922,
          0.4786051142737229,
          1.891973161941165,
          2.392026944395295,
          -0.9150247779658911,
          0.8202405203649039,
          0.35267621856457254,
          0.33756070230743007,
          -0.7257680787156697,
          -1.1437056262069052,
          1.1835752971129183,
          0.043872621391612965,
          0.15271414487555746,
          0.8550606864572378,
          0.8300830484546782,
          3.905791079845245,
          0.7463626634886804,
          -0.1928448341218556,
          1.6287019939569833,
          2.5190264306046233,
          1.4503282442198642,
          0.324819066938027,
          2.4335928325823297,
          0.965170914522161,
          0.20965779286837172,
          1.7271363714577928,
          0.029653210010518682,
          0.7599241301043416,
          1.163690052151066,
          1.955402274562579,
          0.15382125891736942,
          1.700384054199043,
          0.4228809926417003,
          1.3186939216591227,
          -0.3173576993762359,
          0.16974421524058259,
          -0.3562716938585022,
          1.5693329619531577,
          0.6521270399929555,
          0.8290887169204153,
          1.4407829749159422,
          0.5409421205365702,
          0.8001947686588812,
          1.4819599041596647,
          1.65013127940606,
          0.6976170008724212,
          1.9540618184423972,
          -0.8601108354936375,
          2.4808245981134514,
          0.46265286288325436,
          1.250294477659251,
          1.2829384181749368,
          2.6494590887411325,
          2.916577553155231,
          0.614369107288817,
          0.14900965408046363,
          1.6375629095582598,
          1.0556146030218418,
          2.228348188656316,
          1.4091244046916112,
          1.5771052561776886,
          2.847974536158558,
          0.3851700118117962,
          1.4255125737662266,
          0.7445851636476133,
          -1.009080088280275,
          0.37751277285767004,
          0.2819290134676501,
          2.026884709890031,
          1.1395830150995354,
          1.575402106820103,
          0.26449530368914,
          -0.15086978570849507,
          0.6362258058355076,
          0.43685287394218253,
          1.5758996081493755,
          0.9654063085952993,
          2.14523229741192,
          1.0361892497654146,
          0.1653410702296303,
          1.427654596034179,
          2.3652905938534907,
          1.2592084700517383,
          1.2646539574397586,
          0.274078205316724,
          0.8357000604225107,
          -0.3242093080073849,
          -1.315489312003602,
          2.751063133008236,
          2.143497864124096,
          2.1006001059747095,
          1.7726067345811776,
          -0.17440139202029736,
          -0.567351768682737,
          0.7855437319765789,
          0.14565962625626583,
          0.7455373993582294,
          -0.439703113052168,
          0.35745548094898305,
          0.8374092395679966,
          1.4818944535322698,
          1.5719764502693114,
          -0.010924480962230643,
          0.3835814627666031,
          0.18387566990889193,
          1.0226025547469602,
          -0.1794597159172484,
          -0.4122445480639829,
          0.3513116048748679,
          0.5491399275231591,
          1.8522978331850615,
          2.63642004979439,
          1.1386866866705394,
          0.20999896710086408,
          1.6453434924132,
          -0.3485558467914851,
          0.3869488511337429,
          0.7613886227734147,
          -0.4673254748835596,
          1.0250639978775578,
          -0.5732887674932177,
          -0.6000842216340523,
          1.2351269115144747,
          -2.329742640821865,
          2.037078922424982,
          -0.3951812755397872,
          -0.3605691448352615,
          0.06273008223027021,
          2.243707895057243,
          0.8204296387218051,
          0.15483289889698393,
          0.4125024532365573,
          1.195746681144476,
          0.23826672877151178,
          2.0194114126298803,
          -0.24285581681722457,
          0.5380988847647048,
          2.0055765204047407,
          2.5210241146991743,
          -0.3921578299342723,
          1.214544746964684,
          1.8455928478647565,
          -0.1783328376631237,
          -0.9412695099749457,
          -1.123916446584809,
          2.825194645010108,
          -0.6249418936980666,
          1.0855884996703051,
          1.7267744996815613,
          1.8788511708486666,
          -0.09064728123301657,
          0.6436299810252998,
          1.8993352534332333,
          1.6936307595966023,
          0.5773240293031401,
          0.20710932835778606,
          1.9807787869078348,
          1.1994367321697312,
          -0.09995782878449067,
          -0.18040668197534981,
          0.2472566241869142,
          -1.0670746271875484,
          -0.026459633101713287,
          1.25726481979574,
          2.0212078419880255,
          -0.2988550991320964,
          -0.3226136386653329,
          1.7165254027646364,
          2.609765301487787,
          1.04304065091113,
          1.7445675489108345,
          -0.06426178440561259,
          3.8247898040958086,
          0.10678086315859114,
          0.6365886521679287,
          2.8322344670185604,
          2.578370813323583,
          0.4704695796925791,
          1.1491581069581411,
          0.11344506295017298,
          0.27390453543677706,
          0.07543734691264059,
          0.6353068704653825,
          -0.44939193812167244,
          1.4431834111320305,
          1.6990910150884204,
          0.9090556320058841,
          -0.5302066482159062,
          0.6396729716334868,
          1.5708007005201805,
          0.8176234827347821,
          0.9081064179324431,
          2.5656661279456436,
          -0.7705990163149399,
          2.578560722496178,
          1.172515373509164,
          1.59907906942822,
          1.9442415524534864,
          0.9023791128707201,
          0.2723291099068119,
          1.0066840913227875,
          0.4344047571038817,
          1.877347926182479,
          0.387234280539111,
          0.39588361442657904,
          0.5571803960622499,
          0.18302232681769637,
          2.114506741748457,
          1.5623545639233933,
          0.42944790106047537,
          2.21405276412563,
          0.2636019359349573,
          1.5955060080561396,
          1.9242850459921481,
          -1.8193074062147594,
          0.6988745666051559,
          0.7781689735884015,
          1.3433968692543874,
          2.822179318344369,
          1.722558622997001,
          1.7525540270228364,
          1.2720660755384376,
          1.1488552153419878,
          1.3962016448889147,
          1.9674102863803307,
          -0.3672352055051473,
          0.9273456729111302,
          0.6891106050596877,
          -2.001615069824613,
          0.6509319670536174,
          -0.011752129822900637,
          -0.3693762827803577,
          1.816961667033119,
          -1.1140116995490064,
          3.0098376257527786,
          0.5722471975449838,
          0.9233958839792019,
          1.0789103515615708,
          2.9747766735061374,
          2.39714887536477,
          -1.1534736900107894,
          2.910081114970361,
          0.5414915762916732,
          0.44868285817266707,
          1.5362226174306364,
          1.673801949590604,
          1.6551820243035575,
          1.6968274657812605,
          2.0504081698210177,
          1.5625253761690852,
          2.3466923944906393,
          1.559582892397065,
          1.118758783963315,
          1.1199335287983436,
          -0.29917976765133947,
          1.482828734396512,
          1.0959592537472804,
          0.0314634414170859,
          1.504540545045808,
          -0.7187862902845654,
          0.7146427379969479,
          0.31715169203577276,
          1.3705051100399284,
          0.6387883031329415,
          0.10914285158988268,
          0.5858776552305069,
          1.5213215505871736,
          0.41552537734941264,
          -0.5129650730256625,
          2.1680133672319286,
          0.5427205568844269,
          1.2806804100741618,
          1.2753322948349184,
          1.4647148854672882,
          1.631037175605905,
          2.0693667513871494,
          -0.19031840304487657,
          1.1940316015478132,
          1.332172950345765,
          1.6258892249467136,
          -0.1211181872650402,
          2.9335020114300385,
          1.653980995891287,
          1.083394100931824,
          0.19000238520438795,
          1.1636804056188006,
          -0.17730501939982934,
          2.0304212489512046,
          0.9720912919503013,
          0.2935811046462986,
          -0.4491024275480655,
          1.434902914547567,
          1.3003832955261927,
          0.4865453781666832,
          -0.8938129071765024,
          2.389457135444678,
          0.6505113657933236,
          1.8812853065293673,
          0.5963905505624685,
          3.1498602253345998,
          2.567833579449025,
          3.699783446163296,
          0.4396862995792986,
          1.7050661828954834,
          0.13282779183006188,
          1.3554419133289626,
          -0.9862139389612328,
          -0.3086964595890018,
          0.20837725861624878,
          -1.1345452021305533,
          0.2663241708201466,
          1.3885292867334642,
          3.043304765173078,
          1.647604665305468,
          1.5138376205401887,
          -0.6238064577657456,
          0.549142922662506,
          1.138753423921286,
          0.951874924126025,
          0.6877035736605251,
          1.9343307691362717,
          -1.2120439107621181,
          0.8025708479960741,
          1.7299440681435447,
          0.5807210504810766,
          2.427380482198009,
          -1.6927191142234985,
          1.0750398797594316,
          0.7099586435043721,
          1.570999601887956,
          -1.599318921635763,
          1.6104338160195506,
          -0.4613616271999812,
          2.291142988445211,
          1.1790482116268024,
          1.0392253070105493,
          0.19742687054378738,
          2.2215933445268727,
          3.4456126023772318,
          -0.5185176180069524,
          1.062848797227374,
          3.1353680918348497,
          1.5034174409175667,
          2.4519943526782795,
          2.1178286102276758,
          0.9499925743587829,
          0.10226104021440341,
          2.4652568488020012,
          1.6066085940737853,
          2.4998512786418035,
          2.3180729985792974,
          0.4344129555443047,
          1.7168127173772507,
          0.5182759816286069,
          3.020296937922034,
          2.3085634430390414,
          0.9486510891874591,
          0.2463821153374317,
          2.86281685798895,
          1.0280616280572943,
          -0.09466495614428339,
          2.801982743940912,
          1.4342135288426612,
          1.1703518986075947,
          1.7498469246218584,
          2.824602947054314,
          3.4274275303667974,
          0.00763336729687758,
          0.7528247698469205,
          -0.018983902347349924,
          0.8873560307803238,
          1.010926124679197,
          0.4921737424667,
          1.8123531334231577,
          1.5914316914223896,
          0.027658973064073056,
          0.39465563255953295,
          1.360077973790008,
          1.7303629217069256,
          0.5578412246720563,
          0.5722575374902887,
          1.928617071572137,
          2.7009647809879116,
          0.7813738905462223,
          0.5607250253945197,
          1.0246232515524583,
          -0.22544942390916556,
          0.3112586085986411,
          0.8488271822386286,
          -0.8768487111641439,
          2.0743334582591864,
          1.6184692572743027,
          1.3427890644688862,
          -0.06769732890937519,
          1.91774684379441,
          1.3066349721425128,
          3.0227940582944997,
          0.2082512074799876,
          0.5354480454289843,
          1.7721626998314863,
          1.488565329300173,
          -1.0936947062525153,
          -0.4607523184321636,
          2.175693222957883,
          1.0315503997922604,
          1.0389709309199266,
          -0.19881873616247447,
          1.4908558334746365,
          1.1518616234552161,
          1.1238460263179204,
          0.7559544795307183,
          0.891016598632473,
          1.7167223685667703,
          0.9860444222537823,
          -1.2225232443670615,
          0.8188227097117519,
          3.3858056549259445,
          2.506300860295984,
          -0.0961224288857272,
          0.39162241030152456,
          3.4445013679682535,
          0.8069006468999183,
          2.9522968933181293,
          0.2996492796035749,
          0.9708316239287285,
          1.3284626169900784,
          1.0310669883486676,
          1.609786779558451,
          0.3864858470156174,
          0.4061485958924914,
          1.4576033911860302,
          0.7834310790800384,
          1.4405061633578327,
          -1.2443325349340109,
          0.4218078063859926,
          0.3638797228009637,
          -0.9176352254891333,
          -0.35645657079566373,
          0.9041818773011794,
          0.8713149952348447,
          0.2955395038662231,
          2.1798051308308635,
          -0.24122140523260716,
          0.5539645651812687,
          -0.15117793759637177,
          -0.18660732605081387,
          -0.2848590243861022,
          0.8279033806594516,
          2.6666983707742276,
          0.85037285553922,
          1.4676258336298285,
          0.6817532640958468,
          1.0450163902032734,
          2.221889245163403,
          1.9976518250918787,
          0.6508389500721528,
          0.33198431502389913,
          1.4757065245975896,
          1.8836572490020735,
          1.2658484205479157,
          1.2342138577964106,
          0.23584609308292104,
          4.248425252123187,
          0.6357496947104189,
          0.8671404225625212,
          2.3992693380837244,
          2.009822266347971,
          1.0127808978206208,
          2.2660320809684267,
          2.509963205382305,
          2.4027132957876134,
          -0.9832223352057823,
          1.085044007451704,
          0.792365786144758,
          2.265394209930962,
          0.7620780178771442,
          -0.19330024366234855,
          2.3101701206435683,
          0.8837776490946379,
          0.7135467968404381,
          2.1599658052009665,
          -0.5075399113182757,
          -0.15367685449292123,
          1.3230941174130753,
          0.8609560644471422,
          0.6088006590980839,
          2.004824932258164,
          0.4154472417250431,
          0.6466528335820685,
          3.105678623061873,
          1.5381302588017265,
          1.1372706560678714,
          2.225067781466533,
          1.2647281753019233,
          0.7049424896067471,
          1.0194451432529348,
          1.265787501214434,
          -0.5464321563650161,
          0.12873132091062967,
          1.7335332367547285,
          0.06385716826002064,
          2.9593325316950048,
          1.2971508768093067,
          -0.6671841233664129,
          0.9956841374974174,
          1.0154353614869278,
          0.32394793002191313,
          1.4423962654954776,
          1.2099749097702046,
          1.577612032378585,
          1.6124716868569327,
          0.6355426240998132,
          1.270593759832614,
          1.2103956506361262,
          2.391886650256252,
          0.6336372878782195,
          -0.6296214452005828,
          3.7152894682798,
          1.0271742859762405,
          1.0293825652511217,
          1.4717488959743374,
          1.4946305853205804,
          -0.1718170582143197,
          0.6230023773982449,
          2.518214918219132,
          2.8896894378610583,
          -1.142777977965423,
          0.3035888318819663,
          0.645036897771232,
          1.5137315646518221,
          -0.10509813520544276,
          3.472782196358473,
          1.5166608338336307,
          3.9274271696312235,
          1.147398649195268,
          1.27308666325955,
          2.9196588476297096,
          1.1131381179083082,
          0.19801418732374,
          1.1227994320367423,
          0.816061430232403,
          2.7085923079797505,
          1.5260511030704949,
          1.6539854697146195,
          1.3382633968752682,
          1.2278872608638411,
          2.908998906763406,
          2.552302958610607,
          2.52983824479482,
          3.063152044499823,
          1.171709980182445,
          -0.6027787372148279,
          3.4967283883386973,
          3.073036743558988,
          -0.19591812187329904,
          1.1256332006952197,
          1.3121394715198242,
          1.7927990427159415,
          0.9169629246036897,
          1.260614404810629,
          -0.9838348356198778,
          1.970901745401961,
          1.9518948711086788,
          1.7196565254320566,
          -0.006420317529032049,
          2.375659237761907,
          0.48215737255900104,
          1.2030890600485216,
          -0.12492707786710255,
          1.5780797616419084,
          0.7464057279113544,
          -0.26995187459988657,
          1.1921722686150462,
          0.8060468800487277,
          -0.7644092995606249,
          1.054882747306233,
          1.7934066336429528,
          0.3432340273752591,
          1.2545100899334471,
          2.479813309560928,
          1.0824975048564869,
          1.425123707141606,
          1.7727413338993587,
          0.6798731934660868,
          0.4089685017010807,
          2.3299068726056764,
          3.0657986004703854,
          0.4900185302832353,
          0.5158716868208866,
          0.7825456418910369,
          -0.585099623515593,
          1.6836515228882392,
          -0.6987081094769909,
          -0.25573257923814974,
          2.078547572901927,
          0.8832499780024519,
          2.335537564005874,
          0.866197184324561,
          1.3404642883872966,
          0.6135852577658192,
          0.9116017943018272,
          0.08918636055641527,
          1.7331799963512995,
          0.37949717912246017,
          -1.1607004660314661,
          0.0073382523660529,
          1.6663418176469698,
          2.1601648004518426,
          0.46607033816628873,
          1.4976801173633805,
          1.8089929385153645,
          0.0733659082111876,
          1.3993210024402694,
          0.49971656091124506,
          -0.00145236931129622,
          1.2584632001072862,
          -0.7944693794219169,
          0.47186695993529126,
          1.5573600715768148,
          0.16203494311594802,
          1.3970488426265533,
          1.0785347202971909,
          0.1818828311974957,
          2.2682104986987044,
          0.21987150252147236,
          2.108735222097084,
          1.4951452646084873,
          1.584232179428232,
          2.179104892166664,
          0.012479092702170624,
          0.9470514883529357,
          0.8493099260886036,
          1.2669779333652234,
          1.1652148332584837,
          0.08834520330811602,
          0.9768337729847535,
          -0.3477204083273957,
          -0.35994824411973214,
          0.47826915479899,
          0.5571686300915111,
          1.528301352395804,
          1.3845457263730598,
          0.7222609436959733,
          1.1977747176158287,
          1.6989310300383096,
          1.223587159329094,
          1.0424166801096215,
          0.578209163784368,
          1.0705049388939876,
          1.9310127117525446,
          2.3878907767227346,
          1.3758869037585884,
          2.8821424636689543,
          0.3985217308279384,
          1.7527786434743233,
          2.3341629482600474,
          1.6075787045610368,
          1.6818690447590894,
          1.4800222693649503,
          -0.7739828326583404,
          1.0754367073524231,
          -0.6351332209438074,
          1.0785885687989254,
          1.5095145709235958,
          0.13102844348082443,
          1.4402412414806678,
          0.6922266638648811,
          1.4171461649923789,
          1.951624890817768,
          0.4977536715870836,
          2.0687316377856035,
          1.3221389895243552,
          0.40778109646970917,
          1.4552765967907038,
          0.15647273355875502,
          1.5958313444130647,
          0.38625167432292096,
          3.417907809132284,
          1.6174010674333863,
          1.2627808398985285,
          0.8978017452019112,
          2.400900196303118,
          1.839938540130579,
          1.3114738051310448,
          0.6602666379585751,
          0.9917750875040051,
          -0.6550426447424793
         ]
        }
       ],
       "layout": {
        "barmode": "overlay",
        "template": {
         "data": {
          "bar": [
           {
            "error_x": {
             "color": "#2a3f5f"
            },
            "error_y": {
             "color": "#2a3f5f"
            },
            "marker": {
             "line": {
              "color": "#E5ECF6",
              "width": 0.5
             }
            },
            "type": "bar"
           }
          ],
          "barpolar": [
           {
            "marker": {
             "line": {
              "color": "#E5ECF6",
              "width": 0.5
             }
            },
            "type": "barpolar"
           }
          ],
          "carpet": [
           {
            "aaxis": {
             "endlinecolor": "#2a3f5f",
             "gridcolor": "white",
             "linecolor": "white",
             "minorgridcolor": "white",
             "startlinecolor": "#2a3f5f"
            },
            "baxis": {
             "endlinecolor": "#2a3f5f",
             "gridcolor": "white",
             "linecolor": "white",
             "minorgridcolor": "white",
             "startlinecolor": "#2a3f5f"
            },
            "type": "carpet"
           }
          ],
          "choropleth": [
           {
            "colorbar": {
             "outlinewidth": 0,
             "ticks": ""
            },
            "type": "choropleth"
           }
          ],
          "contour": [
           {
            "colorbar": {
             "outlinewidth": 0,
             "ticks": ""
            },
            "colorscale": [
             [
              0,
              "#0d0887"
             ],
             [
              0.1111111111111111,
              "#46039f"
             ],
             [
              0.2222222222222222,
              "#7201a8"
             ],
             [
              0.3333333333333333,
              "#9c179e"
             ],
             [
              0.4444444444444444,
              "#bd3786"
             ],
             [
              0.5555555555555556,
              "#d8576b"
             ],
             [
              0.6666666666666666,
              "#ed7953"
             ],
             [
              0.7777777777777778,
              "#fb9f3a"
             ],
             [
              0.8888888888888888,
              "#fdca26"
             ],
             [
              1,
              "#f0f921"
             ]
            ],
            "type": "contour"
           }
          ],
          "contourcarpet": [
           {
            "colorbar": {
             "outlinewidth": 0,
             "ticks": ""
            },
            "type": "contourcarpet"
           }
          ],
          "heatmap": [
           {
            "colorbar": {
             "outlinewidth": 0,
             "ticks": ""
            },
            "colorscale": [
             [
              0,
              "#0d0887"
             ],
             [
              0.1111111111111111,
              "#46039f"
             ],
             [
              0.2222222222222222,
              "#7201a8"
             ],
             [
              0.3333333333333333,
              "#9c179e"
             ],
             [
              0.4444444444444444,
              "#bd3786"
             ],
             [
              0.5555555555555556,
              "#d8576b"
             ],
             [
              0.6666666666666666,
              "#ed7953"
             ],
             [
              0.7777777777777778,
              "#fb9f3a"
             ],
             [
              0.8888888888888888,
              "#fdca26"
             ],
             [
              1,
              "#f0f921"
             ]
            ],
            "type": "heatmap"
           }
          ],
          "heatmapgl": [
           {
            "colorbar": {
             "outlinewidth": 0,
             "ticks": ""
            },
            "colorscale": [
             [
              0,
              "#0d0887"
             ],
             [
              0.1111111111111111,
              "#46039f"
             ],
             [
              0.2222222222222222,
              "#7201a8"
             ],
             [
              0.3333333333333333,
              "#9c179e"
             ],
             [
              0.4444444444444444,
              "#bd3786"
             ],
             [
              0.5555555555555556,
              "#d8576b"
             ],
             [
              0.6666666666666666,
              "#ed7953"
             ],
             [
              0.7777777777777778,
              "#fb9f3a"
             ],
             [
              0.8888888888888888,
              "#fdca26"
             ],
             [
              1,
              "#f0f921"
             ]
            ],
            "type": "heatmapgl"
           }
          ],
          "histogram": [
           {
            "marker": {
             "colorbar": {
              "outlinewidth": 0,
              "ticks": ""
             }
            },
            "type": "histogram"
           }
          ],
          "histogram2d": [
           {
            "colorbar": {
             "outlinewidth": 0,
             "ticks": ""
            },
            "colorscale": [
             [
              0,
              "#0d0887"
             ],
             [
              0.1111111111111111,
              "#46039f"
             ],
             [
              0.2222222222222222,
              "#7201a8"
             ],
             [
              0.3333333333333333,
              "#9c179e"
             ],
             [
              0.4444444444444444,
              "#bd3786"
             ],
             [
              0.5555555555555556,
              "#d8576b"
             ],
             [
              0.6666666666666666,
              "#ed7953"
             ],
             [
              0.7777777777777778,
              "#fb9f3a"
             ],
             [
              0.8888888888888888,
              "#fdca26"
             ],
             [
              1,
              "#f0f921"
             ]
            ],
            "type": "histogram2d"
           }
          ],
          "histogram2dcontour": [
           {
            "colorbar": {
             "outlinewidth": 0,
             "ticks": ""
            },
            "colorscale": [
             [
              0,
              "#0d0887"
             ],
             [
              0.1111111111111111,
              "#46039f"
             ],
             [
              0.2222222222222222,
              "#7201a8"
             ],
             [
              0.3333333333333333,
              "#9c179e"
             ],
             [
              0.4444444444444444,
              "#bd3786"
             ],
             [
              0.5555555555555556,
              "#d8576b"
             ],
             [
              0.6666666666666666,
              "#ed7953"
             ],
             [
              0.7777777777777778,
              "#fb9f3a"
             ],
             [
              0.8888888888888888,
              "#fdca26"
             ],
             [
              1,
              "#f0f921"
             ]
            ],
            "type": "histogram2dcontour"
           }
          ],
          "mesh3d": [
           {
            "colorbar": {
             "outlinewidth": 0,
             "ticks": ""
            },
            "type": "mesh3d"
           }
          ],
          "parcoords": [
           {
            "line": {
             "colorbar": {
              "outlinewidth": 0,
              "ticks": ""
             }
            },
            "type": "parcoords"
           }
          ],
          "pie": [
           {
            "automargin": true,
            "type": "pie"
           }
          ],
          "scatter": [
           {
            "marker": {
             "colorbar": {
              "outlinewidth": 0,
              "ticks": ""
             }
            },
            "type": "scatter"
           }
          ],
          "scatter3d": [
           {
            "line": {
             "colorbar": {
              "outlinewidth": 0,
              "ticks": ""
             }
            },
            "marker": {
             "colorbar": {
              "outlinewidth": 0,
              "ticks": ""
             }
            },
            "type": "scatter3d"
           }
          ],
          "scattercarpet": [
           {
            "marker": {
             "colorbar": {
              "outlinewidth": 0,
              "ticks": ""
             }
            },
            "type": "scattercarpet"
           }
          ],
          "scattergeo": [
           {
            "marker": {
             "colorbar": {
              "outlinewidth": 0,
              "ticks": ""
             }
            },
            "type": "scattergeo"
           }
          ],
          "scattergl": [
           {
            "marker": {
             "colorbar": {
              "outlinewidth": 0,
              "ticks": ""
             }
            },
            "type": "scattergl"
           }
          ],
          "scattermapbox": [
           {
            "marker": {
             "colorbar": {
              "outlinewidth": 0,
              "ticks": ""
             }
            },
            "type": "scattermapbox"
           }
          ],
          "scatterpolar": [
           {
            "marker": {
             "colorbar": {
              "outlinewidth": 0,
              "ticks": ""
             }
            },
            "type": "scatterpolar"
           }
          ],
          "scatterpolargl": [
           {
            "marker": {
             "colorbar": {
              "outlinewidth": 0,
              "ticks": ""
             }
            },
            "type": "scatterpolargl"
           }
          ],
          "scatterternary": [
           {
            "marker": {
             "colorbar": {
              "outlinewidth": 0,
              "ticks": ""
             }
            },
            "type": "scatterternary"
           }
          ],
          "surface": [
           {
            "colorbar": {
             "outlinewidth": 0,
             "ticks": ""
            },
            "colorscale": [
             [
              0,
              "#0d0887"
             ],
             [
              0.1111111111111111,
              "#46039f"
             ],
             [
              0.2222222222222222,
              "#7201a8"
             ],
             [
              0.3333333333333333,
              "#9c179e"
             ],
             [
              0.4444444444444444,
              "#bd3786"
             ],
             [
              0.5555555555555556,
              "#d8576b"
             ],
             [
              0.6666666666666666,
              "#ed7953"
             ],
             [
              0.7777777777777778,
              "#fb9f3a"
             ],
             [
              0.8888888888888888,
              "#fdca26"
             ],
             [
              1,
              "#f0f921"
             ]
            ],
            "type": "surface"
           }
          ],
          "table": [
           {
            "cells": {
             "fill": {
              "color": "#EBF0F8"
             },
             "line": {
              "color": "white"
             }
            },
            "header": {
             "fill": {
              "color": "#C8D4E3"
             },
             "line": {
              "color": "white"
             }
            },
            "type": "table"
           }
          ]
         },
         "layout": {
          "annotationdefaults": {
           "arrowcolor": "#2a3f5f",
           "arrowhead": 0,
           "arrowwidth": 1
          },
          "autotypenumbers": "strict",
          "coloraxis": {
           "colorbar": {
            "outlinewidth": 0,
            "ticks": ""
           }
          },
          "colorscale": {
           "diverging": [
            [
             0,
             "#8e0152"
            ],
            [
             0.1,
             "#c51b7d"
            ],
            [
             0.2,
             "#de77ae"
            ],
            [
             0.3,
             "#f1b6da"
            ],
            [
             0.4,
             "#fde0ef"
            ],
            [
             0.5,
             "#f7f7f7"
            ],
            [
             0.6,
             "#e6f5d0"
            ],
            [
             0.7,
             "#b8e186"
            ],
            [
             0.8,
             "#7fbc41"
            ],
            [
             0.9,
             "#4d9221"
            ],
            [
             1,
             "#276419"
            ]
           ],
           "sequential": [
            [
             0,
             "#0d0887"
            ],
            [
             0.1111111111111111,
             "#46039f"
            ],
            [
             0.2222222222222222,
             "#7201a8"
            ],
            [
             0.3333333333333333,
             "#9c179e"
            ],
            [
             0.4444444444444444,
             "#bd3786"
            ],
            [
             0.5555555555555556,
             "#d8576b"
            ],
            [
             0.6666666666666666,
             "#ed7953"
            ],
            [
             0.7777777777777778,
             "#fb9f3a"
            ],
            [
             0.8888888888888888,
             "#fdca26"
            ],
            [
             1,
             "#f0f921"
            ]
           ],
           "sequentialminus": [
            [
             0,
             "#0d0887"
            ],
            [
             0.1111111111111111,
             "#46039f"
            ],
            [
             0.2222222222222222,
             "#7201a8"
            ],
            [
             0.3333333333333333,
             "#9c179e"
            ],
            [
             0.4444444444444444,
             "#bd3786"
            ],
            [
             0.5555555555555556,
             "#d8576b"
            ],
            [
             0.6666666666666666,
             "#ed7953"
            ],
            [
             0.7777777777777778,
             "#fb9f3a"
            ],
            [
             0.8888888888888888,
             "#fdca26"
            ],
            [
             1,
             "#f0f921"
            ]
           ]
          },
          "colorway": [
           "#636efa",
           "#EF553B",
           "#00cc96",
           "#ab63fa",
           "#FFA15A",
           "#19d3f3",
           "#FF6692",
           "#B6E880",
           "#FF97FF",
           "#FECB52"
          ],
          "font": {
           "color": "#2a3f5f"
          },
          "geo": {
           "bgcolor": "white",
           "lakecolor": "white",
           "landcolor": "#E5ECF6",
           "showlakes": true,
           "showland": true,
           "subunitcolor": "white"
          },
          "hoverlabel": {
           "align": "left"
          },
          "hovermode": "closest",
          "mapbox": {
           "style": "light"
          },
          "paper_bgcolor": "white",
          "plot_bgcolor": "#E5ECF6",
          "polar": {
           "angularaxis": {
            "gridcolor": "white",
            "linecolor": "white",
            "ticks": ""
           },
           "bgcolor": "#E5ECF6",
           "radialaxis": {
            "gridcolor": "white",
            "linecolor": "white",
            "ticks": ""
           }
          },
          "scene": {
           "xaxis": {
            "backgroundcolor": "#E5ECF6",
            "gridcolor": "white",
            "gridwidth": 2,
            "linecolor": "white",
            "showbackground": true,
            "ticks": "",
            "zerolinecolor": "white"
           },
           "yaxis": {
            "backgroundcolor": "#E5ECF6",
            "gridcolor": "white",
            "gridwidth": 2,
            "linecolor": "white",
            "showbackground": true,
            "ticks": "",
            "zerolinecolor": "white"
           },
           "zaxis": {
            "backgroundcolor": "#E5ECF6",
            "gridcolor": "white",
            "gridwidth": 2,
            "linecolor": "white",
            "showbackground": true,
            "ticks": "",
            "zerolinecolor": "white"
           }
          },
          "shapedefaults": {
           "line": {
            "color": "#2a3f5f"
           }
          },
          "ternary": {
           "aaxis": {
            "gridcolor": "white",
            "linecolor": "white",
            "ticks": ""
           },
           "baxis": {
            "gridcolor": "white",
            "linecolor": "white",
            "ticks": ""
           },
           "bgcolor": "#E5ECF6",
           "caxis": {
            "gridcolor": "white",
            "linecolor": "white",
            "ticks": ""
           }
          },
          "title": {
           "x": 0.05
          },
          "xaxis": {
           "automargin": true,
           "gridcolor": "white",
           "linecolor": "white",
           "ticks": "",
           "title": {
            "standoff": 15
           },
           "zerolinecolor": "white",
           "zerolinewidth": 2
          },
          "yaxis": {
           "automargin": true,
           "gridcolor": "white",
           "linecolor": "white",
           "ticks": "",
           "title": {
            "standoff": 15
           },
           "zerolinecolor": "white",
           "zerolinewidth": 2
          }
         }
        }
       }
      },
      "text/html": [
       "<div>                            <div id=\"1de6e23b-da2e-4850-ad2e-b456e3237c3d\" class=\"plotly-graph-div\" style=\"height:525px; width:100%;\"></div>            <script type=\"text/javascript\">                require([\"plotly\"], function(Plotly) {                    window.PLOTLYENV=window.PLOTLYENV || {};                                    if (document.getElementById(\"1de6e23b-da2e-4850-ad2e-b456e3237c3d\")) {                    Plotly.newPlot(                        \"1de6e23b-da2e-4850-ad2e-b456e3237c3d\",                        [{\"opacity\": 0.7, \"type\": \"histogram\", \"x\": [-0.7891103629960696, 0.4392883121801303, -0.12341232665365605, 1.399706364230258, 0.07971238864941288, 0.7460366842412218, -0.16796312239073127, -1.7020732044612332, 0.9660469156799064, -2.3360519642174506, 1.2203421890235158, -0.541643667624581, 0.25663017256382237, 0.07824817640315225, 0.6867841592607603, 0.3509539230746732, -0.25716954039893963, -2.0862746622871478, -1.002874550841574, 0.2077816858060616, -1.4761464062284175, 2.0145363102366654, 0.8987052594399683, -1.995448097544827, -1.0294610063458358, -1.4862848093134218, -1.5249020864124823, 0.11422908920111355, -1.2272653508406823, -0.38412474317847667, -0.17579003816350167, 1.2114764972610867, 0.31928697495955893, -0.3337434992050138, 0.3843477047115922, -0.9666096588626455, 1.0961730215633403, 0.6258876410747944, 1.259511869824021, 1.3356399382532398, -0.282400771290257, -1.531552470301801, -0.5286678384266205, 0.8472694282101141, -0.7048940113856235, 0.6878113764714856, -0.6421468624644155, -0.6992281951599183, -0.18639545956111708, 1.3160947310261009, -0.8017886692338421, 2.4469903290118746, -0.014929244790863024, -1.56825019154523, -1.0459231474690651, 0.6765001678711375, 0.2881050297056718, 1.023979626791551, 0.7916358956095556, -0.23817812727314902, -0.7088822094087888, -1.3785775273006404, -0.7670751782156743, 0.6070879387647808, -1.3982816377544556, -0.7179602899693694, -0.4314397056987802, 1.586230016137475, 0.7992415653837364, 1.2407934974321515, -0.38699724933183993, 0.6264106086678193, -0.6102751788405836, -0.5290601831483144, -0.9788990280087841, -0.8256450850661905, 0.7184935598284833, 0.8406146820428947, 0.013305679828860557, -1.4616957424657127, -2.3191481069715616, -0.01733876521941055, -0.5165825368196768, -0.6277184835122459, 0.6571645080047006, 0.1764901327544813, -0.23190271723310185, -0.8824729520207582, -0.2390517235852872, 0.9767159186581568, 0.4185107775514049, -0.5109686882629787, -0.03170099534551514, -2.045349328521401, 0.4452769027108404, -1.05938017905248, -1.1248692004940342, 1.0802584052373094, 1.5597927938972544, 0.8856374138259402, -0.7607761281503707, -0.9684572216386659, 0.47534280974106125, 0.0938383933946659, -0.6092878266131495, 0.9459797956690232, -0.07616402813847455, -0.2207398254781704, -0.39403409505766335, -0.09690008404554898, -0.42332912326950417, 0.0764893310053557, 2.04740454725217, 0.2224311508567293, 1.0160776867553571, 1.1092623908475432, -0.8200974612627477, 1.2311001599147247, -1.2294077770423713, 0.9645775866987466, -2.1150820498085317, 0.3140592994206873, -0.9652557670105418, -0.6396738956985996, 0.5131344453673972, -0.7375997933860239, -0.6391616714891928, -0.6366984401433077, -0.9319063182906663, 2.060914991365186, -1.0870057762369936, 1.8062881364424994, 0.7055848474714637, -0.6670872041374131, -2.7103289656437846, 0.4816317112964683, -1.040361034049533, 0.052871673026631254, 0.30001085432366087, 0.021419183693954666, 0.3806518846902657, 1.5168331247166955, 0.550543753161996, -0.09909750734946536, 1.2189227446618633, -0.48246899429789075, 1.3085851524394632, 0.6128315857821321, 0.2597926670992964, 1.0424582943673586, 1.76100862397411, -1.186397659777341, -1.818383215582627, -0.06381329927081854, -1.429898926317344, -0.3649592488416388, -0.6425204312285401, 1.2130918423811023, -1.6460426301806146, 1.19468121385942, -1.0595584090568055, 0.5632411990327506, 0.3276592686511246, 0.5481431903114737, 0.354197977438906, -0.31450176975593286, 0.7072909738305232, 1.6036571994958733, 0.40367304938873133, 1.0235378105245325, 0.5278875024983678, 2.8778658083365753, 0.33965208457801555, 1.0721599921245537, -0.34737854272164487, 0.9046971620898467, 0.20885399801451965, -1.1073401894914405, 0.9035960643905722, 0.2427374958419916, 1.608720517074609, -0.16706540401253242, 1.4168576999872733, -0.1092037944785287, -1.1376362199895613, 0.5502445978286915, -0.9609123012075378, 1.1773614206806011, 1.0754256109726423, 0.35667277190989954, -1.2092269604189663, 0.7328384409366434, -0.46101657556908365, -0.6005115775950458, 1.8287138397326748, -1.5000609979201895, 1.676947066751253, 0.6284085754419653, 0.2076411593018547, -2.0652996921657056, -0.7066651435164714, 0.09469303700848855, -1.637887651042072, -1.9684060134659416, 0.784411393296966, -0.20863974199874244, -0.21423680244010404, -0.1655493275034791, 0.5564214568280561, -0.5519284795627183, 2.573375534078787, 0.8368775988477685, -0.15039864581999407, -0.609275414954401, -0.08187069783926439, -0.6658063311075545, -1.0871968419316618, -0.9239172208789858, 1.927996479236861, -0.25830658236170073, -1.930071042026452, 1.4438447545365878, 0.40421384786463527, 0.32061267068161425, -0.9689113790470923, 1.3151702372428669, 0.3158245556736372, 2.2169745107100844, 0.8942148078193976, -0.19894957373101538, -1.7157318343620045, 0.540770739940476, 0.05143328837530449, -0.07405067815438053, 0.21701031484917685, -0.16926985224485683, 1.485549500154804, 0.2092120770899081, -1.1712904052261977, -1.6664957661731525, -0.5321256314713604, -1.9694840809174012, -0.9046560350361558, -0.2932975895781273, 1.0312042509752968, -0.7357514196594486, -0.3027996352872088, -1.6063299375877438, 0.1484138635790669, 1.4741163085166173, -0.9659971664861371, -0.7703032370912586, -0.6288592936296307, -0.5562335596490249, -0.6236833158734179, -1.6560547558438194, 0.3737566703502586, -0.11384408452953178, -0.5103032440094517, -0.34935652625608316, -1.7580117789649234, -1.4371456660754303, 0.6981893792696113, 0.5333715358868952, -1.4918687640316914, -0.5639151964450678, -0.41109540681711126, 2.011778462497534, 0.8843453969000026, -0.47340248448139205, -0.07523252960464309, -0.27923627817647556, 0.5367533326334594, -0.1720860235614414, 0.09969063445561023, 0.5790758927171786, 1.3135714352833445, 1.3050439445631583, 0.10761097277362602, -1.8183950600269219, 0.8016825111338023, 0.3679481121198729, -0.6300191623762338, 0.1717894887511952, -0.4830435618654921, -1.1041204054546492, -1.0844662360962238, -0.22893211980922595, 0.4532676472331273, 0.9758268045084764, 0.6960285649513696, 0.5335429941862376, -0.1777732645877681, -0.0786162830152834, -0.37359206329801137, 0.8501037541752497, -0.9964902246372846, 0.30762578672207364, -0.6750850382454715, 0.1271269047662608, -0.05668148496988878, 0.9067617270643996, 1.6017653868686461, -1.222821849383938, -0.8529221296236179, 0.37642081640343644, -0.13155532086767485, -0.5466471844941877, 1.3944698423054245, -1.307782072400621, -1.299158571064296, -0.9158181845398302, 0.8047303280032303, 0.43424635638533293, -0.5677793890533461, 1.388045067573147, 0.5405754920083394, 0.3141346595974057, 1.7010911156501776, 0.6214498486795137, 0.5950102935406715, 0.6481634696821507, -0.2151205602059648, 0.8538769345954962, -1.0384876981356093, 1.8247599727798818, 1.6413766907679965, -0.7803197614090781, -0.9938210927684255, -0.21456597376818706, -1.1023972376714202, 0.547370983221858, -0.2566970691500609, -0.15597712168153993, 0.3191600029824454, -1.6003825927697843, -0.15275032983949263, -0.7553647763269274, 0.49595188248622907, -1.4650658325341828, -0.3092094509708521, -0.6803364725418929, -0.7675688312637162, 0.48078137276166305, -1.0444648551737012, 0.30810630458304766, -0.9327324622950949, 0.4473570444154652, -0.371016727796744, -1.781161461884634, 0.1789583000035152, -0.5904321244449485, 1.7870574589202206, 1.620458718133708, -0.49363593312658505, 1.1905338118256625, 0.13212872898160125, 0.8104091596997683, -0.6979360074078825, -1.3349225173872343, -0.5241519922558091, -0.2366048738325731, -0.5342987842031804, -1.504635051681067, -0.0808853312839353, -0.5413259415252115, 1.160478653275254, -0.2915042001125657, 0.457642839943025, 1.1730523599741707, -1.5618044092569288, -0.2907745121059548, -1.0637665224575337, 1.3574988901534624, -0.2719124496573654, -0.6793234220310131, -1.1046341160401127, 0.8280516016546476, -0.6336423654356178, 1.0338242095884058, 1.45722510755892, -0.5907358064889706, -1.1467067267758466, -1.2137748904368793, 1.3766596379022376, 1.3323631384702712, -0.09440820817675892, 0.0012035638695695645, 0.18460147178577915, 0.44538157941267403, -1.313852124759585, -0.6682299010813524, -1.1029406274443134, 1.7057649561881936, -1.8163334254525438, 0.7962561932567594, -0.9506555320705261, -0.05563915588561841, 0.7377658435712812, -0.2574647435913676, -0.04829513048966261, -1.474175885046682, 1.7317715326770118, 0.17769907682029665, 2.2724932666563875, 1.321734000035415, -0.8918155448382148, 1.4214837278388346, 1.3202766184817993, 0.6016366535227906, 1.1111008737149346, -0.29103869931090276, -1.3581134765997034, -0.6566478434614322, 0.6008709171977238, -0.22344389350029475, 0.34636678835780266, 1.6348751781128026, 0.14282775697907638, 0.2536027824638864, 0.9933310137383315, 0.6487351168048036, -0.09967208130767095, 0.3660879684123718, 0.5850625193804073, 0.5168958978128629, 0.4545975901610176, -0.03583978615957343, -0.042885431419513974, -0.30565339810942826, -1.0266824970563817, -0.03558692434626185, 0.13492911268805224, 0.7350444990051529, -0.7570425939683583, 0.2666641103168503, 1.7991423436771052, -0.1872589652632625, -0.02079288685995904, 0.29263054320961185, 1.157460680765734, -0.08654262037171309, 0.7368967715284155, 0.5878028342890983, -0.7584475136051798, 0.24796621381703798, -0.49484784504746726, 1.8242947839482124, -0.28102439207681135, 0.6191221634989782, -1.1282194189927912, -1.0018438839138948, 1.545883489124157, -0.3693805745071721, 0.9130328320241352, 0.7765323760200288, -0.5278342802970114, 1.1570636359751676, 1.0530568683669779, 0.31453556283432826, 0.9251783995511179, 1.2371762692806678, 1.0018987045204804, 0.7448727213749791, 0.07683352511537737, -0.4211416964549543, -0.4526631180017299, -0.2722871538060052, 0.19202221384041498, 0.10225996371882952, -0.9206199896427071, -0.34235700066637115, 0.40399905836307315, 0.5049486450184839, -0.624868709537779, 0.584889920458225, -0.9679472160134867, 0.8199274967780543, 0.15891740672645996, -1.535582412654867, -0.8193299628173967, 0.31015743310705673, -1.840507384210733, -0.44242361489550674, 1.0761652977720495, 0.42799593277436976, -0.2265777344222464, 1.2907780913478224, 0.21963177977843418, 1.5851126363228074, -1.1179846650675676, -0.5128469339773813, 0.3917201209538022, 1.3970749919379417, 1.59900020045538, 0.3313339524831611, -1.713941031827113, -1.8319580064872156, -1.089190189980081, 1.020186010709625, -0.9298410139529482, 0.16145017847193255, -1.246890108625425, 0.4133240290093876, -2.58822824202139, 2.1046080592159195, -0.6239784606116421, -0.474751934353206, 2.2034832126290476, 1.562485724589791, 0.5260795574365325, 0.6755902038883502, -1.7274186250259764, -1.3661321945904448, 0.2460508865240898, 0.9573625568230638, -2.7742720319527066, -1.6226718037219565, 0.6275712493823793, -0.2281982405683631, -0.37101065969796915, -0.4820982317366221, -0.024907105280885633, 0.10812233347321594, 1.0084352535129086, 1.2371942898443051, -0.4340441154653726, -2.184341984048465, 1.1079595931287989, -0.15929557791739518, -0.24397716857720392, 1.4801228428375732, -1.2132040833536515, 0.5026065509984978, 0.24714369608206518, 0.5374366129117948, 0.2849009009673784, -0.7835849453697223, 1.0252543551433149, -0.2821666217000606, 0.6625793914943783, 0.4006657224926754, 0.15732948010646827, -0.48371238651601006, 0.6201126279802907, -0.7751991757913034, -0.8861744768645313, 1.0648517695995317, -0.8204163258342643, 1.661354973568525, -0.5457499900625067, -0.6848631682906363, -0.30832058780469024, 0.20416768657019196, 0.28846384274513637, 0.9992917690623976, 0.1672966720319236, -2.4635749668598015, 1.104481958995484, 0.027218174152554613, 0.7614825306387971, 1.8337911557782367, 1.4335170892268474, -0.7941732004510733, 1.3198924455385743, -0.8650403209337557, -0.24803300831752234, -0.0992713576614316, -1.2394181746970527, -0.2326327557729219, -0.3023015288220477, -0.06309388339178526, 0.840579497309825, -0.3557612223627611, -0.6198518138867735, 0.9629679427161703, -1.2061769848377943, 1.7571783607896423, 0.5959741671591116, -0.575778366290037, -0.07437569824347437, -0.1635206360567391, 0.013112796430109156, 1.3265220361648666, 1.124454757190278, 0.9403795655150669, 0.116053790183913, -0.15659506884209076, 0.9421411954953799, -0.5972306179066995, -1.086636309980705, -0.055861071834720194, 0.8095102948357812, 0.4368522642577593, 0.3355429109535068, 1.585168579321498, 1.141220242012734, -0.12312323306274305, -0.39774026085385916, 1.844760524811499, 1.6758610120416606, 0.023260462541341533, 0.014349278437839048, -1.0464552158349492, -0.439368948609209, 0.2062249055780496, -0.2515696696682221, -0.06579247260541125, 1.4288827231236139, -0.5060890638415632, -0.36887235985675854, -0.7014055734906929, -1.4655221909915268, 0.2023880101585983, 0.8720699443065423, -0.8591141559539982, -0.7377181383816791, 0.6112781497767641, -0.8144607245927848, 0.5850041096927351, 0.4844152475374349, 0.5258410178929152, 0.5979357306664108, -0.42266227895582004, 1.4699041972881723, -0.5132940452232319, -0.6968511988446668, -0.6293987612223115, 0.12644270580197942, 1.2540748840995577, 0.3273441048580045, 0.3096788246944168, 0.19379539746095112, 1.193745689938057, 1.545541862272756, 0.2961798555445038, -1.5588998183830194, -1.0548460333882337, 0.15260362182393225, -0.22500064540507073, 2.212204306941177, 2.433894473786306, 0.23565196110567205, -0.9861376398675479, -0.3498182962853154, -0.9045795750449128, 1.3623923338627273, -1.9213510443969348, -0.567060344947012, -1.7514636877441148, 1.7517718029481275, -0.220473481530445, 0.5525893868308689, -1.3119533399817547, 0.553793017152568, 1.1317307747490097, 0.08673640864480552, 0.6701788741441351, 0.7734650775739657, -0.9295004588739797, -0.036992024207484764, -0.9188238435282023, 0.4856586130144943, 1.3596528060136546, 0.4587804052722235, -1.0820145670433337, -0.42987505568242895, 0.9590059384147961, -0.6486946382792204, 3.2839791122689346, -0.8319443015759557, -1.343138708664875, 0.04413091175227758, -0.6871025489697004, 1.1052395507023545, -0.4800889374831424, -0.8343690348369076, 0.7042746184028864, 0.14098244756028816, -0.8121673598023719, -1.5463536488403147, -0.7092629077101598, 0.3171145880987089, 1.189758454148264, -0.4000718463936285, 0.9538533453159647, 1.1396012788549104, 1.2135068086230174, 1.6174637802739011, -1.1475308871787042, 0.3009330271052359, -1.3638796432145874, 1.3211236653848988, -0.17278154660904624, 1.878618744367189, 0.6792572206067042, -0.6453086591772953, 0.525695386310616, -0.9797740196741509, 0.5241505439490747, -0.2211435939384009, 0.7244528657287634, -0.14922195319674283, -1.096044807641259, 1.5181263988982407, 0.35094466884180203, 0.10277341197730601, -0.6467836398728098, -0.05833473230589806, -1.0400559715833142, -1.545067256331692, 0.7553275974525376, -0.13689044315980628, -0.2298190584124536, -0.0067321577966741935, 1.5015717394659926, 0.19258222223935523, 0.6451694035677665, 0.6716652532762355, -0.9354379807485945, 0.6714416420942686, -2.2444621343348494, 0.055261491205160405, -0.2501041373099951, 1.4916523078977204, -0.39131744742422364, 0.9237386825875472, 0.15728483607472626, -1.4080245851911866, -0.789020322198557, -0.2829320910741472, 0.3891578082155316, 2.359090379768272, 0.030295080249416538, -0.32263924690569584, 0.5494491679413397, -0.42771342834760173, 0.7873160995882486, -0.20622829167171794, -0.49764366335362054, -0.772422469875496, 0.4172390260060783, 0.50211319796512, 0.9523701941967315, -0.532743658459606, 0.5182610678340993, 0.9785937241451497, -0.9840269921186454, -0.8586928872735822, -0.6676891069197417, 0.9283850737144588, -0.2501875409814494, 0.8799184737969522, 0.07297770703030587, 0.7688536252356983, 0.2666042748183799, 1.2976786572437422, 0.07117746505982998, 1.651031175788471, -0.8081755101847368, 2.3653336666722535, 0.0707371176925476, 0.08440482567314851, 1.977564118110316, 0.28201373333865143, 0.7818738201591461, 0.9192900064630813, -0.5289721208721168, 1.612503235638572, 1.6056451313768936, -0.15120264108299397, 2.049880888331842, -0.4807641589698848, 0.7103578300081883, -0.7641035302310971, 1.6424384169781396, -1.3300163916142929, 1.5096627010360135, -0.3231067033422779, -0.32691659718704624, 0.2526997618214835, -0.9167637669605143, 0.008262996657301621, -0.04752627877073254, -0.2640898868282342, -0.36221308590389784, -0.14427518728896743, -1.4374465988449538, -0.4633224838282674, 0.20102739580612572, 2.1047743003263557, -1.8574853788731995, 0.33370349784402203, 0.6110235024661352, -0.43663370861572054, -1.077013662836157, 0.08600035743886146, 0.21064748185855156, -0.7934086530745814, -1.5692186000885942, -0.49637934543413603, 0.05335704857245706, -1.1545807650730688, 0.38163428591294807, -0.6321914360228429, 0.03361193983268136, 2.6038376248964865, -1.0062802062667742, 2.1667938140740657, 0.3181100809807022, -1.7914885503380256, 0.501966555316368, 0.5114619405793407, 0.36849535520550136, 0.2527961387333797, 1.7051452877009796, -0.5168745041903936, -0.5850791215416379, 0.5159122687213681, -0.8808753352109383, 0.12016581311035664, -0.3032421016092293, -1.3904895893100275, 0.7275151626418297, 0.5415701843464776, -1.4070567075178453, -0.7811428242911398, -0.25226373253005435, 0.36341504124509166, -1.7203805526731024, 1.272215382699913, -0.3758224023270005, -1.246649707832119, 0.9117098016001333, -0.5900839646995039, -0.9759577128671153, 1.0044741628927438, 0.2786145060630449, 0.795552557840561, 0.28042726597000617, -0.8538451954188897, -0.38084286679891294, -0.009668961121583806, -0.9073233238338411, 0.5660539159395553, 0.3275842401154036, 1.82188440579538, -1.098294289502234, -0.01734247081116016, -0.6006280663504682, 1.177241765668944, -1.9262028312745134, -1.2971139485950867, 1.5130163654390107, -0.7894803790019308, -0.9455924268994667, 0.5581464508908993, -1.1030094996626432, -1.0976023026175323, -1.2313085801313313, 1.870157384747665, 0.7627991012641583, 0.8298868545940515, -0.7576939732664872, -0.0727006213124928, 0.4045107167227934, 0.5319993869493941, 1.932586708200992, 1.7263765146483634, -0.21901171152739746, -1.0947078313002037, -0.1705530024068218, -1.6042755783151188, -0.10603009715338277, 1.3862454750202549, -0.8394562807724701, 0.12642104796481876, -0.8499786328979939, 0.6733537784553724, -0.8119571473282053, -0.8013591816351593, -0.7311766182401427, -0.5471629498727516, -1.4412093298070816, 0.8170812344937487, 1.3616606727766392, 1.0964032598175188, 1.0219570051930995, 0.5841677292360404, 0.6313635511702055, -0.3255208122637948, -0.0908229896554031, 1.637195835552511, -0.6835022463337564, -1.171990536088198, -1.5404098016425458, 1.624212952108576, -0.6391959298398904, -1.0793581305953537, 0.500892048507623, 0.5358395266433982, 0.07127328946266907, -1.0257145128064735, 0.6417215267045914, -1.7204268450441655, -1.1031767562618864, 1.3550973840499663, -0.0902741008461172, -0.15011581832055063, 1.5213939717183071, 0.45960157470390944, -1.8673677120255139, 0.8992291524588, 2.5597825542242387, 0.20328834927954623, -1.4891058064665461, -0.6901234372769365, -1.3156102861476446, -1.7978490497187511, -0.47776448434022645, 0.23619180096764716, -1.013588973771817, -0.33054625137182386, 0.8319983489260597, -0.6090313281381025, -0.8341849674866416, -0.9984222369840429, 0.3810303228702651, 0.8944213503856355, -0.70810284365524, 0.27017233655469813, -1.33288208479271, -1.1198765163083808, 1.4045148929538556, 0.3107845928486711, 2.125040375109173, -0.02969849578151618, 0.40756763779529864, -0.2408050713605244, 0.58973119199164, -0.9615593714860339, -0.9617028426132274, -0.8909743219467917, 0.16764475125694478, 0.6931464195371893, 0.712872383542604, -1.6254143684771667, 1.7144326552195541, 0.26330601037392926, 1.468118259400773, 0.36129276259426435, 0.45619542212038144, -0.3897264199754003, -0.22488289451407134, -0.5907690741655176, 1.2537076719301705, -0.33001060052510045, 0.24674814847477985, -1.0936957424664095, 1.5007666830190207, -1.7130741886856922, -0.22043836442396406, -0.9982247648760303, 1.0928690375823815, -0.8589622989844383, -1.4435491926653583, 1.0627948871677368, -1.6347988112063343, 0.963754608013721, -1.2458102092316328, 0.19578920241980152, 0.5182255492383334, -0.43477034716615076, -0.9431735272254678, -0.5402216101800775, 1.9093582980340698, 0.3366892987281284, -0.16061384194277933, 0.15680034452380207, 0.7505297850060197, 0.38590277402758516, -1.0327119146523105, 0.16006807679811294, 0.398000488948144, 0.5174066228822678, -0.3628747272675474, -2.4813774515332137, 1.306816382385876, 0.8658978505484259, 0.6201493257332649, -0.6684204008963243, 2.500383797136062, -1.7326894670097395, 0.8254412709301878, 1.497978067707935, 2.00941820869649, -1.8622282662683645, 0.856966887202928, -0.47492539905463366, -0.0895703814362178]}, {\"opacity\": 0.7, \"type\": \"histogram\", \"x\": [1.4054972676462092, -0.04693304330703629, 0.9332067599548101, 0.5640928391794314, 1.1467917408206603, 0.5285033995005131, 1.8083492163990718, -1.0484952326919803, -0.38301427416263256, 1.588966515243226, 0.7559868773910203, 1.8890955092116557, -0.9490131457206312, 0.934157692781804, 1.257938606177147, 2.045931344661252, 0.8868880768705476, 2.574429620283917, 0.37885745215126043, 0.5024006690645038, -0.20761816890304163, 1.3830225979937603, -0.03811067617506736, 1.5962954284636535, 1.6474788706107901, 1.4456669512869726, -0.12442474088264444, 0.8156953907240178, 3.2087571233154493, 1.307645272811233, 3.5228301563511484, 0.6161112531344328, 0.14032251886639469, -0.22764071798219043, 2.934922448633833, 0.083333864746854, 1.279557610836619, 0.9665844139284564, 0.9766448203616183, -0.36658237836712715, 1.2629426607216547, 0.25012570406954615, 2.180151693618547, 0.07901742689718982, 1.9666293157021915, -1.1955214873854123, 0.09327094889806442, 0.9246546891037521, 1.1461971604233427, -0.10108484987218902, -0.9279493678607729, 1.7583704206720308, 2.5961226908755277, 2.421093093944511, 1.0478823059885218, 1.8706217418104814, 2.149691260324518, 0.5189874811207185, -0.20423648595811583, -0.16930877478870854, 1.8536910094294714, 3.0109865970486758, 0.13585707746328946, 1.5915485252423802, 0.6359651345606216, 0.6929648312501063, 0.22132027448095015, 1.6339905431708504, 0.6547010855081767, 0.9239706208358067, 0.4718721468979924, 0.7592467098696926, 1.4428053756332944, 1.6417641255875712, -0.5347286700109222, 1.9693401690195511, -0.3322822692769327, 0.8937337510967591, 1.9064653645465, 0.45756623811619224, -0.15417400483715227, 0.7059356114957007, 1.2199771929226426, 1.3106880840061874, 1.7080553915584764, 4.043117821975914, -0.00246628835046403, 0.9093700770053421, 1.2831837656131866, 2.001055498599154, 2.4853919947199, 1.9622494770436758, -0.13316679911341445, -0.3430805005147173, 1.135483317710945, 1.4365305587506645, -0.41109095569790033, 1.7479125972101608, 0.2518510060419612, 2.523024207820879, 1.1166352443577274, -0.08811247905909658, 0.5964671202345171, 1.8755206430982039, 2.045727395550105, -1.8096880893652023, -0.6307348955543528, 1.4921797227209193, 0.6671660984613733, -0.3016111727893811, 2.0990804666000633, 0.5629765342896857, -0.6551493810606337, 0.14099407852086976, 0.278316237718625, 0.012941617832422758, -0.2276562435949805, 1.492655696445636, -0.000470379309813973, 2.2942483734519072, -0.10993291501144387, 1.0345468058000138, 0.598448560295398, -0.8417763462377523, -0.31182949550028805, -1.2203755072513798, 0.38532233216009315, 1.0614479931878382, 0.8608741109230894, 1.7038148045242072, 1.029404612171736, 1.497497661008353, 2.6511060955402463, 1.8745630439768424, 1.4443202895863596, 1.9150879993413257, -0.26473207062157367, 0.8302436225740664, 0.19842409768261426, -0.8880520651883599, 0.35714080988823793, 1.6605237282916527, 1.8302766409948374, 0.02431970211438883, -0.39962535596451043, 1.4024536797775249, 1.344189205855018, 0.5950819113463317, 2.148095172295785, 1.0431525434462223, 2.3980973664997602, 1.1746646886790495, 1.1251293231724249, 2.3563929353318986, -0.5918401232182089, 1.5118660439234592, 1.4085050363750735, 0.9922443321324109, 2.243845815102951, 1.1085837915963002, 3.82293866726469, 0.28744175643022185, 3.2290920090081676, 0.9287061033873529, 2.310381934087842, 0.5966125786054794, 0.3804674456853121, 2.2425631517971247, 1.8922313584740733, 1.3549556139502026, 1.5543734444879835, 1.5609407639865862, 2.2052142836092825, 1.7782733768397652, 2.929682527132979, 2.7660176058772366, 1.4430007825621685, 0.07556497879146085, 1.6295026277805338, 1.4910315128477307, 0.9544223401801253, 1.655019493910659, 1.0103335706702923, -1.2005876888845504, 2.8054686131582707, 0.7448194764682581, 2.271703379369987, 1.1947409903687252, 1.6427016962120082, 2.7433995731809317, 0.0582752930466659, 2.4578204873417357, 1.3294410511703225, 0.6261779661261244, 0.5306586696735545, 1.6639504523704478, 1.8754953489907438, 1.8170458213492409, -0.6915394421509218, 1.8959913953707823, 1.8841935795088403, 2.0919858699576257, -0.6099471075849681, 0.12634767437186312, 2.4168545095076857, 2.048090254906726, 0.648157328213528, 1.8123291064687121, 0.6776543472615977, 0.6949526701833344, 1.319313155528548, 0.907152598878381, 1.8509574638674595, 1.0294496844182413, 0.38542945994089717, 0.5412015644864144, 0.834189852943979, 2.030337409487378, -0.026194133261051578, -0.3137584875208139, 1.7566822992850617, 0.2841829383303285, 2.4663555182202774, -0.24172038737901902, 2.6144082874804146, 0.2558966580308967, 2.103015946166628, 2.1350540398278497, -0.5083502836391764, 1.2489759929894322, 1.166741202716945, 0.04618196485770465, 0.4523298752827537, 2.4951063359898673, 3.2362106756438145, 1.0732229532523818, 1.84736907710773, -0.49366867328999375, 0.7723863539718565, -0.311705316505543, 1.0911937070411795, 0.4264708051714171, 1.6137584842929948, -1.3792074298468053, 3.2754970340055727, 3.2698287629057226, -0.5661834025356709, 2.1034102211105576, -1.0288272807065484, 0.6341425329189629, 0.8536190791452849, 2.4544218036757597, 0.7384479952355367, 0.17810219652042303, 1.621364542567681, 1.0116763263566069, 0.14262229758863665, 0.914550911011211, 1.1315029236587553, 1.0202215830708892, 1.4065913805735828, 2.632732045893782, 0.9799764281442698, 1.8977770199716932, 0.8797458584866318, 1.397367073834687, 0.5731454503326925, 2.8441636835763626, 0.3308847960572383, -0.02576050583638012, 1.391111787541178, 0.09798683794513563, 0.7257897507519332, 0.0072146075719977665, 0.13803618482644886, 0.7617602211488284, 0.9175204749197952, 1.4047048109293698, 2.1676654187282853, 1.5373755501019326, 1.7067893862093202, 0.2518406810522875, 0.8789849242240697, 1.2354469559096313, 1.5305501396508419, 2.793462057509233, 0.42278711049243245, -0.279528191217725, 0.5524009167319743, 2.885189457900676, 0.0934233068704049, 1.0075238145326655, 1.813753112182111, 1.0137491124085396, 1.9378644318236695, 0.890597381726698, -1.4867057015372382, 0.6201366014431747, 1.1182865163950542, 2.2919752526469157, 2.4751607718367783, 1.31853174735582, 2.0547455917358386, 0.3631846871419997, 0.5558642430193075, -0.7589885024442258, 1.6182723704313253, 2.4930370846561516, -1.132516338630333, 0.1100544455614495, -0.01869258813919994, 0.5662052195732871, -0.08613276630436362, -1.821496600974922, 0.4786051142737229, 1.891973161941165, 2.392026944395295, -0.9150247779658911, 0.8202405203649039, 0.35267621856457254, 0.33756070230743007, -0.7257680787156697, -1.1437056262069052, 1.1835752971129183, 0.043872621391612965, 0.15271414487555746, 0.8550606864572378, 0.8300830484546782, 3.905791079845245, 0.7463626634886804, -0.1928448341218556, 1.6287019939569833, 2.5190264306046233, 1.4503282442198642, 0.324819066938027, 2.4335928325823297, 0.965170914522161, 0.20965779286837172, 1.7271363714577928, 0.029653210010518682, 0.7599241301043416, 1.163690052151066, 1.955402274562579, 0.15382125891736942, 1.700384054199043, 0.4228809926417003, 1.3186939216591227, -0.3173576993762359, 0.16974421524058259, -0.3562716938585022, 1.5693329619531577, 0.6521270399929555, 0.8290887169204153, 1.4407829749159422, 0.5409421205365702, 0.8001947686588812, 1.4819599041596647, 1.65013127940606, 0.6976170008724212, 1.9540618184423972, -0.8601108354936375, 2.4808245981134514, 0.46265286288325436, 1.250294477659251, 1.2829384181749368, 2.6494590887411325, 2.916577553155231, 0.614369107288817, 0.14900965408046363, 1.6375629095582598, 1.0556146030218418, 2.228348188656316, 1.4091244046916112, 1.5771052561776886, 2.847974536158558, 0.3851700118117962, 1.4255125737662266, 0.7445851636476133, -1.009080088280275, 0.37751277285767004, 0.2819290134676501, 2.026884709890031, 1.1395830150995354, 1.575402106820103, 0.26449530368914, -0.15086978570849507, 0.6362258058355076, 0.43685287394218253, 1.5758996081493755, 0.9654063085952993, 2.14523229741192, 1.0361892497654146, 0.1653410702296303, 1.427654596034179, 2.3652905938534907, 1.2592084700517383, 1.2646539574397586, 0.274078205316724, 0.8357000604225107, -0.3242093080073849, -1.315489312003602, 2.751063133008236, 2.143497864124096, 2.1006001059747095, 1.7726067345811776, -0.17440139202029736, -0.567351768682737, 0.7855437319765789, 0.14565962625626583, 0.7455373993582294, -0.439703113052168, 0.35745548094898305, 0.8374092395679966, 1.4818944535322698, 1.5719764502693114, -0.010924480962230643, 0.3835814627666031, 0.18387566990889193, 1.0226025547469602, -0.1794597159172484, -0.4122445480639829, 0.3513116048748679, 0.5491399275231591, 1.8522978331850615, 2.63642004979439, 1.1386866866705394, 0.20999896710086408, 1.6453434924132, -0.3485558467914851, 0.3869488511337429, 0.7613886227734147, -0.4673254748835596, 1.0250639978775578, -0.5732887674932177, -0.6000842216340523, 1.2351269115144747, -2.329742640821865, 2.037078922424982, -0.3951812755397872, -0.3605691448352615, 0.06273008223027021, 2.243707895057243, 0.8204296387218051, 0.15483289889698393, 0.4125024532365573, 1.195746681144476, 0.23826672877151178, 2.0194114126298803, -0.24285581681722457, 0.5380988847647048, 2.0055765204047407, 2.5210241146991743, -0.3921578299342723, 1.214544746964684, 1.8455928478647565, -0.1783328376631237, -0.9412695099749457, -1.123916446584809, 2.825194645010108, -0.6249418936980666, 1.0855884996703051, 1.7267744996815613, 1.8788511708486666, -0.09064728123301657, 0.6436299810252998, 1.8993352534332333, 1.6936307595966023, 0.5773240293031401, 0.20710932835778606, 1.9807787869078348, 1.1994367321697312, -0.09995782878449067, -0.18040668197534981, 0.2472566241869142, -1.0670746271875484, -0.026459633101713287, 1.25726481979574, 2.0212078419880255, -0.2988550991320964, -0.3226136386653329, 1.7165254027646364, 2.609765301487787, 1.04304065091113, 1.7445675489108345, -0.06426178440561259, 3.8247898040958086, 0.10678086315859114, 0.6365886521679287, 2.8322344670185604, 2.578370813323583, 0.4704695796925791, 1.1491581069581411, 0.11344506295017298, 0.27390453543677706, 0.07543734691264059, 0.6353068704653825, -0.44939193812167244, 1.4431834111320305, 1.6990910150884204, 0.9090556320058841, -0.5302066482159062, 0.6396729716334868, 1.5708007005201805, 0.8176234827347821, 0.9081064179324431, 2.5656661279456436, -0.7705990163149399, 2.578560722496178, 1.172515373509164, 1.59907906942822, 1.9442415524534864, 0.9023791128707201, 0.2723291099068119, 1.0066840913227875, 0.4344047571038817, 1.877347926182479, 0.387234280539111, 0.39588361442657904, 0.5571803960622499, 0.18302232681769637, 2.114506741748457, 1.5623545639233933, 0.42944790106047537, 2.21405276412563, 0.2636019359349573, 1.5955060080561396, 1.9242850459921481, -1.8193074062147594, 0.6988745666051559, 0.7781689735884015, 1.3433968692543874, 2.822179318344369, 1.722558622997001, 1.7525540270228364, 1.2720660755384376, 1.1488552153419878, 1.3962016448889147, 1.9674102863803307, -0.3672352055051473, 0.9273456729111302, 0.6891106050596877, -2.001615069824613, 0.6509319670536174, -0.011752129822900637, -0.3693762827803577, 1.816961667033119, -1.1140116995490064, 3.0098376257527786, 0.5722471975449838, 0.9233958839792019, 1.0789103515615708, 2.9747766735061374, 2.39714887536477, -1.1534736900107894, 2.910081114970361, 0.5414915762916732, 0.44868285817266707, 1.5362226174306364, 1.673801949590604, 1.6551820243035575, 1.6968274657812605, 2.0504081698210177, 1.5625253761690852, 2.3466923944906393, 1.559582892397065, 1.118758783963315, 1.1199335287983436, -0.29917976765133947, 1.482828734396512, 1.0959592537472804, 0.0314634414170859, 1.504540545045808, -0.7187862902845654, 0.7146427379969479, 0.31715169203577276, 1.3705051100399284, 0.6387883031329415, 0.10914285158988268, 0.5858776552305069, 1.5213215505871736, 0.41552537734941264, -0.5129650730256625, 2.1680133672319286, 0.5427205568844269, 1.2806804100741618, 1.2753322948349184, 1.4647148854672882, 1.631037175605905, 2.0693667513871494, -0.19031840304487657, 1.1940316015478132, 1.332172950345765, 1.6258892249467136, -0.1211181872650402, 2.9335020114300385, 1.653980995891287, 1.083394100931824, 0.19000238520438795, 1.1636804056188006, -0.17730501939982934, 2.0304212489512046, 0.9720912919503013, 0.2935811046462986, -0.4491024275480655, 1.434902914547567, 1.3003832955261927, 0.4865453781666832, -0.8938129071765024, 2.389457135444678, 0.6505113657933236, 1.8812853065293673, 0.5963905505624685, 3.1498602253345998, 2.567833579449025, 3.699783446163296, 0.4396862995792986, 1.7050661828954834, 0.13282779183006188, 1.3554419133289626, -0.9862139389612328, -0.3086964595890018, 0.20837725861624878, -1.1345452021305533, 0.2663241708201466, 1.3885292867334642, 3.043304765173078, 1.647604665305468, 1.5138376205401887, -0.6238064577657456, 0.549142922662506, 1.138753423921286, 0.951874924126025, 0.6877035736605251, 1.9343307691362717, -1.2120439107621181, 0.8025708479960741, 1.7299440681435447, 0.5807210504810766, 2.427380482198009, -1.6927191142234985, 1.0750398797594316, 0.7099586435043721, 1.570999601887956, -1.599318921635763, 1.6104338160195506, -0.4613616271999812, 2.291142988445211, 1.1790482116268024, 1.0392253070105493, 0.19742687054378738, 2.2215933445268727, 3.4456126023772318, -0.5185176180069524, 1.062848797227374, 3.1353680918348497, 1.5034174409175667, 2.4519943526782795, 2.1178286102276758, 0.9499925743587829, 0.10226104021440341, 2.4652568488020012, 1.6066085940737853, 2.4998512786418035, 2.3180729985792974, 0.4344129555443047, 1.7168127173772507, 0.5182759816286069, 3.020296937922034, 2.3085634430390414, 0.9486510891874591, 0.2463821153374317, 2.86281685798895, 1.0280616280572943, -0.09466495614428339, 2.801982743940912, 1.4342135288426612, 1.1703518986075947, 1.7498469246218584, 2.824602947054314, 3.4274275303667974, 0.00763336729687758, 0.7528247698469205, -0.018983902347349924, 0.8873560307803238, 1.010926124679197, 0.4921737424667, 1.8123531334231577, 1.5914316914223896, 0.027658973064073056, 0.39465563255953295, 1.360077973790008, 1.7303629217069256, 0.5578412246720563, 0.5722575374902887, 1.928617071572137, 2.7009647809879116, 0.7813738905462223, 0.5607250253945197, 1.0246232515524583, -0.22544942390916556, 0.3112586085986411, 0.8488271822386286, -0.8768487111641439, 2.0743334582591864, 1.6184692572743027, 1.3427890644688862, -0.06769732890937519, 1.91774684379441, 1.3066349721425128, 3.0227940582944997, 0.2082512074799876, 0.5354480454289843, 1.7721626998314863, 1.488565329300173, -1.0936947062525153, -0.4607523184321636, 2.175693222957883, 1.0315503997922604, 1.0389709309199266, -0.19881873616247447, 1.4908558334746365, 1.1518616234552161, 1.1238460263179204, 0.7559544795307183, 0.891016598632473, 1.7167223685667703, 0.9860444222537823, -1.2225232443670615, 0.8188227097117519, 3.3858056549259445, 2.506300860295984, -0.0961224288857272, 0.39162241030152456, 3.4445013679682535, 0.8069006468999183, 2.9522968933181293, 0.2996492796035749, 0.9708316239287285, 1.3284626169900784, 1.0310669883486676, 1.609786779558451, 0.3864858470156174, 0.4061485958924914, 1.4576033911860302, 0.7834310790800384, 1.4405061633578327, -1.2443325349340109, 0.4218078063859926, 0.3638797228009637, -0.9176352254891333, -0.35645657079566373, 0.9041818773011794, 0.8713149952348447, 0.2955395038662231, 2.1798051308308635, -0.24122140523260716, 0.5539645651812687, -0.15117793759637177, -0.18660732605081387, -0.2848590243861022, 0.8279033806594516, 2.6666983707742276, 0.85037285553922, 1.4676258336298285, 0.6817532640958468, 1.0450163902032734, 2.221889245163403, 1.9976518250918787, 0.6508389500721528, 0.33198431502389913, 1.4757065245975896, 1.8836572490020735, 1.2658484205479157, 1.2342138577964106, 0.23584609308292104, 4.248425252123187, 0.6357496947104189, 0.8671404225625212, 2.3992693380837244, 2.009822266347971, 1.0127808978206208, 2.2660320809684267, 2.509963205382305, 2.4027132957876134, -0.9832223352057823, 1.085044007451704, 0.792365786144758, 2.265394209930962, 0.7620780178771442, -0.19330024366234855, 2.3101701206435683, 0.8837776490946379, 0.7135467968404381, 2.1599658052009665, -0.5075399113182757, -0.15367685449292123, 1.3230941174130753, 0.8609560644471422, 0.6088006590980839, 2.004824932258164, 0.4154472417250431, 0.6466528335820685, 3.105678623061873, 1.5381302588017265, 1.1372706560678714, 2.225067781466533, 1.2647281753019233, 0.7049424896067471, 1.0194451432529348, 1.265787501214434, -0.5464321563650161, 0.12873132091062967, 1.7335332367547285, 0.06385716826002064, 2.9593325316950048, 1.2971508768093067, -0.6671841233664129, 0.9956841374974174, 1.0154353614869278, 0.32394793002191313, 1.4423962654954776, 1.2099749097702046, 1.577612032378585, 1.6124716868569327, 0.6355426240998132, 1.270593759832614, 1.2103956506361262, 2.391886650256252, 0.6336372878782195, -0.6296214452005828, 3.7152894682798, 1.0271742859762405, 1.0293825652511217, 1.4717488959743374, 1.4946305853205804, -0.1718170582143197, 0.6230023773982449, 2.518214918219132, 2.8896894378610583, -1.142777977965423, 0.3035888318819663, 0.645036897771232, 1.5137315646518221, -0.10509813520544276, 3.472782196358473, 1.5166608338336307, 3.9274271696312235, 1.147398649195268, 1.27308666325955, 2.9196588476297096, 1.1131381179083082, 0.19801418732374, 1.1227994320367423, 0.816061430232403, 2.7085923079797505, 1.5260511030704949, 1.6539854697146195, 1.3382633968752682, 1.2278872608638411, 2.908998906763406, 2.552302958610607, 2.52983824479482, 3.063152044499823, 1.171709980182445, -0.6027787372148279, 3.4967283883386973, 3.073036743558988, -0.19591812187329904, 1.1256332006952197, 1.3121394715198242, 1.7927990427159415, 0.9169629246036897, 1.260614404810629, -0.9838348356198778, 1.970901745401961, 1.9518948711086788, 1.7196565254320566, -0.006420317529032049, 2.375659237761907, 0.48215737255900104, 1.2030890600485216, -0.12492707786710255, 1.5780797616419084, 0.7464057279113544, -0.26995187459988657, 1.1921722686150462, 0.8060468800487277, -0.7644092995606249, 1.054882747306233, 1.7934066336429528, 0.3432340273752591, 1.2545100899334471, 2.479813309560928, 1.0824975048564869, 1.425123707141606, 1.7727413338993587, 0.6798731934660868, 0.4089685017010807, 2.3299068726056764, 3.0657986004703854, 0.4900185302832353, 0.5158716868208866, 0.7825456418910369, -0.585099623515593, 1.6836515228882392, -0.6987081094769909, -0.25573257923814974, 2.078547572901927, 0.8832499780024519, 2.335537564005874, 0.866197184324561, 1.3404642883872966, 0.6135852577658192, 0.9116017943018272, 0.08918636055641527, 1.7331799963512995, 0.37949717912246017, -1.1607004660314661, 0.0073382523660529, 1.6663418176469698, 2.1601648004518426, 0.46607033816628873, 1.4976801173633805, 1.8089929385153645, 0.0733659082111876, 1.3993210024402694, 0.49971656091124506, -0.00145236931129622, 1.2584632001072862, -0.7944693794219169, 0.47186695993529126, 1.5573600715768148, 0.16203494311594802, 1.3970488426265533, 1.0785347202971909, 0.1818828311974957, 2.2682104986987044, 0.21987150252147236, 2.108735222097084, 1.4951452646084873, 1.584232179428232, 2.179104892166664, 0.012479092702170624, 0.9470514883529357, 0.8493099260886036, 1.2669779333652234, 1.1652148332584837, 0.08834520330811602, 0.9768337729847535, -0.3477204083273957, -0.35994824411973214, 0.47826915479899, 0.5571686300915111, 1.528301352395804, 1.3845457263730598, 0.7222609436959733, 1.1977747176158287, 1.6989310300383096, 1.223587159329094, 1.0424166801096215, 0.578209163784368, 1.0705049388939876, 1.9310127117525446, 2.3878907767227346, 1.3758869037585884, 2.8821424636689543, 0.3985217308279384, 1.7527786434743233, 2.3341629482600474, 1.6075787045610368, 1.6818690447590894, 1.4800222693649503, -0.7739828326583404, 1.0754367073524231, -0.6351332209438074, 1.0785885687989254, 1.5095145709235958, 0.13102844348082443, 1.4402412414806678, 0.6922266638648811, 1.4171461649923789, 1.951624890817768, 0.4977536715870836, 2.0687316377856035, 1.3221389895243552, 0.40778109646970917, 1.4552765967907038, 0.15647273355875502, 1.5958313444130647, 0.38625167432292096, 3.417907809132284, 1.6174010674333863, 1.2627808398985285, 0.8978017452019112, 2.400900196303118, 1.839938540130579, 1.3114738051310448, 0.6602666379585751, 0.9917750875040051, -0.6550426447424793]}],                        {\"barmode\": \"overlay\", \"template\": {\"data\": {\"bar\": [{\"error_x\": {\"color\": \"#2a3f5f\"}, \"error_y\": {\"color\": \"#2a3f5f\"}, \"marker\": {\"line\": {\"color\": \"#E5ECF6\", \"width\": 0.5}}, \"type\": \"bar\"}], \"barpolar\": [{\"marker\": {\"line\": {\"color\": \"#E5ECF6\", \"width\": 0.5}}, \"type\": \"barpolar\"}], \"carpet\": [{\"aaxis\": {\"endlinecolor\": \"#2a3f5f\", \"gridcolor\": \"white\", \"linecolor\": \"white\", \"minorgridcolor\": \"white\", \"startlinecolor\": \"#2a3f5f\"}, \"baxis\": {\"endlinecolor\": \"#2a3f5f\", \"gridcolor\": \"white\", \"linecolor\": \"white\", \"minorgridcolor\": \"white\", \"startlinecolor\": \"#2a3f5f\"}, \"type\": \"carpet\"}], \"choropleth\": [{\"colorbar\": {\"outlinewidth\": 0, \"ticks\": \"\"}, \"type\": \"choropleth\"}], \"contour\": [{\"colorbar\": {\"outlinewidth\": 0, \"ticks\": \"\"}, \"colorscale\": [[0.0, \"#0d0887\"], [0.1111111111111111, \"#46039f\"], [0.2222222222222222, \"#7201a8\"], [0.3333333333333333, \"#9c179e\"], [0.4444444444444444, \"#bd3786\"], [0.5555555555555556, \"#d8576b\"], [0.6666666666666666, \"#ed7953\"], [0.7777777777777778, \"#fb9f3a\"], [0.8888888888888888, \"#fdca26\"], [1.0, \"#f0f921\"]], \"type\": \"contour\"}], \"contourcarpet\": [{\"colorbar\": {\"outlinewidth\": 0, \"ticks\": \"\"}, \"type\": \"contourcarpet\"}], \"heatmap\": [{\"colorbar\": {\"outlinewidth\": 0, \"ticks\": \"\"}, \"colorscale\": [[0.0, \"#0d0887\"], [0.1111111111111111, \"#46039f\"], [0.2222222222222222, \"#7201a8\"], [0.3333333333333333, \"#9c179e\"], [0.4444444444444444, \"#bd3786\"], [0.5555555555555556, \"#d8576b\"], [0.6666666666666666, \"#ed7953\"], [0.7777777777777778, \"#fb9f3a\"], [0.8888888888888888, \"#fdca26\"], [1.0, \"#f0f921\"]], \"type\": \"heatmap\"}], \"heatmapgl\": [{\"colorbar\": {\"outlinewidth\": 0, \"ticks\": \"\"}, \"colorscale\": [[0.0, \"#0d0887\"], [0.1111111111111111, \"#46039f\"], [0.2222222222222222, \"#7201a8\"], [0.3333333333333333, \"#9c179e\"], [0.4444444444444444, \"#bd3786\"], [0.5555555555555556, \"#d8576b\"], [0.6666666666666666, \"#ed7953\"], [0.7777777777777778, \"#fb9f3a\"], [0.8888888888888888, \"#fdca26\"], [1.0, \"#f0f921\"]], \"type\": \"heatmapgl\"}], \"histogram\": [{\"marker\": {\"colorbar\": {\"outlinewidth\": 0, \"ticks\": \"\"}}, \"type\": \"histogram\"}], \"histogram2d\": [{\"colorbar\": {\"outlinewidth\": 0, \"ticks\": \"\"}, \"colorscale\": [[0.0, \"#0d0887\"], [0.1111111111111111, \"#46039f\"], [0.2222222222222222, \"#7201a8\"], [0.3333333333333333, \"#9c179e\"], [0.4444444444444444, \"#bd3786\"], [0.5555555555555556, \"#d8576b\"], [0.6666666666666666, \"#ed7953\"], [0.7777777777777778, \"#fb9f3a\"], [0.8888888888888888, \"#fdca26\"], [1.0, \"#f0f921\"]], \"type\": \"histogram2d\"}], \"histogram2dcontour\": [{\"colorbar\": {\"outlinewidth\": 0, \"ticks\": \"\"}, \"colorscale\": [[0.0, \"#0d0887\"], [0.1111111111111111, \"#46039f\"], [0.2222222222222222, \"#7201a8\"], [0.3333333333333333, \"#9c179e\"], [0.4444444444444444, \"#bd3786\"], [0.5555555555555556, \"#d8576b\"], [0.6666666666666666, \"#ed7953\"], [0.7777777777777778, \"#fb9f3a\"], [0.8888888888888888, \"#fdca26\"], [1.0, \"#f0f921\"]], \"type\": \"histogram2dcontour\"}], \"mesh3d\": [{\"colorbar\": {\"outlinewidth\": 0, \"ticks\": \"\"}, \"type\": \"mesh3d\"}], \"parcoords\": [{\"line\": {\"colorbar\": {\"outlinewidth\": 0, \"ticks\": \"\"}}, \"type\": \"parcoords\"}], \"pie\": [{\"automargin\": true, \"type\": \"pie\"}], \"scatter\": [{\"marker\": {\"colorbar\": {\"outlinewidth\": 0, \"ticks\": \"\"}}, \"type\": \"scatter\"}], \"scatter3d\": [{\"line\": {\"colorbar\": {\"outlinewidth\": 0, \"ticks\": \"\"}}, \"marker\": {\"colorbar\": {\"outlinewidth\": 0, \"ticks\": \"\"}}, \"type\": \"scatter3d\"}], \"scattercarpet\": [{\"marker\": {\"colorbar\": {\"outlinewidth\": 0, \"ticks\": \"\"}}, \"type\": \"scattercarpet\"}], \"scattergeo\": [{\"marker\": {\"colorbar\": {\"outlinewidth\": 0, \"ticks\": \"\"}}, \"type\": \"scattergeo\"}], \"scattergl\": [{\"marker\": {\"colorbar\": {\"outlinewidth\": 0, \"ticks\": \"\"}}, \"type\": \"scattergl\"}], \"scattermapbox\": [{\"marker\": {\"colorbar\": {\"outlinewidth\": 0, \"ticks\": \"\"}}, \"type\": \"scattermapbox\"}], \"scatterpolar\": [{\"marker\": {\"colorbar\": {\"outlinewidth\": 0, \"ticks\": \"\"}}, \"type\": \"scatterpolar\"}], \"scatterpolargl\": [{\"marker\": {\"colorbar\": {\"outlinewidth\": 0, \"ticks\": \"\"}}, \"type\": \"scatterpolargl\"}], \"scatterternary\": [{\"marker\": {\"colorbar\": {\"outlinewidth\": 0, \"ticks\": \"\"}}, \"type\": \"scatterternary\"}], \"surface\": [{\"colorbar\": {\"outlinewidth\": 0, \"ticks\": \"\"}, \"colorscale\": [[0.0, \"#0d0887\"], [0.1111111111111111, \"#46039f\"], [0.2222222222222222, \"#7201a8\"], [0.3333333333333333, \"#9c179e\"], [0.4444444444444444, \"#bd3786\"], [0.5555555555555556, \"#d8576b\"], [0.6666666666666666, \"#ed7953\"], [0.7777777777777778, \"#fb9f3a\"], [0.8888888888888888, \"#fdca26\"], [1.0, \"#f0f921\"]], \"type\": \"surface\"}], \"table\": [{\"cells\": {\"fill\": {\"color\": \"#EBF0F8\"}, \"line\": {\"color\": \"white\"}}, \"header\": {\"fill\": {\"color\": \"#C8D4E3\"}, \"line\": {\"color\": \"white\"}}, \"type\": \"table\"}]}, \"layout\": {\"annotationdefaults\": {\"arrowcolor\": \"#2a3f5f\", \"arrowhead\": 0, \"arrowwidth\": 1}, \"autotypenumbers\": \"strict\", \"coloraxis\": {\"colorbar\": {\"outlinewidth\": 0, \"ticks\": \"\"}}, \"colorscale\": {\"diverging\": [[0, \"#8e0152\"], [0.1, \"#c51b7d\"], [0.2, \"#de77ae\"], [0.3, \"#f1b6da\"], [0.4, \"#fde0ef\"], [0.5, \"#f7f7f7\"], [0.6, \"#e6f5d0\"], [0.7, \"#b8e186\"], [0.8, \"#7fbc41\"], [0.9, \"#4d9221\"], [1, \"#276419\"]], \"sequential\": [[0.0, \"#0d0887\"], [0.1111111111111111, \"#46039f\"], [0.2222222222222222, \"#7201a8\"], [0.3333333333333333, \"#9c179e\"], [0.4444444444444444, \"#bd3786\"], [0.5555555555555556, \"#d8576b\"], [0.6666666666666666, \"#ed7953\"], [0.7777777777777778, \"#fb9f3a\"], [0.8888888888888888, \"#fdca26\"], [1.0, \"#f0f921\"]], \"sequentialminus\": [[0.0, \"#0d0887\"], [0.1111111111111111, \"#46039f\"], [0.2222222222222222, \"#7201a8\"], [0.3333333333333333, \"#9c179e\"], [0.4444444444444444, \"#bd3786\"], [0.5555555555555556, \"#d8576b\"], [0.6666666666666666, \"#ed7953\"], [0.7777777777777778, \"#fb9f3a\"], [0.8888888888888888, \"#fdca26\"], [1.0, \"#f0f921\"]]}, \"colorway\": [\"#636efa\", \"#EF553B\", \"#00cc96\", \"#ab63fa\", \"#FFA15A\", \"#19d3f3\", \"#FF6692\", \"#B6E880\", \"#FF97FF\", \"#FECB52\"], \"font\": {\"color\": \"#2a3f5f\"}, \"geo\": {\"bgcolor\": \"white\", \"lakecolor\": \"white\", \"landcolor\": \"#E5ECF6\", \"showlakes\": true, \"showland\": true, \"subunitcolor\": \"white\"}, \"hoverlabel\": {\"align\": \"left\"}, \"hovermode\": \"closest\", \"mapbox\": {\"style\": \"light\"}, \"paper_bgcolor\": \"white\", \"plot_bgcolor\": \"#E5ECF6\", \"polar\": {\"angularaxis\": {\"gridcolor\": \"white\", \"linecolor\": \"white\", \"ticks\": \"\"}, \"bgcolor\": \"#E5ECF6\", \"radialaxis\": {\"gridcolor\": \"white\", \"linecolor\": \"white\", \"ticks\": \"\"}}, \"scene\": {\"xaxis\": {\"backgroundcolor\": \"#E5ECF6\", \"gridcolor\": \"white\", \"gridwidth\": 2, \"linecolor\": \"white\", \"showbackground\": true, \"ticks\": \"\", \"zerolinecolor\": \"white\"}, \"yaxis\": {\"backgroundcolor\": \"#E5ECF6\", \"gridcolor\": \"white\", \"gridwidth\": 2, \"linecolor\": \"white\", \"showbackground\": true, \"ticks\": \"\", \"zerolinecolor\": \"white\"}, \"zaxis\": {\"backgroundcolor\": \"#E5ECF6\", \"gridcolor\": \"white\", \"gridwidth\": 2, \"linecolor\": \"white\", \"showbackground\": true, \"ticks\": \"\", \"zerolinecolor\": \"white\"}}, \"shapedefaults\": {\"line\": {\"color\": \"#2a3f5f\"}}, \"ternary\": {\"aaxis\": {\"gridcolor\": \"white\", \"linecolor\": \"white\", \"ticks\": \"\"}, \"baxis\": {\"gridcolor\": \"white\", \"linecolor\": \"white\", \"ticks\": \"\"}, \"bgcolor\": \"#E5ECF6\", \"caxis\": {\"gridcolor\": \"white\", \"linecolor\": \"white\", \"ticks\": \"\"}}, \"title\": {\"x\": 0.05}, \"xaxis\": {\"automargin\": true, \"gridcolor\": \"white\", \"linecolor\": \"white\", \"ticks\": \"\", \"title\": {\"standoff\": 15}, \"zerolinecolor\": \"white\", \"zerolinewidth\": 2}, \"yaxis\": {\"automargin\": true, \"gridcolor\": \"white\", \"linecolor\": \"white\", \"ticks\": \"\", \"title\": {\"standoff\": 15}, \"zerolinecolor\": \"white\", \"zerolinewidth\": 2}}}},                        {\"responsive\": true}                    ).then(function(){\n",
       "                            \n",
       "var gd = document.getElementById('1de6e23b-da2e-4850-ad2e-b456e3237c3d');\n",
       "var x = new MutationObserver(function (mutations, observer) {{\n",
       "        var display = window.getComputedStyle(gd).display;\n",
       "        if (!display || display === 'none') {{\n",
       "            console.log([gd, 'removed!']);\n",
       "            Plotly.purge(gd);\n",
       "            observer.disconnect();\n",
       "        }}\n",
       "}});\n",
       "\n",
       "// Listen for the removal of the full notebook cells\n",
       "var notebookContainer = gd.closest('#notebook-container');\n",
       "if (notebookContainer) {{\n",
       "    x.observe(notebookContainer, {childList: true});\n",
       "}}\n",
       "\n",
       "// Listen for the clearing of the current output cell\n",
       "var outputEl = gd.closest('.output');\n",
       "if (outputEl) {{\n",
       "    x.observe(outputEl, {childList: true});\n",
       "}}\n",
       "\n",
       "                        })                };                });            </script>        </div>"
      ]
     },
     "metadata": {},
     "output_type": "display_data"
    }
   ],
   "source": [
    "n1 = np.random.randn(1000)\n",
    "n2 = np.random.randn(1000) + 1\n",
    "\n",
    "fig = go.Figure()\n",
    "fig.add_trace(go.Histogram(x=n1))\n",
    "fig.add_trace(go.Histogram(x=n2))\n",
    "fig.update_layout(barmode='overlay')\n",
    "fig.update_traces(opacity=0.7)\n",
    "fig.show()"
   ]
  },
  {
   "cell_type": "code",
   "execution_count": 38,
   "metadata": {},
   "outputs": [
    {
     "data": {
      "application/vnd.plotly.v1+json": {
       "config": {
        "plotlyServerURL": "https://plot.ly"
       },
       "data": [
        {
         "opacity": 0.7,
         "type": "histogram",
         "x": [
          -0.29985004586478314,
          1.0340660338297307,
          -0.4018076819455837,
          0.7506073699227773,
          1.6014003400294707,
          -0.23047116903583917,
          0.11498634772027513,
          -0.40202306278384675,
          0.08238295267717823,
          -1.1643482133142378,
          0.4972465239729247,
          0.22589488042010059,
          -0.19611799199986021,
          -0.5323764625926082,
          0.2506249153057552,
          -1.6405022067578263,
          -1.0501395352077127,
          -0.13742490478964242,
          0.5597480574419428,
          1.0028492832768963,
          -0.12100271031217502,
          0.45152348224798716,
          0.8527771817935914,
          -1.4196828895723796,
          -0.23853112984380448,
          -1.0492888888995695,
          -0.5173069303770963,
          -0.2110425655574733,
          -0.03256596601590753,
          0.24175022097022777,
          0.4959203114774912,
          -1.1096389522585155,
          1.4275057385388075,
          0.29073678120990704,
          -0.35068804116369356,
          1.0447331520151446,
          -1.2775723319958057,
          0.6081151663275428,
          0.3480973929257857,
          -0.5342801106916168,
          1.090413391244868,
          0.22532204817973883,
          1.0800695721611042,
          1.5783229352992092,
          -0.5706337376981249,
          -0.06903291269680423,
          -1.7878630522788226,
          1.17121171403929,
          0.5164091190290458,
          -1.7448722487635575,
          0.764475762628414,
          0.3163330646677689,
          0.23385396273030704,
          -1.7360189319217758,
          -0.23821601481105817,
          -0.49159649776737957,
          -0.43244365667730267,
          -0.9725839176133276,
          -0.5368376622146062,
          -0.9343910934447526,
          1.0205531713056921,
          0.6012227890267408,
          -0.2245747697327774,
          -1.4296315844020757,
          -1.1501622095576556,
          -0.7810407733574798,
          0.49705981871465077,
          -1.2938722216178833,
          -1.2809031318303647,
          0.9840523123667206,
          0.9766902178329147,
          -2.010326921809638,
          0.8380733398429784,
          1.9722972507010241,
          0.59574418247542,
          -0.7326346758575096,
          -0.1931489830480163,
          0.445576809678996,
          -0.22680602501994793,
          0.045171110858012675,
          -0.053475834384663204,
          0.5012076958754724,
          -0.0697422520500214,
          0.807179213218468,
          -0.6714712476839628,
          -0.46796443476427013,
          1.0837142442307088,
          -0.3480809789890753,
          -0.6170736773057772,
          0.1569923837952077,
          0.46959202114974724,
          0.9167089080375996,
          -0.21921926990014304,
          0.7715968118711879,
          -0.45377171080701595,
          -0.16357997505809047,
          -1.5622875994941752,
          1.4544677080807413,
          1.1394305406620255,
          1.086492043731359,
          -1.2369020924773133,
          0.5885430356184913,
          1.4076754753130671,
          -0.0517552505301058,
          -0.7366517218393693,
          0.5183837505824105,
          -0.910677052511489,
          0.9140726291050202,
          0.8189129892562351,
          0.1934536135116913,
          -0.5533005894662701,
          -0.6490451648894744,
          0.0945211029745289,
          1.5708824623676014,
          -1.5010254472275646,
          0.044785950663131804,
          0.2965892975126571,
          -1.487211838662743,
          0.506076816783977,
          0.08009974866948572,
          -0.3154518608204919,
          1.3066472346066957,
          -0.6325756375871099,
          -0.23823773167315143,
          0.2523295992880034,
          -1.4186220589850587,
          -0.201201290840416,
          -0.8759441503243259,
          0.2648706394630809,
          0.44957408277452765,
          -0.5923061204500092,
          -2.6742326838173267,
          0.4427387513388333,
          -0.8295728528115992,
          1.0779408122264083,
          0.6399107368351477,
          -1.7285942948503308,
          -0.0446949607906182,
          -0.14059573845963363,
          1.0163774705559574,
          -0.5594142854657302,
          -0.3447361086020435,
          0.19911788287172194,
          -1.2907106963702062,
          0.13415493622411362,
          -1.6615583266630325,
          -0.48102562203258076,
          -0.17611438901243143,
          0.8352034757130834,
          0.1447760221093485,
          -0.5043548946535672,
          1.0764906565166759,
          0.06795832047824749,
          -2.079135197910637,
          1.0616137540840938,
          1.4786307667166116,
          0.09871951947831693,
          -0.5115377377483111,
          -0.7640990831975852,
          0.10954750581165937,
          -0.3137730833825665,
          -0.49361996005116643,
          -0.6516542338192723,
          -0.6793445463183594,
          0.9500417023500367,
          0.8834254624771132,
          0.9606326785281099,
          -0.02149650313947749,
          1.6247183665370222,
          -0.9608103674620105,
          -1.6359417550068922,
          0.26321198434476134,
          1.6609175728184813,
          -0.7971674393250013,
          1.0717165125513866,
          -1.2312789750675204,
          -0.5674015891549762,
          0.12602146624331736,
          -1.2655114603152726,
          1.553359056965127,
          -0.49611925278114244,
          -2.0553866035035737,
          0.34152187653400257,
          -0.04258990090446223,
          -0.43457623154562247,
          0.7919231515674108,
          -1.031679142424307,
          2.185500217981566,
          -0.6456481912087035,
          -0.9881102293774732,
          -0.7912067345162725,
          0.7452495413596021,
          -1.7111693522571019,
          0.16473436383023432,
          0.8779556348298232,
          0.27519633164012747,
          -0.5633430625274123,
          0.7513414802233314,
          -0.6858613140144378,
          -0.5530131005059542,
          1.165427033836607,
          -0.7278177196280993,
          2.595765247058776,
          -0.5211137938867524,
          0.708143852945026,
          -0.03360865013190458,
          -0.7952712235877107,
          -0.78391980074806,
          1.058445668416541,
          -0.18172893772915044,
          1.3017650781496777,
          0.10561478436387177,
          1.0064357181321697,
          -0.4821134067501205,
          -1.4679055523710867,
          -0.42252464570858606,
          1.1394674178250555,
          -1.0516363604858738,
          0.9706994881659693,
          0.3318954333356879,
          0.455586034642903,
          0.09753989837205357,
          1.0897303100996232,
          -0.315726167801868,
          -0.7306010816682624,
          0.9285259352465217,
          -0.21894359302554156,
          1.3260216908267177,
          -1.73206133388326,
          0.3148298688241889,
          -1.555064426177878,
          2.526719065727209,
          0.03348709577984074,
          -0.7769697486773259,
          0.399460619397058,
          -1.2693671827933672,
          -0.6081945335599529,
          -0.5145788992929486,
          1.7791444904529587,
          1.9700241020081852,
          -0.1030220259701858,
          -1.1542799382816396,
          -1.4887268493573562,
          2.062664524114432,
          -0.9365510445423842,
          -1.7826050287724995,
          -1.0136216503135251,
          -0.26592736554905266,
          -0.41606143103039206,
          -0.15987292755865826,
          -0.7106567148539203,
          -0.5344084943654333,
          -0.42580002594676947,
          1.1838185047252332,
          0.354017411529926,
          -1.1228749293393758,
          0.22631639593161426,
          0.34800984450701444,
          0.44885155969756346,
          0.1507289486127176,
          0.3594709931806511,
          -0.5802334679405758,
          0.026416906266980292,
          -0.5683591589154691,
          -0.7660505677778131,
          1.5059740801529076,
          -0.6786659478833525,
          -0.6439875043096805,
          0.24166701370616578,
          -3.1991172118096696,
          0.2984253035029829,
          0.5356156060837484,
          -0.5608196891890058,
          0.305653268664268,
          -1.0474968297859348,
          0.20576574821897817,
          0.4254145514809193,
          -0.7734018162092281,
          -0.11409940049961832,
          -0.1954077852460536,
          1.1090285452645967,
          -1.1377294057312228,
          0.6305664562826035,
          -0.3443993279280475,
          1.7272952907541321,
          0.47191457021998745,
          -0.4339006317285293,
          -0.4931053999969973,
          -0.5158309975326372,
          -1.114878467831592,
          -0.1106004648137571,
          -0.8225406061373399,
          0.0030352963248874236,
          0.638545669549443,
          -1.449565326297249,
          1.8059567978276512,
          -0.2220793409796064,
          -0.22078218753653053,
          1.246951902828236,
          1.6205683627015863,
          0.8937939746518158,
          -0.1370333043123607,
          1.0840126347921843,
          2.1501635673411545,
          0.4928649417255266,
          -1.4661204337634517,
          -0.6970923771461078,
          -3.443298742661331,
          -1.0772018313277834,
          -0.26617647034100883,
          0.46954198956618504,
          1.1953113377954225,
          0.9911763692225705,
          -0.3812737250180249,
          -0.33552994036604245,
          -0.42630520931210136,
          1.3759418886028103,
          0.6755260648488616,
          0.41182088202190986,
          0.2515983629749863,
          -0.710135350573957,
          -1.2014936829142773,
          1.3815092051956097,
          1.315625925441294,
          -0.9017803049803792,
          1.2821641546298386,
          -1.463244918781659,
          0.6624569114930144,
          -0.9115760041828892,
          1.994615733716944,
          2.3559060780222074,
          0.8057829826799764,
          -1.4019135040728805,
          -0.1032420742976535,
          0.4183179743659748,
          -0.33091992541677817,
          -1.616164534030871,
          -0.7877572946317062,
          0.37065357524110143,
          -0.04772024290516966,
          1.088940185288366,
          0.16065397940287424,
          0.1308454863899447,
          2.0703518883792875,
          -0.9227117139916489,
          -1.963456630478168,
          1.9951299893958099,
          -1.351211890899945,
          1.3590710211484425,
          1.502678357897545,
          -0.9538482820306275,
          -0.5601216607940988,
          0.9494282643601474,
          1.296686442293302,
          0.5764655726094254,
          -0.08313500545669561,
          -0.8870353976556558,
          -1.70526477749805,
          1.01528169039905,
          0.3897542124804436,
          -1.424749859932479,
          -2.011336016031179,
          -0.4344521661685339,
          0.24150187883120994,
          -0.2132540741738784,
          1.156989437515972,
          -1.274742962625479,
          0.5485064497637706,
          -1.244514993001058,
          0.17889806328258187,
          0.5096705673634415,
          -0.25588383898192385,
          0.9337391707191091,
          0.5732327892524197,
          0.025113853172534034,
          -0.27801513467256866,
          0.0488945560304486,
          1.021201573127443,
          -0.8675709909552869,
          -0.44495518209938534,
          1.6783655169341178,
          -0.7607160562098724,
          0.0529857991797048,
          0.05127964688348687,
          0.6343579863381772,
          -2.0182458283301123,
          -1.313570407338835,
          -0.20361527811618277,
          -1.2494193582692639,
          0.9526570584372616,
          1.9016191718476334,
          -0.7374334091707864,
          0.1534528701260703,
          -1.2476967364701825,
          -1.7215782644842614,
          0.6841674536782854,
          1.1037425312240938,
          1.2202850640307914,
          -0.2733726454709366,
          -1.5198507091015483,
          -1.0838391836714647,
          1.279881763314853,
          0.18414379116216023,
          -0.09737019364867636,
          1.9772184516289784,
          -0.09862191928693378,
          -0.6595454397717598,
          0.9687209054880427,
          1.5011202469711034,
          1.343942059662938,
          0.09423388634082071,
          -0.462580791799237,
          1.0458155949675825,
          0.2906066825455321,
          0.12691217045974038,
          -0.8020243453366074,
          -0.36374869633526985,
          0.446399979549017,
          1.25365653582988,
          -0.8115157218103762,
          -0.17318118074746114,
          0.9900637490047597,
          -0.4434718071308809,
          0.07451733472162353,
          0.6628011971288872,
          -0.7258922454522706,
          1.5735928655611395,
          0.8141316784609539,
          1.4013890245168006,
          -1.6130926744840473,
          -1.3236502731159403,
          -0.41049050922822117,
          -0.5356729165373575,
          -2.0245405418826667,
          -1.39638302158819,
          0.7766466960250807,
          1.6499121450086407,
          -1.7359048235494143,
          -1.0113709526364343,
          0.7019737727159925,
          0.2596496605076049,
          -1.0099386188020867,
          1.5211594553717145,
          0.4629660395220006,
          -0.8144752045133381,
          -1.0283634751860606,
          0.5671255580922692,
          -1.297856012949512,
          0.8362449368997568,
          -0.09130926770387503,
          -0.015754940242595834,
          0.21575991280698037,
          0.6887827025802582,
          1.0093025905915711,
          -1.5077597334565191,
          -2.5246539944674296,
          0.5357292521298749,
          1.4304230254919292,
          -0.36523726736343803,
          -1.9102997160560355,
          -2.105268778982171,
          1.4079696104001267,
          0.09498094601082152,
          0.6380346704817641,
          0.8694282831690988,
          0.23170367640572376,
          -0.4297132816494989,
          0.5211952566023198,
          1.9610689043760938,
          -0.037190323769136606,
          0.49762017071907966,
          -1.3552004844499912,
          -0.5004059449005004,
          0.11704893091794207,
          0.07993905399305562,
          -0.8369707223019401,
          -0.07760316845280404,
          0.13325810717835487,
          0.4808933013337896,
          0.41887492221955624,
          0.06533260830316007,
          -0.5015692051708514,
          0.7752644395147361,
          -1.1326756365260082,
          0.6355994422328295,
          0.4983004909780987,
          2.4760695267997344,
          -0.7023474146371446,
          3.0745436549328207,
          0.5085800346058234,
          0.5786858902551708,
          -0.12272395692561357,
          1.193074364259754,
          -0.48881415085181285,
          1.1189050266947425,
          -0.379569815305175,
          -0.37880291018723805,
          0.6802092887154289,
          -0.8376779998459486,
          0.9431016974025712,
          0.04366340980126405,
          -0.5227387623005755,
          -0.6633882141284806,
          0.6043517237331612,
          1.0062393106687124,
          0.1922279350143539,
          -0.5916608512417285,
          -0.5488325937280983,
          -0.8604953825719736,
          -1.1615423109660825,
          -0.24324883678818354,
          -1.2094671709185507,
          1.5795757651110975,
          0.6531428595468678,
          -1.3625413393151946,
          -1.025895755503949,
          -0.08799484384089314,
          -0.10663667095219,
          0.4226674575342313,
          0.40039768277494026,
          -1.7430564859215356,
          0.06443192807264803,
          -0.45835922686380315,
          -1.5011493977635242,
          0.4286188718229174,
          0.10772061874718197,
          -0.6858200247626225,
          -0.5299521826759391,
          -0.019434366799967188,
          -0.13341341758579356,
          -1.2547153774246487,
          -1.6397506293273374,
          -0.4981634073445455,
          0.19631244747365037,
          -0.09201742065828757,
          1.219668955894257,
          -0.8411113957134146,
          -0.3848616902050319,
          -0.13087163249262793,
          -0.524729069830685,
          -0.28028333031131,
          0.7347990549901623,
          0.037784018262495674,
          2.3162403185557237,
          0.5647851813960977,
          1.4510279452166104,
          0.6303456726153192,
          0.5237424460494001,
          -0.022340173338965447,
          -2.105640582612625,
          0.0402430994162575,
          0.1890197715080602,
          -0.028007479913086785,
          1.1821973502008591,
          0.34838584784321025,
          0.5149143490998673,
          -1.0298230849056504,
          -2.100606048757985,
          -1.0519984754867098,
          -0.7984055602521992,
          -0.7477032236536688,
          -0.5097991684659124,
          0.9722775571088711,
          0.1502730409099726,
          0.7668751110104489,
          -0.022194801761627247,
          -0.48720839345709066,
          -0.3212045601665638,
          1.5949232386844534,
          -0.9688723131615274,
          -0.20956235617132685,
          -1.2980166060312306,
          1.3213576282607546,
          0.29478300044267786,
          -0.38955277358046303,
          1.1998600514863438,
          0.39756679935987604,
          1.4937777941837809,
          -1.8978860591046893,
          2.0040480466194497,
          -0.598750393941981,
          -1.1119935095161704,
          1.0783942019247927,
          -0.027964482835342763,
          0.1075308516183669,
          0.6264430866059756,
          -0.41368629748196645,
          -1.3390914391190283,
          -1.7616242380293379,
          -0.2793978844816209,
          -1.4836047042105425,
          -1.1154817824657395,
          -0.8711284560404374,
          -0.040135632177780635,
          2.7832625244423146,
          0.23466319944505268,
          0.9393028042421664,
          1.8427840709662253,
          1.0380694430964006,
          0.5963255719141101,
          1.107164817772995,
          2.339163932867049,
          1.4993112631028418,
          0.9147538080200154,
          -0.40333410201322983,
          -0.3145130304765868,
          -0.39898857182151,
          0.1041586070558918,
          -1.0005399922564642,
          0.8572814526993304,
          -0.624078741859271,
          0.17085766292831175,
          -2.708042092813228,
          0.7195152636232915,
          -0.45058160985445567,
          -1.6081407983115166,
          -0.4424933455959484,
          0.3450273709966773,
          0.15596379554594875,
          1.6103580606216803,
          -0.20248117014963468,
          -0.5918814391376269,
          0.6247018752549521,
          -0.5340640867475749,
          -0.3671069582113229,
          -0.22957193992875322,
          -0.34288627163482405,
          0.6996477997140919,
          1.7800821886999245,
          1.365828277599922,
          -0.6437181559225256,
          -0.8284717395486025,
          -0.40524021551394385,
          0.7381629972593561,
          -0.7893323013852693,
          -0.15680111536795163,
          -0.3739075223233407,
          0.8260463177488144,
          -0.6182710886590651,
          -0.7355336367266803,
          -0.058948766940981875,
          1.5176237778520145,
          1.9435292474911054,
          0.7950200149713,
          -0.9841905954857076,
          -0.23575638900370954,
          0.6324336151267291,
          -1.846850046799539,
          0.6152300371543924,
          0.6364026111679,
          -0.0877557367100331,
          -1.4432694810898488,
          1.1570463194030953,
          -0.9185404456236568,
          0.6787851080016603,
          1.1283020626104046,
          0.839930669424177,
          0.25330378659615227,
          0.028587613644444083,
          0.8122037629740758,
          -0.6447791373574098,
          0.1290424759496042,
          -0.42300461931108385,
          -0.4489646612695765,
          -0.6518703119439766,
          -1.9606212714145077,
          -1.951220566305428,
          -0.24240406672540582,
          0.4601884014874682,
          0.8163320242690705,
          1.0956515309631654,
          0.04081159128748449,
          -1.0018463372943691,
          -0.5526361352232304,
          -0.417963215776427,
          -0.17419691538759866,
          2.2322377396201665,
          0.7353201901002108,
          -0.5405548099203391,
          0.25848469395837453,
          -0.5310612221984135,
          0.4009088637722695,
          0.13367310962241416,
          0.8695181514856873,
          1.472998708816222,
          -0.7031846120230121,
          -0.6222889329155256,
          -0.9373087386396357,
          -1.1671497305784593,
          -0.7986083432044461,
          0.5437819401058309,
          -0.47379672964061337,
          -1.8265797995876791,
          0.09948353174843087,
          0.5195396637423587,
          -0.014394657654826667,
          1.046965363257291,
          -0.23541072659728707,
          0.4599856197161383,
          0.8277841868413199,
          -0.3807858604710645,
          -0.20454929498519325,
          0.5379346465920408,
          -0.31387800976492963,
          -0.23515466334814636,
          1.5755499996955,
          -0.4389102401774227,
          2.385203753203767,
          0.2737929881752998,
          -0.577210529716013,
          -2.025659669149553,
          0.08282564431798166,
          -0.3842418899425596,
          -1.9530932443677032,
          -1.5604957183751367,
          -1.3268312371965523,
          1.1111339243229295,
          1.413088040992288,
          1.1575076481303443,
          1.7319560393628166,
          -0.9996218574463722,
          -0.04147401952832557,
          -0.4036707832674039,
          0.36738839940820606,
          0.20899139006174333,
          -0.17635226035248966,
          -0.8489900723936182,
          1.3891975736214979,
          -0.8435496022808939,
          -2.014242103946267,
          0.9371165424309409,
          -0.5246462425372724,
          -0.13681585787037642,
          -0.07413144001220989,
          -0.013980251776356258,
          0.8796183507618276,
          1.452495444140174,
          0.4393117483058939,
          -0.15563756734562045,
          -0.7742464766844619,
          -0.43916161663143577,
          -0.29839523372509813,
          -1.032800483954567,
          0.45232361034029445,
          1.2574541623098532,
          1.4299143953386888,
          1.021159145992656,
          -0.6461092410286361,
          -0.5715215771800944,
          0.35981637685545165,
          -1.103652736929994,
          0.24308316315784875,
          0.7856763233776239,
          0.29002187328061435,
          1.2709881839418438,
          -0.4840173597558358,
          2.590002633911293,
          -0.7010743413633023,
          -1.7941197294564346,
          0.43445348847623,
          -0.5987036746907263,
          0.3315549763556793,
          -1.6215395543901834,
          -0.07114737468826686,
          -1.1218308867586635,
          0.34090618804798173,
          0.2487171774915491,
          -0.250040091010442,
          -1.6553307422756436,
          -0.7769605938926435,
          -0.22604087293101024,
          0.31421057927051105,
          -1.5960933097650005,
          0.006989372486376412,
          -0.3325732174057651,
          -1.1214402649454753,
          -1.6253844076388286,
          -0.9141570190958406,
          -0.3501564130032268,
          -0.14942896486002027,
          0.042234440008702925,
          0.8333525645962111,
          -2.4501097292890153,
          2.772285213562791,
          0.9445028456609925,
          -0.07779802172645578,
          1.204717602792377,
          0.31291906066548714,
          -0.7538220839459991,
          -0.17382634169636385,
          -0.6913104961679606,
          0.694671534848172,
          -0.10077568178058266,
          0.08236441220753557,
          -1.7839095965151437,
          1.0967097018389407,
          0.9387802203129363,
          -0.011945396550226512,
          -0.732810018445752,
          1.4433090713708843,
          -1.5064624076407898,
          0.5828705962921003,
          1.38548425199566,
          -0.820518030457041,
          -1.449242574871947,
          -1.0713092358287517,
          1.3788880076720793,
          0.4348247212505486,
          0.4297632859755123,
          -0.7328257558494887,
          1.5959643749477737,
          -1.3624775665985425,
          1.882617036463699,
          1.4150828013761552,
          -1.3623408668306183,
          -0.5330638517327392,
          0.5688091529386552,
          0.09006270111319849,
          -0.31453108891036535,
          -1.2014762879245282,
          1.5557100986281491,
          0.8121884807303288,
          -0.7547577576839941,
          0.34920380607205476,
          1.736565580618677,
          0.22408210572767912,
          0.17732015856419175,
          0.13325640093076782,
          -0.37402444698617354,
          -0.25499349066267374,
          1.4640672700119026,
          -1.771045144606101,
          -0.4520760483859866,
          0.30345882804450947,
          -1.3704822545945274,
          -1.6084205593797718,
          0.0988052313991106,
          0.10183320640113885,
          0.11625753891188743,
          -0.3095495069610606,
          0.7151179694394495,
          -1.5908799119504862,
          -0.23374319049514003,
          -1.464633945630529,
          -1.325502838136993,
          -1.2899509553716093,
          -0.7347201308257468,
          -1.1272637057638115,
          0.166603687763875,
          -0.4810997787582064,
          -0.21013105354397102,
          -0.24134324357858453,
          1.8280508479219522,
          1.1277609721824047,
          -0.33432476522750654,
          -0.13269787440122416,
          -0.4987415680512404,
          -1.5639670094364577,
          0.7338698492151426,
          -0.36622204225267,
          1.285064533566332,
          1.7618250992435287,
          0.4586969931998126,
          0.6083486447030941,
          1.5161485375109822,
          -0.08184297460387512,
          0.5043960047992535,
          0.6830967573732125,
          -0.450760291643055,
          -1.2242601358250806,
          -0.6096948958948556,
          -0.5895953425216293,
          0.4738932311628689,
          1.2094598766967146,
          -0.06558268326246704,
          -1.2096178067859151,
          0.6138743543938522,
          -0.9075462541321268,
          -0.25474407139605965,
          0.3805336234041144,
          -1.6431337667068289,
          -0.3682134725227073,
          1.521282134183286,
          -1.4411748194566043,
          1.4117967477532694,
          1.9395656023398054,
          -0.7427076250358131,
          -0.6369569311147703,
          -1.0347417748918013,
          0.11990875574260336,
          1.131690911918678,
          2.929817369737788,
          0.17846385959567454,
          1.5220248946153343,
          1.2491679561225095,
          0.29733680875533264,
          0.9620100482085396,
          -1.6518799356971705,
          -1.004840059261284,
          -0.03442157785040665,
          1.0767067867192017,
          0.5134555914143947,
          -0.3366183571418247,
          -0.032024456947926036,
          -0.7711892319702188,
          0.6113108224567748,
          -0.20914423686779074,
          0.2706313753513418,
          0.24839799473262658,
          -1.3788531592625204,
          0.3641094813999286,
          -2.880253249725461,
          -2.3055204554958033,
          0.5806018215365398,
          1.0019358548375872,
          0.20280882889905408,
          -0.3323145480884614,
          0.6999542720632408,
          -0.6291570636492202,
          -0.9563535407976866,
          1.0663210157486613,
          0.18980566421329195,
          0.6950971538265023,
          -0.03280978969506195,
          1.8166060176729257,
          0.37115069600723594,
          1.783687062929147,
          -0.6482043895143441,
          -1.2465280215840822,
          -0.966142111186401,
          0.6982123895356851,
          -0.6657962302636885,
          0.1094289975604869,
          0.8954756240705096,
          1.9117154961535154,
          0.008139450237546524,
          0.6303639757355857,
          -1.5234304931382516,
          1.0233168024521033,
          0.7073689739053804,
          1.9342539456879668,
          -0.26512166490530664,
          0.851565358606784,
          0.9717215319977911,
          0.08811622790229294,
          0.7433496375455826,
          -0.9177575452148578,
          -0.7621941934251829,
          0.34012352001893426,
          0.5665302273632724,
          -1.527251364033919,
          1.8480092488475115,
          0.8110607852330086,
          0.08705105791098987,
          0.7372031066139778,
          -0.6474874360776646,
          -0.3522826199515102,
          -1.2710973532759626,
          -0.3023734923342942,
          0.47312391767878864,
          1.3286441607169244,
          -0.7385778740892435,
          0.9065736799674977,
          -0.981047777053896,
          -0.506021010192092,
          0.21225809251436842,
          -0.0521179004322084,
          1.4423575410458362,
          0.14745910900881962,
          -0.4221111439673205,
          0.03918850771970931,
          -0.6268438669205582,
          0.24370144844939992,
          -2.340283849656483,
          0.28454938859875484,
          -0.6857569484888761,
          0.2706427630505438,
          -1.3162133574425925,
          0.18197748387009588,
          -1.1382871149469782,
          -0.11853074491071333,
          0.6334887016468529,
          1.039943310923809,
          1.0594050343315244,
          0.7834361742332371,
          -1.3987851849151574,
          1.1066837033551882,
          0.06197189601423477,
          -1.5566867743100075,
          0.005256548960442594,
          2.405915257843566,
          -0.3397772047818187,
          -0.1479680829114786,
          1.7074467289629718,
          0.4540191462450329,
          0.430523616266458,
          1.826129131071583,
          -0.26488622915351895,
          -0.5701937964244319,
          1.103833161271264
         ]
        },
        {
         "opacity": 0.7,
         "type": "histogram",
         "x": [
          -1.8199501720349907,
          0.7660046869179293,
          1.9926870442507933,
          1.1453398055343018,
          0.42282201707682654,
          3.1612035222515273,
          0.9647992147050625,
          0.36357195736155656,
          0.26943046992415165,
          1.8631032572591533,
          0.686283511012067,
          0.9489015066413812,
          -0.409985369105466,
          2.4983327948860135,
          2.263751649861315,
          -0.830672795395867,
          -0.41252070785985917,
          0.5269190235966702,
          1.3690302356512216,
          0.29018176112373784,
          0.22259793851607068,
          1.3545101996522542,
          2.8565551733228354,
          1.5225787149434864,
          0.3216394310389016,
          0.6235386206977915,
          1.2276681775972345,
          0.2694813802590288,
          1.0570122365458672,
          0.43401414396574733,
          0.4823578038172902,
          -0.34389928062840736,
          2.0916978734435117,
          0.22114242118208882,
          2.273923364055883,
          0.42828222706327834,
          1.0816729731811334,
          1.5874552012153473,
          0.023875772592796274,
          0.7447188767666884,
          3.7752057180138636,
          0.600476481082014,
          2.324879321533185,
          1.5794074099712423,
          0.19976401139292,
          1.128833807729949,
          1.455531234053306,
          1.7076869795649507,
          1.8273817015956488,
          -0.342699591997343,
          1.9256281892922535,
          2.193426067978487,
          0.3216236850629156,
          0.16280829783789796,
          1.4336106795134909,
          2.146908239534219,
          0.36383293090530033,
          0.21307446134186414,
          -0.5460163309569364,
          2.6291354923159878,
          0.3128827502711109,
          0.4801298962630297,
          0.06175833001717934,
          1.9222678339863863,
          0.2783040976311728,
          1.7176327193260508,
          1.350218339390585,
          1.1507526338106708,
          1.5912326288536078,
          2.75683421171973,
          1.0439516150352641,
          2.2831841803913244,
          1.270243508789097,
          2.4364857173280425,
          1.5305896568932855,
          2.3825853892820303,
          0.8458821840447727,
          -0.01351431462559649,
          -1.2145858681912682,
          -0.526715478583434,
          1.1466804076967483,
          0.8330550366569345,
          0.9539326739925125,
          1.0428462671411574,
          -0.20162010531733943,
          0.2851253354872375,
          0.05227786146999813,
          1.7980762571462638,
          1.162644673151784,
          1.2726711017539565,
          2.019719245845277,
          3.826617099674931,
          1.0413141919992936,
          3.0173703979229782,
          2.9655824421431882,
          0.7866086412207992,
          0.44887667685294563,
          -1.4447622651404912,
          0.5597200536433495,
          0.17661692151658548,
          0.7133989626100183,
          1.744773458995288,
          0.05967363132750947,
          -0.689303201617802,
          -1.1223456600477975,
          -0.08969984133631148,
          1.158138843833314,
          -0.01790634328467644,
          1.745968414899915,
          1.3118575002246307,
          1.7205385053993862,
          1.092311668714783,
          1.3598694591516463,
          0.09600986297552305,
          0.9762925775771123,
          1.9841941678588824,
          -0.20553251614297352,
          1.515929774670098,
          1.0536100167475926,
          0.36713405275160793,
          0.1681319485156999,
          0.9130562168855936,
          1.195430535104852,
          0.1293953964270672,
          1.6928036605196577,
          0.5276817214624201,
          3.0884459176129018,
          0.1991887185369159,
          2.019236060591765,
          0.154701075109287,
          1.1329580522262346,
          0.48303644220096975,
          0.2581169908959019,
          1.7547979016952235,
          0.18700641193734968,
          0.9355007068507858,
          1.9377816588967174,
          2.5454696750006427,
          -0.864363018836533,
          0.2877710889796422,
          2.146597106503756,
          1.2753240271713422,
          -0.20092725488120133,
          1.1412431843650048,
          -0.16094625694104514,
          1.314743619584147,
          1.0266778120640907,
          3.8284274488215693,
          0.5007400109065445,
          0.3475141269950768,
          0.4010793856509116,
          -0.5409227996396828,
          1.4006192079928355,
          0.4758593484772804,
          1.4981374407138894,
          0.8607711702998406,
          1.3205022111831524,
          1.7543575981237565,
          1.9210988900795636,
          2.1006294132833134,
          1.755340972216917,
          2.2569578766438374,
          1.8141755229609036,
          1.2977257728496583,
          1.4025869146693093,
          2.6275455480388565,
          0.3229046593742527,
          0.9107101158093761,
          -1.403066078856638,
          -1.018750678435945,
          0.274115065331059,
          3.1111714705395035,
          1.9645098334527114,
          -0.11021966456742027,
          0.10739832002838312,
          0.959550311149164,
          -0.03673657121909368,
          0.714564239931031,
          0.7201328619401735,
          0.6125975615001544,
          1.0350999518663835,
          3.347014390354241,
          1.4240464064914382,
          0.6581260372939282,
          -0.8201850367251902,
          2.149112154132159,
          2.194289837055098,
          0.9049918263769936,
          1.9524351270197313,
          1.242773283321753,
          1.2207579639715187,
          1.3260373216463937,
          0.07329406044452336,
          0.586620175941045,
          0.3819883732981696,
          -0.4916049804753744,
          2.0904786472076458,
          2.0386465221061183,
          -0.020996478461105417,
          2.6775039816935733,
          2.3529081631026356,
          0.3376527893846143,
          0.21827262827884497,
          0.930298362668642,
          2.6096195075880617,
          2.6457216883307266,
          -0.7054588754538123,
          0.8684743479869224,
          0.2727468378883259,
          0.8250710355302346,
          2.223726659570882,
          2.201424798938363,
          2.6823280612077585,
          1.078620953178432,
          1.8769969564635942,
          -0.2958729666189228,
          1.06067007119815,
          3.322171383074962,
          3.0466861662946827,
          -1.0387319371677917,
          -0.09835153782459916,
          0.2823327764737831,
          1.3402725418225998,
          -0.35391299913432794,
          0.6738978690594802,
          0.8198026094141355,
          -0.11330979083690029,
          0.6383354511190055,
          0.7358547050825925,
          0.0967642584765187,
          1.8239309160675763,
          1.6056664792338973,
          0.7816336776332209,
          0.6009393205571316,
          3.357615480599674,
          1.7474894150619642,
          1.826521281717548,
          -0.5944718643161977,
          1.3971000670836449,
          1.734930979702308,
          1.6437782369777987,
          0.6621177959488544,
          0.6229882260314392,
          0.24277605494027577,
          1.1223423425780017,
          1.6941953973380102,
          -1.0385861286904743,
          -0.07444873156138487,
          0.13455317889008112,
          1.1258800335077592,
          -0.17795528249000192,
          -0.19643929144799444,
          1.9246662021511138,
          2.5714588815351807,
          1.6828362835780268,
          0.3074158595018446,
          1.8216963263920092,
          0.27230332761880927,
          -1.2828845016665666,
          0.11624893413575232,
          1.5199120354710631,
          0.9650320776979466,
          1.0405803727140768,
          0.635538334123638,
          -0.9035544430897238,
          -0.2511616331903246,
          1.1192544068627879,
          0.5949103625458845,
          2.8916065287097727,
          0.1734612990851635,
          0.9029007237567204,
          1.1237923892587234,
          1.050552442617615,
          0.3569918312885796,
          1.8611433496272722,
          2.2897715210459433,
          1.5148361612515053,
          1.0535321948727372,
          0.3320336870577304,
          0.6297592083886098,
          1.1687721070448136,
          1.4387932294033092,
          1.1874825221043226,
          1.7823036271579649,
          2.1062147163254883,
          0.023389003080545923,
          0.6039442622848731,
          0.5562336338257838,
          0.8763802895769751,
          1.0628583054601288,
          0.26371586008664105,
          2.329775660090833,
          0.3823977568177913,
          2.31837462237461,
          -0.309114418868653,
          -1.1854481796695056,
          1.6094205677167386,
          0.8946576994162361,
          2.029548527723148,
          -0.15119781292257595,
          2.453104866036772,
          -0.4551080899776365,
          1.8854892583914646,
          0.9263331741015752,
          1.544139921368687,
          2.458127114703144,
          1.5598578957733724,
          1.321420942089485,
          1.0176264127333292,
          0.8377211776106418,
          0.3329098527763873,
          0.26605810743567604,
          1.0953954470104088,
          1.976259699828836,
          0.9181454694696503,
          1.48484791898733,
          0.4243722747285983,
          -0.5814370828776183,
          1.7611721451242328,
          -0.9727881751510328,
          1.6214907142811819,
          1.7054185929152497,
          0.9776517158602198,
          1.9155865173954179,
          1.9428848862077517,
          1.0200386751895274,
          -0.9098962368913528,
          0.7857625991662721,
          1.310088330736177,
          2.2269440714315616,
          1.7618791385108294,
          -0.9492222555604894,
          2.0202468670701723,
          1.2791737691644922,
          1.3684032472110266,
          0.9415474168735958,
          2.3515136774904164,
          -0.5657043689017927,
          -0.2979427169074731,
          0.8310386612673608,
          -0.14342134162478182,
          2.2078810468811985,
          1.7891547494864348,
          0.5209746972881802,
          0.9191457069577292,
          2.0123839531685963,
          1.3234138201833814,
          0.672009161542363,
          0.525669081549895,
          2.3584932929887357,
          0.6381790608514634,
          -0.8948930990328565,
          3.196330403229421,
          0.11171603459362889,
          2.194044534589082,
          0.5532789810278997,
          1.1441652952769736,
          0.19976293457951,
          1.6250202260531612,
          1.2415906432581305,
          1.2538541024393544,
          0.16395561316552243,
          1.1003666412120017,
          -0.32769570629198075,
          -0.6094218607943411,
          2.306382870258659,
          1.491214435067838,
          -0.3177745334077753,
          1.9797412589770984,
          0.7932463735323336,
          0.44307665713557454,
          0.9489588971966076,
          1.2111334788534964,
          2.276217861633979,
          0.4405048047454506,
          1.0832015439822824,
          0.7068029540262128,
          2.332834667090422,
          1.602739881751428,
          3.087612014187024,
          0.5996041439715302,
          -0.9018754571409591,
          0.05070708011525238,
          0.9301198361631249,
          0.252903654909461,
          1.193933209972727,
          1.3777819391428319,
          0.39786048535938023,
          0.4565492881614528,
          1.2708878337970697,
          1.6683112319987536,
          -0.08361827052447679,
          0.32988492589409035,
          0.6451719335410013,
          1.194373266325987,
          0.6698987186957621,
          1.5418046161427243,
          0.7591506896684609,
          -1.3650804970270745,
          0.8435374886786982,
          0.5854645028064629,
          -0.02027181426418423,
          0.03407286256537834,
          1.63810008643443,
          1.517550004662021,
          1.12473584775856,
          0.4203685280444972,
          2.067039610684578,
          1.0629008580244381,
          -0.02730448305938027,
          2.135875112647647,
          0.5182221755202893,
          0.00250627672588577,
          -0.6249257420179064,
          0.39117124137389614,
          -1.077011536366062,
          1.2588551878711405,
          -1.3629306548925064,
          1.8795836395904733,
          -0.24505899038036838,
          -0.014295737544360199,
          -0.2989003095212135,
          1.1148759178851742,
          1.2637015386268926,
          1.348028529601971,
          1.9849257681530421,
          2.3828857849647775,
          2.0796391240198195,
          0.7369760783626316,
          1.0584182415803571,
          1.4364057421622032,
          0.568781992173125,
          0.7709154423168676,
          0.204031058325432,
          -0.36430860979435775,
          -1.2822711381777605,
          0.7554201129127417,
          0.7877540713752008,
          2.2111890463542707,
          -1.166005308533168,
          0.32241976938324024,
          0.5284595265073102,
          0.5573021955814405,
          0.3443725833529815,
          1.7370825711900688,
          0.5910851098821424,
          1.4407426158173995,
          2.8614100841005894,
          -0.10964061910149336,
          1.3129665248602123,
          4.074800776696333,
          1.209161841331633,
          1.440287855056006,
          1.5195261030934735,
          0.23872559726089937,
          0.7508671213823769,
          0.566283097344998,
          1.7368300075835104,
          1.7112598502416998,
          1.510687838914024,
          -0.7113026811666223,
          0.8025148768157782,
          0.4571623681481817,
          1.8764702126219803,
          2.2566997028467464,
          0.7385970522035645,
          2.34317538502206,
          0.4750772392365652,
          0.3479875527327688,
          0.5378922131392823,
          1.8589072293285192,
          1.473572773170857,
          1.5399930327280396,
          2.1448730175093775,
          1.7741724851408431,
          1.468849061569981,
          -0.372229742342697,
          1.0273182626696935,
          1.5329602386026187,
          2.4204016060697855,
          2.200566426216308,
          0.5547783195552237,
          0.3557000863368074,
          2.5866791339933464,
          1.0952893551741196,
          3.1429497146579157,
          1.6815201262868342,
          0.9824221757591145,
          -0.6903372016948981,
          -0.9089387745341317,
          1.276139543350035,
          1.6335971499618203,
          0.9549385195493184,
          -0.5377474127171216,
          0.6536520342829681,
          1.8598826319549508,
          3.0007792488703133,
          1.7068994063207872,
          -0.40593495855564443,
          1.3364547094716142,
          3.292007180263799,
          -0.6596407651069527,
          2.7410818493543605,
          2.708993995755976,
          2.158471616125037,
          0.4868575471970399,
          0.34355659957050955,
          0.45379904326825515,
          -0.30883462729512323,
          0.17340779339996082,
          0.11303535395132103,
          0.9084012359768251,
          1.3385781082796642,
          1.0254124352584837,
          1.1398011430698507,
          1.2889957354831392,
          1.2041205596476527,
          1.408179152513965,
          0.7271369743904113,
          0.6451908437590704,
          1.1417074702142869,
          -0.3738146988820328,
          1.174247323427527,
          1.3144854704958497,
          -0.06432094823328471,
          -0.3489230747081391,
          0.9975664408875521,
          1.3273343022256443,
          2.493580315364327,
          0.8780758935646691,
          1.8481834992562933,
          1.3337766545252632,
          0.7466306326299732,
          1.0090515355032843,
          1.842923259114636,
          1.6467397748509691,
          0.10796370101837904,
          1.2880278496076614,
          1.971558062983704,
          2.4032453800286007,
          2.7373469792182177,
          0.5351986213489515,
          1.3672932306375227,
          1.8106397747966705,
          1.7308261201404427,
          -0.05257656793538645,
          1.2713985587975192,
          0.11666187782638993,
          0.8624953473190019,
          0.48756400965992774,
          0.32988865829624936,
          0.3553127718758705,
          1.9868848877205258,
          0.35281455450998656,
          1.2710889784517734,
          -0.00675682053452209,
          0.1280608686251402,
          0.06924781103739008,
          0.9991417283717535,
          1.175762432853647,
          1.1975713601920834,
          -0.47889424977132045,
          2.4539187807543437,
          0.8165911275432969,
          0.752721702726702,
          -0.6739021647946832,
          2.2528282389458645,
          0.7425449069460112,
          2.5333013295045292,
          1.2245667224589192,
          0.41055492105075464,
          1.6290232918585965,
          1.6310314696791357,
          0.37724468976624925,
          -0.3910774148725402,
          1.9652994849696674,
          -0.13032888266919085,
          0.4986428447965944,
          0.11125338699928888,
          0.7265325194771615,
          0.1231904275125365,
          0.3059597268662725,
          3.011049400518484,
          0.8854818793081117,
          3.173709328217881,
          0.32114303091673524,
          0.7773037413166848,
          -0.19702954927683658,
          2.1628798640441036,
          1.3383932032144843,
          -0.9911693325536586,
          -0.03385586369949345,
          0.8585476807052626,
          1.45162104059414,
          1.985548057211858,
          0.6926047455577944,
          1.359692912769835,
          1.020176799147894,
          0.022213217615603797,
          1.3377874914808985,
          2.069397551750624,
          0.9207900119370794,
          0.29888180180081403,
          -0.06472383194244746,
          2.2354094587591335,
          1.5837534014328076,
          -0.35826639764854606,
          -0.09180329720840197,
          0.8330480428801965,
          0.9930188696955173,
          -0.6602176268376836,
          0.8968843644661901,
          1.5848093148311175,
          0.42104140022102665,
          1.951367744433494,
          0.43448981631827155,
          1.061400672704916,
          -1.788189942793338,
          2.399942671364071,
          0.49607870279690225,
          -0.030328588633079967,
          -0.08633424773772647,
          0.997586966887,
          -0.34298550908782444,
          0.5665565063465229,
          -0.12944710134215098,
          1.845052690171921,
          2.8643885721259252,
          -2.2106672572383284,
          1.6332089852868226,
          1.4138571209573954,
          0.8071063698530876,
          1.729249652228463,
          -0.5724141017188058,
          -0.0750477843909898,
          0.7247098359520976,
          3.0405687849698793,
          1.7985978583008913,
          0.3693737867247293,
          1.0060837309021944,
          1.56055049457395,
          2.338807661432489,
          0.6960654759925387,
          1.6732587823226526,
          0.9128834295707104,
          1.375935591156876,
          2.015483292324739,
          1.7657541105958656,
          1.8011077195306284,
          1.519556827366363,
          0.6787112826690136,
          0.25450321080906235,
          2.3646708422968725,
          1.6571066027618717,
          1.197683928697705,
          1.2462321625577906,
          -0.8425249754402457,
          0.8291138013945272,
          2.5008098308478535,
          2.5771025001056715,
          0.6212959594916038,
          1.02986495896514,
          1.5026164177697758,
          0.592907241463775,
          1.562835825170128,
          1.7958398841023988,
          2.438246722104771,
          1.9856024703578399,
          3.107478708255121,
          0.6509171636207128,
          2.3554724268659566,
          1.5339648037348816,
          -0.6279722115098401,
          0.016086849888622412,
          -0.059621464539260094,
          -0.012009100644801318,
          1.8728503989544578,
          0.12151039004073105,
          3.1394695049504078,
          0.2736960772476912,
          -0.9475671097384604,
          1.987680711373117,
          2.0617466180521733,
          1.4489662581647655,
          2.073221675789906,
          0.3276232711305115,
          0.7510271238657652,
          1.0458302914961106,
          2.8981773507527153,
          1.5661679318891601,
          3.498740244844008,
          2.530998696137824,
          1.2981977054946348,
          2.2154305094604716,
          1.4179638119201146,
          -0.9580816292854044,
          1.2122436653184037,
          0.8139677385489273,
          1.8621744943941505,
          1.7496973085824854,
          1.4371524075785205,
          -0.5567793014778177,
          -1.0075361520349966,
          1.5789260109847185,
          1.314516471833497,
          1.4519568690522235,
          0.8673664489636277,
          0.5095077951440203,
          0.055783179120751925,
          2.4039245650916405,
          0.2440512381612424,
          -0.27923097961010535,
          0.7391622714290267,
          -0.5723563705773269,
          0.6970546239337128,
          0.9520873778358334,
          1.1868509807051415,
          2.752333756537112,
          0.8742675262005092,
          0.2789082451333751,
          -1.4831822739679024,
          3.244538814424695,
          0.0854766072974581,
          -0.9327285553539939,
          0.24779390762995934,
          0.12272066641730628,
          1.7317787188927167,
          -0.22382259741377775,
          1.0697867222817525,
          1.5403679206900214,
          -0.03532307542713786,
          1.430489106819459,
          1.4726500899367387,
          0.31156850565081184,
          1.1079043784190366,
          1.0909720854290623,
          1.5271317677518792,
          2.8872986587023544,
          2.233989511296078,
          2.038877420093131,
          -0.7963560211831,
          0.061743242253663455,
          0.6027499254131108,
          0.994985896781291,
          1.4419957687360816,
          1.0110824162764758,
          0.4750657770510597,
          2.1758853306945323,
          -0.28701133703736703,
          0.405195667918572,
          -0.4998436154110304,
          0.8283779903071951,
          1.870786754773052,
          2.184567279259092,
          1.0213793484776983,
          0.7961805671636639,
          2.986526871869464,
          1.7527651874167551,
          0.9074097007197673,
          1.2808699926602944,
          0.6829654724386492,
          0.13443193590243296,
          -1.0833648237554723,
          1.7676688681939696,
          1.8968339981835407,
          0.33500994498149095,
          0.45481602266163856,
          -0.28056349322637897,
          1.2113709225586442,
          1.6236000475612329,
          0.35818981425575114,
          2.003751580100703,
          0.2106385400634725,
          -0.673169644297891,
          0.2734848580871181,
          -1.4948999406400998,
          0.303847363382284,
          0.6599381822939374,
          0.644142835914181,
          0.8966669235710746,
          0.27139828099282715,
          1.915220600181314,
          1.7513391887431307,
          3.656024256703855,
          1.159250082676814,
          0.8574720239131426,
          0.9437423766601595,
          1.3759329799601874,
          2.4315482718275834,
          -0.9285368665045666,
          1.38163293421098,
          1.6932221469545832,
          0.26381699166140427,
          0.3857778390831228,
          0.695301307574655,
          1.869974555639438,
          1.996871048405004,
          1.4435402334605731,
          2.0818693728228337,
          0.324921129511876,
          0.12772009105927506,
          1.633041606595035,
          0.8338104740986229,
          0.5022472130901416,
          2.7674670762776246,
          2.9617214451709195,
          2.4111401097779206,
          1.5549755228707651,
          1.0619655477988386,
          1.7364208709159699,
          -0.7327511089679475,
          0.6009179696332294,
          -0.1457446919484915,
          0.8748442786698628,
          2.2854156519631457,
          -1.3901317279870207,
          -0.25717558980129307,
          -0.4820531170311435,
          0.8999546350631712,
          0.34217069916110476,
          0.5811107986396995,
          1.5943458132171333,
          1.3732913710288859,
          2.015075013021696,
          3.363290932702612,
          0.3514750134045592,
          2.2900785767777103,
          1.2419542433978645,
          0.7861302809949271,
          0.759107007858282,
          1.2916312348123973,
          0.7346359301841208,
          2.2501360785218747,
          -0.09572642867503056,
          -1.545387033545008,
          0.9704899721476631,
          1.9442197112493396,
          0.1378192433350518,
          3.3770333960045114,
          1.5305674529986644,
          2.5193644747341937,
          0.6210976222373404,
          0.9714724099023208,
          0.2416758686739171,
          0.917737302250793,
          1.8134419758203302,
          -0.3633498213172397,
          2.060615062521712,
          0.38248648125053697,
          0.09425182510426178,
          3.391715936644091,
          1.7681396451583522,
          1.4470205642895797,
          0.9113755652637567,
          1.516948437107535,
          0.7583726921504401,
          1.7744368340848287,
          1.7660267511762573,
          -0.2603114374642186,
          0.5825666101383494,
          2.6314038743380035,
          1.179567368454502,
          -0.32252667204642327,
          1.3936811119539652,
          -0.3631013021929286,
          2.0103737796476464,
          1.0342947558804734,
          1.3956382931868356,
          1.3828669099212831,
          2.1843555692892442,
          0.27617272956062566,
          0.5292817354446264,
          0.12084336635174409,
          2.816955060730706,
          0.5337584539420468,
          -0.06204550092748318,
          0.8370791717692534,
          -0.2029428547429597,
          -0.09163793010396026,
          1.1635353649174132,
          1.5537390636345454,
          -1.2434275864102369,
          -0.6179764620931618,
          1.8631550581527554,
          -0.7500303074114625,
          -0.0834118159180266,
          -1.023988623402536,
          2.1036093579954374,
          0.993289375575487,
          0.41407777474227037,
          0.6842918991266174,
          1.0369823131766687,
          0.7127158687337853,
          0.6305503766837267,
          -0.4720968807881778,
          0.18687860706221449,
          0.6185728338329688,
          -0.10597311490630235,
          1.0564146468568891,
          0.2468618195518828,
          1.2581104635846128,
          0.3488082483637508,
          0.2594054591344571,
          0.9184954799945685,
          0.002031079916674172,
          0.06767990000744273,
          1.3502252373118395,
          1.3227852414669996,
          -0.5720565262155635,
          -1.0698475801856837,
          0.07345073475350816,
          1.33932807363635,
          0.3407153730076561,
          0.981371980463082,
          0.5017075047147139,
          -0.07984003844298826,
          -0.390282696903717,
          2.173049624787933,
          1.2760569391263403,
          2.529854195767789,
          1.6284949029118785,
          2.0082110282003747,
          0.9607254473444329,
          1.816523903771221,
          1.7424783855602834,
          0.9437689667508365,
          0.9333094503764633,
          1.1624451322064597,
          2.8954797535600303,
          0.7265096366002587,
          0.6145287800935961,
          0.05157270148151227,
          -1.6668900524828003,
          1.6810274846079591,
          1.1777288922153506,
          0.7679947129101343,
          0.9221316708133637,
          3.223516875458558,
          0.9633810383489942,
          1.846410905687872,
          -0.34365378811282543,
          2.2411988861772976,
          1.181795583766418,
          -1.246961780778106,
          2.2233059742033867,
          1.8831935051644946,
          2.3146108408047112,
          1.217130933339354,
          1.2419826709048862,
          0.9470387967633787,
          0.63851842401765,
          -0.17050230072693395,
          1.2511134217469735,
          2.5305718516122626,
          2.119688364514575,
          1.5297574257944109,
          1.5037605260000264,
          0.5230625512785196,
          1.4839271319641236,
          1.0748060794518857,
          0.9409859205622086,
          -1.3710070183486796,
          0.7332623022964456,
          0.8574140657029323,
          0.9834272567338026,
          1.5466347526715094,
          -0.24804053259851822,
          -0.44204280573799837,
          1.9232900195030913,
          0.07416317037556219,
          2.8948578986915896,
          1.053585148666109,
          1.0795371705456356,
          0.13276045926310576,
          1.150805513793446,
          2.0886683379661464,
          0.5053754729830149,
          1.241710654536219,
          1.2526639389335006,
          1.1696105572191908,
          1.7425809486406076,
          1.5279958811877847,
          -0.7771229946102884,
          1.7240184238663305,
          1.4986398020207023,
          0.5910114427893142,
          1.9250801143235048,
          -0.1985118127088601,
          1.392378160922599,
          0.9200901935954453,
          0.6243718644772779,
          0.012772237985875234,
          1.4407597861478063,
          0.8011860229315251,
          0.9663512855406738,
          1.7690568832070013,
          -0.4361776136279063,
          1.8622671134369175,
          1.8658540771166603,
          2.6114162544540416
         ]
        }
       ],
       "layout": {
        "barmode": "stack",
        "template": {
         "data": {
          "bar": [
           {
            "error_x": {
             "color": "#2a3f5f"
            },
            "error_y": {
             "color": "#2a3f5f"
            },
            "marker": {
             "line": {
              "color": "#E5ECF6",
              "width": 0.5
             }
            },
            "type": "bar"
           }
          ],
          "barpolar": [
           {
            "marker": {
             "line": {
              "color": "#E5ECF6",
              "width": 0.5
             }
            },
            "type": "barpolar"
           }
          ],
          "carpet": [
           {
            "aaxis": {
             "endlinecolor": "#2a3f5f",
             "gridcolor": "white",
             "linecolor": "white",
             "minorgridcolor": "white",
             "startlinecolor": "#2a3f5f"
            },
            "baxis": {
             "endlinecolor": "#2a3f5f",
             "gridcolor": "white",
             "linecolor": "white",
             "minorgridcolor": "white",
             "startlinecolor": "#2a3f5f"
            },
            "type": "carpet"
           }
          ],
          "choropleth": [
           {
            "colorbar": {
             "outlinewidth": 0,
             "ticks": ""
            },
            "type": "choropleth"
           }
          ],
          "contour": [
           {
            "colorbar": {
             "outlinewidth": 0,
             "ticks": ""
            },
            "colorscale": [
             [
              0,
              "#0d0887"
             ],
             [
              0.1111111111111111,
              "#46039f"
             ],
             [
              0.2222222222222222,
              "#7201a8"
             ],
             [
              0.3333333333333333,
              "#9c179e"
             ],
             [
              0.4444444444444444,
              "#bd3786"
             ],
             [
              0.5555555555555556,
              "#d8576b"
             ],
             [
              0.6666666666666666,
              "#ed7953"
             ],
             [
              0.7777777777777778,
              "#fb9f3a"
             ],
             [
              0.8888888888888888,
              "#fdca26"
             ],
             [
              1,
              "#f0f921"
             ]
            ],
            "type": "contour"
           }
          ],
          "contourcarpet": [
           {
            "colorbar": {
             "outlinewidth": 0,
             "ticks": ""
            },
            "type": "contourcarpet"
           }
          ],
          "heatmap": [
           {
            "colorbar": {
             "outlinewidth": 0,
             "ticks": ""
            },
            "colorscale": [
             [
              0,
              "#0d0887"
             ],
             [
              0.1111111111111111,
              "#46039f"
             ],
             [
              0.2222222222222222,
              "#7201a8"
             ],
             [
              0.3333333333333333,
              "#9c179e"
             ],
             [
              0.4444444444444444,
              "#bd3786"
             ],
             [
              0.5555555555555556,
              "#d8576b"
             ],
             [
              0.6666666666666666,
              "#ed7953"
             ],
             [
              0.7777777777777778,
              "#fb9f3a"
             ],
             [
              0.8888888888888888,
              "#fdca26"
             ],
             [
              1,
              "#f0f921"
             ]
            ],
            "type": "heatmap"
           }
          ],
          "heatmapgl": [
           {
            "colorbar": {
             "outlinewidth": 0,
             "ticks": ""
            },
            "colorscale": [
             [
              0,
              "#0d0887"
             ],
             [
              0.1111111111111111,
              "#46039f"
             ],
             [
              0.2222222222222222,
              "#7201a8"
             ],
             [
              0.3333333333333333,
              "#9c179e"
             ],
             [
              0.4444444444444444,
              "#bd3786"
             ],
             [
              0.5555555555555556,
              "#d8576b"
             ],
             [
              0.6666666666666666,
              "#ed7953"
             ],
             [
              0.7777777777777778,
              "#fb9f3a"
             ],
             [
              0.8888888888888888,
              "#fdca26"
             ],
             [
              1,
              "#f0f921"
             ]
            ],
            "type": "heatmapgl"
           }
          ],
          "histogram": [
           {
            "marker": {
             "colorbar": {
              "outlinewidth": 0,
              "ticks": ""
             }
            },
            "type": "histogram"
           }
          ],
          "histogram2d": [
           {
            "colorbar": {
             "outlinewidth": 0,
             "ticks": ""
            },
            "colorscale": [
             [
              0,
              "#0d0887"
             ],
             [
              0.1111111111111111,
              "#46039f"
             ],
             [
              0.2222222222222222,
              "#7201a8"
             ],
             [
              0.3333333333333333,
              "#9c179e"
             ],
             [
              0.4444444444444444,
              "#bd3786"
             ],
             [
              0.5555555555555556,
              "#d8576b"
             ],
             [
              0.6666666666666666,
              "#ed7953"
             ],
             [
              0.7777777777777778,
              "#fb9f3a"
             ],
             [
              0.8888888888888888,
              "#fdca26"
             ],
             [
              1,
              "#f0f921"
             ]
            ],
            "type": "histogram2d"
           }
          ],
          "histogram2dcontour": [
           {
            "colorbar": {
             "outlinewidth": 0,
             "ticks": ""
            },
            "colorscale": [
             [
              0,
              "#0d0887"
             ],
             [
              0.1111111111111111,
              "#46039f"
             ],
             [
              0.2222222222222222,
              "#7201a8"
             ],
             [
              0.3333333333333333,
              "#9c179e"
             ],
             [
              0.4444444444444444,
              "#bd3786"
             ],
             [
              0.5555555555555556,
              "#d8576b"
             ],
             [
              0.6666666666666666,
              "#ed7953"
             ],
             [
              0.7777777777777778,
              "#fb9f3a"
             ],
             [
              0.8888888888888888,
              "#fdca26"
             ],
             [
              1,
              "#f0f921"
             ]
            ],
            "type": "histogram2dcontour"
           }
          ],
          "mesh3d": [
           {
            "colorbar": {
             "outlinewidth": 0,
             "ticks": ""
            },
            "type": "mesh3d"
           }
          ],
          "parcoords": [
           {
            "line": {
             "colorbar": {
              "outlinewidth": 0,
              "ticks": ""
             }
            },
            "type": "parcoords"
           }
          ],
          "pie": [
           {
            "automargin": true,
            "type": "pie"
           }
          ],
          "scatter": [
           {
            "marker": {
             "colorbar": {
              "outlinewidth": 0,
              "ticks": ""
             }
            },
            "type": "scatter"
           }
          ],
          "scatter3d": [
           {
            "line": {
             "colorbar": {
              "outlinewidth": 0,
              "ticks": ""
             }
            },
            "marker": {
             "colorbar": {
              "outlinewidth": 0,
              "ticks": ""
             }
            },
            "type": "scatter3d"
           }
          ],
          "scattercarpet": [
           {
            "marker": {
             "colorbar": {
              "outlinewidth": 0,
              "ticks": ""
             }
            },
            "type": "scattercarpet"
           }
          ],
          "scattergeo": [
           {
            "marker": {
             "colorbar": {
              "outlinewidth": 0,
              "ticks": ""
             }
            },
            "type": "scattergeo"
           }
          ],
          "scattergl": [
           {
            "marker": {
             "colorbar": {
              "outlinewidth": 0,
              "ticks": ""
             }
            },
            "type": "scattergl"
           }
          ],
          "scattermapbox": [
           {
            "marker": {
             "colorbar": {
              "outlinewidth": 0,
              "ticks": ""
             }
            },
            "type": "scattermapbox"
           }
          ],
          "scatterpolar": [
           {
            "marker": {
             "colorbar": {
              "outlinewidth": 0,
              "ticks": ""
             }
            },
            "type": "scatterpolar"
           }
          ],
          "scatterpolargl": [
           {
            "marker": {
             "colorbar": {
              "outlinewidth": 0,
              "ticks": ""
             }
            },
            "type": "scatterpolargl"
           }
          ],
          "scatterternary": [
           {
            "marker": {
             "colorbar": {
              "outlinewidth": 0,
              "ticks": ""
             }
            },
            "type": "scatterternary"
           }
          ],
          "surface": [
           {
            "colorbar": {
             "outlinewidth": 0,
             "ticks": ""
            },
            "colorscale": [
             [
              0,
              "#0d0887"
             ],
             [
              0.1111111111111111,
              "#46039f"
             ],
             [
              0.2222222222222222,
              "#7201a8"
             ],
             [
              0.3333333333333333,
              "#9c179e"
             ],
             [
              0.4444444444444444,
              "#bd3786"
             ],
             [
              0.5555555555555556,
              "#d8576b"
             ],
             [
              0.6666666666666666,
              "#ed7953"
             ],
             [
              0.7777777777777778,
              "#fb9f3a"
             ],
             [
              0.8888888888888888,
              "#fdca26"
             ],
             [
              1,
              "#f0f921"
             ]
            ],
            "type": "surface"
           }
          ],
          "table": [
           {
            "cells": {
             "fill": {
              "color": "#EBF0F8"
             },
             "line": {
              "color": "white"
             }
            },
            "header": {
             "fill": {
              "color": "#C8D4E3"
             },
             "line": {
              "color": "white"
             }
            },
            "type": "table"
           }
          ]
         },
         "layout": {
          "annotationdefaults": {
           "arrowcolor": "#2a3f5f",
           "arrowhead": 0,
           "arrowwidth": 1
          },
          "autotypenumbers": "strict",
          "coloraxis": {
           "colorbar": {
            "outlinewidth": 0,
            "ticks": ""
           }
          },
          "colorscale": {
           "diverging": [
            [
             0,
             "#8e0152"
            ],
            [
             0.1,
             "#c51b7d"
            ],
            [
             0.2,
             "#de77ae"
            ],
            [
             0.3,
             "#f1b6da"
            ],
            [
             0.4,
             "#fde0ef"
            ],
            [
             0.5,
             "#f7f7f7"
            ],
            [
             0.6,
             "#e6f5d0"
            ],
            [
             0.7,
             "#b8e186"
            ],
            [
             0.8,
             "#7fbc41"
            ],
            [
             0.9,
             "#4d9221"
            ],
            [
             1,
             "#276419"
            ]
           ],
           "sequential": [
            [
             0,
             "#0d0887"
            ],
            [
             0.1111111111111111,
             "#46039f"
            ],
            [
             0.2222222222222222,
             "#7201a8"
            ],
            [
             0.3333333333333333,
             "#9c179e"
            ],
            [
             0.4444444444444444,
             "#bd3786"
            ],
            [
             0.5555555555555556,
             "#d8576b"
            ],
            [
             0.6666666666666666,
             "#ed7953"
            ],
            [
             0.7777777777777778,
             "#fb9f3a"
            ],
            [
             0.8888888888888888,
             "#fdca26"
            ],
            [
             1,
             "#f0f921"
            ]
           ],
           "sequentialminus": [
            [
             0,
             "#0d0887"
            ],
            [
             0.1111111111111111,
             "#46039f"
            ],
            [
             0.2222222222222222,
             "#7201a8"
            ],
            [
             0.3333333333333333,
             "#9c179e"
            ],
            [
             0.4444444444444444,
             "#bd3786"
            ],
            [
             0.5555555555555556,
             "#d8576b"
            ],
            [
             0.6666666666666666,
             "#ed7953"
            ],
            [
             0.7777777777777778,
             "#fb9f3a"
            ],
            [
             0.8888888888888888,
             "#fdca26"
            ],
            [
             1,
             "#f0f921"
            ]
           ]
          },
          "colorway": [
           "#636efa",
           "#EF553B",
           "#00cc96",
           "#ab63fa",
           "#FFA15A",
           "#19d3f3",
           "#FF6692",
           "#B6E880",
           "#FF97FF",
           "#FECB52"
          ],
          "font": {
           "color": "#2a3f5f"
          },
          "geo": {
           "bgcolor": "white",
           "lakecolor": "white",
           "landcolor": "#E5ECF6",
           "showlakes": true,
           "showland": true,
           "subunitcolor": "white"
          },
          "hoverlabel": {
           "align": "left"
          },
          "hovermode": "closest",
          "mapbox": {
           "style": "light"
          },
          "paper_bgcolor": "white",
          "plot_bgcolor": "#E5ECF6",
          "polar": {
           "angularaxis": {
            "gridcolor": "white",
            "linecolor": "white",
            "ticks": ""
           },
           "bgcolor": "#E5ECF6",
           "radialaxis": {
            "gridcolor": "white",
            "linecolor": "white",
            "ticks": ""
           }
          },
          "scene": {
           "xaxis": {
            "backgroundcolor": "#E5ECF6",
            "gridcolor": "white",
            "gridwidth": 2,
            "linecolor": "white",
            "showbackground": true,
            "ticks": "",
            "zerolinecolor": "white"
           },
           "yaxis": {
            "backgroundcolor": "#E5ECF6",
            "gridcolor": "white",
            "gridwidth": 2,
            "linecolor": "white",
            "showbackground": true,
            "ticks": "",
            "zerolinecolor": "white"
           },
           "zaxis": {
            "backgroundcolor": "#E5ECF6",
            "gridcolor": "white",
            "gridwidth": 2,
            "linecolor": "white",
            "showbackground": true,
            "ticks": "",
            "zerolinecolor": "white"
           }
          },
          "shapedefaults": {
           "line": {
            "color": "#2a3f5f"
           }
          },
          "ternary": {
           "aaxis": {
            "gridcolor": "white",
            "linecolor": "white",
            "ticks": ""
           },
           "baxis": {
            "gridcolor": "white",
            "linecolor": "white",
            "ticks": ""
           },
           "bgcolor": "#E5ECF6",
           "caxis": {
            "gridcolor": "white",
            "linecolor": "white",
            "ticks": ""
           }
          },
          "title": {
           "x": 0.05
          },
          "xaxis": {
           "automargin": true,
           "gridcolor": "white",
           "linecolor": "white",
           "ticks": "",
           "title": {
            "standoff": 15
           },
           "zerolinecolor": "white",
           "zerolinewidth": 2
          },
          "yaxis": {
           "automargin": true,
           "gridcolor": "white",
           "linecolor": "white",
           "ticks": "",
           "title": {
            "standoff": 15
           },
           "zerolinecolor": "white",
           "zerolinewidth": 2
          }
         }
        }
       }
      },
      "text/html": [
       "<div>                            <div id=\"114e01cf-7e1b-46fd-88c4-67889013175d\" class=\"plotly-graph-div\" style=\"height:525px; width:100%;\"></div>            <script type=\"text/javascript\">                require([\"plotly\"], function(Plotly) {                    window.PLOTLYENV=window.PLOTLYENV || {};                                    if (document.getElementById(\"114e01cf-7e1b-46fd-88c4-67889013175d\")) {                    Plotly.newPlot(                        \"114e01cf-7e1b-46fd-88c4-67889013175d\",                        [{\"opacity\": 0.7, \"type\": \"histogram\", \"x\": [-0.29985004586478314, 1.0340660338297307, -0.4018076819455837, 0.7506073699227773, 1.6014003400294707, -0.23047116903583917, 0.11498634772027513, -0.40202306278384675, 0.08238295267717823, -1.1643482133142378, 0.4972465239729247, 0.22589488042010059, -0.19611799199986021, -0.5323764625926082, 0.2506249153057552, -1.6405022067578263, -1.0501395352077127, -0.13742490478964242, 0.5597480574419428, 1.0028492832768963, -0.12100271031217502, 0.45152348224798716, 0.8527771817935914, -1.4196828895723796, -0.23853112984380448, -1.0492888888995695, -0.5173069303770963, -0.2110425655574733, -0.03256596601590753, 0.24175022097022777, 0.4959203114774912, -1.1096389522585155, 1.4275057385388075, 0.29073678120990704, -0.35068804116369356, 1.0447331520151446, -1.2775723319958057, 0.6081151663275428, 0.3480973929257857, -0.5342801106916168, 1.090413391244868, 0.22532204817973883, 1.0800695721611042, 1.5783229352992092, -0.5706337376981249, -0.06903291269680423, -1.7878630522788226, 1.17121171403929, 0.5164091190290458, -1.7448722487635575, 0.764475762628414, 0.3163330646677689, 0.23385396273030704, -1.7360189319217758, -0.23821601481105817, -0.49159649776737957, -0.43244365667730267, -0.9725839176133276, -0.5368376622146062, -0.9343910934447526, 1.0205531713056921, 0.6012227890267408, -0.2245747697327774, -1.4296315844020757, -1.1501622095576556, -0.7810407733574798, 0.49705981871465077, -1.2938722216178833, -1.2809031318303647, 0.9840523123667206, 0.9766902178329147, -2.010326921809638, 0.8380733398429784, 1.9722972507010241, 0.59574418247542, -0.7326346758575096, -0.1931489830480163, 0.445576809678996, -0.22680602501994793, 0.045171110858012675, -0.053475834384663204, 0.5012076958754724, -0.0697422520500214, 0.807179213218468, -0.6714712476839628, -0.46796443476427013, 1.0837142442307088, -0.3480809789890753, -0.6170736773057772, 0.1569923837952077, 0.46959202114974724, 0.9167089080375996, -0.21921926990014304, 0.7715968118711879, -0.45377171080701595, -0.16357997505809047, -1.5622875994941752, 1.4544677080807413, 1.1394305406620255, 1.086492043731359, -1.2369020924773133, 0.5885430356184913, 1.4076754753130671, -0.0517552505301058, -0.7366517218393693, 0.5183837505824105, -0.910677052511489, 0.9140726291050202, 0.8189129892562351, 0.1934536135116913, -0.5533005894662701, -0.6490451648894744, 0.0945211029745289, 1.5708824623676014, -1.5010254472275646, 0.044785950663131804, 0.2965892975126571, -1.487211838662743, 0.506076816783977, 0.08009974866948572, -0.3154518608204919, 1.3066472346066957, -0.6325756375871099, -0.23823773167315143, 0.2523295992880034, -1.4186220589850587, -0.201201290840416, -0.8759441503243259, 0.2648706394630809, 0.44957408277452765, -0.5923061204500092, -2.6742326838173267, 0.4427387513388333, -0.8295728528115992, 1.0779408122264083, 0.6399107368351477, -1.7285942948503308, -0.0446949607906182, -0.14059573845963363, 1.0163774705559574, -0.5594142854657302, -0.3447361086020435, 0.19911788287172194, -1.2907106963702062, 0.13415493622411362, -1.6615583266630325, -0.48102562203258076, -0.17611438901243143, 0.8352034757130834, 0.1447760221093485, -0.5043548946535672, 1.0764906565166759, 0.06795832047824749, -2.079135197910637, 1.0616137540840938, 1.4786307667166116, 0.09871951947831693, -0.5115377377483111, -0.7640990831975852, 0.10954750581165937, -0.3137730833825665, -0.49361996005116643, -0.6516542338192723, -0.6793445463183594, 0.9500417023500367, 0.8834254624771132, 0.9606326785281099, -0.02149650313947749, 1.6247183665370222, -0.9608103674620105, -1.6359417550068922, 0.26321198434476134, 1.6609175728184813, -0.7971674393250013, 1.0717165125513866, -1.2312789750675204, -0.5674015891549762, 0.12602146624331736, -1.2655114603152726, 1.553359056965127, -0.49611925278114244, -2.0553866035035737, 0.34152187653400257, -0.04258990090446223, -0.43457623154562247, 0.7919231515674108, -1.031679142424307, 2.185500217981566, -0.6456481912087035, -0.9881102293774732, -0.7912067345162725, 0.7452495413596021, -1.7111693522571019, 0.16473436383023432, 0.8779556348298232, 0.27519633164012747, -0.5633430625274123, 0.7513414802233314, -0.6858613140144378, -0.5530131005059542, 1.165427033836607, -0.7278177196280993, 2.595765247058776, -0.5211137938867524, 0.708143852945026, -0.03360865013190458, -0.7952712235877107, -0.78391980074806, 1.058445668416541, -0.18172893772915044, 1.3017650781496777, 0.10561478436387177, 1.0064357181321697, -0.4821134067501205, -1.4679055523710867, -0.42252464570858606, 1.1394674178250555, -1.0516363604858738, 0.9706994881659693, 0.3318954333356879, 0.455586034642903, 0.09753989837205357, 1.0897303100996232, -0.315726167801868, -0.7306010816682624, 0.9285259352465217, -0.21894359302554156, 1.3260216908267177, -1.73206133388326, 0.3148298688241889, -1.555064426177878, 2.526719065727209, 0.03348709577984074, -0.7769697486773259, 0.399460619397058, -1.2693671827933672, -0.6081945335599529, -0.5145788992929486, 1.7791444904529587, 1.9700241020081852, -0.1030220259701858, -1.1542799382816396, -1.4887268493573562, 2.062664524114432, -0.9365510445423842, -1.7826050287724995, -1.0136216503135251, -0.26592736554905266, -0.41606143103039206, -0.15987292755865826, -0.7106567148539203, -0.5344084943654333, -0.42580002594676947, 1.1838185047252332, 0.354017411529926, -1.1228749293393758, 0.22631639593161426, 0.34800984450701444, 0.44885155969756346, 0.1507289486127176, 0.3594709931806511, -0.5802334679405758, 0.026416906266980292, -0.5683591589154691, -0.7660505677778131, 1.5059740801529076, -0.6786659478833525, -0.6439875043096805, 0.24166701370616578, -3.1991172118096696, 0.2984253035029829, 0.5356156060837484, -0.5608196891890058, 0.305653268664268, -1.0474968297859348, 0.20576574821897817, 0.4254145514809193, -0.7734018162092281, -0.11409940049961832, -0.1954077852460536, 1.1090285452645967, -1.1377294057312228, 0.6305664562826035, -0.3443993279280475, 1.7272952907541321, 0.47191457021998745, -0.4339006317285293, -0.4931053999969973, -0.5158309975326372, -1.114878467831592, -0.1106004648137571, -0.8225406061373399, 0.0030352963248874236, 0.638545669549443, -1.449565326297249, 1.8059567978276512, -0.2220793409796064, -0.22078218753653053, 1.246951902828236, 1.6205683627015863, 0.8937939746518158, -0.1370333043123607, 1.0840126347921843, 2.1501635673411545, 0.4928649417255266, -1.4661204337634517, -0.6970923771461078, -3.443298742661331, -1.0772018313277834, -0.26617647034100883, 0.46954198956618504, 1.1953113377954225, 0.9911763692225705, -0.3812737250180249, -0.33552994036604245, -0.42630520931210136, 1.3759418886028103, 0.6755260648488616, 0.41182088202190986, 0.2515983629749863, -0.710135350573957, -1.2014936829142773, 1.3815092051956097, 1.315625925441294, -0.9017803049803792, 1.2821641546298386, -1.463244918781659, 0.6624569114930144, -0.9115760041828892, 1.994615733716944, 2.3559060780222074, 0.8057829826799764, -1.4019135040728805, -0.1032420742976535, 0.4183179743659748, -0.33091992541677817, -1.616164534030871, -0.7877572946317062, 0.37065357524110143, -0.04772024290516966, 1.088940185288366, 0.16065397940287424, 0.1308454863899447, 2.0703518883792875, -0.9227117139916489, -1.963456630478168, 1.9951299893958099, -1.351211890899945, 1.3590710211484425, 1.502678357897545, -0.9538482820306275, -0.5601216607940988, 0.9494282643601474, 1.296686442293302, 0.5764655726094254, -0.08313500545669561, -0.8870353976556558, -1.70526477749805, 1.01528169039905, 0.3897542124804436, -1.424749859932479, -2.011336016031179, -0.4344521661685339, 0.24150187883120994, -0.2132540741738784, 1.156989437515972, -1.274742962625479, 0.5485064497637706, -1.244514993001058, 0.17889806328258187, 0.5096705673634415, -0.25588383898192385, 0.9337391707191091, 0.5732327892524197, 0.025113853172534034, -0.27801513467256866, 0.0488945560304486, 1.021201573127443, -0.8675709909552869, -0.44495518209938534, 1.6783655169341178, -0.7607160562098724, 0.0529857991797048, 0.05127964688348687, 0.6343579863381772, -2.0182458283301123, -1.313570407338835, -0.20361527811618277, -1.2494193582692639, 0.9526570584372616, 1.9016191718476334, -0.7374334091707864, 0.1534528701260703, -1.2476967364701825, -1.7215782644842614, 0.6841674536782854, 1.1037425312240938, 1.2202850640307914, -0.2733726454709366, -1.5198507091015483, -1.0838391836714647, 1.279881763314853, 0.18414379116216023, -0.09737019364867636, 1.9772184516289784, -0.09862191928693378, -0.6595454397717598, 0.9687209054880427, 1.5011202469711034, 1.343942059662938, 0.09423388634082071, -0.462580791799237, 1.0458155949675825, 0.2906066825455321, 0.12691217045974038, -0.8020243453366074, -0.36374869633526985, 0.446399979549017, 1.25365653582988, -0.8115157218103762, -0.17318118074746114, 0.9900637490047597, -0.4434718071308809, 0.07451733472162353, 0.6628011971288872, -0.7258922454522706, 1.5735928655611395, 0.8141316784609539, 1.4013890245168006, -1.6130926744840473, -1.3236502731159403, -0.41049050922822117, -0.5356729165373575, -2.0245405418826667, -1.39638302158819, 0.7766466960250807, 1.6499121450086407, -1.7359048235494143, -1.0113709526364343, 0.7019737727159925, 0.2596496605076049, -1.0099386188020867, 1.5211594553717145, 0.4629660395220006, -0.8144752045133381, -1.0283634751860606, 0.5671255580922692, -1.297856012949512, 0.8362449368997568, -0.09130926770387503, -0.015754940242595834, 0.21575991280698037, 0.6887827025802582, 1.0093025905915711, -1.5077597334565191, -2.5246539944674296, 0.5357292521298749, 1.4304230254919292, -0.36523726736343803, -1.9102997160560355, -2.105268778982171, 1.4079696104001267, 0.09498094601082152, 0.6380346704817641, 0.8694282831690988, 0.23170367640572376, -0.4297132816494989, 0.5211952566023198, 1.9610689043760938, -0.037190323769136606, 0.49762017071907966, -1.3552004844499912, -0.5004059449005004, 0.11704893091794207, 0.07993905399305562, -0.8369707223019401, -0.07760316845280404, 0.13325810717835487, 0.4808933013337896, 0.41887492221955624, 0.06533260830316007, -0.5015692051708514, 0.7752644395147361, -1.1326756365260082, 0.6355994422328295, 0.4983004909780987, 2.4760695267997344, -0.7023474146371446, 3.0745436549328207, 0.5085800346058234, 0.5786858902551708, -0.12272395692561357, 1.193074364259754, -0.48881415085181285, 1.1189050266947425, -0.379569815305175, -0.37880291018723805, 0.6802092887154289, -0.8376779998459486, 0.9431016974025712, 0.04366340980126405, -0.5227387623005755, -0.6633882141284806, 0.6043517237331612, 1.0062393106687124, 0.1922279350143539, -0.5916608512417285, -0.5488325937280983, -0.8604953825719736, -1.1615423109660825, -0.24324883678818354, -1.2094671709185507, 1.5795757651110975, 0.6531428595468678, -1.3625413393151946, -1.025895755503949, -0.08799484384089314, -0.10663667095219, 0.4226674575342313, 0.40039768277494026, -1.7430564859215356, 0.06443192807264803, -0.45835922686380315, -1.5011493977635242, 0.4286188718229174, 0.10772061874718197, -0.6858200247626225, -0.5299521826759391, -0.019434366799967188, -0.13341341758579356, -1.2547153774246487, -1.6397506293273374, -0.4981634073445455, 0.19631244747365037, -0.09201742065828757, 1.219668955894257, -0.8411113957134146, -0.3848616902050319, -0.13087163249262793, -0.524729069830685, -0.28028333031131, 0.7347990549901623, 0.037784018262495674, 2.3162403185557237, 0.5647851813960977, 1.4510279452166104, 0.6303456726153192, 0.5237424460494001, -0.022340173338965447, -2.105640582612625, 0.0402430994162575, 0.1890197715080602, -0.028007479913086785, 1.1821973502008591, 0.34838584784321025, 0.5149143490998673, -1.0298230849056504, -2.100606048757985, -1.0519984754867098, -0.7984055602521992, -0.7477032236536688, -0.5097991684659124, 0.9722775571088711, 0.1502730409099726, 0.7668751110104489, -0.022194801761627247, -0.48720839345709066, -0.3212045601665638, 1.5949232386844534, -0.9688723131615274, -0.20956235617132685, -1.2980166060312306, 1.3213576282607546, 0.29478300044267786, -0.38955277358046303, 1.1998600514863438, 0.39756679935987604, 1.4937777941837809, -1.8978860591046893, 2.0040480466194497, -0.598750393941981, -1.1119935095161704, 1.0783942019247927, -0.027964482835342763, 0.1075308516183669, 0.6264430866059756, -0.41368629748196645, -1.3390914391190283, -1.7616242380293379, -0.2793978844816209, -1.4836047042105425, -1.1154817824657395, -0.8711284560404374, -0.040135632177780635, 2.7832625244423146, 0.23466319944505268, 0.9393028042421664, 1.8427840709662253, 1.0380694430964006, 0.5963255719141101, 1.107164817772995, 2.339163932867049, 1.4993112631028418, 0.9147538080200154, -0.40333410201322983, -0.3145130304765868, -0.39898857182151, 0.1041586070558918, -1.0005399922564642, 0.8572814526993304, -0.624078741859271, 0.17085766292831175, -2.708042092813228, 0.7195152636232915, -0.45058160985445567, -1.6081407983115166, -0.4424933455959484, 0.3450273709966773, 0.15596379554594875, 1.6103580606216803, -0.20248117014963468, -0.5918814391376269, 0.6247018752549521, -0.5340640867475749, -0.3671069582113229, -0.22957193992875322, -0.34288627163482405, 0.6996477997140919, 1.7800821886999245, 1.365828277599922, -0.6437181559225256, -0.8284717395486025, -0.40524021551394385, 0.7381629972593561, -0.7893323013852693, -0.15680111536795163, -0.3739075223233407, 0.8260463177488144, -0.6182710886590651, -0.7355336367266803, -0.058948766940981875, 1.5176237778520145, 1.9435292474911054, 0.7950200149713, -0.9841905954857076, -0.23575638900370954, 0.6324336151267291, -1.846850046799539, 0.6152300371543924, 0.6364026111679, -0.0877557367100331, -1.4432694810898488, 1.1570463194030953, -0.9185404456236568, 0.6787851080016603, 1.1283020626104046, 0.839930669424177, 0.25330378659615227, 0.028587613644444083, 0.8122037629740758, -0.6447791373574098, 0.1290424759496042, -0.42300461931108385, -0.4489646612695765, -0.6518703119439766, -1.9606212714145077, -1.951220566305428, -0.24240406672540582, 0.4601884014874682, 0.8163320242690705, 1.0956515309631654, 0.04081159128748449, -1.0018463372943691, -0.5526361352232304, -0.417963215776427, -0.17419691538759866, 2.2322377396201665, 0.7353201901002108, -0.5405548099203391, 0.25848469395837453, -0.5310612221984135, 0.4009088637722695, 0.13367310962241416, 0.8695181514856873, 1.472998708816222, -0.7031846120230121, -0.6222889329155256, -0.9373087386396357, -1.1671497305784593, -0.7986083432044461, 0.5437819401058309, -0.47379672964061337, -1.8265797995876791, 0.09948353174843087, 0.5195396637423587, -0.014394657654826667, 1.046965363257291, -0.23541072659728707, 0.4599856197161383, 0.8277841868413199, -0.3807858604710645, -0.20454929498519325, 0.5379346465920408, -0.31387800976492963, -0.23515466334814636, 1.5755499996955, -0.4389102401774227, 2.385203753203767, 0.2737929881752998, -0.577210529716013, -2.025659669149553, 0.08282564431798166, -0.3842418899425596, -1.9530932443677032, -1.5604957183751367, -1.3268312371965523, 1.1111339243229295, 1.413088040992288, 1.1575076481303443, 1.7319560393628166, -0.9996218574463722, -0.04147401952832557, -0.4036707832674039, 0.36738839940820606, 0.20899139006174333, -0.17635226035248966, -0.8489900723936182, 1.3891975736214979, -0.8435496022808939, -2.014242103946267, 0.9371165424309409, -0.5246462425372724, -0.13681585787037642, -0.07413144001220989, -0.013980251776356258, 0.8796183507618276, 1.452495444140174, 0.4393117483058939, -0.15563756734562045, -0.7742464766844619, -0.43916161663143577, -0.29839523372509813, -1.032800483954567, 0.45232361034029445, 1.2574541623098532, 1.4299143953386888, 1.021159145992656, -0.6461092410286361, -0.5715215771800944, 0.35981637685545165, -1.103652736929994, 0.24308316315784875, 0.7856763233776239, 0.29002187328061435, 1.2709881839418438, -0.4840173597558358, 2.590002633911293, -0.7010743413633023, -1.7941197294564346, 0.43445348847623, -0.5987036746907263, 0.3315549763556793, -1.6215395543901834, -0.07114737468826686, -1.1218308867586635, 0.34090618804798173, 0.2487171774915491, -0.250040091010442, -1.6553307422756436, -0.7769605938926435, -0.22604087293101024, 0.31421057927051105, -1.5960933097650005, 0.006989372486376412, -0.3325732174057651, -1.1214402649454753, -1.6253844076388286, -0.9141570190958406, -0.3501564130032268, -0.14942896486002027, 0.042234440008702925, 0.8333525645962111, -2.4501097292890153, 2.772285213562791, 0.9445028456609925, -0.07779802172645578, 1.204717602792377, 0.31291906066548714, -0.7538220839459991, -0.17382634169636385, -0.6913104961679606, 0.694671534848172, -0.10077568178058266, 0.08236441220753557, -1.7839095965151437, 1.0967097018389407, 0.9387802203129363, -0.011945396550226512, -0.732810018445752, 1.4433090713708843, -1.5064624076407898, 0.5828705962921003, 1.38548425199566, -0.820518030457041, -1.449242574871947, -1.0713092358287517, 1.3788880076720793, 0.4348247212505486, 0.4297632859755123, -0.7328257558494887, 1.5959643749477737, -1.3624775665985425, 1.882617036463699, 1.4150828013761552, -1.3623408668306183, -0.5330638517327392, 0.5688091529386552, 0.09006270111319849, -0.31453108891036535, -1.2014762879245282, 1.5557100986281491, 0.8121884807303288, -0.7547577576839941, 0.34920380607205476, 1.736565580618677, 0.22408210572767912, 0.17732015856419175, 0.13325640093076782, -0.37402444698617354, -0.25499349066267374, 1.4640672700119026, -1.771045144606101, -0.4520760483859866, 0.30345882804450947, -1.3704822545945274, -1.6084205593797718, 0.0988052313991106, 0.10183320640113885, 0.11625753891188743, -0.3095495069610606, 0.7151179694394495, -1.5908799119504862, -0.23374319049514003, -1.464633945630529, -1.325502838136993, -1.2899509553716093, -0.7347201308257468, -1.1272637057638115, 0.166603687763875, -0.4810997787582064, -0.21013105354397102, -0.24134324357858453, 1.8280508479219522, 1.1277609721824047, -0.33432476522750654, -0.13269787440122416, -0.4987415680512404, -1.5639670094364577, 0.7338698492151426, -0.36622204225267, 1.285064533566332, 1.7618250992435287, 0.4586969931998126, 0.6083486447030941, 1.5161485375109822, -0.08184297460387512, 0.5043960047992535, 0.6830967573732125, -0.450760291643055, -1.2242601358250806, -0.6096948958948556, -0.5895953425216293, 0.4738932311628689, 1.2094598766967146, -0.06558268326246704, -1.2096178067859151, 0.6138743543938522, -0.9075462541321268, -0.25474407139605965, 0.3805336234041144, -1.6431337667068289, -0.3682134725227073, 1.521282134183286, -1.4411748194566043, 1.4117967477532694, 1.9395656023398054, -0.7427076250358131, -0.6369569311147703, -1.0347417748918013, 0.11990875574260336, 1.131690911918678, 2.929817369737788, 0.17846385959567454, 1.5220248946153343, 1.2491679561225095, 0.29733680875533264, 0.9620100482085396, -1.6518799356971705, -1.004840059261284, -0.03442157785040665, 1.0767067867192017, 0.5134555914143947, -0.3366183571418247, -0.032024456947926036, -0.7711892319702188, 0.6113108224567748, -0.20914423686779074, 0.2706313753513418, 0.24839799473262658, -1.3788531592625204, 0.3641094813999286, -2.880253249725461, -2.3055204554958033, 0.5806018215365398, 1.0019358548375872, 0.20280882889905408, -0.3323145480884614, 0.6999542720632408, -0.6291570636492202, -0.9563535407976866, 1.0663210157486613, 0.18980566421329195, 0.6950971538265023, -0.03280978969506195, 1.8166060176729257, 0.37115069600723594, 1.783687062929147, -0.6482043895143441, -1.2465280215840822, -0.966142111186401, 0.6982123895356851, -0.6657962302636885, 0.1094289975604869, 0.8954756240705096, 1.9117154961535154, 0.008139450237546524, 0.6303639757355857, -1.5234304931382516, 1.0233168024521033, 0.7073689739053804, 1.9342539456879668, -0.26512166490530664, 0.851565358606784, 0.9717215319977911, 0.08811622790229294, 0.7433496375455826, -0.9177575452148578, -0.7621941934251829, 0.34012352001893426, 0.5665302273632724, -1.527251364033919, 1.8480092488475115, 0.8110607852330086, 0.08705105791098987, 0.7372031066139778, -0.6474874360776646, -0.3522826199515102, -1.2710973532759626, -0.3023734923342942, 0.47312391767878864, 1.3286441607169244, -0.7385778740892435, 0.9065736799674977, -0.981047777053896, -0.506021010192092, 0.21225809251436842, -0.0521179004322084, 1.4423575410458362, 0.14745910900881962, -0.4221111439673205, 0.03918850771970931, -0.6268438669205582, 0.24370144844939992, -2.340283849656483, 0.28454938859875484, -0.6857569484888761, 0.2706427630505438, -1.3162133574425925, 0.18197748387009588, -1.1382871149469782, -0.11853074491071333, 0.6334887016468529, 1.039943310923809, 1.0594050343315244, 0.7834361742332371, -1.3987851849151574, 1.1066837033551882, 0.06197189601423477, -1.5566867743100075, 0.005256548960442594, 2.405915257843566, -0.3397772047818187, -0.1479680829114786, 1.7074467289629718, 0.4540191462450329, 0.430523616266458, 1.826129131071583, -0.26488622915351895, -0.5701937964244319, 1.103833161271264]}, {\"opacity\": 0.7, \"type\": \"histogram\", \"x\": [-1.8199501720349907, 0.7660046869179293, 1.9926870442507933, 1.1453398055343018, 0.42282201707682654, 3.1612035222515273, 0.9647992147050625, 0.36357195736155656, 0.26943046992415165, 1.8631032572591533, 0.686283511012067, 0.9489015066413812, -0.409985369105466, 2.4983327948860135, 2.263751649861315, -0.830672795395867, -0.41252070785985917, 0.5269190235966702, 1.3690302356512216, 0.29018176112373784, 0.22259793851607068, 1.3545101996522542, 2.8565551733228354, 1.5225787149434864, 0.3216394310389016, 0.6235386206977915, 1.2276681775972345, 0.2694813802590288, 1.0570122365458672, 0.43401414396574733, 0.4823578038172902, -0.34389928062840736, 2.0916978734435117, 0.22114242118208882, 2.273923364055883, 0.42828222706327834, 1.0816729731811334, 1.5874552012153473, 0.023875772592796274, 0.7447188767666884, 3.7752057180138636, 0.600476481082014, 2.324879321533185, 1.5794074099712423, 0.19976401139292, 1.128833807729949, 1.455531234053306, 1.7076869795649507, 1.8273817015956488, -0.342699591997343, 1.9256281892922535, 2.193426067978487, 0.3216236850629156, 0.16280829783789796, 1.4336106795134909, 2.146908239534219, 0.36383293090530033, 0.21307446134186414, -0.5460163309569364, 2.6291354923159878, 0.3128827502711109, 0.4801298962630297, 0.06175833001717934, 1.9222678339863863, 0.2783040976311728, 1.7176327193260508, 1.350218339390585, 1.1507526338106708, 1.5912326288536078, 2.75683421171973, 1.0439516150352641, 2.2831841803913244, 1.270243508789097, 2.4364857173280425, 1.5305896568932855, 2.3825853892820303, 0.8458821840447727, -0.01351431462559649, -1.2145858681912682, -0.526715478583434, 1.1466804076967483, 0.8330550366569345, 0.9539326739925125, 1.0428462671411574, -0.20162010531733943, 0.2851253354872375, 0.05227786146999813, 1.7980762571462638, 1.162644673151784, 1.2726711017539565, 2.019719245845277, 3.826617099674931, 1.0413141919992936, 3.0173703979229782, 2.9655824421431882, 0.7866086412207992, 0.44887667685294563, -1.4447622651404912, 0.5597200536433495, 0.17661692151658548, 0.7133989626100183, 1.744773458995288, 0.05967363132750947, -0.689303201617802, -1.1223456600477975, -0.08969984133631148, 1.158138843833314, -0.01790634328467644, 1.745968414899915, 1.3118575002246307, 1.7205385053993862, 1.092311668714783, 1.3598694591516463, 0.09600986297552305, 0.9762925775771123, 1.9841941678588824, -0.20553251614297352, 1.515929774670098, 1.0536100167475926, 0.36713405275160793, 0.1681319485156999, 0.9130562168855936, 1.195430535104852, 0.1293953964270672, 1.6928036605196577, 0.5276817214624201, 3.0884459176129018, 0.1991887185369159, 2.019236060591765, 0.154701075109287, 1.1329580522262346, 0.48303644220096975, 0.2581169908959019, 1.7547979016952235, 0.18700641193734968, 0.9355007068507858, 1.9377816588967174, 2.5454696750006427, -0.864363018836533, 0.2877710889796422, 2.146597106503756, 1.2753240271713422, -0.20092725488120133, 1.1412431843650048, -0.16094625694104514, 1.314743619584147, 1.0266778120640907, 3.8284274488215693, 0.5007400109065445, 0.3475141269950768, 0.4010793856509116, -0.5409227996396828, 1.4006192079928355, 0.4758593484772804, 1.4981374407138894, 0.8607711702998406, 1.3205022111831524, 1.7543575981237565, 1.9210988900795636, 2.1006294132833134, 1.755340972216917, 2.2569578766438374, 1.8141755229609036, 1.2977257728496583, 1.4025869146693093, 2.6275455480388565, 0.3229046593742527, 0.9107101158093761, -1.403066078856638, -1.018750678435945, 0.274115065331059, 3.1111714705395035, 1.9645098334527114, -0.11021966456742027, 0.10739832002838312, 0.959550311149164, -0.03673657121909368, 0.714564239931031, 0.7201328619401735, 0.6125975615001544, 1.0350999518663835, 3.347014390354241, 1.4240464064914382, 0.6581260372939282, -0.8201850367251902, 2.149112154132159, 2.194289837055098, 0.9049918263769936, 1.9524351270197313, 1.242773283321753, 1.2207579639715187, 1.3260373216463937, 0.07329406044452336, 0.586620175941045, 0.3819883732981696, -0.4916049804753744, 2.0904786472076458, 2.0386465221061183, -0.020996478461105417, 2.6775039816935733, 2.3529081631026356, 0.3376527893846143, 0.21827262827884497, 0.930298362668642, 2.6096195075880617, 2.6457216883307266, -0.7054588754538123, 0.8684743479869224, 0.2727468378883259, 0.8250710355302346, 2.223726659570882, 2.201424798938363, 2.6823280612077585, 1.078620953178432, 1.8769969564635942, -0.2958729666189228, 1.06067007119815, 3.322171383074962, 3.0466861662946827, -1.0387319371677917, -0.09835153782459916, 0.2823327764737831, 1.3402725418225998, -0.35391299913432794, 0.6738978690594802, 0.8198026094141355, -0.11330979083690029, 0.6383354511190055, 0.7358547050825925, 0.0967642584765187, 1.8239309160675763, 1.6056664792338973, 0.7816336776332209, 0.6009393205571316, 3.357615480599674, 1.7474894150619642, 1.826521281717548, -0.5944718643161977, 1.3971000670836449, 1.734930979702308, 1.6437782369777987, 0.6621177959488544, 0.6229882260314392, 0.24277605494027577, 1.1223423425780017, 1.6941953973380102, -1.0385861286904743, -0.07444873156138487, 0.13455317889008112, 1.1258800335077592, -0.17795528249000192, -0.19643929144799444, 1.9246662021511138, 2.5714588815351807, 1.6828362835780268, 0.3074158595018446, 1.8216963263920092, 0.27230332761880927, -1.2828845016665666, 0.11624893413575232, 1.5199120354710631, 0.9650320776979466, 1.0405803727140768, 0.635538334123638, -0.9035544430897238, -0.2511616331903246, 1.1192544068627879, 0.5949103625458845, 2.8916065287097727, 0.1734612990851635, 0.9029007237567204, 1.1237923892587234, 1.050552442617615, 0.3569918312885796, 1.8611433496272722, 2.2897715210459433, 1.5148361612515053, 1.0535321948727372, 0.3320336870577304, 0.6297592083886098, 1.1687721070448136, 1.4387932294033092, 1.1874825221043226, 1.7823036271579649, 2.1062147163254883, 0.023389003080545923, 0.6039442622848731, 0.5562336338257838, 0.8763802895769751, 1.0628583054601288, 0.26371586008664105, 2.329775660090833, 0.3823977568177913, 2.31837462237461, -0.309114418868653, -1.1854481796695056, 1.6094205677167386, 0.8946576994162361, 2.029548527723148, -0.15119781292257595, 2.453104866036772, -0.4551080899776365, 1.8854892583914646, 0.9263331741015752, 1.544139921368687, 2.458127114703144, 1.5598578957733724, 1.321420942089485, 1.0176264127333292, 0.8377211776106418, 0.3329098527763873, 0.26605810743567604, 1.0953954470104088, 1.976259699828836, 0.9181454694696503, 1.48484791898733, 0.4243722747285983, -0.5814370828776183, 1.7611721451242328, -0.9727881751510328, 1.6214907142811819, 1.7054185929152497, 0.9776517158602198, 1.9155865173954179, 1.9428848862077517, 1.0200386751895274, -0.9098962368913528, 0.7857625991662721, 1.310088330736177, 2.2269440714315616, 1.7618791385108294, -0.9492222555604894, 2.0202468670701723, 1.2791737691644922, 1.3684032472110266, 0.9415474168735958, 2.3515136774904164, -0.5657043689017927, -0.2979427169074731, 0.8310386612673608, -0.14342134162478182, 2.2078810468811985, 1.7891547494864348, 0.5209746972881802, 0.9191457069577292, 2.0123839531685963, 1.3234138201833814, 0.672009161542363, 0.525669081549895, 2.3584932929887357, 0.6381790608514634, -0.8948930990328565, 3.196330403229421, 0.11171603459362889, 2.194044534589082, 0.5532789810278997, 1.1441652952769736, 0.19976293457951, 1.6250202260531612, 1.2415906432581305, 1.2538541024393544, 0.16395561316552243, 1.1003666412120017, -0.32769570629198075, -0.6094218607943411, 2.306382870258659, 1.491214435067838, -0.3177745334077753, 1.9797412589770984, 0.7932463735323336, 0.44307665713557454, 0.9489588971966076, 1.2111334788534964, 2.276217861633979, 0.4405048047454506, 1.0832015439822824, 0.7068029540262128, 2.332834667090422, 1.602739881751428, 3.087612014187024, 0.5996041439715302, -0.9018754571409591, 0.05070708011525238, 0.9301198361631249, 0.252903654909461, 1.193933209972727, 1.3777819391428319, 0.39786048535938023, 0.4565492881614528, 1.2708878337970697, 1.6683112319987536, -0.08361827052447679, 0.32988492589409035, 0.6451719335410013, 1.194373266325987, 0.6698987186957621, 1.5418046161427243, 0.7591506896684609, -1.3650804970270745, 0.8435374886786982, 0.5854645028064629, -0.02027181426418423, 0.03407286256537834, 1.63810008643443, 1.517550004662021, 1.12473584775856, 0.4203685280444972, 2.067039610684578, 1.0629008580244381, -0.02730448305938027, 2.135875112647647, 0.5182221755202893, 0.00250627672588577, -0.6249257420179064, 0.39117124137389614, -1.077011536366062, 1.2588551878711405, -1.3629306548925064, 1.8795836395904733, -0.24505899038036838, -0.014295737544360199, -0.2989003095212135, 1.1148759178851742, 1.2637015386268926, 1.348028529601971, 1.9849257681530421, 2.3828857849647775, 2.0796391240198195, 0.7369760783626316, 1.0584182415803571, 1.4364057421622032, 0.568781992173125, 0.7709154423168676, 0.204031058325432, -0.36430860979435775, -1.2822711381777605, 0.7554201129127417, 0.7877540713752008, 2.2111890463542707, -1.166005308533168, 0.32241976938324024, 0.5284595265073102, 0.5573021955814405, 0.3443725833529815, 1.7370825711900688, 0.5910851098821424, 1.4407426158173995, 2.8614100841005894, -0.10964061910149336, 1.3129665248602123, 4.074800776696333, 1.209161841331633, 1.440287855056006, 1.5195261030934735, 0.23872559726089937, 0.7508671213823769, 0.566283097344998, 1.7368300075835104, 1.7112598502416998, 1.510687838914024, -0.7113026811666223, 0.8025148768157782, 0.4571623681481817, 1.8764702126219803, 2.2566997028467464, 0.7385970522035645, 2.34317538502206, 0.4750772392365652, 0.3479875527327688, 0.5378922131392823, 1.8589072293285192, 1.473572773170857, 1.5399930327280396, 2.1448730175093775, 1.7741724851408431, 1.468849061569981, -0.372229742342697, 1.0273182626696935, 1.5329602386026187, 2.4204016060697855, 2.200566426216308, 0.5547783195552237, 0.3557000863368074, 2.5866791339933464, 1.0952893551741196, 3.1429497146579157, 1.6815201262868342, 0.9824221757591145, -0.6903372016948981, -0.9089387745341317, 1.276139543350035, 1.6335971499618203, 0.9549385195493184, -0.5377474127171216, 0.6536520342829681, 1.8598826319549508, 3.0007792488703133, 1.7068994063207872, -0.40593495855564443, 1.3364547094716142, 3.292007180263799, -0.6596407651069527, 2.7410818493543605, 2.708993995755976, 2.158471616125037, 0.4868575471970399, 0.34355659957050955, 0.45379904326825515, -0.30883462729512323, 0.17340779339996082, 0.11303535395132103, 0.9084012359768251, 1.3385781082796642, 1.0254124352584837, 1.1398011430698507, 1.2889957354831392, 1.2041205596476527, 1.408179152513965, 0.7271369743904113, 0.6451908437590704, 1.1417074702142869, -0.3738146988820328, 1.174247323427527, 1.3144854704958497, -0.06432094823328471, -0.3489230747081391, 0.9975664408875521, 1.3273343022256443, 2.493580315364327, 0.8780758935646691, 1.8481834992562933, 1.3337766545252632, 0.7466306326299732, 1.0090515355032843, 1.842923259114636, 1.6467397748509691, 0.10796370101837904, 1.2880278496076614, 1.971558062983704, 2.4032453800286007, 2.7373469792182177, 0.5351986213489515, 1.3672932306375227, 1.8106397747966705, 1.7308261201404427, -0.05257656793538645, 1.2713985587975192, 0.11666187782638993, 0.8624953473190019, 0.48756400965992774, 0.32988865829624936, 0.3553127718758705, 1.9868848877205258, 0.35281455450998656, 1.2710889784517734, -0.00675682053452209, 0.1280608686251402, 0.06924781103739008, 0.9991417283717535, 1.175762432853647, 1.1975713601920834, -0.47889424977132045, 2.4539187807543437, 0.8165911275432969, 0.752721702726702, -0.6739021647946832, 2.2528282389458645, 0.7425449069460112, 2.5333013295045292, 1.2245667224589192, 0.41055492105075464, 1.6290232918585965, 1.6310314696791357, 0.37724468976624925, -0.3910774148725402, 1.9652994849696674, -0.13032888266919085, 0.4986428447965944, 0.11125338699928888, 0.7265325194771615, 0.1231904275125365, 0.3059597268662725, 3.011049400518484, 0.8854818793081117, 3.173709328217881, 0.32114303091673524, 0.7773037413166848, -0.19702954927683658, 2.1628798640441036, 1.3383932032144843, -0.9911693325536586, -0.03385586369949345, 0.8585476807052626, 1.45162104059414, 1.985548057211858, 0.6926047455577944, 1.359692912769835, 1.020176799147894, 0.022213217615603797, 1.3377874914808985, 2.069397551750624, 0.9207900119370794, 0.29888180180081403, -0.06472383194244746, 2.2354094587591335, 1.5837534014328076, -0.35826639764854606, -0.09180329720840197, 0.8330480428801965, 0.9930188696955173, -0.6602176268376836, 0.8968843644661901, 1.5848093148311175, 0.42104140022102665, 1.951367744433494, 0.43448981631827155, 1.061400672704916, -1.788189942793338, 2.399942671364071, 0.49607870279690225, -0.030328588633079967, -0.08633424773772647, 0.997586966887, -0.34298550908782444, 0.5665565063465229, -0.12944710134215098, 1.845052690171921, 2.8643885721259252, -2.2106672572383284, 1.6332089852868226, 1.4138571209573954, 0.8071063698530876, 1.729249652228463, -0.5724141017188058, -0.0750477843909898, 0.7247098359520976, 3.0405687849698793, 1.7985978583008913, 0.3693737867247293, 1.0060837309021944, 1.56055049457395, 2.338807661432489, 0.6960654759925387, 1.6732587823226526, 0.9128834295707104, 1.375935591156876, 2.015483292324739, 1.7657541105958656, 1.8011077195306284, 1.519556827366363, 0.6787112826690136, 0.25450321080906235, 2.3646708422968725, 1.6571066027618717, 1.197683928697705, 1.2462321625577906, -0.8425249754402457, 0.8291138013945272, 2.5008098308478535, 2.5771025001056715, 0.6212959594916038, 1.02986495896514, 1.5026164177697758, 0.592907241463775, 1.562835825170128, 1.7958398841023988, 2.438246722104771, 1.9856024703578399, 3.107478708255121, 0.6509171636207128, 2.3554724268659566, 1.5339648037348816, -0.6279722115098401, 0.016086849888622412, -0.059621464539260094, -0.012009100644801318, 1.8728503989544578, 0.12151039004073105, 3.1394695049504078, 0.2736960772476912, -0.9475671097384604, 1.987680711373117, 2.0617466180521733, 1.4489662581647655, 2.073221675789906, 0.3276232711305115, 0.7510271238657652, 1.0458302914961106, 2.8981773507527153, 1.5661679318891601, 3.498740244844008, 2.530998696137824, 1.2981977054946348, 2.2154305094604716, 1.4179638119201146, -0.9580816292854044, 1.2122436653184037, 0.8139677385489273, 1.8621744943941505, 1.7496973085824854, 1.4371524075785205, -0.5567793014778177, -1.0075361520349966, 1.5789260109847185, 1.314516471833497, 1.4519568690522235, 0.8673664489636277, 0.5095077951440203, 0.055783179120751925, 2.4039245650916405, 0.2440512381612424, -0.27923097961010535, 0.7391622714290267, -0.5723563705773269, 0.6970546239337128, 0.9520873778358334, 1.1868509807051415, 2.752333756537112, 0.8742675262005092, 0.2789082451333751, -1.4831822739679024, 3.244538814424695, 0.0854766072974581, -0.9327285553539939, 0.24779390762995934, 0.12272066641730628, 1.7317787188927167, -0.22382259741377775, 1.0697867222817525, 1.5403679206900214, -0.03532307542713786, 1.430489106819459, 1.4726500899367387, 0.31156850565081184, 1.1079043784190366, 1.0909720854290623, 1.5271317677518792, 2.8872986587023544, 2.233989511296078, 2.038877420093131, -0.7963560211831, 0.061743242253663455, 0.6027499254131108, 0.994985896781291, 1.4419957687360816, 1.0110824162764758, 0.4750657770510597, 2.1758853306945323, -0.28701133703736703, 0.405195667918572, -0.4998436154110304, 0.8283779903071951, 1.870786754773052, 2.184567279259092, 1.0213793484776983, 0.7961805671636639, 2.986526871869464, 1.7527651874167551, 0.9074097007197673, 1.2808699926602944, 0.6829654724386492, 0.13443193590243296, -1.0833648237554723, 1.7676688681939696, 1.8968339981835407, 0.33500994498149095, 0.45481602266163856, -0.28056349322637897, 1.2113709225586442, 1.6236000475612329, 0.35818981425575114, 2.003751580100703, 0.2106385400634725, -0.673169644297891, 0.2734848580871181, -1.4948999406400998, 0.303847363382284, 0.6599381822939374, 0.644142835914181, 0.8966669235710746, 0.27139828099282715, 1.915220600181314, 1.7513391887431307, 3.656024256703855, 1.159250082676814, 0.8574720239131426, 0.9437423766601595, 1.3759329799601874, 2.4315482718275834, -0.9285368665045666, 1.38163293421098, 1.6932221469545832, 0.26381699166140427, 0.3857778390831228, 0.695301307574655, 1.869974555639438, 1.996871048405004, 1.4435402334605731, 2.0818693728228337, 0.324921129511876, 0.12772009105927506, 1.633041606595035, 0.8338104740986229, 0.5022472130901416, 2.7674670762776246, 2.9617214451709195, 2.4111401097779206, 1.5549755228707651, 1.0619655477988386, 1.7364208709159699, -0.7327511089679475, 0.6009179696332294, -0.1457446919484915, 0.8748442786698628, 2.2854156519631457, -1.3901317279870207, -0.25717558980129307, -0.4820531170311435, 0.8999546350631712, 0.34217069916110476, 0.5811107986396995, 1.5943458132171333, 1.3732913710288859, 2.015075013021696, 3.363290932702612, 0.3514750134045592, 2.2900785767777103, 1.2419542433978645, 0.7861302809949271, 0.759107007858282, 1.2916312348123973, 0.7346359301841208, 2.2501360785218747, -0.09572642867503056, -1.545387033545008, 0.9704899721476631, 1.9442197112493396, 0.1378192433350518, 3.3770333960045114, 1.5305674529986644, 2.5193644747341937, 0.6210976222373404, 0.9714724099023208, 0.2416758686739171, 0.917737302250793, 1.8134419758203302, -0.3633498213172397, 2.060615062521712, 0.38248648125053697, 0.09425182510426178, 3.391715936644091, 1.7681396451583522, 1.4470205642895797, 0.9113755652637567, 1.516948437107535, 0.7583726921504401, 1.7744368340848287, 1.7660267511762573, -0.2603114374642186, 0.5825666101383494, 2.6314038743380035, 1.179567368454502, -0.32252667204642327, 1.3936811119539652, -0.3631013021929286, 2.0103737796476464, 1.0342947558804734, 1.3956382931868356, 1.3828669099212831, 2.1843555692892442, 0.27617272956062566, 0.5292817354446264, 0.12084336635174409, 2.816955060730706, 0.5337584539420468, -0.06204550092748318, 0.8370791717692534, -0.2029428547429597, -0.09163793010396026, 1.1635353649174132, 1.5537390636345454, -1.2434275864102369, -0.6179764620931618, 1.8631550581527554, -0.7500303074114625, -0.0834118159180266, -1.023988623402536, 2.1036093579954374, 0.993289375575487, 0.41407777474227037, 0.6842918991266174, 1.0369823131766687, 0.7127158687337853, 0.6305503766837267, -0.4720968807881778, 0.18687860706221449, 0.6185728338329688, -0.10597311490630235, 1.0564146468568891, 0.2468618195518828, 1.2581104635846128, 0.3488082483637508, 0.2594054591344571, 0.9184954799945685, 0.002031079916674172, 0.06767990000744273, 1.3502252373118395, 1.3227852414669996, -0.5720565262155635, -1.0698475801856837, 0.07345073475350816, 1.33932807363635, 0.3407153730076561, 0.981371980463082, 0.5017075047147139, -0.07984003844298826, -0.390282696903717, 2.173049624787933, 1.2760569391263403, 2.529854195767789, 1.6284949029118785, 2.0082110282003747, 0.9607254473444329, 1.816523903771221, 1.7424783855602834, 0.9437689667508365, 0.9333094503764633, 1.1624451322064597, 2.8954797535600303, 0.7265096366002587, 0.6145287800935961, 0.05157270148151227, -1.6668900524828003, 1.6810274846079591, 1.1777288922153506, 0.7679947129101343, 0.9221316708133637, 3.223516875458558, 0.9633810383489942, 1.846410905687872, -0.34365378811282543, 2.2411988861772976, 1.181795583766418, -1.246961780778106, 2.2233059742033867, 1.8831935051644946, 2.3146108408047112, 1.217130933339354, 1.2419826709048862, 0.9470387967633787, 0.63851842401765, -0.17050230072693395, 1.2511134217469735, 2.5305718516122626, 2.119688364514575, 1.5297574257944109, 1.5037605260000264, 0.5230625512785196, 1.4839271319641236, 1.0748060794518857, 0.9409859205622086, -1.3710070183486796, 0.7332623022964456, 0.8574140657029323, 0.9834272567338026, 1.5466347526715094, -0.24804053259851822, -0.44204280573799837, 1.9232900195030913, 0.07416317037556219, 2.8948578986915896, 1.053585148666109, 1.0795371705456356, 0.13276045926310576, 1.150805513793446, 2.0886683379661464, 0.5053754729830149, 1.241710654536219, 1.2526639389335006, 1.1696105572191908, 1.7425809486406076, 1.5279958811877847, -0.7771229946102884, 1.7240184238663305, 1.4986398020207023, 0.5910114427893142, 1.9250801143235048, -0.1985118127088601, 1.392378160922599, 0.9200901935954453, 0.6243718644772779, 0.012772237985875234, 1.4407597861478063, 0.8011860229315251, 0.9663512855406738, 1.7690568832070013, -0.4361776136279063, 1.8622671134369175, 1.8658540771166603, 2.6114162544540416]}],                        {\"barmode\": \"stack\", \"template\": {\"data\": {\"bar\": [{\"error_x\": {\"color\": \"#2a3f5f\"}, \"error_y\": {\"color\": \"#2a3f5f\"}, \"marker\": {\"line\": {\"color\": \"#E5ECF6\", \"width\": 0.5}}, \"type\": \"bar\"}], \"barpolar\": [{\"marker\": {\"line\": {\"color\": \"#E5ECF6\", \"width\": 0.5}}, \"type\": \"barpolar\"}], \"carpet\": [{\"aaxis\": {\"endlinecolor\": \"#2a3f5f\", \"gridcolor\": \"white\", \"linecolor\": \"white\", \"minorgridcolor\": \"white\", \"startlinecolor\": \"#2a3f5f\"}, \"baxis\": {\"endlinecolor\": \"#2a3f5f\", \"gridcolor\": \"white\", \"linecolor\": \"white\", \"minorgridcolor\": \"white\", \"startlinecolor\": \"#2a3f5f\"}, \"type\": \"carpet\"}], \"choropleth\": [{\"colorbar\": {\"outlinewidth\": 0, \"ticks\": \"\"}, \"type\": \"choropleth\"}], \"contour\": [{\"colorbar\": {\"outlinewidth\": 0, \"ticks\": \"\"}, \"colorscale\": [[0.0, \"#0d0887\"], [0.1111111111111111, \"#46039f\"], [0.2222222222222222, \"#7201a8\"], [0.3333333333333333, \"#9c179e\"], [0.4444444444444444, \"#bd3786\"], [0.5555555555555556, \"#d8576b\"], [0.6666666666666666, \"#ed7953\"], [0.7777777777777778, \"#fb9f3a\"], [0.8888888888888888, \"#fdca26\"], [1.0, \"#f0f921\"]], \"type\": \"contour\"}], \"contourcarpet\": [{\"colorbar\": {\"outlinewidth\": 0, \"ticks\": \"\"}, \"type\": \"contourcarpet\"}], \"heatmap\": [{\"colorbar\": {\"outlinewidth\": 0, \"ticks\": \"\"}, \"colorscale\": [[0.0, \"#0d0887\"], [0.1111111111111111, \"#46039f\"], [0.2222222222222222, \"#7201a8\"], [0.3333333333333333, \"#9c179e\"], [0.4444444444444444, \"#bd3786\"], [0.5555555555555556, \"#d8576b\"], [0.6666666666666666, \"#ed7953\"], [0.7777777777777778, \"#fb9f3a\"], [0.8888888888888888, \"#fdca26\"], [1.0, \"#f0f921\"]], \"type\": \"heatmap\"}], \"heatmapgl\": [{\"colorbar\": {\"outlinewidth\": 0, \"ticks\": \"\"}, \"colorscale\": [[0.0, \"#0d0887\"], [0.1111111111111111, \"#46039f\"], [0.2222222222222222, \"#7201a8\"], [0.3333333333333333, \"#9c179e\"], [0.4444444444444444, \"#bd3786\"], [0.5555555555555556, \"#d8576b\"], [0.6666666666666666, \"#ed7953\"], [0.7777777777777778, \"#fb9f3a\"], [0.8888888888888888, \"#fdca26\"], [1.0, \"#f0f921\"]], \"type\": \"heatmapgl\"}], \"histogram\": [{\"marker\": {\"colorbar\": {\"outlinewidth\": 0, \"ticks\": \"\"}}, \"type\": \"histogram\"}], \"histogram2d\": [{\"colorbar\": {\"outlinewidth\": 0, \"ticks\": \"\"}, \"colorscale\": [[0.0, \"#0d0887\"], [0.1111111111111111, \"#46039f\"], [0.2222222222222222, \"#7201a8\"], [0.3333333333333333, \"#9c179e\"], [0.4444444444444444, \"#bd3786\"], [0.5555555555555556, \"#d8576b\"], [0.6666666666666666, \"#ed7953\"], [0.7777777777777778, \"#fb9f3a\"], [0.8888888888888888, \"#fdca26\"], [1.0, \"#f0f921\"]], \"type\": \"histogram2d\"}], \"histogram2dcontour\": [{\"colorbar\": {\"outlinewidth\": 0, \"ticks\": \"\"}, \"colorscale\": [[0.0, \"#0d0887\"], [0.1111111111111111, \"#46039f\"], [0.2222222222222222, \"#7201a8\"], [0.3333333333333333, \"#9c179e\"], [0.4444444444444444, \"#bd3786\"], [0.5555555555555556, \"#d8576b\"], [0.6666666666666666, \"#ed7953\"], [0.7777777777777778, \"#fb9f3a\"], [0.8888888888888888, \"#fdca26\"], [1.0, \"#f0f921\"]], \"type\": \"histogram2dcontour\"}], \"mesh3d\": [{\"colorbar\": {\"outlinewidth\": 0, \"ticks\": \"\"}, \"type\": \"mesh3d\"}], \"parcoords\": [{\"line\": {\"colorbar\": {\"outlinewidth\": 0, \"ticks\": \"\"}}, \"type\": \"parcoords\"}], \"pie\": [{\"automargin\": true, \"type\": \"pie\"}], \"scatter\": [{\"marker\": {\"colorbar\": {\"outlinewidth\": 0, \"ticks\": \"\"}}, \"type\": \"scatter\"}], \"scatter3d\": [{\"line\": {\"colorbar\": {\"outlinewidth\": 0, \"ticks\": \"\"}}, \"marker\": {\"colorbar\": {\"outlinewidth\": 0, \"ticks\": \"\"}}, \"type\": \"scatter3d\"}], \"scattercarpet\": [{\"marker\": {\"colorbar\": {\"outlinewidth\": 0, \"ticks\": \"\"}}, \"type\": \"scattercarpet\"}], \"scattergeo\": [{\"marker\": {\"colorbar\": {\"outlinewidth\": 0, \"ticks\": \"\"}}, \"type\": \"scattergeo\"}], \"scattergl\": [{\"marker\": {\"colorbar\": {\"outlinewidth\": 0, \"ticks\": \"\"}}, \"type\": \"scattergl\"}], \"scattermapbox\": [{\"marker\": {\"colorbar\": {\"outlinewidth\": 0, \"ticks\": \"\"}}, \"type\": \"scattermapbox\"}], \"scatterpolar\": [{\"marker\": {\"colorbar\": {\"outlinewidth\": 0, \"ticks\": \"\"}}, \"type\": \"scatterpolar\"}], \"scatterpolargl\": [{\"marker\": {\"colorbar\": {\"outlinewidth\": 0, \"ticks\": \"\"}}, \"type\": \"scatterpolargl\"}], \"scatterternary\": [{\"marker\": {\"colorbar\": {\"outlinewidth\": 0, \"ticks\": \"\"}}, \"type\": \"scatterternary\"}], \"surface\": [{\"colorbar\": {\"outlinewidth\": 0, \"ticks\": \"\"}, \"colorscale\": [[0.0, \"#0d0887\"], [0.1111111111111111, \"#46039f\"], [0.2222222222222222, \"#7201a8\"], [0.3333333333333333, \"#9c179e\"], [0.4444444444444444, \"#bd3786\"], [0.5555555555555556, \"#d8576b\"], [0.6666666666666666, \"#ed7953\"], [0.7777777777777778, \"#fb9f3a\"], [0.8888888888888888, \"#fdca26\"], [1.0, \"#f0f921\"]], \"type\": \"surface\"}], \"table\": [{\"cells\": {\"fill\": {\"color\": \"#EBF0F8\"}, \"line\": {\"color\": \"white\"}}, \"header\": {\"fill\": {\"color\": \"#C8D4E3\"}, \"line\": {\"color\": \"white\"}}, \"type\": \"table\"}]}, \"layout\": {\"annotationdefaults\": {\"arrowcolor\": \"#2a3f5f\", \"arrowhead\": 0, \"arrowwidth\": 1}, \"autotypenumbers\": \"strict\", \"coloraxis\": {\"colorbar\": {\"outlinewidth\": 0, \"ticks\": \"\"}}, \"colorscale\": {\"diverging\": [[0, \"#8e0152\"], [0.1, \"#c51b7d\"], [0.2, \"#de77ae\"], [0.3, \"#f1b6da\"], [0.4, \"#fde0ef\"], [0.5, \"#f7f7f7\"], [0.6, \"#e6f5d0\"], [0.7, \"#b8e186\"], [0.8, \"#7fbc41\"], [0.9, \"#4d9221\"], [1, \"#276419\"]], \"sequential\": [[0.0, \"#0d0887\"], [0.1111111111111111, \"#46039f\"], [0.2222222222222222, \"#7201a8\"], [0.3333333333333333, \"#9c179e\"], [0.4444444444444444, \"#bd3786\"], [0.5555555555555556, \"#d8576b\"], [0.6666666666666666, \"#ed7953\"], [0.7777777777777778, \"#fb9f3a\"], [0.8888888888888888, \"#fdca26\"], [1.0, \"#f0f921\"]], \"sequentialminus\": [[0.0, \"#0d0887\"], [0.1111111111111111, \"#46039f\"], [0.2222222222222222, \"#7201a8\"], [0.3333333333333333, \"#9c179e\"], [0.4444444444444444, \"#bd3786\"], [0.5555555555555556, \"#d8576b\"], [0.6666666666666666, \"#ed7953\"], [0.7777777777777778, \"#fb9f3a\"], [0.8888888888888888, \"#fdca26\"], [1.0, \"#f0f921\"]]}, \"colorway\": [\"#636efa\", \"#EF553B\", \"#00cc96\", \"#ab63fa\", \"#FFA15A\", \"#19d3f3\", \"#FF6692\", \"#B6E880\", \"#FF97FF\", \"#FECB52\"], \"font\": {\"color\": \"#2a3f5f\"}, \"geo\": {\"bgcolor\": \"white\", \"lakecolor\": \"white\", \"landcolor\": \"#E5ECF6\", \"showlakes\": true, \"showland\": true, \"subunitcolor\": \"white\"}, \"hoverlabel\": {\"align\": \"left\"}, \"hovermode\": \"closest\", \"mapbox\": {\"style\": \"light\"}, \"paper_bgcolor\": \"white\", \"plot_bgcolor\": \"#E5ECF6\", \"polar\": {\"angularaxis\": {\"gridcolor\": \"white\", \"linecolor\": \"white\", \"ticks\": \"\"}, \"bgcolor\": \"#E5ECF6\", \"radialaxis\": {\"gridcolor\": \"white\", \"linecolor\": \"white\", \"ticks\": \"\"}}, \"scene\": {\"xaxis\": {\"backgroundcolor\": \"#E5ECF6\", \"gridcolor\": \"white\", \"gridwidth\": 2, \"linecolor\": \"white\", \"showbackground\": true, \"ticks\": \"\", \"zerolinecolor\": \"white\"}, \"yaxis\": {\"backgroundcolor\": \"#E5ECF6\", \"gridcolor\": \"white\", \"gridwidth\": 2, \"linecolor\": \"white\", \"showbackground\": true, \"ticks\": \"\", \"zerolinecolor\": \"white\"}, \"zaxis\": {\"backgroundcolor\": \"#E5ECF6\", \"gridcolor\": \"white\", \"gridwidth\": 2, \"linecolor\": \"white\", \"showbackground\": true, \"ticks\": \"\", \"zerolinecolor\": \"white\"}}, \"shapedefaults\": {\"line\": {\"color\": \"#2a3f5f\"}}, \"ternary\": {\"aaxis\": {\"gridcolor\": \"white\", \"linecolor\": \"white\", \"ticks\": \"\"}, \"baxis\": {\"gridcolor\": \"white\", \"linecolor\": \"white\", \"ticks\": \"\"}, \"bgcolor\": \"#E5ECF6\", \"caxis\": {\"gridcolor\": \"white\", \"linecolor\": \"white\", \"ticks\": \"\"}}, \"title\": {\"x\": 0.05}, \"xaxis\": {\"automargin\": true, \"gridcolor\": \"white\", \"linecolor\": \"white\", \"ticks\": \"\", \"title\": {\"standoff\": 15}, \"zerolinecolor\": \"white\", \"zerolinewidth\": 2}, \"yaxis\": {\"automargin\": true, \"gridcolor\": \"white\", \"linecolor\": \"white\", \"ticks\": \"\", \"title\": {\"standoff\": 15}, \"zerolinecolor\": \"white\", \"zerolinewidth\": 2}}}},                        {\"responsive\": true}                    ).then(function(){\n",
       "                            \n",
       "var gd = document.getElementById('114e01cf-7e1b-46fd-88c4-67889013175d');\n",
       "var x = new MutationObserver(function (mutations, observer) {{\n",
       "        var display = window.getComputedStyle(gd).display;\n",
       "        if (!display || display === 'none') {{\n",
       "            console.log([gd, 'removed!']);\n",
       "            Plotly.purge(gd);\n",
       "            observer.disconnect();\n",
       "        }}\n",
       "}});\n",
       "\n",
       "// Listen for the removal of the full notebook cells\n",
       "var notebookContainer = gd.closest('#notebook-container');\n",
       "if (notebookContainer) {{\n",
       "    x.observe(notebookContainer, {childList: true});\n",
       "}}\n",
       "\n",
       "// Listen for the clearing of the current output cell\n",
       "var outputEl = gd.closest('.output');\n",
       "if (outputEl) {{\n",
       "    x.observe(outputEl, {childList: true});\n",
       "}}\n",
       "\n",
       "                        })                };                });            </script>        </div>"
      ]
     },
     "metadata": {},
     "output_type": "display_data"
    }
   ],
   "source": [
    "n1 = np.random.randn(1000)\n",
    "n2 = np.random.randn(1000) + 1\n",
    "\n",
    "fig = go.Figure()\n",
    "fig.add_trace(go.Histogram(x=n1))\n",
    "fig.add_trace(go.Histogram(x=n2))\n",
    "fig.update_layout(barmode='stack')\n",
    "fig.update_traces(opacity=0.7)\n",
    "fig.show()"
   ]
  },
  {
   "cell_type": "code",
   "execution_count": 42,
   "metadata": {},
   "outputs": [
    {
     "data": {
      "application/vnd.plotly.v1+json": {
       "config": {
        "plotlyServerURL": "https://plot.ly"
       },
       "data": [
        {
         "cumulative": {
          "enabled": true
         },
         "type": "histogram",
         "x": [
          -0.4925684449519461,
          -1.625507173751288,
          -0.5881171621024306,
          -0.36539817771810296,
          -1.0622456983039872,
          1.5124781249348256,
          -1.6275499259611566,
          0.8487733043742485,
          1.0083018117229585,
          1.9842997826718696,
          -1.109905789117534,
          0.5303569328764917,
          0.4785617516283119,
          -0.8228501272776478,
          0.24456333539521827,
          0.9982441199826848,
          -0.14146630596424337,
          -0.49293124189872284,
          0.3782259630566376,
          0.6786456902483033,
          0.47430616790497054,
          1.0283493746229955,
          -1.4531084073750442,
          0.08378356332430224,
          -0.3928671924721505,
          0.6279994921928325,
          0.9470748734978655,
          -0.35481789444105816,
          -0.03741070664953272,
          -1.306218027625693,
          0.6585851517984529,
          0.3833903560623253,
          2.9893163370276423,
          -0.2365686569550387,
          -0.9641962861384998,
          0.31161782590349274,
          -0.18083660839991783,
          -0.7935881908729049,
          -0.36230317713585874,
          -0.757858351663982,
          -0.5878909006425889,
          -0.24709592736931385,
          0.9733394866736882,
          0.9654379279766737,
          -0.31538302130064955,
          -1.0294692321445529,
          -1.3477374684284846,
          1.0532466196135308,
          2.3562706509699294,
          -0.0490168710873792,
          0.03272833299066082,
          -0.13285465361677493,
          -1.0004179710915624,
          -0.42562153901952426,
          1.3095005074880246,
          0.20649974389492218,
          0.6727853869802011,
          -0.9821938028560864,
          -0.46844662025458317,
          -0.08389185844708041,
          1.2645807148561712,
          0.788882460783316,
          -0.1097428164622872,
          0.6882715110432528,
          -1.1473301552335688,
          -0.8628394520150447,
          -0.09625037712873867,
          -2.1825960434867198,
          0.7661030365241622,
          -0.23190939116055376,
          0.3659413474278082,
          1.1997758091424893,
          0.4572061438155365,
          0.1814931905825781,
          -0.233289772754574,
          1.421300684739511,
          -2.147842496832224,
          -0.04855877735615737,
          1.140664371418585,
          -1.208385601540905,
          -0.7023445794304891,
          -1.2072397374144856,
          -0.0275948969604854,
          -0.5491386911320495,
          -0.14236466790700433,
          1.2104042243757458,
          0.9928980309688974,
          -1.922127783462217,
          0.79723648691848,
          -1.2892430078411539,
          -0.09644340467770246,
          0.7413346012128216,
          -1.58530570441046,
          -0.8910723261006842,
          0.11194220462440127,
          -2.308059704988359,
          -0.9808812313564187,
          0.8888614608155592,
          -0.011559659646265884,
          1.3272497085463897,
          -0.029430908980579793,
          -0.8942830378375518,
          0.4461319123307446,
          -0.33978177760389583,
          -0.45107193231165094,
          -0.38552154269717226,
          -1.8805928685427495,
          1.5388988856669386,
          1.668337682749355,
          0.015249082868140366,
          -0.5669432874197743,
          0.5823793672951487,
          -0.26577622275931473,
          1.3841196343415878,
          1.1362504705050758,
          -0.48839968294432645,
          -0.42260858505428306,
          0.043607571970973556,
          -0.016800889624692842,
          0.7113243814102003,
          0.3221422751026266,
          -0.8090303635408379,
          1.0428624837173812,
          -0.7008353882372791,
          2.806447131098169,
          2.220742826244055,
          0.036302972244524445,
          -0.2900788891600065,
          0.06930990742739841,
          1.452878380206372,
          -0.9359508794589009,
          -0.26912634769015764,
          1.6788418381948997,
          -0.4969767660867805,
          -0.2950759899430566,
          1.1866787797147853,
          1.5431726798195466,
          -0.06239892464465646,
          -0.5151477610432544,
          -0.7195490352536571,
          -0.06711759482585354,
          1.2547969146366895,
          0.37687300681726665,
          0.20607533738166572,
          -0.047536270148512305,
          0.1093211472356027,
          0.3375172655594601,
          -0.4364576369576548,
          2.8206773447088445,
          0.5472261163554749,
          -0.6211959787431702,
          0.8100807161252288,
          0.0013424286726511632,
          0.047815064891095514,
          0.1504249247059657,
          1.5589762631819584,
          -0.7838225023427152,
          -0.6325953633574738,
          1.2615003984300135,
          0.35743291829060775,
          -1.2174340002838675,
          1.1744239904059037,
          -1.3361877006830258,
          -0.47267509286335263,
          0.0013534757820207284,
          1.0787916389002292,
          0.38931772465338665,
          0.7259207956334248,
          -2.6436301299616285,
          -1.1049959588304201,
          0.17879583769591717,
          0.6375612866537127,
          0.3523064342196618,
          -0.8607093640069073,
          1.0941562272574747,
          -0.7929330400075967,
          -1.4107301637735528,
          0.34645277840609023,
          0.6081675560312998,
          -0.076724670980557,
          0.5460799279534275,
          0.23178733449968278,
          -1.0988494319534574,
          -0.5372541568473078,
          -0.046587795985322526,
          0.6604225364113266,
          -1.6602729495169648,
          0.13099607718474182,
          -0.9073776139768613,
          0.36647057755836776,
          0.1888431336264489,
          0.5205302035971929,
          0.25308879271907747,
          -0.38481202018269667,
          -0.4103473858838423,
          -1.127660839273081,
          -0.376931015968314,
          -0.20259543395297339,
          0.10513498001775697,
          -0.9782783608321495,
          -0.9761487542413202,
          0.9689394034471407,
          1.1258064485185577,
          -0.882128138832372,
          -1.076836514070809,
          -1.0607630688281702,
          0.4026266787548956,
          0.9404892723814803,
          0.04984810170898216,
          1.121814493708183,
          -0.9697573840091229,
          0.4002410053026571,
          0.7373644719894198,
          -0.4986946777532325,
          0.2187989916295077,
          -2.116916958204213,
          0.18609647751772676,
          -1.4130816909459667,
          0.24533241942726478,
          0.8868712126762834,
          -0.21669957536283582,
          -0.2630552556930268,
          0.6767547687513281,
          0.8928022638495949,
          -0.1886293358006521,
          0.11123736510906075,
          0.006779205394429168,
          0.35407101503845795,
          -2.7627345235087715,
          0.8557783506595069,
          -0.25964519698582883,
          1.3080450185840948,
          -0.9324904629041938,
          1.802868093313661,
          -0.6133584299070136,
          1.3018200204584218,
          0.48337785816183504,
          0.3129051269465426,
          0.24549976776582771,
          -0.3752020348925263,
          -0.365261872299835,
          -0.23879674132440917,
          0.5756847190379342,
          1.0539429415096735,
          0.04336500848153168,
          -1.0411909393621013,
          0.22788975784366744,
          -0.7929685383314782,
          -0.7520729889617499,
          -1.1075272664453346,
          1.123990302801445,
          -0.47911351709279704,
          -0.017346716203816285,
          -0.5645445702703409,
          -1.0445269407827713,
          -0.2510175148436731,
          0.20092935835763942,
          -0.4581885937647807,
          0.046622656073011824,
          0.39874355032799075,
          -0.08740180218448927,
          0.03886625561227152,
          -0.38083121192830016,
          1.5612336834576614,
          1.4414817157910456,
          -1.9210028190854416,
          -0.4685568680847901,
          -0.14125070363898476,
          -1.1397200471973354,
          1.2150675431390128,
          0.02987868690966096,
          1.1512925959610179,
          -0.38680767257461435,
          1.8737085872368937,
          -0.553174025325129,
          0.5418864655003883,
          -1.3953480463771015,
          -0.8563631411897015,
          0.6485515990926847,
          -1.3124129846618853,
          -0.34054513417962273,
          -1.1028454823563025,
          0.02995998867754489,
          1.6132146385128743,
          1.613156898309816,
          -0.9058319906959125,
          0.08951625720416756,
          0.41644048619865864,
          0.37898716172313285,
          -1.0001042928759087,
          -0.24483219969484396,
          -0.26502367107286356,
          -0.1946559872833913,
          -0.9514920340970521,
          2.276586159386479,
          -0.1286396881441668,
          0.22536091139664002,
          0.14385370416547394,
          -1.0525946680107634,
          1.0790311452434946,
          1.1210825487691836,
          0.693948052214967,
          -1.0652400780986022,
          0.9425793960780658,
          -1.2819683954064556,
          0.8061826405984623,
          0.49219852616535764,
          -0.6509783831300938,
          2.119863537531368,
          1.0928751879765253,
          0.4227108688291446,
          -0.26592977925579264,
          -0.13830706977005183,
          0.38110434601153687,
          0.14097358456200826,
          -1.3319486534525293,
          0.06140603603185465,
          -1.746442139088074,
          -0.8188216831894521,
          1.900228504222532,
          0.3044807431387926,
          0.9391702010242883,
          -0.5939719754299341,
          -0.29839933036237076,
          -0.5143782541213722,
          0.3573943423450706,
          -0.7040396833678458,
          1.011024764400564,
          0.3556692201278628,
          0.7209118667029445,
          -0.6058682079775289,
          1.2539501416132384,
          -0.6227550860861633,
          0.18959673269982527,
          -1.992910625333593,
          -0.3382687784907061,
          0.1616822148772536,
          0.1250476352120205,
          -0.2084695595308426,
          -3.5207218762734307,
          1.364201809462668,
          0.43454488093524724,
          -0.6411641891147214,
          0.6469227182603706,
          -0.7112663384854051,
          1.5727541803563072,
          1.1531845128008849,
          0.8757297185923149,
          1.1972954107499576,
          -0.13612174410726513,
          0.33571198309009503,
          0.9943511522004423,
          0.5146912937430387,
          -0.9867888539172853,
          -0.5547533155699083,
          0.15836174249991183,
          -0.25469660884348,
          -0.2771185363864366,
          -0.19891782640469988,
          0.014889588519367482,
          -0.23511902442434232,
          -0.15756696237106593,
          -2.267400229280793,
          1.2098058595885537,
          -1.1683286214217368,
          1.2823817239347335,
          -0.1835000340482782,
          -0.1347984901510932,
          -0.36324998873762254,
          1.2355244353752752,
          -3.296381487759141,
          -0.31407442407094704,
          1.9580568942748044,
          -0.8030727825827969,
          0.6320769179929662,
          0.5489445162291486,
          0.4486817337748972,
          -0.9025222195562873,
          1.0637033033443561,
          -0.25602955187628024,
          0.271324041442173,
          0.7293884025029599,
          0.6387065767773279,
          1.849895112531128,
          2.196325478764822,
          0.014798836812861003,
          0.6627202128506209,
          0.3842976409322616,
          1.2407275915900875,
          -0.600233868749225,
          0.15334522276123363,
          1.2670676647473431,
          -0.9278842571966828,
          1.4759288002844833,
          1.3611594207563107,
          -1.75522307183812,
          -0.2331807400151176,
          -1.207785311856409,
          -0.6607544873303286,
          0.47073951583207013,
          -0.19945940099809661,
          0.4964897367467485,
          0.8301591309741982,
          0.9052684591688429,
          -1.5533175214232389,
          0.25364951203423985,
          0.45023651413721805,
          -2.441365957134779,
          -0.6439321536290193,
          -0.24967635386851983,
          1.2752924326719417,
          -0.35577181439933725,
          0.372532527975374,
          -1.3982356740184982,
          -0.8565001464917422,
          0.33891019264284417,
          0.6299885961989479,
          -0.6227638748914905,
          -1.2929960294001246,
          0.8749731618673693,
          -0.8445899830859223,
          -0.0011704567976015372,
          1.320951981888763,
          0.018106972184273425,
          1.3559537515210307,
          1.224177577630452,
          -0.4799354112559975,
          0.4376487768033255,
          0.3390430816697418,
          0.06804825073945828,
          0.010517993231959866,
          -1.5948771712524477,
          -0.8651358689927691,
          -0.31437338882611127,
          0.8757693417695511,
          -1.2880435845612945,
          -1.21360074016578,
          0.6508096748758257,
          1.288910012943574,
          0.02307731022585313,
          -2.155085391173995,
          0.3536849642384457,
          0.008166225243356058,
          -0.3191826649812987,
          1.8026922186317367,
          0.5105898045530303,
          0.5916387132100923,
          -1.5091961191145637,
          0.500734164491222,
          -2.107428574591593,
          -1.1401301504454566,
          1.3005447996932795,
          0.21427650523698116,
          0.3794123206917827,
          -0.5077066835125139,
          -0.3273392202450001,
          0.4501751102141266,
          1.131693503665086,
          0.7240561917571594,
          0.40594034600813966,
          -1.2133759842846452,
          0.32474088722568595,
          -1.8785861340803331,
          0.9736417041889059,
          0.983957040645254,
          -0.6431538828620466,
          -0.8470344391176196,
          -0.22785726192670575,
          -1.014893130120913,
          1.5352130046127253,
          -0.3445086460726547,
          0.4722267394346335,
          0.1267598215668932,
          -0.007252420415876858,
          0.6257583067715647,
          -0.39783308265867273,
          0.3169971738778884,
          -0.10134368503135611,
          -0.3378560094859994,
          -0.4608905313318669,
          0.07094554527905904,
          -0.34929066289779087,
          0.37529195775078655,
          1.2356124126750252,
          0.5296280064113944,
          1.733007082380656,
          -1.2603494224803795,
          0.4439801206187559,
          -0.18550093259062317,
          0.8860657334858801,
          -0.7005140284738471,
          0.03213905901250934,
          0.5464577267572226,
          -0.016299892714768265,
          0.6885167623190974,
          1.2081544340708292,
          0.241494353465514,
          -0.677401253890194,
          -1.3919168857045277,
          -0.09076812056692221,
          -0.38554295566253827,
          -2.3402891094828537,
          -0.8486638823277352,
          -0.8394338522685191,
          -0.6791953455288571,
          -0.12559550354525617,
          1.0596917799310537,
          0.2786010071413073,
          -0.5839129153911252,
          0.7098088097566482,
          -0.9730883897488548,
          0.19689249207959084,
          0.42545472547116275,
          0.7532024109433795,
          0.9813873443877518,
          0.5481205033407507,
          2.1825771937733487,
          1.0222097954902754,
          -0.35969002869550415,
          0.6166388773919029,
          0.2889377561684106,
          1.1237225594274436,
          0.282270497999471,
          0.20060408436119484,
          0.8918002143376551,
          -0.2521750413434079,
          0.32869286728163305,
          1.0504910811965091,
          -0.25358893314544834,
          -0.12619420911931176,
          -0.41312270838118986,
          -0.20814066074589532,
          -1.3673942310618863,
          0.14021407198800032,
          -0.2347021993871676,
          0.9081509529094177,
          1.0583775031579898,
          -0.7026583414446411,
          0.9905687802209302,
          1.553628779101069,
          -0.7960561248699222,
          -0.44062650639380746,
          0.7534005425835708,
          1.8978613910860336,
          0.3943811715753778,
          -0.42608514766886413,
          -0.3308044166202992,
          1.1892838717911147,
          -0.39743080701300376,
          -0.07407562215428255,
          0.6130027778922708,
          -0.2759048822183667,
          1.4525127427920415,
          0.17987207835938182,
          0.020821436672001203,
          -1.3165611096708627,
          -0.026202524083679863,
          0.18527085082874745,
          -0.5782393304216459,
          -0.42508038561075173,
          -0.4672634673791798,
          0.24254833625160546,
          -0.7146051245162979,
          0.0331449349137421,
          0.32606515647589634,
          -0.9586127820329295,
          -0.2621530704644352,
          -0.56980213042595,
          0.7731262995032601,
          -0.24412290021585378,
          1.123350425849543,
          -0.25552839575067604,
          0.6414614964447498,
          0.81254225454358,
          0.344937719608387,
          -1.2843570614086066,
          0.6232661154372929,
          0.5741446320817626,
          1.8308549135407146,
          -0.10301492165041737,
          -1.3424124356302187,
          -1.3807266153234254,
          -1.6706582352151902,
          0.17736433670115997,
          0.8669138158833005,
          0.3855574454505954,
          -0.8176246264536535,
          0.14904634403236572,
          -0.6718768395760107,
          -0.5223474432914578,
          -0.6090843652813679,
          1.2925648280072832,
          -0.1449093418517151,
          0.4592567997945879,
          -0.3703504132870444,
          1.4642981136397601,
          -0.036789616849402317,
          -0.7332989409876783,
          0.1565350578223492,
          -0.5259409300543153,
          1.4671516205616564,
          -0.6786737273047915,
          1.5567060266076236,
          -0.8667383942205289,
          1.3878393287452584,
          0.5575593122582149,
          1.2708601965591313,
          0.35300363450640176,
          -1.8075010925954953,
          0.23693565025215876,
          1.3851224198446805,
          -0.9205361203001085,
          0.9076092397683382,
          -0.5132488314382837,
          -0.7527953653764177,
          0.5694582897381303,
          0.8904973413683132,
          -0.5308033462608001,
          1.3447434788774557,
          2.0188682146009196,
          -1.1376110724926456,
          1.4446553821554737,
          -0.9533567905854973,
          0.5343751779490222,
          -0.9326159251485243,
          -1.6000837621253472,
          1.8884644140178788,
          -0.2999278385215048,
          0.13038722816700565,
          -0.14559701856122056,
          -0.7324823791392124,
          0.56575231498794,
          -0.11633825217177277,
          0.3511230353790809,
          0.19488964330502004,
          2.1136384462648308,
          0.059251853632804274,
          -0.46695122216091395,
          -1.1668922421737553,
          0.14759389641784607,
          -0.5307962001051667,
          -1.9843237435490753,
          0.9097182324003966,
          -0.690348978690924,
          0.9767449958144591,
          -0.2512396268274854,
          1.7294306027302946,
          0.7921572860616527,
          0.25087697640502515,
          1.3109575287426494,
          -0.5486938260548309,
          0.4418730540221319,
          -0.787266704788127,
          -0.4452636085476306,
          0.45819449486860714,
          -1.0479185785975835,
          0.047018796522076176,
          0.6573285575986366,
          1.1169369095316448,
          0.6391292805370725,
          0.08433887432804847,
          -0.8866202128348819,
          -1.200764771219036,
          -0.3892827756937526,
          -1.1293385488746157,
          -0.42213652815326624,
          0.6526829436608821,
          0.059714920535377684,
          0.6745335840859278,
          2.277760654945575,
          3.303251121509669,
          -0.9134137888578971,
          -0.7898343609604362,
          0.22520645717982393,
          -0.26307484910026596,
          -0.3731635446320253,
          -0.11362476118311708,
          -0.9930990093199551,
          0.4229012527636276,
          0.6709076179433576,
          0.05325619867496438,
          -1.278800089383418,
          0.08412567353938541,
          -0.7031340973546958,
          -0.7654461135022644,
          0.16592292849696538,
          0.02047211071877935,
          -1.1830546525714485,
          -0.48660280447012677,
          -0.2173704401313655,
          -1.684728495045006,
          -0.2745291991235303,
          0.8456036216943714,
          -0.15417736982937136,
          0.4021313850984953,
          1.7288063758743066,
          -0.8144907445158762,
          0.5382242009959494,
          -0.21626543661987233,
          0.8247664972619996,
          -0.9685106131140838,
          0.3294335096503977,
          0.14677177505282618,
          1.133568612114133,
          -0.28021025138912037,
          1.103082403572631,
          0.014704378754808105,
          0.6169886030292564,
          -0.9055958275701411,
          0.3464595969051981,
          -0.2758121651763253,
          -0.9755714195769675,
          0.8269060418336531,
          -1.224946771020491,
          -0.8651107100519511,
          0.014326533751068394,
          -0.41004484409553965,
          -1.24817572057354,
          -0.2532687655837623,
          1.9121189083581833,
          -0.289118677528591,
          1.1984888858051095,
          0.8897264287577947,
          1.3135193793381428,
          -0.48495612184807974,
          0.3054949418273661,
          1.9288939039020667,
          -0.6381836061948842,
          -1.1401940691973693,
          1.2982992430414255,
          0.22452926092556416,
          0.48333102590835825,
          -0.36256098414035387,
          0.5665305504037558,
          -0.12359239940973678,
          0.46034223205817204,
          -1.3757291588453915,
          -0.9421823395051169,
          0.34067156387495795,
          0.1929299184000095,
          -1.7422037165493358,
          0.33175236499286653,
          1.7334026819725685,
          -0.9807639351363369,
          1.5535521950255964,
          1.2778659483968107,
          -1.5103936175526835,
          -0.40075885966281666,
          -0.20339069573962462,
          0.10757302184783306,
          -0.679120150175092,
          -0.019215055772055706,
          -0.5977241228172566,
          0.27365887589270205,
          0.8921238777186576,
          -0.14667171762638706,
          -1.0045464598137575,
          -0.8717790196357104,
          0.612579214543023,
          2.2051968680559595,
          -0.1265607568175746,
          0.22489819371736702,
          1.2138490593256785,
          -0.7610301251495896,
          -1.1444358288514154,
          -1.391114968587227,
          0.4757987965552078,
          0.7822508970263173,
          -0.31152514117323127,
          0.0802568729915715,
          -1.2377140364468158,
          2.3174023076977552,
          0.9580933670836648,
          -0.6476069734663664,
          0.24338707490108707,
          0.9047252991332021,
          -0.06940279412405732,
          -1.2383995605081526,
          -0.38346500945387957,
          0.7739422233651595,
          -1.0085416880903766,
          0.4981087754092626,
          1.0719724905097134,
          -0.5379614498715555,
          0.03473741954563536,
          -0.7427328284883212,
          -0.03549709345055285,
          -1.059940683418933,
          0.7813437571281726,
          0.13712968186442687,
          -0.5674033033416739,
          -0.3174718256556223,
          1.0277808360855645,
          -0.6390028403913002,
          -0.15608782254701736,
          -2.430914163842432,
          -1.0655273002019785,
          -0.8278000702822069,
          1.0878092031604887,
          0.04234626222500637,
          -0.070489415205037,
          1.5180879149299504,
          -0.2984738599456833,
          -0.5102692805160379,
          1.4659515649370773,
          1.1929079137993572,
          0.0028967726429726427,
          -0.2550995005966519,
          -0.23052798911828193,
          0.6862818498084495,
          -1.0788662620319251,
          0.8462011646641359,
          1.3026989332519678,
          -0.4253110440157534,
          -0.14995590744458712,
          -0.9266613210432033,
          -0.3119094875660266,
          -1.3030259654370677,
          -0.7580610584666627,
          -0.19956651508118373,
          -0.8778961122402013,
          0.00510291976664089,
          0.32488209454122435,
          -0.5096976951220573,
          -1.665548026317733,
          -0.41247270231966443,
          -0.22547119172179686,
          0.41868970540238254,
          -0.706420304420171,
          1.1783443016193353,
          0.644470850437162,
          0.052534024050756516,
          -1.5743541769589167,
          0.7988435140405693,
          0.8587496926430335,
          0.9957623375023082,
          0.7462476856791735,
          1.01570044945774,
          -0.46690518793212565,
          -2.1256018441680142,
          -2.109214943417619,
          -2.659368533042366,
          0.8833119659725309,
          0.2293321738128478,
          -0.4633033671904962,
          -0.14361404073293876,
          1.0762909013794852,
          0.9274029266724447,
          0.48141346026326465,
          -0.37036173003049255,
          -0.42252777960895194,
          0.10873304690983805,
          1.897537352738671,
          -0.2573178097551398,
          -1.4394564852537377,
          -0.012891104466623214,
          0.7692066036701142,
          2.726128582795467,
          -0.38133165566378713,
          -2.093608937343426,
          -0.3866434318463692,
          -0.3720045622337527,
          0.12079954395954394,
          -0.7874635230039353,
          -1.2188237962550628,
          -0.9408740162871019,
          -0.0993996054192829,
          -0.8403261575996919,
          -0.39695784323240696,
          0.4015091915020726,
          -0.9102311223600804,
          0.13984753007335113,
          0.71572308393638,
          -1.1083194517273496,
          -0.3390916715495961,
          0.6111761474450894,
          0.41568395455897106,
          0.0470472845925307,
          0.7477186530678281,
          0.7956985247311953,
          -2.2129599745882627,
          0.2929369013526458,
          -1.8029107958086228,
          1.5820673953581503,
          -0.9907363035063975,
          0.8421720065200645,
          0.7674989436985091,
          -1.223247694960614,
          -0.7938706550728487,
          1.5656077639574297,
          0.4029801113637828,
          0.6346428816006204,
          0.4342937667503904,
          0.9556704671324514,
          1.3184490771480615,
          -0.04353737364922415,
          0.5535091574193769,
          1.846527140263416,
          -0.5073997378991294,
          0.3115926288588323,
          -0.46464534097522003,
          0.22035822881305187,
          0.4385441486798253,
          0.2574366562540213,
          0.03837155495547682,
          -0.9277217476818275,
          0.24890365463910738,
          -0.19499765631280155,
          0.9507654234978354,
          0.9302886796776166,
          0.07092104896817858,
          -0.7567648279391884,
          -2.117758786289686,
          0.6822001478528362,
          0.8195696149535786,
          0.8472894863983027,
          -0.3439139354277957,
          -0.03177810287517926,
          -0.4920347750582474,
          -0.37832767150161767,
          0.9878053165903481,
          0.2583876343987919,
          1.0997082373471778,
          0.9685417431648853,
          -0.6897869918892423,
          -0.012445321626003132,
          -1.123465984326696,
          -0.9134184836593214,
          -1.0647713825477478,
          -1.5411869899345023,
          -0.6639852854373911,
          -1.3404829593108354,
          0.6497924415711779,
          0.2234533837069258,
          -0.26345407341051524,
          0.43204101669824885,
          0.3341310556499835,
          -2.1727868472959058,
          -0.18940163442880456,
          -0.10957208261548945,
          1.5850533284913308,
          -1.459919886694776,
          0.391265065307082,
          -1.2129932333989062,
          -0.45847999879976,
          0.5267596156119851,
          0.08470048699002027,
          1.1480672267506742,
          -0.9566386758005377,
          0.44372321750091037,
          -0.2775267579102419,
          0.05836055826181796,
          -0.6807306427056586,
          -0.17518988921310627,
          -1.9614097081859918,
          -0.37675341249849753,
          0.6778451044392807,
          0.4532330854894505,
          -0.13563708135648264,
          -0.42291866505625997,
          0.17066676833483319,
          -1.4809918979064551,
          -1.0444857584460432,
          -0.5523805398804859,
          0.3995207154416764,
          -0.6525233028097929,
          0.7404957273375703,
          0.5534468513439001,
          2.4080427017981636,
          1.0940406810074037,
          1.3758896812047872,
          -0.5787229593868467,
          -0.7001446280931569,
          0.16836160704469966,
          -1.0678518849551244,
          1.4536171534401803,
          0.439431665417499,
          -0.5959329884106257,
          0.8584132872955663,
          -0.019744716539481465,
          -0.6274951879716391,
          0.6790204889802752,
          -1.2743926791235647,
          -0.2641635365659215,
          -1.4237334574405902,
          2.1753796571263204,
          0.41737747933739083,
          -0.891597165902553,
          0.5825925600776233,
          -0.43353962043396455,
          1.1983005409928236,
          0.37510187855423516,
          0.8763637080562295,
          0.09788916926502195,
          0.47327080669129157,
          0.1398166543162617,
          0.44211346421968606,
          0.07997906440735553,
          1.542390880660584,
          -1.9507275820145953
         ]
        },
        {
         "cumulative": {
          "enabled": true
         },
         "type": "histogram",
         "x": [
          3.1130260296631396,
          1.7027139471990427,
          1.1795648396121226,
          1.2297395057496434,
          1.6180114765214095,
          1.0562486245971783,
          0.01800050807955411,
          -0.3629986970755996,
          -1.6170797535352377,
          -0.023677506180129537,
          2.3737388255075462,
          0.21694003968775766,
          0.11648139286173753,
          2.1033897581020895,
          0.2414877061837224,
          -0.08758000375616493,
          1.731495257813119,
          2.2939952151949443,
          2.4409595200460785,
          1.0020447882003536,
          0.7615116971961544,
          1.405303700471391,
          1.2243451728717012,
          0.8153239197564622,
          -0.011135849824053912,
          2.0753201685119342,
          0.924473570968651,
          0.7312157801956685,
          1.6191132030759374,
          1.6978722176253938,
          -0.546464068101663,
          -0.6792001185373315,
          0.8663484191184841,
          1.3235493609856115,
          1.316324069587782,
          2.1229164666157607,
          1.2996545907200643,
          2.249232676806319,
          0.5542560439001738,
          0.6946762301924139,
          -0.3070267554765902,
          1.9060416391265171,
          2.1272858991237515,
          0.8730134013770636,
          2.477173912206662,
          0.3803877339771691,
          0.24806900211617622,
          0.5140521389920618,
          1.7533512664919155,
          1.7296250314204071,
          2.0451360116666386,
          0.4483988346919221,
          0.8459756890595624,
          0.5947044987983747,
          1.3905133543380295,
          0.7349630027309049,
          0.9836580052168755,
          1.6109264087757391,
          1.8492975295089573,
          2.8826510110396284,
          1.466048527636332,
          0.19452740468042962,
          1.0182682975613988,
          1.8141293102261804,
          3.3490005122788555,
          0.7967398786174928,
          0.9572201590582118,
          1.2210216775705371,
          1.0642136051727942,
          -0.07856733170494667,
          0.36181453224310534,
          1.8654331987575523,
          0.8028929368494429,
          1.119653213356118,
          0.7691054522335806,
          0.4256248118313851,
          -0.5661490822878883,
          0.30024591352918995,
          0.4532373330848962,
          0.015667382609919955,
          0.2841666880870507,
          0.7324751838428252,
          1.3055379135658034,
          1.442012502361288,
          2.5955361700503,
          0.3620093376468638,
          0.9214539693995497,
          0.24458331135571387,
          0.9275609678542991,
          0.4339598008340757,
          1.5943771115374363,
          1.216673891929968,
          1.8479896604267458,
          1.600291635240707,
          1.2223651745488349,
          0.9065625701806252,
          -1.3040292166299494,
          1.3596841023821113,
          0.6600655669072623,
          0.7600856425899769,
          0.01114147255560749,
          1.5971032231298754,
          -1.0544022569272666,
          0.9945095225819796,
          0.9481324231405824,
          1.410060000239735,
          0.9171792352157484,
          1.3336269601662178,
          -0.5136717576935304,
          -0.8173066717711608,
          -0.44466234170560326,
          1.819129870901956,
          1.7818937772632308,
          1.8012509435775765,
          2.5311480365927004,
          1.703785160879141,
          1.9974847996173253,
          1.0429792785411796,
          0.9355375166674089,
          1.1756016452006255,
          2.1642385216245454,
          1.789460422398264,
          1.4304398737192832,
          2.4807234973012577,
          0.06821004544968834,
          1.2660137247346008,
          0.4255719092355149,
          1.6806922664987725,
          0.422847366686367,
          2.7757549092800238,
          3.876817470737959,
          1.4437166905030416,
          0.46884926694996265,
          1.4047961350625002,
          0.3021499682459621,
          1.8555998374998777,
          1.16131644820157,
          1.1271969081909687,
          1.359851532404696,
          2.182605675363009,
          -0.4462181859184271,
          0.02668603711078854,
          1.9580760596745668,
          2.549092064646108,
          0.936908518369754,
          0.7592251962030162,
          1.1810312868802504,
          1.010579875761334,
          -0.5727701185179439,
          1.5186650710831728,
          -0.9208138126406356,
          0.5375427598803921,
          0.9467660463268267,
          0.18615940252649799,
          1.3687388987999574,
          1.4351057062788557,
          0.7583550981347333,
          2.049862567191762,
          3.769532509060656,
          2.5115426850843665,
          1.2508186290337604,
          0.5508020155157549,
          0.0827848605982815,
          2.8064875533525493,
          0.11442119111919524,
          1.630739560665047,
          0.5991632906183996,
          -0.053685266631871675,
          0.6772008072495459,
          1.0075955030715535,
          1.1604394315076334,
          1.565134676287781,
          2.727363275869161,
          0.7735057151170508,
          1.526148511722188,
          2.7073370066209472,
          0.25757571040118676,
          2.613188406075648,
          0.6012567212899798,
          1.3627136597700726,
          1.527859591859551,
          2.2156850770830774,
          2.59810016478657,
          1.7366209261779346,
          0.6487125979742405,
          2.0649142202500252,
          1.8727375485996087,
          1.7028142401279664,
          0.031333079289599164,
          0.988030863881385,
          2.642299659243326,
          1.7103348046297766,
          3.1760603658403403,
          1.221041865799839,
          1.9409257888912368,
          -0.08262252813534965,
          1.553400232729624,
          3.689897873272948,
          0.7918734838820163,
          1.9385514368731025,
          1.2708809105071186,
          1.6478180996049376,
          1.6344370973844233,
          1.0535993136342487,
          1.4980651967377567,
          -0.6023049167522752,
          2.020112268790073,
          -1.316781059444311,
          1.0647069258715205,
          0.24036942215115498,
          0.8585101098136204,
          1.9282230958227389,
          0.69196640815627,
          0.06070603726680179,
          0.7877352571453486,
          1.7042008555693318,
          2.3110126020975557,
          2.0132715689074634,
          2.535506944536983,
          2.7802676249157945,
          1.7922764222382215,
          1.7292084885494452,
          1.3375283186558808,
          1.6190792415578468,
          0.9223674377692908,
          1.132929018301378,
          1.5459547561002687,
          2.080065075654228,
          -0.6418697130093198,
          0.5697357776478582,
          3.631850684741446,
          2.2715806362730566,
          2.5130386783536647,
          2.1668514714814195,
          0.6031369204750259,
          1.8018385486491826,
          -0.1012544289167503,
          1.2642429806933937,
          1.5214489361474457,
          0.11250706800971022,
          -0.05910849207514279,
          -0.12297780106167355,
          1.717482629368177,
          1.140884852732714,
          0.4678934388677741,
          1.2922611622752882,
          1.1049835851265672,
          1.0307774570346948,
          1.1117143639345661,
          -0.7241546359494173,
          1.5065190600563922,
          0.1909832927803321,
          1.170662045008362,
          0.4674423201399306,
          0.733063312735224,
          1.4808141225529705,
          1.647208164132528,
          0.30372887678392546,
          1.32368436335151,
          0.6084473211081398,
          0.25884814157196645,
          -0.01830243151906008,
          3.052400248789343,
          1.3739987312192063,
          0.7563039924198641,
          3.164825550813858,
          1.720521390137099,
          0.7969206106095853,
          -0.25684167963401894,
          0.6570135337571289,
          1.3063569724805286,
          0.35547409188972534,
          0.9252585346368167,
          -2.2820498289202074,
          -0.8865248786692614,
          -0.10316675644896045,
          2.457507500180954,
          -0.9989791433095765,
          1.6574152561916875,
          1.4474612210018214,
          -0.7503176684018658,
          0.36050576550122815,
          1.470156420559149,
          0.849370261997345,
          0.49304560406180475,
          1.8526544602332489,
          0.7106749471521864,
          0.9452516578995922,
          1.0512599057832566,
          2.000566885977142,
          1.711145024747603,
          1.3345254089315342,
          1.4514837615234686,
          -0.188873531938345,
          0.2939787135560753,
          2.4994500091481493,
          1.654987306485204,
          2.3498407720546304,
          2.7274265125358004,
          0.9568836807268772,
          0.161043787186972,
          0.8303622744891457,
          0.4361204255117592,
          0.30740718992677474,
          0.7760197211267348,
          0.20438707579301107,
          1.044861038441037,
          0.011589740564651008,
          -0.09158414049265517,
          1.8679823311906394,
          3.8787687882997814,
          2.0511246256837277,
          -0.14952828796219086,
          0.6348528935877966,
          1.5690107736848071,
          0.703505102025433,
          0.6516624838193878,
          -0.15246483056067528,
          0.2585172863163516,
          0.4367742839983604,
          1.4245592810302383,
          2.1451782298253006,
          0.39731719865131077,
          2.288556209752776,
          2.016473037455338,
          0.07780240428341167,
          2.788587428949591,
          0.23136443374118731,
          1.3467663576620454,
          0.7939598594948478,
          2.7436979515589517,
          1.0642787234219584,
          1.3191601377519944,
          0.8579780574290969,
          1.3780615369520905,
          1.3243278140691301,
          0.041624658639793366,
          0.632420048428447,
          -1.3446877559097294,
          1.5718600117558386,
          1.0532039152214179,
          0.42709408136608473,
          0.27457915748819295,
          -0.117094076854529,
          1.106819764212716,
          2.1929685750386705,
          1.394891088385652,
          2.361668329922299,
          1.087981581214417,
          2.444733275961158,
          2.1152696668765927,
          2.2116371887220776,
          0.855342556429258,
          1.3333492301425869,
          0.6765529376761388,
          0.05595265344119815,
          0.4263475664339361,
          -0.1405527329438736,
          0.24229348532562,
          0.8913328723635174,
          2.374387544199446,
          0.04256245478395482,
          0.34283212295068743,
          1.7771578449866727,
          1.9159693719745534,
          -0.5766075352270881,
          0.21301191838733902,
          1.783350707062385,
          2.631088881931757,
          0.2955329620883813,
          0.971143609006461,
          0.8367636950870035,
          0.9733930349059667,
          1.9548874020753488,
          1.5483949592280621,
          -0.1808575672403545,
          1.255499855490286,
          1.0813466078244653,
          0.08027952745941558,
          0.8081893387512603,
          0.7278159345877452,
          0.8084609371894758,
          -0.32315857514245927,
          1.335135528254821,
          0.2075970861538844,
          1.1848586065793314,
          0.8490435156271647,
          1.2914057265208103,
          0.3212635716802066,
          0.6952148879037066,
          1.2833481661427153,
          2.6413512414160474,
          0.768489456876061,
          1.739593135851106,
          1.6444658646287786,
          1.1121584873193906,
          2.321899356685084,
          1.5694752990078427,
          0.3450550341981111,
          1.6463572082763078,
          -0.48227059459764643,
          0.596178707013739,
          1.2532478677762153,
          0.1876425698062062,
          0.9310028736098642,
          1.2978034034083497,
          1.1512662827924005,
          1.744244844724677,
          1.312724198357351,
          0.05084158843028408,
          -0.7939776874579316,
          0.6774382083141091,
          3.086853613205911,
          2.0015663687031133,
          -0.7590523640623335,
          2.712561719720369,
          1.7054204608139487,
          2.8871424641010135,
          0.4852060057460814,
          2.0842815800830765,
          0.3727152834075682,
          -0.38096442371491457,
          0.936721263476264,
          0.6938700857580153,
          0.7428809011132728,
          2.3139997173052196,
          1.9199424953806066,
          -0.4569402524543942,
          0.8408222907764407,
          3.40528219633249,
          -0.08604683486152753,
          -0.7990553689855795,
          1.806312958193017,
          0.9152250221647158,
          1.0621255437995365,
          0.379272143323072,
          2.063715344054771,
          0.9829730273736673,
          -0.594900518564051,
          1.4464045178081522,
          1.6533493099110692,
          0.15568557667771865,
          1.4877403200326798,
          0.5262913616001479,
          0.2530546838517477,
          1.058573661037961,
          1.993097581665992,
          0.39823456437183957,
          0.24839173476119858,
          2.7698493020253894,
          2.991632614222822,
          1.9108812205736438,
          2.119547815305001,
          -0.4255323777590714,
          0.20724811626232076,
          0.8150256616615379,
          2.47440246858668,
          1.7322327576697785,
          1.058057455943978,
          1.3934151290627121,
          1.7836802022834104,
          -1.6626733158216598,
          -0.38527233530071836,
          0.5804364480729346,
          1.6737718120715293,
          0.422325217533163,
          1.928286674373937,
          1.2166370271769302,
          0.26560886466675404,
          0.5726610520414519,
          0.3769001108431471,
          1.79247553122278,
          1.8129342883110078,
          2.087588976582661,
          1.2358879008866763,
          0.18781405454508393,
          0.3680967132719808,
          0.17448868695035002,
          0.6408429232005033,
          3.264762406488982,
          1.6210575318539548,
          0.0013607053659113744,
          1.079809332954437,
          -0.43601962876113975,
          0.32513316952063576,
          0.685829755100696,
          3.2263263925660546,
          2.338396610151066,
          1.0149056652595774,
          -0.06863152391553395,
          0.818398749033674,
          2.555996645799737,
          1.036839232884327,
          2.22640237829412,
          3.290425423469557,
          -0.8747160604500674,
          -0.5428716787532868,
          2.840990072685079,
          0.9679460397918304,
          0.030648949032066053,
          0.26507256870214435,
          0.5535990316146411,
          -1.0033830107125263,
          0.8452025337409503,
          0.8538099456777906,
          0.7337906741380749,
          0.877875480068959,
          0.056345255238497094,
          2.3385657092419656,
          0.37657976530135395,
          0.6557157695598076,
          1.5515821418460982,
          1.675902470132509,
          2.402818083377582,
          2.8143929077197694,
          0.9412627632036845,
          1.2651338733220028,
          2.4534861105259864,
          2.1605238930526722,
          1.383619016653034,
          1.0339553911725734,
          0.6342988723172966,
          -0.48566825680089964,
          2.3622412944827227,
          1.4784186894554319,
          0.6592259357027728,
          1.2487393183773614,
          0.8504570414888867,
          2.66504469122047,
          0.5234261655345106,
          0.005724045027379221,
          -1.4752770637301444,
          0.6978746149976987,
          -1.0965147710149825,
          1.2787348673935641,
          0.956840382607735,
          0.9521123250365103,
          -0.7524776084561,
          1.405525227201259,
          0.5711309237667623,
          2.367695942286553,
          -0.6556358725674443,
          -1.6494970324915035,
          0.7748625116064328,
          0.25356905307370625,
          2.7804681131853997,
          1.3699129576717513,
          1.2954175722106134,
          0.11319992947526314,
          2.097184021706969,
          0.3916370202974927,
          -0.5325859296494493,
          -0.43962771888964136,
          2.5698274652144537,
          1.7989698680351989,
          -0.05326640643903047,
          -0.09317707914879758,
          1.2568643638197887,
          0.7068779818925941,
          0.583284968260738,
          2.4426624874841174,
          -0.36093899282370345,
          0.05397509173663462,
          1.9654964765843352,
          0.7195746667435912,
          0.8828320464963708,
          0.8195630107360932,
          0.381419238879232,
          2.027935874833657,
          -0.09717387344160189,
          0.9197750323748162,
          1.1415336407164296,
          1.4766730148850882,
          1.4371224838691448,
          0.10153978643066264,
          1.605925238544891,
          -0.31762349233972276,
          2.3582940482366546,
          2.3585443785455333,
          -0.20939444866115053,
          1.443345959216765,
          1.2040781461251726,
          4.142558232551191,
          1.7801771691574375,
          1.5186505164140671,
          2.3588060382334692,
          0.35364862553569454,
          -0.07364557656874848,
          1.8368481528025042,
          2.416884043733104,
          -0.3294475578862517,
          0.8592393088756863,
          -2.6237068104068175,
          -0.1724906604249028,
          1.050967020513595,
          -0.2976037415431074,
          1.1526280104577218,
          3.449260301459131,
          0.28270693602244823,
          -0.06536932961156494,
          1.184323881381858,
          2.2579436087425195,
          0.7817369098317556,
          0.961147007582049,
          -0.9562538866649457,
          1.3509319128948485,
          1.1676544929477852,
          1.2382522334372843,
          1.103189860069742,
          0.39965785886944005,
          1.1087919021290753,
          1.0019905169215442,
          1.2779136431883593,
          0.9603612765930347,
          0.4577329519978738,
          1.1871631917856753,
          1.4113500052145829,
          0.7745493966131736,
          1.7541196836967925,
          1.4733358476939102,
          1.3856611319026415,
          -1.9045018075522555,
          -0.4005476706697122,
          0.5885240207771436,
          -0.8067306414889399,
          1.6137018608741527,
          2.53393382418942,
          -0.2519525389517203,
          1.65980589922626,
          0.6014663443154874,
          1.3054744239596898,
          0.22695338703213985,
          1.9671606748150219,
          1.551625240707026,
          3.7008839051847615,
          -0.31873134049472895,
          -0.30314523623500267,
          0.5111247121658022,
          -0.5964165561734576,
          -1.0732412390521664,
          0.4837464829029602,
          -0.4485953055554259,
          0.5791646864736446,
          1.1153192673484948,
          0.4091497466487186,
          2.205391389610126,
          0.5763579112937707,
          1.1273573133421366,
          2.2788870679709214,
          -0.4188714718658264,
          1.6517106872346012,
          1.0583405935691697,
          2.4208265061142136,
          1.4111060281533612,
          -0.07460033702663549,
          1.6647806193608155,
          1.3457115516282745,
          1.3300411461392478,
          0.08859267609684474,
          0.686973722204131,
          1.2965312637762427,
          1.7457602079194172,
          1.0407680678234836,
          0.3007314952371054,
          0.6604146082451021,
          -0.4087070262908137,
          0.12235295584468342,
          -2.2412939919468062,
          0.7816242739750124,
          -0.640840195284468,
          0.2027348968671402,
          0.8041683066946073,
          1.1445800466360927,
          2.2340309482000933,
          -0.2962747186683854,
          1.1127201993095943,
          -0.5079882853552444,
          1.044723132348754,
          2.024275595279745,
          1.134581952152231,
          0.406029246362841,
          0.8800733271365422,
          0.33328310820188556,
          0.8411998731670565,
          -1.0707421477001646,
          1.0956340848075583,
          1.3402319056244447,
          1.7329885035833306,
          2.3013037689245444,
          2.56318398118691,
          2.123492841786157,
          0.8829246149488965,
          1.2000082406267023,
          0.23766917822119926,
          0.7722119093918977,
          1.433723884514758,
          0.05726347167505952,
          1.7887196532304632,
          0.19371550892772926,
          0.2707283924560834,
          -1.214883834390469,
          2.0539413163724616,
          2.334392505117271,
          0.8822664895986696,
          1.0866104347078467,
          0.3277608697093256,
          1.8843093326213736,
          0.985765259231072,
          1.96241281796768,
          -0.13469815607968028,
          0.7683188876261415,
          1.249337605832046,
          2.3846038841844805,
          -0.9227548618195687,
          2.7574619274405707,
          1.018631570931357,
          0.969928295404049,
          1.786432653948922,
          1.610570448526988,
          1.1839948049625348,
          0.999057584507488,
          1.2333269967955895,
          -0.34302091636763654,
          -0.5506298355666512,
          1.8160457792954081,
          2.479013803631656,
          -0.5197464208986098,
          1.3642796995032618,
          2.0632435529902415,
          0.6982340434510605,
          4.397444002136406,
          0.29825129126889893,
          0.20785800028694223,
          -0.18635846297360437,
          -0.23176036038705572,
          -0.30327865183582325,
          2.030517786105966,
          1.2442755052391918,
          0.4041042130432473,
          1.0707745261936505,
          2.594978983160595,
          1.7313693824148841,
          2.871405667879684,
          1.5661305620536772,
          1.6238439580054767,
          -0.9063777951060441,
          0.11308314079356496,
          -0.25688485411332485,
          -0.4129761627253665,
          0.10397327528127998,
          1.2258146614865235,
          -0.200793479505621,
          0.3878663397798897,
          -0.6984316388933343,
          2.8252606681215657,
          -1.3007719129603288,
          1.8706874336299082,
          1.127201174130918,
          0.7888354188164995,
          0.571288610299238,
          3.499388158748154,
          2.169684265131549,
          1.8677099069627245,
          0.7437228185155254,
          1.2348649786072223,
          2.4956000108431207,
          1.6974657255401295,
          1.577512161540172,
          1.7509857433324336,
          1.3716231205637979,
          1.4281111637636976,
          0.6353195155824969,
          0.12067715126971457,
          1.3008432805277494,
          0.4693375218465875,
          1.07801109805326,
          1.378883789900756,
          2.5671392874422616,
          1.973396792260972,
          -0.3446121838873131,
          1.2796348856467832,
          1.8744734624096304,
          0.09562786308096771,
          0.9315550029200432,
          1.2117914201796165,
          2.9151284693555595,
          3.3214456683659677,
          1.7129422202327733,
          1.4410208720324968,
          2.2164267374558566,
          1.378839738757291,
          1.0854704247302926,
          1.5034748632894455,
          0.16823770110556613,
          2.100992564857423,
          1.7575244777690373,
          2.3344200733029847,
          -0.8124031293374159,
          -0.680149226933112,
          -0.20249524079347814,
          1.4065099602363773,
          2.0889430234547075,
          2.4758110818474606,
          1.3237170509427678,
          1.8411869028062757,
          1.2120049166797207,
          2.320080573723197,
          0.29805773266239965,
          0.2796788297803783,
          -1.090170851592081,
          0.16554697686612496,
          0.8732269039105889,
          1.0876865888429847,
          0.4563979761253806,
          1.24504991588981,
          2.5944509308764805,
          0.8137371294138265,
          0.2201014612132236,
          1.6944498174859493,
          3.127190562291157,
          2.782172303046514,
          2.138886707163507,
          -0.20692380873258776,
          0.432830598464907,
          1.8845839271270823,
          1.9875187324194457,
          0.9786929204199748,
          0.7702720692950392,
          1.647404119762149,
          -0.9926808061911241,
          1.6451497197520655,
          -0.22426046442067782,
          0.48567739502178997,
          0.19799157636755804,
          1.3607378553650293,
          2.6835216085607216,
          0.8153392764831482,
          -2.3433816072265943,
          1.4737337985913854,
          0.8452925052265977,
          1.5123087842470644,
          2.480785823755977,
          0.10394937229501955,
          0.39615769757576635,
          1.1898004059128797,
          1.611046836365128,
          0.2715652202662707,
          1.2441160105197486,
          0.664206820192207,
          1.8938528969986388,
          0.4636574895648118,
          0.9337838094935219,
          -0.3195345388935438,
          1.620825750301268,
          1.712080682119601,
          0.7266647599013452,
          1.029097359687825,
          0.7939679476387833,
          1.858676338723622,
          -0.6124926406492726,
          1.4678920696092108,
          0.42331571321486705,
          0.05439417401954194,
          -0.3740360209048472,
          3.127091267774428,
          0.6439702647381176,
          0.37466739772848556,
          -0.4299332398130784,
          0.8154663606447934,
          -1.3599738544275817,
          1.4105669407298072,
          1.435875193122643,
          1.2808174609958467,
          1.4344033544571475,
          1.9544444390171236,
          1.577853958677471,
          2.0174077610862855,
          2.1655666748391127,
          1.4026777328491857,
          -0.20775118303159879,
          0.8940058532136101,
          0.5632863798487082,
          1.118829464136347,
          1.7189421692459224,
          -0.01585037911820275,
          2.4162942296234133,
          0.9146290915666808,
          0.9433273842783501,
          -0.3844308878651925,
          0.5664382477888692,
          0.25173444895844543,
          0.5551756774606134,
          -0.28037361250697757,
          1.6887591978582361,
          0.1991491854257561,
          0.4487716511541997,
          4.007775460092869,
          2.3172551601387372,
          1.717680611456747,
          1.2670738047857206,
          1.3056946972865227,
          2.034269215035239,
          -0.18966301520317885,
          1.83872834786911,
          2.2689971648347353,
          -1.0315276871326096,
          -0.5740116756054314,
          2.7172252169161,
          1.1681291468779207,
          0.5557703347532623,
          1.6633804474277316,
          1.5841984701316383,
          1.8434902130624657,
          0.30131620104857126,
          1.3271396327940241,
          3.3989921521588826,
          1.3245455791338876,
          0.9377162323046347,
          0.14077191739742057,
          0.6674130858570171,
          -1.2676292823377633,
          2.4059199488132856,
          2.019395073291695,
          2.0089080574876625,
          0.02405918765448334,
          1.485758865756632,
          1.3125921900466286,
          -0.6527821756561338,
          0.44991268970628384,
          0.5964437452833448,
          0.9903775622291758,
          1.7547002332361759,
          0.6725731404144639,
          0.06289360702952373,
          1.6299667147730588,
          0.6534044171491229,
          1.3781615494678916,
          -0.34778351434782406,
          1.8985213727317545,
          0.7701011594701963,
          0.7228110665965749,
          2.1424233864594786,
          1.5040621715726625,
          -0.4419795957611887,
          2.38673519007581,
          1.9099538348830674,
          -0.12673172678723188,
          -0.13535809510088104,
          0.49224035308791914,
          0.6241152771443315,
          1.584972342987162,
          0.6231492692234302,
          0.6747847554572772,
          1.492931331516405,
          -0.5712088635718555,
          0.1186730646245936,
          1.6426810812701844,
          1.0265238914207673,
          -0.9950292312358366,
          2.801073848720416,
          2.622445136356036,
          0.9453050252351365,
          1.886594460892241,
          0.028057083778371572,
          1.9116709640470044,
          -0.3647543541197291,
          1.668685990580646,
          2.8160659635540535,
          1.0130243725088728,
          0.7622074404786849,
          -0.38638104705518317,
          -1.3469155170835445,
          -0.4583891818528736,
          1.6662703516506652,
          0.6946684635999765,
          -0.0035942487196432005,
          0.23460458692934594,
          0.308650831085715,
          1.8019797685211025,
          0.5669070737211561,
          -0.00956017964892486,
          1.2471737827346068,
          1.7300791552428063,
          0.7653583211820132,
          2.62983980936477,
          -0.9622524186423325,
          -0.15757039746811108,
          -0.21460398893597965,
          0.6787939223903348,
          1.796354789781545,
          0.44305981873604394,
          1.5732092173881986,
          2.6356613903038824,
          0.9857456741220693,
          1.3322586500658407,
          -0.5612352914456162,
          1.7984581399430362,
          0.4801164315336349,
          -1.4128556476816456,
          0.1641792602429759
         ]
        }
       ],
       "layout": {
        "barmode": "stack",
        "template": {
         "data": {
          "bar": [
           {
            "error_x": {
             "color": "#2a3f5f"
            },
            "error_y": {
             "color": "#2a3f5f"
            },
            "marker": {
             "line": {
              "color": "#E5ECF6",
              "width": 0.5
             }
            },
            "type": "bar"
           }
          ],
          "barpolar": [
           {
            "marker": {
             "line": {
              "color": "#E5ECF6",
              "width": 0.5
             }
            },
            "type": "barpolar"
           }
          ],
          "carpet": [
           {
            "aaxis": {
             "endlinecolor": "#2a3f5f",
             "gridcolor": "white",
             "linecolor": "white",
             "minorgridcolor": "white",
             "startlinecolor": "#2a3f5f"
            },
            "baxis": {
             "endlinecolor": "#2a3f5f",
             "gridcolor": "white",
             "linecolor": "white",
             "minorgridcolor": "white",
             "startlinecolor": "#2a3f5f"
            },
            "type": "carpet"
           }
          ],
          "choropleth": [
           {
            "colorbar": {
             "outlinewidth": 0,
             "ticks": ""
            },
            "type": "choropleth"
           }
          ],
          "contour": [
           {
            "colorbar": {
             "outlinewidth": 0,
             "ticks": ""
            },
            "colorscale": [
             [
              0,
              "#0d0887"
             ],
             [
              0.1111111111111111,
              "#46039f"
             ],
             [
              0.2222222222222222,
              "#7201a8"
             ],
             [
              0.3333333333333333,
              "#9c179e"
             ],
             [
              0.4444444444444444,
              "#bd3786"
             ],
             [
              0.5555555555555556,
              "#d8576b"
             ],
             [
              0.6666666666666666,
              "#ed7953"
             ],
             [
              0.7777777777777778,
              "#fb9f3a"
             ],
             [
              0.8888888888888888,
              "#fdca26"
             ],
             [
              1,
              "#f0f921"
             ]
            ],
            "type": "contour"
           }
          ],
          "contourcarpet": [
           {
            "colorbar": {
             "outlinewidth": 0,
             "ticks": ""
            },
            "type": "contourcarpet"
           }
          ],
          "heatmap": [
           {
            "colorbar": {
             "outlinewidth": 0,
             "ticks": ""
            },
            "colorscale": [
             [
              0,
              "#0d0887"
             ],
             [
              0.1111111111111111,
              "#46039f"
             ],
             [
              0.2222222222222222,
              "#7201a8"
             ],
             [
              0.3333333333333333,
              "#9c179e"
             ],
             [
              0.4444444444444444,
              "#bd3786"
             ],
             [
              0.5555555555555556,
              "#d8576b"
             ],
             [
              0.6666666666666666,
              "#ed7953"
             ],
             [
              0.7777777777777778,
              "#fb9f3a"
             ],
             [
              0.8888888888888888,
              "#fdca26"
             ],
             [
              1,
              "#f0f921"
             ]
            ],
            "type": "heatmap"
           }
          ],
          "heatmapgl": [
           {
            "colorbar": {
             "outlinewidth": 0,
             "ticks": ""
            },
            "colorscale": [
             [
              0,
              "#0d0887"
             ],
             [
              0.1111111111111111,
              "#46039f"
             ],
             [
              0.2222222222222222,
              "#7201a8"
             ],
             [
              0.3333333333333333,
              "#9c179e"
             ],
             [
              0.4444444444444444,
              "#bd3786"
             ],
             [
              0.5555555555555556,
              "#d8576b"
             ],
             [
              0.6666666666666666,
              "#ed7953"
             ],
             [
              0.7777777777777778,
              "#fb9f3a"
             ],
             [
              0.8888888888888888,
              "#fdca26"
             ],
             [
              1,
              "#f0f921"
             ]
            ],
            "type": "heatmapgl"
           }
          ],
          "histogram": [
           {
            "marker": {
             "colorbar": {
              "outlinewidth": 0,
              "ticks": ""
             }
            },
            "type": "histogram"
           }
          ],
          "histogram2d": [
           {
            "colorbar": {
             "outlinewidth": 0,
             "ticks": ""
            },
            "colorscale": [
             [
              0,
              "#0d0887"
             ],
             [
              0.1111111111111111,
              "#46039f"
             ],
             [
              0.2222222222222222,
              "#7201a8"
             ],
             [
              0.3333333333333333,
              "#9c179e"
             ],
             [
              0.4444444444444444,
              "#bd3786"
             ],
             [
              0.5555555555555556,
              "#d8576b"
             ],
             [
              0.6666666666666666,
              "#ed7953"
             ],
             [
              0.7777777777777778,
              "#fb9f3a"
             ],
             [
              0.8888888888888888,
              "#fdca26"
             ],
             [
              1,
              "#f0f921"
             ]
            ],
            "type": "histogram2d"
           }
          ],
          "histogram2dcontour": [
           {
            "colorbar": {
             "outlinewidth": 0,
             "ticks": ""
            },
            "colorscale": [
             [
              0,
              "#0d0887"
             ],
             [
              0.1111111111111111,
              "#46039f"
             ],
             [
              0.2222222222222222,
              "#7201a8"
             ],
             [
              0.3333333333333333,
              "#9c179e"
             ],
             [
              0.4444444444444444,
              "#bd3786"
             ],
             [
              0.5555555555555556,
              "#d8576b"
             ],
             [
              0.6666666666666666,
              "#ed7953"
             ],
             [
              0.7777777777777778,
              "#fb9f3a"
             ],
             [
              0.8888888888888888,
              "#fdca26"
             ],
             [
              1,
              "#f0f921"
             ]
            ],
            "type": "histogram2dcontour"
           }
          ],
          "mesh3d": [
           {
            "colorbar": {
             "outlinewidth": 0,
             "ticks": ""
            },
            "type": "mesh3d"
           }
          ],
          "parcoords": [
           {
            "line": {
             "colorbar": {
              "outlinewidth": 0,
              "ticks": ""
             }
            },
            "type": "parcoords"
           }
          ],
          "pie": [
           {
            "automargin": true,
            "type": "pie"
           }
          ],
          "scatter": [
           {
            "marker": {
             "colorbar": {
              "outlinewidth": 0,
              "ticks": ""
             }
            },
            "type": "scatter"
           }
          ],
          "scatter3d": [
           {
            "line": {
             "colorbar": {
              "outlinewidth": 0,
              "ticks": ""
             }
            },
            "marker": {
             "colorbar": {
              "outlinewidth": 0,
              "ticks": ""
             }
            },
            "type": "scatter3d"
           }
          ],
          "scattercarpet": [
           {
            "marker": {
             "colorbar": {
              "outlinewidth": 0,
              "ticks": ""
             }
            },
            "type": "scattercarpet"
           }
          ],
          "scattergeo": [
           {
            "marker": {
             "colorbar": {
              "outlinewidth": 0,
              "ticks": ""
             }
            },
            "type": "scattergeo"
           }
          ],
          "scattergl": [
           {
            "marker": {
             "colorbar": {
              "outlinewidth": 0,
              "ticks": ""
             }
            },
            "type": "scattergl"
           }
          ],
          "scattermapbox": [
           {
            "marker": {
             "colorbar": {
              "outlinewidth": 0,
              "ticks": ""
             }
            },
            "type": "scattermapbox"
           }
          ],
          "scatterpolar": [
           {
            "marker": {
             "colorbar": {
              "outlinewidth": 0,
              "ticks": ""
             }
            },
            "type": "scatterpolar"
           }
          ],
          "scatterpolargl": [
           {
            "marker": {
             "colorbar": {
              "outlinewidth": 0,
              "ticks": ""
             }
            },
            "type": "scatterpolargl"
           }
          ],
          "scatterternary": [
           {
            "marker": {
             "colorbar": {
              "outlinewidth": 0,
              "ticks": ""
             }
            },
            "type": "scatterternary"
           }
          ],
          "surface": [
           {
            "colorbar": {
             "outlinewidth": 0,
             "ticks": ""
            },
            "colorscale": [
             [
              0,
              "#0d0887"
             ],
             [
              0.1111111111111111,
              "#46039f"
             ],
             [
              0.2222222222222222,
              "#7201a8"
             ],
             [
              0.3333333333333333,
              "#9c179e"
             ],
             [
              0.4444444444444444,
              "#bd3786"
             ],
             [
              0.5555555555555556,
              "#d8576b"
             ],
             [
              0.6666666666666666,
              "#ed7953"
             ],
             [
              0.7777777777777778,
              "#fb9f3a"
             ],
             [
              0.8888888888888888,
              "#fdca26"
             ],
             [
              1,
              "#f0f921"
             ]
            ],
            "type": "surface"
           }
          ],
          "table": [
           {
            "cells": {
             "fill": {
              "color": "#EBF0F8"
             },
             "line": {
              "color": "white"
             }
            },
            "header": {
             "fill": {
              "color": "#C8D4E3"
             },
             "line": {
              "color": "white"
             }
            },
            "type": "table"
           }
          ]
         },
         "layout": {
          "annotationdefaults": {
           "arrowcolor": "#2a3f5f",
           "arrowhead": 0,
           "arrowwidth": 1
          },
          "autotypenumbers": "strict",
          "coloraxis": {
           "colorbar": {
            "outlinewidth": 0,
            "ticks": ""
           }
          },
          "colorscale": {
           "diverging": [
            [
             0,
             "#8e0152"
            ],
            [
             0.1,
             "#c51b7d"
            ],
            [
             0.2,
             "#de77ae"
            ],
            [
             0.3,
             "#f1b6da"
            ],
            [
             0.4,
             "#fde0ef"
            ],
            [
             0.5,
             "#f7f7f7"
            ],
            [
             0.6,
             "#e6f5d0"
            ],
            [
             0.7,
             "#b8e186"
            ],
            [
             0.8,
             "#7fbc41"
            ],
            [
             0.9,
             "#4d9221"
            ],
            [
             1,
             "#276419"
            ]
           ],
           "sequential": [
            [
             0,
             "#0d0887"
            ],
            [
             0.1111111111111111,
             "#46039f"
            ],
            [
             0.2222222222222222,
             "#7201a8"
            ],
            [
             0.3333333333333333,
             "#9c179e"
            ],
            [
             0.4444444444444444,
             "#bd3786"
            ],
            [
             0.5555555555555556,
             "#d8576b"
            ],
            [
             0.6666666666666666,
             "#ed7953"
            ],
            [
             0.7777777777777778,
             "#fb9f3a"
            ],
            [
             0.8888888888888888,
             "#fdca26"
            ],
            [
             1,
             "#f0f921"
            ]
           ],
           "sequentialminus": [
            [
             0,
             "#0d0887"
            ],
            [
             0.1111111111111111,
             "#46039f"
            ],
            [
             0.2222222222222222,
             "#7201a8"
            ],
            [
             0.3333333333333333,
             "#9c179e"
            ],
            [
             0.4444444444444444,
             "#bd3786"
            ],
            [
             0.5555555555555556,
             "#d8576b"
            ],
            [
             0.6666666666666666,
             "#ed7953"
            ],
            [
             0.7777777777777778,
             "#fb9f3a"
            ],
            [
             0.8888888888888888,
             "#fdca26"
            ],
            [
             1,
             "#f0f921"
            ]
           ]
          },
          "colorway": [
           "#636efa",
           "#EF553B",
           "#00cc96",
           "#ab63fa",
           "#FFA15A",
           "#19d3f3",
           "#FF6692",
           "#B6E880",
           "#FF97FF",
           "#FECB52"
          ],
          "font": {
           "color": "#2a3f5f"
          },
          "geo": {
           "bgcolor": "white",
           "lakecolor": "white",
           "landcolor": "#E5ECF6",
           "showlakes": true,
           "showland": true,
           "subunitcolor": "white"
          },
          "hoverlabel": {
           "align": "left"
          },
          "hovermode": "closest",
          "mapbox": {
           "style": "light"
          },
          "paper_bgcolor": "white",
          "plot_bgcolor": "#E5ECF6",
          "polar": {
           "angularaxis": {
            "gridcolor": "white",
            "linecolor": "white",
            "ticks": ""
           },
           "bgcolor": "#E5ECF6",
           "radialaxis": {
            "gridcolor": "white",
            "linecolor": "white",
            "ticks": ""
           }
          },
          "scene": {
           "xaxis": {
            "backgroundcolor": "#E5ECF6",
            "gridcolor": "white",
            "gridwidth": 2,
            "linecolor": "white",
            "showbackground": true,
            "ticks": "",
            "zerolinecolor": "white"
           },
           "yaxis": {
            "backgroundcolor": "#E5ECF6",
            "gridcolor": "white",
            "gridwidth": 2,
            "linecolor": "white",
            "showbackground": true,
            "ticks": "",
            "zerolinecolor": "white"
           },
           "zaxis": {
            "backgroundcolor": "#E5ECF6",
            "gridcolor": "white",
            "gridwidth": 2,
            "linecolor": "white",
            "showbackground": true,
            "ticks": "",
            "zerolinecolor": "white"
           }
          },
          "shapedefaults": {
           "line": {
            "color": "#2a3f5f"
           }
          },
          "ternary": {
           "aaxis": {
            "gridcolor": "white",
            "linecolor": "white",
            "ticks": ""
           },
           "baxis": {
            "gridcolor": "white",
            "linecolor": "white",
            "ticks": ""
           },
           "bgcolor": "#E5ECF6",
           "caxis": {
            "gridcolor": "white",
            "linecolor": "white",
            "ticks": ""
           }
          },
          "title": {
           "x": 0.05
          },
          "xaxis": {
           "automargin": true,
           "gridcolor": "white",
           "linecolor": "white",
           "ticks": "",
           "title": {
            "standoff": 15
           },
           "zerolinecolor": "white",
           "zerolinewidth": 2
          },
          "yaxis": {
           "automargin": true,
           "gridcolor": "white",
           "linecolor": "white",
           "ticks": "",
           "title": {
            "standoff": 15
           },
           "zerolinecolor": "white",
           "zerolinewidth": 2
          }
         }
        }
       }
      },
      "text/html": [
       "<div>                            <div id=\"9441dfba-3896-4d18-9e44-8dff2f1646a3\" class=\"plotly-graph-div\" style=\"height:525px; width:100%;\"></div>            <script type=\"text/javascript\">                require([\"plotly\"], function(Plotly) {                    window.PLOTLYENV=window.PLOTLYENV || {};                                    if (document.getElementById(\"9441dfba-3896-4d18-9e44-8dff2f1646a3\")) {                    Plotly.newPlot(                        \"9441dfba-3896-4d18-9e44-8dff2f1646a3\",                        [{\"cumulative\": {\"enabled\": true}, \"type\": \"histogram\", \"x\": [-0.4925684449519461, -1.625507173751288, -0.5881171621024306, -0.36539817771810296, -1.0622456983039872, 1.5124781249348256, -1.6275499259611566, 0.8487733043742485, 1.0083018117229585, 1.9842997826718696, -1.109905789117534, 0.5303569328764917, 0.4785617516283119, -0.8228501272776478, 0.24456333539521827, 0.9982441199826848, -0.14146630596424337, -0.49293124189872284, 0.3782259630566376, 0.6786456902483033, 0.47430616790497054, 1.0283493746229955, -1.4531084073750442, 0.08378356332430224, -0.3928671924721505, 0.6279994921928325, 0.9470748734978655, -0.35481789444105816, -0.03741070664953272, -1.306218027625693, 0.6585851517984529, 0.3833903560623253, 2.9893163370276423, -0.2365686569550387, -0.9641962861384998, 0.31161782590349274, -0.18083660839991783, -0.7935881908729049, -0.36230317713585874, -0.757858351663982, -0.5878909006425889, -0.24709592736931385, 0.9733394866736882, 0.9654379279766737, -0.31538302130064955, -1.0294692321445529, -1.3477374684284846, 1.0532466196135308, 2.3562706509699294, -0.0490168710873792, 0.03272833299066082, -0.13285465361677493, -1.0004179710915624, -0.42562153901952426, 1.3095005074880246, 0.20649974389492218, 0.6727853869802011, -0.9821938028560864, -0.46844662025458317, -0.08389185844708041, 1.2645807148561712, 0.788882460783316, -0.1097428164622872, 0.6882715110432528, -1.1473301552335688, -0.8628394520150447, -0.09625037712873867, -2.1825960434867198, 0.7661030365241622, -0.23190939116055376, 0.3659413474278082, 1.1997758091424893, 0.4572061438155365, 0.1814931905825781, -0.233289772754574, 1.421300684739511, -2.147842496832224, -0.04855877735615737, 1.140664371418585, -1.208385601540905, -0.7023445794304891, -1.2072397374144856, -0.0275948969604854, -0.5491386911320495, -0.14236466790700433, 1.2104042243757458, 0.9928980309688974, -1.922127783462217, 0.79723648691848, -1.2892430078411539, -0.09644340467770246, 0.7413346012128216, -1.58530570441046, -0.8910723261006842, 0.11194220462440127, -2.308059704988359, -0.9808812313564187, 0.8888614608155592, -0.011559659646265884, 1.3272497085463897, -0.029430908980579793, -0.8942830378375518, 0.4461319123307446, -0.33978177760389583, -0.45107193231165094, -0.38552154269717226, -1.8805928685427495, 1.5388988856669386, 1.668337682749355, 0.015249082868140366, -0.5669432874197743, 0.5823793672951487, -0.26577622275931473, 1.3841196343415878, 1.1362504705050758, -0.48839968294432645, -0.42260858505428306, 0.043607571970973556, -0.016800889624692842, 0.7113243814102003, 0.3221422751026266, -0.8090303635408379, 1.0428624837173812, -0.7008353882372791, 2.806447131098169, 2.220742826244055, 0.036302972244524445, -0.2900788891600065, 0.06930990742739841, 1.452878380206372, -0.9359508794589009, -0.26912634769015764, 1.6788418381948997, -0.4969767660867805, -0.2950759899430566, 1.1866787797147853, 1.5431726798195466, -0.06239892464465646, -0.5151477610432544, -0.7195490352536571, -0.06711759482585354, 1.2547969146366895, 0.37687300681726665, 0.20607533738166572, -0.047536270148512305, 0.1093211472356027, 0.3375172655594601, -0.4364576369576548, 2.8206773447088445, 0.5472261163554749, -0.6211959787431702, 0.8100807161252288, 0.0013424286726511632, 0.047815064891095514, 0.1504249247059657, 1.5589762631819584, -0.7838225023427152, -0.6325953633574738, 1.2615003984300135, 0.35743291829060775, -1.2174340002838675, 1.1744239904059037, -1.3361877006830258, -0.47267509286335263, 0.0013534757820207284, 1.0787916389002292, 0.38931772465338665, 0.7259207956334248, -2.6436301299616285, -1.1049959588304201, 0.17879583769591717, 0.6375612866537127, 0.3523064342196618, -0.8607093640069073, 1.0941562272574747, -0.7929330400075967, -1.4107301637735528, 0.34645277840609023, 0.6081675560312998, -0.076724670980557, 0.5460799279534275, 0.23178733449968278, -1.0988494319534574, -0.5372541568473078, -0.046587795985322526, 0.6604225364113266, -1.6602729495169648, 0.13099607718474182, -0.9073776139768613, 0.36647057755836776, 0.1888431336264489, 0.5205302035971929, 0.25308879271907747, -0.38481202018269667, -0.4103473858838423, -1.127660839273081, -0.376931015968314, -0.20259543395297339, 0.10513498001775697, -0.9782783608321495, -0.9761487542413202, 0.9689394034471407, 1.1258064485185577, -0.882128138832372, -1.076836514070809, -1.0607630688281702, 0.4026266787548956, 0.9404892723814803, 0.04984810170898216, 1.121814493708183, -0.9697573840091229, 0.4002410053026571, 0.7373644719894198, -0.4986946777532325, 0.2187989916295077, -2.116916958204213, 0.18609647751772676, -1.4130816909459667, 0.24533241942726478, 0.8868712126762834, -0.21669957536283582, -0.2630552556930268, 0.6767547687513281, 0.8928022638495949, -0.1886293358006521, 0.11123736510906075, 0.006779205394429168, 0.35407101503845795, -2.7627345235087715, 0.8557783506595069, -0.25964519698582883, 1.3080450185840948, -0.9324904629041938, 1.802868093313661, -0.6133584299070136, 1.3018200204584218, 0.48337785816183504, 0.3129051269465426, 0.24549976776582771, -0.3752020348925263, -0.365261872299835, -0.23879674132440917, 0.5756847190379342, 1.0539429415096735, 0.04336500848153168, -1.0411909393621013, 0.22788975784366744, -0.7929685383314782, -0.7520729889617499, -1.1075272664453346, 1.123990302801445, -0.47911351709279704, -0.017346716203816285, -0.5645445702703409, -1.0445269407827713, -0.2510175148436731, 0.20092935835763942, -0.4581885937647807, 0.046622656073011824, 0.39874355032799075, -0.08740180218448927, 0.03886625561227152, -0.38083121192830016, 1.5612336834576614, 1.4414817157910456, -1.9210028190854416, -0.4685568680847901, -0.14125070363898476, -1.1397200471973354, 1.2150675431390128, 0.02987868690966096, 1.1512925959610179, -0.38680767257461435, 1.8737085872368937, -0.553174025325129, 0.5418864655003883, -1.3953480463771015, -0.8563631411897015, 0.6485515990926847, -1.3124129846618853, -0.34054513417962273, -1.1028454823563025, 0.02995998867754489, 1.6132146385128743, 1.613156898309816, -0.9058319906959125, 0.08951625720416756, 0.41644048619865864, 0.37898716172313285, -1.0001042928759087, -0.24483219969484396, -0.26502367107286356, -0.1946559872833913, -0.9514920340970521, 2.276586159386479, -0.1286396881441668, 0.22536091139664002, 0.14385370416547394, -1.0525946680107634, 1.0790311452434946, 1.1210825487691836, 0.693948052214967, -1.0652400780986022, 0.9425793960780658, -1.2819683954064556, 0.8061826405984623, 0.49219852616535764, -0.6509783831300938, 2.119863537531368, 1.0928751879765253, 0.4227108688291446, -0.26592977925579264, -0.13830706977005183, 0.38110434601153687, 0.14097358456200826, -1.3319486534525293, 0.06140603603185465, -1.746442139088074, -0.8188216831894521, 1.900228504222532, 0.3044807431387926, 0.9391702010242883, -0.5939719754299341, -0.29839933036237076, -0.5143782541213722, 0.3573943423450706, -0.7040396833678458, 1.011024764400564, 0.3556692201278628, 0.7209118667029445, -0.6058682079775289, 1.2539501416132384, -0.6227550860861633, 0.18959673269982527, -1.992910625333593, -0.3382687784907061, 0.1616822148772536, 0.1250476352120205, -0.2084695595308426, -3.5207218762734307, 1.364201809462668, 0.43454488093524724, -0.6411641891147214, 0.6469227182603706, -0.7112663384854051, 1.5727541803563072, 1.1531845128008849, 0.8757297185923149, 1.1972954107499576, -0.13612174410726513, 0.33571198309009503, 0.9943511522004423, 0.5146912937430387, -0.9867888539172853, -0.5547533155699083, 0.15836174249991183, -0.25469660884348, -0.2771185363864366, -0.19891782640469988, 0.014889588519367482, -0.23511902442434232, -0.15756696237106593, -2.267400229280793, 1.2098058595885537, -1.1683286214217368, 1.2823817239347335, -0.1835000340482782, -0.1347984901510932, -0.36324998873762254, 1.2355244353752752, -3.296381487759141, -0.31407442407094704, 1.9580568942748044, -0.8030727825827969, 0.6320769179929662, 0.5489445162291486, 0.4486817337748972, -0.9025222195562873, 1.0637033033443561, -0.25602955187628024, 0.271324041442173, 0.7293884025029599, 0.6387065767773279, 1.849895112531128, 2.196325478764822, 0.014798836812861003, 0.6627202128506209, 0.3842976409322616, 1.2407275915900875, -0.600233868749225, 0.15334522276123363, 1.2670676647473431, -0.9278842571966828, 1.4759288002844833, 1.3611594207563107, -1.75522307183812, -0.2331807400151176, -1.207785311856409, -0.6607544873303286, 0.47073951583207013, -0.19945940099809661, 0.4964897367467485, 0.8301591309741982, 0.9052684591688429, -1.5533175214232389, 0.25364951203423985, 0.45023651413721805, -2.441365957134779, -0.6439321536290193, -0.24967635386851983, 1.2752924326719417, -0.35577181439933725, 0.372532527975374, -1.3982356740184982, -0.8565001464917422, 0.33891019264284417, 0.6299885961989479, -0.6227638748914905, -1.2929960294001246, 0.8749731618673693, -0.8445899830859223, -0.0011704567976015372, 1.320951981888763, 0.018106972184273425, 1.3559537515210307, 1.224177577630452, -0.4799354112559975, 0.4376487768033255, 0.3390430816697418, 0.06804825073945828, 0.010517993231959866, -1.5948771712524477, -0.8651358689927691, -0.31437338882611127, 0.8757693417695511, -1.2880435845612945, -1.21360074016578, 0.6508096748758257, 1.288910012943574, 0.02307731022585313, -2.155085391173995, 0.3536849642384457, 0.008166225243356058, -0.3191826649812987, 1.8026922186317367, 0.5105898045530303, 0.5916387132100923, -1.5091961191145637, 0.500734164491222, -2.107428574591593, -1.1401301504454566, 1.3005447996932795, 0.21427650523698116, 0.3794123206917827, -0.5077066835125139, -0.3273392202450001, 0.4501751102141266, 1.131693503665086, 0.7240561917571594, 0.40594034600813966, -1.2133759842846452, 0.32474088722568595, -1.8785861340803331, 0.9736417041889059, 0.983957040645254, -0.6431538828620466, -0.8470344391176196, -0.22785726192670575, -1.014893130120913, 1.5352130046127253, -0.3445086460726547, 0.4722267394346335, 0.1267598215668932, -0.007252420415876858, 0.6257583067715647, -0.39783308265867273, 0.3169971738778884, -0.10134368503135611, -0.3378560094859994, -0.4608905313318669, 0.07094554527905904, -0.34929066289779087, 0.37529195775078655, 1.2356124126750252, 0.5296280064113944, 1.733007082380656, -1.2603494224803795, 0.4439801206187559, -0.18550093259062317, 0.8860657334858801, -0.7005140284738471, 0.03213905901250934, 0.5464577267572226, -0.016299892714768265, 0.6885167623190974, 1.2081544340708292, 0.241494353465514, -0.677401253890194, -1.3919168857045277, -0.09076812056692221, -0.38554295566253827, -2.3402891094828537, -0.8486638823277352, -0.8394338522685191, -0.6791953455288571, -0.12559550354525617, 1.0596917799310537, 0.2786010071413073, -0.5839129153911252, 0.7098088097566482, -0.9730883897488548, 0.19689249207959084, 0.42545472547116275, 0.7532024109433795, 0.9813873443877518, 0.5481205033407507, 2.1825771937733487, 1.0222097954902754, -0.35969002869550415, 0.6166388773919029, 0.2889377561684106, 1.1237225594274436, 0.282270497999471, 0.20060408436119484, 0.8918002143376551, -0.2521750413434079, 0.32869286728163305, 1.0504910811965091, -0.25358893314544834, -0.12619420911931176, -0.41312270838118986, -0.20814066074589532, -1.3673942310618863, 0.14021407198800032, -0.2347021993871676, 0.9081509529094177, 1.0583775031579898, -0.7026583414446411, 0.9905687802209302, 1.553628779101069, -0.7960561248699222, -0.44062650639380746, 0.7534005425835708, 1.8978613910860336, 0.3943811715753778, -0.42608514766886413, -0.3308044166202992, 1.1892838717911147, -0.39743080701300376, -0.07407562215428255, 0.6130027778922708, -0.2759048822183667, 1.4525127427920415, 0.17987207835938182, 0.020821436672001203, -1.3165611096708627, -0.026202524083679863, 0.18527085082874745, -0.5782393304216459, -0.42508038561075173, -0.4672634673791798, 0.24254833625160546, -0.7146051245162979, 0.0331449349137421, 0.32606515647589634, -0.9586127820329295, -0.2621530704644352, -0.56980213042595, 0.7731262995032601, -0.24412290021585378, 1.123350425849543, -0.25552839575067604, 0.6414614964447498, 0.81254225454358, 0.344937719608387, -1.2843570614086066, 0.6232661154372929, 0.5741446320817626, 1.8308549135407146, -0.10301492165041737, -1.3424124356302187, -1.3807266153234254, -1.6706582352151902, 0.17736433670115997, 0.8669138158833005, 0.3855574454505954, -0.8176246264536535, 0.14904634403236572, -0.6718768395760107, -0.5223474432914578, -0.6090843652813679, 1.2925648280072832, -0.1449093418517151, 0.4592567997945879, -0.3703504132870444, 1.4642981136397601, -0.036789616849402317, -0.7332989409876783, 0.1565350578223492, -0.5259409300543153, 1.4671516205616564, -0.6786737273047915, 1.5567060266076236, -0.8667383942205289, 1.3878393287452584, 0.5575593122582149, 1.2708601965591313, 0.35300363450640176, -1.8075010925954953, 0.23693565025215876, 1.3851224198446805, -0.9205361203001085, 0.9076092397683382, -0.5132488314382837, -0.7527953653764177, 0.5694582897381303, 0.8904973413683132, -0.5308033462608001, 1.3447434788774557, 2.0188682146009196, -1.1376110724926456, 1.4446553821554737, -0.9533567905854973, 0.5343751779490222, -0.9326159251485243, -1.6000837621253472, 1.8884644140178788, -0.2999278385215048, 0.13038722816700565, -0.14559701856122056, -0.7324823791392124, 0.56575231498794, -0.11633825217177277, 0.3511230353790809, 0.19488964330502004, 2.1136384462648308, 0.059251853632804274, -0.46695122216091395, -1.1668922421737553, 0.14759389641784607, -0.5307962001051667, -1.9843237435490753, 0.9097182324003966, -0.690348978690924, 0.9767449958144591, -0.2512396268274854, 1.7294306027302946, 0.7921572860616527, 0.25087697640502515, 1.3109575287426494, -0.5486938260548309, 0.4418730540221319, -0.787266704788127, -0.4452636085476306, 0.45819449486860714, -1.0479185785975835, 0.047018796522076176, 0.6573285575986366, 1.1169369095316448, 0.6391292805370725, 0.08433887432804847, -0.8866202128348819, -1.200764771219036, -0.3892827756937526, -1.1293385488746157, -0.42213652815326624, 0.6526829436608821, 0.059714920535377684, 0.6745335840859278, 2.277760654945575, 3.303251121509669, -0.9134137888578971, -0.7898343609604362, 0.22520645717982393, -0.26307484910026596, -0.3731635446320253, -0.11362476118311708, -0.9930990093199551, 0.4229012527636276, 0.6709076179433576, 0.05325619867496438, -1.278800089383418, 0.08412567353938541, -0.7031340973546958, -0.7654461135022644, 0.16592292849696538, 0.02047211071877935, -1.1830546525714485, -0.48660280447012677, -0.2173704401313655, -1.684728495045006, -0.2745291991235303, 0.8456036216943714, -0.15417736982937136, 0.4021313850984953, 1.7288063758743066, -0.8144907445158762, 0.5382242009959494, -0.21626543661987233, 0.8247664972619996, -0.9685106131140838, 0.3294335096503977, 0.14677177505282618, 1.133568612114133, -0.28021025138912037, 1.103082403572631, 0.014704378754808105, 0.6169886030292564, -0.9055958275701411, 0.3464595969051981, -0.2758121651763253, -0.9755714195769675, 0.8269060418336531, -1.224946771020491, -0.8651107100519511, 0.014326533751068394, -0.41004484409553965, -1.24817572057354, -0.2532687655837623, 1.9121189083581833, -0.289118677528591, 1.1984888858051095, 0.8897264287577947, 1.3135193793381428, -0.48495612184807974, 0.3054949418273661, 1.9288939039020667, -0.6381836061948842, -1.1401940691973693, 1.2982992430414255, 0.22452926092556416, 0.48333102590835825, -0.36256098414035387, 0.5665305504037558, -0.12359239940973678, 0.46034223205817204, -1.3757291588453915, -0.9421823395051169, 0.34067156387495795, 0.1929299184000095, -1.7422037165493358, 0.33175236499286653, 1.7334026819725685, -0.9807639351363369, 1.5535521950255964, 1.2778659483968107, -1.5103936175526835, -0.40075885966281666, -0.20339069573962462, 0.10757302184783306, -0.679120150175092, -0.019215055772055706, -0.5977241228172566, 0.27365887589270205, 0.8921238777186576, -0.14667171762638706, -1.0045464598137575, -0.8717790196357104, 0.612579214543023, 2.2051968680559595, -0.1265607568175746, 0.22489819371736702, 1.2138490593256785, -0.7610301251495896, -1.1444358288514154, -1.391114968587227, 0.4757987965552078, 0.7822508970263173, -0.31152514117323127, 0.0802568729915715, -1.2377140364468158, 2.3174023076977552, 0.9580933670836648, -0.6476069734663664, 0.24338707490108707, 0.9047252991332021, -0.06940279412405732, -1.2383995605081526, -0.38346500945387957, 0.7739422233651595, -1.0085416880903766, 0.4981087754092626, 1.0719724905097134, -0.5379614498715555, 0.03473741954563536, -0.7427328284883212, -0.03549709345055285, -1.059940683418933, 0.7813437571281726, 0.13712968186442687, -0.5674033033416739, -0.3174718256556223, 1.0277808360855645, -0.6390028403913002, -0.15608782254701736, -2.430914163842432, -1.0655273002019785, -0.8278000702822069, 1.0878092031604887, 0.04234626222500637, -0.070489415205037, 1.5180879149299504, -0.2984738599456833, -0.5102692805160379, 1.4659515649370773, 1.1929079137993572, 0.0028967726429726427, -0.2550995005966519, -0.23052798911828193, 0.6862818498084495, -1.0788662620319251, 0.8462011646641359, 1.3026989332519678, -0.4253110440157534, -0.14995590744458712, -0.9266613210432033, -0.3119094875660266, -1.3030259654370677, -0.7580610584666627, -0.19956651508118373, -0.8778961122402013, 0.00510291976664089, 0.32488209454122435, -0.5096976951220573, -1.665548026317733, -0.41247270231966443, -0.22547119172179686, 0.41868970540238254, -0.706420304420171, 1.1783443016193353, 0.644470850437162, 0.052534024050756516, -1.5743541769589167, 0.7988435140405693, 0.8587496926430335, 0.9957623375023082, 0.7462476856791735, 1.01570044945774, -0.46690518793212565, -2.1256018441680142, -2.109214943417619, -2.659368533042366, 0.8833119659725309, 0.2293321738128478, -0.4633033671904962, -0.14361404073293876, 1.0762909013794852, 0.9274029266724447, 0.48141346026326465, -0.37036173003049255, -0.42252777960895194, 0.10873304690983805, 1.897537352738671, -0.2573178097551398, -1.4394564852537377, -0.012891104466623214, 0.7692066036701142, 2.726128582795467, -0.38133165566378713, -2.093608937343426, -0.3866434318463692, -0.3720045622337527, 0.12079954395954394, -0.7874635230039353, -1.2188237962550628, -0.9408740162871019, -0.0993996054192829, -0.8403261575996919, -0.39695784323240696, 0.4015091915020726, -0.9102311223600804, 0.13984753007335113, 0.71572308393638, -1.1083194517273496, -0.3390916715495961, 0.6111761474450894, 0.41568395455897106, 0.0470472845925307, 0.7477186530678281, 0.7956985247311953, -2.2129599745882627, 0.2929369013526458, -1.8029107958086228, 1.5820673953581503, -0.9907363035063975, 0.8421720065200645, 0.7674989436985091, -1.223247694960614, -0.7938706550728487, 1.5656077639574297, 0.4029801113637828, 0.6346428816006204, 0.4342937667503904, 0.9556704671324514, 1.3184490771480615, -0.04353737364922415, 0.5535091574193769, 1.846527140263416, -0.5073997378991294, 0.3115926288588323, -0.46464534097522003, 0.22035822881305187, 0.4385441486798253, 0.2574366562540213, 0.03837155495547682, -0.9277217476818275, 0.24890365463910738, -0.19499765631280155, 0.9507654234978354, 0.9302886796776166, 0.07092104896817858, -0.7567648279391884, -2.117758786289686, 0.6822001478528362, 0.8195696149535786, 0.8472894863983027, -0.3439139354277957, -0.03177810287517926, -0.4920347750582474, -0.37832767150161767, 0.9878053165903481, 0.2583876343987919, 1.0997082373471778, 0.9685417431648853, -0.6897869918892423, -0.012445321626003132, -1.123465984326696, -0.9134184836593214, -1.0647713825477478, -1.5411869899345023, -0.6639852854373911, -1.3404829593108354, 0.6497924415711779, 0.2234533837069258, -0.26345407341051524, 0.43204101669824885, 0.3341310556499835, -2.1727868472959058, -0.18940163442880456, -0.10957208261548945, 1.5850533284913308, -1.459919886694776, 0.391265065307082, -1.2129932333989062, -0.45847999879976, 0.5267596156119851, 0.08470048699002027, 1.1480672267506742, -0.9566386758005377, 0.44372321750091037, -0.2775267579102419, 0.05836055826181796, -0.6807306427056586, -0.17518988921310627, -1.9614097081859918, -0.37675341249849753, 0.6778451044392807, 0.4532330854894505, -0.13563708135648264, -0.42291866505625997, 0.17066676833483319, -1.4809918979064551, -1.0444857584460432, -0.5523805398804859, 0.3995207154416764, -0.6525233028097929, 0.7404957273375703, 0.5534468513439001, 2.4080427017981636, 1.0940406810074037, 1.3758896812047872, -0.5787229593868467, -0.7001446280931569, 0.16836160704469966, -1.0678518849551244, 1.4536171534401803, 0.439431665417499, -0.5959329884106257, 0.8584132872955663, -0.019744716539481465, -0.6274951879716391, 0.6790204889802752, -1.2743926791235647, -0.2641635365659215, -1.4237334574405902, 2.1753796571263204, 0.41737747933739083, -0.891597165902553, 0.5825925600776233, -0.43353962043396455, 1.1983005409928236, 0.37510187855423516, 0.8763637080562295, 0.09788916926502195, 0.47327080669129157, 0.1398166543162617, 0.44211346421968606, 0.07997906440735553, 1.542390880660584, -1.9507275820145953]}, {\"cumulative\": {\"enabled\": true}, \"type\": \"histogram\", \"x\": [3.1130260296631396, 1.7027139471990427, 1.1795648396121226, 1.2297395057496434, 1.6180114765214095, 1.0562486245971783, 0.01800050807955411, -0.3629986970755996, -1.6170797535352377, -0.023677506180129537, 2.3737388255075462, 0.21694003968775766, 0.11648139286173753, 2.1033897581020895, 0.2414877061837224, -0.08758000375616493, 1.731495257813119, 2.2939952151949443, 2.4409595200460785, 1.0020447882003536, 0.7615116971961544, 1.405303700471391, 1.2243451728717012, 0.8153239197564622, -0.011135849824053912, 2.0753201685119342, 0.924473570968651, 0.7312157801956685, 1.6191132030759374, 1.6978722176253938, -0.546464068101663, -0.6792001185373315, 0.8663484191184841, 1.3235493609856115, 1.316324069587782, 2.1229164666157607, 1.2996545907200643, 2.249232676806319, 0.5542560439001738, 0.6946762301924139, -0.3070267554765902, 1.9060416391265171, 2.1272858991237515, 0.8730134013770636, 2.477173912206662, 0.3803877339771691, 0.24806900211617622, 0.5140521389920618, 1.7533512664919155, 1.7296250314204071, 2.0451360116666386, 0.4483988346919221, 0.8459756890595624, 0.5947044987983747, 1.3905133543380295, 0.7349630027309049, 0.9836580052168755, 1.6109264087757391, 1.8492975295089573, 2.8826510110396284, 1.466048527636332, 0.19452740468042962, 1.0182682975613988, 1.8141293102261804, 3.3490005122788555, 0.7967398786174928, 0.9572201590582118, 1.2210216775705371, 1.0642136051727942, -0.07856733170494667, 0.36181453224310534, 1.8654331987575523, 0.8028929368494429, 1.119653213356118, 0.7691054522335806, 0.4256248118313851, -0.5661490822878883, 0.30024591352918995, 0.4532373330848962, 0.015667382609919955, 0.2841666880870507, 0.7324751838428252, 1.3055379135658034, 1.442012502361288, 2.5955361700503, 0.3620093376468638, 0.9214539693995497, 0.24458331135571387, 0.9275609678542991, 0.4339598008340757, 1.5943771115374363, 1.216673891929968, 1.8479896604267458, 1.600291635240707, 1.2223651745488349, 0.9065625701806252, -1.3040292166299494, 1.3596841023821113, 0.6600655669072623, 0.7600856425899769, 0.01114147255560749, 1.5971032231298754, -1.0544022569272666, 0.9945095225819796, 0.9481324231405824, 1.410060000239735, 0.9171792352157484, 1.3336269601662178, -0.5136717576935304, -0.8173066717711608, -0.44466234170560326, 1.819129870901956, 1.7818937772632308, 1.8012509435775765, 2.5311480365927004, 1.703785160879141, 1.9974847996173253, 1.0429792785411796, 0.9355375166674089, 1.1756016452006255, 2.1642385216245454, 1.789460422398264, 1.4304398737192832, 2.4807234973012577, 0.06821004544968834, 1.2660137247346008, 0.4255719092355149, 1.6806922664987725, 0.422847366686367, 2.7757549092800238, 3.876817470737959, 1.4437166905030416, 0.46884926694996265, 1.4047961350625002, 0.3021499682459621, 1.8555998374998777, 1.16131644820157, 1.1271969081909687, 1.359851532404696, 2.182605675363009, -0.4462181859184271, 0.02668603711078854, 1.9580760596745668, 2.549092064646108, 0.936908518369754, 0.7592251962030162, 1.1810312868802504, 1.010579875761334, -0.5727701185179439, 1.5186650710831728, -0.9208138126406356, 0.5375427598803921, 0.9467660463268267, 0.18615940252649799, 1.3687388987999574, 1.4351057062788557, 0.7583550981347333, 2.049862567191762, 3.769532509060656, 2.5115426850843665, 1.2508186290337604, 0.5508020155157549, 0.0827848605982815, 2.8064875533525493, 0.11442119111919524, 1.630739560665047, 0.5991632906183996, -0.053685266631871675, 0.6772008072495459, 1.0075955030715535, 1.1604394315076334, 1.565134676287781, 2.727363275869161, 0.7735057151170508, 1.526148511722188, 2.7073370066209472, 0.25757571040118676, 2.613188406075648, 0.6012567212899798, 1.3627136597700726, 1.527859591859551, 2.2156850770830774, 2.59810016478657, 1.7366209261779346, 0.6487125979742405, 2.0649142202500252, 1.8727375485996087, 1.7028142401279664, 0.031333079289599164, 0.988030863881385, 2.642299659243326, 1.7103348046297766, 3.1760603658403403, 1.221041865799839, 1.9409257888912368, -0.08262252813534965, 1.553400232729624, 3.689897873272948, 0.7918734838820163, 1.9385514368731025, 1.2708809105071186, 1.6478180996049376, 1.6344370973844233, 1.0535993136342487, 1.4980651967377567, -0.6023049167522752, 2.020112268790073, -1.316781059444311, 1.0647069258715205, 0.24036942215115498, 0.8585101098136204, 1.9282230958227389, 0.69196640815627, 0.06070603726680179, 0.7877352571453486, 1.7042008555693318, 2.3110126020975557, 2.0132715689074634, 2.535506944536983, 2.7802676249157945, 1.7922764222382215, 1.7292084885494452, 1.3375283186558808, 1.6190792415578468, 0.9223674377692908, 1.132929018301378, 1.5459547561002687, 2.080065075654228, -0.6418697130093198, 0.5697357776478582, 3.631850684741446, 2.2715806362730566, 2.5130386783536647, 2.1668514714814195, 0.6031369204750259, 1.8018385486491826, -0.1012544289167503, 1.2642429806933937, 1.5214489361474457, 0.11250706800971022, -0.05910849207514279, -0.12297780106167355, 1.717482629368177, 1.140884852732714, 0.4678934388677741, 1.2922611622752882, 1.1049835851265672, 1.0307774570346948, 1.1117143639345661, -0.7241546359494173, 1.5065190600563922, 0.1909832927803321, 1.170662045008362, 0.4674423201399306, 0.733063312735224, 1.4808141225529705, 1.647208164132528, 0.30372887678392546, 1.32368436335151, 0.6084473211081398, 0.25884814157196645, -0.01830243151906008, 3.052400248789343, 1.3739987312192063, 0.7563039924198641, 3.164825550813858, 1.720521390137099, 0.7969206106095853, -0.25684167963401894, 0.6570135337571289, 1.3063569724805286, 0.35547409188972534, 0.9252585346368167, -2.2820498289202074, -0.8865248786692614, -0.10316675644896045, 2.457507500180954, -0.9989791433095765, 1.6574152561916875, 1.4474612210018214, -0.7503176684018658, 0.36050576550122815, 1.470156420559149, 0.849370261997345, 0.49304560406180475, 1.8526544602332489, 0.7106749471521864, 0.9452516578995922, 1.0512599057832566, 2.000566885977142, 1.711145024747603, 1.3345254089315342, 1.4514837615234686, -0.188873531938345, 0.2939787135560753, 2.4994500091481493, 1.654987306485204, 2.3498407720546304, 2.7274265125358004, 0.9568836807268772, 0.161043787186972, 0.8303622744891457, 0.4361204255117592, 0.30740718992677474, 0.7760197211267348, 0.20438707579301107, 1.044861038441037, 0.011589740564651008, -0.09158414049265517, 1.8679823311906394, 3.8787687882997814, 2.0511246256837277, -0.14952828796219086, 0.6348528935877966, 1.5690107736848071, 0.703505102025433, 0.6516624838193878, -0.15246483056067528, 0.2585172863163516, 0.4367742839983604, 1.4245592810302383, 2.1451782298253006, 0.39731719865131077, 2.288556209752776, 2.016473037455338, 0.07780240428341167, 2.788587428949591, 0.23136443374118731, 1.3467663576620454, 0.7939598594948478, 2.7436979515589517, 1.0642787234219584, 1.3191601377519944, 0.8579780574290969, 1.3780615369520905, 1.3243278140691301, 0.041624658639793366, 0.632420048428447, -1.3446877559097294, 1.5718600117558386, 1.0532039152214179, 0.42709408136608473, 0.27457915748819295, -0.117094076854529, 1.106819764212716, 2.1929685750386705, 1.394891088385652, 2.361668329922299, 1.087981581214417, 2.444733275961158, 2.1152696668765927, 2.2116371887220776, 0.855342556429258, 1.3333492301425869, 0.6765529376761388, 0.05595265344119815, 0.4263475664339361, -0.1405527329438736, 0.24229348532562, 0.8913328723635174, 2.374387544199446, 0.04256245478395482, 0.34283212295068743, 1.7771578449866727, 1.9159693719745534, -0.5766075352270881, 0.21301191838733902, 1.783350707062385, 2.631088881931757, 0.2955329620883813, 0.971143609006461, 0.8367636950870035, 0.9733930349059667, 1.9548874020753488, 1.5483949592280621, -0.1808575672403545, 1.255499855490286, 1.0813466078244653, 0.08027952745941558, 0.8081893387512603, 0.7278159345877452, 0.8084609371894758, -0.32315857514245927, 1.335135528254821, 0.2075970861538844, 1.1848586065793314, 0.8490435156271647, 1.2914057265208103, 0.3212635716802066, 0.6952148879037066, 1.2833481661427153, 2.6413512414160474, 0.768489456876061, 1.739593135851106, 1.6444658646287786, 1.1121584873193906, 2.321899356685084, 1.5694752990078427, 0.3450550341981111, 1.6463572082763078, -0.48227059459764643, 0.596178707013739, 1.2532478677762153, 0.1876425698062062, 0.9310028736098642, 1.2978034034083497, 1.1512662827924005, 1.744244844724677, 1.312724198357351, 0.05084158843028408, -0.7939776874579316, 0.6774382083141091, 3.086853613205911, 2.0015663687031133, -0.7590523640623335, 2.712561719720369, 1.7054204608139487, 2.8871424641010135, 0.4852060057460814, 2.0842815800830765, 0.3727152834075682, -0.38096442371491457, 0.936721263476264, 0.6938700857580153, 0.7428809011132728, 2.3139997173052196, 1.9199424953806066, -0.4569402524543942, 0.8408222907764407, 3.40528219633249, -0.08604683486152753, -0.7990553689855795, 1.806312958193017, 0.9152250221647158, 1.0621255437995365, 0.379272143323072, 2.063715344054771, 0.9829730273736673, -0.594900518564051, 1.4464045178081522, 1.6533493099110692, 0.15568557667771865, 1.4877403200326798, 0.5262913616001479, 0.2530546838517477, 1.058573661037961, 1.993097581665992, 0.39823456437183957, 0.24839173476119858, 2.7698493020253894, 2.991632614222822, 1.9108812205736438, 2.119547815305001, -0.4255323777590714, 0.20724811626232076, 0.8150256616615379, 2.47440246858668, 1.7322327576697785, 1.058057455943978, 1.3934151290627121, 1.7836802022834104, -1.6626733158216598, -0.38527233530071836, 0.5804364480729346, 1.6737718120715293, 0.422325217533163, 1.928286674373937, 1.2166370271769302, 0.26560886466675404, 0.5726610520414519, 0.3769001108431471, 1.79247553122278, 1.8129342883110078, 2.087588976582661, 1.2358879008866763, 0.18781405454508393, 0.3680967132719808, 0.17448868695035002, 0.6408429232005033, 3.264762406488982, 1.6210575318539548, 0.0013607053659113744, 1.079809332954437, -0.43601962876113975, 0.32513316952063576, 0.685829755100696, 3.2263263925660546, 2.338396610151066, 1.0149056652595774, -0.06863152391553395, 0.818398749033674, 2.555996645799737, 1.036839232884327, 2.22640237829412, 3.290425423469557, -0.8747160604500674, -0.5428716787532868, 2.840990072685079, 0.9679460397918304, 0.030648949032066053, 0.26507256870214435, 0.5535990316146411, -1.0033830107125263, 0.8452025337409503, 0.8538099456777906, 0.7337906741380749, 0.877875480068959, 0.056345255238497094, 2.3385657092419656, 0.37657976530135395, 0.6557157695598076, 1.5515821418460982, 1.675902470132509, 2.402818083377582, 2.8143929077197694, 0.9412627632036845, 1.2651338733220028, 2.4534861105259864, 2.1605238930526722, 1.383619016653034, 1.0339553911725734, 0.6342988723172966, -0.48566825680089964, 2.3622412944827227, 1.4784186894554319, 0.6592259357027728, 1.2487393183773614, 0.8504570414888867, 2.66504469122047, 0.5234261655345106, 0.005724045027379221, -1.4752770637301444, 0.6978746149976987, -1.0965147710149825, 1.2787348673935641, 0.956840382607735, 0.9521123250365103, -0.7524776084561, 1.405525227201259, 0.5711309237667623, 2.367695942286553, -0.6556358725674443, -1.6494970324915035, 0.7748625116064328, 0.25356905307370625, 2.7804681131853997, 1.3699129576717513, 1.2954175722106134, 0.11319992947526314, 2.097184021706969, 0.3916370202974927, -0.5325859296494493, -0.43962771888964136, 2.5698274652144537, 1.7989698680351989, -0.05326640643903047, -0.09317707914879758, 1.2568643638197887, 0.7068779818925941, 0.583284968260738, 2.4426624874841174, -0.36093899282370345, 0.05397509173663462, 1.9654964765843352, 0.7195746667435912, 0.8828320464963708, 0.8195630107360932, 0.381419238879232, 2.027935874833657, -0.09717387344160189, 0.9197750323748162, 1.1415336407164296, 1.4766730148850882, 1.4371224838691448, 0.10153978643066264, 1.605925238544891, -0.31762349233972276, 2.3582940482366546, 2.3585443785455333, -0.20939444866115053, 1.443345959216765, 1.2040781461251726, 4.142558232551191, 1.7801771691574375, 1.5186505164140671, 2.3588060382334692, 0.35364862553569454, -0.07364557656874848, 1.8368481528025042, 2.416884043733104, -0.3294475578862517, 0.8592393088756863, -2.6237068104068175, -0.1724906604249028, 1.050967020513595, -0.2976037415431074, 1.1526280104577218, 3.449260301459131, 0.28270693602244823, -0.06536932961156494, 1.184323881381858, 2.2579436087425195, 0.7817369098317556, 0.961147007582049, -0.9562538866649457, 1.3509319128948485, 1.1676544929477852, 1.2382522334372843, 1.103189860069742, 0.39965785886944005, 1.1087919021290753, 1.0019905169215442, 1.2779136431883593, 0.9603612765930347, 0.4577329519978738, 1.1871631917856753, 1.4113500052145829, 0.7745493966131736, 1.7541196836967925, 1.4733358476939102, 1.3856611319026415, -1.9045018075522555, -0.4005476706697122, 0.5885240207771436, -0.8067306414889399, 1.6137018608741527, 2.53393382418942, -0.2519525389517203, 1.65980589922626, 0.6014663443154874, 1.3054744239596898, 0.22695338703213985, 1.9671606748150219, 1.551625240707026, 3.7008839051847615, -0.31873134049472895, -0.30314523623500267, 0.5111247121658022, -0.5964165561734576, -1.0732412390521664, 0.4837464829029602, -0.4485953055554259, 0.5791646864736446, 1.1153192673484948, 0.4091497466487186, 2.205391389610126, 0.5763579112937707, 1.1273573133421366, 2.2788870679709214, -0.4188714718658264, 1.6517106872346012, 1.0583405935691697, 2.4208265061142136, 1.4111060281533612, -0.07460033702663549, 1.6647806193608155, 1.3457115516282745, 1.3300411461392478, 0.08859267609684474, 0.686973722204131, 1.2965312637762427, 1.7457602079194172, 1.0407680678234836, 0.3007314952371054, 0.6604146082451021, -0.4087070262908137, 0.12235295584468342, -2.2412939919468062, 0.7816242739750124, -0.640840195284468, 0.2027348968671402, 0.8041683066946073, 1.1445800466360927, 2.2340309482000933, -0.2962747186683854, 1.1127201993095943, -0.5079882853552444, 1.044723132348754, 2.024275595279745, 1.134581952152231, 0.406029246362841, 0.8800733271365422, 0.33328310820188556, 0.8411998731670565, -1.0707421477001646, 1.0956340848075583, 1.3402319056244447, 1.7329885035833306, 2.3013037689245444, 2.56318398118691, 2.123492841786157, 0.8829246149488965, 1.2000082406267023, 0.23766917822119926, 0.7722119093918977, 1.433723884514758, 0.05726347167505952, 1.7887196532304632, 0.19371550892772926, 0.2707283924560834, -1.214883834390469, 2.0539413163724616, 2.334392505117271, 0.8822664895986696, 1.0866104347078467, 0.3277608697093256, 1.8843093326213736, 0.985765259231072, 1.96241281796768, -0.13469815607968028, 0.7683188876261415, 1.249337605832046, 2.3846038841844805, -0.9227548618195687, 2.7574619274405707, 1.018631570931357, 0.969928295404049, 1.786432653948922, 1.610570448526988, 1.1839948049625348, 0.999057584507488, 1.2333269967955895, -0.34302091636763654, -0.5506298355666512, 1.8160457792954081, 2.479013803631656, -0.5197464208986098, 1.3642796995032618, 2.0632435529902415, 0.6982340434510605, 4.397444002136406, 0.29825129126889893, 0.20785800028694223, -0.18635846297360437, -0.23176036038705572, -0.30327865183582325, 2.030517786105966, 1.2442755052391918, 0.4041042130432473, 1.0707745261936505, 2.594978983160595, 1.7313693824148841, 2.871405667879684, 1.5661305620536772, 1.6238439580054767, -0.9063777951060441, 0.11308314079356496, -0.25688485411332485, -0.4129761627253665, 0.10397327528127998, 1.2258146614865235, -0.200793479505621, 0.3878663397798897, -0.6984316388933343, 2.8252606681215657, -1.3007719129603288, 1.8706874336299082, 1.127201174130918, 0.7888354188164995, 0.571288610299238, 3.499388158748154, 2.169684265131549, 1.8677099069627245, 0.7437228185155254, 1.2348649786072223, 2.4956000108431207, 1.6974657255401295, 1.577512161540172, 1.7509857433324336, 1.3716231205637979, 1.4281111637636976, 0.6353195155824969, 0.12067715126971457, 1.3008432805277494, 0.4693375218465875, 1.07801109805326, 1.378883789900756, 2.5671392874422616, 1.973396792260972, -0.3446121838873131, 1.2796348856467832, 1.8744734624096304, 0.09562786308096771, 0.9315550029200432, 1.2117914201796165, 2.9151284693555595, 3.3214456683659677, 1.7129422202327733, 1.4410208720324968, 2.2164267374558566, 1.378839738757291, 1.0854704247302926, 1.5034748632894455, 0.16823770110556613, 2.100992564857423, 1.7575244777690373, 2.3344200733029847, -0.8124031293374159, -0.680149226933112, -0.20249524079347814, 1.4065099602363773, 2.0889430234547075, 2.4758110818474606, 1.3237170509427678, 1.8411869028062757, 1.2120049166797207, 2.320080573723197, 0.29805773266239965, 0.2796788297803783, -1.090170851592081, 0.16554697686612496, 0.8732269039105889, 1.0876865888429847, 0.4563979761253806, 1.24504991588981, 2.5944509308764805, 0.8137371294138265, 0.2201014612132236, 1.6944498174859493, 3.127190562291157, 2.782172303046514, 2.138886707163507, -0.20692380873258776, 0.432830598464907, 1.8845839271270823, 1.9875187324194457, 0.9786929204199748, 0.7702720692950392, 1.647404119762149, -0.9926808061911241, 1.6451497197520655, -0.22426046442067782, 0.48567739502178997, 0.19799157636755804, 1.3607378553650293, 2.6835216085607216, 0.8153392764831482, -2.3433816072265943, 1.4737337985913854, 0.8452925052265977, 1.5123087842470644, 2.480785823755977, 0.10394937229501955, 0.39615769757576635, 1.1898004059128797, 1.611046836365128, 0.2715652202662707, 1.2441160105197486, 0.664206820192207, 1.8938528969986388, 0.4636574895648118, 0.9337838094935219, -0.3195345388935438, 1.620825750301268, 1.712080682119601, 0.7266647599013452, 1.029097359687825, 0.7939679476387833, 1.858676338723622, -0.6124926406492726, 1.4678920696092108, 0.42331571321486705, 0.05439417401954194, -0.3740360209048472, 3.127091267774428, 0.6439702647381176, 0.37466739772848556, -0.4299332398130784, 0.8154663606447934, -1.3599738544275817, 1.4105669407298072, 1.435875193122643, 1.2808174609958467, 1.4344033544571475, 1.9544444390171236, 1.577853958677471, 2.0174077610862855, 2.1655666748391127, 1.4026777328491857, -0.20775118303159879, 0.8940058532136101, 0.5632863798487082, 1.118829464136347, 1.7189421692459224, -0.01585037911820275, 2.4162942296234133, 0.9146290915666808, 0.9433273842783501, -0.3844308878651925, 0.5664382477888692, 0.25173444895844543, 0.5551756774606134, -0.28037361250697757, 1.6887591978582361, 0.1991491854257561, 0.4487716511541997, 4.007775460092869, 2.3172551601387372, 1.717680611456747, 1.2670738047857206, 1.3056946972865227, 2.034269215035239, -0.18966301520317885, 1.83872834786911, 2.2689971648347353, -1.0315276871326096, -0.5740116756054314, 2.7172252169161, 1.1681291468779207, 0.5557703347532623, 1.6633804474277316, 1.5841984701316383, 1.8434902130624657, 0.30131620104857126, 1.3271396327940241, 3.3989921521588826, 1.3245455791338876, 0.9377162323046347, 0.14077191739742057, 0.6674130858570171, -1.2676292823377633, 2.4059199488132856, 2.019395073291695, 2.0089080574876625, 0.02405918765448334, 1.485758865756632, 1.3125921900466286, -0.6527821756561338, 0.44991268970628384, 0.5964437452833448, 0.9903775622291758, 1.7547002332361759, 0.6725731404144639, 0.06289360702952373, 1.6299667147730588, 0.6534044171491229, 1.3781615494678916, -0.34778351434782406, 1.8985213727317545, 0.7701011594701963, 0.7228110665965749, 2.1424233864594786, 1.5040621715726625, -0.4419795957611887, 2.38673519007581, 1.9099538348830674, -0.12673172678723188, -0.13535809510088104, 0.49224035308791914, 0.6241152771443315, 1.584972342987162, 0.6231492692234302, 0.6747847554572772, 1.492931331516405, -0.5712088635718555, 0.1186730646245936, 1.6426810812701844, 1.0265238914207673, -0.9950292312358366, 2.801073848720416, 2.622445136356036, 0.9453050252351365, 1.886594460892241, 0.028057083778371572, 1.9116709640470044, -0.3647543541197291, 1.668685990580646, 2.8160659635540535, 1.0130243725088728, 0.7622074404786849, -0.38638104705518317, -1.3469155170835445, -0.4583891818528736, 1.6662703516506652, 0.6946684635999765, -0.0035942487196432005, 0.23460458692934594, 0.308650831085715, 1.8019797685211025, 0.5669070737211561, -0.00956017964892486, 1.2471737827346068, 1.7300791552428063, 0.7653583211820132, 2.62983980936477, -0.9622524186423325, -0.15757039746811108, -0.21460398893597965, 0.6787939223903348, 1.796354789781545, 0.44305981873604394, 1.5732092173881986, 2.6356613903038824, 0.9857456741220693, 1.3322586500658407, -0.5612352914456162, 1.7984581399430362, 0.4801164315336349, -1.4128556476816456, 0.1641792602429759]}],                        {\"barmode\": \"stack\", \"template\": {\"data\": {\"bar\": [{\"error_x\": {\"color\": \"#2a3f5f\"}, \"error_y\": {\"color\": \"#2a3f5f\"}, \"marker\": {\"line\": {\"color\": \"#E5ECF6\", \"width\": 0.5}}, \"type\": \"bar\"}], \"barpolar\": [{\"marker\": {\"line\": {\"color\": \"#E5ECF6\", \"width\": 0.5}}, \"type\": \"barpolar\"}], \"carpet\": [{\"aaxis\": {\"endlinecolor\": \"#2a3f5f\", \"gridcolor\": \"white\", \"linecolor\": \"white\", \"minorgridcolor\": \"white\", \"startlinecolor\": \"#2a3f5f\"}, \"baxis\": {\"endlinecolor\": \"#2a3f5f\", \"gridcolor\": \"white\", \"linecolor\": \"white\", \"minorgridcolor\": \"white\", \"startlinecolor\": \"#2a3f5f\"}, \"type\": \"carpet\"}], \"choropleth\": [{\"colorbar\": {\"outlinewidth\": 0, \"ticks\": \"\"}, \"type\": \"choropleth\"}], \"contour\": [{\"colorbar\": {\"outlinewidth\": 0, \"ticks\": \"\"}, \"colorscale\": [[0.0, \"#0d0887\"], [0.1111111111111111, \"#46039f\"], [0.2222222222222222, \"#7201a8\"], [0.3333333333333333, \"#9c179e\"], [0.4444444444444444, \"#bd3786\"], [0.5555555555555556, \"#d8576b\"], [0.6666666666666666, \"#ed7953\"], [0.7777777777777778, \"#fb9f3a\"], [0.8888888888888888, \"#fdca26\"], [1.0, \"#f0f921\"]], \"type\": \"contour\"}], \"contourcarpet\": [{\"colorbar\": {\"outlinewidth\": 0, \"ticks\": \"\"}, \"type\": \"contourcarpet\"}], \"heatmap\": [{\"colorbar\": {\"outlinewidth\": 0, \"ticks\": \"\"}, \"colorscale\": [[0.0, \"#0d0887\"], [0.1111111111111111, \"#46039f\"], [0.2222222222222222, \"#7201a8\"], [0.3333333333333333, \"#9c179e\"], [0.4444444444444444, \"#bd3786\"], [0.5555555555555556, \"#d8576b\"], [0.6666666666666666, \"#ed7953\"], [0.7777777777777778, \"#fb9f3a\"], [0.8888888888888888, \"#fdca26\"], [1.0, \"#f0f921\"]], \"type\": \"heatmap\"}], \"heatmapgl\": [{\"colorbar\": {\"outlinewidth\": 0, \"ticks\": \"\"}, \"colorscale\": [[0.0, \"#0d0887\"], [0.1111111111111111, \"#46039f\"], [0.2222222222222222, \"#7201a8\"], [0.3333333333333333, \"#9c179e\"], [0.4444444444444444, \"#bd3786\"], [0.5555555555555556, \"#d8576b\"], [0.6666666666666666, \"#ed7953\"], [0.7777777777777778, \"#fb9f3a\"], [0.8888888888888888, \"#fdca26\"], [1.0, \"#f0f921\"]], \"type\": \"heatmapgl\"}], \"histogram\": [{\"marker\": {\"colorbar\": {\"outlinewidth\": 0, \"ticks\": \"\"}}, \"type\": \"histogram\"}], \"histogram2d\": [{\"colorbar\": {\"outlinewidth\": 0, \"ticks\": \"\"}, \"colorscale\": [[0.0, \"#0d0887\"], [0.1111111111111111, \"#46039f\"], [0.2222222222222222, \"#7201a8\"], [0.3333333333333333, \"#9c179e\"], [0.4444444444444444, \"#bd3786\"], [0.5555555555555556, \"#d8576b\"], [0.6666666666666666, \"#ed7953\"], [0.7777777777777778, \"#fb9f3a\"], [0.8888888888888888, \"#fdca26\"], [1.0, \"#f0f921\"]], \"type\": \"histogram2d\"}], \"histogram2dcontour\": [{\"colorbar\": {\"outlinewidth\": 0, \"ticks\": \"\"}, \"colorscale\": [[0.0, \"#0d0887\"], [0.1111111111111111, \"#46039f\"], [0.2222222222222222, \"#7201a8\"], [0.3333333333333333, \"#9c179e\"], [0.4444444444444444, \"#bd3786\"], [0.5555555555555556, \"#d8576b\"], [0.6666666666666666, \"#ed7953\"], [0.7777777777777778, \"#fb9f3a\"], [0.8888888888888888, \"#fdca26\"], [1.0, \"#f0f921\"]], \"type\": \"histogram2dcontour\"}], \"mesh3d\": [{\"colorbar\": {\"outlinewidth\": 0, \"ticks\": \"\"}, \"type\": \"mesh3d\"}], \"parcoords\": [{\"line\": {\"colorbar\": {\"outlinewidth\": 0, \"ticks\": \"\"}}, \"type\": \"parcoords\"}], \"pie\": [{\"automargin\": true, \"type\": \"pie\"}], \"scatter\": [{\"marker\": {\"colorbar\": {\"outlinewidth\": 0, \"ticks\": \"\"}}, \"type\": \"scatter\"}], \"scatter3d\": [{\"line\": {\"colorbar\": {\"outlinewidth\": 0, \"ticks\": \"\"}}, \"marker\": {\"colorbar\": {\"outlinewidth\": 0, \"ticks\": \"\"}}, \"type\": \"scatter3d\"}], \"scattercarpet\": [{\"marker\": {\"colorbar\": {\"outlinewidth\": 0, \"ticks\": \"\"}}, \"type\": \"scattercarpet\"}], \"scattergeo\": [{\"marker\": {\"colorbar\": {\"outlinewidth\": 0, \"ticks\": \"\"}}, \"type\": \"scattergeo\"}], \"scattergl\": [{\"marker\": {\"colorbar\": {\"outlinewidth\": 0, \"ticks\": \"\"}}, \"type\": \"scattergl\"}], \"scattermapbox\": [{\"marker\": {\"colorbar\": {\"outlinewidth\": 0, \"ticks\": \"\"}}, \"type\": \"scattermapbox\"}], \"scatterpolar\": [{\"marker\": {\"colorbar\": {\"outlinewidth\": 0, \"ticks\": \"\"}}, \"type\": \"scatterpolar\"}], \"scatterpolargl\": [{\"marker\": {\"colorbar\": {\"outlinewidth\": 0, \"ticks\": \"\"}}, \"type\": \"scatterpolargl\"}], \"scatterternary\": [{\"marker\": {\"colorbar\": {\"outlinewidth\": 0, \"ticks\": \"\"}}, \"type\": \"scatterternary\"}], \"surface\": [{\"colorbar\": {\"outlinewidth\": 0, \"ticks\": \"\"}, \"colorscale\": [[0.0, \"#0d0887\"], [0.1111111111111111, \"#46039f\"], [0.2222222222222222, \"#7201a8\"], [0.3333333333333333, \"#9c179e\"], [0.4444444444444444, \"#bd3786\"], [0.5555555555555556, \"#d8576b\"], [0.6666666666666666, \"#ed7953\"], [0.7777777777777778, \"#fb9f3a\"], [0.8888888888888888, \"#fdca26\"], [1.0, \"#f0f921\"]], \"type\": \"surface\"}], \"table\": [{\"cells\": {\"fill\": {\"color\": \"#EBF0F8\"}, \"line\": {\"color\": \"white\"}}, \"header\": {\"fill\": {\"color\": \"#C8D4E3\"}, \"line\": {\"color\": \"white\"}}, \"type\": \"table\"}]}, \"layout\": {\"annotationdefaults\": {\"arrowcolor\": \"#2a3f5f\", \"arrowhead\": 0, \"arrowwidth\": 1}, \"autotypenumbers\": \"strict\", \"coloraxis\": {\"colorbar\": {\"outlinewidth\": 0, \"ticks\": \"\"}}, \"colorscale\": {\"diverging\": [[0, \"#8e0152\"], [0.1, \"#c51b7d\"], [0.2, \"#de77ae\"], [0.3, \"#f1b6da\"], [0.4, \"#fde0ef\"], [0.5, \"#f7f7f7\"], [0.6, \"#e6f5d0\"], [0.7, \"#b8e186\"], [0.8, \"#7fbc41\"], [0.9, \"#4d9221\"], [1, \"#276419\"]], \"sequential\": [[0.0, \"#0d0887\"], [0.1111111111111111, \"#46039f\"], [0.2222222222222222, \"#7201a8\"], [0.3333333333333333, \"#9c179e\"], [0.4444444444444444, \"#bd3786\"], [0.5555555555555556, \"#d8576b\"], [0.6666666666666666, \"#ed7953\"], [0.7777777777777778, \"#fb9f3a\"], [0.8888888888888888, \"#fdca26\"], [1.0, \"#f0f921\"]], \"sequentialminus\": [[0.0, \"#0d0887\"], [0.1111111111111111, \"#46039f\"], [0.2222222222222222, \"#7201a8\"], [0.3333333333333333, \"#9c179e\"], [0.4444444444444444, \"#bd3786\"], [0.5555555555555556, \"#d8576b\"], [0.6666666666666666, \"#ed7953\"], [0.7777777777777778, \"#fb9f3a\"], [0.8888888888888888, \"#fdca26\"], [1.0, \"#f0f921\"]]}, \"colorway\": [\"#636efa\", \"#EF553B\", \"#00cc96\", \"#ab63fa\", \"#FFA15A\", \"#19d3f3\", \"#FF6692\", \"#B6E880\", \"#FF97FF\", \"#FECB52\"], \"font\": {\"color\": \"#2a3f5f\"}, \"geo\": {\"bgcolor\": \"white\", \"lakecolor\": \"white\", \"landcolor\": \"#E5ECF6\", \"showlakes\": true, \"showland\": true, \"subunitcolor\": \"white\"}, \"hoverlabel\": {\"align\": \"left\"}, \"hovermode\": \"closest\", \"mapbox\": {\"style\": \"light\"}, \"paper_bgcolor\": \"white\", \"plot_bgcolor\": \"#E5ECF6\", \"polar\": {\"angularaxis\": {\"gridcolor\": \"white\", \"linecolor\": \"white\", \"ticks\": \"\"}, \"bgcolor\": \"#E5ECF6\", \"radialaxis\": {\"gridcolor\": \"white\", \"linecolor\": \"white\", \"ticks\": \"\"}}, \"scene\": {\"xaxis\": {\"backgroundcolor\": \"#E5ECF6\", \"gridcolor\": \"white\", \"gridwidth\": 2, \"linecolor\": \"white\", \"showbackground\": true, \"ticks\": \"\", \"zerolinecolor\": \"white\"}, \"yaxis\": {\"backgroundcolor\": \"#E5ECF6\", \"gridcolor\": \"white\", \"gridwidth\": 2, \"linecolor\": \"white\", \"showbackground\": true, \"ticks\": \"\", \"zerolinecolor\": \"white\"}, \"zaxis\": {\"backgroundcolor\": \"#E5ECF6\", \"gridcolor\": \"white\", \"gridwidth\": 2, \"linecolor\": \"white\", \"showbackground\": true, \"ticks\": \"\", \"zerolinecolor\": \"white\"}}, \"shapedefaults\": {\"line\": {\"color\": \"#2a3f5f\"}}, \"ternary\": {\"aaxis\": {\"gridcolor\": \"white\", \"linecolor\": \"white\", \"ticks\": \"\"}, \"baxis\": {\"gridcolor\": \"white\", \"linecolor\": \"white\", \"ticks\": \"\"}, \"bgcolor\": \"#E5ECF6\", \"caxis\": {\"gridcolor\": \"white\", \"linecolor\": \"white\", \"ticks\": \"\"}}, \"title\": {\"x\": 0.05}, \"xaxis\": {\"automargin\": true, \"gridcolor\": \"white\", \"linecolor\": \"white\", \"ticks\": \"\", \"title\": {\"standoff\": 15}, \"zerolinecolor\": \"white\", \"zerolinewidth\": 2}, \"yaxis\": {\"automargin\": true, \"gridcolor\": \"white\", \"linecolor\": \"white\", \"ticks\": \"\", \"title\": {\"standoff\": 15}, \"zerolinecolor\": \"white\", \"zerolinewidth\": 2}}}},                        {\"responsive\": true}                    ).then(function(){\n",
       "                            \n",
       "var gd = document.getElementById('9441dfba-3896-4d18-9e44-8dff2f1646a3');\n",
       "var x = new MutationObserver(function (mutations, observer) {{\n",
       "        var display = window.getComputedStyle(gd).display;\n",
       "        if (!display || display === 'none') {{\n",
       "            console.log([gd, 'removed!']);\n",
       "            Plotly.purge(gd);\n",
       "            observer.disconnect();\n",
       "        }}\n",
       "}});\n",
       "\n",
       "// Listen for the removal of the full notebook cells\n",
       "var notebookContainer = gd.closest('#notebook-container');\n",
       "if (notebookContainer) {{\n",
       "    x.observe(notebookContainer, {childList: true});\n",
       "}}\n",
       "\n",
       "// Listen for the clearing of the current output cell\n",
       "var outputEl = gd.closest('.output');\n",
       "if (outputEl) {{\n",
       "    x.observe(outputEl, {childList: true});\n",
       "}}\n",
       "\n",
       "                        })                };                });            </script>        </div>"
      ]
     },
     "metadata": {},
     "output_type": "display_data"
    }
   ],
   "source": [
    "n1 = np.random.randn(1000)\n",
    "n2 = np.random.randn(1000) + 1\n",
    "\n",
    "fig = go.Figure()\n",
    "fig.add_trace(go.Histogram(x=n1, cumulative_enabled=True))\n",
    "fig.add_trace(go.Histogram(x=n2, cumulative_enabled=True))\n",
    "fig.update_layout(barmode='stack')\n",
    "fig.show()"
   ]
  },
  {
   "cell_type": "code",
   "execution_count": 44,
   "metadata": {
    "scrolled": true
   },
   "outputs": [
    {
     "data": {
      "application/vnd.plotly.v1+json": {
       "config": {
        "plotlyServerURL": "https://plot.ly"
       },
       "data": [
        {
         "alignmentgroup": "True",
         "hovertemplate": "day=%{x}<br>tip=%{y}<extra></extra>",
         "legendgroup": "",
         "marker": {
          "color": "#636efa"
         },
         "name": "",
         "offsetgroup": "",
         "orientation": "v",
         "showlegend": false,
         "textposition": "auto",
         "type": "bar",
         "x": [
          "Sun",
          "Sun",
          "Sun",
          "Sun",
          "Sun",
          "Sun",
          "Sun",
          "Sun",
          "Sun",
          "Sun",
          "Sun",
          "Sun",
          "Sun",
          "Sun",
          "Sun",
          "Sun",
          "Sun",
          "Sun",
          "Sun",
          "Sat",
          "Sat",
          "Sat",
          "Sat",
          "Sat",
          "Sat",
          "Sat",
          "Sat",
          "Sat",
          "Sat",
          "Sat",
          "Sat",
          "Sat",
          "Sat",
          "Sat",
          "Sat",
          "Sat",
          "Sat",
          "Sat",
          "Sat",
          "Sat",
          "Sat",
          "Sun",
          "Sun",
          "Sun",
          "Sun",
          "Sun",
          "Sun",
          "Sun",
          "Sun",
          "Sun",
          "Sun",
          "Sun",
          "Sun",
          "Sun",
          "Sun",
          "Sun",
          "Sat",
          "Sat",
          "Sat",
          "Sat",
          "Sat",
          "Sat",
          "Sat",
          "Sat",
          "Sat",
          "Sat",
          "Sat",
          "Sat",
          "Sat",
          "Sat",
          "Sat",
          "Sat",
          "Sat",
          "Sat",
          "Sat",
          "Sat",
          "Sat",
          "Thur",
          "Thur",
          "Thur",
          "Thur",
          "Thur",
          "Thur",
          "Thur",
          "Thur",
          "Thur",
          "Thur",
          "Thur",
          "Thur",
          "Thur",
          "Fri",
          "Fri",
          "Fri",
          "Fri",
          "Fri",
          "Fri",
          "Fri",
          "Fri",
          "Fri",
          "Fri",
          "Fri",
          "Fri",
          "Sat",
          "Sat",
          "Sat",
          "Sat",
          "Sat",
          "Sat",
          "Sat",
          "Sat",
          "Sat",
          "Sat",
          "Sun",
          "Sun",
          "Sun",
          "Sun",
          "Sun",
          "Thur",
          "Thur",
          "Thur",
          "Thur",
          "Thur",
          "Thur",
          "Thur",
          "Thur",
          "Thur",
          "Thur",
          "Thur",
          "Thur",
          "Thur",
          "Thur",
          "Thur",
          "Thur",
          "Thur",
          "Thur",
          "Thur",
          "Thur",
          "Thur",
          "Thur",
          "Thur",
          "Thur",
          "Thur",
          "Thur",
          "Thur",
          "Thur",
          "Thur",
          "Thur",
          "Thur",
          "Thur",
          "Thur",
          "Sun",
          "Sun",
          "Sun",
          "Sun",
          "Sun",
          "Sun",
          "Sun",
          "Sun",
          "Sun",
          "Sun",
          "Sun",
          "Sun",
          "Sun",
          "Sun",
          "Sun",
          "Sun",
          "Sun",
          "Sun",
          "Sat",
          "Sat",
          "Sat",
          "Sat",
          "Sun",
          "Sun",
          "Sun",
          "Sun",
          "Sun",
          "Sun",
          "Sun",
          "Sun",
          "Sun",
          "Sun",
          "Sun",
          "Sun",
          "Sun",
          "Sun",
          "Sun",
          "Sun",
          "Sun",
          "Sun",
          "Sun",
          "Thur",
          "Thur",
          "Thur",
          "Thur",
          "Thur",
          "Thur",
          "Thur",
          "Thur",
          "Thur",
          "Thur",
          "Thur",
          "Thur",
          "Thur",
          "Thur",
          "Thur",
          "Sat",
          "Sat",
          "Sat",
          "Sat",
          "Sat",
          "Sat",
          "Sat",
          "Sat",
          "Sat",
          "Sat",
          "Sat",
          "Sat",
          "Sat",
          "Sat",
          "Fri",
          "Fri",
          "Fri",
          "Fri",
          "Fri",
          "Fri",
          "Fri",
          "Sat",
          "Sat",
          "Sat",
          "Sat",
          "Sat",
          "Sat",
          "Sat",
          "Sat",
          "Sat",
          "Sat",
          "Sat",
          "Sat",
          "Sat",
          "Sat",
          "Sat",
          "Sat",
          "Thur"
         ],
         "xaxis": "x",
         "y": [
          1.01,
          1.66,
          3.5,
          3.31,
          3.61,
          4.71,
          2,
          3.12,
          1.96,
          3.23,
          1.71,
          5,
          1.57,
          3,
          3.02,
          3.92,
          1.67,
          3.71,
          3.5,
          3.35,
          4.08,
          2.75,
          2.23,
          7.58,
          3.18,
          2.34,
          2,
          2,
          4.3,
          3,
          1.45,
          2.5,
          3,
          2.45,
          3.27,
          3.6,
          2,
          3.07,
          2.31,
          5,
          2.24,
          2.54,
          3.06,
          1.32,
          5.6,
          3,
          5,
          6,
          2.05,
          3,
          2.5,
          2.6,
          5.2,
          1.56,
          4.34,
          3.51,
          3,
          1.5,
          1.76,
          6.73,
          3.21,
          2,
          1.98,
          3.76,
          2.64,
          3.15,
          2.47,
          1,
          2.01,
          2.09,
          1.97,
          3,
          3.14,
          5,
          2.2,
          1.25,
          3.08,
          4,
          3,
          2.71,
          3,
          3.4,
          1.83,
          5,
          2.03,
          5.17,
          2,
          4,
          5.85,
          3,
          3,
          3.5,
          1,
          4.3,
          3.25,
          4.73,
          4,
          1.5,
          3,
          1.5,
          2.5,
          3,
          2.5,
          3.48,
          4.08,
          1.64,
          4.06,
          4.29,
          3.76,
          4,
          3,
          1,
          4,
          2.55,
          4,
          3.5,
          5.07,
          1.5,
          1.8,
          2.92,
          2.31,
          1.68,
          2.5,
          2,
          2.52,
          4.2,
          1.48,
          2,
          2,
          2.18,
          1.5,
          2.83,
          1.5,
          2,
          3.25,
          1.25,
          2,
          2,
          2,
          2.75,
          3.5,
          6.7,
          5,
          5,
          2.3,
          1.5,
          1.36,
          1.63,
          1.73,
          2,
          2.5,
          2,
          2.74,
          2,
          2,
          5.14,
          5,
          3.75,
          2.61,
          2,
          3.5,
          2.5,
          2,
          2,
          3,
          3.48,
          2.24,
          4.5,
          1.61,
          2,
          10,
          3.16,
          5.15,
          3.18,
          4,
          3.11,
          2,
          2,
          4,
          3.55,
          3.68,
          5.65,
          3.5,
          6.5,
          3,
          5,
          3.5,
          2,
          3.5,
          4,
          1.5,
          4.19,
          2.56,
          2.02,
          4,
          1.44,
          2,
          5,
          2,
          2,
          4,
          2.01,
          2,
          2.5,
          4,
          3.23,
          3.41,
          3,
          2.03,
          2.23,
          2,
          5.16,
          9,
          2.5,
          6.5,
          1.1,
          3,
          1.5,
          1.44,
          3.09,
          2.2,
          3.48,
          1.92,
          3,
          1.58,
          2.5,
          2,
          3,
          2.72,
          2.88,
          2,
          3,
          3.39,
          1.47,
          3,
          1.25,
          1,
          1.17,
          4.67,
          5.92,
          2,
          2,
          1.75,
          3
         ],
         "yaxis": "y"
        }
       ],
       "layout": {
        "barmode": "relative",
        "height": 300,
        "legend": {
         "tracegroupgap": 0
        },
        "margin": {
         "t": 60
        },
        "template": {
         "data": {
          "bar": [
           {
            "error_x": {
             "color": "#2a3f5f"
            },
            "error_y": {
             "color": "#2a3f5f"
            },
            "marker": {
             "line": {
              "color": "#E5ECF6",
              "width": 0.5
             }
            },
            "type": "bar"
           }
          ],
          "barpolar": [
           {
            "marker": {
             "line": {
              "color": "#E5ECF6",
              "width": 0.5
             }
            },
            "type": "barpolar"
           }
          ],
          "carpet": [
           {
            "aaxis": {
             "endlinecolor": "#2a3f5f",
             "gridcolor": "white",
             "linecolor": "white",
             "minorgridcolor": "white",
             "startlinecolor": "#2a3f5f"
            },
            "baxis": {
             "endlinecolor": "#2a3f5f",
             "gridcolor": "white",
             "linecolor": "white",
             "minorgridcolor": "white",
             "startlinecolor": "#2a3f5f"
            },
            "type": "carpet"
           }
          ],
          "choropleth": [
           {
            "colorbar": {
             "outlinewidth": 0,
             "ticks": ""
            },
            "type": "choropleth"
           }
          ],
          "contour": [
           {
            "colorbar": {
             "outlinewidth": 0,
             "ticks": ""
            },
            "colorscale": [
             [
              0,
              "#0d0887"
             ],
             [
              0.1111111111111111,
              "#46039f"
             ],
             [
              0.2222222222222222,
              "#7201a8"
             ],
             [
              0.3333333333333333,
              "#9c179e"
             ],
             [
              0.4444444444444444,
              "#bd3786"
             ],
             [
              0.5555555555555556,
              "#d8576b"
             ],
             [
              0.6666666666666666,
              "#ed7953"
             ],
             [
              0.7777777777777778,
              "#fb9f3a"
             ],
             [
              0.8888888888888888,
              "#fdca26"
             ],
             [
              1,
              "#f0f921"
             ]
            ],
            "type": "contour"
           }
          ],
          "contourcarpet": [
           {
            "colorbar": {
             "outlinewidth": 0,
             "ticks": ""
            },
            "type": "contourcarpet"
           }
          ],
          "heatmap": [
           {
            "colorbar": {
             "outlinewidth": 0,
             "ticks": ""
            },
            "colorscale": [
             [
              0,
              "#0d0887"
             ],
             [
              0.1111111111111111,
              "#46039f"
             ],
             [
              0.2222222222222222,
              "#7201a8"
             ],
             [
              0.3333333333333333,
              "#9c179e"
             ],
             [
              0.4444444444444444,
              "#bd3786"
             ],
             [
              0.5555555555555556,
              "#d8576b"
             ],
             [
              0.6666666666666666,
              "#ed7953"
             ],
             [
              0.7777777777777778,
              "#fb9f3a"
             ],
             [
              0.8888888888888888,
              "#fdca26"
             ],
             [
              1,
              "#f0f921"
             ]
            ],
            "type": "heatmap"
           }
          ],
          "heatmapgl": [
           {
            "colorbar": {
             "outlinewidth": 0,
             "ticks": ""
            },
            "colorscale": [
             [
              0,
              "#0d0887"
             ],
             [
              0.1111111111111111,
              "#46039f"
             ],
             [
              0.2222222222222222,
              "#7201a8"
             ],
             [
              0.3333333333333333,
              "#9c179e"
             ],
             [
              0.4444444444444444,
              "#bd3786"
             ],
             [
              0.5555555555555556,
              "#d8576b"
             ],
             [
              0.6666666666666666,
              "#ed7953"
             ],
             [
              0.7777777777777778,
              "#fb9f3a"
             ],
             [
              0.8888888888888888,
              "#fdca26"
             ],
             [
              1,
              "#f0f921"
             ]
            ],
            "type": "heatmapgl"
           }
          ],
          "histogram": [
           {
            "marker": {
             "colorbar": {
              "outlinewidth": 0,
              "ticks": ""
             }
            },
            "type": "histogram"
           }
          ],
          "histogram2d": [
           {
            "colorbar": {
             "outlinewidth": 0,
             "ticks": ""
            },
            "colorscale": [
             [
              0,
              "#0d0887"
             ],
             [
              0.1111111111111111,
              "#46039f"
             ],
             [
              0.2222222222222222,
              "#7201a8"
             ],
             [
              0.3333333333333333,
              "#9c179e"
             ],
             [
              0.4444444444444444,
              "#bd3786"
             ],
             [
              0.5555555555555556,
              "#d8576b"
             ],
             [
              0.6666666666666666,
              "#ed7953"
             ],
             [
              0.7777777777777778,
              "#fb9f3a"
             ],
             [
              0.8888888888888888,
              "#fdca26"
             ],
             [
              1,
              "#f0f921"
             ]
            ],
            "type": "histogram2d"
           }
          ],
          "histogram2dcontour": [
           {
            "colorbar": {
             "outlinewidth": 0,
             "ticks": ""
            },
            "colorscale": [
             [
              0,
              "#0d0887"
             ],
             [
              0.1111111111111111,
              "#46039f"
             ],
             [
              0.2222222222222222,
              "#7201a8"
             ],
             [
              0.3333333333333333,
              "#9c179e"
             ],
             [
              0.4444444444444444,
              "#bd3786"
             ],
             [
              0.5555555555555556,
              "#d8576b"
             ],
             [
              0.6666666666666666,
              "#ed7953"
             ],
             [
              0.7777777777777778,
              "#fb9f3a"
             ],
             [
              0.8888888888888888,
              "#fdca26"
             ],
             [
              1,
              "#f0f921"
             ]
            ],
            "type": "histogram2dcontour"
           }
          ],
          "mesh3d": [
           {
            "colorbar": {
             "outlinewidth": 0,
             "ticks": ""
            },
            "type": "mesh3d"
           }
          ],
          "parcoords": [
           {
            "line": {
             "colorbar": {
              "outlinewidth": 0,
              "ticks": ""
             }
            },
            "type": "parcoords"
           }
          ],
          "pie": [
           {
            "automargin": true,
            "type": "pie"
           }
          ],
          "scatter": [
           {
            "marker": {
             "colorbar": {
              "outlinewidth": 0,
              "ticks": ""
             }
            },
            "type": "scatter"
           }
          ],
          "scatter3d": [
           {
            "line": {
             "colorbar": {
              "outlinewidth": 0,
              "ticks": ""
             }
            },
            "marker": {
             "colorbar": {
              "outlinewidth": 0,
              "ticks": ""
             }
            },
            "type": "scatter3d"
           }
          ],
          "scattercarpet": [
           {
            "marker": {
             "colorbar": {
              "outlinewidth": 0,
              "ticks": ""
             }
            },
            "type": "scattercarpet"
           }
          ],
          "scattergeo": [
           {
            "marker": {
             "colorbar": {
              "outlinewidth": 0,
              "ticks": ""
             }
            },
            "type": "scattergeo"
           }
          ],
          "scattergl": [
           {
            "marker": {
             "colorbar": {
              "outlinewidth": 0,
              "ticks": ""
             }
            },
            "type": "scattergl"
           }
          ],
          "scattermapbox": [
           {
            "marker": {
             "colorbar": {
              "outlinewidth": 0,
              "ticks": ""
             }
            },
            "type": "scattermapbox"
           }
          ],
          "scatterpolar": [
           {
            "marker": {
             "colorbar": {
              "outlinewidth": 0,
              "ticks": ""
             }
            },
            "type": "scatterpolar"
           }
          ],
          "scatterpolargl": [
           {
            "marker": {
             "colorbar": {
              "outlinewidth": 0,
              "ticks": ""
             }
            },
            "type": "scatterpolargl"
           }
          ],
          "scatterternary": [
           {
            "marker": {
             "colorbar": {
              "outlinewidth": 0,
              "ticks": ""
             }
            },
            "type": "scatterternary"
           }
          ],
          "surface": [
           {
            "colorbar": {
             "outlinewidth": 0,
             "ticks": ""
            },
            "colorscale": [
             [
              0,
              "#0d0887"
             ],
             [
              0.1111111111111111,
              "#46039f"
             ],
             [
              0.2222222222222222,
              "#7201a8"
             ],
             [
              0.3333333333333333,
              "#9c179e"
             ],
             [
              0.4444444444444444,
              "#bd3786"
             ],
             [
              0.5555555555555556,
              "#d8576b"
             ],
             [
              0.6666666666666666,
              "#ed7953"
             ],
             [
              0.7777777777777778,
              "#fb9f3a"
             ],
             [
              0.8888888888888888,
              "#fdca26"
             ],
             [
              1,
              "#f0f921"
             ]
            ],
            "type": "surface"
           }
          ],
          "table": [
           {
            "cells": {
             "fill": {
              "color": "#EBF0F8"
             },
             "line": {
              "color": "white"
             }
            },
            "header": {
             "fill": {
              "color": "#C8D4E3"
             },
             "line": {
              "color": "white"
             }
            },
            "type": "table"
           }
          ]
         },
         "layout": {
          "annotationdefaults": {
           "arrowcolor": "#2a3f5f",
           "arrowhead": 0,
           "arrowwidth": 1
          },
          "autotypenumbers": "strict",
          "coloraxis": {
           "colorbar": {
            "outlinewidth": 0,
            "ticks": ""
           }
          },
          "colorscale": {
           "diverging": [
            [
             0,
             "#8e0152"
            ],
            [
             0.1,
             "#c51b7d"
            ],
            [
             0.2,
             "#de77ae"
            ],
            [
             0.3,
             "#f1b6da"
            ],
            [
             0.4,
             "#fde0ef"
            ],
            [
             0.5,
             "#f7f7f7"
            ],
            [
             0.6,
             "#e6f5d0"
            ],
            [
             0.7,
             "#b8e186"
            ],
            [
             0.8,
             "#7fbc41"
            ],
            [
             0.9,
             "#4d9221"
            ],
            [
             1,
             "#276419"
            ]
           ],
           "sequential": [
            [
             0,
             "#0d0887"
            ],
            [
             0.1111111111111111,
             "#46039f"
            ],
            [
             0.2222222222222222,
             "#7201a8"
            ],
            [
             0.3333333333333333,
             "#9c179e"
            ],
            [
             0.4444444444444444,
             "#bd3786"
            ],
            [
             0.5555555555555556,
             "#d8576b"
            ],
            [
             0.6666666666666666,
             "#ed7953"
            ],
            [
             0.7777777777777778,
             "#fb9f3a"
            ],
            [
             0.8888888888888888,
             "#fdca26"
            ],
            [
             1,
             "#f0f921"
            ]
           ],
           "sequentialminus": [
            [
             0,
             "#0d0887"
            ],
            [
             0.1111111111111111,
             "#46039f"
            ],
            [
             0.2222222222222222,
             "#7201a8"
            ],
            [
             0.3333333333333333,
             "#9c179e"
            ],
            [
             0.4444444444444444,
             "#bd3786"
            ],
            [
             0.5555555555555556,
             "#d8576b"
            ],
            [
             0.6666666666666666,
             "#ed7953"
            ],
            [
             0.7777777777777778,
             "#fb9f3a"
            ],
            [
             0.8888888888888888,
             "#fdca26"
            ],
            [
             1,
             "#f0f921"
            ]
           ]
          },
          "colorway": [
           "#636efa",
           "#EF553B",
           "#00cc96",
           "#ab63fa",
           "#FFA15A",
           "#19d3f3",
           "#FF6692",
           "#B6E880",
           "#FF97FF",
           "#FECB52"
          ],
          "font": {
           "color": "#2a3f5f"
          },
          "geo": {
           "bgcolor": "white",
           "lakecolor": "white",
           "landcolor": "#E5ECF6",
           "showlakes": true,
           "showland": true,
           "subunitcolor": "white"
          },
          "hoverlabel": {
           "align": "left"
          },
          "hovermode": "closest",
          "mapbox": {
           "style": "light"
          },
          "paper_bgcolor": "white",
          "plot_bgcolor": "#E5ECF6",
          "polar": {
           "angularaxis": {
            "gridcolor": "white",
            "linecolor": "white",
            "ticks": ""
           },
           "bgcolor": "#E5ECF6",
           "radialaxis": {
            "gridcolor": "white",
            "linecolor": "white",
            "ticks": ""
           }
          },
          "scene": {
           "xaxis": {
            "backgroundcolor": "#E5ECF6",
            "gridcolor": "white",
            "gridwidth": 2,
            "linecolor": "white",
            "showbackground": true,
            "ticks": "",
            "zerolinecolor": "white"
           },
           "yaxis": {
            "backgroundcolor": "#E5ECF6",
            "gridcolor": "white",
            "gridwidth": 2,
            "linecolor": "white",
            "showbackground": true,
            "ticks": "",
            "zerolinecolor": "white"
           },
           "zaxis": {
            "backgroundcolor": "#E5ECF6",
            "gridcolor": "white",
            "gridwidth": 2,
            "linecolor": "white",
            "showbackground": true,
            "ticks": "",
            "zerolinecolor": "white"
           }
          },
          "shapedefaults": {
           "line": {
            "color": "#2a3f5f"
           }
          },
          "ternary": {
           "aaxis": {
            "gridcolor": "white",
            "linecolor": "white",
            "ticks": ""
           },
           "baxis": {
            "gridcolor": "white",
            "linecolor": "white",
            "ticks": ""
           },
           "bgcolor": "#E5ECF6",
           "caxis": {
            "gridcolor": "white",
            "linecolor": "white",
            "ticks": ""
           }
          },
          "title": {
           "x": 0.05
          },
          "xaxis": {
           "automargin": true,
           "gridcolor": "white",
           "linecolor": "white",
           "ticks": "",
           "title": {
            "standoff": 15
           },
           "zerolinecolor": "white",
           "zerolinewidth": 2
          },
          "yaxis": {
           "automargin": true,
           "gridcolor": "white",
           "linecolor": "white",
           "ticks": "",
           "title": {
            "standoff": 15
           },
           "zerolinecolor": "white",
           "zerolinewidth": 2
          }
         }
        },
        "xaxis": {
         "anchor": "y",
         "domain": [
          0,
          1
         ],
         "title": {
          "text": "day"
         }
        },
        "yaxis": {
         "anchor": "x",
         "domain": [
          0,
          1
         ],
         "title": {
          "text": "tip"
         }
        }
       }
      },
      "text/html": [
       "<div>                            <div id=\"f2b35403-78fa-4ce3-b844-6b5ae0c7b1b3\" class=\"plotly-graph-div\" style=\"height:300px; width:100%;\"></div>            <script type=\"text/javascript\">                require([\"plotly\"], function(Plotly) {                    window.PLOTLYENV=window.PLOTLYENV || {};                                    if (document.getElementById(\"f2b35403-78fa-4ce3-b844-6b5ae0c7b1b3\")) {                    Plotly.newPlot(                        \"f2b35403-78fa-4ce3-b844-6b5ae0c7b1b3\",                        [{\"alignmentgroup\": \"True\", \"hovertemplate\": \"day=%{x}<br>tip=%{y}<extra></extra>\", \"legendgroup\": \"\", \"marker\": {\"color\": \"#636efa\"}, \"name\": \"\", \"offsetgroup\": \"\", \"orientation\": \"v\", \"showlegend\": false, \"textposition\": \"auto\", \"type\": \"bar\", \"x\": [\"Sun\", \"Sun\", \"Sun\", \"Sun\", \"Sun\", \"Sun\", \"Sun\", \"Sun\", \"Sun\", \"Sun\", \"Sun\", \"Sun\", \"Sun\", \"Sun\", \"Sun\", \"Sun\", \"Sun\", \"Sun\", \"Sun\", \"Sat\", \"Sat\", \"Sat\", \"Sat\", \"Sat\", \"Sat\", \"Sat\", \"Sat\", \"Sat\", \"Sat\", \"Sat\", \"Sat\", \"Sat\", \"Sat\", \"Sat\", \"Sat\", \"Sat\", \"Sat\", \"Sat\", \"Sat\", \"Sat\", \"Sat\", \"Sun\", \"Sun\", \"Sun\", \"Sun\", \"Sun\", \"Sun\", \"Sun\", \"Sun\", \"Sun\", \"Sun\", \"Sun\", \"Sun\", \"Sun\", \"Sun\", \"Sun\", \"Sat\", \"Sat\", \"Sat\", \"Sat\", \"Sat\", \"Sat\", \"Sat\", \"Sat\", \"Sat\", \"Sat\", \"Sat\", \"Sat\", \"Sat\", \"Sat\", \"Sat\", \"Sat\", \"Sat\", \"Sat\", \"Sat\", \"Sat\", \"Sat\", \"Thur\", \"Thur\", \"Thur\", \"Thur\", \"Thur\", \"Thur\", \"Thur\", \"Thur\", \"Thur\", \"Thur\", \"Thur\", \"Thur\", \"Thur\", \"Fri\", \"Fri\", \"Fri\", \"Fri\", \"Fri\", \"Fri\", \"Fri\", \"Fri\", \"Fri\", \"Fri\", \"Fri\", \"Fri\", \"Sat\", \"Sat\", \"Sat\", \"Sat\", \"Sat\", \"Sat\", \"Sat\", \"Sat\", \"Sat\", \"Sat\", \"Sun\", \"Sun\", \"Sun\", \"Sun\", \"Sun\", \"Thur\", \"Thur\", \"Thur\", \"Thur\", \"Thur\", \"Thur\", \"Thur\", \"Thur\", \"Thur\", \"Thur\", \"Thur\", \"Thur\", \"Thur\", \"Thur\", \"Thur\", \"Thur\", \"Thur\", \"Thur\", \"Thur\", \"Thur\", \"Thur\", \"Thur\", \"Thur\", \"Thur\", \"Thur\", \"Thur\", \"Thur\", \"Thur\", \"Thur\", \"Thur\", \"Thur\", \"Thur\", \"Thur\", \"Sun\", \"Sun\", \"Sun\", \"Sun\", \"Sun\", \"Sun\", \"Sun\", \"Sun\", \"Sun\", \"Sun\", \"Sun\", \"Sun\", \"Sun\", \"Sun\", \"Sun\", \"Sun\", \"Sun\", \"Sun\", \"Sat\", \"Sat\", \"Sat\", \"Sat\", \"Sun\", \"Sun\", \"Sun\", \"Sun\", \"Sun\", \"Sun\", \"Sun\", \"Sun\", \"Sun\", \"Sun\", \"Sun\", \"Sun\", \"Sun\", \"Sun\", \"Sun\", \"Sun\", \"Sun\", \"Sun\", \"Sun\", \"Thur\", \"Thur\", \"Thur\", \"Thur\", \"Thur\", \"Thur\", \"Thur\", \"Thur\", \"Thur\", \"Thur\", \"Thur\", \"Thur\", \"Thur\", \"Thur\", \"Thur\", \"Sat\", \"Sat\", \"Sat\", \"Sat\", \"Sat\", \"Sat\", \"Sat\", \"Sat\", \"Sat\", \"Sat\", \"Sat\", \"Sat\", \"Sat\", \"Sat\", \"Fri\", \"Fri\", \"Fri\", \"Fri\", \"Fri\", \"Fri\", \"Fri\", \"Sat\", \"Sat\", \"Sat\", \"Sat\", \"Sat\", \"Sat\", \"Sat\", \"Sat\", \"Sat\", \"Sat\", \"Sat\", \"Sat\", \"Sat\", \"Sat\", \"Sat\", \"Sat\", \"Thur\"], \"xaxis\": \"x\", \"y\": [1.01, 1.66, 3.5, 3.31, 3.61, 4.71, 2.0, 3.12, 1.96, 3.23, 1.71, 5.0, 1.57, 3.0, 3.02, 3.92, 1.67, 3.71, 3.5, 3.35, 4.08, 2.75, 2.23, 7.58, 3.18, 2.34, 2.0, 2.0, 4.3, 3.0, 1.45, 2.5, 3.0, 2.45, 3.27, 3.6, 2.0, 3.07, 2.31, 5.0, 2.24, 2.54, 3.06, 1.32, 5.6, 3.0, 5.0, 6.0, 2.05, 3.0, 2.5, 2.6, 5.2, 1.56, 4.34, 3.51, 3.0, 1.5, 1.76, 6.73, 3.21, 2.0, 1.98, 3.76, 2.64, 3.15, 2.47, 1.0, 2.01, 2.09, 1.97, 3.0, 3.14, 5.0, 2.2, 1.25, 3.08, 4.0, 3.0, 2.71, 3.0, 3.4, 1.83, 5.0, 2.03, 5.17, 2.0, 4.0, 5.85, 3.0, 3.0, 3.5, 1.0, 4.3, 3.25, 4.73, 4.0, 1.5, 3.0, 1.5, 2.5, 3.0, 2.5, 3.48, 4.08, 1.64, 4.06, 4.29, 3.76, 4.0, 3.0, 1.0, 4.0, 2.55, 4.0, 3.5, 5.07, 1.5, 1.8, 2.92, 2.31, 1.68, 2.5, 2.0, 2.52, 4.2, 1.48, 2.0, 2.0, 2.18, 1.5, 2.83, 1.5, 2.0, 3.25, 1.25, 2.0, 2.0, 2.0, 2.75, 3.5, 6.7, 5.0, 5.0, 2.3, 1.5, 1.36, 1.63, 1.73, 2.0, 2.5, 2.0, 2.74, 2.0, 2.0, 5.14, 5.0, 3.75, 2.61, 2.0, 3.5, 2.5, 2.0, 2.0, 3.0, 3.48, 2.24, 4.5, 1.61, 2.0, 10.0, 3.16, 5.15, 3.18, 4.0, 3.11, 2.0, 2.0, 4.0, 3.55, 3.68, 5.65, 3.5, 6.5, 3.0, 5.0, 3.5, 2.0, 3.5, 4.0, 1.5, 4.19, 2.56, 2.02, 4.0, 1.44, 2.0, 5.0, 2.0, 2.0, 4.0, 2.01, 2.0, 2.5, 4.0, 3.23, 3.41, 3.0, 2.03, 2.23, 2.0, 5.16, 9.0, 2.5, 6.5, 1.1, 3.0, 1.5, 1.44, 3.09, 2.2, 3.48, 1.92, 3.0, 1.58, 2.5, 2.0, 3.0, 2.72, 2.88, 2.0, 3.0, 3.39, 1.47, 3.0, 1.25, 1.0, 1.17, 4.67, 5.92, 2.0, 2.0, 1.75, 3.0], \"yaxis\": \"y\"}],                        {\"barmode\": \"relative\", \"height\": 300, \"legend\": {\"tracegroupgap\": 0}, \"margin\": {\"t\": 60}, \"template\": {\"data\": {\"bar\": [{\"error_x\": {\"color\": \"#2a3f5f\"}, \"error_y\": {\"color\": \"#2a3f5f\"}, \"marker\": {\"line\": {\"color\": \"#E5ECF6\", \"width\": 0.5}}, \"type\": \"bar\"}], \"barpolar\": [{\"marker\": {\"line\": {\"color\": \"#E5ECF6\", \"width\": 0.5}}, \"type\": \"barpolar\"}], \"carpet\": [{\"aaxis\": {\"endlinecolor\": \"#2a3f5f\", \"gridcolor\": \"white\", \"linecolor\": \"white\", \"minorgridcolor\": \"white\", \"startlinecolor\": \"#2a3f5f\"}, \"baxis\": {\"endlinecolor\": \"#2a3f5f\", \"gridcolor\": \"white\", \"linecolor\": \"white\", \"minorgridcolor\": \"white\", \"startlinecolor\": \"#2a3f5f\"}, \"type\": \"carpet\"}], \"choropleth\": [{\"colorbar\": {\"outlinewidth\": 0, \"ticks\": \"\"}, \"type\": \"choropleth\"}], \"contour\": [{\"colorbar\": {\"outlinewidth\": 0, \"ticks\": \"\"}, \"colorscale\": [[0.0, \"#0d0887\"], [0.1111111111111111, \"#46039f\"], [0.2222222222222222, \"#7201a8\"], [0.3333333333333333, \"#9c179e\"], [0.4444444444444444, \"#bd3786\"], [0.5555555555555556, \"#d8576b\"], [0.6666666666666666, \"#ed7953\"], [0.7777777777777778, \"#fb9f3a\"], [0.8888888888888888, \"#fdca26\"], [1.0, \"#f0f921\"]], \"type\": \"contour\"}], \"contourcarpet\": [{\"colorbar\": {\"outlinewidth\": 0, \"ticks\": \"\"}, \"type\": \"contourcarpet\"}], \"heatmap\": [{\"colorbar\": {\"outlinewidth\": 0, \"ticks\": \"\"}, \"colorscale\": [[0.0, \"#0d0887\"], [0.1111111111111111, \"#46039f\"], [0.2222222222222222, \"#7201a8\"], [0.3333333333333333, \"#9c179e\"], [0.4444444444444444, \"#bd3786\"], [0.5555555555555556, \"#d8576b\"], [0.6666666666666666, \"#ed7953\"], [0.7777777777777778, \"#fb9f3a\"], [0.8888888888888888, \"#fdca26\"], [1.0, \"#f0f921\"]], \"type\": \"heatmap\"}], \"heatmapgl\": [{\"colorbar\": {\"outlinewidth\": 0, \"ticks\": \"\"}, \"colorscale\": [[0.0, \"#0d0887\"], [0.1111111111111111, \"#46039f\"], [0.2222222222222222, \"#7201a8\"], [0.3333333333333333, \"#9c179e\"], [0.4444444444444444, \"#bd3786\"], [0.5555555555555556, \"#d8576b\"], [0.6666666666666666, \"#ed7953\"], [0.7777777777777778, \"#fb9f3a\"], [0.8888888888888888, \"#fdca26\"], [1.0, \"#f0f921\"]], \"type\": \"heatmapgl\"}], \"histogram\": [{\"marker\": {\"colorbar\": {\"outlinewidth\": 0, \"ticks\": \"\"}}, \"type\": \"histogram\"}], \"histogram2d\": [{\"colorbar\": {\"outlinewidth\": 0, \"ticks\": \"\"}, \"colorscale\": [[0.0, \"#0d0887\"], [0.1111111111111111, \"#46039f\"], [0.2222222222222222, \"#7201a8\"], [0.3333333333333333, \"#9c179e\"], [0.4444444444444444, \"#bd3786\"], [0.5555555555555556, \"#d8576b\"], [0.6666666666666666, \"#ed7953\"], [0.7777777777777778, \"#fb9f3a\"], [0.8888888888888888, \"#fdca26\"], [1.0, \"#f0f921\"]], \"type\": \"histogram2d\"}], \"histogram2dcontour\": [{\"colorbar\": {\"outlinewidth\": 0, \"ticks\": \"\"}, \"colorscale\": [[0.0, \"#0d0887\"], [0.1111111111111111, \"#46039f\"], [0.2222222222222222, \"#7201a8\"], [0.3333333333333333, \"#9c179e\"], [0.4444444444444444, \"#bd3786\"], [0.5555555555555556, \"#d8576b\"], [0.6666666666666666, \"#ed7953\"], [0.7777777777777778, \"#fb9f3a\"], [0.8888888888888888, \"#fdca26\"], [1.0, \"#f0f921\"]], \"type\": \"histogram2dcontour\"}], \"mesh3d\": [{\"colorbar\": {\"outlinewidth\": 0, \"ticks\": \"\"}, \"type\": \"mesh3d\"}], \"parcoords\": [{\"line\": {\"colorbar\": {\"outlinewidth\": 0, \"ticks\": \"\"}}, \"type\": \"parcoords\"}], \"pie\": [{\"automargin\": true, \"type\": \"pie\"}], \"scatter\": [{\"marker\": {\"colorbar\": {\"outlinewidth\": 0, \"ticks\": \"\"}}, \"type\": \"scatter\"}], \"scatter3d\": [{\"line\": {\"colorbar\": {\"outlinewidth\": 0, \"ticks\": \"\"}}, \"marker\": {\"colorbar\": {\"outlinewidth\": 0, \"ticks\": \"\"}}, \"type\": \"scatter3d\"}], \"scattercarpet\": [{\"marker\": {\"colorbar\": {\"outlinewidth\": 0, \"ticks\": \"\"}}, \"type\": \"scattercarpet\"}], \"scattergeo\": [{\"marker\": {\"colorbar\": {\"outlinewidth\": 0, \"ticks\": \"\"}}, \"type\": \"scattergeo\"}], \"scattergl\": [{\"marker\": {\"colorbar\": {\"outlinewidth\": 0, \"ticks\": \"\"}}, \"type\": \"scattergl\"}], \"scattermapbox\": [{\"marker\": {\"colorbar\": {\"outlinewidth\": 0, \"ticks\": \"\"}}, \"type\": \"scattermapbox\"}], \"scatterpolar\": [{\"marker\": {\"colorbar\": {\"outlinewidth\": 0, \"ticks\": \"\"}}, \"type\": \"scatterpolar\"}], \"scatterpolargl\": [{\"marker\": {\"colorbar\": {\"outlinewidth\": 0, \"ticks\": \"\"}}, \"type\": \"scatterpolargl\"}], \"scatterternary\": [{\"marker\": {\"colorbar\": {\"outlinewidth\": 0, \"ticks\": \"\"}}, \"type\": \"scatterternary\"}], \"surface\": [{\"colorbar\": {\"outlinewidth\": 0, \"ticks\": \"\"}, \"colorscale\": [[0.0, \"#0d0887\"], [0.1111111111111111, \"#46039f\"], [0.2222222222222222, \"#7201a8\"], [0.3333333333333333, \"#9c179e\"], [0.4444444444444444, \"#bd3786\"], [0.5555555555555556, \"#d8576b\"], [0.6666666666666666, \"#ed7953\"], [0.7777777777777778, \"#fb9f3a\"], [0.8888888888888888, \"#fdca26\"], [1.0, \"#f0f921\"]], \"type\": \"surface\"}], \"table\": [{\"cells\": {\"fill\": {\"color\": \"#EBF0F8\"}, \"line\": {\"color\": \"white\"}}, \"header\": {\"fill\": {\"color\": \"#C8D4E3\"}, \"line\": {\"color\": \"white\"}}, \"type\": \"table\"}]}, \"layout\": {\"annotationdefaults\": {\"arrowcolor\": \"#2a3f5f\", \"arrowhead\": 0, \"arrowwidth\": 1}, \"autotypenumbers\": \"strict\", \"coloraxis\": {\"colorbar\": {\"outlinewidth\": 0, \"ticks\": \"\"}}, \"colorscale\": {\"diverging\": [[0, \"#8e0152\"], [0.1, \"#c51b7d\"], [0.2, \"#de77ae\"], [0.3, \"#f1b6da\"], [0.4, \"#fde0ef\"], [0.5, \"#f7f7f7\"], [0.6, \"#e6f5d0\"], [0.7, \"#b8e186\"], [0.8, \"#7fbc41\"], [0.9, \"#4d9221\"], [1, \"#276419\"]], \"sequential\": [[0.0, \"#0d0887\"], [0.1111111111111111, \"#46039f\"], [0.2222222222222222, \"#7201a8\"], [0.3333333333333333, \"#9c179e\"], [0.4444444444444444, \"#bd3786\"], [0.5555555555555556, \"#d8576b\"], [0.6666666666666666, \"#ed7953\"], [0.7777777777777778, \"#fb9f3a\"], [0.8888888888888888, \"#fdca26\"], [1.0, \"#f0f921\"]], \"sequentialminus\": [[0.0, \"#0d0887\"], [0.1111111111111111, \"#46039f\"], [0.2222222222222222, \"#7201a8\"], [0.3333333333333333, \"#9c179e\"], [0.4444444444444444, \"#bd3786\"], [0.5555555555555556, \"#d8576b\"], [0.6666666666666666, \"#ed7953\"], [0.7777777777777778, \"#fb9f3a\"], [0.8888888888888888, \"#fdca26\"], [1.0, \"#f0f921\"]]}, \"colorway\": [\"#636efa\", \"#EF553B\", \"#00cc96\", \"#ab63fa\", \"#FFA15A\", \"#19d3f3\", \"#FF6692\", \"#B6E880\", \"#FF97FF\", \"#FECB52\"], \"font\": {\"color\": \"#2a3f5f\"}, \"geo\": {\"bgcolor\": \"white\", \"lakecolor\": \"white\", \"landcolor\": \"#E5ECF6\", \"showlakes\": true, \"showland\": true, \"subunitcolor\": \"white\"}, \"hoverlabel\": {\"align\": \"left\"}, \"hovermode\": \"closest\", \"mapbox\": {\"style\": \"light\"}, \"paper_bgcolor\": \"white\", \"plot_bgcolor\": \"#E5ECF6\", \"polar\": {\"angularaxis\": {\"gridcolor\": \"white\", \"linecolor\": \"white\", \"ticks\": \"\"}, \"bgcolor\": \"#E5ECF6\", \"radialaxis\": {\"gridcolor\": \"white\", \"linecolor\": \"white\", \"ticks\": \"\"}}, \"scene\": {\"xaxis\": {\"backgroundcolor\": \"#E5ECF6\", \"gridcolor\": \"white\", \"gridwidth\": 2, \"linecolor\": \"white\", \"showbackground\": true, \"ticks\": \"\", \"zerolinecolor\": \"white\"}, \"yaxis\": {\"backgroundcolor\": \"#E5ECF6\", \"gridcolor\": \"white\", \"gridwidth\": 2, \"linecolor\": \"white\", \"showbackground\": true, \"ticks\": \"\", \"zerolinecolor\": \"white\"}, \"zaxis\": {\"backgroundcolor\": \"#E5ECF6\", \"gridcolor\": \"white\", \"gridwidth\": 2, \"linecolor\": \"white\", \"showbackground\": true, \"ticks\": \"\", \"zerolinecolor\": \"white\"}}, \"shapedefaults\": {\"line\": {\"color\": \"#2a3f5f\"}}, \"ternary\": {\"aaxis\": {\"gridcolor\": \"white\", \"linecolor\": \"white\", \"ticks\": \"\"}, \"baxis\": {\"gridcolor\": \"white\", \"linecolor\": \"white\", \"ticks\": \"\"}, \"bgcolor\": \"#E5ECF6\", \"caxis\": {\"gridcolor\": \"white\", \"linecolor\": \"white\", \"ticks\": \"\"}}, \"title\": {\"x\": 0.05}, \"xaxis\": {\"automargin\": true, \"gridcolor\": \"white\", \"linecolor\": \"white\", \"ticks\": \"\", \"title\": {\"standoff\": 15}, \"zerolinecolor\": \"white\", \"zerolinewidth\": 2}, \"yaxis\": {\"automargin\": true, \"gridcolor\": \"white\", \"linecolor\": \"white\", \"ticks\": \"\", \"title\": {\"standoff\": 15}, \"zerolinecolor\": \"white\", \"zerolinewidth\": 2}}}, \"xaxis\": {\"anchor\": \"y\", \"domain\": [0.0, 1.0], \"title\": {\"text\": \"day\"}}, \"yaxis\": {\"anchor\": \"x\", \"domain\": [0.0, 1.0], \"title\": {\"text\": \"tip\"}}},                        {\"responsive\": true}                    ).then(function(){\n",
       "                            \n",
       "var gd = document.getElementById('f2b35403-78fa-4ce3-b844-6b5ae0c7b1b3');\n",
       "var x = new MutationObserver(function (mutations, observer) {{\n",
       "        var display = window.getComputedStyle(gd).display;\n",
       "        if (!display || display === 'none') {{\n",
       "            console.log([gd, 'removed!']);\n",
       "            Plotly.purge(gd);\n",
       "            observer.disconnect();\n",
       "        }}\n",
       "}});\n",
       "\n",
       "// Listen for the removal of the full notebook cells\n",
       "var notebookContainer = gd.closest('#notebook-container');\n",
       "if (notebookContainer) {{\n",
       "    x.observe(notebookContainer, {childList: true});\n",
       "}}\n",
       "\n",
       "// Listen for the clearing of the current output cell\n",
       "var outputEl = gd.closest('.output');\n",
       "if (outputEl) {{\n",
       "    x.observe(outputEl, {childList: true});\n",
       "}}\n",
       "\n",
       "                        })                };                });            </script>        </div>"
      ]
     },
     "metadata": {},
     "output_type": "display_data"
    },
    {
     "data": {
      "application/vnd.plotly.v1+json": {
       "config": {
        "plotlyServerURL": "https://plot.ly"
       },
       "data": [
        {
         "alignmentgroup": "True",
         "bingroup": "x",
         "histfunc": "sum",
         "hovertemplate": "day=%{x}<br>sum of tip=%{y}<extra></extra>",
         "legendgroup": "",
         "marker": {
          "color": "#636efa"
         },
         "name": "",
         "offsetgroup": "",
         "orientation": "v",
         "showlegend": false,
         "type": "histogram",
         "x": [
          "Sun",
          "Sun",
          "Sun",
          "Sun",
          "Sun",
          "Sun",
          "Sun",
          "Sun",
          "Sun",
          "Sun",
          "Sun",
          "Sun",
          "Sun",
          "Sun",
          "Sun",
          "Sun",
          "Sun",
          "Sun",
          "Sun",
          "Sat",
          "Sat",
          "Sat",
          "Sat",
          "Sat",
          "Sat",
          "Sat",
          "Sat",
          "Sat",
          "Sat",
          "Sat",
          "Sat",
          "Sat",
          "Sat",
          "Sat",
          "Sat",
          "Sat",
          "Sat",
          "Sat",
          "Sat",
          "Sat",
          "Sat",
          "Sun",
          "Sun",
          "Sun",
          "Sun",
          "Sun",
          "Sun",
          "Sun",
          "Sun",
          "Sun",
          "Sun",
          "Sun",
          "Sun",
          "Sun",
          "Sun",
          "Sun",
          "Sat",
          "Sat",
          "Sat",
          "Sat",
          "Sat",
          "Sat",
          "Sat",
          "Sat",
          "Sat",
          "Sat",
          "Sat",
          "Sat",
          "Sat",
          "Sat",
          "Sat",
          "Sat",
          "Sat",
          "Sat",
          "Sat",
          "Sat",
          "Sat",
          "Thur",
          "Thur",
          "Thur",
          "Thur",
          "Thur",
          "Thur",
          "Thur",
          "Thur",
          "Thur",
          "Thur",
          "Thur",
          "Thur",
          "Thur",
          "Fri",
          "Fri",
          "Fri",
          "Fri",
          "Fri",
          "Fri",
          "Fri",
          "Fri",
          "Fri",
          "Fri",
          "Fri",
          "Fri",
          "Sat",
          "Sat",
          "Sat",
          "Sat",
          "Sat",
          "Sat",
          "Sat",
          "Sat",
          "Sat",
          "Sat",
          "Sun",
          "Sun",
          "Sun",
          "Sun",
          "Sun",
          "Thur",
          "Thur",
          "Thur",
          "Thur",
          "Thur",
          "Thur",
          "Thur",
          "Thur",
          "Thur",
          "Thur",
          "Thur",
          "Thur",
          "Thur",
          "Thur",
          "Thur",
          "Thur",
          "Thur",
          "Thur",
          "Thur",
          "Thur",
          "Thur",
          "Thur",
          "Thur",
          "Thur",
          "Thur",
          "Thur",
          "Thur",
          "Thur",
          "Thur",
          "Thur",
          "Thur",
          "Thur",
          "Thur",
          "Sun",
          "Sun",
          "Sun",
          "Sun",
          "Sun",
          "Sun",
          "Sun",
          "Sun",
          "Sun",
          "Sun",
          "Sun",
          "Sun",
          "Sun",
          "Sun",
          "Sun",
          "Sun",
          "Sun",
          "Sun",
          "Sat",
          "Sat",
          "Sat",
          "Sat",
          "Sun",
          "Sun",
          "Sun",
          "Sun",
          "Sun",
          "Sun",
          "Sun",
          "Sun",
          "Sun",
          "Sun",
          "Sun",
          "Sun",
          "Sun",
          "Sun",
          "Sun",
          "Sun",
          "Sun",
          "Sun",
          "Sun",
          "Thur",
          "Thur",
          "Thur",
          "Thur",
          "Thur",
          "Thur",
          "Thur",
          "Thur",
          "Thur",
          "Thur",
          "Thur",
          "Thur",
          "Thur",
          "Thur",
          "Thur",
          "Sat",
          "Sat",
          "Sat",
          "Sat",
          "Sat",
          "Sat",
          "Sat",
          "Sat",
          "Sat",
          "Sat",
          "Sat",
          "Sat",
          "Sat",
          "Sat",
          "Fri",
          "Fri",
          "Fri",
          "Fri",
          "Fri",
          "Fri",
          "Fri",
          "Sat",
          "Sat",
          "Sat",
          "Sat",
          "Sat",
          "Sat",
          "Sat",
          "Sat",
          "Sat",
          "Sat",
          "Sat",
          "Sat",
          "Sat",
          "Sat",
          "Sat",
          "Sat",
          "Thur"
         ],
         "xaxis": "x",
         "y": [
          1.01,
          1.66,
          3.5,
          3.31,
          3.61,
          4.71,
          2,
          3.12,
          1.96,
          3.23,
          1.71,
          5,
          1.57,
          3,
          3.02,
          3.92,
          1.67,
          3.71,
          3.5,
          3.35,
          4.08,
          2.75,
          2.23,
          7.58,
          3.18,
          2.34,
          2,
          2,
          4.3,
          3,
          1.45,
          2.5,
          3,
          2.45,
          3.27,
          3.6,
          2,
          3.07,
          2.31,
          5,
          2.24,
          2.54,
          3.06,
          1.32,
          5.6,
          3,
          5,
          6,
          2.05,
          3,
          2.5,
          2.6,
          5.2,
          1.56,
          4.34,
          3.51,
          3,
          1.5,
          1.76,
          6.73,
          3.21,
          2,
          1.98,
          3.76,
          2.64,
          3.15,
          2.47,
          1,
          2.01,
          2.09,
          1.97,
          3,
          3.14,
          5,
          2.2,
          1.25,
          3.08,
          4,
          3,
          2.71,
          3,
          3.4,
          1.83,
          5,
          2.03,
          5.17,
          2,
          4,
          5.85,
          3,
          3,
          3.5,
          1,
          4.3,
          3.25,
          4.73,
          4,
          1.5,
          3,
          1.5,
          2.5,
          3,
          2.5,
          3.48,
          4.08,
          1.64,
          4.06,
          4.29,
          3.76,
          4,
          3,
          1,
          4,
          2.55,
          4,
          3.5,
          5.07,
          1.5,
          1.8,
          2.92,
          2.31,
          1.68,
          2.5,
          2,
          2.52,
          4.2,
          1.48,
          2,
          2,
          2.18,
          1.5,
          2.83,
          1.5,
          2,
          3.25,
          1.25,
          2,
          2,
          2,
          2.75,
          3.5,
          6.7,
          5,
          5,
          2.3,
          1.5,
          1.36,
          1.63,
          1.73,
          2,
          2.5,
          2,
          2.74,
          2,
          2,
          5.14,
          5,
          3.75,
          2.61,
          2,
          3.5,
          2.5,
          2,
          2,
          3,
          3.48,
          2.24,
          4.5,
          1.61,
          2,
          10,
          3.16,
          5.15,
          3.18,
          4,
          3.11,
          2,
          2,
          4,
          3.55,
          3.68,
          5.65,
          3.5,
          6.5,
          3,
          5,
          3.5,
          2,
          3.5,
          4,
          1.5,
          4.19,
          2.56,
          2.02,
          4,
          1.44,
          2,
          5,
          2,
          2,
          4,
          2.01,
          2,
          2.5,
          4,
          3.23,
          3.41,
          3,
          2.03,
          2.23,
          2,
          5.16,
          9,
          2.5,
          6.5,
          1.1,
          3,
          1.5,
          1.44,
          3.09,
          2.2,
          3.48,
          1.92,
          3,
          1.58,
          2.5,
          2,
          3,
          2.72,
          2.88,
          2,
          3,
          3.39,
          1.47,
          3,
          1.25,
          1,
          1.17,
          4.67,
          5.92,
          2,
          2,
          1.75,
          3
         ],
         "yaxis": "y"
        }
       ],
       "layout": {
        "barmode": "relative",
        "height": 300,
        "legend": {
         "tracegroupgap": 0
        },
        "margin": {
         "t": 60
        },
        "template": {
         "data": {
          "bar": [
           {
            "error_x": {
             "color": "#2a3f5f"
            },
            "error_y": {
             "color": "#2a3f5f"
            },
            "marker": {
             "line": {
              "color": "#E5ECF6",
              "width": 0.5
             }
            },
            "type": "bar"
           }
          ],
          "barpolar": [
           {
            "marker": {
             "line": {
              "color": "#E5ECF6",
              "width": 0.5
             }
            },
            "type": "barpolar"
           }
          ],
          "carpet": [
           {
            "aaxis": {
             "endlinecolor": "#2a3f5f",
             "gridcolor": "white",
             "linecolor": "white",
             "minorgridcolor": "white",
             "startlinecolor": "#2a3f5f"
            },
            "baxis": {
             "endlinecolor": "#2a3f5f",
             "gridcolor": "white",
             "linecolor": "white",
             "minorgridcolor": "white",
             "startlinecolor": "#2a3f5f"
            },
            "type": "carpet"
           }
          ],
          "choropleth": [
           {
            "colorbar": {
             "outlinewidth": 0,
             "ticks": ""
            },
            "type": "choropleth"
           }
          ],
          "contour": [
           {
            "colorbar": {
             "outlinewidth": 0,
             "ticks": ""
            },
            "colorscale": [
             [
              0,
              "#0d0887"
             ],
             [
              0.1111111111111111,
              "#46039f"
             ],
             [
              0.2222222222222222,
              "#7201a8"
             ],
             [
              0.3333333333333333,
              "#9c179e"
             ],
             [
              0.4444444444444444,
              "#bd3786"
             ],
             [
              0.5555555555555556,
              "#d8576b"
             ],
             [
              0.6666666666666666,
              "#ed7953"
             ],
             [
              0.7777777777777778,
              "#fb9f3a"
             ],
             [
              0.8888888888888888,
              "#fdca26"
             ],
             [
              1,
              "#f0f921"
             ]
            ],
            "type": "contour"
           }
          ],
          "contourcarpet": [
           {
            "colorbar": {
             "outlinewidth": 0,
             "ticks": ""
            },
            "type": "contourcarpet"
           }
          ],
          "heatmap": [
           {
            "colorbar": {
             "outlinewidth": 0,
             "ticks": ""
            },
            "colorscale": [
             [
              0,
              "#0d0887"
             ],
             [
              0.1111111111111111,
              "#46039f"
             ],
             [
              0.2222222222222222,
              "#7201a8"
             ],
             [
              0.3333333333333333,
              "#9c179e"
             ],
             [
              0.4444444444444444,
              "#bd3786"
             ],
             [
              0.5555555555555556,
              "#d8576b"
             ],
             [
              0.6666666666666666,
              "#ed7953"
             ],
             [
              0.7777777777777778,
              "#fb9f3a"
             ],
             [
              0.8888888888888888,
              "#fdca26"
             ],
             [
              1,
              "#f0f921"
             ]
            ],
            "type": "heatmap"
           }
          ],
          "heatmapgl": [
           {
            "colorbar": {
             "outlinewidth": 0,
             "ticks": ""
            },
            "colorscale": [
             [
              0,
              "#0d0887"
             ],
             [
              0.1111111111111111,
              "#46039f"
             ],
             [
              0.2222222222222222,
              "#7201a8"
             ],
             [
              0.3333333333333333,
              "#9c179e"
             ],
             [
              0.4444444444444444,
              "#bd3786"
             ],
             [
              0.5555555555555556,
              "#d8576b"
             ],
             [
              0.6666666666666666,
              "#ed7953"
             ],
             [
              0.7777777777777778,
              "#fb9f3a"
             ],
             [
              0.8888888888888888,
              "#fdca26"
             ],
             [
              1,
              "#f0f921"
             ]
            ],
            "type": "heatmapgl"
           }
          ],
          "histogram": [
           {
            "marker": {
             "colorbar": {
              "outlinewidth": 0,
              "ticks": ""
             }
            },
            "type": "histogram"
           }
          ],
          "histogram2d": [
           {
            "colorbar": {
             "outlinewidth": 0,
             "ticks": ""
            },
            "colorscale": [
             [
              0,
              "#0d0887"
             ],
             [
              0.1111111111111111,
              "#46039f"
             ],
             [
              0.2222222222222222,
              "#7201a8"
             ],
             [
              0.3333333333333333,
              "#9c179e"
             ],
             [
              0.4444444444444444,
              "#bd3786"
             ],
             [
              0.5555555555555556,
              "#d8576b"
             ],
             [
              0.6666666666666666,
              "#ed7953"
             ],
             [
              0.7777777777777778,
              "#fb9f3a"
             ],
             [
              0.8888888888888888,
              "#fdca26"
             ],
             [
              1,
              "#f0f921"
             ]
            ],
            "type": "histogram2d"
           }
          ],
          "histogram2dcontour": [
           {
            "colorbar": {
             "outlinewidth": 0,
             "ticks": ""
            },
            "colorscale": [
             [
              0,
              "#0d0887"
             ],
             [
              0.1111111111111111,
              "#46039f"
             ],
             [
              0.2222222222222222,
              "#7201a8"
             ],
             [
              0.3333333333333333,
              "#9c179e"
             ],
             [
              0.4444444444444444,
              "#bd3786"
             ],
             [
              0.5555555555555556,
              "#d8576b"
             ],
             [
              0.6666666666666666,
              "#ed7953"
             ],
             [
              0.7777777777777778,
              "#fb9f3a"
             ],
             [
              0.8888888888888888,
              "#fdca26"
             ],
             [
              1,
              "#f0f921"
             ]
            ],
            "type": "histogram2dcontour"
           }
          ],
          "mesh3d": [
           {
            "colorbar": {
             "outlinewidth": 0,
             "ticks": ""
            },
            "type": "mesh3d"
           }
          ],
          "parcoords": [
           {
            "line": {
             "colorbar": {
              "outlinewidth": 0,
              "ticks": ""
             }
            },
            "type": "parcoords"
           }
          ],
          "pie": [
           {
            "automargin": true,
            "type": "pie"
           }
          ],
          "scatter": [
           {
            "marker": {
             "colorbar": {
              "outlinewidth": 0,
              "ticks": ""
             }
            },
            "type": "scatter"
           }
          ],
          "scatter3d": [
           {
            "line": {
             "colorbar": {
              "outlinewidth": 0,
              "ticks": ""
             }
            },
            "marker": {
             "colorbar": {
              "outlinewidth": 0,
              "ticks": ""
             }
            },
            "type": "scatter3d"
           }
          ],
          "scattercarpet": [
           {
            "marker": {
             "colorbar": {
              "outlinewidth": 0,
              "ticks": ""
             }
            },
            "type": "scattercarpet"
           }
          ],
          "scattergeo": [
           {
            "marker": {
             "colorbar": {
              "outlinewidth": 0,
              "ticks": ""
             }
            },
            "type": "scattergeo"
           }
          ],
          "scattergl": [
           {
            "marker": {
             "colorbar": {
              "outlinewidth": 0,
              "ticks": ""
             }
            },
            "type": "scattergl"
           }
          ],
          "scattermapbox": [
           {
            "marker": {
             "colorbar": {
              "outlinewidth": 0,
              "ticks": ""
             }
            },
            "type": "scattermapbox"
           }
          ],
          "scatterpolar": [
           {
            "marker": {
             "colorbar": {
              "outlinewidth": 0,
              "ticks": ""
             }
            },
            "type": "scatterpolar"
           }
          ],
          "scatterpolargl": [
           {
            "marker": {
             "colorbar": {
              "outlinewidth": 0,
              "ticks": ""
             }
            },
            "type": "scatterpolargl"
           }
          ],
          "scatterternary": [
           {
            "marker": {
             "colorbar": {
              "outlinewidth": 0,
              "ticks": ""
             }
            },
            "type": "scatterternary"
           }
          ],
          "surface": [
           {
            "colorbar": {
             "outlinewidth": 0,
             "ticks": ""
            },
            "colorscale": [
             [
              0,
              "#0d0887"
             ],
             [
              0.1111111111111111,
              "#46039f"
             ],
             [
              0.2222222222222222,
              "#7201a8"
             ],
             [
              0.3333333333333333,
              "#9c179e"
             ],
             [
              0.4444444444444444,
              "#bd3786"
             ],
             [
              0.5555555555555556,
              "#d8576b"
             ],
             [
              0.6666666666666666,
              "#ed7953"
             ],
             [
              0.7777777777777778,
              "#fb9f3a"
             ],
             [
              0.8888888888888888,
              "#fdca26"
             ],
             [
              1,
              "#f0f921"
             ]
            ],
            "type": "surface"
           }
          ],
          "table": [
           {
            "cells": {
             "fill": {
              "color": "#EBF0F8"
             },
             "line": {
              "color": "white"
             }
            },
            "header": {
             "fill": {
              "color": "#C8D4E3"
             },
             "line": {
              "color": "white"
             }
            },
            "type": "table"
           }
          ]
         },
         "layout": {
          "annotationdefaults": {
           "arrowcolor": "#2a3f5f",
           "arrowhead": 0,
           "arrowwidth": 1
          },
          "autotypenumbers": "strict",
          "coloraxis": {
           "colorbar": {
            "outlinewidth": 0,
            "ticks": ""
           }
          },
          "colorscale": {
           "diverging": [
            [
             0,
             "#8e0152"
            ],
            [
             0.1,
             "#c51b7d"
            ],
            [
             0.2,
             "#de77ae"
            ],
            [
             0.3,
             "#f1b6da"
            ],
            [
             0.4,
             "#fde0ef"
            ],
            [
             0.5,
             "#f7f7f7"
            ],
            [
             0.6,
             "#e6f5d0"
            ],
            [
             0.7,
             "#b8e186"
            ],
            [
             0.8,
             "#7fbc41"
            ],
            [
             0.9,
             "#4d9221"
            ],
            [
             1,
             "#276419"
            ]
           ],
           "sequential": [
            [
             0,
             "#0d0887"
            ],
            [
             0.1111111111111111,
             "#46039f"
            ],
            [
             0.2222222222222222,
             "#7201a8"
            ],
            [
             0.3333333333333333,
             "#9c179e"
            ],
            [
             0.4444444444444444,
             "#bd3786"
            ],
            [
             0.5555555555555556,
             "#d8576b"
            ],
            [
             0.6666666666666666,
             "#ed7953"
            ],
            [
             0.7777777777777778,
             "#fb9f3a"
            ],
            [
             0.8888888888888888,
             "#fdca26"
            ],
            [
             1,
             "#f0f921"
            ]
           ],
           "sequentialminus": [
            [
             0,
             "#0d0887"
            ],
            [
             0.1111111111111111,
             "#46039f"
            ],
            [
             0.2222222222222222,
             "#7201a8"
            ],
            [
             0.3333333333333333,
             "#9c179e"
            ],
            [
             0.4444444444444444,
             "#bd3786"
            ],
            [
             0.5555555555555556,
             "#d8576b"
            ],
            [
             0.6666666666666666,
             "#ed7953"
            ],
            [
             0.7777777777777778,
             "#fb9f3a"
            ],
            [
             0.8888888888888888,
             "#fdca26"
            ],
            [
             1,
             "#f0f921"
            ]
           ]
          },
          "colorway": [
           "#636efa",
           "#EF553B",
           "#00cc96",
           "#ab63fa",
           "#FFA15A",
           "#19d3f3",
           "#FF6692",
           "#B6E880",
           "#FF97FF",
           "#FECB52"
          ],
          "font": {
           "color": "#2a3f5f"
          },
          "geo": {
           "bgcolor": "white",
           "lakecolor": "white",
           "landcolor": "#E5ECF6",
           "showlakes": true,
           "showland": true,
           "subunitcolor": "white"
          },
          "hoverlabel": {
           "align": "left"
          },
          "hovermode": "closest",
          "mapbox": {
           "style": "light"
          },
          "paper_bgcolor": "white",
          "plot_bgcolor": "#E5ECF6",
          "polar": {
           "angularaxis": {
            "gridcolor": "white",
            "linecolor": "white",
            "ticks": ""
           },
           "bgcolor": "#E5ECF6",
           "radialaxis": {
            "gridcolor": "white",
            "linecolor": "white",
            "ticks": ""
           }
          },
          "scene": {
           "xaxis": {
            "backgroundcolor": "#E5ECF6",
            "gridcolor": "white",
            "gridwidth": 2,
            "linecolor": "white",
            "showbackground": true,
            "ticks": "",
            "zerolinecolor": "white"
           },
           "yaxis": {
            "backgroundcolor": "#E5ECF6",
            "gridcolor": "white",
            "gridwidth": 2,
            "linecolor": "white",
            "showbackground": true,
            "ticks": "",
            "zerolinecolor": "white"
           },
           "zaxis": {
            "backgroundcolor": "#E5ECF6",
            "gridcolor": "white",
            "gridwidth": 2,
            "linecolor": "white",
            "showbackground": true,
            "ticks": "",
            "zerolinecolor": "white"
           }
          },
          "shapedefaults": {
           "line": {
            "color": "#2a3f5f"
           }
          },
          "ternary": {
           "aaxis": {
            "gridcolor": "white",
            "linecolor": "white",
            "ticks": ""
           },
           "baxis": {
            "gridcolor": "white",
            "linecolor": "white",
            "ticks": ""
           },
           "bgcolor": "#E5ECF6",
           "caxis": {
            "gridcolor": "white",
            "linecolor": "white",
            "ticks": ""
           }
          },
          "title": {
           "x": 0.05
          },
          "xaxis": {
           "automargin": true,
           "gridcolor": "white",
           "linecolor": "white",
           "ticks": "",
           "title": {
            "standoff": 15
           },
           "zerolinecolor": "white",
           "zerolinewidth": 2
          },
          "yaxis": {
           "automargin": true,
           "gridcolor": "white",
           "linecolor": "white",
           "ticks": "",
           "title": {
            "standoff": 15
           },
           "zerolinecolor": "white",
           "zerolinewidth": 2
          }
         }
        },
        "xaxis": {
         "anchor": "y",
         "domain": [
          0,
          1
         ],
         "title": {
          "text": "day"
         }
        },
        "yaxis": {
         "anchor": "x",
         "domain": [
          0,
          1
         ],
         "title": {
          "text": "sum of tip"
         }
        }
       }
      },
      "text/html": [
       "<div>                            <div id=\"215a57fc-521d-4c9e-9aa9-593405ac3971\" class=\"plotly-graph-div\" style=\"height:300px; width:100%;\"></div>            <script type=\"text/javascript\">                require([\"plotly\"], function(Plotly) {                    window.PLOTLYENV=window.PLOTLYENV || {};                                    if (document.getElementById(\"215a57fc-521d-4c9e-9aa9-593405ac3971\")) {                    Plotly.newPlot(                        \"215a57fc-521d-4c9e-9aa9-593405ac3971\",                        [{\"alignmentgroup\": \"True\", \"bingroup\": \"x\", \"histfunc\": \"sum\", \"hovertemplate\": \"day=%{x}<br>sum of tip=%{y}<extra></extra>\", \"legendgroup\": \"\", \"marker\": {\"color\": \"#636efa\"}, \"name\": \"\", \"offsetgroup\": \"\", \"orientation\": \"v\", \"showlegend\": false, \"type\": \"histogram\", \"x\": [\"Sun\", \"Sun\", \"Sun\", \"Sun\", \"Sun\", \"Sun\", \"Sun\", \"Sun\", \"Sun\", \"Sun\", \"Sun\", \"Sun\", \"Sun\", \"Sun\", \"Sun\", \"Sun\", \"Sun\", \"Sun\", \"Sun\", \"Sat\", \"Sat\", \"Sat\", \"Sat\", \"Sat\", \"Sat\", \"Sat\", \"Sat\", \"Sat\", \"Sat\", \"Sat\", \"Sat\", \"Sat\", \"Sat\", \"Sat\", \"Sat\", \"Sat\", \"Sat\", \"Sat\", \"Sat\", \"Sat\", \"Sat\", \"Sun\", \"Sun\", \"Sun\", \"Sun\", \"Sun\", \"Sun\", \"Sun\", \"Sun\", \"Sun\", \"Sun\", \"Sun\", \"Sun\", \"Sun\", \"Sun\", \"Sun\", \"Sat\", \"Sat\", \"Sat\", \"Sat\", \"Sat\", \"Sat\", \"Sat\", \"Sat\", \"Sat\", \"Sat\", \"Sat\", \"Sat\", \"Sat\", \"Sat\", \"Sat\", \"Sat\", \"Sat\", \"Sat\", \"Sat\", \"Sat\", \"Sat\", \"Thur\", \"Thur\", \"Thur\", \"Thur\", \"Thur\", \"Thur\", \"Thur\", \"Thur\", \"Thur\", \"Thur\", \"Thur\", \"Thur\", \"Thur\", \"Fri\", \"Fri\", \"Fri\", \"Fri\", \"Fri\", \"Fri\", \"Fri\", \"Fri\", \"Fri\", \"Fri\", \"Fri\", \"Fri\", \"Sat\", \"Sat\", \"Sat\", \"Sat\", \"Sat\", \"Sat\", \"Sat\", \"Sat\", \"Sat\", \"Sat\", \"Sun\", \"Sun\", \"Sun\", \"Sun\", \"Sun\", \"Thur\", \"Thur\", \"Thur\", \"Thur\", \"Thur\", \"Thur\", \"Thur\", \"Thur\", \"Thur\", \"Thur\", \"Thur\", \"Thur\", \"Thur\", \"Thur\", \"Thur\", \"Thur\", \"Thur\", \"Thur\", \"Thur\", \"Thur\", \"Thur\", \"Thur\", \"Thur\", \"Thur\", \"Thur\", \"Thur\", \"Thur\", \"Thur\", \"Thur\", \"Thur\", \"Thur\", \"Thur\", \"Thur\", \"Sun\", \"Sun\", \"Sun\", \"Sun\", \"Sun\", \"Sun\", \"Sun\", \"Sun\", \"Sun\", \"Sun\", \"Sun\", \"Sun\", \"Sun\", \"Sun\", \"Sun\", \"Sun\", \"Sun\", \"Sun\", \"Sat\", \"Sat\", \"Sat\", \"Sat\", \"Sun\", \"Sun\", \"Sun\", \"Sun\", \"Sun\", \"Sun\", \"Sun\", \"Sun\", \"Sun\", \"Sun\", \"Sun\", \"Sun\", \"Sun\", \"Sun\", \"Sun\", \"Sun\", \"Sun\", \"Sun\", \"Sun\", \"Thur\", \"Thur\", \"Thur\", \"Thur\", \"Thur\", \"Thur\", \"Thur\", \"Thur\", \"Thur\", \"Thur\", \"Thur\", \"Thur\", \"Thur\", \"Thur\", \"Thur\", \"Sat\", \"Sat\", \"Sat\", \"Sat\", \"Sat\", \"Sat\", \"Sat\", \"Sat\", \"Sat\", \"Sat\", \"Sat\", \"Sat\", \"Sat\", \"Sat\", \"Fri\", \"Fri\", \"Fri\", \"Fri\", \"Fri\", \"Fri\", \"Fri\", \"Sat\", \"Sat\", \"Sat\", \"Sat\", \"Sat\", \"Sat\", \"Sat\", \"Sat\", \"Sat\", \"Sat\", \"Sat\", \"Sat\", \"Sat\", \"Sat\", \"Sat\", \"Sat\", \"Thur\"], \"xaxis\": \"x\", \"y\": [1.01, 1.66, 3.5, 3.31, 3.61, 4.71, 2.0, 3.12, 1.96, 3.23, 1.71, 5.0, 1.57, 3.0, 3.02, 3.92, 1.67, 3.71, 3.5, 3.35, 4.08, 2.75, 2.23, 7.58, 3.18, 2.34, 2.0, 2.0, 4.3, 3.0, 1.45, 2.5, 3.0, 2.45, 3.27, 3.6, 2.0, 3.07, 2.31, 5.0, 2.24, 2.54, 3.06, 1.32, 5.6, 3.0, 5.0, 6.0, 2.05, 3.0, 2.5, 2.6, 5.2, 1.56, 4.34, 3.51, 3.0, 1.5, 1.76, 6.73, 3.21, 2.0, 1.98, 3.76, 2.64, 3.15, 2.47, 1.0, 2.01, 2.09, 1.97, 3.0, 3.14, 5.0, 2.2, 1.25, 3.08, 4.0, 3.0, 2.71, 3.0, 3.4, 1.83, 5.0, 2.03, 5.17, 2.0, 4.0, 5.85, 3.0, 3.0, 3.5, 1.0, 4.3, 3.25, 4.73, 4.0, 1.5, 3.0, 1.5, 2.5, 3.0, 2.5, 3.48, 4.08, 1.64, 4.06, 4.29, 3.76, 4.0, 3.0, 1.0, 4.0, 2.55, 4.0, 3.5, 5.07, 1.5, 1.8, 2.92, 2.31, 1.68, 2.5, 2.0, 2.52, 4.2, 1.48, 2.0, 2.0, 2.18, 1.5, 2.83, 1.5, 2.0, 3.25, 1.25, 2.0, 2.0, 2.0, 2.75, 3.5, 6.7, 5.0, 5.0, 2.3, 1.5, 1.36, 1.63, 1.73, 2.0, 2.5, 2.0, 2.74, 2.0, 2.0, 5.14, 5.0, 3.75, 2.61, 2.0, 3.5, 2.5, 2.0, 2.0, 3.0, 3.48, 2.24, 4.5, 1.61, 2.0, 10.0, 3.16, 5.15, 3.18, 4.0, 3.11, 2.0, 2.0, 4.0, 3.55, 3.68, 5.65, 3.5, 6.5, 3.0, 5.0, 3.5, 2.0, 3.5, 4.0, 1.5, 4.19, 2.56, 2.02, 4.0, 1.44, 2.0, 5.0, 2.0, 2.0, 4.0, 2.01, 2.0, 2.5, 4.0, 3.23, 3.41, 3.0, 2.03, 2.23, 2.0, 5.16, 9.0, 2.5, 6.5, 1.1, 3.0, 1.5, 1.44, 3.09, 2.2, 3.48, 1.92, 3.0, 1.58, 2.5, 2.0, 3.0, 2.72, 2.88, 2.0, 3.0, 3.39, 1.47, 3.0, 1.25, 1.0, 1.17, 4.67, 5.92, 2.0, 2.0, 1.75, 3.0], \"yaxis\": \"y\"}],                        {\"barmode\": \"relative\", \"height\": 300, \"legend\": {\"tracegroupgap\": 0}, \"margin\": {\"t\": 60}, \"template\": {\"data\": {\"bar\": [{\"error_x\": {\"color\": \"#2a3f5f\"}, \"error_y\": {\"color\": \"#2a3f5f\"}, \"marker\": {\"line\": {\"color\": \"#E5ECF6\", \"width\": 0.5}}, \"type\": \"bar\"}], \"barpolar\": [{\"marker\": {\"line\": {\"color\": \"#E5ECF6\", \"width\": 0.5}}, \"type\": \"barpolar\"}], \"carpet\": [{\"aaxis\": {\"endlinecolor\": \"#2a3f5f\", \"gridcolor\": \"white\", \"linecolor\": \"white\", \"minorgridcolor\": \"white\", \"startlinecolor\": \"#2a3f5f\"}, \"baxis\": {\"endlinecolor\": \"#2a3f5f\", \"gridcolor\": \"white\", \"linecolor\": \"white\", \"minorgridcolor\": \"white\", \"startlinecolor\": \"#2a3f5f\"}, \"type\": \"carpet\"}], \"choropleth\": [{\"colorbar\": {\"outlinewidth\": 0, \"ticks\": \"\"}, \"type\": \"choropleth\"}], \"contour\": [{\"colorbar\": {\"outlinewidth\": 0, \"ticks\": \"\"}, \"colorscale\": [[0.0, \"#0d0887\"], [0.1111111111111111, \"#46039f\"], [0.2222222222222222, \"#7201a8\"], [0.3333333333333333, \"#9c179e\"], [0.4444444444444444, \"#bd3786\"], [0.5555555555555556, \"#d8576b\"], [0.6666666666666666, \"#ed7953\"], [0.7777777777777778, \"#fb9f3a\"], [0.8888888888888888, \"#fdca26\"], [1.0, \"#f0f921\"]], \"type\": \"contour\"}], \"contourcarpet\": [{\"colorbar\": {\"outlinewidth\": 0, \"ticks\": \"\"}, \"type\": \"contourcarpet\"}], \"heatmap\": [{\"colorbar\": {\"outlinewidth\": 0, \"ticks\": \"\"}, \"colorscale\": [[0.0, \"#0d0887\"], [0.1111111111111111, \"#46039f\"], [0.2222222222222222, \"#7201a8\"], [0.3333333333333333, \"#9c179e\"], [0.4444444444444444, \"#bd3786\"], [0.5555555555555556, \"#d8576b\"], [0.6666666666666666, \"#ed7953\"], [0.7777777777777778, \"#fb9f3a\"], [0.8888888888888888, \"#fdca26\"], [1.0, \"#f0f921\"]], \"type\": \"heatmap\"}], \"heatmapgl\": [{\"colorbar\": {\"outlinewidth\": 0, \"ticks\": \"\"}, \"colorscale\": [[0.0, \"#0d0887\"], [0.1111111111111111, \"#46039f\"], [0.2222222222222222, \"#7201a8\"], [0.3333333333333333, \"#9c179e\"], [0.4444444444444444, \"#bd3786\"], [0.5555555555555556, \"#d8576b\"], [0.6666666666666666, \"#ed7953\"], [0.7777777777777778, \"#fb9f3a\"], [0.8888888888888888, \"#fdca26\"], [1.0, \"#f0f921\"]], \"type\": \"heatmapgl\"}], \"histogram\": [{\"marker\": {\"colorbar\": {\"outlinewidth\": 0, \"ticks\": \"\"}}, \"type\": \"histogram\"}], \"histogram2d\": [{\"colorbar\": {\"outlinewidth\": 0, \"ticks\": \"\"}, \"colorscale\": [[0.0, \"#0d0887\"], [0.1111111111111111, \"#46039f\"], [0.2222222222222222, \"#7201a8\"], [0.3333333333333333, \"#9c179e\"], [0.4444444444444444, \"#bd3786\"], [0.5555555555555556, \"#d8576b\"], [0.6666666666666666, \"#ed7953\"], [0.7777777777777778, \"#fb9f3a\"], [0.8888888888888888, \"#fdca26\"], [1.0, \"#f0f921\"]], \"type\": \"histogram2d\"}], \"histogram2dcontour\": [{\"colorbar\": {\"outlinewidth\": 0, \"ticks\": \"\"}, \"colorscale\": [[0.0, \"#0d0887\"], [0.1111111111111111, \"#46039f\"], [0.2222222222222222, \"#7201a8\"], [0.3333333333333333, \"#9c179e\"], [0.4444444444444444, \"#bd3786\"], [0.5555555555555556, \"#d8576b\"], [0.6666666666666666, \"#ed7953\"], [0.7777777777777778, \"#fb9f3a\"], [0.8888888888888888, \"#fdca26\"], [1.0, \"#f0f921\"]], \"type\": \"histogram2dcontour\"}], \"mesh3d\": [{\"colorbar\": {\"outlinewidth\": 0, \"ticks\": \"\"}, \"type\": \"mesh3d\"}], \"parcoords\": [{\"line\": {\"colorbar\": {\"outlinewidth\": 0, \"ticks\": \"\"}}, \"type\": \"parcoords\"}], \"pie\": [{\"automargin\": true, \"type\": \"pie\"}], \"scatter\": [{\"marker\": {\"colorbar\": {\"outlinewidth\": 0, \"ticks\": \"\"}}, \"type\": \"scatter\"}], \"scatter3d\": [{\"line\": {\"colorbar\": {\"outlinewidth\": 0, \"ticks\": \"\"}}, \"marker\": {\"colorbar\": {\"outlinewidth\": 0, \"ticks\": \"\"}}, \"type\": \"scatter3d\"}], \"scattercarpet\": [{\"marker\": {\"colorbar\": {\"outlinewidth\": 0, \"ticks\": \"\"}}, \"type\": \"scattercarpet\"}], \"scattergeo\": [{\"marker\": {\"colorbar\": {\"outlinewidth\": 0, \"ticks\": \"\"}}, \"type\": \"scattergeo\"}], \"scattergl\": [{\"marker\": {\"colorbar\": {\"outlinewidth\": 0, \"ticks\": \"\"}}, \"type\": \"scattergl\"}], \"scattermapbox\": [{\"marker\": {\"colorbar\": {\"outlinewidth\": 0, \"ticks\": \"\"}}, \"type\": \"scattermapbox\"}], \"scatterpolar\": [{\"marker\": {\"colorbar\": {\"outlinewidth\": 0, \"ticks\": \"\"}}, \"type\": \"scatterpolar\"}], \"scatterpolargl\": [{\"marker\": {\"colorbar\": {\"outlinewidth\": 0, \"ticks\": \"\"}}, \"type\": \"scatterpolargl\"}], \"scatterternary\": [{\"marker\": {\"colorbar\": {\"outlinewidth\": 0, \"ticks\": \"\"}}, \"type\": \"scatterternary\"}], \"surface\": [{\"colorbar\": {\"outlinewidth\": 0, \"ticks\": \"\"}, \"colorscale\": [[0.0, \"#0d0887\"], [0.1111111111111111, \"#46039f\"], [0.2222222222222222, \"#7201a8\"], [0.3333333333333333, \"#9c179e\"], [0.4444444444444444, \"#bd3786\"], [0.5555555555555556, \"#d8576b\"], [0.6666666666666666, \"#ed7953\"], [0.7777777777777778, \"#fb9f3a\"], [0.8888888888888888, \"#fdca26\"], [1.0, \"#f0f921\"]], \"type\": \"surface\"}], \"table\": [{\"cells\": {\"fill\": {\"color\": \"#EBF0F8\"}, \"line\": {\"color\": \"white\"}}, \"header\": {\"fill\": {\"color\": \"#C8D4E3\"}, \"line\": {\"color\": \"white\"}}, \"type\": \"table\"}]}, \"layout\": {\"annotationdefaults\": {\"arrowcolor\": \"#2a3f5f\", \"arrowhead\": 0, \"arrowwidth\": 1}, \"autotypenumbers\": \"strict\", \"coloraxis\": {\"colorbar\": {\"outlinewidth\": 0, \"ticks\": \"\"}}, \"colorscale\": {\"diverging\": [[0, \"#8e0152\"], [0.1, \"#c51b7d\"], [0.2, \"#de77ae\"], [0.3, \"#f1b6da\"], [0.4, \"#fde0ef\"], [0.5, \"#f7f7f7\"], [0.6, \"#e6f5d0\"], [0.7, \"#b8e186\"], [0.8, \"#7fbc41\"], [0.9, \"#4d9221\"], [1, \"#276419\"]], \"sequential\": [[0.0, \"#0d0887\"], [0.1111111111111111, \"#46039f\"], [0.2222222222222222, \"#7201a8\"], [0.3333333333333333, \"#9c179e\"], [0.4444444444444444, \"#bd3786\"], [0.5555555555555556, \"#d8576b\"], [0.6666666666666666, \"#ed7953\"], [0.7777777777777778, \"#fb9f3a\"], [0.8888888888888888, \"#fdca26\"], [1.0, \"#f0f921\"]], \"sequentialminus\": [[0.0, \"#0d0887\"], [0.1111111111111111, \"#46039f\"], [0.2222222222222222, \"#7201a8\"], [0.3333333333333333, \"#9c179e\"], [0.4444444444444444, \"#bd3786\"], [0.5555555555555556, \"#d8576b\"], [0.6666666666666666, \"#ed7953\"], [0.7777777777777778, \"#fb9f3a\"], [0.8888888888888888, \"#fdca26\"], [1.0, \"#f0f921\"]]}, \"colorway\": [\"#636efa\", \"#EF553B\", \"#00cc96\", \"#ab63fa\", \"#FFA15A\", \"#19d3f3\", \"#FF6692\", \"#B6E880\", \"#FF97FF\", \"#FECB52\"], \"font\": {\"color\": \"#2a3f5f\"}, \"geo\": {\"bgcolor\": \"white\", \"lakecolor\": \"white\", \"landcolor\": \"#E5ECF6\", \"showlakes\": true, \"showland\": true, \"subunitcolor\": \"white\"}, \"hoverlabel\": {\"align\": \"left\"}, \"hovermode\": \"closest\", \"mapbox\": {\"style\": \"light\"}, \"paper_bgcolor\": \"white\", \"plot_bgcolor\": \"#E5ECF6\", \"polar\": {\"angularaxis\": {\"gridcolor\": \"white\", \"linecolor\": \"white\", \"ticks\": \"\"}, \"bgcolor\": \"#E5ECF6\", \"radialaxis\": {\"gridcolor\": \"white\", \"linecolor\": \"white\", \"ticks\": \"\"}}, \"scene\": {\"xaxis\": {\"backgroundcolor\": \"#E5ECF6\", \"gridcolor\": \"white\", \"gridwidth\": 2, \"linecolor\": \"white\", \"showbackground\": true, \"ticks\": \"\", \"zerolinecolor\": \"white\"}, \"yaxis\": {\"backgroundcolor\": \"#E5ECF6\", \"gridcolor\": \"white\", \"gridwidth\": 2, \"linecolor\": \"white\", \"showbackground\": true, \"ticks\": \"\", \"zerolinecolor\": \"white\"}, \"zaxis\": {\"backgroundcolor\": \"#E5ECF6\", \"gridcolor\": \"white\", \"gridwidth\": 2, \"linecolor\": \"white\", \"showbackground\": true, \"ticks\": \"\", \"zerolinecolor\": \"white\"}}, \"shapedefaults\": {\"line\": {\"color\": \"#2a3f5f\"}}, \"ternary\": {\"aaxis\": {\"gridcolor\": \"white\", \"linecolor\": \"white\", \"ticks\": \"\"}, \"baxis\": {\"gridcolor\": \"white\", \"linecolor\": \"white\", \"ticks\": \"\"}, \"bgcolor\": \"#E5ECF6\", \"caxis\": {\"gridcolor\": \"white\", \"linecolor\": \"white\", \"ticks\": \"\"}}, \"title\": {\"x\": 0.05}, \"xaxis\": {\"automargin\": true, \"gridcolor\": \"white\", \"linecolor\": \"white\", \"ticks\": \"\", \"title\": {\"standoff\": 15}, \"zerolinecolor\": \"white\", \"zerolinewidth\": 2}, \"yaxis\": {\"automargin\": true, \"gridcolor\": \"white\", \"linecolor\": \"white\", \"ticks\": \"\", \"title\": {\"standoff\": 15}, \"zerolinecolor\": \"white\", \"zerolinewidth\": 2}}}, \"xaxis\": {\"anchor\": \"y\", \"domain\": [0.0, 1.0], \"title\": {\"text\": \"day\"}}, \"yaxis\": {\"anchor\": \"x\", \"domain\": [0.0, 1.0], \"title\": {\"text\": \"sum of tip\"}}},                        {\"responsive\": true}                    ).then(function(){\n",
       "                            \n",
       "var gd = document.getElementById('215a57fc-521d-4c9e-9aa9-593405ac3971');\n",
       "var x = new MutationObserver(function (mutations, observer) {{\n",
       "        var display = window.getComputedStyle(gd).display;\n",
       "        if (!display || display === 'none') {{\n",
       "            console.log([gd, 'removed!']);\n",
       "            Plotly.purge(gd);\n",
       "            observer.disconnect();\n",
       "        }}\n",
       "}});\n",
       "\n",
       "// Listen for the removal of the full notebook cells\n",
       "var notebookContainer = gd.closest('#notebook-container');\n",
       "if (notebookContainer) {{\n",
       "    x.observe(notebookContainer, {childList: true});\n",
       "}}\n",
       "\n",
       "// Listen for the clearing of the current output cell\n",
       "var outputEl = gd.closest('.output');\n",
       "if (outputEl) {{\n",
       "    x.observe(outputEl, {childList: true});\n",
       "}}\n",
       "\n",
       "                        })                };                });            </script>        </div>"
      ]
     },
     "metadata": {},
     "output_type": "display_data"
    }
   ],
   "source": [
    "# 바 차트와 히스토그램 비교\n",
    "fig1 = px.bar(tips, x='day', y='tip', height=300)\n",
    "fig1.show()\n",
    "fig2 = px.histogram(tips, x='day', y='tip', histfunc='sum', height=300)\n",
    "fig2.show()"
   ]
  },
  {
   "cell_type": "code",
   "execution_count": null,
   "metadata": {},
   "outputs": [],
   "source": []
  }
 ],
 "metadata": {
  "kernelspec": {
   "display_name": "Python 3",
   "language": "python",
   "name": "python3"
  },
  "language_info": {
   "codemirror_mode": {
    "name": "ipython",
    "version": 3
   },
   "file_extension": ".py",
   "mimetype": "text/x-python",
   "name": "python",
   "nbconvert_exporter": "python",
   "pygments_lexer": "ipython3",
   "version": "3.7.7"
  }
 },
 "nbformat": 4,
 "nbformat_minor": 4
}
